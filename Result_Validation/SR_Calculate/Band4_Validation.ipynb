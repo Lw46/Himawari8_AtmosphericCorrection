{
 "cells": [
  {
   "cell_type": "code",
   "execution_count": 1,
   "metadata": {},
   "outputs": [],
   "source": [
    "import numpy as np\n",
    "from Py6S import *\n",
    "import time as T\n",
    "from joblib import Parallel, delayed\n",
    "from scipy.interpolate import griddata,interpn,RegularGridInterpolator\n",
    "import math\n",
    "import os\n",
    "import datetime\n",
    "import cv2\n",
    "from ftplib import FTP\n",
    "import rioxarray\n",
    "import xarray as xr\n",
    "import multiprocessing\n",
    "import paramiko\n",
    "from scp import SCPClient\n",
    "import subprocess\n",
    "\n",
    "   \n",
    "class H8_data:\n",
    "\n",
    "    def __init__(self , account , pw , band , band_number , date):\n",
    "        self.account = account\n",
    "        self.pw = pw\n",
    "        self.band = band\n",
    "        self.band_number = band_number\n",
    "        self.date = date\n",
    "    \n",
    "    def get_path(self):\n",
    "        return '/data01/GEO/ORGDATA/H8AHI/hmwr829gr.cr.chiba-u.ac.jp/gridded/FD/V20151105/' + self.date[0:6] + '/' + self.band.upper() + '/'\n",
    "\n",
    "    def get_filename(self):\n",
    "        return self.date + \".\" + self.band + \".\" + self.band_number + \".fld.geoss.bz2\"\n",
    "    \n",
    "    def DN2TBB(self,data):\n",
    "        LUT=np.loadtxt('/media/liwei/Data/count2tbb_v102/' + self.band + \".\" + self.band_number)\n",
    "        return LUT[data,1]\n",
    "    \n",
    "    def file_path(self):\n",
    "        return self.get_path() + self.get_filename() \n",
    "                 \n",
    "    def download_H8data(self):\n",
    "        client = paramiko.SSHClient()\n",
    "        client.load_system_host_keys()\n",
    "        client.set_missing_host_key_policy(paramiko.AutoAddPolicy())\n",
    "        client.connect(hostname='10.4.123.47', port=22, username=self.account, password=self.pw)\n",
    "        scp = SCPClient(client.get_transport())\n",
    "        sftp = client.open_sftp()\n",
    "\n",
    "        try :\n",
    "            sftp.stat(self.file_path())\n",
    "\n",
    "        except FileNotFoundError:\n",
    "            print(\"File Not Found\")\n",
    "            return 'No data'\n",
    "\n",
    "        else:\n",
    "            scp.get(self.file_path(), folder_original+'/')\n",
    "            p = subprocess.Popen('lbzip2 -d {}{}'.format(folder_original+'/',self.file_path()[-33:]),shell=True)\n",
    "            p.communicate()\n",
    "            print ('Himawari8/AHI data Processed Finish')\n",
    "            return folder_original + '/' + self.get_filename()[:-4]\n",
    "            \n",
    "    def read_H8data(self):\n",
    "        H8_file_path = self.download_H8data()\n",
    "        if self.band == \"vis\":\n",
    "            sr = 12000\n",
    "        elif self.band == \"ext\":\n",
    "            sr = 24000\n",
    "        else:\n",
    "            sr = 6000\n",
    "        if H8_file_path != 'No data':\n",
    "            with open(H8_file_path,'rb') as fp:\n",
    "                data = np.frombuffer(fp.read(),dtype='>u2').reshape(sr,sr)\n",
    "                data = self.DN2TBB(data)\n",
    "                data = data/100\n",
    "\n",
    "            print(\"data reading finish\")\n",
    "            return data[row_u_AHI:row_u_AHI + row_AHI , col_l_AHI:col_l_AHI + col_AHI]\n",
    "        else:\n",
    "            return 'No data'\n",
    "        \n",
    "\n",
    "class JAXA_data:\n",
    "    def __init__(self,account,YYYY,MM,DD,HH):\n",
    "        self.account = account\n",
    "        self.YYYY = YYYY\n",
    "        self.MM = MM\n",
    "        self.DD = DD\n",
    "        self.HH = HH\n",
    "        \n",
    "    def download_JAXA(self):\n",
    "        ftp_addr = 'ftp.ptree.jaxa.jp'\n",
    "        f=FTP(ftp_addr)\n",
    "        f.login(self.account,'SP+wari8')\n",
    "        remote_filepath = '/pub/model/ARP/MS/bet/' + self.YYYY + self.MM + '/' + self.DD + '/'\n",
    "        f.cwd(remote_filepath)\n",
    "        list=f.nlst()\n",
    "        bufsize=1024\n",
    "        for name in list:\n",
    "            if name[13:17]== self.HH + '00':\n",
    "                data=open(folder_original + name ,'wb')\n",
    "                filename='RETR '+ name\n",
    "                f.retrbinary(filename,data.write,bufsize)\n",
    "                f.quit()\n",
    "                return folder_original + name\n",
    "    \n",
    "    def read_JAXA(self):\n",
    "        AOT_path = self.download_JAXA()\n",
    "        ds = xr.open_dataset(AOT_path)\n",
    "        \n",
    "        aot550=ds['od550aer']\n",
    "        AOT550=aot550.interp(lon=lon_y,lat=lat_x,method=\"nearest\")\n",
    "        AOT550=AOT550.values\n",
    "        AOT550[AOT550>=max(AOT)] = max(AOT)-(1/10000)\n",
    "        AOT550[AOT550<=min(AOT)] = min(AOT)+(1/10000)\n",
    "    \n",
    "        \n",
    "        bc = ds['od550bc'].interp(lon=lon_y,lat=lat_x,method=\"nearest\")\n",
    "        so4 = ds['od550so4'].interp(lon=lon_y,lat=lat_x,method=\"nearest\")\n",
    "        oa = ds['od550oa'].interp(lon=lon_y,lat=lat_x,method=\"nearest\")\n",
    "        dust = ds['od550dust'].interp(lon=lon_y,lat=lat_x,method=\"nearest\")\n",
    "        ss = ds['od550ss'].interp(lon=lon_y,lat=lat_x,method=\"nearest\")\n",
    "        \n",
    "        \n",
    "        DL_6S = np.array(dust).reshape(row_AHI,col_AHI)\n",
    "        SL_6S = np.array(so4).reshape(row_AHI,col_AHI) + np.array(bc).reshape(row_AHI,col_AHI)\n",
    "        OC_6S = np.array(ss).reshape(row_AHI,col_AHI)\n",
    "        WS_6S = np.array(oa).reshape(row_AHI,col_AHI)\n",
    "\n",
    "        Total = DL_6S + SL_6S + OC_6S + WS_6S\n",
    "\n",
    "        precent_DL_6S = DL_6S / Total\n",
    "        precent_SL_6S = SL_6S / Total\n",
    "        precent_OC_6S = OC_6S / Total\n",
    "        precent_WS_6S = WS_6S / Total\n",
    "        P = np.dstack((precent_DL_6S,precent_WS_6S,precent_OC_6S,precent_SL_6S))\n",
    "        \n",
    "        Aerosol_type = np.full((row_AHI,col_AHI),np.nan)\n",
    "        \n",
    "        for i in range(row_AHI):\n",
    "            for j in range(col_AHI):\n",
    "                if max(P[i,j,:]) == precent_OC_6S[i,j]:\n",
    "                    Aerosol_type[i,j] = 1\n",
    "                else:\n",
    "                    Aerosol_type[i,j] = 0\n",
    "                    \n",
    "        return np.array(AOT550).reshape(row_AHI,col_AHI),Aerosol_type\n",
    "\n",
    "class CAMS_data:\n",
    "    def __init__(self,MM,HH):\n",
    "        self.MM = MM\n",
    "        self.HH = HH\n",
    "        \n",
    "    def ATMO_time(self):\n",
    "        if int(self.HH)%3==0:\n",
    "            return HH\n",
    "        elif (int(self.HH)-1)%3==0:\n",
    "            return str(int(HH)-1).zfill(2)\n",
    "        elif int(self.HH)==23:\n",
    "            return str(21).zfill(2)\n",
    "        else:\n",
    "            return str(int(self.HH)+1).zfill(2)\n",
    "        \n",
    "    def read_CAMS(self):\n",
    "\n",
    "        ds_oz_wv = xr.open_dataset(CAMS_path + YYYY + self.MM + self.ATMO_time() + '.nc') \n",
    "        oz=ds_oz_wv['gtco3'][int(DD)-1,:,:]\n",
    "        OZ=oz.interp(longitude=lon_y,latitude=lat_x,method=\"nearest\")\n",
    "        OZ=OZ.values\n",
    "        wv=ds_oz_wv['tcwv'][int(DD)-1,:,:]\n",
    "        WV=wv.interp(longitude=lon_y,latitude=lat_x,method=\"nearest\")\n",
    "        WV=WV.values\n",
    "        \n",
    "#         Atmosphere data Unit conversion\n",
    "        WV = WV/10\n",
    "        OZ = OZ*46.6975764\n",
    "\n",
    "\n",
    "#         Processing water vapor and ozone max and min\n",
    "        OZ[OZ>=max(ozone)] = max(ozone)-(1/10000)\n",
    "        OZ[OZ<=min(ozone)] = min(ozone)+(1/10000)\n",
    "        WV[WV>=max(water)] = max(water)-(1/10000)\n",
    "        WV[WV<=min(water)] = min(water)+(1/10000)\n",
    "        return np.array(OZ).reshape(row_AHI,col_AHI),np.array(WV).reshape(row_AHI,col_AHI)\n",
    "\n",
    "def griddata_inter(X1,X2,X3,point,xi,yi,Aero,Water,Aot,Raa):\n",
    "    X1_new_inter=[]\n",
    "    X2_new_inter=[]\n",
    "    X3_new_inter=[]\n",
    "\n",
    "    X1_inter=X1[Aero,Water,Aot,:,:,Raa].reshape(17*17,1)\n",
    "    X2_inter=X2[Aero,Water,Aot,:,:,Raa].reshape(17*17,1)\n",
    "    X3_inter=X3[Aero,Water,Aot,:,:,Raa].reshape(17*17,1)\n",
    "\n",
    "    X1_new = griddata(point, X1_inter, (xi, yi), method='cubic')\n",
    "    X2_new = griddata(point, X2_inter, (xi, yi), method='cubic')\n",
    "    X3_new = griddata(point, X3_inter, (xi, yi), method='nearest')\n",
    "\n",
    "    X1_new_inter.append(X1_new)\n",
    "    X2_new_inter.append(X2_new)\n",
    "    X3_new_inter.append(X3_new)\n",
    "\n",
    "    del X1_inter,X2_inter,X3_inter,X1_new,X2_new,X3_new  \n",
    "    return X1_new_inter,X2_new_inter,X3_new_inter\n",
    "\n",
    "class LUT_interpolation:\n",
    "    def __init__(self,LUT_path):\n",
    "        self.LUT_path = LUT_path\n",
    "    \n",
    "    def LUT_interpolation(self):\n",
    "        Continental_X1 = np.loadtxt(self.LUT_path + \"Continental_01_band4.csv\",delimiter=\",\").reshape(8,12,17,17,19)\n",
    "        Continental_X2 = np.loadtxt(self.LUT_path + \"Continental_02_band4.csv\",delimiter=\",\").reshape(8,12,17,17,19)\n",
    "        Continental_X3 = np.loadtxt(self.LUT_path + \"Continental_03_band4.csv\",delimiter=\",\").reshape(8,12,17,17,19)\n",
    "        \n",
    "        Maritime_X1 = np.loadtxt(self.LUT_path + \"Maritime_01_band4.csv\",delimiter=\",\").reshape(8,12,17,17,19)\n",
    "        Maritime_X2 = np.loadtxt(self.LUT_path + \"Maritime_02_band4.csv\",delimiter=\",\").reshape(8,12,17,17,19)\n",
    "        Maritime_X3 = np.loadtxt(self.LUT_path + \"Maritime_03_band4.csv\",delimiter=\",\").reshape(8,12,17,17,19)\n",
    "\n",
    "        X1 = np.stack((Continental_X1,Maritime_X1))\n",
    "        X2 = np.stack((Continental_X2,Maritime_X2))\n",
    "        X3 = np.stack((Continental_X3,Maritime_X3))\n",
    "        \n",
    "        del Continental_X1,Maritime_X1,Continental_X2,Maritime_X2,Continental_X3,Maritime_X3\n",
    "\n",
    "        \n",
    "        point = np.array(np.meshgrid(sza, vza)).T.reshape(-1,2)\n",
    "        xi,yi=np.ogrid[0:80:161j, 0:80:161j]\n",
    "        output = Parallel(n_jobs=-1)(delayed(griddata_inter)(X1,X2,X3,point,xi,yi,Aero,Water,Aot,Raa)\\\n",
    "                                         for Aero in range(len(aero_type)) \n",
    "                                         for Water in range(len(water))                              \n",
    "                                         for Aot in range(len(AOT))                              \n",
    "                                         for Raa in range(len(raa)))\n",
    "\n",
    "        X1_new_inter_reshape=np.array(output)[:,0].reshape(2,8,12,19,161,161)\n",
    "        X2_new_inter_reshape=np.array(output)[:,1].reshape(2,8,12,19,161,161)\n",
    "        X3_new_inter_reshape=np.array(output)[:,2].reshape(2,8,12,19,161,161)\n",
    "\n",
    "        del X1,X2,X3,output\n",
    "\n",
    "        sza_new = np.linspace(0,80,161)\n",
    "        vza_new = np.linspace(0,80,161)\n",
    "\n",
    "        fn1 = RegularGridInterpolator((aero_type,water,AOT,raa,sza_new,vza_new),X1_new_inter_reshape,bounds_error=False,fill_value=np.nan)\n",
    "        fn2 = RegularGridInterpolator((aero_type,water,AOT,raa,sza_new,vza_new),X2_new_inter_reshape,bounds_error=False,fill_value=np.nan)\n",
    "        fn3 = RegularGridInterpolator((aero_type,water,AOT,raa,sza_new,vza_new),X3_new_inter_reshape,bounds_error=False,fill_value=np.nan)\n",
    "\n",
    "        return fn1,fn2,fn3\n",
    "        \n",
    "class AHI_angle:\n",
    "    def __init__(self,date,angle):\n",
    "        self.date = date\n",
    "        self.angle = angle\n",
    "        \n",
    "    def download_AHI_angle(self):\n",
    "\n",
    "        date1 = self.date[0:6]\n",
    "        date2 = self.date[0:8]\n",
    "        AHI_date = self.date\n",
    "        \n",
    "        sza_file_name = '{}.sun.zth.fld.4km.bin.bz2'.format(AHI_date)\n",
    "        saa_file_name = '{}.sun.azm.fld.4km.bin.bz2'.format(AHI_date)\n",
    "\n",
    "\n",
    "        if self.angle == 'sza':\n",
    "            if os.path.exists(folder_original + sza_file_name[:-4]):\n",
    "                return sza_file_name[:-4]\n",
    "\n",
    "            else:\n",
    "                ftp = FTP()\n",
    "                ftp.connect('hmwr829gr.cr.chiba-u.ac.jp', 21)\n",
    "                ftp.login()\n",
    "                path = '/gridded/FD/V20190123/{}/4KM/{}/'.format(date1,date2)\n",
    "                ftp.cwd(path)\n",
    "                remote_list=ftp.nlst()\n",
    "                bufsize=1024*1024\n",
    "                if sza_file_name in remote_list:\n",
    "                    data = open(folder_original + sza_file_name,'wb')\n",
    "                    filename='RETR '+ sza_file_name\n",
    "                    ftp.retrbinary(filename,data.write,bufsize)\n",
    "                    ftp.quit()\n",
    "\n",
    "                    return sza_file_name[:-4]\n",
    "                else:\n",
    "    #                 print('AHI NO DATA')\n",
    "                    return None\n",
    "\n",
    "        elif self.angle == 'saa':\n",
    "            if os.path.exists(folder_original + saa_file_name[:-4]):\n",
    "                return saa_file_name[:-4]\n",
    "\n",
    "            else:\n",
    "                ftp = FTP()\n",
    "                ftp.connect('hmwr829gr.cr.chiba-u.ac.jp', 21)\n",
    "                ftp.login()\n",
    "                path = '/gridded/FD/V20190123/{}/4KM/{}/'.format(date1,date2)\n",
    "                ftp.cwd(path)\n",
    "                remote_list=ftp.nlst()\n",
    "                bufsize=1024*1024\n",
    "                if saa_file_name in remote_list:\n",
    "                    data = open(folder_original + saa_file_name,'wb')\n",
    "                    filename='RETR '+ saa_file_name\n",
    "                    ftp.retrbinary(filename,data.write,bufsize)\n",
    "                    ftp.quit()\n",
    "                    return saa_file_name[:-4]\n",
    "                else:\n",
    "    #                 print('AHI NO DATA')\n",
    "                    return 'No data'\n",
    "    \n",
    "    def Decompression(self,fn):\n",
    "        if os.path.exists('{}.bz2'.format(folder_original + fn)):\n",
    "            p = subprocess.Popen('lbzip2 -d {}.bz2'.format(folder_original + fn),shell=True)\n",
    "            p.communicate()\n",
    "        \n",
    "        \n",
    "    def read_AHI_solar_angle(self):\n",
    "        return_code = self.download_AHI_angle()\n",
    "        if return_code != 'No data':\n",
    "            self.Decompression(return_code)\n",
    "            with open(folder_original + return_code, 'rb' ) as fp:\n",
    "                AHI_angle = np.frombuffer(fp.read(),dtype='>f4').reshape(3000,3000)[row_u_4KM:row_u_4KM + row_4KM , col_l_4KM:col_l_4KM + col_4KM]\n",
    "            AHI_angle=cv2.resize(np.array(AHI_angle,dtype='float64'),(row_AHI,col_AHI),interpolation=cv2.INTER_NEAREST)\n",
    "            return AHI_angle\n",
    "        else:\n",
    "            return 'No data'\n",
    "        \n",
    "\n",
    "def H8_Process(ACCOUNT,PW,Band,Band_number,Date):\n",
    "    data = H8_data(ACCOUNT,PW,Band,Band_number,Date).read_H8data()\n",
    "    return data\n",
    "\n",
    "    \n",
    "def JAXA_Process(ACCOUNT,YYYY,MM,DD,HH):\n",
    "    JAXA = JAXA_data(ACCOUNT,YYYY,MM,DD,HH)\n",
    "    AOT550,Aerosol_type = JAXA.read_JAXA()\n",
    "    return AOT550,Aerosol_type\n",
    "\n",
    "def AHI_angle_Process(date,angle):\n",
    "    Angle = AHI_angle(date,angle).read_AHI_solar_angle()\n",
    "    return Angle\n",
    "\n",
    "def remove_original_file(path):\n",
    "    subprocess.Popen('rm -rf {}'.format(path))\n",
    "    \n",
    "    \n",
    "def mkdir(path):\n",
    "    folder = os.path.exists(path) \n",
    "    if not folder:\n",
    "        os.makedirs(path)\n",
    "\n",
    "def calculate_6s_band4(i):\n",
    "    Aero_input = Aerosol_type[i,:]\n",
    "    WV_input = WV[i,:]\n",
    "    AOT550_input = AOT550[i,:]\n",
    "    RAA_input = RAA[i,:]\n",
    "    SZA_input = AHI_SZA[i,:]\n",
    "    view_zM_input = AHI_VZA[i,:]\n",
    "    xi = np.array([Aero_input,WV_input,AOT550_input,RAA_input,SZA_input,view_zM_input])\n",
    "    xi = xi.T\n",
    "    xa = fn1(xi)\n",
    "    xb = fn2(xi)\n",
    "    xc = fn3(xi)\n",
    "    y = xa * AHI_data[i,:]-xb\n",
    "    SR = y/(1+xc*y)\n",
    "    return SR"
   ]
  },
  {
   "cell_type": "code",
   "execution_count": 7,
   "metadata": {},
   "outputs": [],
   "source": [
    "#!/usr/bin/env python\n",
    "# coding: utf-8\n",
    "\n",
    "\n",
    "\n",
    "\n",
    "target ='/media/liwei/Data/AHI_AC_RESULT_Validation/'\n",
    "SZA_path = '/media/liwei/Data/Solar_zenith_angle/'\n",
    "SAZ_path = '/media/liwei/Data/Solar_azimuth_angle/'\n",
    "\n",
    "VZA_path = '/media/liwei/Data/AHI_Angle/AHI_VZA_10.dat'\n",
    "VAA_path = '/media/liwei/Data/AHI_Angle/AHI_VAA_10.dat'\n",
    "LUT_path = '/media/liwei/Data/LUT/'\n",
    "CAMS_path = '/media/liwei/Data/CAMS/'\n",
    "\n",
    "res = 0.01\n",
    "\n",
    "# site_name = 'ROI 1'A\n",
    "# site = [-38.5,177] # ROI 1\n",
    "\n",
    "\n",
    "# site_name = 'ROI 2'\n",
    "# site = [-44.5,170.5] # ROI 2\n",
    "\n",
    "# site_name = 'ROI 1 test2'\n",
    "# site = [-38.3,177] # ROI 1\n",
    "\n",
    "# site_name = 'ROI 1 test1'\n",
    "# site = [-37.9,177.8] # ROI 1\n",
    "\n",
    "\n",
    "# site_name = 'test 1'\n",
    "# site = [16.75,96.5] # ROI 1\n",
    "# tile = '0727'\n",
    "\n",
    "# site_name = 'ROI 3'\n",
    "# site = [27,96.5] # ROI 3\n",
    "\n",
    "# site_name = 'ROI 6'\n",
    "# site = [46,114]\n",
    "\n",
    "# site_name = 'ROI 7'\n",
    "# site = [35.328,99.052]\n",
    "\n",
    "site_name = 'ROI 8'\n",
    "site = [42.990,107.043]\n",
    "\n",
    "# site_name = 'ROI 9'\n",
    "# site = [41.7,104.6]\n",
    "\n",
    "# site_name = 'ROI 10'\n",
    "# site = [49.6,119.4]\n",
    "\n",
    "u_lat,d_lat = site[0]+0.06,site[0]-0.06\n",
    "l_lon,r_lon = site[1]-0.06,site[1]+0.06\n",
    "\n",
    "# u_lat,d_lat = 35,20\n",
    "# l_lon,r_lon = 85,100"
   ]
  },
  {
   "cell_type": "code",
   "execution_count": 8,
   "metadata": {},
   "outputs": [],
   "source": [
    "\n",
    "\n",
    "sza = np.linspace(0,80,17)\n",
    "vza = np.linspace(0,80,17)\n",
    "water = np.linspace(0,7,8)\n",
    "ozone = np.linspace(0.2,0.4,5)\n",
    "AOT = np.array([0.01,0.05,0.1,0.15,0.2,0.3,0.4,0.6,0.8,1.0,1.5,2.0])\n",
    "raa = np.linspace(0,180,19)\n",
    "aero_type = np.array([0,1])\n",
    "\n",
    "row_AHI = round((u_lat - d_lat) / res)\n",
    "col_AHI = round((r_lon - l_lon) / res)\n",
    "\n",
    "row_u_AHI = round((60 - u_lat)/res)\n",
    "col_l_AHI = round((l_lon - 85)/res)\n",
    "\n",
    "\n",
    "lat_x = np.linspace(u_lat,d_lat + res,row_AHI)\n",
    "lon_y = np.linspace(l_lon,r_lon - res,col_AHI)\n",
    "\n",
    "\n",
    "row_4KM = round((u_lat - d_lat) / 0.04)\n",
    "col_4KM = round((r_lon - l_lon) / 0.04)\n",
    "\n",
    "row_u_4KM = round((60 - u_lat)/0.04)\n",
    "col_l_4KM = round((l_lon - 85)/0.04)\n",
    "\n",
    "fn1,fn2,fn3 = LUT_interpolation(LUT_path).LUT_interpolation()\n",
    "\n",
    "with open(VZA_path,'rb') as fp:\n",
    "    AHI_VZA = np.frombuffer(fp.read()).reshape(12000,12000)[row_u_AHI:row_u_AHI + row_AHI , col_l_AHI:col_l_AHI + col_AHI]\n",
    "with open(VAA_path,'rb') as fp:\n",
    "    AHI_VAA = np.frombuffer(fp.read()).reshape(12000,12000)[row_u_AHI:row_u_AHI + row_AHI , col_l_AHI:col_l_AHI + col_AHI]\n"
   ]
  },
  {
   "cell_type": "code",
   "execution_count": 9,
   "metadata": {},
   "outputs": [],
   "source": [
    "d_ahi = []\n",
    "with open(\"/home/liwei/Himawari_SGLI/{}_2020_PL.txt\".format(site_name), \"r\") as f:\n",
    "    for line in f.readlines():\n",
    "        line = line.strip('\\n') \n",
    "        if line[0:8] == 'AHI TIME':\n",
    "            ahi = [line[9:13],line[14:16],line[17:19],line[20:22],line[23:25]]\n",
    "            \n",
    "            d_ahi.append(\"\".join(ahi))\n",
    "with open(\"/home/liwei/Himawari_SGLI/{}_2021_PL.txt\".format(site_name), \"r\") as f:\n",
    "    for line in f.readlines():\n",
    "        line = line.strip('\\n') \n",
    "        if line[0:8] == 'AHI TIME':\n",
    "            ahi = [line[9:13],line[14:16],line[17:19],line[20:22],line[23:25]]\n",
    "            \n",
    "            d_ahi.append(\"\".join(ahi))"
   ]
  },
  {
   "cell_type": "code",
   "execution_count": 10,
   "metadata": {},
   "outputs": [
    {
     "name": "stdout",
     "output_type": "stream",
     "text": [
      "ftp://hmwr829gr.cr.chiba-u.ac.jp/gridded/FD/V20190123/202007/VIS/202007020410.vis.03.fld.geoss.bz2\n"
     ]
    },
    {
     "name": "stderr",
     "output_type": "stream",
     "text": [
      "lbzip2: skipping \"/home/liwei/Downloads/202007020410.vis.03.fld.geoss.bz2\": open(\"/home/liwei/Downloads/202007020410.vis.03.fld.geoss\"): File exists\n"
     ]
    },
    {
     "name": "stdout",
     "output_type": "stream",
     "text": [
      "ftp://hmwr829gr.cr.chiba-u.ac.jp/gridded/FD/V20190123/202007/VIS/202007130420.vis.03.fld.geoss.bz2\n"
     ]
    },
    {
     "name": "stderr",
     "output_type": "stream",
     "text": [
      "lbzip2: skipping \"/home/liwei/Downloads/202007130420.vis.03.fld.geoss.bz2\": open(\"/home/liwei/Downloads/202007130420.vis.03.fld.geoss\"): File exists\n"
     ]
    },
    {
     "name": "stdout",
     "output_type": "stream",
     "text": [
      "ftp://hmwr829gr.cr.chiba-u.ac.jp/gridded/FD/V20190123/202007/VIS/202007170410.vis.03.fld.geoss.bz2\n"
     ]
    },
    {
     "name": "stderr",
     "output_type": "stream",
     "text": [
      "lbzip2: skipping \"/home/liwei/Downloads/202007170410.vis.03.fld.geoss.bz2\": open(\"/home/liwei/Downloads/202007170410.vis.03.fld.geoss\"): File exists\n"
     ]
    },
    {
     "name": "stdout",
     "output_type": "stream",
     "text": [
      "ftp://hmwr829gr.cr.chiba-u.ac.jp/gridded/FD/V20190123/202007/VIS/202007210410.vis.03.fld.geoss.bz2\n"
     ]
    },
    {
     "name": "stderr",
     "output_type": "stream",
     "text": [
      "lbzip2: skipping \"/home/liwei/Downloads/202007210410.vis.03.fld.geoss.bz2\": open(\"/home/liwei/Downloads/202007210410.vis.03.fld.geoss\"): File exists\n"
     ]
    },
    {
     "name": "stdout",
     "output_type": "stream",
     "text": [
      "ftp://hmwr829gr.cr.chiba-u.ac.jp/gridded/FD/V20190123/202008/VIS/202008010410.vis.03.fld.geoss.bz2\n"
     ]
    },
    {
     "name": "stderr",
     "output_type": "stream",
     "text": [
      "lbzip2: skipping \"/home/liwei/Downloads/202008010410.vis.03.fld.geoss.bz2\": open(\"/home/liwei/Downloads/202008010410.vis.03.fld.geoss\"): File exists\n"
     ]
    },
    {
     "name": "stdout",
     "output_type": "stream",
     "text": [
      "ftp://hmwr829gr.cr.chiba-u.ac.jp/gridded/FD/V20190123/202008/VIS/202008050410.vis.03.fld.geoss.bz2\n"
     ]
    },
    {
     "name": "stderr",
     "output_type": "stream",
     "text": [
      "lbzip2: skipping \"/home/liwei/Downloads/202008050410.vis.03.fld.geoss.bz2\": open(\"/home/liwei/Downloads/202008050410.vis.03.fld.geoss\"): File exists\n"
     ]
    },
    {
     "name": "stdout",
     "output_type": "stream",
     "text": [
      "ftp://hmwr829gr.cr.chiba-u.ac.jp/gridded/FD/V20190123/202008/VIS/202008160350.vis.03.fld.geoss.bz2\n",
      "ftp://hmwr829gr.cr.chiba-u.ac.jp/gridded/FD/V20190123/202008/VIS/202008200400.vis.03.fld.geoss.bz2\n",
      "ftp://hmwr829gr.cr.chiba-u.ac.jp/gridded/FD/V20190123/202008/VIS/202008240400.vis.03.fld.geoss.bz2\n"
     ]
    },
    {
     "name": "stderr",
     "output_type": "stream",
     "text": [
      "lbzip2: skipping \"/home/liwei/Downloads/202008240400.vis.03.fld.geoss.bz2\": open(\"/home/liwei/Downloads/202008240400.vis.03.fld.geoss\"): File exists\n"
     ]
    },
    {
     "name": "stdout",
     "output_type": "stream",
     "text": [
      "ftp://hmwr829gr.cr.chiba-u.ac.jp/gridded/FD/V20190123/202009/VIS/202009080340.vis.03.fld.geoss.bz2\n"
     ]
    },
    {
     "name": "stderr",
     "output_type": "stream",
     "text": [
      "lbzip2: skipping \"/home/liwei/Downloads/202009080340.vis.03.fld.geoss.bz2\": open(\"/home/liwei/Downloads/202009080340.vis.03.fld.geoss\"): File exists\n"
     ]
    },
    {
     "name": "stdout",
     "output_type": "stream",
     "text": [
      "ftp://hmwr829gr.cr.chiba-u.ac.jp/gridded/FD/V20190123/202102/VIS/202102250350.vis.03.fld.geoss.bz2\n",
      "ftp://hmwr829gr.cr.chiba-u.ac.jp/gridded/FD/V20190123/202103/VIS/202103120340.vis.03.fld.geoss.bz2\n"
     ]
    },
    {
     "name": "stderr",
     "output_type": "stream",
     "text": [
      "lbzip2: skipping \"/home/liwei/Downloads/202103120340.vis.03.fld.geoss.bz2\": open(\"/home/liwei/Downloads/202103120340.vis.03.fld.geoss\"): File exists\n"
     ]
    },
    {
     "name": "stdout",
     "output_type": "stream",
     "text": [
      "ftp://hmwr829gr.cr.chiba-u.ac.jp/gridded/FD/V20190123/202103/VIS/202103160330.vis.03.fld.geoss.bz2\n",
      "ftp://hmwr829gr.cr.chiba-u.ac.jp/gridded/FD/V20190123/202103/VIS/202103270340.vis.03.fld.geoss.bz2\n"
     ]
    },
    {
     "name": "stderr",
     "output_type": "stream",
     "text": [
      "lbzip2: skipping \"/home/liwei/Downloads/202103270340.vis.03.fld.geoss.bz2\": open(\"/home/liwei/Downloads/202103270340.vis.03.fld.geoss\"): File exists\n"
     ]
    },
    {
     "name": "stdout",
     "output_type": "stream",
     "text": [
      "ftp://hmwr829gr.cr.chiba-u.ac.jp/gridded/FD/V20190123/202103/VIS/202103310400.vis.03.fld.geoss.bz2\n"
     ]
    },
    {
     "name": "stderr",
     "output_type": "stream",
     "text": [
      "lbzip2: skipping \"/home/liwei/Downloads/202103310400.vis.03.fld.geoss.bz2\": open(\"/home/liwei/Downloads/202103310400.vis.03.fld.geoss\"): File exists\n"
     ]
    },
    {
     "name": "stdout",
     "output_type": "stream",
     "text": [
      "ftp://hmwr829gr.cr.chiba-u.ac.jp/gridded/FD/V20190123/202104/VIS/202104150400.vis.03.fld.geoss.bz2\n",
      "ftp://hmwr829gr.cr.chiba-u.ac.jp/gridded/FD/V20190123/202104/VIS/202104300350.vis.03.fld.geoss.bz2\n"
     ]
    },
    {
     "name": "stderr",
     "output_type": "stream",
     "text": [
      "lbzip2: skipping \"/home/liwei/Downloads/202104300350.vis.03.fld.geoss.bz2\": open(\"/home/liwei/Downloads/202104300350.vis.03.fld.geoss\"): File exists\n"
     ]
    },
    {
     "name": "stdout",
     "output_type": "stream",
     "text": [
      "ftp://hmwr829gr.cr.chiba-u.ac.jp/gridded/FD/V20190123/202105/VIS/202105040400.vis.03.fld.geoss.bz2\n"
     ]
    },
    {
     "name": "stderr",
     "output_type": "stream",
     "text": [
      "lbzip2: skipping \"/home/liwei/Downloads/202105040400.vis.03.fld.geoss.bz2\": open(\"/home/liwei/Downloads/202105040400.vis.03.fld.geoss\"): File exists\n"
     ]
    },
    {
     "name": "stdout",
     "output_type": "stream",
     "text": [
      "ftp://hmwr829gr.cr.chiba-u.ac.jp/gridded/FD/V20190123/202105/VIS/202105150400.vis.03.fld.geoss.bz2\n",
      "ftp://hmwr829gr.cr.chiba-u.ac.jp/gridded/FD/V20190123/202105/VIS/202105190400.vis.03.fld.geoss.bz2\n"
     ]
    },
    {
     "name": "stderr",
     "output_type": "stream",
     "text": [
      "lbzip2: skipping \"/home/liwei/Downloads/202105190400.vis.03.fld.geoss.bz2\": open(\"/home/liwei/Downloads/202105190400.vis.03.fld.geoss\"): File exists\n"
     ]
    },
    {
     "name": "stdout",
     "output_type": "stream",
     "text": [
      "ftp://hmwr829gr.cr.chiba-u.ac.jp/gridded/FD/V20190123/202106/VIS/202106030400.vis.03.fld.geoss.bz2\n"
     ]
    },
    {
     "name": "stderr",
     "output_type": "stream",
     "text": [
      "lbzip2: skipping \"/home/liwei/Downloads/202106030400.vis.03.fld.geoss.bz2\": open(\"/home/liwei/Downloads/202106030400.vis.03.fld.geoss\"): File exists\n"
     ]
    },
    {
     "name": "stdout",
     "output_type": "stream",
     "text": [
      "ftp://hmwr829gr.cr.chiba-u.ac.jp/gridded/FD/V20190123/202106/VIS/202106070410.vis.03.fld.geoss.bz2\n"
     ]
    },
    {
     "name": "stderr",
     "output_type": "stream",
     "text": [
      "lbzip2: skipping \"/home/liwei/Downloads/202106070410.vis.03.fld.geoss.bz2\": open(\"/home/liwei/Downloads/202106070410.vis.03.fld.geoss\"): File exists\n"
     ]
    },
    {
     "name": "stdout",
     "output_type": "stream",
     "text": [
      "ftp://hmwr829gr.cr.chiba-u.ac.jp/gridded/FD/V20190123/202106/VIS/202106180410.vis.03.fld.geoss.bz2\n"
     ]
    },
    {
     "name": "stderr",
     "output_type": "stream",
     "text": [
      "lbzip2: skipping \"/home/liwei/Downloads/202106180410.vis.03.fld.geoss.bz2\": open(\"/home/liwei/Downloads/202106180410.vis.03.fld.geoss\"): File exists\n"
     ]
    },
    {
     "name": "stdout",
     "output_type": "stream",
     "text": [
      "ftp://hmwr829gr.cr.chiba-u.ac.jp/gridded/FD/V20190123/202106/VIS/202106220410.vis.03.fld.geoss.bz2\n"
     ]
    },
    {
     "name": "stderr",
     "output_type": "stream",
     "text": [
      "lbzip2: skipping \"/home/liwei/Downloads/202106220410.vis.03.fld.geoss.bz2\": open(\"/home/liwei/Downloads/202106220410.vis.03.fld.geoss\"): File exists\n"
     ]
    }
   ],
   "source": [
    "from ftplib import FTP\n",
    "import subprocess\n",
    "\n",
    "if __name__ == \"__main__\":\n",
    "    ws = '/home/liwei/Downloads/2015'\n",
    "    for date in d_ahi:\n",
    "        ahi_data_time = date\n",
    "        ahi_data_folder1 = ahi_data_time[:6]\n",
    "        ahi_data_folder2 = ahi_data_folder1[:8]\n",
    "        ahi_saa_filename = ahi_data_time + '.vis.03.fld.geoss.bz2'\n",
    "        ahi_saa_path = '/gridded/FD/V20151105/' + ahi_data_folder1 + '/VIS/' + ahi_saa_filename\n",
    "        ftp_dl_url = 'ftp://hmwr829gr.cr.chiba-u.ac.jp' + ahi_saa_path\n",
    "        print(ftp_dl_url)\n",
    "        ftp = FTP()\n",
    "        ftp.connect('hmwr829gr.cr.chiba-u.ac.jp', 21)\n",
    "        ftp.login()\n",
    "        local_file = ws + '/' + ahi_saa_filename\n",
    "        with open(local_file, 'wb') as f:\n",
    "            ftp.retrbinary('RETR ' + ahi_saa_path, f.write, 1024*1024)\n",
    "        p = subprocess.Popen('lbzip2 -d {}'.format(local_file),shell=True)\n",
    "        p.communicate()    \n",
    "        \n",
    "    ftp.close()"
   ]
  },
  {
   "cell_type": "code",
   "execution_count": 11,
   "metadata": {
    "scrolled": true
   },
   "outputs": [
    {
     "name": "stdout",
     "output_type": "stream",
     "text": [
      "start processing 202007020410\n"
     ]
    },
    {
     "name": "stderr",
     "output_type": "stream",
     "text": [
      "/tmp/ipykernel_2428059/604121366.py:32: FutureWarning: elementwise comparison failed; returning scalar instead, but in the future will perform elementwise comparison\n",
      "  if AHI_SZA == 'No data' or AHI_SAA == 'No data':\n"
     ]
    },
    {
     "name": "stdout",
     "output_type": "stream",
     "text": [
      "time: 5.1 secs, 0.1 mins,0.0 hours\n",
      "delete file finish\n",
      "start processing 202007130420\n"
     ]
    },
    {
     "name": "stderr",
     "output_type": "stream",
     "text": [
      "/tmp/ipykernel_2428059/604121366.py:32: FutureWarning: elementwise comparison failed; returning scalar instead, but in the future will perform elementwise comparison\n",
      "  if AHI_SZA == 'No data' or AHI_SAA == 'No data':\n"
     ]
    },
    {
     "name": "stdout",
     "output_type": "stream",
     "text": [
      "time: 4.5 secs, 0.1 mins,0.0 hours\n",
      "delete file finish\n",
      "start processing 202007170410\n"
     ]
    },
    {
     "name": "stderr",
     "output_type": "stream",
     "text": [
      "/tmp/ipykernel_2428059/604121366.py:32: FutureWarning: elementwise comparison failed; returning scalar instead, but in the future will perform elementwise comparison\n",
      "  if AHI_SZA == 'No data' or AHI_SAA == 'No data':\n"
     ]
    },
    {
     "name": "stdout",
     "output_type": "stream",
     "text": [
      "time: 3.9 secs, 0.1 mins,0.0 hours\n",
      "delete file finish\n",
      "start processing 202007210410\n"
     ]
    },
    {
     "name": "stderr",
     "output_type": "stream",
     "text": [
      "/tmp/ipykernel_2428059/604121366.py:32: FutureWarning: elementwise comparison failed; returning scalar instead, but in the future will perform elementwise comparison\n",
      "  if AHI_SZA == 'No data' or AHI_SAA == 'No data':\n"
     ]
    },
    {
     "name": "stdout",
     "output_type": "stream",
     "text": [
      "time: 2.8 secs, 0.0 mins,0.0 hours\n",
      "delete file finish\n",
      "start processing 202008010410\n"
     ]
    },
    {
     "name": "stderr",
     "output_type": "stream",
     "text": [
      "/tmp/ipykernel_2428059/604121366.py:32: FutureWarning: elementwise comparison failed; returning scalar instead, but in the future will perform elementwise comparison\n",
      "  if AHI_SZA == 'No data' or AHI_SAA == 'No data':\n"
     ]
    },
    {
     "name": "stdout",
     "output_type": "stream",
     "text": [
      "time: 3.6 secs, 0.1 mins,0.0 hours\n",
      "delete file finish\n",
      "start processing 202008050410\n"
     ]
    },
    {
     "name": "stderr",
     "output_type": "stream",
     "text": [
      "/tmp/ipykernel_2428059/604121366.py:32: FutureWarning: elementwise comparison failed; returning scalar instead, but in the future will perform elementwise comparison\n",
      "  if AHI_SZA == 'No data' or AHI_SAA == 'No data':\n"
     ]
    },
    {
     "name": "stdout",
     "output_type": "stream",
     "text": [
      "time: 2.8 secs, 0.0 mins,0.0 hours\n",
      "delete file finish\n",
      "start processing 202008160350\n"
     ]
    },
    {
     "name": "stderr",
     "output_type": "stream",
     "text": [
      "/tmp/ipykernel_2428059/604121366.py:32: FutureWarning: elementwise comparison failed; returning scalar instead, but in the future will perform elementwise comparison\n",
      "  if AHI_SZA == 'No data' or AHI_SAA == 'No data':\n"
     ]
    },
    {
     "name": "stdout",
     "output_type": "stream",
     "text": [
      "time: 9.8 secs, 0.2 mins,0.0 hours\n",
      "delete file finish\n",
      "start processing 202008200400\n"
     ]
    },
    {
     "name": "stderr",
     "output_type": "stream",
     "text": [
      "/tmp/ipykernel_2428059/604121366.py:32: FutureWarning: elementwise comparison failed; returning scalar instead, but in the future will perform elementwise comparison\n",
      "  if AHI_SZA == 'No data' or AHI_SAA == 'No data':\n"
     ]
    },
    {
     "name": "stdout",
     "output_type": "stream",
     "text": [
      "time: 9.6 secs, 0.2 mins,0.0 hours\n",
      "delete file finish\n",
      "start processing 202008240400\n"
     ]
    },
    {
     "name": "stderr",
     "output_type": "stream",
     "text": [
      "/tmp/ipykernel_2428059/604121366.py:32: FutureWarning: elementwise comparison failed; returning scalar instead, but in the future will perform elementwise comparison\n",
      "  if AHI_SZA == 'No data' or AHI_SAA == 'No data':\n"
     ]
    },
    {
     "name": "stdout",
     "output_type": "stream",
     "text": [
      "time: 3.4 secs, 0.1 mins,0.0 hours\n",
      "delete file finish\n",
      "start processing 202009080340\n"
     ]
    },
    {
     "name": "stderr",
     "output_type": "stream",
     "text": [
      "/tmp/ipykernel_2428059/604121366.py:32: FutureWarning: elementwise comparison failed; returning scalar instead, but in the future will perform elementwise comparison\n",
      "  if AHI_SZA == 'No data' or AHI_SAA == 'No data':\n"
     ]
    },
    {
     "name": "stdout",
     "output_type": "stream",
     "text": [
      "time: 3.0 secs, 0.1 mins,0.0 hours\n",
      "delete file finish\n",
      "start processing 202102250350\n"
     ]
    },
    {
     "name": "stderr",
     "output_type": "stream",
     "text": [
      "/tmp/ipykernel_2428059/604121366.py:32: FutureWarning: elementwise comparison failed; returning scalar instead, but in the future will perform elementwise comparison\n",
      "  if AHI_SZA == 'No data' or AHI_SAA == 'No data':\n"
     ]
    },
    {
     "name": "stdout",
     "output_type": "stream",
     "text": [
      "time: 8.9 secs, 0.1 mins,0.0 hours\n",
      "delete file finish\n",
      "start processing 202103120340\n"
     ]
    },
    {
     "name": "stderr",
     "output_type": "stream",
     "text": [
      "/tmp/ipykernel_2428059/604121366.py:32: FutureWarning: elementwise comparison failed; returning scalar instead, but in the future will perform elementwise comparison\n",
      "  if AHI_SZA == 'No data' or AHI_SAA == 'No data':\n"
     ]
    },
    {
     "name": "stdout",
     "output_type": "stream",
     "text": [
      "time: 3.1 secs, 0.1 mins,0.0 hours\n",
      "delete file finish\n",
      "start processing 202103160330\n"
     ]
    },
    {
     "name": "stderr",
     "output_type": "stream",
     "text": [
      "/tmp/ipykernel_2428059/604121366.py:32: FutureWarning: elementwise comparison failed; returning scalar instead, but in the future will perform elementwise comparison\n",
      "  if AHI_SZA == 'No data' or AHI_SAA == 'No data':\n"
     ]
    },
    {
     "name": "stdout",
     "output_type": "stream",
     "text": [
      "time: 9.2 secs, 0.2 mins,0.0 hours\n",
      "delete file finish\n",
      "start processing 202103270340\n"
     ]
    },
    {
     "name": "stderr",
     "output_type": "stream",
     "text": [
      "/tmp/ipykernel_2428059/604121366.py:32: FutureWarning: elementwise comparison failed; returning scalar instead, but in the future will perform elementwise comparison\n",
      "  if AHI_SZA == 'No data' or AHI_SAA == 'No data':\n"
     ]
    },
    {
     "name": "stdout",
     "output_type": "stream",
     "text": [
      "time: 3.1 secs, 0.1 mins,0.0 hours\n",
      "delete file finish\n",
      "start processing 202103310400\n"
     ]
    },
    {
     "name": "stderr",
     "output_type": "stream",
     "text": [
      "/tmp/ipykernel_2428059/604121366.py:32: FutureWarning: elementwise comparison failed; returning scalar instead, but in the future will perform elementwise comparison\n",
      "  if AHI_SZA == 'No data' or AHI_SAA == 'No data':\n"
     ]
    },
    {
     "name": "stdout",
     "output_type": "stream",
     "text": [
      "time: 3.1 secs, 0.1 mins,0.0 hours\n",
      "delete file finish\n",
      "start processing 202104150400\n"
     ]
    },
    {
     "name": "stderr",
     "output_type": "stream",
     "text": [
      "/tmp/ipykernel_2428059/604121366.py:32: FutureWarning: elementwise comparison failed; returning scalar instead, but in the future will perform elementwise comparison\n",
      "  if AHI_SZA == 'No data' or AHI_SAA == 'No data':\n"
     ]
    },
    {
     "name": "stdout",
     "output_type": "stream",
     "text": [
      "time: 9.1 secs, 0.2 mins,0.0 hours\n",
      "delete file finish\n",
      "start processing 202104300350\n"
     ]
    },
    {
     "name": "stderr",
     "output_type": "stream",
     "text": [
      "/tmp/ipykernel_2428059/604121366.py:32: FutureWarning: elementwise comparison failed; returning scalar instead, but in the future will perform elementwise comparison\n",
      "  if AHI_SZA == 'No data' or AHI_SAA == 'No data':\n"
     ]
    },
    {
     "name": "stdout",
     "output_type": "stream",
     "text": [
      "time: 3.8 secs, 0.1 mins,0.0 hours\n",
      "delete file finish\n",
      "start processing 202105040400\n"
     ]
    },
    {
     "name": "stderr",
     "output_type": "stream",
     "text": [
      "/tmp/ipykernel_2428059/604121366.py:32: FutureWarning: elementwise comparison failed; returning scalar instead, but in the future will perform elementwise comparison\n",
      "  if AHI_SZA == 'No data' or AHI_SAA == 'No data':\n"
     ]
    },
    {
     "name": "stdout",
     "output_type": "stream",
     "text": [
      "time: 3.3 secs, 0.1 mins,0.0 hours\n",
      "delete file finish\n",
      "start processing 202105150400\n"
     ]
    },
    {
     "name": "stderr",
     "output_type": "stream",
     "text": [
      "/tmp/ipykernel_2428059/604121366.py:32: FutureWarning: elementwise comparison failed; returning scalar instead, but in the future will perform elementwise comparison\n",
      "  if AHI_SZA == 'No data' or AHI_SAA == 'No data':\n"
     ]
    },
    {
     "name": "stdout",
     "output_type": "stream",
     "text": [
      "time: 9.8 secs, 0.2 mins,0.0 hours\n",
      "delete file finish\n",
      "start processing 202105190400\n"
     ]
    },
    {
     "name": "stderr",
     "output_type": "stream",
     "text": [
      "/tmp/ipykernel_2428059/604121366.py:32: FutureWarning: elementwise comparison failed; returning scalar instead, but in the future will perform elementwise comparison\n",
      "  if AHI_SZA == 'No data' or AHI_SAA == 'No data':\n"
     ]
    },
    {
     "name": "stdout",
     "output_type": "stream",
     "text": [
      "time: 7.3 secs, 0.1 mins,0.0 hours\n",
      "delete file finish\n",
      "start processing 202106030400\n"
     ]
    },
    {
     "name": "stderr",
     "output_type": "stream",
     "text": [
      "/tmp/ipykernel_2428059/604121366.py:32: FutureWarning: elementwise comparison failed; returning scalar instead, but in the future will perform elementwise comparison\n",
      "  if AHI_SZA == 'No data' or AHI_SAA == 'No data':\n"
     ]
    },
    {
     "name": "stdout",
     "output_type": "stream",
     "text": [
      "time: 3.7 secs, 0.1 mins,0.0 hours\n",
      "delete file finish\n",
      "start processing 202106070410\n"
     ]
    },
    {
     "name": "stderr",
     "output_type": "stream",
     "text": [
      "/tmp/ipykernel_2428059/604121366.py:32: FutureWarning: elementwise comparison failed; returning scalar instead, but in the future will perform elementwise comparison\n",
      "  if AHI_SZA == 'No data' or AHI_SAA == 'No data':\n"
     ]
    },
    {
     "name": "stdout",
     "output_type": "stream",
     "text": [
      "time: 3.4 secs, 0.1 mins,0.0 hours\n",
      "delete file finish\n",
      "start processing 202106180410\n"
     ]
    },
    {
     "name": "stderr",
     "output_type": "stream",
     "text": [
      "/tmp/ipykernel_2428059/604121366.py:32: FutureWarning: elementwise comparison failed; returning scalar instead, but in the future will perform elementwise comparison\n",
      "  if AHI_SZA == 'No data' or AHI_SAA == 'No data':\n"
     ]
    },
    {
     "name": "stdout",
     "output_type": "stream",
     "text": [
      "time: 3.5 secs, 0.1 mins,0.0 hours\n",
      "delete file finish\n",
      "start processing 202106220410\n"
     ]
    },
    {
     "name": "stderr",
     "output_type": "stream",
     "text": [
      "/tmp/ipykernel_2428059/604121366.py:32: FutureWarning: elementwise comparison failed; returning scalar instead, but in the future will perform elementwise comparison\n",
      "  if AHI_SZA == 'No data' or AHI_SAA == 'No data':\n"
     ]
    },
    {
     "name": "stdout",
     "output_type": "stream",
     "text": [
      "time: 3.5 secs, 0.1 mins,0.0 hours\n",
      "delete file finish\n"
     ]
    }
   ],
   "source": [
    "\n",
    "def DN2TBB(data):\n",
    "    LUT=np.loadtxt('/media/liwei/Data/count2tbb_v102/vis.03')\n",
    "    return LUT[data,1]\n",
    "\n",
    "for date in d_ahi:\n",
    "    YYYY = date[0:4]\n",
    "    MM = date[4:6]\n",
    "    DD = date[6:8]\n",
    "    HH = date[8:10]\n",
    "    MIN = date[10:12]\n",
    "    start_time = T.time()\n",
    "    time = HH + MIN\n",
    "\n",
    "    print(\"start processing {}\".format(date))\n",
    "    # make dir\n",
    "    folder_original = target+date+'_original/'\n",
    "    folder_AC = target+date+'_AC/'\n",
    "    mkdir(folder_original)\n",
    "    mkdir(folder_AC)\n",
    "    # Download AHI\n",
    "    with open('/home/liwei/Downloads/{}.vis.03.fld.geoss'.format(date),'rb') as fp:\n",
    "        data = np.frombuffer(fp.read(),dtype='>u2').reshape(12000,12000)\n",
    "        data = DN2TBB(data)\n",
    "        data = data/100\n",
    "        \n",
    "    AHI_data = data[row_u_AHI:row_u_AHI + row_AHI , col_l_AHI:col_l_AHI + col_AHI]\n",
    "\n",
    "        # Solar angle\n",
    "    AHI_SZA = AHI_angle_Process(date,'sza')\n",
    "    AHI_SAA = AHI_angle_Process(date,'saa')\n",
    "\n",
    "    if AHI_SZA == 'No data' or AHI_SAA == 'No data':\n",
    "        continue\n",
    "    RAA = abs(AHI_SAA - AHI_VAA)\n",
    "    RAA[RAA>180]=360-RAA[RAA>180]\n",
    "\n",
    "    AOT550,Aerosol_type = JAXA_Process('liwei1997_chiba-u.jp',YYYY,MM,DD,HH)\n",
    "    OZ,WV = CAMS_data(MM,HH).read_CAMS()\n",
    "\n",
    "    SR = Parallel(n_jobs=-1)(delayed(calculate_6s_band4)(i) for i in range(row_AHI))\n",
    "    # Save file and remove download input data\n",
    "    SR=np.array(SR).reshape(row_AHI,col_AHI)\n",
    "    SR_file=open(folder_AC+'/'+date+'_'+site_name+'_b04.dat','wb')\n",
    "    SR.astype('f4').tofile(SR_file)\n",
    "    SR_file.close()\n",
    "#                 remove_original_file(folder_original)\n",
    "    end_time=T.time()\n",
    "    TIME=end_time-start_time\n",
    "    print('time: {:.1f} secs, {:.1f} mins,{:.1f} hours'.format(TIME,TIME/60,TIME/3600))\n",
    "    print(\"delete file finish\")\n",
    "                    \n",
    "                    \n",
    "                    "
   ]
  },
  {
   "cell_type": "code",
   "execution_count": 12,
   "metadata": {},
   "outputs": [
    {
     "name": "stdout",
     "output_type": "stream",
     "text": [
      "ftp://hmwr829gr.cr.chiba-u.ac.jp/gridded/FD/V20190123/202007/EXT/202007020410.ext.01.fld.geoss.bz2\n"
     ]
    },
    {
     "name": "stderr",
     "output_type": "stream",
     "text": [
      "lbzip2: skipping \"/home/liwei/Downloads/202007020410.ext.01.fld.geoss.bz2\": open(\"/home/liwei/Downloads/202007020410.ext.01.fld.geoss\"): File exists\n"
     ]
    },
    {
     "name": "stdout",
     "output_type": "stream",
     "text": [
      "ftp://hmwr829gr.cr.chiba-u.ac.jp/gridded/FD/V20190123/202007/EXT/202007130420.ext.01.fld.geoss.bz2\n"
     ]
    },
    {
     "name": "stderr",
     "output_type": "stream",
     "text": [
      "lbzip2: skipping \"/home/liwei/Downloads/202007130420.ext.01.fld.geoss.bz2\": open(\"/home/liwei/Downloads/202007130420.ext.01.fld.geoss\"): File exists\n"
     ]
    },
    {
     "name": "stdout",
     "output_type": "stream",
     "text": [
      "ftp://hmwr829gr.cr.chiba-u.ac.jp/gridded/FD/V20190123/202007/EXT/202007170410.ext.01.fld.geoss.bz2\n"
     ]
    },
    {
     "name": "stderr",
     "output_type": "stream",
     "text": [
      "lbzip2: skipping \"/home/liwei/Downloads/202007170410.ext.01.fld.geoss.bz2\": open(\"/home/liwei/Downloads/202007170410.ext.01.fld.geoss\"): File exists\n"
     ]
    },
    {
     "name": "stdout",
     "output_type": "stream",
     "text": [
      "ftp://hmwr829gr.cr.chiba-u.ac.jp/gridded/FD/V20190123/202007/EXT/202007210410.ext.01.fld.geoss.bz2\n"
     ]
    },
    {
     "name": "stderr",
     "output_type": "stream",
     "text": [
      "lbzip2: skipping \"/home/liwei/Downloads/202007210410.ext.01.fld.geoss.bz2\": open(\"/home/liwei/Downloads/202007210410.ext.01.fld.geoss\"): File exists\n"
     ]
    },
    {
     "name": "stdout",
     "output_type": "stream",
     "text": [
      "ftp://hmwr829gr.cr.chiba-u.ac.jp/gridded/FD/V20190123/202008/EXT/202008010410.ext.01.fld.geoss.bz2\n"
     ]
    },
    {
     "name": "stderr",
     "output_type": "stream",
     "text": [
      "lbzip2: skipping \"/home/liwei/Downloads/202008010410.ext.01.fld.geoss.bz2\": open(\"/home/liwei/Downloads/202008010410.ext.01.fld.geoss\"): File exists\n"
     ]
    },
    {
     "name": "stdout",
     "output_type": "stream",
     "text": [
      "ftp://hmwr829gr.cr.chiba-u.ac.jp/gridded/FD/V20190123/202008/EXT/202008050410.ext.01.fld.geoss.bz2\n"
     ]
    },
    {
     "name": "stderr",
     "output_type": "stream",
     "text": [
      "lbzip2: skipping \"/home/liwei/Downloads/202008050410.ext.01.fld.geoss.bz2\": open(\"/home/liwei/Downloads/202008050410.ext.01.fld.geoss\"): File exists\n"
     ]
    },
    {
     "name": "stdout",
     "output_type": "stream",
     "text": [
      "ftp://hmwr829gr.cr.chiba-u.ac.jp/gridded/FD/V20190123/202008/EXT/202008160350.ext.01.fld.geoss.bz2\n",
      "ftp://hmwr829gr.cr.chiba-u.ac.jp/gridded/FD/V20190123/202008/EXT/202008200400.ext.01.fld.geoss.bz2\n",
      "ftp://hmwr829gr.cr.chiba-u.ac.jp/gridded/FD/V20190123/202008/EXT/202008240400.ext.01.fld.geoss.bz2\n"
     ]
    },
    {
     "name": "stderr",
     "output_type": "stream",
     "text": [
      "lbzip2: skipping \"/home/liwei/Downloads/202008240400.ext.01.fld.geoss.bz2\": open(\"/home/liwei/Downloads/202008240400.ext.01.fld.geoss\"): File exists\n"
     ]
    },
    {
     "name": "stdout",
     "output_type": "stream",
     "text": [
      "ftp://hmwr829gr.cr.chiba-u.ac.jp/gridded/FD/V20190123/202009/EXT/202009080340.ext.01.fld.geoss.bz2\n"
     ]
    },
    {
     "name": "stderr",
     "output_type": "stream",
     "text": [
      "lbzip2: skipping \"/home/liwei/Downloads/202009080340.ext.01.fld.geoss.bz2\": open(\"/home/liwei/Downloads/202009080340.ext.01.fld.geoss\"): File exists\n"
     ]
    },
    {
     "name": "stdout",
     "output_type": "stream",
     "text": [
      "ftp://hmwr829gr.cr.chiba-u.ac.jp/gridded/FD/V20190123/202102/EXT/202102250350.ext.01.fld.geoss.bz2\n",
      "ftp://hmwr829gr.cr.chiba-u.ac.jp/gridded/FD/V20190123/202103/EXT/202103120340.ext.01.fld.geoss.bz2\n"
     ]
    },
    {
     "name": "stderr",
     "output_type": "stream",
     "text": [
      "lbzip2: skipping \"/home/liwei/Downloads/202103120340.ext.01.fld.geoss.bz2\": open(\"/home/liwei/Downloads/202103120340.ext.01.fld.geoss\"): File exists\n"
     ]
    },
    {
     "name": "stdout",
     "output_type": "stream",
     "text": [
      "ftp://hmwr829gr.cr.chiba-u.ac.jp/gridded/FD/V20190123/202103/EXT/202103160330.ext.01.fld.geoss.bz2\n",
      "ftp://hmwr829gr.cr.chiba-u.ac.jp/gridded/FD/V20190123/202103/EXT/202103270340.ext.01.fld.geoss.bz2\n"
     ]
    },
    {
     "name": "stderr",
     "output_type": "stream",
     "text": [
      "lbzip2: skipping \"/home/liwei/Downloads/202103270340.ext.01.fld.geoss.bz2\": open(\"/home/liwei/Downloads/202103270340.ext.01.fld.geoss\"): File exists\n"
     ]
    },
    {
     "name": "stdout",
     "output_type": "stream",
     "text": [
      "ftp://hmwr829gr.cr.chiba-u.ac.jp/gridded/FD/V20190123/202103/EXT/202103310400.ext.01.fld.geoss.bz2\n"
     ]
    },
    {
     "name": "stderr",
     "output_type": "stream",
     "text": [
      "lbzip2: skipping \"/home/liwei/Downloads/202103310400.ext.01.fld.geoss.bz2\": open(\"/home/liwei/Downloads/202103310400.ext.01.fld.geoss\"): File exists\n"
     ]
    },
    {
     "name": "stdout",
     "output_type": "stream",
     "text": [
      "ftp://hmwr829gr.cr.chiba-u.ac.jp/gridded/FD/V20190123/202104/EXT/202104150400.ext.01.fld.geoss.bz2\n",
      "ftp://hmwr829gr.cr.chiba-u.ac.jp/gridded/FD/V20190123/202104/EXT/202104300350.ext.01.fld.geoss.bz2\n"
     ]
    },
    {
     "name": "stderr",
     "output_type": "stream",
     "text": [
      "lbzip2: skipping \"/home/liwei/Downloads/202104300350.ext.01.fld.geoss.bz2\": open(\"/home/liwei/Downloads/202104300350.ext.01.fld.geoss\"): File exists\n"
     ]
    },
    {
     "name": "stdout",
     "output_type": "stream",
     "text": [
      "ftp://hmwr829gr.cr.chiba-u.ac.jp/gridded/FD/V20190123/202105/EXT/202105040400.ext.01.fld.geoss.bz2\n"
     ]
    },
    {
     "name": "stderr",
     "output_type": "stream",
     "text": [
      "lbzip2: skipping \"/home/liwei/Downloads/202105040400.ext.01.fld.geoss.bz2\": open(\"/home/liwei/Downloads/202105040400.ext.01.fld.geoss\"): File exists\n"
     ]
    },
    {
     "name": "stdout",
     "output_type": "stream",
     "text": [
      "ftp://hmwr829gr.cr.chiba-u.ac.jp/gridded/FD/V20190123/202105/EXT/202105150400.ext.01.fld.geoss.bz2\n",
      "ftp://hmwr829gr.cr.chiba-u.ac.jp/gridded/FD/V20190123/202105/EXT/202105190400.ext.01.fld.geoss.bz2\n"
     ]
    },
    {
     "name": "stderr",
     "output_type": "stream",
     "text": [
      "lbzip2: skipping \"/home/liwei/Downloads/202105190400.ext.01.fld.geoss.bz2\": open(\"/home/liwei/Downloads/202105190400.ext.01.fld.geoss\"): File exists\n"
     ]
    },
    {
     "name": "stdout",
     "output_type": "stream",
     "text": [
      "ftp://hmwr829gr.cr.chiba-u.ac.jp/gridded/FD/V20190123/202106/EXT/202106030400.ext.01.fld.geoss.bz2\n"
     ]
    },
    {
     "name": "stderr",
     "output_type": "stream",
     "text": [
      "lbzip2: skipping \"/home/liwei/Downloads/202106030400.ext.01.fld.geoss.bz2\": open(\"/home/liwei/Downloads/202106030400.ext.01.fld.geoss\"): File exists\n"
     ]
    },
    {
     "name": "stdout",
     "output_type": "stream",
     "text": [
      "ftp://hmwr829gr.cr.chiba-u.ac.jp/gridded/FD/V20190123/202106/EXT/202106070410.ext.01.fld.geoss.bz2\n"
     ]
    },
    {
     "name": "stderr",
     "output_type": "stream",
     "text": [
      "lbzip2: skipping \"/home/liwei/Downloads/202106070410.ext.01.fld.geoss.bz2\": open(\"/home/liwei/Downloads/202106070410.ext.01.fld.geoss\"): File exists\n"
     ]
    },
    {
     "name": "stdout",
     "output_type": "stream",
     "text": [
      "ftp://hmwr829gr.cr.chiba-u.ac.jp/gridded/FD/V20190123/202106/EXT/202106180410.ext.01.fld.geoss.bz2\n"
     ]
    },
    {
     "name": "stderr",
     "output_type": "stream",
     "text": [
      "lbzip2: skipping \"/home/liwei/Downloads/202106180410.ext.01.fld.geoss.bz2\": open(\"/home/liwei/Downloads/202106180410.ext.01.fld.geoss\"): File exists\n"
     ]
    },
    {
     "name": "stdout",
     "output_type": "stream",
     "text": [
      "ftp://hmwr829gr.cr.chiba-u.ac.jp/gridded/FD/V20190123/202106/EXT/202106220410.ext.01.fld.geoss.bz2\n"
     ]
    },
    {
     "name": "stderr",
     "output_type": "stream",
     "text": [
      "lbzip2: skipping \"/home/liwei/Downloads/202106220410.ext.01.fld.geoss.bz2\": open(\"/home/liwei/Downloads/202106220410.ext.01.fld.geoss\"): File exists\n"
     ]
    }
   ],
   "source": [
    "from ftplib import FTP\n",
    "import subprocess\n",
    "if __name__ == \"__main__\":\n",
    "    ws = '/home/liwei/Downloads'\n",
    "    for date in d_ahi:\n",
    "        ahi_data_time = date\n",
    "        ahi_data_folder1 = ahi_data_time[:6]\n",
    "        ahi_data_folder2 = ahi_data_folder1[:8]\n",
    "        ahi_saa_filename = ahi_data_time + '.ext.01.fld.geoss.bz2'\n",
    "        ahi_saa_path = '/gridded/FD/V20190123/' + ahi_data_folder1 + '/EXT/' + ahi_saa_filename\n",
    "        ftp_dl_url = 'ftp://hmwr829gr.cr.chiba-u.ac.jp' + ahi_saa_path\n",
    "        print(ftp_dl_url)\n",
    "        ftp = FTP()\n",
    "        ftp.connect('hmwr829gr.cr.chiba-u.ac.jp', 21)\n",
    "        ftp.login()\n",
    "        local_file = ws + '/' + ahi_saa_filename\n",
    "        with open(local_file, 'wb') as f:\n",
    "            ftp.retrbinary('RETR ' + ahi_saa_path, f.write, 1024*1024)\n",
    "        p = subprocess.Popen('lbzip2 -d {}'.format(local_file),shell=True)\n",
    "        p.communicate()    \n",
    "        \n",
    "    ftp.close()"
   ]
  },
  {
   "cell_type": "code",
   "execution_count": null,
   "metadata": {},
   "outputs": [],
   "source": []
  }
 ],
 "metadata": {
  "kernelspec": {
   "display_name": "Python 3",
   "language": "python",
   "name": "python3"
  },
  "language_info": {
   "codemirror_mode": {
    "name": "ipython",
    "version": 3
   },
   "file_extension": ".py",
   "mimetype": "text/x-python",
   "name": "python",
   "nbconvert_exporter": "python",
   "pygments_lexer": "ipython3",
   "version": "3.8.2"
  }
 },
 "nbformat": 4,
 "nbformat_minor": 4
}
