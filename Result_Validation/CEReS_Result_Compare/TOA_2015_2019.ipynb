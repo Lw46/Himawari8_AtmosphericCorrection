{
 "cells": [
  {
   "cell_type": "code",
   "execution_count": 1,
   "id": "7279933f-7aba-48b2-bcf9-a3a1160a708e",
   "metadata": {},
   "outputs": [],
   "source": [
    "import numpy as np\n",
    "import time as T\n",
    "from joblib import Parallel, delayed\n",
    "from scipy.interpolate import griddata,interpn,RegularGridInterpolator\n",
    "import math\n",
    "import os\n",
    "import datetime\n",
    "import cv2\n",
    "from ftplib import FTP\n",
    "import rioxarray\n",
    "import xarray as xr\n",
    "import paramiko\n",
    "from scp import SCPClient\n",
    "import subprocess\n",
    "import datetime as dt"
   ]
  },
  {
   "cell_type": "code",
   "execution_count": 2,
   "id": "1a7612a1-7ba9-48bc-898e-325363bcc614",
   "metadata": {},
   "outputs": [],
   "source": [
    "class H8_data:\n",
    "    def __init__(self , account , pw , band , band_number , date):\n",
    "        self.account = account\n",
    "        self.pw = pw\n",
    "        self.band = band\n",
    "        self.band_number = band_number\n",
    "        self.date = date\n",
    "    \n",
    "    def get_path(self):\n",
    "        return '/data01/GEO/ORGDATA/H8AHI/hmwr829gr.cr.chiba-u.ac.jp/gridded/FD/V20151105/' + self.date[0:6] + '/' + self.band.upper() + '/'\n",
    "\n",
    "    def get_filename(self):\n",
    "        return self.date + \".\" + self.band + \".\" + self.band_number + \".fld.geoss.bz2\"\n",
    "    \n",
    "    def DN2TBB(self,data):\n",
    "        LUT=np.loadtxt(DN_PATH + 'count2tbb_v102/' + self.band + \".\" + self.band_number)\n",
    "        return LUT[data,1]\n",
    "    \n",
    "    def file_path(self):\n",
    "        return self.get_path() + self.get_filename() \n",
    "                 \n",
    "#     def download_H8data_2015(self):\n",
    "#         client = paramiko.SSHClient()\n",
    "#         client.load_system_host_keys()\n",
    "#         client.set_missing_host_key_policy(paramiko.AutoAddPolicy())\n",
    "#         client.connect(hostname='10.4.123.47', port=22, username=self.account, password=self.pw)\n",
    "#         scp = SCPClient(client.get_transport())\n",
    "#         sftp = client.open_sftp()\n",
    "\n",
    "#         try :\n",
    "#             sftp.stat(self.file_path())\n",
    "\n",
    "#         except FileNotFoundError:\n",
    "#             print(\"File Not Found\")\n",
    "#             return 'No data'\n",
    "\n",
    "#         else:\n",
    "#             scp.get(self.file_path(), folder_original_2015+'/')\n",
    "#             p = subprocess.Popen('lbzip2 -d {}{}'.format(folder_original_2015+'/',self.file_path()[-33:]),shell=True)\n",
    "#             p.communicate()\n",
    "#             print ('Himawari8/AHI data Processed Finish')\n",
    "#             return folder_original_2015 + '/' + self.get_filename()[:-4]\n",
    "    \n",
    "    def download_H8data_2015(self):\n",
    "        ftp_dl_url = '/gridded/FD/V20151105/'  + self.date[0:6] + '/' + self.band.upper() + '/' + self.get_filename() \n",
    "        ftp = FTP()\n",
    "        ftp.connect('hmwr829gr.cr.chiba-u.ac.jp', 21)\n",
    "        ftp.login()\n",
    "        local_file = folder_original_2015 +'/' + self.get_filename() \n",
    "        with open(local_file, 'wb') as f:\n",
    "            ftp.retrbinary('RETR ' + ftp_dl_url, f.write, 1024*1024)\n",
    "        p = subprocess.Popen('lbzip2 -d {}'.format(local_file),shell=True)\n",
    "        p.communicate()    \n",
    "        ftp.close()\n",
    "        return folder_original_2015 + '/' + self.get_filename()[:-4]\n",
    "    \n",
    "    def download_H8data_2019(self):\n",
    "        ftp_dl_url = '/gridded/FD/V20190123/'  + self.date[0:6] + '/' + self.band.upper() + '/' + self.get_filename() \n",
    "        ftp = FTP()\n",
    "        ftp.connect('hmwr829gr.cr.chiba-u.ac.jp', 21)\n",
    "        ftp.login()\n",
    "        local_file = folder_original_2019 +'/' + self.get_filename() \n",
    "        with open(local_file, 'wb') as f:\n",
    "            ftp.retrbinary('RETR ' + ftp_dl_url, f.write, 1024*1024)\n",
    "        p = subprocess.Popen('lbzip2 -d {}'.format(local_file),shell=True)\n",
    "        p.communicate()    \n",
    "        ftp.close()\n",
    "        return folder_original_2019 + '/' + self.get_filename()[:-4]\n",
    "    \n",
    "    \n",
    "    def read_H8data_2019(self):\n",
    "        H8_file_path = self.download_H8data_2019()\n",
    "        \n",
    "        if self.band == \"vis\":\n",
    "            sr = 12000\n",
    "        elif self.band == \"ext\":\n",
    "            sr = 24000\n",
    "        else:\n",
    "            sr = 6000\n",
    "        if H8_file_path != 'No data':\n",
    "            with open(H8_file_path,'rb') as fp:\n",
    "                data = np.frombuffer(fp.read(),dtype='>u2').reshape(sr,sr)\n",
    "                data = self.DN2TBB(data)\n",
    "                data = data/100\n",
    "\n",
    "            print(\"data reading finish\")\n",
    "            return data\n",
    "        else:\n",
    "            return 'No data'\n",
    "        \n",
    "    def read_H8data_2015(self):\n",
    "        H8_file_path = self.download_H8data_2015()\n",
    "        \n",
    "        if self.band == \"vis\":\n",
    "            sr = 12000\n",
    "        elif self.band == \"ext\":\n",
    "            sr = 24000\n",
    "        else:\n",
    "            sr = 6000\n",
    "        if H8_file_path != 'No data':\n",
    "            with open(H8_file_path,'rb') as fp:\n",
    "                data = np.frombuffer(fp.read(),dtype='>u2').reshape(sr,sr)\n",
    "                data = self.DN2TBB(data)\n",
    "                data = data/100\n",
    "\n",
    "            print(\"data reading finish\")\n",
    "            return data\n",
    "        else:\n",
    "            return 'No data'   \n",
    "        \n",
    "        "
   ]
  },
  {
   "cell_type": "code",
   "execution_count": 3,
   "id": "e4c2dc54-62d9-448b-9f70-bc422a839969",
   "metadata": {},
   "outputs": [
    {
     "name": "stdout",
     "output_type": "stream",
     "text": [
      "data reading finish\n",
      "data reading finish\n"
     ]
    }
   ],
   "source": [
    "DN_PATH = '/Users/Liwei/Downloads/'\n",
    "folder_original_2019 = '/Users/Liwei/Downloads/2019'\n",
    "AHI_2019 = H8_data('liwei','liwei00','ext','01','201601010000').read_H8data_2019()\n",
    "folder_original_2015 = '/Users/Liwei/Downloads/2015'\n",
    "AHI_2015 = H8_data('liwei','liwei00','ext','01','201601010000').read_H8data_2015()"
   ]
  },
  {
   "cell_type": "code",
   "execution_count": 8,
   "id": "01d2a3f1-fe3b-4019-94b6-4fa8c2482b28",
   "metadata": {},
   "outputs": [
    {
     "data": {
      "text/plain": [
       "0.70235293"
      ]
     },
     "execution_count": 8,
     "metadata": {},
     "output_type": "execute_result"
    }
   ],
   "source": [
    "abs(AHI_2019 - AHI_2015).max()"
   ]
  },
  {
   "cell_type": "code",
   "execution_count": null,
   "id": "82953af0-1d8d-4633-b8b8-2ab1c4bbbcd1",
   "metadata": {},
   "outputs": [],
   "source": []
  }
 ],
 "metadata": {
  "kernelspec": {
   "display_name": "Python 3",
   "language": "python",
   "name": "python3"
  },
  "language_info": {
   "codemirror_mode": {
    "name": "ipython",
    "version": 3
   },
   "file_extension": ".py",
   "mimetype": "text/x-python",
   "name": "python",
   "nbconvert_exporter": "python",
   "pygments_lexer": "ipython3",
   "version": "3.8.2"
  }
 },
 "nbformat": 4,
 "nbformat_minor": 5
}
