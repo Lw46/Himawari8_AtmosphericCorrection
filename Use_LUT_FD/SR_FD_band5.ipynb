{
 "cells": [
  {
   "cell_type": "code",
   "execution_count": 5,
   "metadata": {},
   "outputs": [],
   "source": [
    "#!/usr/bin/env python\n",
    "# coding: utf-8\n",
    "\n",
    "\n",
    "#!/usr/bin/env python\n",
    "# coding: utf-8\n",
    "\n",
    "\n",
    "import numpy as np\n",
    "import time as T\n",
    "from joblib import Parallel, delayed\n",
    "from scipy.interpolate import griddata,interpn,RegularGridInterpolator\n",
    "import math\n",
    "import os\n",
    "import datetime\n",
    "import cv2\n",
    "from ftplib import FTP\n",
    "import rioxarray\n",
    "import xarray as xr\n",
    "import paramiko\n",
    "from scp import SCPClient\n",
    "import subprocess\n",
    "import datetime as dt\n",
    "import numba as nb\n",
    "\n",
    "target ='/data01/people/liwei/AC_Result/'\n",
    "\n",
    "SZA_PATH = '/data01/GEO/INPUT/ANGLE/Solar_Zenith_Angle_u2/'\n",
    "SAA_PATH = '/data01/GEO/INPUT/ANGLE/Solar_Azimuth_Angle_u2/'\n",
    "VZA_PATH = '/data01/GEO/INPUT/ANGLE/Viewer_Zenith_Angle/AHI_VZA_20.dat'\n",
    "VAA_PATH = '/data01/GEO/INPUT/ANGLE/Viewer_Azimuth_Angle/AHI_VAA_20.dat'\n",
    "\n",
    "LUT_PATH = '/data01/GEO/INPUT/LUT/'\n",
    "CAMS_PATH = '/data01/GEO/INPUT/ATMOSPHERE/'\n",
    "DN_PATH = '/data01/GEO/INPUT/'\n",
    "CAMS_AERO_PATH = '/data01/GEO/INPUT/AEROSOL_TYPE/'\n",
    "AL_PATH = '/data01/GEO/INPUT/ELEVATION_GEO/AHI/MERIT_DEM_AHI_20km.dat'\n",
    "\n",
    "\n",
    "res = 0.02\n",
    "u_lat,d_lat = 60,-60\n",
    "l_lon,r_lon = 85,205\n",
    "\n",
    "row_AHI = 6000\n",
    "col_AHI = 6000\n",
    "\n",
    "AHI_lat = np.linspace(50 - res/2 ,20 + res/2,6000)\n",
    "AHI_lon = np.linspace(120 + res/2 ,150 - res/2,6000)\n"
   ]
  },
  {
   "cell_type": "code",
   "execution_count": 3,
   "metadata": {
    "tags": []
   },
   "outputs": [],
   "source": [
    "\n",
    "   \n",
    "class H8_data:\n",
    "\n",
    "    def __init__(self , account , pw , band , band_number , date):\n",
    "        self.account = account\n",
    "        self.pw = pw\n",
    "        self.band = band\n",
    "        self.band_number = band_number\n",
    "        self.date = date\n",
    "    \n",
    "    def get_path(self):\n",
    "        return '/data01/GEO/ORGDATA/H8AHI/hmwr829gr.cr.chiba-u.ac.jp/gridded/FD/V20151105/' + self.date[0:6] + '/' + self.band.upper() + '/'\n",
    "\n",
    "    def get_filename(self):\n",
    "        return self.date + \".\" + self.band + \".\" + self.band_number + \".fld.geoss.bz2\"\n",
    "    \n",
    "    def DN2TBB(self,data):\n",
    "        LUT=np.loadtxt(DN_PATH + 'count2tbb_v102/' + self.band + \".\" + self.band_number)\n",
    "        return LUT[data,1]\n",
    "    \n",
    "    def file_path(self):\n",
    "        return self.get_path() + self.get_filename() \n",
    "                 \n",
    "    def download_H8data(self):\n",
    "        client = paramiko.SSHClient()\n",
    "        client.load_system_host_keys()\n",
    "        client.set_missing_host_key_policy(paramiko.AutoAddPolicy())\n",
    "        client.connect(hostname='10.4.123.47', port=22, username=self.account, password=self.pw)\n",
    "        scp = SCPClient(client.get_transport())\n",
    "        sftp = client.open_sftp()\n",
    "\n",
    "        try :\n",
    "            sftp.stat(self.file_path())\n",
    "\n",
    "        except FileNotFoundError:\n",
    "            client.close()\n",
    "            print(\"File Not Found\")\n",
    "            return 'No data'\n",
    "\n",
    "        else:\n",
    "            scp.get(self.file_path(), folder_original+'/')\n",
    "            p = subprocess.Popen('lbzip2 -d {}{}'.format(folder_original+'/',self.file_path()[-33:]),shell=True)\n",
    "            p.communicate()\n",
    "            client.close()\n",
    "            print ('Himawari8/AHI data Processed Finish')\n",
    "            return folder_original + self.get_filename()[:-4]\n",
    "            \n",
    "    def read_H8data(self):\n",
    "        H8_file_path = self.download_H8data()\n",
    "        if self.band == \"vis\":\n",
    "            sr = 12000\n",
    "        elif self.band == \"ext\":\n",
    "            sr = 24000\n",
    "        else:\n",
    "            sr = 6000\n",
    "        if H8_file_path != 'No data':\n",
    "            fp = open(H8_file_path,'rb')\n",
    "            data = np.frombuffer(fp.read(),dtype='>u2').reshape(sr,sr)\n",
    "            fp.close()\n",
    "            data = self.DN2TBB(data)\n",
    "            data = data/100\n",
    "            print(\"data reading finish\")\n",
    "            return data\n",
    "        else:\n",
    "            return 'No data'\n",
    "        \n",
    "class LUT_interpolation:\n",
    "    def __init__(self,LUT_PATH):\n",
    "        self.LUT_PATH = LUT_PATH\n",
    "    \n",
    "    def LUT_interpolation(self):\n",
    "        \n",
    "        X1 = np.loadtxt(self.LUT_PATH + \"01_band5.csv\",delimiter=\",\").reshape(2,8,12,5,17,17,19)\n",
    "        X2 = np.loadtxt(self.LUT_PATH + \"02_band5.csv\",delimiter=\",\").reshape(2,8,12,5,17,17,19)\n",
    "        X3 = np.loadtxt(self.LUT_PATH + \"03_band5.csv\",delimiter=\",\").reshape(2,8,12,5,17,17,19)\n",
    "        # return X1, X2, X3\n",
    "        \n",
    "        fn1 = RegularGridInterpolator((aero_type,water,AOT,al,sza,vza,raa),X1,bounds_error=False,fill_value=np.nan)\n",
    "        fn2 = RegularGridInterpolator((aero_type,water,AOT,al,sza,vza,raa),X2,bounds_error=False,fill_value=np.nan)\n",
    "        fn3 = RegularGridInterpolator((aero_type,water,AOT,al,sza,vza,raa),X3,bounds_error=False,fill_value=np.nan)\n",
    "        return fn1,fn2,fn3 \n",
    "    \n",
    "class AHI_angle:\n",
    "    def __init__(self,date):\n",
    "        self.date = date        \n",
    "    def read_angle_data(self):\n",
    "        \n",
    "        AHI_date = self.date[4:11]\n",
    "        \n",
    "        sza_file_name = 'AHI_SZA_2018{}5.dat'.format(AHI_date)\n",
    "        saa_file_name = 'AHI_SAA_2018{}5.dat'.format(AHI_date)\n",
    "        \n",
    "        AHI_SZA_File = open(SZA_PATH + sza_file_name,'rb')\n",
    "        AHI_SZA = np.frombuffer(AHI_SZA_File.read(),dtype='u2').reshape(3000,3000) / 100\n",
    "        AHI_SZA_File.close()\n",
    "        AHI_SZA=cv2.resize(np.array(AHI_SZA,dtype='float64'),(6000,6000),interpolation=cv2.INTER_NEAREST)\n",
    "        \n",
    "        \n",
    "        AHI_SAA_File = open(SAA_PATH + saa_file_name,'rb')\n",
    "        AHI_SAA = np.frombuffer(AHI_SAA_File.read(),dtype='u2').reshape(3000,3000) / 100\n",
    "        AHI_SAA_File.close()\n",
    "        AHI_SAA=cv2.resize(np.array(AHI_SAA,dtype='float64'),(6000,6000),interpolation=cv2.INTER_NEAREST)\n",
    "        \n",
    "        return AHI_SZA,AHI_SAA\n",
    "\n",
    "class CAMS_data:\n",
    "    def __init__(self,Y,M,D,H,MI,lat,lon):\n",
    "        self.YYYY = Y\n",
    "        self.MM = M\n",
    "        self.DD = D\n",
    "        self.HH = H\n",
    "        self.MIN = MI\n",
    "        self.lon = lon\n",
    "        self.lat = lat\n",
    "        \n",
    "    def read_CAMS(self):\n",
    "\n",
    "        if int(self.HH) >= 21:\n",
    "            d1 = dt.datetime(int(self.YYYY),int(self.MM),int(self.DD))\n",
    "            d2 = dt.datetime(int(self.YYYY),int(self.MM),int(self.DD)) + dt.timedelta(days=1)\n",
    "            \n",
    "            ds1 = xr.open_dataset(CAMS_PATH + d1.strftime('%Y') + d1.strftime('%m') + d1.strftime('%d') + '.nc')\n",
    "            ds2 = xr.open_dataset(CAMS_PATH + d2.strftime('%Y') + d2.strftime('%m') + d2.strftime('%d') + '.nc')\n",
    "            ds = xr.merge([ds1, ds2]) \n",
    "            \n",
    "        else:\n",
    "             ds = xr.open_dataset(CAMS_PATH + self.YYYY + self.MM + self.DD + '.nc')\n",
    "                \n",
    "        dtime = dt.datetime(int(self.YYYY),int(self.MM),int(self.DD),int(self.HH),int(self.MIN)+5)    \n",
    "        ds = ds.interp(time = dtime,method = 'linear')\n",
    "        ds = ds.interp(longitude=self.lon,latitude=self.lat,method=\"nearest\")\n",
    "        \n",
    "        OZ = ds['gtco3'].values        \n",
    "        WV = ds['tcwv'].values        \n",
    "        AOT550 = ds['aod550'].values\n",
    "#         Atmosphere data Unit conversion\n",
    "        WV = WV/10\n",
    "        OZ = OZ*46.6975764\n",
    "\n",
    "\n",
    "#         Processing water vapor and ozone max and min\n",
    "        OZ[OZ>=max(ozone)] = max(ozone)-(1/10000)\n",
    "        OZ[OZ<=min(ozone)] = min(ozone)+(1/10000)\n",
    "        WV[WV>=max(water)] = max(water)-(1/10000)\n",
    "        WV[WV<=min(water)] = min(water)+(1/10000)\n",
    "        AOT550[AOT550>=max(AOT)] = max(AOT)-(1/10000)\n",
    "        AOT550[AOT550<=min(AOT)] = min(AOT)+(1/10000)\n",
    "        \n",
    "        return np.array(OZ).reshape(6000,6000),np.array(WV).reshape(6000,6000),np.array(AOT550).reshape(6000,6000)\n",
    "\n",
    "    def read_CAMS_AERO(self):\n",
    "        \n",
    "                \n",
    "        if int(self.HH) >= 21:\n",
    "            d1 = dt.datetime(int(self.YYYY),int(self.MM),int(self.DD))\n",
    "            d2 = dt.datetime(int(self.YYYY),int(self.MM),int(self.DD)) + dt.timedelta(days=1)\n",
    "            \n",
    "            ds1 = xr.open_dataset(CAMS_AERO_PATH + d1.strftime('%Y') + d1.strftime('%m') + d1.strftime('%d') + '.nc')\n",
    "            ds2 = xr.open_dataset(CAMS_AERO_PATH + d2.strftime('%Y') + d2.strftime('%m') + d2.strftime('%d') + '.nc')\n",
    "            ds = xr.merge([ds1, ds2]) \n",
    "            \n",
    "        else:\n",
    "             ds = xr.open_dataset(CAMS_AERO_PATH + self.YYYY + self.MM + self.DD + '.nc')\n",
    "                \n",
    "        dtime = dt.datetime(int(self.YYYY),int(self.MM),int(self.DD),int(self.HH),int(self.MIN)+5)\n",
    "        ds = ds.interp(time = dtime,method = 'linear')\n",
    "        ds = ds.interp(longitude=self.lon,latitude=self.lat,method=\"nearest\")\n",
    "        \n",
    "        bc = ds['bcaod550'].values\n",
    "        du = ds['duaod550'].values\n",
    "        om = ds['omaod550'].values\n",
    "        ss = ds['ssaod550'].values\n",
    "        su = ds['suaod550'].values\n",
    "\n",
    "        DL_6S = np.array(du)\n",
    "        SL_6S = np.array(su) + np.array(bc)\n",
    "        OC_6S = np.array(ss)\n",
    "        WS_6S = np.array(om)\n",
    "\n",
    "        Total = DL_6S + SL_6S + OC_6S + WS_6S\n",
    "\n",
    "        precent_DL_6S = DL_6S / Total\n",
    "        precent_SL_6S = SL_6S / Total\n",
    "        precent_OC_6S = OC_6S / Total\n",
    "        precent_WS_6S = WS_6S / Total\n",
    "        P = np.dstack((precent_DL_6S,precent_WS_6S,precent_OC_6S,precent_SL_6S))\n",
    "        Aerosol_type = np.where(np.amax(P,axis = 2) == precent_OC_6S,1,0)\n",
    "        \n",
    "        return Aerosol_type\n",
    "def H8_Process(ACCOUNT,PW,Band,Band_number,Date):\n",
    "    data = H8_data(ACCOUNT,PW,Band,Band_number,Date).read_H8data()\n",
    "    return data\n",
    "\n",
    "def remove_original_file(path):\n",
    "    os.system('rm -rf {}'.format(path))\n",
    "    \n",
    "    \n",
    "def mkdir(path):\n",
    "    folder = os.path.exists(path) \n",
    "    if not folder:\n",
    "        os.makedirs(path)\n",
    "        \n",
    "def Time_split(time):\n",
    "    YYYY = time.strftime('%Y')\n",
    "    MM = time.strftime('%m')\n",
    "    DD = time.strftime('%d')\n",
    "    HH = time.strftime('%H')\n",
    "    MIN = time.strftime('%M')\n",
    "    date = YYYY + MM + DD + HH + MIN\n",
    "    return YYYY,MM,DD,HH,MIN,date\n",
    "        \n",
    "        \n",
    "def calculate_6s_band5(i):\n",
    "    \n",
    "    Aero_input = Aerosol_type[i][Ocean_mask[i]]\n",
    "    WV_input = WV[i][Ocean_mask[i]]\n",
    "    AOT550_input = AOT550[i][Ocean_mask[i]]\n",
    "    RAA_input = RAA[i][Ocean_mask[i]]\n",
    "    SZA_input = AHI_SZA[i][Ocean_mask[i]]\n",
    "    VZA_input = AHI_VZA[i][Ocean_mask[i]]\n",
    "    AL_input = AHI_AL[i][Ocean_mask[i]]\n",
    "    AHI_data_input = AHI_data[i][Ocean_mask[i]]\n",
    "\n",
    "    xi = np.array([Aero_input,WV_input,AOT550_input,AL_input,SZA_input,VZA_input,RAA_input])\n",
    "    xi = xi.T\n",
    "    xa = fn1(xi)\n",
    "    xb = fn2(xi)\n",
    "    xc = fn3(xi)\n",
    "    y = xa*AHI_data_input-xb\n",
    "    SR = y/(1+xc*y)\n",
    "    return SR\n",
    "\n",
    "@nb.jit()\n",
    "def get_water_idx():\n",
    "    Water_idx = []\n",
    "    for i in range(6000):\n",
    "        line_idx =[]\n",
    "        for j in range(6000):\n",
    "            if Ocean_mask[i,j] == True:\n",
    "                line_idx.append(j)\n",
    "\n",
    "        Water_idx.append(line_idx)\n",
    "    return Water_idx\n",
    "\n",
    "Ocean_mask_PATH = '/data01/GEO/INPUT/LAND_MASK/Landmask_20.dat'\n",
    "    \n",
    "Mask_File = open(Ocean_mask_PATH,'rb')\n",
    "Ocean_mask = np.frombuffer(Mask_File.read(),dtype='u1').reshape(6000,6000).astype('bool')\n",
    "Mask_File.close()    \n",
    "    \n",
    "    \n",
    "    \n",
    "Water_idx = get_water_idx()\n",
    "sza = np.linspace(0,80,17)\n",
    "vza = np.linspace(0,80,17)\n",
    "water = np.linspace(0,7,8)\n",
    "ozone = np.linspace(0.2,0.4,5)\n",
    "AOT = np.array([0.01,0.05,0.1,0.15,0.2,0.3,0.4,0.6,0.8,1.0,1.5,2.0])\n",
    "raa = np.linspace(0,180,19)\n",
    "al = np.linspace(0,8,5)\n",
    "aero_type = np.array([0,1])\n",
    "\n",
    "fn1,fn2,fn3 = LUT_interpolation(LUT_PATH).LUT_interpolation()\n",
    "\n",
    "\n",
    "VZA_File = open(VZA_PATH,'rb')\n",
    "AHI_VZA = np.frombuffer(VZA_File.read(),dtype='u2').reshape(6000,6000) * 0.01\n",
    "VZA_File.close()\n",
    "\n",
    "VAA_File = open(VAA_PATH,'rb')\n",
    "AHI_VAA = np.frombuffer(VAA_File.read(),dtype='u2').reshape(6000,6000) * 0.01\n",
    "VAA_File.close()\n",
    "\n",
    "AL_File = open(AL_PATH,'rb')\n",
    "AHI_AL = np.frombuffer(AL_File.read(),dtype='u2').reshape(6000,6000) * 0.001\n",
    "AL_File.close()\n",
    "        "
   ]
  },
  {
   "cell_type": "code",
   "execution_count": 6,
   "metadata": {
    "tags": []
   },
   "outputs": [
    {
     "name": "stdout",
     "output_type": "stream",
     "text": [
      "start processing 201801210000\n",
      "Himawari8/AHI data Processed Finish\n",
      "data reading finish\n",
      "Start reading Angle data\n"
     ]
    },
    {
     "name": "stderr",
     "output_type": "stream",
     "text": [
      "<ipython-input-6-cf9edf51547c>:25: FutureWarning: elementwise comparison failed; returning scalar instead, but in the future will perform elementwise comparison\n",
      "  if AHI_data == 'No data':\n"
     ]
    },
    {
     "name": "stdout",
     "output_type": "stream",
     "text": [
      "Angle data read finished\n",
      "Start reading Atmospheric data\n",
      "Atmospheric data read finished\n",
      "Start Calculate SR\n",
      "Calculate SR finished\n",
      "Start Save SR file \n",
      "Save SR file finished\n",
      "delete file finish\n",
      "time: 23.1 secs, 0.4 mins,0.0 hours\n",
      "start processing 201801210010\n",
      "Himawari8/AHI data Processed Finish\n",
      "data reading finish\n",
      "Start reading Angle data\n"
     ]
    },
    {
     "name": "stderr",
     "output_type": "stream",
     "text": [
      "<ipython-input-6-cf9edf51547c>:25: FutureWarning: elementwise comparison failed; returning scalar instead, but in the future will perform elementwise comparison\n",
      "  if AHI_data == 'No data':\n"
     ]
    },
    {
     "name": "stdout",
     "output_type": "stream",
     "text": [
      "Angle data read finished\n",
      "Start reading Atmospheric data\n",
      "Atmospheric data read finished\n",
      "Start Calculate SR\n",
      "Calculate SR finished\n",
      "Start Save SR file \n",
      "Save SR file finished\n",
      "delete file finish\n",
      "time: 19.3 secs, 0.3 mins,0.0 hours\n",
      "start processing 201801210020\n",
      "Himawari8/AHI data Processed Finish\n",
      "data reading finish\n",
      "Start reading Angle data\n"
     ]
    },
    {
     "name": "stderr",
     "output_type": "stream",
     "text": [
      "<ipython-input-6-cf9edf51547c>:25: FutureWarning: elementwise comparison failed; returning scalar instead, but in the future will perform elementwise comparison\n",
      "  if AHI_data == 'No data':\n"
     ]
    },
    {
     "name": "stdout",
     "output_type": "stream",
     "text": [
      "Angle data read finished\n",
      "Start reading Atmospheric data\n",
      "Atmospheric data read finished\n",
      "Start Calculate SR\n",
      "Calculate SR finished\n",
      "Start Save SR file \n",
      "Save SR file finished\n",
      "delete file finish\n",
      "time: 19.2 secs, 0.3 mins,0.0 hours\n",
      "start processing 201801210030\n",
      "Himawari8/AHI data Processed Finish\n",
      "data reading finish\n",
      "Start reading Angle data\n"
     ]
    },
    {
     "name": "stderr",
     "output_type": "stream",
     "text": [
      "<ipython-input-6-cf9edf51547c>:25: FutureWarning: elementwise comparison failed; returning scalar instead, but in the future will perform elementwise comparison\n",
      "  if AHI_data == 'No data':\n"
     ]
    },
    {
     "name": "stdout",
     "output_type": "stream",
     "text": [
      "Angle data read finished\n",
      "Start reading Atmospheric data\n",
      "Atmospheric data read finished\n",
      "Start Calculate SR\n",
      "Calculate SR finished\n",
      "Start Save SR file \n",
      "Save SR file finished\n",
      "delete file finish\n",
      "time: 19.3 secs, 0.3 mins,0.0 hours\n",
      "start processing 201801210040\n",
      "Himawari8/AHI data Processed Finish\n",
      "data reading finish\n",
      "Start reading Angle data\n"
     ]
    },
    {
     "name": "stderr",
     "output_type": "stream",
     "text": [
      "<ipython-input-6-cf9edf51547c>:25: FutureWarning: elementwise comparison failed; returning scalar instead, but in the future will perform elementwise comparison\n",
      "  if AHI_data == 'No data':\n"
     ]
    },
    {
     "name": "stdout",
     "output_type": "stream",
     "text": [
      "Angle data read finished\n",
      "Start reading Atmospheric data\n",
      "Atmospheric data read finished\n",
      "Start Calculate SR\n",
      "Calculate SR finished\n",
      "Start Save SR file \n",
      "Save SR file finished\n",
      "delete file finish\n",
      "time: 19.3 secs, 0.3 mins,0.0 hours\n",
      "start processing 201801210050\n",
      "Himawari8/AHI data Processed Finish\n",
      "data reading finish\n",
      "Start reading Angle data\n"
     ]
    },
    {
     "name": "stderr",
     "output_type": "stream",
     "text": [
      "<ipython-input-6-cf9edf51547c>:25: FutureWarning: elementwise comparison failed; returning scalar instead, but in the future will perform elementwise comparison\n",
      "  if AHI_data == 'No data':\n"
     ]
    },
    {
     "name": "stdout",
     "output_type": "stream",
     "text": [
      "Angle data read finished\n",
      "Start reading Atmospheric data\n",
      "Atmospheric data read finished\n",
      "Start Calculate SR\n",
      "Calculate SR finished\n",
      "Start Save SR file \n",
      "Save SR file finished\n",
      "delete file finish\n",
      "time: 19.1 secs, 0.3 mins,0.0 hours\n",
      "start processing 201801210100\n",
      "Himawari8/AHI data Processed Finish\n",
      "data reading finish\n",
      "Start reading Angle data\n"
     ]
    },
    {
     "name": "stderr",
     "output_type": "stream",
     "text": [
      "<ipython-input-6-cf9edf51547c>:25: FutureWarning: elementwise comparison failed; returning scalar instead, but in the future will perform elementwise comparison\n",
      "  if AHI_data == 'No data':\n"
     ]
    },
    {
     "name": "stdout",
     "output_type": "stream",
     "text": [
      "Angle data read finished\n",
      "Start reading Atmospheric data\n",
      "Atmospheric data read finished\n",
      "Start Calculate SR\n",
      "Calculate SR finished\n",
      "Start Save SR file \n",
      "Save SR file finished\n",
      "delete file finish\n",
      "time: 19.0 secs, 0.3 mins,0.0 hours\n",
      "start processing 201801210110\n",
      "Himawari8/AHI data Processed Finish\n",
      "data reading finish\n",
      "Start reading Angle data\n"
     ]
    },
    {
     "name": "stderr",
     "output_type": "stream",
     "text": [
      "<ipython-input-6-cf9edf51547c>:25: FutureWarning: elementwise comparison failed; returning scalar instead, but in the future will perform elementwise comparison\n",
      "  if AHI_data == 'No data':\n"
     ]
    },
    {
     "name": "stdout",
     "output_type": "stream",
     "text": [
      "Angle data read finished\n",
      "Start reading Atmospheric data\n",
      "Atmospheric data read finished\n",
      "Start Calculate SR\n",
      "Calculate SR finished\n",
      "Start Save SR file \n",
      "Save SR file finished\n",
      "delete file finish\n",
      "time: 19.0 secs, 0.3 mins,0.0 hours\n",
      "start processing 201801210120\n",
      "Himawari8/AHI data Processed Finish\n",
      "data reading finish\n",
      "Start reading Angle data\n"
     ]
    },
    {
     "name": "stderr",
     "output_type": "stream",
     "text": [
      "<ipython-input-6-cf9edf51547c>:25: FutureWarning: elementwise comparison failed; returning scalar instead, but in the future will perform elementwise comparison\n",
      "  if AHI_data == 'No data':\n"
     ]
    },
    {
     "name": "stdout",
     "output_type": "stream",
     "text": [
      "Angle data read finished\n",
      "Start reading Atmospheric data\n",
      "Atmospheric data read finished\n",
      "Start Calculate SR\n",
      "Calculate SR finished\n",
      "Start Save SR file \n",
      "Save SR file finished\n",
      "delete file finish\n",
      "time: 19.4 secs, 0.3 mins,0.0 hours\n",
      "start processing 201801210130\n",
      "Himawari8/AHI data Processed Finish\n",
      "data reading finish\n",
      "Start reading Angle data\n"
     ]
    },
    {
     "name": "stderr",
     "output_type": "stream",
     "text": [
      "<ipython-input-6-cf9edf51547c>:25: FutureWarning: elementwise comparison failed; returning scalar instead, but in the future will perform elementwise comparison\n",
      "  if AHI_data == 'No data':\n"
     ]
    },
    {
     "name": "stdout",
     "output_type": "stream",
     "text": [
      "Angle data read finished\n",
      "Start reading Atmospheric data\n",
      "Atmospheric data read finished\n",
      "Start Calculate SR\n",
      "Calculate SR finished\n",
      "Start Save SR file \n",
      "Save SR file finished\n",
      "delete file finish\n",
      "time: 19.0 secs, 0.3 mins,0.0 hours\n",
      "start processing 201801210140\n",
      "Himawari8/AHI data Processed Finish\n",
      "data reading finish\n",
      "Start reading Angle data\n"
     ]
    },
    {
     "name": "stderr",
     "output_type": "stream",
     "text": [
      "<ipython-input-6-cf9edf51547c>:25: FutureWarning: elementwise comparison failed; returning scalar instead, but in the future will perform elementwise comparison\n",
      "  if AHI_data == 'No data':\n"
     ]
    },
    {
     "name": "stdout",
     "output_type": "stream",
     "text": [
      "Angle data read finished\n",
      "Start reading Atmospheric data\n",
      "Atmospheric data read finished\n",
      "Start Calculate SR\n",
      "Calculate SR finished\n",
      "Start Save SR file \n",
      "Save SR file finished\n",
      "delete file finish\n",
      "time: 19.0 secs, 0.3 mins,0.0 hours\n",
      "start processing 201801210150\n",
      "Himawari8/AHI data Processed Finish\n",
      "data reading finish\n",
      "Start reading Angle data\n"
     ]
    },
    {
     "name": "stderr",
     "output_type": "stream",
     "text": [
      "<ipython-input-6-cf9edf51547c>:25: FutureWarning: elementwise comparison failed; returning scalar instead, but in the future will perform elementwise comparison\n",
      "  if AHI_data == 'No data':\n"
     ]
    },
    {
     "name": "stdout",
     "output_type": "stream",
     "text": [
      "Angle data read finished\n",
      "Start reading Atmospheric data\n",
      "Atmospheric data read finished\n",
      "Start Calculate SR\n",
      "Calculate SR finished\n",
      "Start Save SR file \n",
      "Save SR file finished\n",
      "delete file finish\n",
      "time: 19.1 secs, 0.3 mins,0.0 hours\n",
      "start processing 201801210200\n",
      "Himawari8/AHI data Processed Finish\n",
      "data reading finish\n",
      "Start reading Angle data\n"
     ]
    },
    {
     "name": "stderr",
     "output_type": "stream",
     "text": [
      "<ipython-input-6-cf9edf51547c>:25: FutureWarning: elementwise comparison failed; returning scalar instead, but in the future will perform elementwise comparison\n",
      "  if AHI_data == 'No data':\n"
     ]
    },
    {
     "name": "stdout",
     "output_type": "stream",
     "text": [
      "Angle data read finished\n",
      "Start reading Atmospheric data\n",
      "Atmospheric data read finished\n",
      "Start Calculate SR\n",
      "Calculate SR finished\n",
      "Start Save SR file \n",
      "Save SR file finished\n",
      "delete file finish\n",
      "time: 19.3 secs, 0.3 mins,0.0 hours\n",
      "start processing 201801210210\n",
      "Himawari8/AHI data Processed Finish\n",
      "data reading finish\n",
      "Start reading Angle data\n"
     ]
    },
    {
     "name": "stderr",
     "output_type": "stream",
     "text": [
      "<ipython-input-6-cf9edf51547c>:25: FutureWarning: elementwise comparison failed; returning scalar instead, but in the future will perform elementwise comparison\n",
      "  if AHI_data == 'No data':\n"
     ]
    },
    {
     "name": "stdout",
     "output_type": "stream",
     "text": [
      "Angle data read finished\n",
      "Start reading Atmospheric data\n",
      "Atmospheric data read finished\n",
      "Start Calculate SR\n",
      "Calculate SR finished\n",
      "Start Save SR file \n",
      "Save SR file finished\n",
      "delete file finish\n",
      "time: 19.1 secs, 0.3 mins,0.0 hours\n",
      "start processing 201801210220\n",
      "Himawari8/AHI data Processed Finish\n",
      "data reading finish\n",
      "Start reading Angle data\n"
     ]
    },
    {
     "name": "stderr",
     "output_type": "stream",
     "text": [
      "<ipython-input-6-cf9edf51547c>:25: FutureWarning: elementwise comparison failed; returning scalar instead, but in the future will perform elementwise comparison\n",
      "  if AHI_data == 'No data':\n"
     ]
    },
    {
     "name": "stdout",
     "output_type": "stream",
     "text": [
      "Angle data read finished\n",
      "Start reading Atmospheric data\n",
      "Atmospheric data read finished\n",
      "Start Calculate SR\n",
      "Calculate SR finished\n",
      "Start Save SR file \n",
      "Save SR file finished\n",
      "delete file finish\n",
      "time: 18.9 secs, 0.3 mins,0.0 hours\n",
      "start processing 201801210230\n",
      "Himawari8/AHI data Processed Finish\n",
      "data reading finish\n",
      "Start reading Angle data\n"
     ]
    },
    {
     "name": "stderr",
     "output_type": "stream",
     "text": [
      "<ipython-input-6-cf9edf51547c>:25: FutureWarning: elementwise comparison failed; returning scalar instead, but in the future will perform elementwise comparison\n",
      "  if AHI_data == 'No data':\n"
     ]
    },
    {
     "name": "stdout",
     "output_type": "stream",
     "text": [
      "Angle data read finished\n",
      "Start reading Atmospheric data\n",
      "Atmospheric data read finished\n",
      "Start Calculate SR\n",
      "Calculate SR finished\n",
      "Start Save SR file \n",
      "Save SR file finished\n",
      "delete file finish\n",
      "time: 19.2 secs, 0.3 mins,0.0 hours\n",
      "start processing 201801210240\n",
      "File Not Found\n",
      "start processing 201801210250\n",
      "Himawari8/AHI data Processed Finish\n",
      "data reading finish\n",
      "Start reading Angle data\n"
     ]
    },
    {
     "name": "stderr",
     "output_type": "stream",
     "text": [
      "<ipython-input-6-cf9edf51547c>:25: FutureWarning: elementwise comparison failed; returning scalar instead, but in the future will perform elementwise comparison\n",
      "  if AHI_data == 'No data':\n"
     ]
    },
    {
     "name": "stdout",
     "output_type": "stream",
     "text": [
      "Angle data read finished\n",
      "Start reading Atmospheric data\n",
      "Atmospheric data read finished\n",
      "Start Calculate SR\n",
      "Calculate SR finished\n",
      "Start Save SR file \n",
      "Save SR file finished\n",
      "delete file finish\n",
      "time: 19.3 secs, 0.3 mins,0.0 hours\n",
      "start processing 201801210300\n",
      "Himawari8/AHI data Processed Finish\n",
      "data reading finish\n",
      "Start reading Angle data\n"
     ]
    },
    {
     "name": "stderr",
     "output_type": "stream",
     "text": [
      "<ipython-input-6-cf9edf51547c>:25: FutureWarning: elementwise comparison failed; returning scalar instead, but in the future will perform elementwise comparison\n",
      "  if AHI_data == 'No data':\n"
     ]
    },
    {
     "name": "stdout",
     "output_type": "stream",
     "text": [
      "Angle data read finished\n",
      "Start reading Atmospheric data\n",
      "Atmospheric data read finished\n",
      "Start Calculate SR\n",
      "Calculate SR finished\n",
      "Start Save SR file \n",
      "Save SR file finished\n",
      "delete file finish\n",
      "time: 19.1 secs, 0.3 mins,0.0 hours\n",
      "start processing 201801210310\n",
      "Himawari8/AHI data Processed Finish\n",
      "data reading finish\n",
      "Start reading Angle data\n"
     ]
    },
    {
     "name": "stderr",
     "output_type": "stream",
     "text": [
      "<ipython-input-6-cf9edf51547c>:25: FutureWarning: elementwise comparison failed; returning scalar instead, but in the future will perform elementwise comparison\n",
      "  if AHI_data == 'No data':\n"
     ]
    },
    {
     "name": "stdout",
     "output_type": "stream",
     "text": [
      "Angle data read finished\n",
      "Start reading Atmospheric data\n",
      "Atmospheric data read finished\n",
      "Start Calculate SR\n",
      "Calculate SR finished\n",
      "Start Save SR file \n",
      "Save SR file finished\n",
      "delete file finish\n",
      "time: 19.2 secs, 0.3 mins,0.0 hours\n",
      "start processing 201801210320\n",
      "Himawari8/AHI data Processed Finish\n",
      "data reading finish\n",
      "Start reading Angle data\n"
     ]
    },
    {
     "name": "stderr",
     "output_type": "stream",
     "text": [
      "<ipython-input-6-cf9edf51547c>:25: FutureWarning: elementwise comparison failed; returning scalar instead, but in the future will perform elementwise comparison\n",
      "  if AHI_data == 'No data':\n"
     ]
    },
    {
     "name": "stdout",
     "output_type": "stream",
     "text": [
      "Angle data read finished\n",
      "Start reading Atmospheric data\n",
      "Atmospheric data read finished\n",
      "Start Calculate SR\n",
      "Calculate SR finished\n",
      "Start Save SR file \n",
      "Save SR file finished\n",
      "delete file finish\n",
      "time: 19.9 secs, 0.3 mins,0.0 hours\n",
      "start processing 201801210330\n",
      "Himawari8/AHI data Processed Finish\n",
      "data reading finish\n",
      "Start reading Angle data\n"
     ]
    },
    {
     "name": "stderr",
     "output_type": "stream",
     "text": [
      "<ipython-input-6-cf9edf51547c>:25: FutureWarning: elementwise comparison failed; returning scalar instead, but in the future will perform elementwise comparison\n",
      "  if AHI_data == 'No data':\n"
     ]
    },
    {
     "name": "stdout",
     "output_type": "stream",
     "text": [
      "Angle data read finished\n",
      "Start reading Atmospheric data\n",
      "Atmospheric data read finished\n",
      "Start Calculate SR\n",
      "Calculate SR finished\n",
      "Start Save SR file \n",
      "Save SR file finished\n",
      "delete file finish\n",
      "time: 20.1 secs, 0.3 mins,0.0 hours\n",
      "start processing 201801210340\n",
      "Himawari8/AHI data Processed Finish\n",
      "data reading finish\n",
      "Start reading Angle data\n"
     ]
    },
    {
     "name": "stderr",
     "output_type": "stream",
     "text": [
      "<ipython-input-6-cf9edf51547c>:25: FutureWarning: elementwise comparison failed; returning scalar instead, but in the future will perform elementwise comparison\n",
      "  if AHI_data == 'No data':\n"
     ]
    },
    {
     "name": "stdout",
     "output_type": "stream",
     "text": [
      "Angle data read finished\n",
      "Start reading Atmospheric data\n",
      "Atmospheric data read finished\n",
      "Start Calculate SR\n",
      "Calculate SR finished\n",
      "Start Save SR file \n",
      "Save SR file finished\n",
      "delete file finish\n",
      "time: 19.5 secs, 0.3 mins,0.0 hours\n",
      "start processing 201801210350\n",
      "Himawari8/AHI data Processed Finish\n",
      "data reading finish\n",
      "Start reading Angle data\n"
     ]
    },
    {
     "name": "stderr",
     "output_type": "stream",
     "text": [
      "<ipython-input-6-cf9edf51547c>:25: FutureWarning: elementwise comparison failed; returning scalar instead, but in the future will perform elementwise comparison\n",
      "  if AHI_data == 'No data':\n"
     ]
    },
    {
     "name": "stdout",
     "output_type": "stream",
     "text": [
      "Angle data read finished\n",
      "Start reading Atmospheric data\n",
      "Atmospheric data read finished\n",
      "Start Calculate SR\n",
      "Calculate SR finished\n",
      "Start Save SR file \n",
      "Save SR file finished\n",
      "delete file finish\n",
      "time: 19.2 secs, 0.3 mins,0.0 hours\n",
      "start processing 201801210400\n",
      "Himawari8/AHI data Processed Finish\n",
      "data reading finish\n",
      "Start reading Angle data\n"
     ]
    },
    {
     "name": "stderr",
     "output_type": "stream",
     "text": [
      "<ipython-input-6-cf9edf51547c>:25: FutureWarning: elementwise comparison failed; returning scalar instead, but in the future will perform elementwise comparison\n",
      "  if AHI_data == 'No data':\n"
     ]
    },
    {
     "name": "stdout",
     "output_type": "stream",
     "text": [
      "Angle data read finished\n",
      "Start reading Atmospheric data\n",
      "Atmospheric data read finished\n",
      "Start Calculate SR\n",
      "Calculate SR finished\n",
      "Start Save SR file \n",
      "Save SR file finished\n",
      "delete file finish\n",
      "time: 19.2 secs, 0.3 mins,0.0 hours\n",
      "start processing 201801210410\n",
      "Himawari8/AHI data Processed Finish\n",
      "data reading finish\n",
      "Start reading Angle data\n"
     ]
    },
    {
     "name": "stderr",
     "output_type": "stream",
     "text": [
      "<ipython-input-6-cf9edf51547c>:25: FutureWarning: elementwise comparison failed; returning scalar instead, but in the future will perform elementwise comparison\n",
      "  if AHI_data == 'No data':\n"
     ]
    },
    {
     "name": "stdout",
     "output_type": "stream",
     "text": [
      "Angle data read finished\n",
      "Start reading Atmospheric data\n",
      "Atmospheric data read finished\n",
      "Start Calculate SR\n",
      "Calculate SR finished\n",
      "Start Save SR file \n",
      "Save SR file finished\n",
      "delete file finish\n",
      "time: 19.0 secs, 0.3 mins,0.0 hours\n",
      "start processing 201801210420\n",
      "Himawari8/AHI data Processed Finish\n",
      "data reading finish\n",
      "Start reading Angle data\n"
     ]
    },
    {
     "name": "stderr",
     "output_type": "stream",
     "text": [
      "<ipython-input-6-cf9edf51547c>:25: FutureWarning: elementwise comparison failed; returning scalar instead, but in the future will perform elementwise comparison\n",
      "  if AHI_data == 'No data':\n"
     ]
    },
    {
     "name": "stdout",
     "output_type": "stream",
     "text": [
      "Angle data read finished\n",
      "Start reading Atmospheric data\n",
      "Atmospheric data read finished\n",
      "Start Calculate SR\n",
      "Calculate SR finished\n",
      "Start Save SR file \n",
      "Save SR file finished\n",
      "delete file finish\n",
      "time: 19.5 secs, 0.3 mins,0.0 hours\n",
      "start processing 201801210430\n",
      "Himawari8/AHI data Processed Finish\n",
      "data reading finish\n",
      "Start reading Angle data\n"
     ]
    },
    {
     "name": "stderr",
     "output_type": "stream",
     "text": [
      "<ipython-input-6-cf9edf51547c>:25: FutureWarning: elementwise comparison failed; returning scalar instead, but in the future will perform elementwise comparison\n",
      "  if AHI_data == 'No data':\n"
     ]
    },
    {
     "name": "stdout",
     "output_type": "stream",
     "text": [
      "Angle data read finished\n",
      "Start reading Atmospheric data\n",
      "Atmospheric data read finished\n",
      "Start Calculate SR\n",
      "Calculate SR finished\n",
      "Start Save SR file \n",
      "Save SR file finished\n",
      "delete file finish\n",
      "time: 19.1 secs, 0.3 mins,0.0 hours\n",
      "start processing 201801210440\n",
      "Himawari8/AHI data Processed Finish\n",
      "data reading finish\n",
      "Start reading Angle data\n"
     ]
    },
    {
     "name": "stderr",
     "output_type": "stream",
     "text": [
      "<ipython-input-6-cf9edf51547c>:25: FutureWarning: elementwise comparison failed; returning scalar instead, but in the future will perform elementwise comparison\n",
      "  if AHI_data == 'No data':\n"
     ]
    },
    {
     "name": "stdout",
     "output_type": "stream",
     "text": [
      "Angle data read finished\n",
      "Start reading Atmospheric data\n",
      "Atmospheric data read finished\n",
      "Start Calculate SR\n",
      "Calculate SR finished\n",
      "Start Save SR file \n",
      "Save SR file finished\n",
      "delete file finish\n",
      "time: 19.2 secs, 0.3 mins,0.0 hours\n",
      "start processing 201801210450\n",
      "Himawari8/AHI data Processed Finish\n",
      "data reading finish\n",
      "Start reading Angle data\n"
     ]
    },
    {
     "name": "stderr",
     "output_type": "stream",
     "text": [
      "<ipython-input-6-cf9edf51547c>:25: FutureWarning: elementwise comparison failed; returning scalar instead, but in the future will perform elementwise comparison\n",
      "  if AHI_data == 'No data':\n"
     ]
    },
    {
     "name": "stdout",
     "output_type": "stream",
     "text": [
      "Angle data read finished\n",
      "Start reading Atmospheric data\n",
      "Atmospheric data read finished\n",
      "Start Calculate SR\n",
      "Calculate SR finished\n",
      "Start Save SR file \n",
      "Save SR file finished\n",
      "delete file finish\n",
      "time: 18.9 secs, 0.3 mins,0.0 hours\n",
      "start processing 201801210500\n",
      "Himawari8/AHI data Processed Finish\n",
      "data reading finish\n",
      "Start reading Angle data\n"
     ]
    },
    {
     "name": "stderr",
     "output_type": "stream",
     "text": [
      "<ipython-input-6-cf9edf51547c>:25: FutureWarning: elementwise comparison failed; returning scalar instead, but in the future will perform elementwise comparison\n",
      "  if AHI_data == 'No data':\n"
     ]
    },
    {
     "name": "stdout",
     "output_type": "stream",
     "text": [
      "Angle data read finished\n",
      "Start reading Atmospheric data\n",
      "Atmospheric data read finished\n",
      "Start Calculate SR\n",
      "Calculate SR finished\n",
      "Start Save SR file \n",
      "Save SR file finished\n",
      "delete file finish\n",
      "time: 19.8 secs, 0.3 mins,0.0 hours\n",
      "start processing 201801210510\n",
      "Himawari8/AHI data Processed Finish\n",
      "data reading finish\n",
      "Start reading Angle data\n"
     ]
    },
    {
     "name": "stderr",
     "output_type": "stream",
     "text": [
      "<ipython-input-6-cf9edf51547c>:25: FutureWarning: elementwise comparison failed; returning scalar instead, but in the future will perform elementwise comparison\n",
      "  if AHI_data == 'No data':\n"
     ]
    },
    {
     "name": "stdout",
     "output_type": "stream",
     "text": [
      "Angle data read finished\n",
      "Start reading Atmospheric data\n",
      "Atmospheric data read finished\n",
      "Start Calculate SR\n",
      "Calculate SR finished\n",
      "Start Save SR file \n",
      "Save SR file finished\n",
      "delete file finish\n",
      "time: 19.2 secs, 0.3 mins,0.0 hours\n",
      "start processing 201801210520\n",
      "Himawari8/AHI data Processed Finish\n",
      "data reading finish\n",
      "Start reading Angle data\n"
     ]
    },
    {
     "name": "stderr",
     "output_type": "stream",
     "text": [
      "<ipython-input-6-cf9edf51547c>:25: FutureWarning: elementwise comparison failed; returning scalar instead, but in the future will perform elementwise comparison\n",
      "  if AHI_data == 'No data':\n"
     ]
    },
    {
     "name": "stdout",
     "output_type": "stream",
     "text": [
      "Angle data read finished\n",
      "Start reading Atmospheric data\n",
      "Atmospheric data read finished\n",
      "Start Calculate SR\n",
      "Calculate SR finished\n",
      "Start Save SR file \n",
      "Save SR file finished\n",
      "delete file finish\n",
      "time: 19.8 secs, 0.3 mins,0.0 hours\n",
      "start processing 201801210530\n",
      "Himawari8/AHI data Processed Finish\n",
      "data reading finish\n",
      "Start reading Angle data\n"
     ]
    },
    {
     "name": "stderr",
     "output_type": "stream",
     "text": [
      "<ipython-input-6-cf9edf51547c>:25: FutureWarning: elementwise comparison failed; returning scalar instead, but in the future will perform elementwise comparison\n",
      "  if AHI_data == 'No data':\n"
     ]
    },
    {
     "name": "stdout",
     "output_type": "stream",
     "text": [
      "Angle data read finished\n",
      "Start reading Atmospheric data\n",
      "Atmospheric data read finished\n",
      "Start Calculate SR\n",
      "Calculate SR finished\n",
      "Start Save SR file \n",
      "Save SR file finished\n",
      "delete file finish\n",
      "time: 19.1 secs, 0.3 mins,0.0 hours\n",
      "start processing 201801210540\n",
      "Himawari8/AHI data Processed Finish\n",
      "data reading finish\n",
      "Start reading Angle data\n"
     ]
    },
    {
     "name": "stderr",
     "output_type": "stream",
     "text": [
      "<ipython-input-6-cf9edf51547c>:25: FutureWarning: elementwise comparison failed; returning scalar instead, but in the future will perform elementwise comparison\n",
      "  if AHI_data == 'No data':\n"
     ]
    },
    {
     "name": "stdout",
     "output_type": "stream",
     "text": [
      "Angle data read finished\n",
      "Start reading Atmospheric data\n",
      "Atmospheric data read finished\n",
      "Start Calculate SR\n",
      "Calculate SR finished\n",
      "Start Save SR file \n",
      "Save SR file finished\n",
      "delete file finish\n",
      "time: 19.4 secs, 0.3 mins,0.0 hours\n",
      "start processing 201801210550\n",
      "Himawari8/AHI data Processed Finish\n",
      "data reading finish\n",
      "Start reading Angle data\n"
     ]
    },
    {
     "name": "stderr",
     "output_type": "stream",
     "text": [
      "<ipython-input-6-cf9edf51547c>:25: FutureWarning: elementwise comparison failed; returning scalar instead, but in the future will perform elementwise comparison\n",
      "  if AHI_data == 'No data':\n"
     ]
    },
    {
     "name": "stdout",
     "output_type": "stream",
     "text": [
      "Angle data read finished\n",
      "Start reading Atmospheric data\n",
      "Atmospheric data read finished\n",
      "Start Calculate SR\n",
      "Calculate SR finished\n",
      "Start Save SR file \n",
      "Save SR file finished\n",
      "delete file finish\n",
      "time: 18.9 secs, 0.3 mins,0.0 hours\n",
      "start processing 201801210600\n",
      "Himawari8/AHI data Processed Finish\n",
      "data reading finish\n",
      "Start reading Angle data\n"
     ]
    },
    {
     "name": "stderr",
     "output_type": "stream",
     "text": [
      "<ipython-input-6-cf9edf51547c>:25: FutureWarning: elementwise comparison failed; returning scalar instead, but in the future will perform elementwise comparison\n",
      "  if AHI_data == 'No data':\n"
     ]
    },
    {
     "name": "stdout",
     "output_type": "stream",
     "text": [
      "Angle data read finished\n",
      "Start reading Atmospheric data\n",
      "Atmospheric data read finished\n",
      "Start Calculate SR\n",
      "Calculate SR finished\n",
      "Start Save SR file \n",
      "Save SR file finished\n",
      "delete file finish\n",
      "time: 19.3 secs, 0.3 mins,0.0 hours\n",
      "start processing 201801210610\n",
      "Himawari8/AHI data Processed Finish\n",
      "data reading finish\n",
      "Start reading Angle data\n"
     ]
    },
    {
     "name": "stderr",
     "output_type": "stream",
     "text": [
      "<ipython-input-6-cf9edf51547c>:25: FutureWarning: elementwise comparison failed; returning scalar instead, but in the future will perform elementwise comparison\n",
      "  if AHI_data == 'No data':\n"
     ]
    },
    {
     "name": "stdout",
     "output_type": "stream",
     "text": [
      "Angle data read finished\n",
      "Start reading Atmospheric data\n",
      "Atmospheric data read finished\n",
      "Start Calculate SR\n",
      "Calculate SR finished\n",
      "Start Save SR file \n",
      "Save SR file finished\n",
      "delete file finish\n",
      "time: 19.1 secs, 0.3 mins,0.0 hours\n",
      "start processing 201801210620\n",
      "Himawari8/AHI data Processed Finish\n",
      "data reading finish\n",
      "Start reading Angle data\n"
     ]
    },
    {
     "name": "stderr",
     "output_type": "stream",
     "text": [
      "<ipython-input-6-cf9edf51547c>:25: FutureWarning: elementwise comparison failed; returning scalar instead, but in the future will perform elementwise comparison\n",
      "  if AHI_data == 'No data':\n"
     ]
    },
    {
     "name": "stdout",
     "output_type": "stream",
     "text": [
      "Angle data read finished\n",
      "Start reading Atmospheric data\n",
      "Atmospheric data read finished\n",
      "Start Calculate SR\n",
      "Calculate SR finished\n",
      "Start Save SR file \n",
      "Save SR file finished\n",
      "delete file finish\n",
      "time: 19.3 secs, 0.3 mins,0.0 hours\n",
      "start processing 201801210630\n",
      "Himawari8/AHI data Processed Finish\n",
      "data reading finish\n",
      "Start reading Angle data\n"
     ]
    },
    {
     "name": "stderr",
     "output_type": "stream",
     "text": [
      "<ipython-input-6-cf9edf51547c>:25: FutureWarning: elementwise comparison failed; returning scalar instead, but in the future will perform elementwise comparison\n",
      "  if AHI_data == 'No data':\n"
     ]
    },
    {
     "name": "stdout",
     "output_type": "stream",
     "text": [
      "Angle data read finished\n",
      "Start reading Atmospheric data\n",
      "Atmospheric data read finished\n",
      "Start Calculate SR\n",
      "Calculate SR finished\n",
      "Start Save SR file \n",
      "Save SR file finished\n",
      "delete file finish\n",
      "time: 18.8 secs, 0.3 mins,0.0 hours\n",
      "start processing 201801210640\n",
      "Himawari8/AHI data Processed Finish\n",
      "data reading finish\n",
      "Start reading Angle data\n"
     ]
    },
    {
     "name": "stderr",
     "output_type": "stream",
     "text": [
      "<ipython-input-6-cf9edf51547c>:25: FutureWarning: elementwise comparison failed; returning scalar instead, but in the future will perform elementwise comparison\n",
      "  if AHI_data == 'No data':\n"
     ]
    },
    {
     "name": "stdout",
     "output_type": "stream",
     "text": [
      "Angle data read finished\n",
      "Start reading Atmospheric data\n",
      "Atmospheric data read finished\n",
      "Start Calculate SR\n",
      "Calculate SR finished\n",
      "Start Save SR file \n",
      "Save SR file finished\n",
      "delete file finish\n",
      "time: 19.2 secs, 0.3 mins,0.0 hours\n",
      "start processing 201801210650\n",
      "Himawari8/AHI data Processed Finish\n",
      "data reading finish\n",
      "Start reading Angle data\n"
     ]
    },
    {
     "name": "stderr",
     "output_type": "stream",
     "text": [
      "<ipython-input-6-cf9edf51547c>:25: FutureWarning: elementwise comparison failed; returning scalar instead, but in the future will perform elementwise comparison\n",
      "  if AHI_data == 'No data':\n"
     ]
    },
    {
     "name": "stdout",
     "output_type": "stream",
     "text": [
      "Angle data read finished\n",
      "Start reading Atmospheric data\n",
      "Atmospheric data read finished\n",
      "Start Calculate SR\n",
      "Calculate SR finished\n",
      "Start Save SR file \n",
      "Save SR file finished\n",
      "delete file finish\n",
      "time: 19.0 secs, 0.3 mins,0.0 hours\n",
      "start processing 201801210700\n",
      "Himawari8/AHI data Processed Finish\n",
      "data reading finish\n",
      "Start reading Angle data\n"
     ]
    },
    {
     "name": "stderr",
     "output_type": "stream",
     "text": [
      "<ipython-input-6-cf9edf51547c>:25: FutureWarning: elementwise comparison failed; returning scalar instead, but in the future will perform elementwise comparison\n",
      "  if AHI_data == 'No data':\n"
     ]
    },
    {
     "name": "stdout",
     "output_type": "stream",
     "text": [
      "Angle data read finished\n",
      "Start reading Atmospheric data\n",
      "Atmospheric data read finished\n",
      "Start Calculate SR\n",
      "Calculate SR finished\n",
      "Start Save SR file \n",
      "Save SR file finished\n",
      "delete file finish\n",
      "time: 18.8 secs, 0.3 mins,0.0 hours\n",
      "start processing 201801210710\n",
      "Himawari8/AHI data Processed Finish\n",
      "data reading finish\n",
      "Start reading Angle data\n"
     ]
    },
    {
     "name": "stderr",
     "output_type": "stream",
     "text": [
      "<ipython-input-6-cf9edf51547c>:25: FutureWarning: elementwise comparison failed; returning scalar instead, but in the future will perform elementwise comparison\n",
      "  if AHI_data == 'No data':\n"
     ]
    },
    {
     "name": "stdout",
     "output_type": "stream",
     "text": [
      "Angle data read finished\n",
      "Start reading Atmospheric data\n",
      "Atmospheric data read finished\n",
      "Start Calculate SR\n",
      "Calculate SR finished\n",
      "Start Save SR file \n",
      "Save SR file finished\n",
      "delete file finish\n",
      "time: 18.9 secs, 0.3 mins,0.0 hours\n",
      "start processing 201801210720\n",
      "Himawari8/AHI data Processed Finish\n",
      "data reading finish\n",
      "Start reading Angle data\n"
     ]
    },
    {
     "name": "stderr",
     "output_type": "stream",
     "text": [
      "<ipython-input-6-cf9edf51547c>:25: FutureWarning: elementwise comparison failed; returning scalar instead, but in the future will perform elementwise comparison\n",
      "  if AHI_data == 'No data':\n"
     ]
    },
    {
     "name": "stdout",
     "output_type": "stream",
     "text": [
      "Angle data read finished\n",
      "Start reading Atmospheric data\n",
      "Atmospheric data read finished\n",
      "Start Calculate SR\n",
      "Calculate SR finished\n",
      "Start Save SR file \n",
      "Save SR file finished\n",
      "delete file finish\n",
      "time: 19.2 secs, 0.3 mins,0.0 hours\n",
      "start processing 201801210730\n",
      "Himawari8/AHI data Processed Finish\n",
      "data reading finish\n",
      "Start reading Angle data\n"
     ]
    },
    {
     "name": "stderr",
     "output_type": "stream",
     "text": [
      "<ipython-input-6-cf9edf51547c>:25: FutureWarning: elementwise comparison failed; returning scalar instead, but in the future will perform elementwise comparison\n",
      "  if AHI_data == 'No data':\n"
     ]
    },
    {
     "name": "stdout",
     "output_type": "stream",
     "text": [
      "Angle data read finished\n",
      "Start reading Atmospheric data\n",
      "Atmospheric data read finished\n",
      "Start Calculate SR\n",
      "Calculate SR finished\n",
      "Start Save SR file \n",
      "Save SR file finished\n",
      "delete file finish\n",
      "time: 18.9 secs, 0.3 mins,0.0 hours\n",
      "start processing 201801210740\n",
      "Himawari8/AHI data Processed Finish\n",
      "data reading finish\n",
      "Start reading Angle data\n"
     ]
    },
    {
     "name": "stderr",
     "output_type": "stream",
     "text": [
      "<ipython-input-6-cf9edf51547c>:25: FutureWarning: elementwise comparison failed; returning scalar instead, but in the future will perform elementwise comparison\n",
      "  if AHI_data == 'No data':\n"
     ]
    },
    {
     "name": "stdout",
     "output_type": "stream",
     "text": [
      "Angle data read finished\n",
      "Start reading Atmospheric data\n",
      "Atmospheric data read finished\n",
      "Start Calculate SR\n",
      "Calculate SR finished\n",
      "Start Save SR file \n",
      "Save SR file finished\n",
      "delete file finish\n",
      "time: 18.7 secs, 0.3 mins,0.0 hours\n",
      "start processing 201801210750\n",
      "Himawari8/AHI data Processed Finish\n",
      "data reading finish\n",
      "Start reading Angle data\n"
     ]
    },
    {
     "name": "stderr",
     "output_type": "stream",
     "text": [
      "<ipython-input-6-cf9edf51547c>:25: FutureWarning: elementwise comparison failed; returning scalar instead, but in the future will perform elementwise comparison\n",
      "  if AHI_data == 'No data':\n"
     ]
    },
    {
     "name": "stdout",
     "output_type": "stream",
     "text": [
      "Angle data read finished\n",
      "Start reading Atmospheric data\n",
      "Atmospheric data read finished\n",
      "Start Calculate SR\n",
      "Calculate SR finished\n",
      "Start Save SR file \n",
      "Save SR file finished\n",
      "delete file finish\n",
      "time: 19.0 secs, 0.3 mins,0.0 hours\n",
      "start processing 201801210800\n",
      "Himawari8/AHI data Processed Finish\n",
      "data reading finish\n",
      "Start reading Angle data\n"
     ]
    },
    {
     "name": "stderr",
     "output_type": "stream",
     "text": [
      "<ipython-input-6-cf9edf51547c>:25: FutureWarning: elementwise comparison failed; returning scalar instead, but in the future will perform elementwise comparison\n",
      "  if AHI_data == 'No data':\n"
     ]
    },
    {
     "name": "stdout",
     "output_type": "stream",
     "text": [
      "Angle data read finished\n",
      "Start reading Atmospheric data\n",
      "Atmospheric data read finished\n",
      "Start Calculate SR\n",
      "Calculate SR finished\n",
      "Start Save SR file \n",
      "Save SR file finished\n",
      "delete file finish\n",
      "time: 18.9 secs, 0.3 mins,0.0 hours\n",
      "start processing 201801210810\n",
      "Himawari8/AHI data Processed Finish\n",
      "data reading finish\n",
      "Start reading Angle data\n"
     ]
    },
    {
     "name": "stderr",
     "output_type": "stream",
     "text": [
      "<ipython-input-6-cf9edf51547c>:25: FutureWarning: elementwise comparison failed; returning scalar instead, but in the future will perform elementwise comparison\n",
      "  if AHI_data == 'No data':\n"
     ]
    },
    {
     "name": "stdout",
     "output_type": "stream",
     "text": [
      "Angle data read finished\n",
      "Start reading Atmospheric data\n",
      "Atmospheric data read finished\n",
      "Start Calculate SR\n",
      "Calculate SR finished\n",
      "Start Save SR file \n",
      "Save SR file finished\n",
      "delete file finish\n",
      "time: 18.7 secs, 0.3 mins,0.0 hours\n",
      "start processing 201801210820\n",
      "Himawari8/AHI data Processed Finish\n",
      "data reading finish\n",
      "Start reading Angle data\n"
     ]
    },
    {
     "name": "stderr",
     "output_type": "stream",
     "text": [
      "<ipython-input-6-cf9edf51547c>:25: FutureWarning: elementwise comparison failed; returning scalar instead, but in the future will perform elementwise comparison\n",
      "  if AHI_data == 'No data':\n"
     ]
    },
    {
     "name": "stdout",
     "output_type": "stream",
     "text": [
      "Angle data read finished\n",
      "Start reading Atmospheric data\n",
      "Atmospheric data read finished\n",
      "Start Calculate SR\n",
      "Calculate SR finished\n",
      "Start Save SR file \n",
      "Save SR file finished\n",
      "delete file finish\n",
      "time: 18.9 secs, 0.3 mins,0.0 hours\n",
      "start processing 201801210830\n",
      "Himawari8/AHI data Processed Finish\n",
      "data reading finish\n",
      "Start reading Angle data\n"
     ]
    },
    {
     "name": "stderr",
     "output_type": "stream",
     "text": [
      "<ipython-input-6-cf9edf51547c>:25: FutureWarning: elementwise comparison failed; returning scalar instead, but in the future will perform elementwise comparison\n",
      "  if AHI_data == 'No data':\n"
     ]
    },
    {
     "name": "stdout",
     "output_type": "stream",
     "text": [
      "Angle data read finished\n",
      "Start reading Atmospheric data\n",
      "Atmospheric data read finished\n",
      "Start Calculate SR\n",
      "Calculate SR finished\n",
      "Start Save SR file \n",
      "Save SR file finished\n",
      "delete file finish\n",
      "time: 19.2 secs, 0.3 mins,0.0 hours\n",
      "start processing 201801210840\n",
      "Himawari8/AHI data Processed Finish\n",
      "data reading finish\n",
      "Start reading Angle data\n"
     ]
    },
    {
     "name": "stderr",
     "output_type": "stream",
     "text": [
      "<ipython-input-6-cf9edf51547c>:25: FutureWarning: elementwise comparison failed; returning scalar instead, but in the future will perform elementwise comparison\n",
      "  if AHI_data == 'No data':\n"
     ]
    },
    {
     "name": "stdout",
     "output_type": "stream",
     "text": [
      "Angle data read finished\n",
      "Start reading Atmospheric data\n",
      "Atmospheric data read finished\n",
      "Start Calculate SR\n",
      "Calculate SR finished\n",
      "Start Save SR file \n",
      "Save SR file finished\n",
      "delete file finish\n",
      "time: 18.8 secs, 0.3 mins,0.0 hours\n",
      "start processing 201801210850\n",
      "Himawari8/AHI data Processed Finish\n",
      "data reading finish\n",
      "Start reading Angle data\n"
     ]
    },
    {
     "name": "stderr",
     "output_type": "stream",
     "text": [
      "<ipython-input-6-cf9edf51547c>:25: FutureWarning: elementwise comparison failed; returning scalar instead, but in the future will perform elementwise comparison\n",
      "  if AHI_data == 'No data':\n"
     ]
    },
    {
     "name": "stdout",
     "output_type": "stream",
     "text": [
      "Angle data read finished\n",
      "Start reading Atmospheric data\n",
      "Atmospheric data read finished\n",
      "Start Calculate SR\n",
      "Calculate SR finished\n",
      "Start Save SR file \n",
      "Save SR file finished\n",
      "delete file finish\n",
      "time: 18.7 secs, 0.3 mins,0.0 hours\n",
      "start processing 201801210900\n",
      "Himawari8/AHI data Processed Finish\n",
      "data reading finish\n",
      "Start reading Angle data\n"
     ]
    },
    {
     "name": "stderr",
     "output_type": "stream",
     "text": [
      "<ipython-input-6-cf9edf51547c>:25: FutureWarning: elementwise comparison failed; returning scalar instead, but in the future will perform elementwise comparison\n",
      "  if AHI_data == 'No data':\n"
     ]
    },
    {
     "name": "stdout",
     "output_type": "stream",
     "text": [
      "Angle data read finished\n",
      "Start reading Atmospheric data\n",
      "Atmospheric data read finished\n",
      "Start Calculate SR\n",
      "Calculate SR finished\n",
      "Start Save SR file \n",
      "Save SR file finished\n",
      "delete file finish\n",
      "time: 18.8 secs, 0.3 mins,0.0 hours\n",
      "start processing 201801220000\n",
      "Himawari8/AHI data Processed Finish\n",
      "data reading finish\n",
      "Start reading Angle data\n"
     ]
    },
    {
     "name": "stderr",
     "output_type": "stream",
     "text": [
      "<ipython-input-6-cf9edf51547c>:25: FutureWarning: elementwise comparison failed; returning scalar instead, but in the future will perform elementwise comparison\n",
      "  if AHI_data == 'No data':\n"
     ]
    },
    {
     "name": "stdout",
     "output_type": "stream",
     "text": [
      "Angle data read finished\n",
      "Start reading Atmospheric data\n",
      "Atmospheric data read finished\n",
      "Start Calculate SR\n",
      "Calculate SR finished\n",
      "Start Save SR file \n",
      "Save SR file finished\n",
      "delete file finish\n",
      "time: 19.1 secs, 0.3 mins,0.0 hours\n",
      "start processing 201801220010\n",
      "Himawari8/AHI data Processed Finish\n",
      "data reading finish\n",
      "Start reading Angle data\n"
     ]
    },
    {
     "name": "stderr",
     "output_type": "stream",
     "text": [
      "<ipython-input-6-cf9edf51547c>:25: FutureWarning: elementwise comparison failed; returning scalar instead, but in the future will perform elementwise comparison\n",
      "  if AHI_data == 'No data':\n"
     ]
    },
    {
     "name": "stdout",
     "output_type": "stream",
     "text": [
      "Angle data read finished\n",
      "Start reading Atmospheric data\n",
      "Atmospheric data read finished\n",
      "Start Calculate SR\n",
      "Calculate SR finished\n",
      "Start Save SR file \n",
      "Save SR file finished\n",
      "delete file finish\n",
      "time: 18.8 secs, 0.3 mins,0.0 hours\n",
      "start processing 201801220020\n",
      "Himawari8/AHI data Processed Finish\n",
      "data reading finish\n",
      "Start reading Angle data\n"
     ]
    },
    {
     "name": "stderr",
     "output_type": "stream",
     "text": [
      "<ipython-input-6-cf9edf51547c>:25: FutureWarning: elementwise comparison failed; returning scalar instead, but in the future will perform elementwise comparison\n",
      "  if AHI_data == 'No data':\n"
     ]
    },
    {
     "name": "stdout",
     "output_type": "stream",
     "text": [
      "Angle data read finished\n",
      "Start reading Atmospheric data\n",
      "Atmospheric data read finished\n",
      "Start Calculate SR\n",
      "Calculate SR finished\n",
      "Start Save SR file \n",
      "Save SR file finished\n",
      "delete file finish\n",
      "time: 19.0 secs, 0.3 mins,0.0 hours\n",
      "start processing 201801220030\n",
      "Himawari8/AHI data Processed Finish\n",
      "data reading finish\n",
      "Start reading Angle data\n"
     ]
    },
    {
     "name": "stderr",
     "output_type": "stream",
     "text": [
      "<ipython-input-6-cf9edf51547c>:25: FutureWarning: elementwise comparison failed; returning scalar instead, but in the future will perform elementwise comparison\n",
      "  if AHI_data == 'No data':\n"
     ]
    },
    {
     "name": "stdout",
     "output_type": "stream",
     "text": [
      "Angle data read finished\n",
      "Start reading Atmospheric data\n",
      "Atmospheric data read finished\n",
      "Start Calculate SR\n",
      "Calculate SR finished\n",
      "Start Save SR file \n",
      "Save SR file finished\n",
      "delete file finish\n",
      "time: 18.9 secs, 0.3 mins,0.0 hours\n",
      "start processing 201801220040\n",
      "Himawari8/AHI data Processed Finish\n",
      "data reading finish\n",
      "Start reading Angle data\n"
     ]
    },
    {
     "name": "stderr",
     "output_type": "stream",
     "text": [
      "<ipython-input-6-cf9edf51547c>:25: FutureWarning: elementwise comparison failed; returning scalar instead, but in the future will perform elementwise comparison\n",
      "  if AHI_data == 'No data':\n"
     ]
    },
    {
     "name": "stdout",
     "output_type": "stream",
     "text": [
      "Angle data read finished\n",
      "Start reading Atmospheric data\n",
      "Atmospheric data read finished\n",
      "Start Calculate SR\n",
      "Calculate SR finished\n",
      "Start Save SR file \n",
      "Save SR file finished\n",
      "delete file finish\n",
      "time: 19.2 secs, 0.3 mins,0.0 hours\n",
      "start processing 201801220050\n",
      "Himawari8/AHI data Processed Finish\n",
      "data reading finish\n",
      "Start reading Angle data\n"
     ]
    },
    {
     "name": "stderr",
     "output_type": "stream",
     "text": [
      "<ipython-input-6-cf9edf51547c>:25: FutureWarning: elementwise comparison failed; returning scalar instead, but in the future will perform elementwise comparison\n",
      "  if AHI_data == 'No data':\n"
     ]
    },
    {
     "name": "stdout",
     "output_type": "stream",
     "text": [
      "Angle data read finished\n",
      "Start reading Atmospheric data\n",
      "Atmospheric data read finished\n",
      "Start Calculate SR\n",
      "Calculate SR finished\n",
      "Start Save SR file \n",
      "Save SR file finished\n",
      "delete file finish\n",
      "time: 20.5 secs, 0.3 mins,0.0 hours\n",
      "start processing 201801220100\n",
      "Himawari8/AHI data Processed Finish\n",
      "data reading finish\n",
      "Start reading Angle data\n"
     ]
    },
    {
     "name": "stderr",
     "output_type": "stream",
     "text": [
      "<ipython-input-6-cf9edf51547c>:25: FutureWarning: elementwise comparison failed; returning scalar instead, but in the future will perform elementwise comparison\n",
      "  if AHI_data == 'No data':\n"
     ]
    },
    {
     "name": "stdout",
     "output_type": "stream",
     "text": [
      "Angle data read finished\n",
      "Start reading Atmospheric data\n",
      "Atmospheric data read finished\n",
      "Start Calculate SR\n",
      "Calculate SR finished\n",
      "Start Save SR file \n",
      "Save SR file finished\n",
      "delete file finish\n",
      "time: 19.2 secs, 0.3 mins,0.0 hours\n",
      "start processing 201801220110\n",
      "Himawari8/AHI data Processed Finish\n",
      "data reading finish\n",
      "Start reading Angle data\n"
     ]
    },
    {
     "name": "stderr",
     "output_type": "stream",
     "text": [
      "<ipython-input-6-cf9edf51547c>:25: FutureWarning: elementwise comparison failed; returning scalar instead, but in the future will perform elementwise comparison\n",
      "  if AHI_data == 'No data':\n"
     ]
    },
    {
     "name": "stdout",
     "output_type": "stream",
     "text": [
      "Angle data read finished\n",
      "Start reading Atmospheric data\n",
      "Atmospheric data read finished\n",
      "Start Calculate SR\n",
      "Calculate SR finished\n",
      "Start Save SR file \n",
      "Save SR file finished\n",
      "delete file finish\n",
      "time: 18.9 secs, 0.3 mins,0.0 hours\n",
      "start processing 201801220120\n",
      "Himawari8/AHI data Processed Finish\n",
      "data reading finish\n",
      "Start reading Angle data\n"
     ]
    },
    {
     "name": "stderr",
     "output_type": "stream",
     "text": [
      "<ipython-input-6-cf9edf51547c>:25: FutureWarning: elementwise comparison failed; returning scalar instead, but in the future will perform elementwise comparison\n",
      "  if AHI_data == 'No data':\n"
     ]
    },
    {
     "name": "stdout",
     "output_type": "stream",
     "text": [
      "Angle data read finished\n",
      "Start reading Atmospheric data\n",
      "Atmospheric data read finished\n",
      "Start Calculate SR\n",
      "Calculate SR finished\n",
      "Start Save SR file \n",
      "Save SR file finished\n",
      "delete file finish\n",
      "time: 18.9 secs, 0.3 mins,0.0 hours\n",
      "start processing 201801220130\n",
      "Himawari8/AHI data Processed Finish\n",
      "data reading finish\n",
      "Start reading Angle data\n"
     ]
    },
    {
     "name": "stderr",
     "output_type": "stream",
     "text": [
      "<ipython-input-6-cf9edf51547c>:25: FutureWarning: elementwise comparison failed; returning scalar instead, but in the future will perform elementwise comparison\n",
      "  if AHI_data == 'No data':\n"
     ]
    },
    {
     "name": "stdout",
     "output_type": "stream",
     "text": [
      "Angle data read finished\n",
      "Start reading Atmospheric data\n",
      "Atmospheric data read finished\n",
      "Start Calculate SR\n",
      "Calculate SR finished\n",
      "Start Save SR file \n",
      "Save SR file finished\n",
      "delete file finish\n",
      "time: 19.9 secs, 0.3 mins,0.0 hours\n",
      "start processing 201801220140\n",
      "Himawari8/AHI data Processed Finish\n",
      "data reading finish\n",
      "Start reading Angle data\n"
     ]
    },
    {
     "name": "stderr",
     "output_type": "stream",
     "text": [
      "<ipython-input-6-cf9edf51547c>:25: FutureWarning: elementwise comparison failed; returning scalar instead, but in the future will perform elementwise comparison\n",
      "  if AHI_data == 'No data':\n"
     ]
    },
    {
     "name": "stdout",
     "output_type": "stream",
     "text": [
      "Angle data read finished\n",
      "Start reading Atmospheric data\n",
      "Atmospheric data read finished\n",
      "Start Calculate SR\n",
      "Calculate SR finished\n",
      "Start Save SR file \n",
      "Save SR file finished\n",
      "delete file finish\n",
      "time: 19.0 secs, 0.3 mins,0.0 hours\n",
      "start processing 201801220150\n",
      "Himawari8/AHI data Processed Finish\n",
      "data reading finish\n",
      "Start reading Angle data\n"
     ]
    },
    {
     "name": "stderr",
     "output_type": "stream",
     "text": [
      "<ipython-input-6-cf9edf51547c>:25: FutureWarning: elementwise comparison failed; returning scalar instead, but in the future will perform elementwise comparison\n",
      "  if AHI_data == 'No data':\n"
     ]
    },
    {
     "name": "stdout",
     "output_type": "stream",
     "text": [
      "Angle data read finished\n",
      "Start reading Atmospheric data\n",
      "Atmospheric data read finished\n",
      "Start Calculate SR\n",
      "Calculate SR finished\n",
      "Start Save SR file \n",
      "Save SR file finished\n",
      "delete file finish\n",
      "time: 19.4 secs, 0.3 mins,0.0 hours\n",
      "start processing 201801220200\n",
      "Himawari8/AHI data Processed Finish\n",
      "data reading finish\n",
      "Start reading Angle data\n"
     ]
    },
    {
     "name": "stderr",
     "output_type": "stream",
     "text": [
      "<ipython-input-6-cf9edf51547c>:25: FutureWarning: elementwise comparison failed; returning scalar instead, but in the future will perform elementwise comparison\n",
      "  if AHI_data == 'No data':\n"
     ]
    },
    {
     "name": "stdout",
     "output_type": "stream",
     "text": [
      "Angle data read finished\n",
      "Start reading Atmospheric data\n",
      "Atmospheric data read finished\n",
      "Start Calculate SR\n",
      "Calculate SR finished\n",
      "Start Save SR file \n",
      "Save SR file finished\n",
      "delete file finish\n",
      "time: 19.0 secs, 0.3 mins,0.0 hours\n",
      "start processing 201801220210\n",
      "Himawari8/AHI data Processed Finish\n",
      "data reading finish\n",
      "Start reading Angle data\n"
     ]
    },
    {
     "name": "stderr",
     "output_type": "stream",
     "text": [
      "<ipython-input-6-cf9edf51547c>:25: FutureWarning: elementwise comparison failed; returning scalar instead, but in the future will perform elementwise comparison\n",
      "  if AHI_data == 'No data':\n"
     ]
    },
    {
     "name": "stdout",
     "output_type": "stream",
     "text": [
      "Angle data read finished\n",
      "Start reading Atmospheric data\n",
      "Atmospheric data read finished\n",
      "Start Calculate SR\n",
      "Calculate SR finished\n",
      "Start Save SR file \n",
      "Save SR file finished\n",
      "delete file finish\n",
      "time: 18.9 secs, 0.3 mins,0.0 hours\n",
      "start processing 201801220220\n",
      "Himawari8/AHI data Processed Finish\n",
      "data reading finish\n",
      "Start reading Angle data\n"
     ]
    },
    {
     "name": "stderr",
     "output_type": "stream",
     "text": [
      "<ipython-input-6-cf9edf51547c>:25: FutureWarning: elementwise comparison failed; returning scalar instead, but in the future will perform elementwise comparison\n",
      "  if AHI_data == 'No data':\n"
     ]
    },
    {
     "name": "stdout",
     "output_type": "stream",
     "text": [
      "Angle data read finished\n",
      "Start reading Atmospheric data\n",
      "Atmospheric data read finished\n",
      "Start Calculate SR\n",
      "Calculate SR finished\n",
      "Start Save SR file \n",
      "Save SR file finished\n",
      "delete file finish\n",
      "time: 19.1 secs, 0.3 mins,0.0 hours\n",
      "start processing 201801220230\n",
      "Himawari8/AHI data Processed Finish\n",
      "data reading finish\n",
      "Start reading Angle data\n"
     ]
    },
    {
     "name": "stderr",
     "output_type": "stream",
     "text": [
      "<ipython-input-6-cf9edf51547c>:25: FutureWarning: elementwise comparison failed; returning scalar instead, but in the future will perform elementwise comparison\n",
      "  if AHI_data == 'No data':\n"
     ]
    },
    {
     "name": "stdout",
     "output_type": "stream",
     "text": [
      "Angle data read finished\n",
      "Start reading Atmospheric data\n",
      "Atmospheric data read finished\n",
      "Start Calculate SR\n",
      "Calculate SR finished\n",
      "Start Save SR file \n",
      "Save SR file finished\n",
      "delete file finish\n",
      "time: 18.9 secs, 0.3 mins,0.0 hours\n",
      "start processing 201801220240\n",
      "File Not Found\n",
      "start processing 201801220250\n",
      "Himawari8/AHI data Processed Finish\n",
      "data reading finish\n",
      "Start reading Angle data\n"
     ]
    },
    {
     "name": "stderr",
     "output_type": "stream",
     "text": [
      "<ipython-input-6-cf9edf51547c>:25: FutureWarning: elementwise comparison failed; returning scalar instead, but in the future will perform elementwise comparison\n",
      "  if AHI_data == 'No data':\n"
     ]
    },
    {
     "name": "stdout",
     "output_type": "stream",
     "text": [
      "Angle data read finished\n",
      "Start reading Atmospheric data\n",
      "Atmospheric data read finished\n",
      "Start Calculate SR\n",
      "Calculate SR finished\n",
      "Start Save SR file \n",
      "Save SR file finished\n",
      "delete file finish\n",
      "time: 19.0 secs, 0.3 mins,0.0 hours\n",
      "start processing 201801220300\n",
      "Himawari8/AHI data Processed Finish\n",
      "data reading finish\n",
      "Start reading Angle data\n"
     ]
    },
    {
     "name": "stderr",
     "output_type": "stream",
     "text": [
      "<ipython-input-6-cf9edf51547c>:25: FutureWarning: elementwise comparison failed; returning scalar instead, but in the future will perform elementwise comparison\n",
      "  if AHI_data == 'No data':\n"
     ]
    },
    {
     "name": "stdout",
     "output_type": "stream",
     "text": [
      "Angle data read finished\n",
      "Start reading Atmospheric data\n",
      "Atmospheric data read finished\n",
      "Start Calculate SR\n",
      "Calculate SR finished\n",
      "Start Save SR file \n",
      "Save SR file finished\n",
      "delete file finish\n",
      "time: 19.1 secs, 0.3 mins,0.0 hours\n",
      "start processing 201801220310\n",
      "Himawari8/AHI data Processed Finish\n",
      "data reading finish\n",
      "Start reading Angle data\n"
     ]
    },
    {
     "name": "stderr",
     "output_type": "stream",
     "text": [
      "<ipython-input-6-cf9edf51547c>:25: FutureWarning: elementwise comparison failed; returning scalar instead, but in the future will perform elementwise comparison\n",
      "  if AHI_data == 'No data':\n"
     ]
    },
    {
     "name": "stdout",
     "output_type": "stream",
     "text": [
      "Angle data read finished\n",
      "Start reading Atmospheric data\n",
      "Atmospheric data read finished\n",
      "Start Calculate SR\n",
      "Calculate SR finished\n",
      "Start Save SR file \n",
      "Save SR file finished\n",
      "delete file finish\n",
      "time: 19.3 secs, 0.3 mins,0.0 hours\n",
      "start processing 201801220320\n",
      "Himawari8/AHI data Processed Finish\n",
      "data reading finish\n",
      "Start reading Angle data\n"
     ]
    },
    {
     "name": "stderr",
     "output_type": "stream",
     "text": [
      "<ipython-input-6-cf9edf51547c>:25: FutureWarning: elementwise comparison failed; returning scalar instead, but in the future will perform elementwise comparison\n",
      "  if AHI_data == 'No data':\n"
     ]
    },
    {
     "name": "stdout",
     "output_type": "stream",
     "text": [
      "Angle data read finished\n",
      "Start reading Atmospheric data\n",
      "Atmospheric data read finished\n",
      "Start Calculate SR\n",
      "Calculate SR finished\n",
      "Start Save SR file \n",
      "Save SR file finished\n",
      "delete file finish\n",
      "time: 19.0 secs, 0.3 mins,0.0 hours\n",
      "start processing 201801220330\n",
      "Himawari8/AHI data Processed Finish\n",
      "data reading finish\n",
      "Start reading Angle data\n"
     ]
    },
    {
     "name": "stderr",
     "output_type": "stream",
     "text": [
      "<ipython-input-6-cf9edf51547c>:25: FutureWarning: elementwise comparison failed; returning scalar instead, but in the future will perform elementwise comparison\n",
      "  if AHI_data == 'No data':\n"
     ]
    },
    {
     "name": "stdout",
     "output_type": "stream",
     "text": [
      "Angle data read finished\n",
      "Start reading Atmospheric data\n",
      "Atmospheric data read finished\n",
      "Start Calculate SR\n",
      "Calculate SR finished\n",
      "Start Save SR file \n",
      "Save SR file finished\n",
      "delete file finish\n",
      "time: 19.1 secs, 0.3 mins,0.0 hours\n",
      "start processing 201801220340\n",
      "Himawari8/AHI data Processed Finish\n",
      "data reading finish\n",
      "Start reading Angle data\n"
     ]
    },
    {
     "name": "stderr",
     "output_type": "stream",
     "text": [
      "<ipython-input-6-cf9edf51547c>:25: FutureWarning: elementwise comparison failed; returning scalar instead, but in the future will perform elementwise comparison\n",
      "  if AHI_data == 'No data':\n"
     ]
    },
    {
     "name": "stdout",
     "output_type": "stream",
     "text": [
      "Angle data read finished\n",
      "Start reading Atmospheric data\n",
      "Atmospheric data read finished\n",
      "Start Calculate SR\n",
      "Calculate SR finished\n",
      "Start Save SR file \n",
      "Save SR file finished\n",
      "delete file finish\n",
      "time: 19.1 secs, 0.3 mins,0.0 hours\n",
      "start processing 201801220350\n",
      "Himawari8/AHI data Processed Finish\n",
      "data reading finish\n",
      "Start reading Angle data\n"
     ]
    },
    {
     "name": "stderr",
     "output_type": "stream",
     "text": [
      "<ipython-input-6-cf9edf51547c>:25: FutureWarning: elementwise comparison failed; returning scalar instead, but in the future will perform elementwise comparison\n",
      "  if AHI_data == 'No data':\n"
     ]
    },
    {
     "name": "stdout",
     "output_type": "stream",
     "text": [
      "Angle data read finished\n",
      "Start reading Atmospheric data\n",
      "Atmospheric data read finished\n",
      "Start Calculate SR\n",
      "Calculate SR finished\n",
      "Start Save SR file \n",
      "Save SR file finished\n",
      "delete file finish\n",
      "time: 18.9 secs, 0.3 mins,0.0 hours\n",
      "start processing 201801220400\n",
      "Himawari8/AHI data Processed Finish\n",
      "data reading finish\n",
      "Start reading Angle data\n"
     ]
    },
    {
     "name": "stderr",
     "output_type": "stream",
     "text": [
      "<ipython-input-6-cf9edf51547c>:25: FutureWarning: elementwise comparison failed; returning scalar instead, but in the future will perform elementwise comparison\n",
      "  if AHI_data == 'No data':\n"
     ]
    },
    {
     "name": "stdout",
     "output_type": "stream",
     "text": [
      "Angle data read finished\n",
      "Start reading Atmospheric data\n",
      "Atmospheric data read finished\n",
      "Start Calculate SR\n",
      "Calculate SR finished\n",
      "Start Save SR file \n",
      "Save SR file finished\n",
      "delete file finish\n",
      "time: 18.9 secs, 0.3 mins,0.0 hours\n",
      "start processing 201801220410\n",
      "Himawari8/AHI data Processed Finish\n",
      "data reading finish\n",
      "Start reading Angle data\n"
     ]
    },
    {
     "name": "stderr",
     "output_type": "stream",
     "text": [
      "<ipython-input-6-cf9edf51547c>:25: FutureWarning: elementwise comparison failed; returning scalar instead, but in the future will perform elementwise comparison\n",
      "  if AHI_data == 'No data':\n"
     ]
    },
    {
     "name": "stdout",
     "output_type": "stream",
     "text": [
      "Angle data read finished\n",
      "Start reading Atmospheric data\n",
      "Atmospheric data read finished\n",
      "Start Calculate SR\n",
      "Calculate SR finished\n",
      "Start Save SR file \n",
      "Save SR file finished\n",
      "delete file finish\n",
      "time: 19.0 secs, 0.3 mins,0.0 hours\n",
      "start processing 201801220420\n",
      "Himawari8/AHI data Processed Finish\n",
      "data reading finish\n",
      "Start reading Angle data\n"
     ]
    },
    {
     "name": "stderr",
     "output_type": "stream",
     "text": [
      "<ipython-input-6-cf9edf51547c>:25: FutureWarning: elementwise comparison failed; returning scalar instead, but in the future will perform elementwise comparison\n",
      "  if AHI_data == 'No data':\n"
     ]
    },
    {
     "name": "stdout",
     "output_type": "stream",
     "text": [
      "Angle data read finished\n",
      "Start reading Atmospheric data\n",
      "Atmospheric data read finished\n",
      "Start Calculate SR\n",
      "Calculate SR finished\n",
      "Start Save SR file \n",
      "Save SR file finished\n",
      "delete file finish\n",
      "time: 19.1 secs, 0.3 mins,0.0 hours\n",
      "start processing 201801220430\n",
      "Himawari8/AHI data Processed Finish\n",
      "data reading finish\n",
      "Start reading Angle data\n"
     ]
    },
    {
     "name": "stderr",
     "output_type": "stream",
     "text": [
      "<ipython-input-6-cf9edf51547c>:25: FutureWarning: elementwise comparison failed; returning scalar instead, but in the future will perform elementwise comparison\n",
      "  if AHI_data == 'No data':\n"
     ]
    },
    {
     "name": "stdout",
     "output_type": "stream",
     "text": [
      "Angle data read finished\n",
      "Start reading Atmospheric data\n",
      "Atmospheric data read finished\n",
      "Start Calculate SR\n",
      "Calculate SR finished\n",
      "Start Save SR file \n",
      "Save SR file finished\n",
      "delete file finish\n",
      "time: 18.9 secs, 0.3 mins,0.0 hours\n",
      "start processing 201801220440\n",
      "Himawari8/AHI data Processed Finish\n",
      "data reading finish\n",
      "Start reading Angle data\n"
     ]
    },
    {
     "name": "stderr",
     "output_type": "stream",
     "text": [
      "<ipython-input-6-cf9edf51547c>:25: FutureWarning: elementwise comparison failed; returning scalar instead, but in the future will perform elementwise comparison\n",
      "  if AHI_data == 'No data':\n"
     ]
    },
    {
     "name": "stdout",
     "output_type": "stream",
     "text": [
      "Angle data read finished\n",
      "Start reading Atmospheric data\n",
      "Atmospheric data read finished\n",
      "Start Calculate SR\n",
      "Calculate SR finished\n",
      "Start Save SR file \n",
      "Save SR file finished\n",
      "delete file finish\n",
      "time: 18.9 secs, 0.3 mins,0.0 hours\n",
      "start processing 201801220450\n",
      "Himawari8/AHI data Processed Finish\n",
      "data reading finish\n",
      "Start reading Angle data\n"
     ]
    },
    {
     "name": "stderr",
     "output_type": "stream",
     "text": [
      "<ipython-input-6-cf9edf51547c>:25: FutureWarning: elementwise comparison failed; returning scalar instead, but in the future will perform elementwise comparison\n",
      "  if AHI_data == 'No data':\n"
     ]
    },
    {
     "name": "stdout",
     "output_type": "stream",
     "text": [
      "Angle data read finished\n",
      "Start reading Atmospheric data\n",
      "Atmospheric data read finished\n",
      "Start Calculate SR\n",
      "Calculate SR finished\n",
      "Start Save SR file \n",
      "Save SR file finished\n",
      "delete file finish\n",
      "time: 19.0 secs, 0.3 mins,0.0 hours\n",
      "start processing 201801220500\n",
      "Himawari8/AHI data Processed Finish\n",
      "data reading finish\n",
      "Start reading Angle data\n"
     ]
    },
    {
     "name": "stderr",
     "output_type": "stream",
     "text": [
      "<ipython-input-6-cf9edf51547c>:25: FutureWarning: elementwise comparison failed; returning scalar instead, but in the future will perform elementwise comparison\n",
      "  if AHI_data == 'No data':\n"
     ]
    },
    {
     "name": "stdout",
     "output_type": "stream",
     "text": [
      "Angle data read finished\n",
      "Start reading Atmospheric data\n",
      "Atmospheric data read finished\n",
      "Start Calculate SR\n",
      "Calculate SR finished\n",
      "Start Save SR file \n",
      "Save SR file finished\n",
      "delete file finish\n",
      "time: 19.1 secs, 0.3 mins,0.0 hours\n",
      "start processing 201801220510\n",
      "Himawari8/AHI data Processed Finish\n",
      "data reading finish\n",
      "Start reading Angle data\n"
     ]
    },
    {
     "name": "stderr",
     "output_type": "stream",
     "text": [
      "<ipython-input-6-cf9edf51547c>:25: FutureWarning: elementwise comparison failed; returning scalar instead, but in the future will perform elementwise comparison\n",
      "  if AHI_data == 'No data':\n"
     ]
    },
    {
     "name": "stdout",
     "output_type": "stream",
     "text": [
      "Angle data read finished\n",
      "Start reading Atmospheric data\n",
      "Atmospheric data read finished\n",
      "Start Calculate SR\n",
      "Calculate SR finished\n",
      "Start Save SR file \n",
      "Save SR file finished\n",
      "delete file finish\n",
      "time: 19.0 secs, 0.3 mins,0.0 hours\n",
      "start processing 201801220520\n",
      "Himawari8/AHI data Processed Finish\n",
      "data reading finish\n",
      "Start reading Angle data\n"
     ]
    },
    {
     "name": "stderr",
     "output_type": "stream",
     "text": [
      "<ipython-input-6-cf9edf51547c>:25: FutureWarning: elementwise comparison failed; returning scalar instead, but in the future will perform elementwise comparison\n",
      "  if AHI_data == 'No data':\n"
     ]
    },
    {
     "name": "stdout",
     "output_type": "stream",
     "text": [
      "Angle data read finished\n",
      "Start reading Atmospheric data\n",
      "Atmospheric data read finished\n",
      "Start Calculate SR\n",
      "Calculate SR finished\n",
      "Start Save SR file \n",
      "Save SR file finished\n",
      "delete file finish\n",
      "time: 18.9 secs, 0.3 mins,0.0 hours\n",
      "start processing 201801220530\n",
      "Himawari8/AHI data Processed Finish\n",
      "data reading finish\n",
      "Start reading Angle data\n"
     ]
    },
    {
     "name": "stderr",
     "output_type": "stream",
     "text": [
      "<ipython-input-6-cf9edf51547c>:25: FutureWarning: elementwise comparison failed; returning scalar instead, but in the future will perform elementwise comparison\n",
      "  if AHI_data == 'No data':\n"
     ]
    },
    {
     "name": "stdout",
     "output_type": "stream",
     "text": [
      "Angle data read finished\n",
      "Start reading Atmospheric data\n",
      "Atmospheric data read finished\n",
      "Start Calculate SR\n",
      "Calculate SR finished\n",
      "Start Save SR file \n",
      "Save SR file finished\n",
      "delete file finish\n",
      "time: 19.1 secs, 0.3 mins,0.0 hours\n",
      "start processing 201801220540\n",
      "Himawari8/AHI data Processed Finish\n",
      "data reading finish\n",
      "Start reading Angle data\n"
     ]
    },
    {
     "name": "stderr",
     "output_type": "stream",
     "text": [
      "<ipython-input-6-cf9edf51547c>:25: FutureWarning: elementwise comparison failed; returning scalar instead, but in the future will perform elementwise comparison\n",
      "  if AHI_data == 'No data':\n"
     ]
    },
    {
     "name": "stdout",
     "output_type": "stream",
     "text": [
      "Angle data read finished\n",
      "Start reading Atmospheric data\n",
      "Atmospheric data read finished\n",
      "Start Calculate SR\n",
      "Calculate SR finished\n",
      "Start Save SR file \n",
      "Save SR file finished\n",
      "delete file finish\n",
      "time: 19.1 secs, 0.3 mins,0.0 hours\n",
      "start processing 201801220550\n",
      "Himawari8/AHI data Processed Finish\n",
      "data reading finish\n",
      "Start reading Angle data\n"
     ]
    },
    {
     "name": "stderr",
     "output_type": "stream",
     "text": [
      "<ipython-input-6-cf9edf51547c>:25: FutureWarning: elementwise comparison failed; returning scalar instead, but in the future will perform elementwise comparison\n",
      "  if AHI_data == 'No data':\n"
     ]
    },
    {
     "name": "stdout",
     "output_type": "stream",
     "text": [
      "Angle data read finished\n",
      "Start reading Atmospheric data\n",
      "Atmospheric data read finished\n",
      "Start Calculate SR\n",
      "Calculate SR finished\n",
      "Start Save SR file \n",
      "Save SR file finished\n",
      "delete file finish\n",
      "time: 19.1 secs, 0.3 mins,0.0 hours\n",
      "start processing 201801220600\n",
      "Himawari8/AHI data Processed Finish\n",
      "data reading finish\n",
      "Start reading Angle data\n"
     ]
    },
    {
     "name": "stderr",
     "output_type": "stream",
     "text": [
      "<ipython-input-6-cf9edf51547c>:25: FutureWarning: elementwise comparison failed; returning scalar instead, but in the future will perform elementwise comparison\n",
      "  if AHI_data == 'No data':\n"
     ]
    },
    {
     "name": "stdout",
     "output_type": "stream",
     "text": [
      "Angle data read finished\n",
      "Start reading Atmospheric data\n",
      "Atmospheric data read finished\n",
      "Start Calculate SR\n",
      "Calculate SR finished\n",
      "Start Save SR file \n",
      "Save SR file finished\n",
      "delete file finish\n",
      "time: 18.8 secs, 0.3 mins,0.0 hours\n",
      "start processing 201801220610\n",
      "Himawari8/AHI data Processed Finish\n",
      "data reading finish\n",
      "Start reading Angle data\n"
     ]
    },
    {
     "name": "stderr",
     "output_type": "stream",
     "text": [
      "<ipython-input-6-cf9edf51547c>:25: FutureWarning: elementwise comparison failed; returning scalar instead, but in the future will perform elementwise comparison\n",
      "  if AHI_data == 'No data':\n"
     ]
    },
    {
     "name": "stdout",
     "output_type": "stream",
     "text": [
      "Angle data read finished\n",
      "Start reading Atmospheric data\n",
      "Atmospheric data read finished\n",
      "Start Calculate SR\n",
      "Calculate SR finished\n",
      "Start Save SR file \n",
      "Save SR file finished\n",
      "delete file finish\n",
      "time: 19.1 secs, 0.3 mins,0.0 hours\n",
      "start processing 201801220620\n",
      "Himawari8/AHI data Processed Finish\n",
      "data reading finish\n",
      "Start reading Angle data\n"
     ]
    },
    {
     "name": "stderr",
     "output_type": "stream",
     "text": [
      "<ipython-input-6-cf9edf51547c>:25: FutureWarning: elementwise comparison failed; returning scalar instead, but in the future will perform elementwise comparison\n",
      "  if AHI_data == 'No data':\n"
     ]
    },
    {
     "name": "stdout",
     "output_type": "stream",
     "text": [
      "Angle data read finished\n",
      "Start reading Atmospheric data\n",
      "Atmospheric data read finished\n",
      "Start Calculate SR\n",
      "Calculate SR finished\n",
      "Start Save SR file \n",
      "Save SR file finished\n",
      "delete file finish\n",
      "time: 19.3 secs, 0.3 mins,0.0 hours\n",
      "start processing 201801220630\n",
      "Himawari8/AHI data Processed Finish\n",
      "data reading finish\n",
      "Start reading Angle data\n"
     ]
    },
    {
     "name": "stderr",
     "output_type": "stream",
     "text": [
      "<ipython-input-6-cf9edf51547c>:25: FutureWarning: elementwise comparison failed; returning scalar instead, but in the future will perform elementwise comparison\n",
      "  if AHI_data == 'No data':\n"
     ]
    },
    {
     "name": "stdout",
     "output_type": "stream",
     "text": [
      "Angle data read finished\n",
      "Start reading Atmospheric data\n",
      "Atmospheric data read finished\n",
      "Start Calculate SR\n",
      "Calculate SR finished\n",
      "Start Save SR file \n",
      "Save SR file finished\n",
      "delete file finish\n",
      "time: 19.0 secs, 0.3 mins,0.0 hours\n",
      "start processing 201801220640\n",
      "Himawari8/AHI data Processed Finish\n",
      "data reading finish\n",
      "Start reading Angle data\n"
     ]
    },
    {
     "name": "stderr",
     "output_type": "stream",
     "text": [
      "<ipython-input-6-cf9edf51547c>:25: FutureWarning: elementwise comparison failed; returning scalar instead, but in the future will perform elementwise comparison\n",
      "  if AHI_data == 'No data':\n"
     ]
    },
    {
     "name": "stdout",
     "output_type": "stream",
     "text": [
      "Angle data read finished\n",
      "Start reading Atmospheric data\n",
      "Atmospheric data read finished\n",
      "Start Calculate SR\n",
      "Calculate SR finished\n",
      "Start Save SR file \n",
      "Save SR file finished\n",
      "delete file finish\n",
      "time: 19.5 secs, 0.3 mins,0.0 hours\n",
      "start processing 201801220650\n",
      "Himawari8/AHI data Processed Finish\n",
      "data reading finish\n",
      "Start reading Angle data\n"
     ]
    },
    {
     "name": "stderr",
     "output_type": "stream",
     "text": [
      "<ipython-input-6-cf9edf51547c>:25: FutureWarning: elementwise comparison failed; returning scalar instead, but in the future will perform elementwise comparison\n",
      "  if AHI_data == 'No data':\n"
     ]
    },
    {
     "name": "stdout",
     "output_type": "stream",
     "text": [
      "Angle data read finished\n",
      "Start reading Atmospheric data\n",
      "Atmospheric data read finished\n",
      "Start Calculate SR\n",
      "Calculate SR finished\n",
      "Start Save SR file \n",
      "Save SR file finished\n",
      "delete file finish\n",
      "time: 19.4 secs, 0.3 mins,0.0 hours\n",
      "start processing 201801220700\n",
      "Himawari8/AHI data Processed Finish\n",
      "data reading finish\n",
      "Start reading Angle data\n"
     ]
    },
    {
     "name": "stderr",
     "output_type": "stream",
     "text": [
      "<ipython-input-6-cf9edf51547c>:25: FutureWarning: elementwise comparison failed; returning scalar instead, but in the future will perform elementwise comparison\n",
      "  if AHI_data == 'No data':\n"
     ]
    },
    {
     "name": "stdout",
     "output_type": "stream",
     "text": [
      "Angle data read finished\n",
      "Start reading Atmospheric data\n",
      "Atmospheric data read finished\n",
      "Start Calculate SR\n",
      "Calculate SR finished\n",
      "Start Save SR file \n",
      "Save SR file finished\n",
      "delete file finish\n",
      "time: 19.1 secs, 0.3 mins,0.0 hours\n",
      "start processing 201801220710\n",
      "Himawari8/AHI data Processed Finish\n",
      "data reading finish\n",
      "Start reading Angle data\n"
     ]
    },
    {
     "name": "stderr",
     "output_type": "stream",
     "text": [
      "<ipython-input-6-cf9edf51547c>:25: FutureWarning: elementwise comparison failed; returning scalar instead, but in the future will perform elementwise comparison\n",
      "  if AHI_data == 'No data':\n"
     ]
    },
    {
     "name": "stdout",
     "output_type": "stream",
     "text": [
      "Angle data read finished\n",
      "Start reading Atmospheric data\n",
      "Atmospheric data read finished\n",
      "Start Calculate SR\n",
      "Calculate SR finished\n",
      "Start Save SR file \n",
      "Save SR file finished\n",
      "delete file finish\n",
      "time: 21.3 secs, 0.4 mins,0.0 hours\n",
      "start processing 201801220720\n",
      "Himawari8/AHI data Processed Finish\n",
      "data reading finish\n",
      "Start reading Angle data\n"
     ]
    },
    {
     "name": "stderr",
     "output_type": "stream",
     "text": [
      "<ipython-input-6-cf9edf51547c>:25: FutureWarning: elementwise comparison failed; returning scalar instead, but in the future will perform elementwise comparison\n",
      "  if AHI_data == 'No data':\n"
     ]
    },
    {
     "name": "stdout",
     "output_type": "stream",
     "text": [
      "Angle data read finished\n",
      "Start reading Atmospheric data\n",
      "Atmospheric data read finished\n",
      "Start Calculate SR\n",
      "Calculate SR finished\n",
      "Start Save SR file \n",
      "Save SR file finished\n",
      "delete file finish\n",
      "time: 21.3 secs, 0.4 mins,0.0 hours\n",
      "start processing 201801220730\n",
      "Himawari8/AHI data Processed Finish\n",
      "data reading finish\n",
      "Start reading Angle data\n"
     ]
    },
    {
     "name": "stderr",
     "output_type": "stream",
     "text": [
      "<ipython-input-6-cf9edf51547c>:25: FutureWarning: elementwise comparison failed; returning scalar instead, but in the future will perform elementwise comparison\n",
      "  if AHI_data == 'No data':\n"
     ]
    },
    {
     "name": "stdout",
     "output_type": "stream",
     "text": [
      "Angle data read finished\n",
      "Start reading Atmospheric data\n",
      "Atmospheric data read finished\n",
      "Start Calculate SR\n",
      "Calculate SR finished\n",
      "Start Save SR file \n",
      "Save SR file finished\n",
      "delete file finish\n",
      "time: 19.6 secs, 0.3 mins,0.0 hours\n",
      "start processing 201801220740\n",
      "Himawari8/AHI data Processed Finish\n",
      "data reading finish\n",
      "Start reading Angle data\n"
     ]
    },
    {
     "name": "stderr",
     "output_type": "stream",
     "text": [
      "<ipython-input-6-cf9edf51547c>:25: FutureWarning: elementwise comparison failed; returning scalar instead, but in the future will perform elementwise comparison\n",
      "  if AHI_data == 'No data':\n"
     ]
    },
    {
     "name": "stdout",
     "output_type": "stream",
     "text": [
      "Angle data read finished\n",
      "Start reading Atmospheric data\n",
      "Atmospheric data read finished\n",
      "Start Calculate SR\n",
      "Calculate SR finished\n",
      "Start Save SR file \n",
      "Save SR file finished\n",
      "delete file finish\n",
      "time: 19.0 secs, 0.3 mins,0.0 hours\n",
      "start processing 201801220750\n",
      "Himawari8/AHI data Processed Finish\n",
      "data reading finish\n",
      "Start reading Angle data\n"
     ]
    },
    {
     "name": "stderr",
     "output_type": "stream",
     "text": [
      "<ipython-input-6-cf9edf51547c>:25: FutureWarning: elementwise comparison failed; returning scalar instead, but in the future will perform elementwise comparison\n",
      "  if AHI_data == 'No data':\n"
     ]
    },
    {
     "name": "stdout",
     "output_type": "stream",
     "text": [
      "Angle data read finished\n",
      "Start reading Atmospheric data\n",
      "Atmospheric data read finished\n",
      "Start Calculate SR\n",
      "Calculate SR finished\n",
      "Start Save SR file \n",
      "Save SR file finished\n",
      "delete file finish\n",
      "time: 19.1 secs, 0.3 mins,0.0 hours\n",
      "start processing 201801220800\n",
      "Himawari8/AHI data Processed Finish\n",
      "data reading finish\n",
      "Start reading Angle data\n"
     ]
    },
    {
     "name": "stderr",
     "output_type": "stream",
     "text": [
      "<ipython-input-6-cf9edf51547c>:25: FutureWarning: elementwise comparison failed; returning scalar instead, but in the future will perform elementwise comparison\n",
      "  if AHI_data == 'No data':\n"
     ]
    },
    {
     "name": "stdout",
     "output_type": "stream",
     "text": [
      "Angle data read finished\n",
      "Start reading Atmospheric data\n",
      "Atmospheric data read finished\n",
      "Start Calculate SR\n",
      "Calculate SR finished\n",
      "Start Save SR file \n",
      "Save SR file finished\n",
      "delete file finish\n",
      "time: 18.9 secs, 0.3 mins,0.0 hours\n",
      "start processing 201801220810\n",
      "Himawari8/AHI data Processed Finish\n",
      "data reading finish\n",
      "Start reading Angle data\n"
     ]
    },
    {
     "name": "stderr",
     "output_type": "stream",
     "text": [
      "<ipython-input-6-cf9edf51547c>:25: FutureWarning: elementwise comparison failed; returning scalar instead, but in the future will perform elementwise comparison\n",
      "  if AHI_data == 'No data':\n"
     ]
    },
    {
     "name": "stdout",
     "output_type": "stream",
     "text": [
      "Angle data read finished\n",
      "Start reading Atmospheric data\n",
      "Atmospheric data read finished\n",
      "Start Calculate SR\n",
      "Calculate SR finished\n",
      "Start Save SR file \n",
      "Save SR file finished\n",
      "delete file finish\n",
      "time: 19.7 secs, 0.3 mins,0.0 hours\n",
      "start processing 201801220820\n",
      "Himawari8/AHI data Processed Finish\n",
      "data reading finish\n",
      "Start reading Angle data\n"
     ]
    },
    {
     "name": "stderr",
     "output_type": "stream",
     "text": [
      "<ipython-input-6-cf9edf51547c>:25: FutureWarning: elementwise comparison failed; returning scalar instead, but in the future will perform elementwise comparison\n",
      "  if AHI_data == 'No data':\n"
     ]
    },
    {
     "name": "stdout",
     "output_type": "stream",
     "text": [
      "Angle data read finished\n",
      "Start reading Atmospheric data\n",
      "Atmospheric data read finished\n",
      "Start Calculate SR\n",
      "Calculate SR finished\n",
      "Start Save SR file \n",
      "Save SR file finished\n",
      "delete file finish\n",
      "time: 20.7 secs, 0.3 mins,0.0 hours\n",
      "start processing 201801220830\n",
      "Himawari8/AHI data Processed Finish\n",
      "data reading finish\n",
      "Start reading Angle data\n"
     ]
    },
    {
     "name": "stderr",
     "output_type": "stream",
     "text": [
      "<ipython-input-6-cf9edf51547c>:25: FutureWarning: elementwise comparison failed; returning scalar instead, but in the future will perform elementwise comparison\n",
      "  if AHI_data == 'No data':\n"
     ]
    },
    {
     "name": "stdout",
     "output_type": "stream",
     "text": [
      "Angle data read finished\n",
      "Start reading Atmospheric data\n",
      "Atmospheric data read finished\n",
      "Start Calculate SR\n",
      "Calculate SR finished\n",
      "Start Save SR file \n",
      "Save SR file finished\n",
      "delete file finish\n",
      "time: 21.7 secs, 0.4 mins,0.0 hours\n",
      "start processing 201801220840\n",
      "Himawari8/AHI data Processed Finish\n",
      "data reading finish\n",
      "Start reading Angle data\n"
     ]
    },
    {
     "name": "stderr",
     "output_type": "stream",
     "text": [
      "<ipython-input-6-cf9edf51547c>:25: FutureWarning: elementwise comparison failed; returning scalar instead, but in the future will perform elementwise comparison\n",
      "  if AHI_data == 'No data':\n"
     ]
    },
    {
     "name": "stdout",
     "output_type": "stream",
     "text": [
      "Angle data read finished\n",
      "Start reading Atmospheric data\n",
      "Atmospheric data read finished\n",
      "Start Calculate SR\n",
      "Calculate SR finished\n",
      "Start Save SR file \n",
      "Save SR file finished\n",
      "delete file finish\n",
      "time: 19.6 secs, 0.3 mins,0.0 hours\n",
      "start processing 201801220850\n",
      "Himawari8/AHI data Processed Finish\n",
      "data reading finish\n",
      "Start reading Angle data\n"
     ]
    },
    {
     "name": "stderr",
     "output_type": "stream",
     "text": [
      "<ipython-input-6-cf9edf51547c>:25: FutureWarning: elementwise comparison failed; returning scalar instead, but in the future will perform elementwise comparison\n",
      "  if AHI_data == 'No data':\n"
     ]
    },
    {
     "name": "stdout",
     "output_type": "stream",
     "text": [
      "Angle data read finished\n",
      "Start reading Atmospheric data\n",
      "Atmospheric data read finished\n",
      "Start Calculate SR\n",
      "Calculate SR finished\n",
      "Start Save SR file \n",
      "Save SR file finished\n",
      "delete file finish\n",
      "time: 19.8 secs, 0.3 mins,0.0 hours\n",
      "start processing 201801220900\n",
      "Himawari8/AHI data Processed Finish\n",
      "data reading finish\n",
      "Start reading Angle data\n"
     ]
    },
    {
     "name": "stderr",
     "output_type": "stream",
     "text": [
      "<ipython-input-6-cf9edf51547c>:25: FutureWarning: elementwise comparison failed; returning scalar instead, but in the future will perform elementwise comparison\n",
      "  if AHI_data == 'No data':\n"
     ]
    },
    {
     "name": "stdout",
     "output_type": "stream",
     "text": [
      "Angle data read finished\n",
      "Start reading Atmospheric data\n",
      "Atmospheric data read finished\n",
      "Start Calculate SR\n",
      "Calculate SR finished\n",
      "Start Save SR file \n",
      "Save SR file finished\n",
      "delete file finish\n",
      "time: 19.5 secs, 0.3 mins,0.0 hours\n",
      "start processing 201801230000\n",
      "Himawari8/AHI data Processed Finish\n",
      "data reading finish\n",
      "Start reading Angle data\n"
     ]
    },
    {
     "name": "stderr",
     "output_type": "stream",
     "text": [
      "<ipython-input-6-cf9edf51547c>:25: FutureWarning: elementwise comparison failed; returning scalar instead, but in the future will perform elementwise comparison\n",
      "  if AHI_data == 'No data':\n"
     ]
    },
    {
     "name": "stdout",
     "output_type": "stream",
     "text": [
      "Angle data read finished\n",
      "Start reading Atmospheric data\n",
      "Atmospheric data read finished\n",
      "Start Calculate SR\n",
      "Calculate SR finished\n",
      "Start Save SR file \n",
      "Save SR file finished\n",
      "delete file finish\n",
      "time: 19.6 secs, 0.3 mins,0.0 hours\n",
      "start processing 201801230010\n",
      "Himawari8/AHI data Processed Finish\n",
      "data reading finish\n",
      "Start reading Angle data\n"
     ]
    },
    {
     "name": "stderr",
     "output_type": "stream",
     "text": [
      "<ipython-input-6-cf9edf51547c>:25: FutureWarning: elementwise comparison failed; returning scalar instead, but in the future will perform elementwise comparison\n",
      "  if AHI_data == 'No data':\n"
     ]
    },
    {
     "name": "stdout",
     "output_type": "stream",
     "text": [
      "Angle data read finished\n",
      "Start reading Atmospheric data\n",
      "Atmospheric data read finished\n",
      "Start Calculate SR\n",
      "Calculate SR finished\n",
      "Start Save SR file \n",
      "Save SR file finished\n",
      "delete file finish\n",
      "time: 19.6 secs, 0.3 mins,0.0 hours\n",
      "start processing 201801230020\n",
      "Himawari8/AHI data Processed Finish\n",
      "data reading finish\n",
      "Start reading Angle data\n"
     ]
    },
    {
     "name": "stderr",
     "output_type": "stream",
     "text": [
      "<ipython-input-6-cf9edf51547c>:25: FutureWarning: elementwise comparison failed; returning scalar instead, but in the future will perform elementwise comparison\n",
      "  if AHI_data == 'No data':\n"
     ]
    },
    {
     "name": "stdout",
     "output_type": "stream",
     "text": [
      "Angle data read finished\n",
      "Start reading Atmospheric data\n",
      "Atmospheric data read finished\n",
      "Start Calculate SR\n",
      "Calculate SR finished\n",
      "Start Save SR file \n",
      "Save SR file finished\n",
      "delete file finish\n",
      "time: 19.5 secs, 0.3 mins,0.0 hours\n",
      "start processing 201801230030\n",
      "Himawari8/AHI data Processed Finish\n",
      "data reading finish\n",
      "Start reading Angle data\n"
     ]
    },
    {
     "name": "stderr",
     "output_type": "stream",
     "text": [
      "<ipython-input-6-cf9edf51547c>:25: FutureWarning: elementwise comparison failed; returning scalar instead, but in the future will perform elementwise comparison\n",
      "  if AHI_data == 'No data':\n"
     ]
    },
    {
     "name": "stdout",
     "output_type": "stream",
     "text": [
      "Angle data read finished\n",
      "Start reading Atmospheric data\n",
      "Atmospheric data read finished\n",
      "Start Calculate SR\n",
      "Calculate SR finished\n",
      "Start Save SR file \n",
      "Save SR file finished\n",
      "delete file finish\n",
      "time: 19.7 secs, 0.3 mins,0.0 hours\n",
      "start processing 201801230040\n",
      "Himawari8/AHI data Processed Finish\n",
      "data reading finish\n",
      "Start reading Angle data\n"
     ]
    },
    {
     "name": "stderr",
     "output_type": "stream",
     "text": [
      "<ipython-input-6-cf9edf51547c>:25: FutureWarning: elementwise comparison failed; returning scalar instead, but in the future will perform elementwise comparison\n",
      "  if AHI_data == 'No data':\n"
     ]
    },
    {
     "name": "stdout",
     "output_type": "stream",
     "text": [
      "Angle data read finished\n",
      "Start reading Atmospheric data\n",
      "Atmospheric data read finished\n",
      "Start Calculate SR\n",
      "Calculate SR finished\n",
      "Start Save SR file \n",
      "Save SR file finished\n",
      "delete file finish\n",
      "time: 19.8 secs, 0.3 mins,0.0 hours\n",
      "start processing 201801230050\n",
      "Himawari8/AHI data Processed Finish\n",
      "data reading finish\n",
      "Start reading Angle data\n"
     ]
    },
    {
     "name": "stderr",
     "output_type": "stream",
     "text": [
      "<ipython-input-6-cf9edf51547c>:25: FutureWarning: elementwise comparison failed; returning scalar instead, but in the future will perform elementwise comparison\n",
      "  if AHI_data == 'No data':\n"
     ]
    },
    {
     "name": "stdout",
     "output_type": "stream",
     "text": [
      "Angle data read finished\n",
      "Start reading Atmospheric data\n",
      "Atmospheric data read finished\n",
      "Start Calculate SR\n",
      "Calculate SR finished\n",
      "Start Save SR file \n",
      "Save SR file finished\n",
      "delete file finish\n",
      "time: 19.6 secs, 0.3 mins,0.0 hours\n",
      "start processing 201801230100\n",
      "Himawari8/AHI data Processed Finish\n",
      "data reading finish\n",
      "Start reading Angle data\n"
     ]
    },
    {
     "name": "stderr",
     "output_type": "stream",
     "text": [
      "<ipython-input-6-cf9edf51547c>:25: FutureWarning: elementwise comparison failed; returning scalar instead, but in the future will perform elementwise comparison\n",
      "  if AHI_data == 'No data':\n"
     ]
    },
    {
     "name": "stdout",
     "output_type": "stream",
     "text": [
      "Angle data read finished\n",
      "Start reading Atmospheric data\n",
      "Atmospheric data read finished\n",
      "Start Calculate SR\n",
      "Calculate SR finished\n",
      "Start Save SR file \n",
      "Save SR file finished\n",
      "delete file finish\n",
      "time: 19.9 secs, 0.3 mins,0.0 hours\n",
      "start processing 201801230110\n",
      "Himawari8/AHI data Processed Finish\n",
      "data reading finish\n",
      "Start reading Angle data\n"
     ]
    },
    {
     "name": "stderr",
     "output_type": "stream",
     "text": [
      "<ipython-input-6-cf9edf51547c>:25: FutureWarning: elementwise comparison failed; returning scalar instead, but in the future will perform elementwise comparison\n",
      "  if AHI_data == 'No data':\n"
     ]
    },
    {
     "name": "stdout",
     "output_type": "stream",
     "text": [
      "Angle data read finished\n",
      "Start reading Atmospheric data\n",
      "Atmospheric data read finished\n",
      "Start Calculate SR\n",
      "Calculate SR finished\n",
      "Start Save SR file \n",
      "Save SR file finished\n",
      "delete file finish\n",
      "time: 19.7 secs, 0.3 mins,0.0 hours\n",
      "start processing 201801230120\n",
      "Himawari8/AHI data Processed Finish\n",
      "data reading finish\n",
      "Start reading Angle data\n"
     ]
    },
    {
     "name": "stderr",
     "output_type": "stream",
     "text": [
      "<ipython-input-6-cf9edf51547c>:25: FutureWarning: elementwise comparison failed; returning scalar instead, but in the future will perform elementwise comparison\n",
      "  if AHI_data == 'No data':\n"
     ]
    },
    {
     "name": "stdout",
     "output_type": "stream",
     "text": [
      "Angle data read finished\n",
      "Start reading Atmospheric data\n",
      "Atmospheric data read finished\n",
      "Start Calculate SR\n",
      "Calculate SR finished\n",
      "Start Save SR file \n",
      "Save SR file finished\n",
      "delete file finish\n",
      "time: 19.7 secs, 0.3 mins,0.0 hours\n",
      "start processing 201801230130\n",
      "Himawari8/AHI data Processed Finish\n",
      "data reading finish\n",
      "Start reading Angle data\n"
     ]
    },
    {
     "name": "stderr",
     "output_type": "stream",
     "text": [
      "<ipython-input-6-cf9edf51547c>:25: FutureWarning: elementwise comparison failed; returning scalar instead, but in the future will perform elementwise comparison\n",
      "  if AHI_data == 'No data':\n"
     ]
    },
    {
     "name": "stdout",
     "output_type": "stream",
     "text": [
      "Angle data read finished\n",
      "Start reading Atmospheric data\n",
      "Atmospheric data read finished\n",
      "Start Calculate SR\n",
      "Calculate SR finished\n",
      "Start Save SR file \n",
      "Save SR file finished\n",
      "delete file finish\n",
      "time: 19.8 secs, 0.3 mins,0.0 hours\n",
      "start processing 201801230140\n",
      "Himawari8/AHI data Processed Finish\n",
      "data reading finish\n",
      "Start reading Angle data\n"
     ]
    },
    {
     "name": "stderr",
     "output_type": "stream",
     "text": [
      "<ipython-input-6-cf9edf51547c>:25: FutureWarning: elementwise comparison failed; returning scalar instead, but in the future will perform elementwise comparison\n",
      "  if AHI_data == 'No data':\n"
     ]
    },
    {
     "name": "stdout",
     "output_type": "stream",
     "text": [
      "Angle data read finished\n",
      "Start reading Atmospheric data\n",
      "Atmospheric data read finished\n",
      "Start Calculate SR\n",
      "Calculate SR finished\n",
      "Start Save SR file \n",
      "Save SR file finished\n",
      "delete file finish\n",
      "time: 19.9 secs, 0.3 mins,0.0 hours\n",
      "start processing 201801230150\n",
      "Himawari8/AHI data Processed Finish\n",
      "data reading finish\n",
      "Start reading Angle data\n"
     ]
    },
    {
     "name": "stderr",
     "output_type": "stream",
     "text": [
      "<ipython-input-6-cf9edf51547c>:25: FutureWarning: elementwise comparison failed; returning scalar instead, but in the future will perform elementwise comparison\n",
      "  if AHI_data == 'No data':\n"
     ]
    },
    {
     "name": "stdout",
     "output_type": "stream",
     "text": [
      "Angle data read finished\n",
      "Start reading Atmospheric data\n",
      "Atmospheric data read finished\n",
      "Start Calculate SR\n",
      "Calculate SR finished\n",
      "Start Save SR file \n",
      "Save SR file finished\n",
      "delete file finish\n",
      "time: 20.9 secs, 0.3 mins,0.0 hours\n",
      "start processing 201801230200\n",
      "Himawari8/AHI data Processed Finish\n",
      "data reading finish\n",
      "Start reading Angle data\n"
     ]
    },
    {
     "name": "stderr",
     "output_type": "stream",
     "text": [
      "<ipython-input-6-cf9edf51547c>:25: FutureWarning: elementwise comparison failed; returning scalar instead, but in the future will perform elementwise comparison\n",
      "  if AHI_data == 'No data':\n"
     ]
    },
    {
     "name": "stdout",
     "output_type": "stream",
     "text": [
      "Angle data read finished\n",
      "Start reading Atmospheric data\n",
      "Atmospheric data read finished\n",
      "Start Calculate SR\n",
      "Calculate SR finished\n",
      "Start Save SR file \n",
      "Save SR file finished\n",
      "delete file finish\n",
      "time: 19.9 secs, 0.3 mins,0.0 hours\n",
      "start processing 201801230210\n",
      "Himawari8/AHI data Processed Finish\n",
      "data reading finish\n",
      "Start reading Angle data\n"
     ]
    },
    {
     "name": "stderr",
     "output_type": "stream",
     "text": [
      "<ipython-input-6-cf9edf51547c>:25: FutureWarning: elementwise comparison failed; returning scalar instead, but in the future will perform elementwise comparison\n",
      "  if AHI_data == 'No data':\n"
     ]
    },
    {
     "name": "stdout",
     "output_type": "stream",
     "text": [
      "Angle data read finished\n",
      "Start reading Atmospheric data\n",
      "Atmospheric data read finished\n",
      "Start Calculate SR\n",
      "Calculate SR finished\n",
      "Start Save SR file \n",
      "Save SR file finished\n",
      "delete file finish\n",
      "time: 19.9 secs, 0.3 mins,0.0 hours\n",
      "start processing 201801230220\n",
      "Himawari8/AHI data Processed Finish\n",
      "data reading finish\n",
      "Start reading Angle data\n"
     ]
    },
    {
     "name": "stderr",
     "output_type": "stream",
     "text": [
      "<ipython-input-6-cf9edf51547c>:25: FutureWarning: elementwise comparison failed; returning scalar instead, but in the future will perform elementwise comparison\n",
      "  if AHI_data == 'No data':\n"
     ]
    },
    {
     "name": "stdout",
     "output_type": "stream",
     "text": [
      "Angle data read finished\n",
      "Start reading Atmospheric data\n",
      "Atmospheric data read finished\n",
      "Start Calculate SR\n",
      "Calculate SR finished\n",
      "Start Save SR file \n",
      "Save SR file finished\n",
      "delete file finish\n",
      "time: 19.6 secs, 0.3 mins,0.0 hours\n",
      "start processing 201801230230\n",
      "Himawari8/AHI data Processed Finish\n",
      "data reading finish\n",
      "Start reading Angle data\n"
     ]
    },
    {
     "name": "stderr",
     "output_type": "stream",
     "text": [
      "<ipython-input-6-cf9edf51547c>:25: FutureWarning: elementwise comparison failed; returning scalar instead, but in the future will perform elementwise comparison\n",
      "  if AHI_data == 'No data':\n"
     ]
    },
    {
     "name": "stdout",
     "output_type": "stream",
     "text": [
      "Angle data read finished\n",
      "Start reading Atmospheric data\n",
      "Atmospheric data read finished\n",
      "Start Calculate SR\n",
      "Calculate SR finished\n",
      "Start Save SR file \n",
      "Save SR file finished\n",
      "delete file finish\n",
      "time: 19.7 secs, 0.3 mins,0.0 hours\n",
      "start processing 201801230240\n",
      "File Not Found\n",
      "start processing 201801230250\n",
      "Himawari8/AHI data Processed Finish\n",
      "data reading finish\n",
      "Start reading Angle data\n"
     ]
    },
    {
     "name": "stderr",
     "output_type": "stream",
     "text": [
      "<ipython-input-6-cf9edf51547c>:25: FutureWarning: elementwise comparison failed; returning scalar instead, but in the future will perform elementwise comparison\n",
      "  if AHI_data == 'No data':\n"
     ]
    },
    {
     "name": "stdout",
     "output_type": "stream",
     "text": [
      "Angle data read finished\n",
      "Start reading Atmospheric data\n",
      "Atmospheric data read finished\n",
      "Start Calculate SR\n",
      "Calculate SR finished\n",
      "Start Save SR file \n",
      "Save SR file finished\n",
      "delete file finish\n",
      "time: 19.7 secs, 0.3 mins,0.0 hours\n",
      "start processing 201801230300\n",
      "Himawari8/AHI data Processed Finish\n",
      "data reading finish\n",
      "Start reading Angle data\n"
     ]
    },
    {
     "name": "stderr",
     "output_type": "stream",
     "text": [
      "<ipython-input-6-cf9edf51547c>:25: FutureWarning: elementwise comparison failed; returning scalar instead, but in the future will perform elementwise comparison\n",
      "  if AHI_data == 'No data':\n"
     ]
    },
    {
     "name": "stdout",
     "output_type": "stream",
     "text": [
      "Angle data read finished\n",
      "Start reading Atmospheric data\n",
      "Atmospheric data read finished\n",
      "Start Calculate SR\n",
      "Calculate SR finished\n",
      "Start Save SR file \n",
      "Save SR file finished\n",
      "delete file finish\n",
      "time: 19.9 secs, 0.3 mins,0.0 hours\n",
      "start processing 201801230310\n",
      "Himawari8/AHI data Processed Finish\n",
      "data reading finish\n",
      "Start reading Angle data\n"
     ]
    },
    {
     "name": "stderr",
     "output_type": "stream",
     "text": [
      "<ipython-input-6-cf9edf51547c>:25: FutureWarning: elementwise comparison failed; returning scalar instead, but in the future will perform elementwise comparison\n",
      "  if AHI_data == 'No data':\n"
     ]
    },
    {
     "name": "stdout",
     "output_type": "stream",
     "text": [
      "Angle data read finished\n",
      "Start reading Atmospheric data\n",
      "Atmospheric data read finished\n",
      "Start Calculate SR\n",
      "Calculate SR finished\n",
      "Start Save SR file \n",
      "Save SR file finished\n",
      "delete file finish\n",
      "time: 19.8 secs, 0.3 mins,0.0 hours\n",
      "start processing 201801230320\n",
      "Himawari8/AHI data Processed Finish\n",
      "data reading finish\n",
      "Start reading Angle data\n"
     ]
    },
    {
     "name": "stderr",
     "output_type": "stream",
     "text": [
      "<ipython-input-6-cf9edf51547c>:25: FutureWarning: elementwise comparison failed; returning scalar instead, but in the future will perform elementwise comparison\n",
      "  if AHI_data == 'No data':\n"
     ]
    },
    {
     "name": "stdout",
     "output_type": "stream",
     "text": [
      "Angle data read finished\n",
      "Start reading Atmospheric data\n",
      "Atmospheric data read finished\n",
      "Start Calculate SR\n",
      "Calculate SR finished\n",
      "Start Save SR file \n",
      "Save SR file finished\n",
      "delete file finish\n",
      "time: 20.9 secs, 0.3 mins,0.0 hours\n",
      "start processing 201801230330\n",
      "Himawari8/AHI data Processed Finish\n",
      "data reading finish\n",
      "Start reading Angle data\n"
     ]
    },
    {
     "name": "stderr",
     "output_type": "stream",
     "text": [
      "<ipython-input-6-cf9edf51547c>:25: FutureWarning: elementwise comparison failed; returning scalar instead, but in the future will perform elementwise comparison\n",
      "  if AHI_data == 'No data':\n"
     ]
    },
    {
     "name": "stdout",
     "output_type": "stream",
     "text": [
      "Angle data read finished\n",
      "Start reading Atmospheric data\n",
      "Atmospheric data read finished\n",
      "Start Calculate SR\n",
      "Calculate SR finished\n",
      "Start Save SR file \n",
      "Save SR file finished\n",
      "delete file finish\n",
      "time: 19.9 secs, 0.3 mins,0.0 hours\n",
      "start processing 201801230340\n",
      "Himawari8/AHI data Processed Finish\n",
      "data reading finish\n",
      "Start reading Angle data\n"
     ]
    },
    {
     "name": "stderr",
     "output_type": "stream",
     "text": [
      "<ipython-input-6-cf9edf51547c>:25: FutureWarning: elementwise comparison failed; returning scalar instead, but in the future will perform elementwise comparison\n",
      "  if AHI_data == 'No data':\n"
     ]
    },
    {
     "name": "stdout",
     "output_type": "stream",
     "text": [
      "Angle data read finished\n",
      "Start reading Atmospheric data\n",
      "Atmospheric data read finished\n",
      "Start Calculate SR\n",
      "Calculate SR finished\n",
      "Start Save SR file \n",
      "Save SR file finished\n",
      "delete file finish\n",
      "time: 19.9 secs, 0.3 mins,0.0 hours\n",
      "start processing 201801230350\n",
      "Himawari8/AHI data Processed Finish\n",
      "data reading finish\n",
      "Start reading Angle data\n"
     ]
    },
    {
     "name": "stderr",
     "output_type": "stream",
     "text": [
      "<ipython-input-6-cf9edf51547c>:25: FutureWarning: elementwise comparison failed; returning scalar instead, but in the future will perform elementwise comparison\n",
      "  if AHI_data == 'No data':\n"
     ]
    },
    {
     "name": "stdout",
     "output_type": "stream",
     "text": [
      "Angle data read finished\n",
      "Start reading Atmospheric data\n",
      "Atmospheric data read finished\n",
      "Start Calculate SR\n",
      "Calculate SR finished\n",
      "Start Save SR file \n",
      "Save SR file finished\n",
      "delete file finish\n",
      "time: 19.8 secs, 0.3 mins,0.0 hours\n",
      "start processing 201801230400\n",
      "Himawari8/AHI data Processed Finish\n",
      "data reading finish\n",
      "Start reading Angle data\n"
     ]
    },
    {
     "name": "stderr",
     "output_type": "stream",
     "text": [
      "<ipython-input-6-cf9edf51547c>:25: FutureWarning: elementwise comparison failed; returning scalar instead, but in the future will perform elementwise comparison\n",
      "  if AHI_data == 'No data':\n"
     ]
    },
    {
     "name": "stdout",
     "output_type": "stream",
     "text": [
      "Angle data read finished\n",
      "Start reading Atmospheric data\n",
      "Atmospheric data read finished\n",
      "Start Calculate SR\n",
      "Calculate SR finished\n",
      "Start Save SR file \n",
      "Save SR file finished\n",
      "delete file finish\n",
      "time: 19.9 secs, 0.3 mins,0.0 hours\n",
      "start processing 201801230410\n",
      "Himawari8/AHI data Processed Finish\n",
      "data reading finish\n",
      "Start reading Angle data\n"
     ]
    },
    {
     "name": "stderr",
     "output_type": "stream",
     "text": [
      "<ipython-input-6-cf9edf51547c>:25: FutureWarning: elementwise comparison failed; returning scalar instead, but in the future will perform elementwise comparison\n",
      "  if AHI_data == 'No data':\n"
     ]
    },
    {
     "name": "stdout",
     "output_type": "stream",
     "text": [
      "Angle data read finished\n",
      "Start reading Atmospheric data\n",
      "Atmospheric data read finished\n",
      "Start Calculate SR\n",
      "Calculate SR finished\n",
      "Start Save SR file \n",
      "Save SR file finished\n",
      "delete file finish\n",
      "time: 19.6 secs, 0.3 mins,0.0 hours\n",
      "start processing 201801230420\n",
      "Himawari8/AHI data Processed Finish\n",
      "data reading finish\n",
      "Start reading Angle data\n"
     ]
    },
    {
     "name": "stderr",
     "output_type": "stream",
     "text": [
      "<ipython-input-6-cf9edf51547c>:25: FutureWarning: elementwise comparison failed; returning scalar instead, but in the future will perform elementwise comparison\n",
      "  if AHI_data == 'No data':\n"
     ]
    },
    {
     "name": "stdout",
     "output_type": "stream",
     "text": [
      "Angle data read finished\n",
      "Start reading Atmospheric data\n",
      "Atmospheric data read finished\n",
      "Start Calculate SR\n",
      "Calculate SR finished\n",
      "Start Save SR file \n",
      "Save SR file finished\n",
      "delete file finish\n",
      "time: 19.9 secs, 0.3 mins,0.0 hours\n",
      "start processing 201801230430\n",
      "Himawari8/AHI data Processed Finish\n",
      "data reading finish\n",
      "Start reading Angle data\n"
     ]
    },
    {
     "name": "stderr",
     "output_type": "stream",
     "text": [
      "<ipython-input-6-cf9edf51547c>:25: FutureWarning: elementwise comparison failed; returning scalar instead, but in the future will perform elementwise comparison\n",
      "  if AHI_data == 'No data':\n"
     ]
    },
    {
     "name": "stdout",
     "output_type": "stream",
     "text": [
      "Angle data read finished\n",
      "Start reading Atmospheric data\n",
      "Atmospheric data read finished\n",
      "Start Calculate SR\n",
      "Calculate SR finished\n",
      "Start Save SR file \n",
      "Save SR file finished\n",
      "delete file finish\n",
      "time: 19.4 secs, 0.3 mins,0.0 hours\n",
      "start processing 201801230440\n",
      "Himawari8/AHI data Processed Finish\n",
      "data reading finish\n",
      "Start reading Angle data\n"
     ]
    },
    {
     "name": "stderr",
     "output_type": "stream",
     "text": [
      "<ipython-input-6-cf9edf51547c>:25: FutureWarning: elementwise comparison failed; returning scalar instead, but in the future will perform elementwise comparison\n",
      "  if AHI_data == 'No data':\n"
     ]
    },
    {
     "name": "stdout",
     "output_type": "stream",
     "text": [
      "Angle data read finished\n",
      "Start reading Atmospheric data\n",
      "Atmospheric data read finished\n",
      "Start Calculate SR\n",
      "Calculate SR finished\n",
      "Start Save SR file \n",
      "Save SR file finished\n",
      "delete file finish\n",
      "time: 19.3 secs, 0.3 mins,0.0 hours\n",
      "start processing 201801230450\n",
      "Himawari8/AHI data Processed Finish\n",
      "data reading finish\n",
      "Start reading Angle data\n"
     ]
    },
    {
     "name": "stderr",
     "output_type": "stream",
     "text": [
      "<ipython-input-6-cf9edf51547c>:25: FutureWarning: elementwise comparison failed; returning scalar instead, but in the future will perform elementwise comparison\n",
      "  if AHI_data == 'No data':\n"
     ]
    },
    {
     "name": "stdout",
     "output_type": "stream",
     "text": [
      "Angle data read finished\n",
      "Start reading Atmospheric data\n",
      "Atmospheric data read finished\n",
      "Start Calculate SR\n",
      "Calculate SR finished\n",
      "Start Save SR file \n",
      "Save SR file finished\n",
      "delete file finish\n",
      "time: 19.3 secs, 0.3 mins,0.0 hours\n",
      "start processing 201801230500\n",
      "Himawari8/AHI data Processed Finish\n",
      "data reading finish\n",
      "Start reading Angle data\n"
     ]
    },
    {
     "name": "stderr",
     "output_type": "stream",
     "text": [
      "<ipython-input-6-cf9edf51547c>:25: FutureWarning: elementwise comparison failed; returning scalar instead, but in the future will perform elementwise comparison\n",
      "  if AHI_data == 'No data':\n"
     ]
    },
    {
     "name": "stdout",
     "output_type": "stream",
     "text": [
      "Angle data read finished\n",
      "Start reading Atmospheric data\n",
      "Atmospheric data read finished\n",
      "Start Calculate SR\n",
      "Calculate SR finished\n",
      "Start Save SR file \n",
      "Save SR file finished\n",
      "delete file finish\n",
      "time: 19.3 secs, 0.3 mins,0.0 hours\n",
      "start processing 201801230510\n",
      "Himawari8/AHI data Processed Finish\n",
      "data reading finish\n",
      "Start reading Angle data\n"
     ]
    },
    {
     "name": "stderr",
     "output_type": "stream",
     "text": [
      "<ipython-input-6-cf9edf51547c>:25: FutureWarning: elementwise comparison failed; returning scalar instead, but in the future will perform elementwise comparison\n",
      "  if AHI_data == 'No data':\n"
     ]
    },
    {
     "name": "stdout",
     "output_type": "stream",
     "text": [
      "Angle data read finished\n",
      "Start reading Atmospheric data\n",
      "Atmospheric data read finished\n",
      "Start Calculate SR\n",
      "Calculate SR finished\n",
      "Start Save SR file \n",
      "Save SR file finished\n",
      "delete file finish\n",
      "time: 19.7 secs, 0.3 mins,0.0 hours\n",
      "start processing 201801230520\n",
      "Himawari8/AHI data Processed Finish\n",
      "data reading finish\n",
      "Start reading Angle data\n"
     ]
    },
    {
     "name": "stderr",
     "output_type": "stream",
     "text": [
      "<ipython-input-6-cf9edf51547c>:25: FutureWarning: elementwise comparison failed; returning scalar instead, but in the future will perform elementwise comparison\n",
      "  if AHI_data == 'No data':\n"
     ]
    },
    {
     "name": "stdout",
     "output_type": "stream",
     "text": [
      "Angle data read finished\n",
      "Start reading Atmospheric data\n",
      "Atmospheric data read finished\n",
      "Start Calculate SR\n",
      "Calculate SR finished\n",
      "Start Save SR file \n",
      "Save SR file finished\n",
      "delete file finish\n",
      "time: 19.7 secs, 0.3 mins,0.0 hours\n",
      "start processing 201801230530\n",
      "Himawari8/AHI data Processed Finish\n",
      "data reading finish\n",
      "Start reading Angle data\n"
     ]
    },
    {
     "name": "stderr",
     "output_type": "stream",
     "text": [
      "<ipython-input-6-cf9edf51547c>:25: FutureWarning: elementwise comparison failed; returning scalar instead, but in the future will perform elementwise comparison\n",
      "  if AHI_data == 'No data':\n"
     ]
    },
    {
     "name": "stdout",
     "output_type": "stream",
     "text": [
      "Angle data read finished\n",
      "Start reading Atmospheric data\n",
      "Atmospheric data read finished\n",
      "Start Calculate SR\n",
      "Calculate SR finished\n",
      "Start Save SR file \n",
      "Save SR file finished\n",
      "delete file finish\n",
      "time: 19.2 secs, 0.3 mins,0.0 hours\n",
      "start processing 201801230540\n",
      "Himawari8/AHI data Processed Finish\n",
      "data reading finish\n",
      "Start reading Angle data\n"
     ]
    },
    {
     "name": "stderr",
     "output_type": "stream",
     "text": [
      "<ipython-input-6-cf9edf51547c>:25: FutureWarning: elementwise comparison failed; returning scalar instead, but in the future will perform elementwise comparison\n",
      "  if AHI_data == 'No data':\n"
     ]
    },
    {
     "name": "stdout",
     "output_type": "stream",
     "text": [
      "Angle data read finished\n",
      "Start reading Atmospheric data\n",
      "Atmospheric data read finished\n",
      "Start Calculate SR\n",
      "Calculate SR finished\n",
      "Start Save SR file \n",
      "Save SR file finished\n",
      "delete file finish\n",
      "time: 19.4 secs, 0.3 mins,0.0 hours\n",
      "start processing 201801230550\n",
      "Himawari8/AHI data Processed Finish\n",
      "data reading finish\n",
      "Start reading Angle data\n"
     ]
    },
    {
     "name": "stderr",
     "output_type": "stream",
     "text": [
      "<ipython-input-6-cf9edf51547c>:25: FutureWarning: elementwise comparison failed; returning scalar instead, but in the future will perform elementwise comparison\n",
      "  if AHI_data == 'No data':\n"
     ]
    },
    {
     "name": "stdout",
     "output_type": "stream",
     "text": [
      "Angle data read finished\n",
      "Start reading Atmospheric data\n",
      "Atmospheric data read finished\n",
      "Start Calculate SR\n",
      "Calculate SR finished\n",
      "Start Save SR file \n",
      "Save SR file finished\n",
      "delete file finish\n",
      "time: 19.3 secs, 0.3 mins,0.0 hours\n",
      "start processing 201801230600\n",
      "Himawari8/AHI data Processed Finish\n",
      "data reading finish\n",
      "Start reading Angle data\n"
     ]
    },
    {
     "name": "stderr",
     "output_type": "stream",
     "text": [
      "<ipython-input-6-cf9edf51547c>:25: FutureWarning: elementwise comparison failed; returning scalar instead, but in the future will perform elementwise comparison\n",
      "  if AHI_data == 'No data':\n"
     ]
    },
    {
     "name": "stdout",
     "output_type": "stream",
     "text": [
      "Angle data read finished\n",
      "Start reading Atmospheric data\n",
      "Atmospheric data read finished\n",
      "Start Calculate SR\n",
      "Calculate SR finished\n",
      "Start Save SR file \n",
      "Save SR file finished\n",
      "delete file finish\n",
      "time: 19.5 secs, 0.3 mins,0.0 hours\n",
      "start processing 201801230610\n",
      "Himawari8/AHI data Processed Finish\n",
      "data reading finish\n",
      "Start reading Angle data\n"
     ]
    },
    {
     "name": "stderr",
     "output_type": "stream",
     "text": [
      "<ipython-input-6-cf9edf51547c>:25: FutureWarning: elementwise comparison failed; returning scalar instead, but in the future will perform elementwise comparison\n",
      "  if AHI_data == 'No data':\n"
     ]
    },
    {
     "name": "stdout",
     "output_type": "stream",
     "text": [
      "Angle data read finished\n",
      "Start reading Atmospheric data\n",
      "Atmospheric data read finished\n",
      "Start Calculate SR\n",
      "Calculate SR finished\n",
      "Start Save SR file \n",
      "Save SR file finished\n",
      "delete file finish\n",
      "time: 18.9 secs, 0.3 mins,0.0 hours\n",
      "start processing 201801230620\n",
      "Himawari8/AHI data Processed Finish\n",
      "data reading finish\n",
      "Start reading Angle data\n"
     ]
    },
    {
     "name": "stderr",
     "output_type": "stream",
     "text": [
      "<ipython-input-6-cf9edf51547c>:25: FutureWarning: elementwise comparison failed; returning scalar instead, but in the future will perform elementwise comparison\n",
      "  if AHI_data == 'No data':\n"
     ]
    },
    {
     "name": "stdout",
     "output_type": "stream",
     "text": [
      "Angle data read finished\n",
      "Start reading Atmospheric data\n",
      "Atmospheric data read finished\n",
      "Start Calculate SR\n",
      "Calculate SR finished\n",
      "Start Save SR file \n",
      "Save SR file finished\n",
      "delete file finish\n",
      "time: 19.1 secs, 0.3 mins,0.0 hours\n",
      "start processing 201801230630\n",
      "Himawari8/AHI data Processed Finish\n",
      "data reading finish\n",
      "Start reading Angle data\n"
     ]
    },
    {
     "name": "stderr",
     "output_type": "stream",
     "text": [
      "<ipython-input-6-cf9edf51547c>:25: FutureWarning: elementwise comparison failed; returning scalar instead, but in the future will perform elementwise comparison\n",
      "  if AHI_data == 'No data':\n"
     ]
    },
    {
     "name": "stdout",
     "output_type": "stream",
     "text": [
      "Angle data read finished\n",
      "Start reading Atmospheric data\n",
      "Atmospheric data read finished\n",
      "Start Calculate SR\n",
      "Calculate SR finished\n",
      "Start Save SR file \n",
      "Save SR file finished\n",
      "delete file finish\n",
      "time: 19.1 secs, 0.3 mins,0.0 hours\n",
      "start processing 201801230640\n",
      "Himawari8/AHI data Processed Finish\n",
      "data reading finish\n",
      "Start reading Angle data\n"
     ]
    },
    {
     "name": "stderr",
     "output_type": "stream",
     "text": [
      "<ipython-input-6-cf9edf51547c>:25: FutureWarning: elementwise comparison failed; returning scalar instead, but in the future will perform elementwise comparison\n",
      "  if AHI_data == 'No data':\n"
     ]
    },
    {
     "name": "stdout",
     "output_type": "stream",
     "text": [
      "Angle data read finished\n",
      "Start reading Atmospheric data\n",
      "Atmospheric data read finished\n",
      "Start Calculate SR\n",
      "Calculate SR finished\n",
      "Start Save SR file \n",
      "Save SR file finished\n",
      "delete file finish\n",
      "time: 18.8 secs, 0.3 mins,0.0 hours\n",
      "start processing 201801230650\n",
      "Himawari8/AHI data Processed Finish\n",
      "data reading finish\n",
      "Start reading Angle data\n"
     ]
    },
    {
     "name": "stderr",
     "output_type": "stream",
     "text": [
      "<ipython-input-6-cf9edf51547c>:25: FutureWarning: elementwise comparison failed; returning scalar instead, but in the future will perform elementwise comparison\n",
      "  if AHI_data == 'No data':\n"
     ]
    },
    {
     "name": "stdout",
     "output_type": "stream",
     "text": [
      "Angle data read finished\n",
      "Start reading Atmospheric data\n",
      "Atmospheric data read finished\n",
      "Start Calculate SR\n",
      "Calculate SR finished\n",
      "Start Save SR file \n",
      "Save SR file finished\n",
      "delete file finish\n",
      "time: 18.9 secs, 0.3 mins,0.0 hours\n",
      "start processing 201801230700\n",
      "Himawari8/AHI data Processed Finish\n",
      "data reading finish\n",
      "Start reading Angle data\n"
     ]
    },
    {
     "name": "stderr",
     "output_type": "stream",
     "text": [
      "<ipython-input-6-cf9edf51547c>:25: FutureWarning: elementwise comparison failed; returning scalar instead, but in the future will perform elementwise comparison\n",
      "  if AHI_data == 'No data':\n"
     ]
    },
    {
     "name": "stdout",
     "output_type": "stream",
     "text": [
      "Angle data read finished\n",
      "Start reading Atmospheric data\n",
      "Atmospheric data read finished\n",
      "Start Calculate SR\n",
      "Calculate SR finished\n",
      "Start Save SR file \n",
      "Save SR file finished\n",
      "delete file finish\n",
      "time: 18.9 secs, 0.3 mins,0.0 hours\n",
      "start processing 201801230710\n",
      "Himawari8/AHI data Processed Finish\n",
      "data reading finish\n",
      "Start reading Angle data\n"
     ]
    },
    {
     "name": "stderr",
     "output_type": "stream",
     "text": [
      "<ipython-input-6-cf9edf51547c>:25: FutureWarning: elementwise comparison failed; returning scalar instead, but in the future will perform elementwise comparison\n",
      "  if AHI_data == 'No data':\n"
     ]
    },
    {
     "name": "stdout",
     "output_type": "stream",
     "text": [
      "Angle data read finished\n",
      "Start reading Atmospheric data\n",
      "Atmospheric data read finished\n",
      "Start Calculate SR\n",
      "Calculate SR finished\n",
      "Start Save SR file \n",
      "Save SR file finished\n",
      "delete file finish\n",
      "time: 19.3 secs, 0.3 mins,0.0 hours\n",
      "start processing 201801230720\n",
      "Himawari8/AHI data Processed Finish\n",
      "data reading finish\n",
      "Start reading Angle data\n"
     ]
    },
    {
     "name": "stderr",
     "output_type": "stream",
     "text": [
      "<ipython-input-6-cf9edf51547c>:25: FutureWarning: elementwise comparison failed; returning scalar instead, but in the future will perform elementwise comparison\n",
      "  if AHI_data == 'No data':\n"
     ]
    },
    {
     "name": "stdout",
     "output_type": "stream",
     "text": [
      "Angle data read finished\n",
      "Start reading Atmospheric data\n",
      "Atmospheric data read finished\n",
      "Start Calculate SR\n",
      "Calculate SR finished\n",
      "Start Save SR file \n",
      "Save SR file finished\n",
      "delete file finish\n",
      "time: 19.6 secs, 0.3 mins,0.0 hours\n",
      "start processing 201801230730\n",
      "Himawari8/AHI data Processed Finish\n",
      "data reading finish\n",
      "Start reading Angle data\n"
     ]
    },
    {
     "name": "stderr",
     "output_type": "stream",
     "text": [
      "<ipython-input-6-cf9edf51547c>:25: FutureWarning: elementwise comparison failed; returning scalar instead, but in the future will perform elementwise comparison\n",
      "  if AHI_data == 'No data':\n"
     ]
    },
    {
     "name": "stdout",
     "output_type": "stream",
     "text": [
      "Angle data read finished\n",
      "Start reading Atmospheric data\n",
      "Atmospheric data read finished\n",
      "Start Calculate SR\n",
      "Calculate SR finished\n",
      "Start Save SR file \n",
      "Save SR file finished\n",
      "delete file finish\n",
      "time: 19.6 secs, 0.3 mins,0.0 hours\n",
      "start processing 201801230740\n",
      "Himawari8/AHI data Processed Finish\n",
      "data reading finish\n",
      "Start reading Angle data\n"
     ]
    },
    {
     "name": "stderr",
     "output_type": "stream",
     "text": [
      "<ipython-input-6-cf9edf51547c>:25: FutureWarning: elementwise comparison failed; returning scalar instead, but in the future will perform elementwise comparison\n",
      "  if AHI_data == 'No data':\n"
     ]
    },
    {
     "name": "stdout",
     "output_type": "stream",
     "text": [
      "Angle data read finished\n",
      "Start reading Atmospheric data\n",
      "Atmospheric data read finished\n",
      "Start Calculate SR\n",
      "Calculate SR finished\n",
      "Start Save SR file \n",
      "Save SR file finished\n",
      "delete file finish\n",
      "time: 19.5 secs, 0.3 mins,0.0 hours\n",
      "start processing 201801230750\n",
      "Himawari8/AHI data Processed Finish\n",
      "data reading finish\n",
      "Start reading Angle data\n"
     ]
    },
    {
     "name": "stderr",
     "output_type": "stream",
     "text": [
      "<ipython-input-6-cf9edf51547c>:25: FutureWarning: elementwise comparison failed; returning scalar instead, but in the future will perform elementwise comparison\n",
      "  if AHI_data == 'No data':\n"
     ]
    },
    {
     "name": "stdout",
     "output_type": "stream",
     "text": [
      "Angle data read finished\n",
      "Start reading Atmospheric data\n",
      "Atmospheric data read finished\n",
      "Start Calculate SR\n",
      "Calculate SR finished\n",
      "Start Save SR file \n",
      "Save SR file finished\n",
      "delete file finish\n",
      "time: 19.7 secs, 0.3 mins,0.0 hours\n",
      "start processing 201801230800\n",
      "Himawari8/AHI data Processed Finish\n",
      "data reading finish\n",
      "Start reading Angle data\n"
     ]
    },
    {
     "name": "stderr",
     "output_type": "stream",
     "text": [
      "<ipython-input-6-cf9edf51547c>:25: FutureWarning: elementwise comparison failed; returning scalar instead, but in the future will perform elementwise comparison\n",
      "  if AHI_data == 'No data':\n"
     ]
    },
    {
     "name": "stdout",
     "output_type": "stream",
     "text": [
      "Angle data read finished\n",
      "Start reading Atmospheric data\n",
      "Atmospheric data read finished\n",
      "Start Calculate SR\n",
      "Calculate SR finished\n",
      "Start Save SR file \n",
      "Save SR file finished\n",
      "delete file finish\n",
      "time: 19.0 secs, 0.3 mins,0.0 hours\n",
      "start processing 201801230810\n",
      "Himawari8/AHI data Processed Finish\n",
      "data reading finish\n",
      "Start reading Angle data\n"
     ]
    },
    {
     "name": "stderr",
     "output_type": "stream",
     "text": [
      "<ipython-input-6-cf9edf51547c>:25: FutureWarning: elementwise comparison failed; returning scalar instead, but in the future will perform elementwise comparison\n",
      "  if AHI_data == 'No data':\n"
     ]
    },
    {
     "name": "stdout",
     "output_type": "stream",
     "text": [
      "Angle data read finished\n",
      "Start reading Atmospheric data\n",
      "Atmospheric data read finished\n",
      "Start Calculate SR\n",
      "Calculate SR finished\n",
      "Start Save SR file \n",
      "Save SR file finished\n",
      "delete file finish\n",
      "time: 19.1 secs, 0.3 mins,0.0 hours\n",
      "start processing 201801230820\n",
      "Himawari8/AHI data Processed Finish\n",
      "data reading finish\n",
      "Start reading Angle data\n"
     ]
    },
    {
     "name": "stderr",
     "output_type": "stream",
     "text": [
      "<ipython-input-6-cf9edf51547c>:25: FutureWarning: elementwise comparison failed; returning scalar instead, but in the future will perform elementwise comparison\n",
      "  if AHI_data == 'No data':\n"
     ]
    },
    {
     "name": "stdout",
     "output_type": "stream",
     "text": [
      "Angle data read finished\n",
      "Start reading Atmospheric data\n",
      "Atmospheric data read finished\n",
      "Start Calculate SR\n",
      "Calculate SR finished\n",
      "Start Save SR file \n",
      "Save SR file finished\n",
      "delete file finish\n",
      "time: 19.5 secs, 0.3 mins,0.0 hours\n",
      "start processing 201801230830\n",
      "Himawari8/AHI data Processed Finish\n",
      "data reading finish\n",
      "Start reading Angle data\n"
     ]
    },
    {
     "name": "stderr",
     "output_type": "stream",
     "text": [
      "<ipython-input-6-cf9edf51547c>:25: FutureWarning: elementwise comparison failed; returning scalar instead, but in the future will perform elementwise comparison\n",
      "  if AHI_data == 'No data':\n"
     ]
    },
    {
     "name": "stdout",
     "output_type": "stream",
     "text": [
      "Angle data read finished\n",
      "Start reading Atmospheric data\n",
      "Atmospheric data read finished\n",
      "Start Calculate SR\n",
      "Calculate SR finished\n",
      "Start Save SR file \n",
      "Save SR file finished\n",
      "delete file finish\n",
      "time: 19.7 secs, 0.3 mins,0.0 hours\n",
      "start processing 201801230840\n",
      "Himawari8/AHI data Processed Finish\n",
      "data reading finish\n",
      "Start reading Angle data\n"
     ]
    },
    {
     "name": "stderr",
     "output_type": "stream",
     "text": [
      "<ipython-input-6-cf9edf51547c>:25: FutureWarning: elementwise comparison failed; returning scalar instead, but in the future will perform elementwise comparison\n",
      "  if AHI_data == 'No data':\n"
     ]
    },
    {
     "name": "stdout",
     "output_type": "stream",
     "text": [
      "Angle data read finished\n",
      "Start reading Atmospheric data\n",
      "Atmospheric data read finished\n",
      "Start Calculate SR\n",
      "Calculate SR finished\n",
      "Start Save SR file \n",
      "Save SR file finished\n",
      "delete file finish\n",
      "time: 19.5 secs, 0.3 mins,0.0 hours\n",
      "start processing 201801230850\n",
      "Himawari8/AHI data Processed Finish\n",
      "data reading finish\n",
      "Start reading Angle data\n"
     ]
    },
    {
     "name": "stderr",
     "output_type": "stream",
     "text": [
      "<ipython-input-6-cf9edf51547c>:25: FutureWarning: elementwise comparison failed; returning scalar instead, but in the future will perform elementwise comparison\n",
      "  if AHI_data == 'No data':\n"
     ]
    },
    {
     "name": "stdout",
     "output_type": "stream",
     "text": [
      "Angle data read finished\n",
      "Start reading Atmospheric data\n",
      "Atmospheric data read finished\n",
      "Start Calculate SR\n",
      "Calculate SR finished\n",
      "Start Save SR file \n",
      "Save SR file finished\n",
      "delete file finish\n",
      "time: 19.4 secs, 0.3 mins,0.0 hours\n",
      "start processing 201801230900\n",
      "Himawari8/AHI data Processed Finish\n",
      "data reading finish\n",
      "Start reading Angle data\n"
     ]
    },
    {
     "name": "stderr",
     "output_type": "stream",
     "text": [
      "<ipython-input-6-cf9edf51547c>:25: FutureWarning: elementwise comparison failed; returning scalar instead, but in the future will perform elementwise comparison\n",
      "  if AHI_data == 'No data':\n"
     ]
    },
    {
     "name": "stdout",
     "output_type": "stream",
     "text": [
      "Angle data read finished\n",
      "Start reading Atmospheric data\n",
      "Atmospheric data read finished\n",
      "Start Calculate SR\n",
      "Calculate SR finished\n",
      "Start Save SR file \n",
      "Save SR file finished\n",
      "delete file finish\n",
      "time: 19.9 secs, 0.3 mins,0.0 hours\n",
      "start processing 201801240000\n",
      "Himawari8/AHI data Processed Finish\n",
      "data reading finish\n",
      "Start reading Angle data\n"
     ]
    },
    {
     "name": "stderr",
     "output_type": "stream",
     "text": [
      "<ipython-input-6-cf9edf51547c>:25: FutureWarning: elementwise comparison failed; returning scalar instead, but in the future will perform elementwise comparison\n",
      "  if AHI_data == 'No data':\n"
     ]
    },
    {
     "name": "stdout",
     "output_type": "stream",
     "text": [
      "Angle data read finished\n",
      "Start reading Atmospheric data\n",
      "Atmospheric data read finished\n",
      "Start Calculate SR\n",
      "Calculate SR finished\n",
      "Start Save SR file \n",
      "Save SR file finished\n",
      "delete file finish\n",
      "time: 20.1 secs, 0.3 mins,0.0 hours\n",
      "start processing 201801240010\n",
      "Himawari8/AHI data Processed Finish\n",
      "data reading finish\n",
      "Start reading Angle data\n"
     ]
    },
    {
     "name": "stderr",
     "output_type": "stream",
     "text": [
      "<ipython-input-6-cf9edf51547c>:25: FutureWarning: elementwise comparison failed; returning scalar instead, but in the future will perform elementwise comparison\n",
      "  if AHI_data == 'No data':\n"
     ]
    },
    {
     "name": "stdout",
     "output_type": "stream",
     "text": [
      "Angle data read finished\n",
      "Start reading Atmospheric data\n",
      "Atmospheric data read finished\n",
      "Start Calculate SR\n",
      "Calculate SR finished\n",
      "Start Save SR file \n",
      "Save SR file finished\n",
      "delete file finish\n",
      "time: 19.6 secs, 0.3 mins,0.0 hours\n",
      "start processing 201801240020\n",
      "Himawari8/AHI data Processed Finish\n",
      "data reading finish\n",
      "Start reading Angle data\n"
     ]
    },
    {
     "name": "stderr",
     "output_type": "stream",
     "text": [
      "<ipython-input-6-cf9edf51547c>:25: FutureWarning: elementwise comparison failed; returning scalar instead, but in the future will perform elementwise comparison\n",
      "  if AHI_data == 'No data':\n"
     ]
    },
    {
     "name": "stdout",
     "output_type": "stream",
     "text": [
      "Angle data read finished\n",
      "Start reading Atmospheric data\n",
      "Atmospheric data read finished\n",
      "Start Calculate SR\n",
      "Calculate SR finished\n",
      "Start Save SR file \n",
      "Save SR file finished\n",
      "delete file finish\n",
      "time: 19.8 secs, 0.3 mins,0.0 hours\n",
      "start processing 201801240030\n",
      "Himawari8/AHI data Processed Finish\n",
      "data reading finish\n",
      "Start reading Angle data\n"
     ]
    },
    {
     "name": "stderr",
     "output_type": "stream",
     "text": [
      "<ipython-input-6-cf9edf51547c>:25: FutureWarning: elementwise comparison failed; returning scalar instead, but in the future will perform elementwise comparison\n",
      "  if AHI_data == 'No data':\n"
     ]
    },
    {
     "name": "stdout",
     "output_type": "stream",
     "text": [
      "Angle data read finished\n",
      "Start reading Atmospheric data\n",
      "Atmospheric data read finished\n",
      "Start Calculate SR\n",
      "Calculate SR finished\n",
      "Start Save SR file \n",
      "Save SR file finished\n",
      "delete file finish\n",
      "time: 19.7 secs, 0.3 mins,0.0 hours\n",
      "start processing 201801240040\n",
      "Himawari8/AHI data Processed Finish\n",
      "data reading finish\n",
      "Start reading Angle data\n"
     ]
    },
    {
     "name": "stderr",
     "output_type": "stream",
     "text": [
      "<ipython-input-6-cf9edf51547c>:25: FutureWarning: elementwise comparison failed; returning scalar instead, but in the future will perform elementwise comparison\n",
      "  if AHI_data == 'No data':\n"
     ]
    },
    {
     "name": "stdout",
     "output_type": "stream",
     "text": [
      "Angle data read finished\n",
      "Start reading Atmospheric data\n",
      "Atmospheric data read finished\n",
      "Start Calculate SR\n",
      "Calculate SR finished\n",
      "Start Save SR file \n",
      "Save SR file finished\n",
      "delete file finish\n",
      "time: 19.7 secs, 0.3 mins,0.0 hours\n",
      "start processing 201801240050\n",
      "Himawari8/AHI data Processed Finish\n",
      "data reading finish\n",
      "Start reading Angle data\n"
     ]
    },
    {
     "name": "stderr",
     "output_type": "stream",
     "text": [
      "<ipython-input-6-cf9edf51547c>:25: FutureWarning: elementwise comparison failed; returning scalar instead, but in the future will perform elementwise comparison\n",
      "  if AHI_data == 'No data':\n"
     ]
    },
    {
     "name": "stdout",
     "output_type": "stream",
     "text": [
      "Angle data read finished\n",
      "Start reading Atmospheric data\n",
      "Atmospheric data read finished\n",
      "Start Calculate SR\n",
      "Calculate SR finished\n",
      "Start Save SR file \n",
      "Save SR file finished\n",
      "delete file finish\n",
      "time: 20.0 secs, 0.3 mins,0.0 hours\n",
      "start processing 201801240100\n",
      "Himawari8/AHI data Processed Finish\n",
      "data reading finish\n",
      "Start reading Angle data\n"
     ]
    },
    {
     "name": "stderr",
     "output_type": "stream",
     "text": [
      "<ipython-input-6-cf9edf51547c>:25: FutureWarning: elementwise comparison failed; returning scalar instead, but in the future will perform elementwise comparison\n",
      "  if AHI_data == 'No data':\n"
     ]
    },
    {
     "name": "stdout",
     "output_type": "stream",
     "text": [
      "Angle data read finished\n",
      "Start reading Atmospheric data\n",
      "Atmospheric data read finished\n",
      "Start Calculate SR\n",
      "Calculate SR finished\n",
      "Start Save SR file \n",
      "Save SR file finished\n",
      "delete file finish\n",
      "time: 19.7 secs, 0.3 mins,0.0 hours\n",
      "start processing 201801240110\n",
      "Himawari8/AHI data Processed Finish\n",
      "data reading finish\n",
      "Start reading Angle data\n"
     ]
    },
    {
     "name": "stderr",
     "output_type": "stream",
     "text": [
      "<ipython-input-6-cf9edf51547c>:25: FutureWarning: elementwise comparison failed; returning scalar instead, but in the future will perform elementwise comparison\n",
      "  if AHI_data == 'No data':\n"
     ]
    },
    {
     "name": "stdout",
     "output_type": "stream",
     "text": [
      "Angle data read finished\n",
      "Start reading Atmospheric data\n",
      "Atmospheric data read finished\n",
      "Start Calculate SR\n",
      "Calculate SR finished\n",
      "Start Save SR file \n",
      "Save SR file finished\n",
      "delete file finish\n",
      "time: 19.6 secs, 0.3 mins,0.0 hours\n",
      "start processing 201801240120\n",
      "Himawari8/AHI data Processed Finish\n",
      "data reading finish\n",
      "Start reading Angle data\n"
     ]
    },
    {
     "name": "stderr",
     "output_type": "stream",
     "text": [
      "<ipython-input-6-cf9edf51547c>:25: FutureWarning: elementwise comparison failed; returning scalar instead, but in the future will perform elementwise comparison\n",
      "  if AHI_data == 'No data':\n"
     ]
    },
    {
     "name": "stdout",
     "output_type": "stream",
     "text": [
      "Angle data read finished\n",
      "Start reading Atmospheric data\n",
      "Atmospheric data read finished\n",
      "Start Calculate SR\n",
      "Calculate SR finished\n",
      "Start Save SR file \n",
      "Save SR file finished\n",
      "delete file finish\n",
      "time: 19.7 secs, 0.3 mins,0.0 hours\n",
      "start processing 201801240130\n",
      "Himawari8/AHI data Processed Finish\n",
      "data reading finish\n",
      "Start reading Angle data\n"
     ]
    },
    {
     "name": "stderr",
     "output_type": "stream",
     "text": [
      "<ipython-input-6-cf9edf51547c>:25: FutureWarning: elementwise comparison failed; returning scalar instead, but in the future will perform elementwise comparison\n",
      "  if AHI_data == 'No data':\n"
     ]
    },
    {
     "name": "stdout",
     "output_type": "stream",
     "text": [
      "Angle data read finished\n",
      "Start reading Atmospheric data\n",
      "Atmospheric data read finished\n",
      "Start Calculate SR\n",
      "Calculate SR finished\n",
      "Start Save SR file \n",
      "Save SR file finished\n",
      "delete file finish\n",
      "time: 19.6 secs, 0.3 mins,0.0 hours\n",
      "start processing 201801240140\n",
      "Himawari8/AHI data Processed Finish\n",
      "data reading finish\n",
      "Start reading Angle data\n"
     ]
    },
    {
     "name": "stderr",
     "output_type": "stream",
     "text": [
      "<ipython-input-6-cf9edf51547c>:25: FutureWarning: elementwise comparison failed; returning scalar instead, but in the future will perform elementwise comparison\n",
      "  if AHI_data == 'No data':\n"
     ]
    },
    {
     "name": "stdout",
     "output_type": "stream",
     "text": [
      "Angle data read finished\n",
      "Start reading Atmospheric data\n",
      "Atmospheric data read finished\n",
      "Start Calculate SR\n",
      "Calculate SR finished\n",
      "Start Save SR file \n",
      "Save SR file finished\n",
      "delete file finish\n",
      "time: 19.7 secs, 0.3 mins,0.0 hours\n",
      "start processing 201801240150\n",
      "Himawari8/AHI data Processed Finish\n",
      "data reading finish\n",
      "Start reading Angle data\n"
     ]
    },
    {
     "name": "stderr",
     "output_type": "stream",
     "text": [
      "<ipython-input-6-cf9edf51547c>:25: FutureWarning: elementwise comparison failed; returning scalar instead, but in the future will perform elementwise comparison\n",
      "  if AHI_data == 'No data':\n"
     ]
    },
    {
     "name": "stdout",
     "output_type": "stream",
     "text": [
      "Angle data read finished\n",
      "Start reading Atmospheric data\n",
      "Atmospheric data read finished\n",
      "Start Calculate SR\n",
      "Calculate SR finished\n",
      "Start Save SR file \n",
      "Save SR file finished\n",
      "delete file finish\n",
      "time: 19.5 secs, 0.3 mins,0.0 hours\n",
      "start processing 201801240200\n",
      "Himawari8/AHI data Processed Finish\n",
      "data reading finish\n",
      "Start reading Angle data\n"
     ]
    },
    {
     "name": "stderr",
     "output_type": "stream",
     "text": [
      "<ipython-input-6-cf9edf51547c>:25: FutureWarning: elementwise comparison failed; returning scalar instead, but in the future will perform elementwise comparison\n",
      "  if AHI_data == 'No data':\n"
     ]
    },
    {
     "name": "stdout",
     "output_type": "stream",
     "text": [
      "Angle data read finished\n",
      "Start reading Atmospheric data\n",
      "Atmospheric data read finished\n",
      "Start Calculate SR\n",
      "Calculate SR finished\n",
      "Start Save SR file \n",
      "Save SR file finished\n",
      "delete file finish\n",
      "time: 19.8 secs, 0.3 mins,0.0 hours\n",
      "start processing 201801240210\n",
      "Himawari8/AHI data Processed Finish\n",
      "data reading finish\n",
      "Start reading Angle data\n"
     ]
    },
    {
     "name": "stderr",
     "output_type": "stream",
     "text": [
      "<ipython-input-6-cf9edf51547c>:25: FutureWarning: elementwise comparison failed; returning scalar instead, but in the future will perform elementwise comparison\n",
      "  if AHI_data == 'No data':\n"
     ]
    },
    {
     "name": "stdout",
     "output_type": "stream",
     "text": [
      "Angle data read finished\n",
      "Start reading Atmospheric data\n",
      "Atmospheric data read finished\n",
      "Start Calculate SR\n",
      "Calculate SR finished\n",
      "Start Save SR file \n",
      "Save SR file finished\n",
      "delete file finish\n",
      "time: 19.5 secs, 0.3 mins,0.0 hours\n",
      "start processing 201801240220\n",
      "Himawari8/AHI data Processed Finish\n",
      "data reading finish\n",
      "Start reading Angle data\n"
     ]
    },
    {
     "name": "stderr",
     "output_type": "stream",
     "text": [
      "<ipython-input-6-cf9edf51547c>:25: FutureWarning: elementwise comparison failed; returning scalar instead, but in the future will perform elementwise comparison\n",
      "  if AHI_data == 'No data':\n"
     ]
    },
    {
     "name": "stdout",
     "output_type": "stream",
     "text": [
      "Angle data read finished\n",
      "Start reading Atmospheric data\n",
      "Atmospheric data read finished\n",
      "Start Calculate SR\n",
      "Calculate SR finished\n",
      "Start Save SR file \n",
      "Save SR file finished\n",
      "delete file finish\n",
      "time: 19.5 secs, 0.3 mins,0.0 hours\n",
      "start processing 201801240230\n",
      "Himawari8/AHI data Processed Finish\n",
      "data reading finish\n",
      "Start reading Angle data\n"
     ]
    },
    {
     "name": "stderr",
     "output_type": "stream",
     "text": [
      "<ipython-input-6-cf9edf51547c>:25: FutureWarning: elementwise comparison failed; returning scalar instead, but in the future will perform elementwise comparison\n",
      "  if AHI_data == 'No data':\n"
     ]
    },
    {
     "name": "stdout",
     "output_type": "stream",
     "text": [
      "Angle data read finished\n",
      "Start reading Atmospheric data\n",
      "Atmospheric data read finished\n",
      "Start Calculate SR\n",
      "Calculate SR finished\n",
      "Start Save SR file \n",
      "Save SR file finished\n",
      "delete file finish\n",
      "time: 19.5 secs, 0.3 mins,0.0 hours\n",
      "start processing 201801240240\n",
      "File Not Found\n",
      "start processing 201801240250\n",
      "Himawari8/AHI data Processed Finish\n",
      "data reading finish\n",
      "Start reading Angle data\n"
     ]
    },
    {
     "name": "stderr",
     "output_type": "stream",
     "text": [
      "<ipython-input-6-cf9edf51547c>:25: FutureWarning: elementwise comparison failed; returning scalar instead, but in the future will perform elementwise comparison\n",
      "  if AHI_data == 'No data':\n"
     ]
    },
    {
     "name": "stdout",
     "output_type": "stream",
     "text": [
      "Angle data read finished\n",
      "Start reading Atmospheric data\n",
      "Atmospheric data read finished\n",
      "Start Calculate SR\n",
      "Calculate SR finished\n",
      "Start Save SR file \n",
      "Save SR file finished\n",
      "delete file finish\n",
      "time: 19.6 secs, 0.3 mins,0.0 hours\n",
      "start processing 201801240300\n",
      "Himawari8/AHI data Processed Finish\n",
      "data reading finish\n",
      "Start reading Angle data\n"
     ]
    },
    {
     "name": "stderr",
     "output_type": "stream",
     "text": [
      "<ipython-input-6-cf9edf51547c>:25: FutureWarning: elementwise comparison failed; returning scalar instead, but in the future will perform elementwise comparison\n",
      "  if AHI_data == 'No data':\n"
     ]
    },
    {
     "name": "stdout",
     "output_type": "stream",
     "text": [
      "Angle data read finished\n",
      "Start reading Atmospheric data\n",
      "Atmospheric data read finished\n",
      "Start Calculate SR\n",
      "Calculate SR finished\n",
      "Start Save SR file \n",
      "Save SR file finished\n",
      "delete file finish\n",
      "time: 19.8 secs, 0.3 mins,0.0 hours\n",
      "start processing 201801240310\n",
      "Himawari8/AHI data Processed Finish\n",
      "data reading finish\n",
      "Start reading Angle data\n"
     ]
    },
    {
     "name": "stderr",
     "output_type": "stream",
     "text": [
      "<ipython-input-6-cf9edf51547c>:25: FutureWarning: elementwise comparison failed; returning scalar instead, but in the future will perform elementwise comparison\n",
      "  if AHI_data == 'No data':\n"
     ]
    },
    {
     "name": "stdout",
     "output_type": "stream",
     "text": [
      "Angle data read finished\n",
      "Start reading Atmospheric data\n",
      "Atmospheric data read finished\n",
      "Start Calculate SR\n",
      "Calculate SR finished\n",
      "Start Save SR file \n",
      "Save SR file finished\n",
      "delete file finish\n",
      "time: 19.5 secs, 0.3 mins,0.0 hours\n",
      "start processing 201801240320\n",
      "Himawari8/AHI data Processed Finish\n",
      "data reading finish\n",
      "Start reading Angle data\n"
     ]
    },
    {
     "name": "stderr",
     "output_type": "stream",
     "text": [
      "<ipython-input-6-cf9edf51547c>:25: FutureWarning: elementwise comparison failed; returning scalar instead, but in the future will perform elementwise comparison\n",
      "  if AHI_data == 'No data':\n"
     ]
    },
    {
     "name": "stdout",
     "output_type": "stream",
     "text": [
      "Angle data read finished\n",
      "Start reading Atmospheric data\n",
      "Atmospheric data read finished\n",
      "Start Calculate SR\n",
      "Calculate SR finished\n",
      "Start Save SR file \n",
      "Save SR file finished\n",
      "delete file finish\n",
      "time: 19.7 secs, 0.3 mins,0.0 hours\n",
      "start processing 201801240330\n",
      "Himawari8/AHI data Processed Finish\n",
      "data reading finish\n",
      "Start reading Angle data\n"
     ]
    },
    {
     "name": "stderr",
     "output_type": "stream",
     "text": [
      "<ipython-input-6-cf9edf51547c>:25: FutureWarning: elementwise comparison failed; returning scalar instead, but in the future will perform elementwise comparison\n",
      "  if AHI_data == 'No data':\n"
     ]
    },
    {
     "name": "stdout",
     "output_type": "stream",
     "text": [
      "Angle data read finished\n",
      "Start reading Atmospheric data\n",
      "Atmospheric data read finished\n",
      "Start Calculate SR\n",
      "Calculate SR finished\n",
      "Start Save SR file \n",
      "Save SR file finished\n",
      "delete file finish\n",
      "time: 19.8 secs, 0.3 mins,0.0 hours\n",
      "start processing 201801240340\n",
      "Himawari8/AHI data Processed Finish\n",
      "data reading finish\n",
      "Start reading Angle data\n"
     ]
    },
    {
     "name": "stderr",
     "output_type": "stream",
     "text": [
      "<ipython-input-6-cf9edf51547c>:25: FutureWarning: elementwise comparison failed; returning scalar instead, but in the future will perform elementwise comparison\n",
      "  if AHI_data == 'No data':\n"
     ]
    },
    {
     "name": "stdout",
     "output_type": "stream",
     "text": [
      "Angle data read finished\n",
      "Start reading Atmospheric data\n",
      "Atmospheric data read finished\n",
      "Start Calculate SR\n",
      "Calculate SR finished\n",
      "Start Save SR file \n",
      "Save SR file finished\n",
      "delete file finish\n",
      "time: 19.7 secs, 0.3 mins,0.0 hours\n",
      "start processing 201801240350\n",
      "Himawari8/AHI data Processed Finish\n",
      "data reading finish\n",
      "Start reading Angle data\n"
     ]
    },
    {
     "name": "stderr",
     "output_type": "stream",
     "text": [
      "<ipython-input-6-cf9edf51547c>:25: FutureWarning: elementwise comparison failed; returning scalar instead, but in the future will perform elementwise comparison\n",
      "  if AHI_data == 'No data':\n"
     ]
    },
    {
     "name": "stdout",
     "output_type": "stream",
     "text": [
      "Angle data read finished\n",
      "Start reading Atmospheric data\n",
      "Atmospheric data read finished\n",
      "Start Calculate SR\n",
      "Calculate SR finished\n",
      "Start Save SR file \n",
      "Save SR file finished\n",
      "delete file finish\n",
      "time: 19.7 secs, 0.3 mins,0.0 hours\n",
      "start processing 201801240400\n",
      "Himawari8/AHI data Processed Finish\n",
      "data reading finish\n",
      "Start reading Angle data\n"
     ]
    },
    {
     "name": "stderr",
     "output_type": "stream",
     "text": [
      "<ipython-input-6-cf9edf51547c>:25: FutureWarning: elementwise comparison failed; returning scalar instead, but in the future will perform elementwise comparison\n",
      "  if AHI_data == 'No data':\n"
     ]
    },
    {
     "name": "stdout",
     "output_type": "stream",
     "text": [
      "Angle data read finished\n",
      "Start reading Atmospheric data\n",
      "Atmospheric data read finished\n",
      "Start Calculate SR\n",
      "Calculate SR finished\n",
      "Start Save SR file \n",
      "Save SR file finished\n",
      "delete file finish\n",
      "time: 19.8 secs, 0.3 mins,0.0 hours\n",
      "start processing 201801240410\n",
      "Himawari8/AHI data Processed Finish\n",
      "data reading finish\n",
      "Start reading Angle data\n"
     ]
    },
    {
     "name": "stderr",
     "output_type": "stream",
     "text": [
      "<ipython-input-6-cf9edf51547c>:25: FutureWarning: elementwise comparison failed; returning scalar instead, but in the future will perform elementwise comparison\n",
      "  if AHI_data == 'No data':\n"
     ]
    },
    {
     "name": "stdout",
     "output_type": "stream",
     "text": [
      "Angle data read finished\n",
      "Start reading Atmospheric data\n",
      "Atmospheric data read finished\n",
      "Start Calculate SR\n",
      "Calculate SR finished\n",
      "Start Save SR file \n",
      "Save SR file finished\n",
      "delete file finish\n",
      "time: 19.2 secs, 0.3 mins,0.0 hours\n",
      "start processing 201801240420\n",
      "Himawari8/AHI data Processed Finish\n",
      "data reading finish\n",
      "Start reading Angle data\n"
     ]
    },
    {
     "name": "stderr",
     "output_type": "stream",
     "text": [
      "<ipython-input-6-cf9edf51547c>:25: FutureWarning: elementwise comparison failed; returning scalar instead, but in the future will perform elementwise comparison\n",
      "  if AHI_data == 'No data':\n"
     ]
    },
    {
     "name": "stdout",
     "output_type": "stream",
     "text": [
      "Angle data read finished\n",
      "Start reading Atmospheric data\n",
      "Atmospheric data read finished\n",
      "Start Calculate SR\n",
      "Calculate SR finished\n",
      "Start Save SR file \n",
      "Save SR file finished\n",
      "delete file finish\n",
      "time: 19.3 secs, 0.3 mins,0.0 hours\n",
      "start processing 201801240430\n",
      "Himawari8/AHI data Processed Finish\n",
      "data reading finish\n",
      "Start reading Angle data\n"
     ]
    },
    {
     "name": "stderr",
     "output_type": "stream",
     "text": [
      "<ipython-input-6-cf9edf51547c>:25: FutureWarning: elementwise comparison failed; returning scalar instead, but in the future will perform elementwise comparison\n",
      "  if AHI_data == 'No data':\n"
     ]
    },
    {
     "name": "stdout",
     "output_type": "stream",
     "text": [
      "Angle data read finished\n",
      "Start reading Atmospheric data\n",
      "Atmospheric data read finished\n",
      "Start Calculate SR\n",
      "Calculate SR finished\n",
      "Start Save SR file \n",
      "Save SR file finished\n",
      "delete file finish\n",
      "time: 19.2 secs, 0.3 mins,0.0 hours\n",
      "start processing 201801240440\n",
      "Himawari8/AHI data Processed Finish\n",
      "data reading finish\n",
      "Start reading Angle data\n"
     ]
    },
    {
     "name": "stderr",
     "output_type": "stream",
     "text": [
      "<ipython-input-6-cf9edf51547c>:25: FutureWarning: elementwise comparison failed; returning scalar instead, but in the future will perform elementwise comparison\n",
      "  if AHI_data == 'No data':\n"
     ]
    },
    {
     "name": "stdout",
     "output_type": "stream",
     "text": [
      "Angle data read finished\n",
      "Start reading Atmospheric data\n",
      "Atmospheric data read finished\n",
      "Start Calculate SR\n",
      "Calculate SR finished\n",
      "Start Save SR file \n",
      "Save SR file finished\n",
      "delete file finish\n",
      "time: 19.0 secs, 0.3 mins,0.0 hours\n",
      "start processing 201801240450\n",
      "Himawari8/AHI data Processed Finish\n",
      "data reading finish\n",
      "Start reading Angle data\n"
     ]
    },
    {
     "name": "stderr",
     "output_type": "stream",
     "text": [
      "<ipython-input-6-cf9edf51547c>:25: FutureWarning: elementwise comparison failed; returning scalar instead, but in the future will perform elementwise comparison\n",
      "  if AHI_data == 'No data':\n"
     ]
    },
    {
     "name": "stdout",
     "output_type": "stream",
     "text": [
      "Angle data read finished\n",
      "Start reading Atmospheric data\n",
      "Atmospheric data read finished\n",
      "Start Calculate SR\n",
      "Calculate SR finished\n",
      "Start Save SR file \n",
      "Save SR file finished\n",
      "delete file finish\n",
      "time: 19.2 secs, 0.3 mins,0.0 hours\n",
      "start processing 201801240500\n",
      "Himawari8/AHI data Processed Finish\n",
      "data reading finish\n",
      "Start reading Angle data\n"
     ]
    },
    {
     "name": "stderr",
     "output_type": "stream",
     "text": [
      "<ipython-input-6-cf9edf51547c>:25: FutureWarning: elementwise comparison failed; returning scalar instead, but in the future will perform elementwise comparison\n",
      "  if AHI_data == 'No data':\n"
     ]
    },
    {
     "name": "stdout",
     "output_type": "stream",
     "text": [
      "Angle data read finished\n",
      "Start reading Atmospheric data\n",
      "Atmospheric data read finished\n",
      "Start Calculate SR\n",
      "Calculate SR finished\n",
      "Start Save SR file \n",
      "Save SR file finished\n",
      "delete file finish\n",
      "time: 18.9 secs, 0.3 mins,0.0 hours\n",
      "start processing 201801240510\n",
      "Himawari8/AHI data Processed Finish\n",
      "data reading finish\n",
      "Start reading Angle data\n"
     ]
    },
    {
     "name": "stderr",
     "output_type": "stream",
     "text": [
      "<ipython-input-6-cf9edf51547c>:25: FutureWarning: elementwise comparison failed; returning scalar instead, but in the future will perform elementwise comparison\n",
      "  if AHI_data == 'No data':\n"
     ]
    },
    {
     "name": "stdout",
     "output_type": "stream",
     "text": [
      "Angle data read finished\n",
      "Start reading Atmospheric data\n",
      "Atmospheric data read finished\n",
      "Start Calculate SR\n",
      "Calculate SR finished\n",
      "Start Save SR file \n",
      "Save SR file finished\n",
      "delete file finish\n",
      "time: 19.0 secs, 0.3 mins,0.0 hours\n",
      "start processing 201801240520\n",
      "Himawari8/AHI data Processed Finish\n",
      "data reading finish\n",
      "Start reading Angle data\n"
     ]
    },
    {
     "name": "stderr",
     "output_type": "stream",
     "text": [
      "<ipython-input-6-cf9edf51547c>:25: FutureWarning: elementwise comparison failed; returning scalar instead, but in the future will perform elementwise comparison\n",
      "  if AHI_data == 'No data':\n"
     ]
    },
    {
     "name": "stdout",
     "output_type": "stream",
     "text": [
      "Angle data read finished\n",
      "Start reading Atmospheric data\n",
      "Atmospheric data read finished\n",
      "Start Calculate SR\n",
      "Calculate SR finished\n",
      "Start Save SR file \n",
      "Save SR file finished\n",
      "delete file finish\n",
      "time: 18.8 secs, 0.3 mins,0.0 hours\n",
      "start processing 201801240530\n",
      "Himawari8/AHI data Processed Finish\n",
      "data reading finish\n",
      "Start reading Angle data\n"
     ]
    },
    {
     "name": "stderr",
     "output_type": "stream",
     "text": [
      "<ipython-input-6-cf9edf51547c>:25: FutureWarning: elementwise comparison failed; returning scalar instead, but in the future will perform elementwise comparison\n",
      "  if AHI_data == 'No data':\n"
     ]
    },
    {
     "name": "stdout",
     "output_type": "stream",
     "text": [
      "Angle data read finished\n",
      "Start reading Atmospheric data\n",
      "Atmospheric data read finished\n",
      "Start Calculate SR\n",
      "Calculate SR finished\n",
      "Start Save SR file \n",
      "Save SR file finished\n",
      "delete file finish\n",
      "time: 19.0 secs, 0.3 mins,0.0 hours\n",
      "start processing 201801240540\n",
      "Himawari8/AHI data Processed Finish\n",
      "data reading finish\n",
      "Start reading Angle data\n"
     ]
    },
    {
     "name": "stderr",
     "output_type": "stream",
     "text": [
      "<ipython-input-6-cf9edf51547c>:25: FutureWarning: elementwise comparison failed; returning scalar instead, but in the future will perform elementwise comparison\n",
      "  if AHI_data == 'No data':\n"
     ]
    },
    {
     "name": "stdout",
     "output_type": "stream",
     "text": [
      "Angle data read finished\n",
      "Start reading Atmospheric data\n",
      "Atmospheric data read finished\n",
      "Start Calculate SR\n",
      "Calculate SR finished\n",
      "Start Save SR file \n",
      "Save SR file finished\n",
      "delete file finish\n",
      "time: 19.0 secs, 0.3 mins,0.0 hours\n",
      "start processing 201801240550\n",
      "Himawari8/AHI data Processed Finish\n",
      "data reading finish\n",
      "Start reading Angle data\n"
     ]
    },
    {
     "name": "stderr",
     "output_type": "stream",
     "text": [
      "<ipython-input-6-cf9edf51547c>:25: FutureWarning: elementwise comparison failed; returning scalar instead, but in the future will perform elementwise comparison\n",
      "  if AHI_data == 'No data':\n"
     ]
    },
    {
     "name": "stdout",
     "output_type": "stream",
     "text": [
      "Angle data read finished\n",
      "Start reading Atmospheric data\n",
      "Atmospheric data read finished\n",
      "Start Calculate SR\n",
      "Calculate SR finished\n",
      "Start Save SR file \n",
      "Save SR file finished\n",
      "delete file finish\n",
      "time: 19.0 secs, 0.3 mins,0.0 hours\n",
      "start processing 201801240600\n",
      "Himawari8/AHI data Processed Finish\n",
      "data reading finish\n",
      "Start reading Angle data\n"
     ]
    },
    {
     "name": "stderr",
     "output_type": "stream",
     "text": [
      "<ipython-input-6-cf9edf51547c>:25: FutureWarning: elementwise comparison failed; returning scalar instead, but in the future will perform elementwise comparison\n",
      "  if AHI_data == 'No data':\n"
     ]
    },
    {
     "name": "stdout",
     "output_type": "stream",
     "text": [
      "Angle data read finished\n",
      "Start reading Atmospheric data\n",
      "Atmospheric data read finished\n",
      "Start Calculate SR\n",
      "Calculate SR finished\n",
      "Start Save SR file \n",
      "Save SR file finished\n",
      "delete file finish\n",
      "time: 19.0 secs, 0.3 mins,0.0 hours\n",
      "start processing 201801240610\n",
      "Himawari8/AHI data Processed Finish\n",
      "data reading finish\n",
      "Start reading Angle data\n"
     ]
    },
    {
     "name": "stderr",
     "output_type": "stream",
     "text": [
      "<ipython-input-6-cf9edf51547c>:25: FutureWarning: elementwise comparison failed; returning scalar instead, but in the future will perform elementwise comparison\n",
      "  if AHI_data == 'No data':\n"
     ]
    },
    {
     "name": "stdout",
     "output_type": "stream",
     "text": [
      "Angle data read finished\n",
      "Start reading Atmospheric data\n",
      "Atmospheric data read finished\n",
      "Start Calculate SR\n",
      "Calculate SR finished\n",
      "Start Save SR file \n",
      "Save SR file finished\n",
      "delete file finish\n",
      "time: 19.1 secs, 0.3 mins,0.0 hours\n",
      "start processing 201801240620\n",
      "Himawari8/AHI data Processed Finish\n",
      "data reading finish\n",
      "Start reading Angle data\n"
     ]
    },
    {
     "name": "stderr",
     "output_type": "stream",
     "text": [
      "<ipython-input-6-cf9edf51547c>:25: FutureWarning: elementwise comparison failed; returning scalar instead, but in the future will perform elementwise comparison\n",
      "  if AHI_data == 'No data':\n"
     ]
    },
    {
     "name": "stdout",
     "output_type": "stream",
     "text": [
      "Angle data read finished\n",
      "Start reading Atmospheric data\n",
      "Atmospheric data read finished\n",
      "Start Calculate SR\n",
      "Calculate SR finished\n",
      "Start Save SR file \n",
      "Save SR file finished\n",
      "delete file finish\n",
      "time: 19.3 secs, 0.3 mins,0.0 hours\n",
      "start processing 201801240630\n",
      "Himawari8/AHI data Processed Finish\n",
      "data reading finish\n",
      "Start reading Angle data\n"
     ]
    },
    {
     "name": "stderr",
     "output_type": "stream",
     "text": [
      "<ipython-input-6-cf9edf51547c>:25: FutureWarning: elementwise comparison failed; returning scalar instead, but in the future will perform elementwise comparison\n",
      "  if AHI_data == 'No data':\n"
     ]
    },
    {
     "name": "stdout",
     "output_type": "stream",
     "text": [
      "Angle data read finished\n",
      "Start reading Atmospheric data\n",
      "Atmospheric data read finished\n",
      "Start Calculate SR\n",
      "Calculate SR finished\n",
      "Start Save SR file \n",
      "Save SR file finished\n",
      "delete file finish\n",
      "time: 19.0 secs, 0.3 mins,0.0 hours\n",
      "start processing 201801240640\n",
      "Himawari8/AHI data Processed Finish\n",
      "data reading finish\n",
      "Start reading Angle data\n"
     ]
    },
    {
     "name": "stderr",
     "output_type": "stream",
     "text": [
      "<ipython-input-6-cf9edf51547c>:25: FutureWarning: elementwise comparison failed; returning scalar instead, but in the future will perform elementwise comparison\n",
      "  if AHI_data == 'No data':\n"
     ]
    },
    {
     "name": "stdout",
     "output_type": "stream",
     "text": [
      "Angle data read finished\n",
      "Start reading Atmospheric data\n",
      "Atmospheric data read finished\n",
      "Start Calculate SR\n",
      "Calculate SR finished\n",
      "Start Save SR file \n",
      "Save SR file finished\n",
      "delete file finish\n",
      "time: 18.9 secs, 0.3 mins,0.0 hours\n",
      "start processing 201801240650\n",
      "Himawari8/AHI data Processed Finish\n",
      "data reading finish\n",
      "Start reading Angle data\n"
     ]
    },
    {
     "name": "stderr",
     "output_type": "stream",
     "text": [
      "<ipython-input-6-cf9edf51547c>:25: FutureWarning: elementwise comparison failed; returning scalar instead, but in the future will perform elementwise comparison\n",
      "  if AHI_data == 'No data':\n"
     ]
    },
    {
     "name": "stdout",
     "output_type": "stream",
     "text": [
      "Angle data read finished\n",
      "Start reading Atmospheric data\n",
      "Atmospheric data read finished\n",
      "Start Calculate SR\n",
      "Calculate SR finished\n",
      "Start Save SR file \n",
      "Save SR file finished\n",
      "delete file finish\n",
      "time: 18.9 secs, 0.3 mins,0.0 hours\n",
      "start processing 201801240700\n",
      "Himawari8/AHI data Processed Finish\n",
      "data reading finish\n",
      "Start reading Angle data\n"
     ]
    },
    {
     "name": "stderr",
     "output_type": "stream",
     "text": [
      "<ipython-input-6-cf9edf51547c>:25: FutureWarning: elementwise comparison failed; returning scalar instead, but in the future will perform elementwise comparison\n",
      "  if AHI_data == 'No data':\n"
     ]
    },
    {
     "name": "stdout",
     "output_type": "stream",
     "text": [
      "Angle data read finished\n",
      "Start reading Atmospheric data\n",
      "Atmospheric data read finished\n",
      "Start Calculate SR\n",
      "Calculate SR finished\n",
      "Start Save SR file \n",
      "Save SR file finished\n",
      "delete file finish\n",
      "time: 19.1 secs, 0.3 mins,0.0 hours\n",
      "start processing 201801240710\n",
      "Himawari8/AHI data Processed Finish\n",
      "data reading finish\n",
      "Start reading Angle data\n"
     ]
    },
    {
     "name": "stderr",
     "output_type": "stream",
     "text": [
      "<ipython-input-6-cf9edf51547c>:25: FutureWarning: elementwise comparison failed; returning scalar instead, but in the future will perform elementwise comparison\n",
      "  if AHI_data == 'No data':\n"
     ]
    },
    {
     "name": "stdout",
     "output_type": "stream",
     "text": [
      "Angle data read finished\n",
      "Start reading Atmospheric data\n",
      "Atmospheric data read finished\n",
      "Start Calculate SR\n",
      "Calculate SR finished\n",
      "Start Save SR file \n",
      "Save SR file finished\n",
      "delete file finish\n",
      "time: 19.0 secs, 0.3 mins,0.0 hours\n",
      "start processing 201801240720\n",
      "Himawari8/AHI data Processed Finish\n",
      "data reading finish\n",
      "Start reading Angle data\n"
     ]
    },
    {
     "name": "stderr",
     "output_type": "stream",
     "text": [
      "<ipython-input-6-cf9edf51547c>:25: FutureWarning: elementwise comparison failed; returning scalar instead, but in the future will perform elementwise comparison\n",
      "  if AHI_data == 'No data':\n"
     ]
    },
    {
     "name": "stdout",
     "output_type": "stream",
     "text": [
      "Angle data read finished\n",
      "Start reading Atmospheric data\n",
      "Atmospheric data read finished\n",
      "Start Calculate SR\n",
      "Calculate SR finished\n",
      "Start Save SR file \n",
      "Save SR file finished\n",
      "delete file finish\n",
      "time: 19.0 secs, 0.3 mins,0.0 hours\n",
      "start processing 201801240730\n",
      "Himawari8/AHI data Processed Finish\n",
      "data reading finish\n",
      "Start reading Angle data\n"
     ]
    },
    {
     "name": "stderr",
     "output_type": "stream",
     "text": [
      "<ipython-input-6-cf9edf51547c>:25: FutureWarning: elementwise comparison failed; returning scalar instead, but in the future will perform elementwise comparison\n",
      "  if AHI_data == 'No data':\n"
     ]
    },
    {
     "name": "stdout",
     "output_type": "stream",
     "text": [
      "Angle data read finished\n",
      "Start reading Atmospheric data\n",
      "Atmospheric data read finished\n",
      "Start Calculate SR\n",
      "Calculate SR finished\n",
      "Start Save SR file \n",
      "Save SR file finished\n",
      "delete file finish\n",
      "time: 19.7 secs, 0.3 mins,0.0 hours\n",
      "start processing 201801240740\n",
      "Himawari8/AHI data Processed Finish\n",
      "data reading finish\n",
      "Start reading Angle data\n"
     ]
    },
    {
     "name": "stderr",
     "output_type": "stream",
     "text": [
      "<ipython-input-6-cf9edf51547c>:25: FutureWarning: elementwise comparison failed; returning scalar instead, but in the future will perform elementwise comparison\n",
      "  if AHI_data == 'No data':\n"
     ]
    },
    {
     "name": "stdout",
     "output_type": "stream",
     "text": [
      "Angle data read finished\n",
      "Start reading Atmospheric data\n",
      "Atmospheric data read finished\n",
      "Start Calculate SR\n",
      "Calculate SR finished\n",
      "Start Save SR file \n",
      "Save SR file finished\n",
      "delete file finish\n",
      "time: 21.2 secs, 0.4 mins,0.0 hours\n",
      "start processing 201801240750\n",
      "Himawari8/AHI data Processed Finish\n",
      "data reading finish\n",
      "Start reading Angle data\n"
     ]
    },
    {
     "name": "stderr",
     "output_type": "stream",
     "text": [
      "<ipython-input-6-cf9edf51547c>:25: FutureWarning: elementwise comparison failed; returning scalar instead, but in the future will perform elementwise comparison\n",
      "  if AHI_data == 'No data':\n"
     ]
    },
    {
     "name": "stdout",
     "output_type": "stream",
     "text": [
      "Angle data read finished\n",
      "Start reading Atmospheric data\n",
      "Atmospheric data read finished\n",
      "Start Calculate SR\n",
      "Calculate SR finished\n",
      "Start Save SR file \n",
      "Save SR file finished\n",
      "delete file finish\n",
      "time: 20.7 secs, 0.3 mins,0.0 hours\n",
      "start processing 201801240800\n",
      "Himawari8/AHI data Processed Finish\n",
      "data reading finish\n",
      "Start reading Angle data\n"
     ]
    },
    {
     "name": "stderr",
     "output_type": "stream",
     "text": [
      "<ipython-input-6-cf9edf51547c>:25: FutureWarning: elementwise comparison failed; returning scalar instead, but in the future will perform elementwise comparison\n",
      "  if AHI_data == 'No data':\n"
     ]
    },
    {
     "name": "stdout",
     "output_type": "stream",
     "text": [
      "Angle data read finished\n",
      "Start reading Atmospheric data\n",
      "Atmospheric data read finished\n",
      "Start Calculate SR\n",
      "Calculate SR finished\n",
      "Start Save SR file \n",
      "Save SR file finished\n",
      "delete file finish\n",
      "time: 20.1 secs, 0.3 mins,0.0 hours\n",
      "start processing 201801240810\n",
      "Himawari8/AHI data Processed Finish\n",
      "data reading finish\n",
      "Start reading Angle data\n"
     ]
    },
    {
     "name": "stderr",
     "output_type": "stream",
     "text": [
      "<ipython-input-6-cf9edf51547c>:25: FutureWarning: elementwise comparison failed; returning scalar instead, but in the future will perform elementwise comparison\n",
      "  if AHI_data == 'No data':\n"
     ]
    },
    {
     "name": "stdout",
     "output_type": "stream",
     "text": [
      "Angle data read finished\n",
      "Start reading Atmospheric data\n",
      "Atmospheric data read finished\n",
      "Start Calculate SR\n",
      "Calculate SR finished\n",
      "Start Save SR file \n",
      "Save SR file finished\n",
      "delete file finish\n",
      "time: 19.1 secs, 0.3 mins,0.0 hours\n",
      "start processing 201801240820\n",
      "Himawari8/AHI data Processed Finish\n",
      "data reading finish\n",
      "Start reading Angle data\n"
     ]
    },
    {
     "name": "stderr",
     "output_type": "stream",
     "text": [
      "<ipython-input-6-cf9edf51547c>:25: FutureWarning: elementwise comparison failed; returning scalar instead, but in the future will perform elementwise comparison\n",
      "  if AHI_data == 'No data':\n"
     ]
    },
    {
     "name": "stdout",
     "output_type": "stream",
     "text": [
      "Angle data read finished\n",
      "Start reading Atmospheric data\n",
      "Atmospheric data read finished\n",
      "Start Calculate SR\n",
      "Calculate SR finished\n",
      "Start Save SR file \n",
      "Save SR file finished\n",
      "delete file finish\n",
      "time: 19.3 secs, 0.3 mins,0.0 hours\n",
      "start processing 201801240830\n",
      "Himawari8/AHI data Processed Finish\n",
      "data reading finish\n",
      "Start reading Angle data\n"
     ]
    },
    {
     "name": "stderr",
     "output_type": "stream",
     "text": [
      "<ipython-input-6-cf9edf51547c>:25: FutureWarning: elementwise comparison failed; returning scalar instead, but in the future will perform elementwise comparison\n",
      "  if AHI_data == 'No data':\n"
     ]
    },
    {
     "name": "stdout",
     "output_type": "stream",
     "text": [
      "Angle data read finished\n",
      "Start reading Atmospheric data\n",
      "Atmospheric data read finished\n",
      "Start Calculate SR\n",
      "Calculate SR finished\n",
      "Start Save SR file \n",
      "Save SR file finished\n",
      "delete file finish\n",
      "time: 19.0 secs, 0.3 mins,0.0 hours\n",
      "start processing 201801240840\n",
      "Himawari8/AHI data Processed Finish\n",
      "data reading finish\n",
      "Start reading Angle data\n"
     ]
    },
    {
     "name": "stderr",
     "output_type": "stream",
     "text": [
      "<ipython-input-6-cf9edf51547c>:25: FutureWarning: elementwise comparison failed; returning scalar instead, but in the future will perform elementwise comparison\n",
      "  if AHI_data == 'No data':\n"
     ]
    },
    {
     "name": "stdout",
     "output_type": "stream",
     "text": [
      "Angle data read finished\n",
      "Start reading Atmospheric data\n",
      "Atmospheric data read finished\n",
      "Start Calculate SR\n",
      "Calculate SR finished\n",
      "Start Save SR file \n",
      "Save SR file finished\n",
      "delete file finish\n",
      "time: 19.2 secs, 0.3 mins,0.0 hours\n",
      "start processing 201801240850\n",
      "Himawari8/AHI data Processed Finish\n",
      "data reading finish\n",
      "Start reading Angle data\n"
     ]
    },
    {
     "name": "stderr",
     "output_type": "stream",
     "text": [
      "<ipython-input-6-cf9edf51547c>:25: FutureWarning: elementwise comparison failed; returning scalar instead, but in the future will perform elementwise comparison\n",
      "  if AHI_data == 'No data':\n"
     ]
    },
    {
     "name": "stdout",
     "output_type": "stream",
     "text": [
      "Angle data read finished\n",
      "Start reading Atmospheric data\n",
      "Atmospheric data read finished\n",
      "Start Calculate SR\n",
      "Calculate SR finished\n",
      "Start Save SR file \n",
      "Save SR file finished\n",
      "delete file finish\n",
      "time: 19.0 secs, 0.3 mins,0.0 hours\n",
      "start processing 201801240900\n",
      "Himawari8/AHI data Processed Finish\n",
      "data reading finish\n",
      "Start reading Angle data\n"
     ]
    },
    {
     "name": "stderr",
     "output_type": "stream",
     "text": [
      "<ipython-input-6-cf9edf51547c>:25: FutureWarning: elementwise comparison failed; returning scalar instead, but in the future will perform elementwise comparison\n",
      "  if AHI_data == 'No data':\n"
     ]
    },
    {
     "name": "stdout",
     "output_type": "stream",
     "text": [
      "Angle data read finished\n",
      "Start reading Atmospheric data\n",
      "Atmospheric data read finished\n",
      "Start Calculate SR\n",
      "Calculate SR finished\n",
      "Start Save SR file \n",
      "Save SR file finished\n",
      "delete file finish\n",
      "time: 19.5 secs, 0.3 mins,0.0 hours\n",
      "start processing 201801250000\n",
      "Himawari8/AHI data Processed Finish\n",
      "data reading finish\n",
      "Start reading Angle data\n"
     ]
    },
    {
     "name": "stderr",
     "output_type": "stream",
     "text": [
      "<ipython-input-6-cf9edf51547c>:25: FutureWarning: elementwise comparison failed; returning scalar instead, but in the future will perform elementwise comparison\n",
      "  if AHI_data == 'No data':\n"
     ]
    },
    {
     "name": "stdout",
     "output_type": "stream",
     "text": [
      "Angle data read finished\n",
      "Start reading Atmospheric data\n",
      "Atmospheric data read finished\n",
      "Start Calculate SR\n",
      "Calculate SR finished\n",
      "Start Save SR file \n",
      "Save SR file finished\n",
      "delete file finish\n",
      "time: 19.3 secs, 0.3 mins,0.0 hours\n",
      "start processing 201801250010\n",
      "Himawari8/AHI data Processed Finish\n",
      "data reading finish\n",
      "Start reading Angle data\n"
     ]
    },
    {
     "name": "stderr",
     "output_type": "stream",
     "text": [
      "<ipython-input-6-cf9edf51547c>:25: FutureWarning: elementwise comparison failed; returning scalar instead, but in the future will perform elementwise comparison\n",
      "  if AHI_data == 'No data':\n"
     ]
    },
    {
     "name": "stdout",
     "output_type": "stream",
     "text": [
      "Angle data read finished\n",
      "Start reading Atmospheric data\n",
      "Atmospheric data read finished\n",
      "Start Calculate SR\n",
      "Calculate SR finished\n",
      "Start Save SR file \n",
      "Save SR file finished\n",
      "delete file finish\n",
      "time: 19.4 secs, 0.3 mins,0.0 hours\n",
      "start processing 201801250020\n",
      "Himawari8/AHI data Processed Finish\n",
      "data reading finish\n",
      "Start reading Angle data\n"
     ]
    },
    {
     "name": "stderr",
     "output_type": "stream",
     "text": [
      "<ipython-input-6-cf9edf51547c>:25: FutureWarning: elementwise comparison failed; returning scalar instead, but in the future will perform elementwise comparison\n",
      "  if AHI_data == 'No data':\n"
     ]
    },
    {
     "name": "stdout",
     "output_type": "stream",
     "text": [
      "Angle data read finished\n",
      "Start reading Atmospheric data\n",
      "Atmospheric data read finished\n",
      "Start Calculate SR\n",
      "Calculate SR finished\n",
      "Start Save SR file \n",
      "Save SR file finished\n",
      "delete file finish\n",
      "time: 19.4 secs, 0.3 mins,0.0 hours\n",
      "start processing 201801250030\n",
      "Himawari8/AHI data Processed Finish\n",
      "data reading finish\n",
      "Start reading Angle data\n"
     ]
    },
    {
     "name": "stderr",
     "output_type": "stream",
     "text": [
      "<ipython-input-6-cf9edf51547c>:25: FutureWarning: elementwise comparison failed; returning scalar instead, but in the future will perform elementwise comparison\n",
      "  if AHI_data == 'No data':\n"
     ]
    },
    {
     "name": "stdout",
     "output_type": "stream",
     "text": [
      "Angle data read finished\n",
      "Start reading Atmospheric data\n",
      "Atmospheric data read finished\n",
      "Start Calculate SR\n",
      "Calculate SR finished\n",
      "Start Save SR file \n",
      "Save SR file finished\n",
      "delete file finish\n",
      "time: 19.1 secs, 0.3 mins,0.0 hours\n",
      "start processing 201801250040\n",
      "Himawari8/AHI data Processed Finish\n",
      "data reading finish\n",
      "Start reading Angle data\n"
     ]
    },
    {
     "name": "stderr",
     "output_type": "stream",
     "text": [
      "<ipython-input-6-cf9edf51547c>:25: FutureWarning: elementwise comparison failed; returning scalar instead, but in the future will perform elementwise comparison\n",
      "  if AHI_data == 'No data':\n"
     ]
    },
    {
     "name": "stdout",
     "output_type": "stream",
     "text": [
      "Angle data read finished\n",
      "Start reading Atmospheric data\n",
      "Atmospheric data read finished\n",
      "Start Calculate SR\n",
      "Calculate SR finished\n",
      "Start Save SR file \n",
      "Save SR file finished\n",
      "delete file finish\n",
      "time: 20.4 secs, 0.3 mins,0.0 hours\n",
      "start processing 201801250050\n",
      "Himawari8/AHI data Processed Finish\n",
      "data reading finish\n",
      "Start reading Angle data\n"
     ]
    },
    {
     "name": "stderr",
     "output_type": "stream",
     "text": [
      "<ipython-input-6-cf9edf51547c>:25: FutureWarning: elementwise comparison failed; returning scalar instead, but in the future will perform elementwise comparison\n",
      "  if AHI_data == 'No data':\n"
     ]
    },
    {
     "name": "stdout",
     "output_type": "stream",
     "text": [
      "Angle data read finished\n",
      "Start reading Atmospheric data\n",
      "Atmospheric data read finished\n",
      "Start Calculate SR\n",
      "Calculate SR finished\n",
      "Start Save SR file \n",
      "Save SR file finished\n",
      "delete file finish\n",
      "time: 20.1 secs, 0.3 mins,0.0 hours\n",
      "start processing 201801250100\n",
      "Himawari8/AHI data Processed Finish\n",
      "data reading finish\n",
      "Start reading Angle data\n"
     ]
    },
    {
     "name": "stderr",
     "output_type": "stream",
     "text": [
      "<ipython-input-6-cf9edf51547c>:25: FutureWarning: elementwise comparison failed; returning scalar instead, but in the future will perform elementwise comparison\n",
      "  if AHI_data == 'No data':\n"
     ]
    },
    {
     "name": "stdout",
     "output_type": "stream",
     "text": [
      "Angle data read finished\n",
      "Start reading Atmospheric data\n",
      "Atmospheric data read finished\n",
      "Start Calculate SR\n",
      "Calculate SR finished\n",
      "Start Save SR file \n",
      "Save SR file finished\n",
      "delete file finish\n",
      "time: 19.7 secs, 0.3 mins,0.0 hours\n",
      "start processing 201801250110\n",
      "Himawari8/AHI data Processed Finish\n",
      "data reading finish\n",
      "Start reading Angle data\n"
     ]
    },
    {
     "name": "stderr",
     "output_type": "stream",
     "text": [
      "<ipython-input-6-cf9edf51547c>:25: FutureWarning: elementwise comparison failed; returning scalar instead, but in the future will perform elementwise comparison\n",
      "  if AHI_data == 'No data':\n"
     ]
    },
    {
     "name": "stdout",
     "output_type": "stream",
     "text": [
      "Angle data read finished\n",
      "Start reading Atmospheric data\n",
      "Atmospheric data read finished\n",
      "Start Calculate SR\n",
      "Calculate SR finished\n",
      "Start Save SR file \n",
      "Save SR file finished\n",
      "delete file finish\n",
      "time: 19.9 secs, 0.3 mins,0.0 hours\n",
      "start processing 201801250120\n",
      "Himawari8/AHI data Processed Finish\n",
      "data reading finish\n",
      "Start reading Angle data\n"
     ]
    },
    {
     "name": "stderr",
     "output_type": "stream",
     "text": [
      "<ipython-input-6-cf9edf51547c>:25: FutureWarning: elementwise comparison failed; returning scalar instead, but in the future will perform elementwise comparison\n",
      "  if AHI_data == 'No data':\n"
     ]
    },
    {
     "name": "stdout",
     "output_type": "stream",
     "text": [
      "Angle data read finished\n",
      "Start reading Atmospheric data\n",
      "Atmospheric data read finished\n",
      "Start Calculate SR\n",
      "Calculate SR finished\n",
      "Start Save SR file \n",
      "Save SR file finished\n",
      "delete file finish\n",
      "time: 20.2 secs, 0.3 mins,0.0 hours\n",
      "start processing 201801250130\n",
      "Himawari8/AHI data Processed Finish\n",
      "data reading finish\n",
      "Start reading Angle data\n"
     ]
    },
    {
     "name": "stderr",
     "output_type": "stream",
     "text": [
      "<ipython-input-6-cf9edf51547c>:25: FutureWarning: elementwise comparison failed; returning scalar instead, but in the future will perform elementwise comparison\n",
      "  if AHI_data == 'No data':\n"
     ]
    },
    {
     "name": "stdout",
     "output_type": "stream",
     "text": [
      "Angle data read finished\n",
      "Start reading Atmospheric data\n",
      "Atmospheric data read finished\n",
      "Start Calculate SR\n",
      "Calculate SR finished\n",
      "Start Save SR file \n",
      "Save SR file finished\n",
      "delete file finish\n",
      "time: 19.9 secs, 0.3 mins,0.0 hours\n",
      "start processing 201801250140\n",
      "Himawari8/AHI data Processed Finish\n",
      "data reading finish\n",
      "Start reading Angle data\n"
     ]
    },
    {
     "name": "stderr",
     "output_type": "stream",
     "text": [
      "<ipython-input-6-cf9edf51547c>:25: FutureWarning: elementwise comparison failed; returning scalar instead, but in the future will perform elementwise comparison\n",
      "  if AHI_data == 'No data':\n"
     ]
    },
    {
     "name": "stdout",
     "output_type": "stream",
     "text": [
      "Angle data read finished\n",
      "Start reading Atmospheric data\n",
      "Atmospheric data read finished\n",
      "Start Calculate SR\n",
      "Calculate SR finished\n",
      "Start Save SR file \n",
      "Save SR file finished\n",
      "delete file finish\n",
      "time: 19.7 secs, 0.3 mins,0.0 hours\n",
      "start processing 201801250150\n",
      "Himawari8/AHI data Processed Finish\n",
      "data reading finish\n",
      "Start reading Angle data\n"
     ]
    },
    {
     "name": "stderr",
     "output_type": "stream",
     "text": [
      "<ipython-input-6-cf9edf51547c>:25: FutureWarning: elementwise comparison failed; returning scalar instead, but in the future will perform elementwise comparison\n",
      "  if AHI_data == 'No data':\n"
     ]
    },
    {
     "name": "stdout",
     "output_type": "stream",
     "text": [
      "Angle data read finished\n",
      "Start reading Atmospheric data\n",
      "Atmospheric data read finished\n",
      "Start Calculate SR\n",
      "Calculate SR finished\n",
      "Start Save SR file \n",
      "Save SR file finished\n",
      "delete file finish\n",
      "time: 19.1 secs, 0.3 mins,0.0 hours\n",
      "start processing 201801250200\n",
      "Himawari8/AHI data Processed Finish\n",
      "data reading finish\n",
      "Start reading Angle data\n"
     ]
    },
    {
     "name": "stderr",
     "output_type": "stream",
     "text": [
      "<ipython-input-6-cf9edf51547c>:25: FutureWarning: elementwise comparison failed; returning scalar instead, but in the future will perform elementwise comparison\n",
      "  if AHI_data == 'No data':\n"
     ]
    },
    {
     "name": "stdout",
     "output_type": "stream",
     "text": [
      "Angle data read finished\n",
      "Start reading Atmospheric data\n",
      "Atmospheric data read finished\n",
      "Start Calculate SR\n",
      "Calculate SR finished\n",
      "Start Save SR file \n",
      "Save SR file finished\n",
      "delete file finish\n",
      "time: 19.2 secs, 0.3 mins,0.0 hours\n",
      "start processing 201801250210\n",
      "Himawari8/AHI data Processed Finish\n",
      "data reading finish\n",
      "Start reading Angle data\n"
     ]
    },
    {
     "name": "stderr",
     "output_type": "stream",
     "text": [
      "<ipython-input-6-cf9edf51547c>:25: FutureWarning: elementwise comparison failed; returning scalar instead, but in the future will perform elementwise comparison\n",
      "  if AHI_data == 'No data':\n"
     ]
    },
    {
     "name": "stdout",
     "output_type": "stream",
     "text": [
      "Angle data read finished\n",
      "Start reading Atmospheric data\n",
      "Atmospheric data read finished\n",
      "Start Calculate SR\n",
      "Calculate SR finished\n",
      "Start Save SR file \n",
      "Save SR file finished\n",
      "delete file finish\n",
      "time: 19.1 secs, 0.3 mins,0.0 hours\n",
      "start processing 201801250220\n",
      "Himawari8/AHI data Processed Finish\n",
      "data reading finish\n",
      "Start reading Angle data\n"
     ]
    },
    {
     "name": "stderr",
     "output_type": "stream",
     "text": [
      "<ipython-input-6-cf9edf51547c>:25: FutureWarning: elementwise comparison failed; returning scalar instead, but in the future will perform elementwise comparison\n",
      "  if AHI_data == 'No data':\n"
     ]
    },
    {
     "name": "stdout",
     "output_type": "stream",
     "text": [
      "Angle data read finished\n",
      "Start reading Atmospheric data\n",
      "Atmospheric data read finished\n",
      "Start Calculate SR\n",
      "Calculate SR finished\n",
      "Start Save SR file \n",
      "Save SR file finished\n",
      "delete file finish\n",
      "time: 19.1 secs, 0.3 mins,0.0 hours\n",
      "start processing 201801250230\n",
      "Himawari8/AHI data Processed Finish\n",
      "data reading finish\n",
      "Start reading Angle data\n"
     ]
    },
    {
     "name": "stderr",
     "output_type": "stream",
     "text": [
      "<ipython-input-6-cf9edf51547c>:25: FutureWarning: elementwise comparison failed; returning scalar instead, but in the future will perform elementwise comparison\n",
      "  if AHI_data == 'No data':\n"
     ]
    },
    {
     "name": "stdout",
     "output_type": "stream",
     "text": [
      "Angle data read finished\n",
      "Start reading Atmospheric data\n",
      "Atmospheric data read finished\n",
      "Start Calculate SR\n",
      "Calculate SR finished\n",
      "Start Save SR file \n",
      "Save SR file finished\n",
      "delete file finish\n",
      "time: 19.3 secs, 0.3 mins,0.0 hours\n",
      "start processing 201801250240\n",
      "File Not Found\n",
      "start processing 201801250250\n",
      "Himawari8/AHI data Processed Finish\n",
      "data reading finish\n",
      "Start reading Angle data\n"
     ]
    },
    {
     "name": "stderr",
     "output_type": "stream",
     "text": [
      "<ipython-input-6-cf9edf51547c>:25: FutureWarning: elementwise comparison failed; returning scalar instead, but in the future will perform elementwise comparison\n",
      "  if AHI_data == 'No data':\n"
     ]
    },
    {
     "name": "stdout",
     "output_type": "stream",
     "text": [
      "Angle data read finished\n",
      "Start reading Atmospheric data\n",
      "Atmospheric data read finished\n",
      "Start Calculate SR\n",
      "Calculate SR finished\n",
      "Start Save SR file \n",
      "Save SR file finished\n",
      "delete file finish\n",
      "time: 19.1 secs, 0.3 mins,0.0 hours\n",
      "start processing 201801250300\n",
      "Himawari8/AHI data Processed Finish\n",
      "data reading finish\n",
      "Start reading Angle data\n"
     ]
    },
    {
     "name": "stderr",
     "output_type": "stream",
     "text": [
      "<ipython-input-6-cf9edf51547c>:25: FutureWarning: elementwise comparison failed; returning scalar instead, but in the future will perform elementwise comparison\n",
      "  if AHI_data == 'No data':\n"
     ]
    },
    {
     "name": "stdout",
     "output_type": "stream",
     "text": [
      "Angle data read finished\n",
      "Start reading Atmospheric data\n",
      "Atmospheric data read finished\n",
      "Start Calculate SR\n",
      "Calculate SR finished\n",
      "Start Save SR file \n",
      "Save SR file finished\n",
      "delete file finish\n",
      "time: 18.9 secs, 0.3 mins,0.0 hours\n",
      "start processing 201801250310\n",
      "Himawari8/AHI data Processed Finish\n",
      "data reading finish\n",
      "Start reading Angle data\n"
     ]
    },
    {
     "name": "stderr",
     "output_type": "stream",
     "text": [
      "<ipython-input-6-cf9edf51547c>:25: FutureWarning: elementwise comparison failed; returning scalar instead, but in the future will perform elementwise comparison\n",
      "  if AHI_data == 'No data':\n"
     ]
    },
    {
     "name": "stdout",
     "output_type": "stream",
     "text": [
      "Angle data read finished\n",
      "Start reading Atmospheric data\n",
      "Atmospheric data read finished\n",
      "Start Calculate SR\n",
      "Calculate SR finished\n",
      "Start Save SR file \n",
      "Save SR file finished\n",
      "delete file finish\n",
      "time: 19.3 secs, 0.3 mins,0.0 hours\n",
      "start processing 201801250320\n",
      "Himawari8/AHI data Processed Finish\n",
      "data reading finish\n",
      "Start reading Angle data\n"
     ]
    },
    {
     "name": "stderr",
     "output_type": "stream",
     "text": [
      "<ipython-input-6-cf9edf51547c>:25: FutureWarning: elementwise comparison failed; returning scalar instead, but in the future will perform elementwise comparison\n",
      "  if AHI_data == 'No data':\n"
     ]
    },
    {
     "name": "stdout",
     "output_type": "stream",
     "text": [
      "Angle data read finished\n",
      "Start reading Atmospheric data\n",
      "Atmospheric data read finished\n",
      "Start Calculate SR\n",
      "Calculate SR finished\n",
      "Start Save SR file \n",
      "Save SR file finished\n",
      "delete file finish\n",
      "time: 19.2 secs, 0.3 mins,0.0 hours\n",
      "start processing 201801250330\n",
      "Himawari8/AHI data Processed Finish\n",
      "data reading finish\n",
      "Start reading Angle data\n"
     ]
    },
    {
     "name": "stderr",
     "output_type": "stream",
     "text": [
      "<ipython-input-6-cf9edf51547c>:25: FutureWarning: elementwise comparison failed; returning scalar instead, but in the future will perform elementwise comparison\n",
      "  if AHI_data == 'No data':\n"
     ]
    },
    {
     "name": "stdout",
     "output_type": "stream",
     "text": [
      "Angle data read finished\n",
      "Start reading Atmospheric data\n",
      "Atmospheric data read finished\n",
      "Start Calculate SR\n",
      "Calculate SR finished\n",
      "Start Save SR file \n",
      "Save SR file finished\n",
      "delete file finish\n",
      "time: 18.9 secs, 0.3 mins,0.0 hours\n",
      "start processing 201801250340\n",
      "Himawari8/AHI data Processed Finish\n",
      "data reading finish\n",
      "Start reading Angle data\n"
     ]
    },
    {
     "name": "stderr",
     "output_type": "stream",
     "text": [
      "<ipython-input-6-cf9edf51547c>:25: FutureWarning: elementwise comparison failed; returning scalar instead, but in the future will perform elementwise comparison\n",
      "  if AHI_data == 'No data':\n"
     ]
    },
    {
     "name": "stdout",
     "output_type": "stream",
     "text": [
      "Angle data read finished\n",
      "Start reading Atmospheric data\n",
      "Atmospheric data read finished\n",
      "Start Calculate SR\n",
      "Calculate SR finished\n",
      "Start Save SR file \n",
      "Save SR file finished\n",
      "delete file finish\n",
      "time: 19.4 secs, 0.3 mins,0.0 hours\n",
      "start processing 201801250350\n",
      "Himawari8/AHI data Processed Finish\n",
      "data reading finish\n",
      "Start reading Angle data\n"
     ]
    },
    {
     "name": "stderr",
     "output_type": "stream",
     "text": [
      "<ipython-input-6-cf9edf51547c>:25: FutureWarning: elementwise comparison failed; returning scalar instead, but in the future will perform elementwise comparison\n",
      "  if AHI_data == 'No data':\n"
     ]
    },
    {
     "name": "stdout",
     "output_type": "stream",
     "text": [
      "Angle data read finished\n",
      "Start reading Atmospheric data\n",
      "Atmospheric data read finished\n",
      "Start Calculate SR\n",
      "Calculate SR finished\n",
      "Start Save SR file \n",
      "Save SR file finished\n",
      "delete file finish\n",
      "time: 19.2 secs, 0.3 mins,0.0 hours\n",
      "start processing 201801250400\n",
      "Himawari8/AHI data Processed Finish\n",
      "data reading finish\n",
      "Start reading Angle data\n"
     ]
    },
    {
     "name": "stderr",
     "output_type": "stream",
     "text": [
      "<ipython-input-6-cf9edf51547c>:25: FutureWarning: elementwise comparison failed; returning scalar instead, but in the future will perform elementwise comparison\n",
      "  if AHI_data == 'No data':\n"
     ]
    },
    {
     "name": "stdout",
     "output_type": "stream",
     "text": [
      "Angle data read finished\n",
      "Start reading Atmospheric data\n",
      "Atmospheric data read finished\n",
      "Start Calculate SR\n",
      "Calculate SR finished\n",
      "Start Save SR file \n",
      "Save SR file finished\n",
      "delete file finish\n",
      "time: 20.3 secs, 0.3 mins,0.0 hours\n",
      "start processing 201801250410\n",
      "Himawari8/AHI data Processed Finish\n",
      "data reading finish\n",
      "Start reading Angle data\n"
     ]
    },
    {
     "name": "stderr",
     "output_type": "stream",
     "text": [
      "<ipython-input-6-cf9edf51547c>:25: FutureWarning: elementwise comparison failed; returning scalar instead, but in the future will perform elementwise comparison\n",
      "  if AHI_data == 'No data':\n"
     ]
    },
    {
     "name": "stdout",
     "output_type": "stream",
     "text": [
      "Angle data read finished\n",
      "Start reading Atmospheric data\n",
      "Atmospheric data read finished\n",
      "Start Calculate SR\n",
      "Calculate SR finished\n",
      "Start Save SR file \n",
      "Save SR file finished\n",
      "delete file finish\n",
      "time: 21.0 secs, 0.4 mins,0.0 hours\n",
      "start processing 201801250420\n",
      "Himawari8/AHI data Processed Finish\n",
      "data reading finish\n",
      "Start reading Angle data\n"
     ]
    },
    {
     "name": "stderr",
     "output_type": "stream",
     "text": [
      "<ipython-input-6-cf9edf51547c>:25: FutureWarning: elementwise comparison failed; returning scalar instead, but in the future will perform elementwise comparison\n",
      "  if AHI_data == 'No data':\n"
     ]
    },
    {
     "name": "stdout",
     "output_type": "stream",
     "text": [
      "Angle data read finished\n",
      "Start reading Atmospheric data\n",
      "Atmospheric data read finished\n",
      "Start Calculate SR\n",
      "Calculate SR finished\n",
      "Start Save SR file \n",
      "Save SR file finished\n",
      "delete file finish\n",
      "time: 21.1 secs, 0.4 mins,0.0 hours\n",
      "start processing 201801250430\n",
      "Himawari8/AHI data Processed Finish\n",
      "data reading finish\n",
      "Start reading Angle data\n"
     ]
    },
    {
     "name": "stderr",
     "output_type": "stream",
     "text": [
      "<ipython-input-6-cf9edf51547c>:25: FutureWarning: elementwise comparison failed; returning scalar instead, but in the future will perform elementwise comparison\n",
      "  if AHI_data == 'No data':\n"
     ]
    },
    {
     "name": "stdout",
     "output_type": "stream",
     "text": [
      "Angle data read finished\n",
      "Start reading Atmospheric data\n",
      "Atmospheric data read finished\n",
      "Start Calculate SR\n",
      "Calculate SR finished\n",
      "Start Save SR file \n",
      "Save SR file finished\n",
      "delete file finish\n",
      "time: 21.6 secs, 0.4 mins,0.0 hours\n",
      "start processing 201801250440\n",
      "Himawari8/AHI data Processed Finish\n",
      "data reading finish\n",
      "Start reading Angle data\n"
     ]
    },
    {
     "name": "stderr",
     "output_type": "stream",
     "text": [
      "<ipython-input-6-cf9edf51547c>:25: FutureWarning: elementwise comparison failed; returning scalar instead, but in the future will perform elementwise comparison\n",
      "  if AHI_data == 'No data':\n"
     ]
    },
    {
     "name": "stdout",
     "output_type": "stream",
     "text": [
      "Angle data read finished\n",
      "Start reading Atmospheric data\n",
      "Atmospheric data read finished\n",
      "Start Calculate SR\n",
      "Calculate SR finished\n",
      "Start Save SR file \n",
      "Save SR file finished\n",
      "delete file finish\n",
      "time: 21.8 secs, 0.4 mins,0.0 hours\n",
      "start processing 201801250450\n",
      "Himawari8/AHI data Processed Finish\n",
      "data reading finish\n",
      "Start reading Angle data\n"
     ]
    },
    {
     "name": "stderr",
     "output_type": "stream",
     "text": [
      "<ipython-input-6-cf9edf51547c>:25: FutureWarning: elementwise comparison failed; returning scalar instead, but in the future will perform elementwise comparison\n",
      "  if AHI_data == 'No data':\n"
     ]
    },
    {
     "name": "stdout",
     "output_type": "stream",
     "text": [
      "Angle data read finished\n",
      "Start reading Atmospheric data\n",
      "Atmospheric data read finished\n",
      "Start Calculate SR\n",
      "Calculate SR finished\n",
      "Start Save SR file \n",
      "Save SR file finished\n",
      "delete file finish\n",
      "time: 20.7 secs, 0.3 mins,0.0 hours\n",
      "start processing 201801250500\n",
      "Himawari8/AHI data Processed Finish\n",
      "data reading finish\n",
      "Start reading Angle data\n"
     ]
    },
    {
     "name": "stderr",
     "output_type": "stream",
     "text": [
      "<ipython-input-6-cf9edf51547c>:25: FutureWarning: elementwise comparison failed; returning scalar instead, but in the future will perform elementwise comparison\n",
      "  if AHI_data == 'No data':\n"
     ]
    },
    {
     "name": "stdout",
     "output_type": "stream",
     "text": [
      "Angle data read finished\n",
      "Start reading Atmospheric data\n",
      "Atmospheric data read finished\n",
      "Start Calculate SR\n",
      "Calculate SR finished\n",
      "Start Save SR file \n",
      "Save SR file finished\n",
      "delete file finish\n",
      "time: 20.0 secs, 0.3 mins,0.0 hours\n",
      "start processing 201801250510\n",
      "Himawari8/AHI data Processed Finish\n",
      "data reading finish\n",
      "Start reading Angle data\n"
     ]
    },
    {
     "name": "stderr",
     "output_type": "stream",
     "text": [
      "<ipython-input-6-cf9edf51547c>:25: FutureWarning: elementwise comparison failed; returning scalar instead, but in the future will perform elementwise comparison\n",
      "  if AHI_data == 'No data':\n"
     ]
    },
    {
     "name": "stdout",
     "output_type": "stream",
     "text": [
      "Angle data read finished\n",
      "Start reading Atmospheric data\n",
      "Atmospheric data read finished\n",
      "Start Calculate SR\n",
      "Calculate SR finished\n",
      "Start Save SR file \n",
      "Save SR file finished\n",
      "delete file finish\n",
      "time: 19.3 secs, 0.3 mins,0.0 hours\n",
      "start processing 201801250520\n",
      "Himawari8/AHI data Processed Finish\n",
      "data reading finish\n",
      "Start reading Angle data\n"
     ]
    },
    {
     "name": "stderr",
     "output_type": "stream",
     "text": [
      "<ipython-input-6-cf9edf51547c>:25: FutureWarning: elementwise comparison failed; returning scalar instead, but in the future will perform elementwise comparison\n",
      "  if AHI_data == 'No data':\n"
     ]
    },
    {
     "name": "stdout",
     "output_type": "stream",
     "text": [
      "Angle data read finished\n",
      "Start reading Atmospheric data\n",
      "Atmospheric data read finished\n",
      "Start Calculate SR\n",
      "Calculate SR finished\n",
      "Start Save SR file \n",
      "Save SR file finished\n",
      "delete file finish\n",
      "time: 20.0 secs, 0.3 mins,0.0 hours\n",
      "start processing 201801250530\n",
      "Himawari8/AHI data Processed Finish\n",
      "data reading finish\n",
      "Start reading Angle data\n"
     ]
    },
    {
     "name": "stderr",
     "output_type": "stream",
     "text": [
      "<ipython-input-6-cf9edf51547c>:25: FutureWarning: elementwise comparison failed; returning scalar instead, but in the future will perform elementwise comparison\n",
      "  if AHI_data == 'No data':\n"
     ]
    },
    {
     "name": "stdout",
     "output_type": "stream",
     "text": [
      "Angle data read finished\n",
      "Start reading Atmospheric data\n",
      "Atmospheric data read finished\n",
      "Start Calculate SR\n",
      "Calculate SR finished\n",
      "Start Save SR file \n",
      "Save SR file finished\n",
      "delete file finish\n",
      "time: 21.5 secs, 0.4 mins,0.0 hours\n",
      "start processing 201801250540\n",
      "Himawari8/AHI data Processed Finish\n",
      "data reading finish\n",
      "Start reading Angle data\n"
     ]
    },
    {
     "name": "stderr",
     "output_type": "stream",
     "text": [
      "<ipython-input-6-cf9edf51547c>:25: FutureWarning: elementwise comparison failed; returning scalar instead, but in the future will perform elementwise comparison\n",
      "  if AHI_data == 'No data':\n"
     ]
    },
    {
     "name": "stdout",
     "output_type": "stream",
     "text": [
      "Angle data read finished\n",
      "Start reading Atmospheric data\n",
      "Atmospheric data read finished\n",
      "Start Calculate SR\n",
      "Calculate SR finished\n",
      "Start Save SR file \n",
      "Save SR file finished\n",
      "delete file finish\n",
      "time: 20.7 secs, 0.3 mins,0.0 hours\n",
      "start processing 201801250550\n",
      "Himawari8/AHI data Processed Finish\n",
      "data reading finish\n",
      "Start reading Angle data\n"
     ]
    },
    {
     "name": "stderr",
     "output_type": "stream",
     "text": [
      "<ipython-input-6-cf9edf51547c>:25: FutureWarning: elementwise comparison failed; returning scalar instead, but in the future will perform elementwise comparison\n",
      "  if AHI_data == 'No data':\n"
     ]
    },
    {
     "name": "stdout",
     "output_type": "stream",
     "text": [
      "Angle data read finished\n",
      "Start reading Atmospheric data\n",
      "Atmospheric data read finished\n",
      "Start Calculate SR\n",
      "Calculate SR finished\n",
      "Start Save SR file \n",
      "Save SR file finished\n",
      "delete file finish\n",
      "time: 20.7 secs, 0.3 mins,0.0 hours\n",
      "start processing 201801250600\n",
      "Himawari8/AHI data Processed Finish\n",
      "data reading finish\n",
      "Start reading Angle data\n"
     ]
    },
    {
     "name": "stderr",
     "output_type": "stream",
     "text": [
      "<ipython-input-6-cf9edf51547c>:25: FutureWarning: elementwise comparison failed; returning scalar instead, but in the future will perform elementwise comparison\n",
      "  if AHI_data == 'No data':\n"
     ]
    },
    {
     "name": "stdout",
     "output_type": "stream",
     "text": [
      "Angle data read finished\n",
      "Start reading Atmospheric data\n",
      "Atmospheric data read finished\n",
      "Start Calculate SR\n",
      "Calculate SR finished\n",
      "Start Save SR file \n",
      "Save SR file finished\n",
      "delete file finish\n",
      "time: 21.6 secs, 0.4 mins,0.0 hours\n",
      "start processing 201801250610\n",
      "Himawari8/AHI data Processed Finish\n",
      "data reading finish\n",
      "Start reading Angle data\n"
     ]
    },
    {
     "name": "stderr",
     "output_type": "stream",
     "text": [
      "<ipython-input-6-cf9edf51547c>:25: FutureWarning: elementwise comparison failed; returning scalar instead, but in the future will perform elementwise comparison\n",
      "  if AHI_data == 'No data':\n"
     ]
    },
    {
     "name": "stdout",
     "output_type": "stream",
     "text": [
      "Angle data read finished\n",
      "Start reading Atmospheric data\n",
      "Atmospheric data read finished\n",
      "Start Calculate SR\n",
      "Calculate SR finished\n",
      "Start Save SR file \n",
      "Save SR file finished\n",
      "delete file finish\n",
      "time: 21.5 secs, 0.4 mins,0.0 hours\n",
      "start processing 201801250620\n",
      "Himawari8/AHI data Processed Finish\n",
      "data reading finish\n",
      "Start reading Angle data\n"
     ]
    },
    {
     "name": "stderr",
     "output_type": "stream",
     "text": [
      "<ipython-input-6-cf9edf51547c>:25: FutureWarning: elementwise comparison failed; returning scalar instead, but in the future will perform elementwise comparison\n",
      "  if AHI_data == 'No data':\n"
     ]
    },
    {
     "name": "stdout",
     "output_type": "stream",
     "text": [
      "Angle data read finished\n",
      "Start reading Atmospheric data\n",
      "Atmospheric data read finished\n",
      "Start Calculate SR\n",
      "Calculate SR finished\n",
      "Start Save SR file \n",
      "Save SR file finished\n",
      "delete file finish\n",
      "time: 19.6 secs, 0.3 mins,0.0 hours\n",
      "start processing 201801250630\n",
      "Himawari8/AHI data Processed Finish\n",
      "data reading finish\n",
      "Start reading Angle data\n"
     ]
    },
    {
     "name": "stderr",
     "output_type": "stream",
     "text": [
      "<ipython-input-6-cf9edf51547c>:25: FutureWarning: elementwise comparison failed; returning scalar instead, but in the future will perform elementwise comparison\n",
      "  if AHI_data == 'No data':\n"
     ]
    },
    {
     "name": "stdout",
     "output_type": "stream",
     "text": [
      "Angle data read finished\n",
      "Start reading Atmospheric data\n",
      "Atmospheric data read finished\n",
      "Start Calculate SR\n",
      "Calculate SR finished\n",
      "Start Save SR file \n",
      "Save SR file finished\n",
      "delete file finish\n",
      "time: 21.8 secs, 0.4 mins,0.0 hours\n",
      "start processing 201801250640\n",
      "Himawari8/AHI data Processed Finish\n",
      "data reading finish\n",
      "Start reading Angle data\n"
     ]
    },
    {
     "name": "stderr",
     "output_type": "stream",
     "text": [
      "<ipython-input-6-cf9edf51547c>:25: FutureWarning: elementwise comparison failed; returning scalar instead, but in the future will perform elementwise comparison\n",
      "  if AHI_data == 'No data':\n"
     ]
    },
    {
     "name": "stdout",
     "output_type": "stream",
     "text": [
      "Angle data read finished\n",
      "Start reading Atmospheric data\n",
      "Atmospheric data read finished\n",
      "Start Calculate SR\n",
      "Calculate SR finished\n",
      "Start Save SR file \n",
      "Save SR file finished\n",
      "delete file finish\n",
      "time: 22.0 secs, 0.4 mins,0.0 hours\n",
      "start processing 201801250650\n",
      "Himawari8/AHI data Processed Finish\n",
      "data reading finish\n",
      "Start reading Angle data\n"
     ]
    },
    {
     "name": "stderr",
     "output_type": "stream",
     "text": [
      "<ipython-input-6-cf9edf51547c>:25: FutureWarning: elementwise comparison failed; returning scalar instead, but in the future will perform elementwise comparison\n",
      "  if AHI_data == 'No data':\n"
     ]
    },
    {
     "name": "stdout",
     "output_type": "stream",
     "text": [
      "Angle data read finished\n",
      "Start reading Atmospheric data\n",
      "Atmospheric data read finished\n",
      "Start Calculate SR\n",
      "Calculate SR finished\n",
      "Start Save SR file \n",
      "Save SR file finished\n",
      "delete file finish\n",
      "time: 21.6 secs, 0.4 mins,0.0 hours\n",
      "start processing 201801250700\n",
      "Himawari8/AHI data Processed Finish\n",
      "data reading finish\n",
      "Start reading Angle data\n"
     ]
    },
    {
     "name": "stderr",
     "output_type": "stream",
     "text": [
      "<ipython-input-6-cf9edf51547c>:25: FutureWarning: elementwise comparison failed; returning scalar instead, but in the future will perform elementwise comparison\n",
      "  if AHI_data == 'No data':\n"
     ]
    },
    {
     "name": "stdout",
     "output_type": "stream",
     "text": [
      "Angle data read finished\n",
      "Start reading Atmospheric data\n",
      "Atmospheric data read finished\n",
      "Start Calculate SR\n",
      "Calculate SR finished\n",
      "Start Save SR file \n",
      "Save SR file finished\n",
      "delete file finish\n",
      "time: 21.5 secs, 0.4 mins,0.0 hours\n",
      "start processing 201801250710\n",
      "Himawari8/AHI data Processed Finish\n",
      "data reading finish\n",
      "Start reading Angle data\n"
     ]
    },
    {
     "name": "stderr",
     "output_type": "stream",
     "text": [
      "<ipython-input-6-cf9edf51547c>:25: FutureWarning: elementwise comparison failed; returning scalar instead, but in the future will perform elementwise comparison\n",
      "  if AHI_data == 'No data':\n"
     ]
    },
    {
     "name": "stdout",
     "output_type": "stream",
     "text": [
      "Angle data read finished\n",
      "Start reading Atmospheric data\n",
      "Atmospheric data read finished\n",
      "Start Calculate SR\n",
      "Calculate SR finished\n",
      "Start Save SR file \n",
      "Save SR file finished\n",
      "delete file finish\n",
      "time: 21.8 secs, 0.4 mins,0.0 hours\n",
      "start processing 201801250720\n",
      "Himawari8/AHI data Processed Finish\n",
      "data reading finish\n",
      "Start reading Angle data\n"
     ]
    },
    {
     "name": "stderr",
     "output_type": "stream",
     "text": [
      "<ipython-input-6-cf9edf51547c>:25: FutureWarning: elementwise comparison failed; returning scalar instead, but in the future will perform elementwise comparison\n",
      "  if AHI_data == 'No data':\n"
     ]
    },
    {
     "name": "stdout",
     "output_type": "stream",
     "text": [
      "Angle data read finished\n",
      "Start reading Atmospheric data\n",
      "Atmospheric data read finished\n",
      "Start Calculate SR\n",
      "Calculate SR finished\n",
      "Start Save SR file \n",
      "Save SR file finished\n",
      "delete file finish\n",
      "time: 20.4 secs, 0.3 mins,0.0 hours\n",
      "start processing 201801250730\n",
      "Himawari8/AHI data Processed Finish\n",
      "data reading finish\n",
      "Start reading Angle data\n"
     ]
    },
    {
     "name": "stderr",
     "output_type": "stream",
     "text": [
      "<ipython-input-6-cf9edf51547c>:25: FutureWarning: elementwise comparison failed; returning scalar instead, but in the future will perform elementwise comparison\n",
      "  if AHI_data == 'No data':\n"
     ]
    },
    {
     "name": "stdout",
     "output_type": "stream",
     "text": [
      "Angle data read finished\n",
      "Start reading Atmospheric data\n",
      "Atmospheric data read finished\n",
      "Start Calculate SR\n",
      "Calculate SR finished\n",
      "Start Save SR file \n",
      "Save SR file finished\n",
      "delete file finish\n",
      "time: 21.2 secs, 0.4 mins,0.0 hours\n",
      "start processing 201801250740\n",
      "Himawari8/AHI data Processed Finish\n",
      "data reading finish\n",
      "Start reading Angle data\n"
     ]
    },
    {
     "name": "stderr",
     "output_type": "stream",
     "text": [
      "<ipython-input-6-cf9edf51547c>:25: FutureWarning: elementwise comparison failed; returning scalar instead, but in the future will perform elementwise comparison\n",
      "  if AHI_data == 'No data':\n"
     ]
    },
    {
     "name": "stdout",
     "output_type": "stream",
     "text": [
      "Angle data read finished\n",
      "Start reading Atmospheric data\n",
      "Atmospheric data read finished\n",
      "Start Calculate SR\n",
      "Calculate SR finished\n",
      "Start Save SR file \n",
      "Save SR file finished\n",
      "delete file finish\n",
      "time: 22.9 secs, 0.4 mins,0.0 hours\n",
      "start processing 201801250750\n",
      "Himawari8/AHI data Processed Finish\n",
      "data reading finish\n",
      "Start reading Angle data\n"
     ]
    },
    {
     "name": "stderr",
     "output_type": "stream",
     "text": [
      "<ipython-input-6-cf9edf51547c>:25: FutureWarning: elementwise comparison failed; returning scalar instead, but in the future will perform elementwise comparison\n",
      "  if AHI_data == 'No data':\n"
     ]
    },
    {
     "name": "stdout",
     "output_type": "stream",
     "text": [
      "Angle data read finished\n",
      "Start reading Atmospheric data\n",
      "Atmospheric data read finished\n",
      "Start Calculate SR\n",
      "Calculate SR finished\n",
      "Start Save SR file \n",
      "Save SR file finished\n",
      "delete file finish\n",
      "time: 22.2 secs, 0.4 mins,0.0 hours\n",
      "start processing 201801250800\n",
      "Himawari8/AHI data Processed Finish\n",
      "data reading finish\n",
      "Start reading Angle data\n"
     ]
    },
    {
     "name": "stderr",
     "output_type": "stream",
     "text": [
      "<ipython-input-6-cf9edf51547c>:25: FutureWarning: elementwise comparison failed; returning scalar instead, but in the future will perform elementwise comparison\n",
      "  if AHI_data == 'No data':\n"
     ]
    },
    {
     "name": "stdout",
     "output_type": "stream",
     "text": [
      "Angle data read finished\n",
      "Start reading Atmospheric data\n",
      "Atmospheric data read finished\n",
      "Start Calculate SR\n",
      "Calculate SR finished\n",
      "Start Save SR file \n",
      "Save SR file finished\n",
      "delete file finish\n",
      "time: 20.6 secs, 0.3 mins,0.0 hours\n",
      "start processing 201801250810\n",
      "Himawari8/AHI data Processed Finish\n",
      "data reading finish\n",
      "Start reading Angle data\n"
     ]
    },
    {
     "name": "stderr",
     "output_type": "stream",
     "text": [
      "<ipython-input-6-cf9edf51547c>:25: FutureWarning: elementwise comparison failed; returning scalar instead, but in the future will perform elementwise comparison\n",
      "  if AHI_data == 'No data':\n"
     ]
    },
    {
     "name": "stdout",
     "output_type": "stream",
     "text": [
      "Angle data read finished\n",
      "Start reading Atmospheric data\n",
      "Atmospheric data read finished\n",
      "Start Calculate SR\n",
      "Calculate SR finished\n",
      "Start Save SR file \n",
      "Save SR file finished\n",
      "delete file finish\n",
      "time: 20.6 secs, 0.3 mins,0.0 hours\n",
      "start processing 201801250820\n",
      "Himawari8/AHI data Processed Finish\n",
      "data reading finish\n",
      "Start reading Angle data\n"
     ]
    },
    {
     "name": "stderr",
     "output_type": "stream",
     "text": [
      "<ipython-input-6-cf9edf51547c>:25: FutureWarning: elementwise comparison failed; returning scalar instead, but in the future will perform elementwise comparison\n",
      "  if AHI_data == 'No data':\n"
     ]
    },
    {
     "name": "stdout",
     "output_type": "stream",
     "text": [
      "Angle data read finished\n",
      "Start reading Atmospheric data\n",
      "Atmospheric data read finished\n",
      "Start Calculate SR\n",
      "Calculate SR finished\n",
      "Start Save SR file \n",
      "Save SR file finished\n",
      "delete file finish\n",
      "time: 23.1 secs, 0.4 mins,0.0 hours\n",
      "start processing 201801250830\n",
      "Himawari8/AHI data Processed Finish\n",
      "data reading finish\n",
      "Start reading Angle data\n"
     ]
    },
    {
     "name": "stderr",
     "output_type": "stream",
     "text": [
      "<ipython-input-6-cf9edf51547c>:25: FutureWarning: elementwise comparison failed; returning scalar instead, but in the future will perform elementwise comparison\n",
      "  if AHI_data == 'No data':\n"
     ]
    },
    {
     "name": "stdout",
     "output_type": "stream",
     "text": [
      "Angle data read finished\n",
      "Start reading Atmospheric data\n",
      "Atmospheric data read finished\n",
      "Start Calculate SR\n",
      "Calculate SR finished\n",
      "Start Save SR file \n",
      "Save SR file finished\n",
      "delete file finish\n",
      "time: 22.2 secs, 0.4 mins,0.0 hours\n",
      "start processing 201801250840\n",
      "Himawari8/AHI data Processed Finish\n",
      "data reading finish\n",
      "Start reading Angle data\n"
     ]
    },
    {
     "name": "stderr",
     "output_type": "stream",
     "text": [
      "<ipython-input-6-cf9edf51547c>:25: FutureWarning: elementwise comparison failed; returning scalar instead, but in the future will perform elementwise comparison\n",
      "  if AHI_data == 'No data':\n"
     ]
    },
    {
     "name": "stdout",
     "output_type": "stream",
     "text": [
      "Angle data read finished\n",
      "Start reading Atmospheric data\n",
      "Atmospheric data read finished\n",
      "Start Calculate SR\n",
      "Calculate SR finished\n",
      "Start Save SR file \n",
      "Save SR file finished\n",
      "delete file finish\n",
      "time: 21.7 secs, 0.4 mins,0.0 hours\n",
      "start processing 201801250850\n",
      "Himawari8/AHI data Processed Finish\n",
      "data reading finish\n",
      "Start reading Angle data\n"
     ]
    },
    {
     "name": "stderr",
     "output_type": "stream",
     "text": [
      "<ipython-input-6-cf9edf51547c>:25: FutureWarning: elementwise comparison failed; returning scalar instead, but in the future will perform elementwise comparison\n",
      "  if AHI_data == 'No data':\n"
     ]
    },
    {
     "name": "stdout",
     "output_type": "stream",
     "text": [
      "Angle data read finished\n",
      "Start reading Atmospheric data\n",
      "Atmospheric data read finished\n",
      "Start Calculate SR\n",
      "Calculate SR finished\n",
      "Start Save SR file \n",
      "Save SR file finished\n",
      "delete file finish\n",
      "time: 22.4 secs, 0.4 mins,0.0 hours\n",
      "start processing 201801250900\n",
      "Himawari8/AHI data Processed Finish\n",
      "data reading finish\n",
      "Start reading Angle data\n"
     ]
    },
    {
     "name": "stderr",
     "output_type": "stream",
     "text": [
      "<ipython-input-6-cf9edf51547c>:25: FutureWarning: elementwise comparison failed; returning scalar instead, but in the future will perform elementwise comparison\n",
      "  if AHI_data == 'No data':\n"
     ]
    },
    {
     "name": "stdout",
     "output_type": "stream",
     "text": [
      "Angle data read finished\n",
      "Start reading Atmospheric data\n",
      "Atmospheric data read finished\n",
      "Start Calculate SR\n",
      "Calculate SR finished\n",
      "Start Save SR file \n",
      "Save SR file finished\n",
      "delete file finish\n",
      "time: 21.7 secs, 0.4 mins,0.0 hours\n"
     ]
    }
   ],
   "source": [
    "\n",
    "for d in range(21,26):\n",
    "    date_start = '2018-01-{} 00:00'.format(d)\n",
    "    date_end = '2018-01-{} 09:00'.format(d)\n",
    "    date_t = dt.timedelta(minutes=10)\n",
    "    date_s = dt.datetime.strptime(date_start, \"%Y-%m-%d %H:%M\")\n",
    "    date_e = dt.datetime.strptime(date_end, \"%Y-%m-%d %H:%M\")\n",
    "    date_time_now = date_s\n",
    "    while date_time_now <= date_e:\n",
    "        start_time = T.time()\n",
    "        date_dl_str = date_time_now.strftime(\"%Y-%m-%d %H:%M\" )\n",
    "\n",
    "        YYYY,MM,DD,HH,MIN,date= Time_split(date_time_now)    \n",
    "        print(\"start processing {}\".format(date))\n",
    "\n",
    "        # make dir\n",
    "        folder_original = target + date +'_original/'\n",
    "        folder_AC = target+date+'_AC/'\n",
    "        mkdir(folder_original)\n",
    "        mkdir(folder_AC)\n",
    "\n",
    "\n",
    "        S_Read_AHI_time = T.time()\n",
    "        # Download AHI\n",
    "        AHI_data = H8_Process('liwei','liwei00','sir','01',date)\n",
    "        if AHI_data == 'No data':\n",
    "            date_time_now = date_time_now + date_t\n",
    "            remove_original_file(folder_original)\n",
    "            continue\n",
    "        E_Read_AHI_time = T.time()\n",
    "\n",
    "        # Solar angle\n",
    "        print('Start reading Angle data')\n",
    "        S_ANGLE_time = T.time()\n",
    "        AHI_SZA,AHI_SAA = AHI_angle(date).read_angle_data()\n",
    "        RAA = abs(AHI_SAA - AHI_VAA)\n",
    "        RAA[RAA>180]=360-RAA[RAA>180]\n",
    "        print('Angle data read finished')\n",
    "        E_ANGLE_time = T.time()\n",
    "\n",
    "        # Atmosphereic data\n",
    "        print('Start reading Atmospheric data')\n",
    "        S_ATMOS_time = T.time()\n",
    "\n",
    "        OZ,WV,AOT550 = CAMS_data(YYYY,MM,DD,HH,MIN,AHI_lat,AHI_lon).read_CAMS()\n",
    "        Aerosol_type = CAMS_data(YYYY,MM,DD,HH,MIN,AHI_lat,AHI_lon).read_CAMS_AERO()\n",
    "        print('Atmospheric data read finished')\n",
    "        E_ATMOS_time = T.time()\n",
    "\n",
    "\n",
    "        # SR calculate\n",
    "        print('Start Calculate SR')\n",
    "        S_SR_time = T.time()\n",
    "        RESULT = Parallel(n_jobs=20)(delayed(calculate_6s_band5)(i) for i in range(6000))\n",
    "        SR = np.full((6000,6000),np.nan)\n",
    "        for i in range(6000):\n",
    "            SR[i][Water_idx[i]] = RESULT[i]\n",
    "        E_SR_time = T.time()\n",
    "        print('Calculate SR finished')\n",
    "\n",
    "        # Save file and remove download input data\n",
    "        print('Start Save SR file ')\n",
    "        S_SAVE_time = T.time()\n",
    "        SR=np.array(SR).reshape(6000,6000)\n",
    "        SR = np.around(SR,4) * 10000\n",
    "        SR = np.where(SR>=32767,32767,SR)\n",
    "        SR = np.where(SR<=-32768,-32768,SR)\n",
    "        SR_file=open(folder_AC+'/'+date+'_b05.dat','wb')\n",
    "        SR.astype('int16').tofile(SR_file)\n",
    "        SR_file.close()\n",
    "        print('Save SR file finished')\n",
    "        remove_original_file(folder_original)\n",
    "        print(\"delete file finish\")\n",
    "        E_SAVE_time = T.time()\n",
    "        end_time=T.time()\n",
    "        TIME=end_time-start_time\n",
    "        print('time: {:.1f} secs, {:.1f} mins,{:.1f} hours'.format(TIME,TIME/60,TIME/3600))\n",
    "\n",
    "\n",
    "        date_time_now = date_time_now + date_t"
   ]
  },
  {
   "cell_type": "code",
   "execution_count": 34,
   "metadata": {
    "tags": []
   },
   "outputs": [
    {
     "name": "stdout",
     "output_type": "stream",
     "text": [
      "start processing 201801190000\n",
      "Himawari8/AHI data Processed Finish\n",
      "data reading finish\n",
      "Start reading Angle data\n"
     ]
    },
    {
     "name": "stderr",
     "output_type": "stream",
     "text": [
      "<ipython-input-34-941ef42f7000>:27: FutureWarning: elementwise comparison failed; returning scalar instead, but in the future will perform elementwise comparison\n",
      "  if AHI_data == 'No data':\n"
     ]
    },
    {
     "name": "stdout",
     "output_type": "stream",
     "text": [
      "Angle data read finished\n",
      "Start reading Atmospheric data\n",
      "Atmospheric data read finished\n",
      "Start Calculate SR\n",
      "Calculate SR finished\n",
      "Start Save SR file \n",
      "Save SR file finished\n",
      "delete file finish\n",
      "time: 12.1 secs, 0.2 mins,0.0 hours\n",
      "start processing 201801190010\n",
      "Himawari8/AHI data Processed Finish\n",
      "data reading finish\n",
      "Start reading Angle data\n"
     ]
    },
    {
     "name": "stderr",
     "output_type": "stream",
     "text": [
      "<ipython-input-34-941ef42f7000>:27: FutureWarning: elementwise comparison failed; returning scalar instead, but in the future will perform elementwise comparison\n",
      "  if AHI_data == 'No data':\n"
     ]
    },
    {
     "name": "stdout",
     "output_type": "stream",
     "text": [
      "Angle data read finished\n",
      "Start reading Atmospheric data\n",
      "Atmospheric data read finished\n",
      "Start Calculate SR\n",
      "Calculate SR finished\n",
      "Start Save SR file \n",
      "Save SR file finished\n",
      "delete file finish\n",
      "time: 11.2 secs, 0.2 mins,0.0 hours\n",
      "start processing 201801190020\n",
      "Himawari8/AHI data Processed Finish\n",
      "data reading finish\n",
      "Start reading Angle data\n"
     ]
    },
    {
     "name": "stderr",
     "output_type": "stream",
     "text": [
      "<ipython-input-34-941ef42f7000>:27: FutureWarning: elementwise comparison failed; returning scalar instead, but in the future will perform elementwise comparison\n",
      "  if AHI_data == 'No data':\n"
     ]
    },
    {
     "name": "stdout",
     "output_type": "stream",
     "text": [
      "Angle data read finished\n",
      "Start reading Atmospheric data\n",
      "Atmospheric data read finished\n",
      "Start Calculate SR\n",
      "Calculate SR finished\n",
      "Start Save SR file \n",
      "Save SR file finished\n",
      "delete file finish\n",
      "time: 11.0 secs, 0.2 mins,0.0 hours\n",
      "start processing 201801190030\n",
      "Himawari8/AHI data Processed Finish\n",
      "data reading finish\n",
      "Start reading Angle data\n"
     ]
    },
    {
     "name": "stderr",
     "output_type": "stream",
     "text": [
      "<ipython-input-34-941ef42f7000>:27: FutureWarning: elementwise comparison failed; returning scalar instead, but in the future will perform elementwise comparison\n",
      "  if AHI_data == 'No data':\n"
     ]
    },
    {
     "name": "stdout",
     "output_type": "stream",
     "text": [
      "Angle data read finished\n",
      "Start reading Atmospheric data\n",
      "Atmospheric data read finished\n",
      "Start Calculate SR\n",
      "Calculate SR finished\n",
      "Start Save SR file \n",
      "Save SR file finished\n",
      "delete file finish\n",
      "time: 11.5 secs, 0.2 mins,0.0 hours\n",
      "start processing 201801190040\n",
      "Himawari8/AHI data Processed Finish\n",
      "data reading finish\n",
      "Start reading Angle data\n"
     ]
    },
    {
     "name": "stderr",
     "output_type": "stream",
     "text": [
      "<ipython-input-34-941ef42f7000>:27: FutureWarning: elementwise comparison failed; returning scalar instead, but in the future will perform elementwise comparison\n",
      "  if AHI_data == 'No data':\n"
     ]
    },
    {
     "name": "stdout",
     "output_type": "stream",
     "text": [
      "Angle data read finished\n",
      "Start reading Atmospheric data\n",
      "Atmospheric data read finished\n",
      "Start Calculate SR\n",
      "Calculate SR finished\n",
      "Start Save SR file \n",
      "Save SR file finished\n",
      "delete file finish\n",
      "time: 10.6 secs, 0.2 mins,0.0 hours\n",
      "start processing 201801190050\n",
      "Himawari8/AHI data Processed Finish\n",
      "data reading finish\n",
      "Start reading Angle data\n"
     ]
    },
    {
     "name": "stderr",
     "output_type": "stream",
     "text": [
      "<ipython-input-34-941ef42f7000>:27: FutureWarning: elementwise comparison failed; returning scalar instead, but in the future will perform elementwise comparison\n",
      "  if AHI_data == 'No data':\n"
     ]
    },
    {
     "name": "stdout",
     "output_type": "stream",
     "text": [
      "Angle data read finished\n",
      "Start reading Atmospheric data\n",
      "Atmospheric data read finished\n",
      "Start Calculate SR\n",
      "Calculate SR finished\n",
      "Start Save SR file \n",
      "Save SR file finished\n",
      "delete file finish\n",
      "time: 10.9 secs, 0.2 mins,0.0 hours\n",
      "start processing 201801190100\n",
      "Himawari8/AHI data Processed Finish\n",
      "data reading finish\n",
      "Start reading Angle data\n"
     ]
    },
    {
     "name": "stderr",
     "output_type": "stream",
     "text": [
      "<ipython-input-34-941ef42f7000>:27: FutureWarning: elementwise comparison failed; returning scalar instead, but in the future will perform elementwise comparison\n",
      "  if AHI_data == 'No data':\n"
     ]
    },
    {
     "name": "stdout",
     "output_type": "stream",
     "text": [
      "Angle data read finished\n",
      "Start reading Atmospheric data\n",
      "Atmospheric data read finished\n",
      "Start Calculate SR\n",
      "Calculate SR finished\n",
      "Start Save SR file \n",
      "Save SR file finished\n",
      "delete file finish\n",
      "time: 11.3 secs, 0.2 mins,0.0 hours\n",
      "start processing 201801190110\n",
      "Himawari8/AHI data Processed Finish\n",
      "data reading finish\n",
      "Start reading Angle data\n"
     ]
    },
    {
     "name": "stderr",
     "output_type": "stream",
     "text": [
      "<ipython-input-34-941ef42f7000>:27: FutureWarning: elementwise comparison failed; returning scalar instead, but in the future will perform elementwise comparison\n",
      "  if AHI_data == 'No data':\n"
     ]
    },
    {
     "name": "stdout",
     "output_type": "stream",
     "text": [
      "Angle data read finished\n",
      "Start reading Atmospheric data\n",
      "Atmospheric data read finished\n",
      "Start Calculate SR\n",
      "Calculate SR finished\n",
      "Start Save SR file \n",
      "Save SR file finished\n",
      "delete file finish\n",
      "time: 12.0 secs, 0.2 mins,0.0 hours\n",
      "start processing 201801190120\n",
      "Himawari8/AHI data Processed Finish\n",
      "data reading finish\n",
      "Start reading Angle data\n"
     ]
    },
    {
     "name": "stderr",
     "output_type": "stream",
     "text": [
      "<ipython-input-34-941ef42f7000>:27: FutureWarning: elementwise comparison failed; returning scalar instead, but in the future will perform elementwise comparison\n",
      "  if AHI_data == 'No data':\n"
     ]
    },
    {
     "name": "stdout",
     "output_type": "stream",
     "text": [
      "Angle data read finished\n",
      "Start reading Atmospheric data\n",
      "Atmospheric data read finished\n",
      "Start Calculate SR\n",
      "Calculate SR finished\n",
      "Start Save SR file \n",
      "Save SR file finished\n",
      "delete file finish\n",
      "time: 10.6 secs, 0.2 mins,0.0 hours\n",
      "start processing 201801190130\n",
      "Himawari8/AHI data Processed Finish\n",
      "data reading finish\n",
      "Start reading Angle data\n"
     ]
    },
    {
     "name": "stderr",
     "output_type": "stream",
     "text": [
      "<ipython-input-34-941ef42f7000>:27: FutureWarning: elementwise comparison failed; returning scalar instead, but in the future will perform elementwise comparison\n",
      "  if AHI_data == 'No data':\n"
     ]
    },
    {
     "name": "stdout",
     "output_type": "stream",
     "text": [
      "Angle data read finished\n",
      "Start reading Atmospheric data\n",
      "Atmospheric data read finished\n",
      "Start Calculate SR\n",
      "Calculate SR finished\n",
      "Start Save SR file \n",
      "Save SR file finished\n",
      "delete file finish\n",
      "time: 11.7 secs, 0.2 mins,0.0 hours\n",
      "start processing 201801190140\n",
      "Himawari8/AHI data Processed Finish\n",
      "data reading finish\n",
      "Start reading Angle data\n"
     ]
    },
    {
     "name": "stderr",
     "output_type": "stream",
     "text": [
      "<ipython-input-34-941ef42f7000>:27: FutureWarning: elementwise comparison failed; returning scalar instead, but in the future will perform elementwise comparison\n",
      "  if AHI_data == 'No data':\n"
     ]
    },
    {
     "name": "stdout",
     "output_type": "stream",
     "text": [
      "Angle data read finished\n",
      "Start reading Atmospheric data\n",
      "Atmospheric data read finished\n",
      "Start Calculate SR\n",
      "Calculate SR finished\n",
      "Start Save SR file \n",
      "Save SR file finished\n",
      "delete file finish\n",
      "time: 11.9 secs, 0.2 mins,0.0 hours\n",
      "start processing 201801190150\n",
      "Himawari8/AHI data Processed Finish\n",
      "data reading finish\n",
      "Start reading Angle data\n"
     ]
    },
    {
     "name": "stderr",
     "output_type": "stream",
     "text": [
      "<ipython-input-34-941ef42f7000>:27: FutureWarning: elementwise comparison failed; returning scalar instead, but in the future will perform elementwise comparison\n",
      "  if AHI_data == 'No data':\n"
     ]
    },
    {
     "name": "stdout",
     "output_type": "stream",
     "text": [
      "Angle data read finished\n",
      "Start reading Atmospheric data\n",
      "Atmospheric data read finished\n",
      "Start Calculate SR\n",
      "Calculate SR finished\n",
      "Start Save SR file \n",
      "Save SR file finished\n",
      "delete file finish\n",
      "time: 11.9 secs, 0.2 mins,0.0 hours\n",
      "start processing 201801190200\n",
      "Himawari8/AHI data Processed Finish\n",
      "data reading finish\n",
      "Start reading Angle data\n"
     ]
    },
    {
     "name": "stderr",
     "output_type": "stream",
     "text": [
      "<ipython-input-34-941ef42f7000>:27: FutureWarning: elementwise comparison failed; returning scalar instead, but in the future will perform elementwise comparison\n",
      "  if AHI_data == 'No data':\n"
     ]
    },
    {
     "name": "stdout",
     "output_type": "stream",
     "text": [
      "Angle data read finished\n",
      "Start reading Atmospheric data\n",
      "Atmospheric data read finished\n",
      "Start Calculate SR\n",
      "Calculate SR finished\n",
      "Start Save SR file \n",
      "Save SR file finished\n",
      "delete file finish\n",
      "time: 11.9 secs, 0.2 mins,0.0 hours\n",
      "start processing 201801190210\n",
      "Himawari8/AHI data Processed Finish\n",
      "data reading finish\n",
      "Start reading Angle data\n"
     ]
    },
    {
     "name": "stderr",
     "output_type": "stream",
     "text": [
      "<ipython-input-34-941ef42f7000>:27: FutureWarning: elementwise comparison failed; returning scalar instead, but in the future will perform elementwise comparison\n",
      "  if AHI_data == 'No data':\n"
     ]
    },
    {
     "name": "stdout",
     "output_type": "stream",
     "text": [
      "Angle data read finished\n",
      "Start reading Atmospheric data\n",
      "Atmospheric data read finished\n",
      "Start Calculate SR\n",
      "Calculate SR finished\n",
      "Start Save SR file \n",
      "Save SR file finished\n",
      "delete file finish\n",
      "time: 12.0 secs, 0.2 mins,0.0 hours\n",
      "start processing 201801190220\n",
      "Himawari8/AHI data Processed Finish\n",
      "data reading finish\n",
      "Start reading Angle data\n"
     ]
    },
    {
     "name": "stderr",
     "output_type": "stream",
     "text": [
      "<ipython-input-34-941ef42f7000>:27: FutureWarning: elementwise comparison failed; returning scalar instead, but in the future will perform elementwise comparison\n",
      "  if AHI_data == 'No data':\n"
     ]
    },
    {
     "name": "stdout",
     "output_type": "stream",
     "text": [
      "Angle data read finished\n",
      "Start reading Atmospheric data\n",
      "Atmospheric data read finished\n",
      "Start Calculate SR\n",
      "Calculate SR finished\n",
      "Start Save SR file \n",
      "Save SR file finished\n",
      "delete file finish\n",
      "time: 11.7 secs, 0.2 mins,0.0 hours\n",
      "start processing 201801190230\n",
      "Himawari8/AHI data Processed Finish\n",
      "data reading finish\n",
      "Start reading Angle data\n"
     ]
    },
    {
     "name": "stderr",
     "output_type": "stream",
     "text": [
      "<ipython-input-34-941ef42f7000>:27: FutureWarning: elementwise comparison failed; returning scalar instead, but in the future will perform elementwise comparison\n",
      "  if AHI_data == 'No data':\n"
     ]
    },
    {
     "name": "stdout",
     "output_type": "stream",
     "text": [
      "Angle data read finished\n",
      "Start reading Atmospheric data\n",
      "Atmospheric data read finished\n",
      "Start Calculate SR\n",
      "Calculate SR finished\n",
      "Start Save SR file \n",
      "Save SR file finished\n",
      "delete file finish\n",
      "time: 11.7 secs, 0.2 mins,0.0 hours\n",
      "start processing 201801190240\n",
      "File Not Found\n",
      "start processing 201801190250\n",
      "Himawari8/AHI data Processed Finish\n",
      "data reading finish\n",
      "Start reading Angle data\n"
     ]
    },
    {
     "name": "stderr",
     "output_type": "stream",
     "text": [
      "<ipython-input-34-941ef42f7000>:27: FutureWarning: elementwise comparison failed; returning scalar instead, but in the future will perform elementwise comparison\n",
      "  if AHI_data == 'No data':\n"
     ]
    },
    {
     "name": "stdout",
     "output_type": "stream",
     "text": [
      "Angle data read finished\n",
      "Start reading Atmospheric data\n",
      "Atmospheric data read finished\n",
      "Start Calculate SR\n",
      "Calculate SR finished\n",
      "Start Save SR file \n",
      "Save SR file finished\n",
      "delete file finish\n",
      "time: 11.7 secs, 0.2 mins,0.0 hours\n",
      "start processing 201801190300\n",
      "Himawari8/AHI data Processed Finish\n",
      "data reading finish\n",
      "Start reading Angle data\n"
     ]
    },
    {
     "name": "stderr",
     "output_type": "stream",
     "text": [
      "<ipython-input-34-941ef42f7000>:27: FutureWarning: elementwise comparison failed; returning scalar instead, but in the future will perform elementwise comparison\n",
      "  if AHI_data == 'No data':\n"
     ]
    },
    {
     "name": "stdout",
     "output_type": "stream",
     "text": [
      "Angle data read finished\n",
      "Start reading Atmospheric data\n",
      "Atmospheric data read finished\n",
      "Start Calculate SR\n",
      "Calculate SR finished\n",
      "Start Save SR file \n",
      "Save SR file finished\n",
      "delete file finish\n",
      "time: 12.0 secs, 0.2 mins,0.0 hours\n",
      "start processing 201801190310\n",
      "Himawari8/AHI data Processed Finish\n",
      "data reading finish\n",
      "Start reading Angle data\n"
     ]
    },
    {
     "name": "stderr",
     "output_type": "stream",
     "text": [
      "<ipython-input-34-941ef42f7000>:27: FutureWarning: elementwise comparison failed; returning scalar instead, but in the future will perform elementwise comparison\n",
      "  if AHI_data == 'No data':\n"
     ]
    },
    {
     "name": "stdout",
     "output_type": "stream",
     "text": [
      "Angle data read finished\n",
      "Start reading Atmospheric data\n",
      "Atmospheric data read finished\n",
      "Start Calculate SR\n",
      "Calculate SR finished\n",
      "Start Save SR file \n",
      "Save SR file finished\n",
      "delete file finish\n",
      "time: 12.3 secs, 0.2 mins,0.0 hours\n",
      "start processing 201801190320\n",
      "Himawari8/AHI data Processed Finish\n",
      "data reading finish\n",
      "Start reading Angle data\n"
     ]
    },
    {
     "name": "stderr",
     "output_type": "stream",
     "text": [
      "<ipython-input-34-941ef42f7000>:27: FutureWarning: elementwise comparison failed; returning scalar instead, but in the future will perform elementwise comparison\n",
      "  if AHI_data == 'No data':\n"
     ]
    },
    {
     "name": "stdout",
     "output_type": "stream",
     "text": [
      "Angle data read finished\n",
      "Start reading Atmospheric data\n",
      "Atmospheric data read finished\n",
      "Start Calculate SR\n",
      "Calculate SR finished\n",
      "Start Save SR file \n",
      "Save SR file finished\n",
      "delete file finish\n",
      "time: 11.4 secs, 0.2 mins,0.0 hours\n",
      "start processing 201801190330\n",
      "Himawari8/AHI data Processed Finish\n",
      "data reading finish\n",
      "Start reading Angle data\n"
     ]
    },
    {
     "name": "stderr",
     "output_type": "stream",
     "text": [
      "<ipython-input-34-941ef42f7000>:27: FutureWarning: elementwise comparison failed; returning scalar instead, but in the future will perform elementwise comparison\n",
      "  if AHI_data == 'No data':\n"
     ]
    },
    {
     "name": "stdout",
     "output_type": "stream",
     "text": [
      "Angle data read finished\n",
      "Start reading Atmospheric data\n",
      "Atmospheric data read finished\n",
      "Start Calculate SR\n",
      "Calculate SR finished\n",
      "Start Save SR file \n",
      "Save SR file finished\n",
      "delete file finish\n",
      "time: 10.8 secs, 0.2 mins,0.0 hours\n",
      "start processing 201801190340\n",
      "Himawari8/AHI data Processed Finish\n",
      "data reading finish\n",
      "Start reading Angle data\n"
     ]
    },
    {
     "name": "stderr",
     "output_type": "stream",
     "text": [
      "<ipython-input-34-941ef42f7000>:27: FutureWarning: elementwise comparison failed; returning scalar instead, but in the future will perform elementwise comparison\n",
      "  if AHI_data == 'No data':\n"
     ]
    },
    {
     "name": "stdout",
     "output_type": "stream",
     "text": [
      "Angle data read finished\n",
      "Start reading Atmospheric data\n",
      "Atmospheric data read finished\n",
      "Start Calculate SR\n",
      "Calculate SR finished\n",
      "Start Save SR file \n",
      "Save SR file finished\n",
      "delete file finish\n",
      "time: 12.1 secs, 0.2 mins,0.0 hours\n",
      "start processing 201801190350\n",
      "Himawari8/AHI data Processed Finish\n",
      "data reading finish\n",
      "Start reading Angle data\n"
     ]
    },
    {
     "name": "stderr",
     "output_type": "stream",
     "text": [
      "<ipython-input-34-941ef42f7000>:27: FutureWarning: elementwise comparison failed; returning scalar instead, but in the future will perform elementwise comparison\n",
      "  if AHI_data == 'No data':\n"
     ]
    },
    {
     "name": "stdout",
     "output_type": "stream",
     "text": [
      "Angle data read finished\n",
      "Start reading Atmospheric data\n",
      "Atmospheric data read finished\n",
      "Start Calculate SR\n",
      "Calculate SR finished\n",
      "Start Save SR file \n",
      "Save SR file finished\n",
      "delete file finish\n",
      "time: 11.7 secs, 0.2 mins,0.0 hours\n",
      "start processing 201801190400\n",
      "Himawari8/AHI data Processed Finish\n",
      "data reading finish\n",
      "Start reading Angle data\n"
     ]
    },
    {
     "name": "stderr",
     "output_type": "stream",
     "text": [
      "<ipython-input-34-941ef42f7000>:27: FutureWarning: elementwise comparison failed; returning scalar instead, but in the future will perform elementwise comparison\n",
      "  if AHI_data == 'No data':\n"
     ]
    },
    {
     "name": "stdout",
     "output_type": "stream",
     "text": [
      "Angle data read finished\n",
      "Start reading Atmospheric data\n",
      "Atmospheric data read finished\n",
      "Start Calculate SR\n",
      "Calculate SR finished\n",
      "Start Save SR file \n",
      "Save SR file finished\n",
      "delete file finish\n",
      "time: 11.0 secs, 0.2 mins,0.0 hours\n",
      "start processing 201801190410\n",
      "Himawari8/AHI data Processed Finish\n",
      "data reading finish\n",
      "Start reading Angle data\n"
     ]
    },
    {
     "name": "stderr",
     "output_type": "stream",
     "text": [
      "<ipython-input-34-941ef42f7000>:27: FutureWarning: elementwise comparison failed; returning scalar instead, but in the future will perform elementwise comparison\n",
      "  if AHI_data == 'No data':\n"
     ]
    },
    {
     "name": "stdout",
     "output_type": "stream",
     "text": [
      "Angle data read finished\n",
      "Start reading Atmospheric data\n",
      "Atmospheric data read finished\n",
      "Start Calculate SR\n",
      "Calculate SR finished\n",
      "Start Save SR file \n",
      "Save SR file finished\n",
      "delete file finish\n",
      "time: 12.0 secs, 0.2 mins,0.0 hours\n",
      "start processing 201801190420\n",
      "Himawari8/AHI data Processed Finish\n",
      "data reading finish\n",
      "Start reading Angle data\n"
     ]
    },
    {
     "name": "stderr",
     "output_type": "stream",
     "text": [
      "<ipython-input-34-941ef42f7000>:27: FutureWarning: elementwise comparison failed; returning scalar instead, but in the future will perform elementwise comparison\n",
      "  if AHI_data == 'No data':\n"
     ]
    },
    {
     "name": "stdout",
     "output_type": "stream",
     "text": [
      "Angle data read finished\n",
      "Start reading Atmospheric data\n",
      "Atmospheric data read finished\n",
      "Start Calculate SR\n",
      "Calculate SR finished\n",
      "Start Save SR file \n",
      "Save SR file finished\n",
      "delete file finish\n",
      "time: 11.7 secs, 0.2 mins,0.0 hours\n",
      "start processing 201801190430\n",
      "Himawari8/AHI data Processed Finish\n",
      "data reading finish\n",
      "Start reading Angle data\n"
     ]
    },
    {
     "name": "stderr",
     "output_type": "stream",
     "text": [
      "<ipython-input-34-941ef42f7000>:27: FutureWarning: elementwise comparison failed; returning scalar instead, but in the future will perform elementwise comparison\n",
      "  if AHI_data == 'No data':\n"
     ]
    },
    {
     "name": "stdout",
     "output_type": "stream",
     "text": [
      "Angle data read finished\n",
      "Start reading Atmospheric data\n",
      "Atmospheric data read finished\n",
      "Start Calculate SR\n",
      "Calculate SR finished\n",
      "Start Save SR file \n",
      "Save SR file finished\n",
      "delete file finish\n",
      "time: 11.5 secs, 0.2 mins,0.0 hours\n",
      "start processing 201801190440\n",
      "Himawari8/AHI data Processed Finish\n",
      "data reading finish\n",
      "Start reading Angle data\n"
     ]
    },
    {
     "name": "stderr",
     "output_type": "stream",
     "text": [
      "<ipython-input-34-941ef42f7000>:27: FutureWarning: elementwise comparison failed; returning scalar instead, but in the future will perform elementwise comparison\n",
      "  if AHI_data == 'No data':\n"
     ]
    },
    {
     "name": "stdout",
     "output_type": "stream",
     "text": [
      "Angle data read finished\n",
      "Start reading Atmospheric data\n",
      "Atmospheric data read finished\n",
      "Start Calculate SR\n",
      "Calculate SR finished\n",
      "Start Save SR file \n",
      "Save SR file finished\n",
      "delete file finish\n",
      "time: 11.8 secs, 0.2 mins,0.0 hours\n",
      "start processing 201801190450\n",
      "Himawari8/AHI data Processed Finish\n",
      "data reading finish\n",
      "Start reading Angle data\n"
     ]
    },
    {
     "name": "stderr",
     "output_type": "stream",
     "text": [
      "<ipython-input-34-941ef42f7000>:27: FutureWarning: elementwise comparison failed; returning scalar instead, but in the future will perform elementwise comparison\n",
      "  if AHI_data == 'No data':\n"
     ]
    },
    {
     "name": "stdout",
     "output_type": "stream",
     "text": [
      "Angle data read finished\n",
      "Start reading Atmospheric data\n",
      "Atmospheric data read finished\n",
      "Start Calculate SR\n",
      "Calculate SR finished\n",
      "Start Save SR file \n",
      "Save SR file finished\n",
      "delete file finish\n",
      "time: 11.9 secs, 0.2 mins,0.0 hours\n",
      "start processing 201801190500\n",
      "Himawari8/AHI data Processed Finish\n",
      "data reading finish\n",
      "Start reading Angle data\n"
     ]
    },
    {
     "name": "stderr",
     "output_type": "stream",
     "text": [
      "<ipython-input-34-941ef42f7000>:27: FutureWarning: elementwise comparison failed; returning scalar instead, but in the future will perform elementwise comparison\n",
      "  if AHI_data == 'No data':\n"
     ]
    },
    {
     "name": "stdout",
     "output_type": "stream",
     "text": [
      "Angle data read finished\n",
      "Start reading Atmospheric data\n",
      "Atmospheric data read finished\n",
      "Start Calculate SR\n",
      "Calculate SR finished\n",
      "Start Save SR file \n",
      "Save SR file finished\n",
      "delete file finish\n",
      "time: 11.5 secs, 0.2 mins,0.0 hours\n"
     ]
    }
   ],
   "source": [
    "\n",
    "TOA_Ref = []\n",
    "SR_Ref = []\n",
    "\n",
    "date_start = '2018-01-19 00:00'\n",
    "date_end = '2018-01-19  05:00'\n",
    "date_t = dt.timedelta(minutes=10)\n",
    "date_s = dt.datetime.strptime(date_start, \"%Y-%m-%d %H:%M\")\n",
    "date_e = dt.datetime.strptime(date_end, \"%Y-%m-%d %H:%M\")\n",
    "date_time_now = date_s\n",
    "while date_time_now <= date_e:\n",
    "    start_time = T.time()\n",
    "    date_dl_str = date_time_now.strftime(\"%Y-%m-%d %H:%M\" )\n",
    "\n",
    "    YYYY,MM,DD,HH,MIN,date= Time_split(date_time_now)    \n",
    "    print(\"start processing {}\".format(date))\n",
    "\n",
    "    # make dir\n",
    "    folder_original = target + date +'_original/'\n",
    "    folder_AC = target+'{}/{}/{}/'.format(YYYY,MM,DD)\n",
    "    mkdir(folder_original)\n",
    "    mkdir(folder_AC)\n",
    "\n",
    "\n",
    "    S_Read_AHI_time = T.time()\n",
    "    # Download AHI\n",
    "    AHI_data = H8_Process('liwei','liwei00','vis','03',date)\n",
    "    if AHI_data == 'No data':\n",
    "        date_time_now = date_time_now + date_t\n",
    "        remove_original_file(folder_original)\n",
    "        continue\n",
    "    TOA_Ref.append(AHI_data[1389,1740])\n",
    "    E_Read_AHI_time = T.time()\n",
    "\n",
    "    # Solar angle\n",
    "    print('Start reading Angle data')\n",
    "    S_ANGLE_time = T.time()\n",
    "    AHI_SZA,AHI_SAA = AHI_angle(date).read_angle_data()\n",
    "    RAA = abs(AHI_SAA - AHI_VAA)\n",
    "    RAA[RAA>180]=360-RAA[RAA>180]\n",
    "    print('Angle data read finished')\n",
    "    E_ANGLE_time = T.time()\n",
    "\n",
    "    # Atmosphereic data\n",
    "    print('Start reading Atmospheric data')\n",
    "    S_ATMOS_time = T.time()\n",
    "\n",
    "    OZ,WV,AOT550 = CAMS_data(YYYY,MM,DD,HH,MIN,AHI_lat,AHI_lon).read_CAMS()\n",
    "    Aerosol_type = CAMS_data(YYYY,MM,DD,HH,MIN,AHI_lat,AHI_lon).read_CAMS_AERO()\n",
    "    print('Atmospheric data read finished')\n",
    "    E_ATMOS_time = T.time()\n",
    "\n",
    "\n",
    "    # SR calculate\n",
    "    print('Start Calculate SR')\n",
    "    S_SR_time = T.time()\n",
    "    RESULT = Parallel(n_jobs=20)(delayed(calculate_6s_band4)(i) for i in range(3000))\n",
    "    SR = np.full((3000,3000),np.nan)\n",
    "    for i in range(3000):\n",
    "        SR[i][Water_idx[i]] = RESULT[i]\n",
    "    E_SR_time = T.time()\n",
    "    print('Calculate SR finished')\n",
    "    \n",
    "    # Save file and remove download input data\n",
    "    print('Start Save SR file ')\n",
    "    S_SAVE_time = T.time()\n",
    "    SR = np.around(SR,4) * 10000\n",
    "    SR_Ref.append(SR[1389,1740])\n",
    "    SR = np.where(SR>=32767,32767,SR)\n",
    "    SR = np.where(SR<=-32768,-32768,SR)\n",
    "    SR=np.array(SR).reshape(3000,3000)\n",
    "    SR_file=open(folder_AC+'H08_{}{}{}_{}{}_B04_SR.dat'.format(YYYY,MM,DD,HH,MIN),'wb')\n",
    "    SR.astype('int16').tofile(SR_file)\n",
    "    SR_file.close()\n",
    "    print('Save SR file finished')\n",
    "    remove_original_file(folder_original)\n",
    "    print(\"delete file finish\")\n",
    "    E_SAVE_time = T.time()\n",
    "    end_time=T.time()\n",
    "    TIME=end_time-start_time\n",
    "    print('time: {:.1f} secs, {:.1f} mins,{:.1f} hours'.format(TIME,TIME/60,TIME/3600))\n",
    "\n",
    "\n",
    "    date_time_now = date_time_now + date_t"
   ]
  },
  {
   "cell_type": "code",
   "execution_count": null,
   "metadata": {},
   "outputs": [],
   "source": []
  }
 ],
 "metadata": {
  "kernelspec": {
   "display_name": "Python 3",
   "language": "python",
   "name": "python3"
  },
  "language_info": {
   "codemirror_mode": {
    "name": "ipython",
    "version": 3
   },
   "file_extension": ".py",
   "mimetype": "text/x-python",
   "name": "python",
   "nbconvert_exporter": "python",
   "pygments_lexer": "ipython3",
   "version": "3.9.13"
  }
 },
 "nbformat": 4,
 "nbformat_minor": 4
}
