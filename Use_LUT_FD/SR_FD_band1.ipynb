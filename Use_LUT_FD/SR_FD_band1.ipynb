{
 "cells": [
  {
   "cell_type": "code",
   "execution_count": 1,
   "metadata": {},
   "outputs": [],
   "source": [
    "#!/usr/bin/env python\n",
    "# coding: utf-8\n",
    "\n",
    "\n",
    "#!/usr/bin/env python\n",
    "# coding: utf-8\n",
    "\n",
    "\n",
    "import numpy as np\n",
    "import time as T\n",
    "from joblib import Parallel, delayed\n",
    "from scipy.interpolate import griddata,interpn,RegularGridInterpolator\n",
    "import math\n",
    "import os\n",
    "import datetime\n",
    "import cv2\n",
    "from ftplib import FTP\n",
    "import rioxarray\n",
    "import xarray as xr\n",
    "import paramiko\n",
    "from scp import SCPClient\n",
    "import subprocess\n",
    "import datetime as dt\n",
    "import numba as nb\n",
    "\n",
    "target ='/data01/people/liwei/AC_Result/'\n",
    "\n",
    "SZA_PATH = '/data01/GEO/INPUT/ANGLE/Solar_Zenith_Angle_u2/'\n",
    "SAA_PATH = '/data01/GEO/INPUT/ANGLE/Solar_Azimuth_Angle_u2/'\n",
    "VZA_PATH = '/data01/GEO/INPUT/ANGLE/Viewer_Zenith_Angle/AHI_VZA_10.dat'\n",
    "VAA_PATH = '/data01/GEO/INPUT/ANGLE/Viewer_Azimuth_Angle/AHI_VAA_10.dat'\n",
    "\n",
    "LUT_PATH = '/data01/GEO/INPUT/LUT/'\n",
    "CAMS_PATH = '/data01/GEO/INPUT/ATMOSPHERE/'\n",
    "DN_PATH = '/data01/GEO/INPUT/'\n",
    "CAMS_AERO_PATH = '/data01/GEO/INPUT/AEROSOL_TYPE/'\n",
    "AL_PATH = '/data01/GEO/INPUT/ELEVATION_GEO/AHI/MERIT_DEM_AHI_10km.dat'\n",
    "\n",
    "\n",
    "res = 0.01\n",
    "u_lat,d_lat = 60,-60\n",
    "l_lon,r_lon = 85,205\n",
    "\n",
    "row_AHI = 12000\n",
    "col_AHI = 12000\n",
    "\n",
    "AHI_lat = np.linspace(60 - res/2 ,-60 + res/2,12000)\n",
    "AHI_lon = np.linspace(85 + res/2 ,205 - res/2,12000)\n"
   ]
  },
  {
   "cell_type": "code",
   "execution_count": 2,
   "metadata": {
    "tags": []
   },
   "outputs": [],
   "source": [
    "\n",
    "   \n",
    "class H8_data:\n",
    "\n",
    "    def __init__(self , account , pw , band , band_number , date):\n",
    "        self.account = account\n",
    "        self.pw = pw\n",
    "        self.band = band\n",
    "        self.band_number = band_number\n",
    "        self.date = date\n",
    "    \n",
    "    def get_path(self):\n",
    "        return '/data01/GEO/ORGDATA/H8AHI/hmwr829gr.cr.chiba-u.ac.jp/gridded/FD/V20151105/' + self.date[0:6] + '/' + self.band.upper() + '/'\n",
    "\n",
    "    def get_filename(self):\n",
    "        return self.date + \".\" + self.band + \".\" + self.band_number + \".fld.geoss.bz2\"\n",
    "    \n",
    "    def DN2TBB(self,data):\n",
    "        LUT=np.loadtxt(DN_PATH + 'count2tbb_v102/' + self.band + \".\" + self.band_number)\n",
    "        return LUT[data,1]\n",
    "    \n",
    "    def file_path(self):\n",
    "        return self.get_path() + self.get_filename() \n",
    "                 \n",
    "    def download_H8data(self):\n",
    "        client = paramiko.SSHClient()\n",
    "        client.load_system_host_keys()\n",
    "        client.set_missing_host_key_policy(paramiko.AutoAddPolicy())\n",
    "        client.connect(hostname='10.4.123.47', port=22, username=self.account, password=self.pw)\n",
    "        scp = SCPClient(client.get_transport())\n",
    "        sftp = client.open_sftp()\n",
    "\n",
    "        try :\n",
    "            sftp.stat(self.file_path())\n",
    "\n",
    "        except FileNotFoundError:\n",
    "            client.close()\n",
    "            print(\"File Not Found\")\n",
    "            return 'No data'\n",
    "\n",
    "        else:\n",
    "            scp.get(self.file_path(), folder_original+'/')\n",
    "            p = subprocess.Popen('lbzip2 -d {}{}'.format(folder_original+'/',self.file_path()[-33:]),shell=True)\n",
    "            p.communicate()\n",
    "            client.close()\n",
    "            print ('Himawari8/AHI data Processed Finish')\n",
    "            return folder_original + self.get_filename()[:-4]\n",
    "            \n",
    "    def read_H8data(self):\n",
    "        H8_file_path = self.download_H8data()\n",
    "        if self.band == \"vis\":\n",
    "            sr = 12000\n",
    "        elif self.band == \"ext\":\n",
    "            sr = 24000\n",
    "        else:\n",
    "            sr = 6000\n",
    "        if H8_file_path != 'No data':\n",
    "            fp = open(H8_file_path,'rb')\n",
    "            data = np.frombuffer(fp.read(),dtype='>u2').reshape(sr,sr)\n",
    "            fp.close()\n",
    "            data = self.DN2TBB(data)\n",
    "            data = data/100\n",
    "            print(\"data reading finish\")\n",
    "            return data\n",
    "        else:\n",
    "            return 'No data'\n",
    "        "
   ]
  },
  {
   "cell_type": "code",
   "execution_count": 3,
   "metadata": {},
   "outputs": [],
   "source": [
    "class LUT_interpolation:\n",
    "    def __init__(self,LUT_PATH):\n",
    "        self.LUT_PATH = LUT_PATH\n",
    "    \n",
    "    def LUT_interpolation(self):\n",
    "        \n",
    "        X1 = np.loadtxt(self.LUT_PATH + \"01_band1.csv\",delimiter=\",\").reshape(2,5,12,5,17,17,19)\n",
    "        X2 = np.loadtxt(self.LUT_PATH + \"02_band1.csv\",delimiter=\",\").reshape(2,5,12,5,17,17,19)\n",
    "        X3 = np.loadtxt(self.LUT_PATH + \"03_band1.csv\",delimiter=\",\").reshape(2,5,12,5,17,17,19)\n",
    "        # return X1, X2, X3\n",
    "        \n",
    "        fn1 = RegularGridInterpolator((aero_type,ozone,AOT,al,sza,vza,raa),X1,bounds_error=False,fill_value=np.nan)\n",
    "        fn2 = RegularGridInterpolator((aero_type,ozone,AOT,al,sza,vza,raa),X2,bounds_error=False,fill_value=np.nan)\n",
    "        fn3 = RegularGridInterpolator((aero_type,ozone,AOT,al,sza,vza,raa),X3,bounds_error=False,fill_value=np.nan)\n",
    "        return fn1,fn2,fn3\n",
    "\n",
    "class AHI_angle:\n",
    "    def __init__(self,date):\n",
    "        self.date = date        \n",
    "    def read_angle_data(self):\n",
    "        \n",
    "        AHI_date = self.date[4:11]\n",
    "        \n",
    "        sza_file_name = 'AHI_SZA_2018{}5.dat'.format(AHI_date)\n",
    "        saa_file_name = 'AHI_SAA_2018{}5.dat'.format(AHI_date)\n",
    "        \n",
    "        AHI_SZA_File = open(SZA_PATH + sza_file_name,'rb')\n",
    "        AHI_SZA = np.frombuffer(AHI_SZA_File.read(),dtype='u2').reshape(3000,3000) / 100\n",
    "        AHI_SZA_File.close()\n",
    "        AHI_SZA=cv2.resize(np.array(AHI_SZA,dtype='float64'),(row_AHI,col_AHI),interpolation=cv2.INTER_NEAREST)\n",
    "        \n",
    "        \n",
    "        AHI_SAA_File = open(SAA_PATH + saa_file_name,'rb')\n",
    "        AHI_SAA = np.frombuffer(AHI_SAA_File.read(),dtype='u2').reshape(3000,3000) / 100\n",
    "        AHI_SAA_File.close()\n",
    "        AHI_SAA=cv2.resize(np.array(AHI_SAA,dtype='float64'),(row_AHI,col_AHI),interpolation=cv2.INTER_NEAREST)\n",
    "        \n",
    "        return AHI_SZA,AHI_SAA\n",
    "\n",
    "class CAMS_data:\n",
    "    def __init__(self,Y,M,D,H,MI,lat,lon):\n",
    "        self.YYYY = Y\n",
    "        self.MM = M\n",
    "        self.DD = D\n",
    "        self.HH = H\n",
    "        self.MIN = MI\n",
    "        self.lon = lon\n",
    "        self.lat = lat\n",
    "        \n",
    "    def read_CAMS(self):\n",
    "\n",
    "        if int(self.HH) >= 21:\n",
    "            d1 = dt.datetime(int(self.YYYY),int(self.MM),int(self.DD))\n",
    "            d2 = dt.datetime(int(self.YYYY),int(self.MM),int(self.DD)) + dt.timedelta(days=1)\n",
    "            \n",
    "            ds1 = xr.open_dataset(CAMS_PATH + d1.strftime('%Y') + d1.strftime('%m') + d1.strftime('%d') + '.nc')\n",
    "            ds2 = xr.open_dataset(CAMS_PATH + d2.strftime('%Y') + d2.strftime('%m') + d2.strftime('%d') + '.nc')\n",
    "            ds = xr.merge([ds1, ds2]) \n",
    "            \n",
    "        else:\n",
    "             ds = xr.open_dataset(CAMS_PATH + self.YYYY + self.MM + self.DD + '.nc')\n",
    "                \n",
    "        dtime = dt.datetime(int(self.YYYY),int(self.MM),int(self.DD),int(self.HH),int(self.MIN)+5)    \n",
    "        ds = ds.interp(time = dtime,method = 'linear')\n",
    "        ds = ds.interp(longitude=self.lon,latitude=self.lat,method=\"nearest\")\n",
    "        \n",
    "        OZ = ds['gtco3'].values        \n",
    "        WV = ds['tcwv'].values        \n",
    "        AOT550 = ds['aod550'].values\n",
    "#         Atmosphere data Unit conversion\n",
    "        WV = WV/10\n",
    "        OZ = OZ*46.6975764\n",
    "\n",
    "\n",
    "#         Processing water vapor and ozone max and min\n",
    "        OZ[OZ>=max(ozone)] = max(ozone)-(1/10000)\n",
    "        OZ[OZ<=min(ozone)] = min(ozone)+(1/10000)\n",
    "        WV[WV>=max(water)] = max(water)-(1/10000)\n",
    "        WV[WV<=min(water)] = min(water)+(1/10000)\n",
    "        AOT550[AOT550>=max(AOT)] = max(AOT)-(1/10000)\n",
    "        AOT550[AOT550<=min(AOT)] = min(AOT)+(1/10000)\n",
    "        \n",
    "        return np.array(OZ).reshape(12000,12000),np.array(WV).reshape(12000,12000),np.array(AOT550).reshape(12000,12000)\n",
    "\n",
    "    def read_CAMS_AERO(self):\n",
    "        \n",
    "                \n",
    "        if int(self.HH) >= 21:\n",
    "            d1 = dt.datetime(int(self.YYYY),int(self.MM),int(self.DD))\n",
    "            d2 = dt.datetime(int(self.YYYY),int(self.MM),int(self.DD)) + dt.timedelta(days=1)\n",
    "            \n",
    "            ds1 = xr.open_dataset(CAMS_AERO_PATH + d1.strftime('%Y') + d1.strftime('%m') + d1.strftime('%d') + '.nc')\n",
    "            ds2 = xr.open_dataset(CAMS_AERO_PATH + d2.strftime('%Y') + d2.strftime('%m') + d2.strftime('%d') + '.nc')\n",
    "            ds = xr.merge([ds1, ds2]) \n",
    "            \n",
    "        else:\n",
    "             ds = xr.open_dataset(CAMS_AERO_PATH + self.YYYY + self.MM + self.DD + '.nc')\n",
    "                \n",
    "        dtime = dt.datetime(int(self.YYYY),int(self.MM),int(self.DD),int(self.HH),int(self.MIN)+5)\n",
    "        ds = ds.interp(time = dtime,method = 'linear')\n",
    "        ds = ds.interp(longitude=self.lon,latitude=self.lat,method=\"nearest\")\n",
    "        \n",
    "        bc = ds['bcaod550'].values\n",
    "        du = ds['duaod550'].values\n",
    "        om = ds['omaod550'].values\n",
    "        ss = ds['ssaod550'].values\n",
    "        su = ds['suaod550'].values\n",
    "\n",
    "        DL_6S = np.array(du)\n",
    "        SL_6S = np.array(su) + np.array(bc)\n",
    "        OC_6S = np.array(ss)\n",
    "        WS_6S = np.array(om)\n",
    "\n",
    "        Total = DL_6S + SL_6S + OC_6S + WS_6S\n",
    "\n",
    "        precent_DL_6S = DL_6S / Total\n",
    "        precent_SL_6S = SL_6S / Total\n",
    "        precent_OC_6S = OC_6S / Total\n",
    "        precent_WS_6S = WS_6S / Total\n",
    "        P = np.dstack((precent_DL_6S,precent_WS_6S,precent_OC_6S,precent_SL_6S))\n",
    "        Aerosol_type = np.where(np.amax(P,axis = 2) == precent_OC_6S,1,0)\n",
    "        \n",
    "        return Aerosol_type\n",
    "def H8_Process(ACCOUNT,PW,Band,Band_number,Date):\n",
    "    data = H8_data(ACCOUNT,PW,Band,Band_number,Date).read_H8data()\n",
    "    return data\n",
    "\n",
    "def remove_original_file(path):\n",
    "    os.system('rm -rf {}'.format(path))\n",
    "    \n",
    "    \n",
    "def mkdir(path):\n",
    "    folder = os.path.exists(path) \n",
    "    if not folder:\n",
    "        os.makedirs(path)\n",
    "        \n",
    "def Time_split(time):\n",
    "    YYYY = time.strftime('%Y')\n",
    "    MM = time.strftime('%m')\n",
    "    DD = time.strftime('%d')\n",
    "    HH = time.strftime('%H')\n",
    "    MIN = time.strftime('%M')\n",
    "    date = YYYY + MM + DD + HH + MIN\n",
    "    return YYYY,MM,DD,HH,MIN,date\n",
    "        \n",
    "        \n",
    "def calculate_6s_band1(i):\n",
    "    \n",
    "    Aero_input = Aerosol_type[i][Ocean_mask[i]]\n",
    "    OZ_input = OZ[i][Ocean_mask[i]]\n",
    "    AOT550_input = AOT550[i][Ocean_mask[i]]\n",
    "    RAA_input = RAA[i][Ocean_mask[i]]\n",
    "    SZA_input = AHI_SZA[i][Ocean_mask[i]]\n",
    "    VZA_input = AHI_VZA[i][Ocean_mask[i]]\n",
    "    AL_input = AHI_AL[i][Ocean_mask[i]]\n",
    "    AHI_data_input = AHI_data[i][Ocean_mask[i]]\n",
    "\n",
    "    xi = np.array([Aero_input,OZ_input,AOT550_input,AL_input,SZA_input,VZA_input,RAA_input])\n",
    "    xi = xi.T\n",
    "    xa = fn1(xi)\n",
    "    xb = fn2(xi)\n",
    "    xc = fn3(xi)\n",
    "    y = xa*AHI_data_input-xb\n",
    "    SR = y/(1+xc*y)\n",
    "    return SR\n",
    "\n",
    "@nb.jit()\n",
    "def get_water_idx():\n",
    "    Water_idx = []\n",
    "    for i in range(12000):\n",
    "        line_idx =[]\n",
    "        for j in range(12000):\n",
    "            if Ocean_mask[i,j] == True:\n",
    "                line_idx.append(j)\n",
    "\n",
    "        Water_idx.append(line_idx)\n",
    "    return Water_idx\n",
    "\n",
    "Ocean_mask_PATH = '/data01/GEO/INPUT/LAND_MASK/Landmask_10.dat'\n",
    "    \n",
    "Mask_File = open(Ocean_mask_PATH,'rb')\n",
    "Ocean_mask = np.frombuffer(Mask_File.read(),dtype='u1').reshape(12000,12000).astype('bool')\n",
    "Mask_File.close()    \n",
    "    \n",
    "    \n",
    "    \n",
    "Water_idx = get_water_idx()\n",
    "sza = np.linspace(0,80,17)\n",
    "vza = np.linspace(0,80,17)\n",
    "water = np.linspace(0,7,8)\n",
    "ozone = np.linspace(0.2,0.4,5)\n",
    "AOT = np.array([0.01,0.05,0.1,0.15,0.2,0.3,0.4,0.6,0.8,1.0,1.5,2.0])\n",
    "raa = np.linspace(0,180,19)\n",
    "al = np.linspace(0,8,5)\n",
    "aero_type = np.array([0,1])\n",
    "\n",
    "fn1,fn2,fn3 = LUT_interpolation(LUT_PATH).LUT_interpolation()\n",
    "\n",
    "\n",
    "VZA_File = open(VZA_PATH,'rb')\n",
    "AHI_VZA = np.frombuffer(VZA_File.read(),dtype='u2').reshape(12000,12000) * 0.01\n",
    "VZA_File.close()\n",
    "\n",
    "VAA_File = open(VAA_PATH,'rb')\n",
    "AHI_VAA = np.frombuffer(VAA_File.read(),dtype='u2').reshape(12000,12000) * 0.01\n",
    "VAA_File.close()\n",
    "\n",
    "AL_File = open(AL_PATH,'rb')\n",
    "AHI_AL = np.frombuffer(AL_File.read(),dtype='u2').reshape(12000,12000) * 0.001\n",
    "AL_File.close()\n",
    "    "
   ]
  },
  {
   "cell_type": "code",
   "execution_count": 301,
   "metadata": {
    "collapsed": true,
    "jupyter": {
     "outputs_hidden": true
    },
    "tags": []
   },
   "outputs": [
    {
     "name": "stdout",
     "output_type": "stream",
     "text": [
      "start processing 201801190400\n",
      "Himawari8/AHI data Processed Finish\n",
      "data reading finish\n",
      "Start reading Angle data\n"
     ]
    },
    {
     "name": "stderr",
     "output_type": "stream",
     "text": [
      "<ipython-input-301-6c133ad49bac>:27: FutureWarning: elementwise comparison failed; returning scalar instead, but in the future will perform elementwise comparison\n",
      "  if AHI_data == 'No data':\n"
     ]
    },
    {
     "name": "stdout",
     "output_type": "stream",
     "text": [
      "Angle data read finished\n",
      "Start reading Atmospheric data\n",
      "Atmospheric data read finished\n",
      "Start Calculate SR\n",
      "Calculate SR finished\n",
      "Start Save SR file \n",
      "Save SR file finished\n",
      "delete file finish\n",
      "time: 30.6 secs, 0.5 mins,0.0 hours\n",
      "start processing 201801190410\n",
      "Himawari8/AHI data Processed Finish\n",
      "data reading finish\n",
      "Start reading Angle data\n"
     ]
    },
    {
     "name": "stderr",
     "output_type": "stream",
     "text": [
      "<ipython-input-301-6c133ad49bac>:27: FutureWarning: elementwise comparison failed; returning scalar instead, but in the future will perform elementwise comparison\n",
      "  if AHI_data == 'No data':\n"
     ]
    },
    {
     "name": "stdout",
     "output_type": "stream",
     "text": [
      "Angle data read finished\n",
      "Start reading Atmospheric data\n",
      "Atmospheric data read finished\n",
      "Start Calculate SR\n",
      "Calculate SR finished\n",
      "Start Save SR file \n",
      "Save SR file finished\n",
      "delete file finish\n",
      "time: 26.4 secs, 0.4 mins,0.0 hours\n",
      "start processing 201801190420\n",
      "Himawari8/AHI data Processed Finish\n",
      "data reading finish\n",
      "Start reading Angle data\n"
     ]
    },
    {
     "name": "stderr",
     "output_type": "stream",
     "text": [
      "<ipython-input-301-6c133ad49bac>:27: FutureWarning: elementwise comparison failed; returning scalar instead, but in the future will perform elementwise comparison\n",
      "  if AHI_data == 'No data':\n"
     ]
    },
    {
     "name": "stdout",
     "output_type": "stream",
     "text": [
      "Angle data read finished\n",
      "Start reading Atmospheric data\n",
      "Atmospheric data read finished\n",
      "Start Calculate SR\n",
      "Calculate SR finished\n",
      "Start Save SR file \n",
      "Save SR file finished\n",
      "delete file finish\n",
      "time: 28.2 secs, 0.5 mins,0.0 hours\n",
      "start processing 201801190430\n",
      "Himawari8/AHI data Processed Finish\n",
      "data reading finish\n",
      "Start reading Angle data\n"
     ]
    },
    {
     "name": "stderr",
     "output_type": "stream",
     "text": [
      "<ipython-input-301-6c133ad49bac>:27: FutureWarning: elementwise comparison failed; returning scalar instead, but in the future will perform elementwise comparison\n",
      "  if AHI_data == 'No data':\n"
     ]
    },
    {
     "name": "stdout",
     "output_type": "stream",
     "text": [
      "Angle data read finished\n",
      "Start reading Atmospheric data\n",
      "Atmospheric data read finished\n",
      "Start Calculate SR\n",
      "Calculate SR finished\n",
      "Start Save SR file \n",
      "Save SR file finished\n",
      "delete file finish\n",
      "time: 30.4 secs, 0.5 mins,0.0 hours\n",
      "start processing 201801190440\n",
      "Himawari8/AHI data Processed Finish\n",
      "data reading finish\n",
      "Start reading Angle data\n"
     ]
    },
    {
     "name": "stderr",
     "output_type": "stream",
     "text": [
      "<ipython-input-301-6c133ad49bac>:27: FutureWarning: elementwise comparison failed; returning scalar instead, but in the future will perform elementwise comparison\n",
      "  if AHI_data == 'No data':\n"
     ]
    },
    {
     "name": "stdout",
     "output_type": "stream",
     "text": [
      "Angle data read finished\n",
      "Start reading Atmospheric data\n",
      "Atmospheric data read finished\n",
      "Start Calculate SR\n",
      "Calculate SR finished\n",
      "Start Save SR file \n",
      "Save SR file finished\n",
      "delete file finish\n",
      "time: 31.6 secs, 0.5 mins,0.0 hours\n",
      "start processing 201801190450\n",
      "Himawari8/AHI data Processed Finish\n",
      "data reading finish\n",
      "Start reading Angle data\n"
     ]
    },
    {
     "name": "stderr",
     "output_type": "stream",
     "text": [
      "<ipython-input-301-6c133ad49bac>:27: FutureWarning: elementwise comparison failed; returning scalar instead, but in the future will perform elementwise comparison\n",
      "  if AHI_data == 'No data':\n"
     ]
    },
    {
     "name": "stdout",
     "output_type": "stream",
     "text": [
      "Angle data read finished\n",
      "Start reading Atmospheric data\n",
      "Atmospheric data read finished\n",
      "Start Calculate SR\n",
      "Calculate SR finished\n",
      "Start Save SR file \n",
      "Save SR file finished\n",
      "delete file finish\n",
      "time: 28.4 secs, 0.5 mins,0.0 hours\n",
      "start processing 201801190500\n",
      "Himawari8/AHI data Processed Finish\n",
      "data reading finish\n",
      "Start reading Angle data\n"
     ]
    },
    {
     "name": "stderr",
     "output_type": "stream",
     "text": [
      "<ipython-input-301-6c133ad49bac>:27: FutureWarning: elementwise comparison failed; returning scalar instead, but in the future will perform elementwise comparison\n",
      "  if AHI_data == 'No data':\n"
     ]
    },
    {
     "name": "stdout",
     "output_type": "stream",
     "text": [
      "Angle data read finished\n",
      "Start reading Atmospheric data\n",
      "Atmospheric data read finished\n",
      "Start Calculate SR\n",
      "Calculate SR finished\n",
      "Start Save SR file \n",
      "Save SR file finished\n",
      "delete file finish\n",
      "time: 25.7 secs, 0.4 mins,0.0 hours\n"
     ]
    }
   ],
   "source": [
    "TOA_Ref = []\n",
    "SR_Ref = []\n",
    "\n",
    "date_start = '2018-01-19 04:00'\n",
    "date_end = '2018-01-19 05:00'\n",
    "# date_t = dt.timedelta(minutes=10)\n",
    "date_s = dt.datetime.strptime(date_start, \"%Y-%m-%d %H:%M\")\n",
    "date_e = dt.datetime.strptime(date_end, \"%Y-%m-%d %H:%M\")\n",
    "date_time_now = date_s\n",
    "while date_time_now <= date_e:\n",
    "    start_time = T.time()\n",
    "    date_dl_str = date_time_now.strftime(\"%Y-%m-%d %H:%M\" )\n",
    "\n",
    "    YYYY,MM,DD,HH,MIN,date= Time_split(date_time_now)    \n",
    "    print(\"start processing {}\".format(date))\n",
    "\n",
    "    # make dir\n",
    "    folder_original = target + date +'_original/'\n",
    "    folder_AC = target+'{}/{}/{}/'.format(YYYY,MM,DD)\n",
    "    mkdir(folder_original)\n",
    "    mkdir(folder_AC)\n",
    "\n",
    "\n",
    "    S_Read_AHI_time = T.time()\n",
    "    # Download AHI\n",
    "    AHI_data = H8_Process('liwei','liwei00','ext','01',date)\n",
    "    if AHI_data == 'No data':\n",
    "        date_time_now = date_time_now + date_t\n",
    "        remove_original_file(folder_original)\n",
    "        continue\n",
    "    TOA_Ref.append(AHI_data)\n",
    "    E_Read_AHI_time = T.time()\n",
    "\n",
    "    # Solar angle\n",
    "    print('Start reading Angle data')\n",
    "    S_ANGLE_time = T.time()\n",
    "    AHI_SZA,AHI_SAA = AHI_angle(date).read_angle_data()\n",
    "    RAA = abs(AHI_SAA - AHI_VAA)\n",
    "    RAA[RAA>180]=360-RAA[RAA>180]\n",
    "    print('Angle data read finished')\n",
    "    E_ANGLE_time = T.time()\n",
    "\n",
    "    # Atmosphereic data\n",
    "    print('Start reading Atmospheric data')\n",
    "    S_ATMOS_time = T.time()\n",
    "\n",
    "    OZ,WV,AOT550 = CAMS_data(YYYY,MM,DD,HH,MIN,AHI_lat,AHI_lon).read_CAMS()\n",
    "    Aerosol_type = CAMS_data(YYYY,MM,DD,HH,MIN,AHI_lat,AHI_lon).read_CAMS_AERO()\n",
    "    print('Atmospheric data read finished')\n",
    "    E_ATMOS_time = T.time()\n",
    "\n",
    "\n",
    "    # SR calculate\n",
    "    print('Start Calculate SR')\n",
    "    S_SR_time = T.time()\n",
    "    RESULT = Parallel(n_jobs=40)(delayed(calculate_6s_band3)(i) for i in range(3000))\n",
    "    SR = np.full((12000,12000),np.nan)\n",
    "    for i in range(12000):\n",
    "        SR[i][Water_idx[i]] = RESULT[i]\n",
    "    E_SR_time = T.time()\n",
    "    print('Calculate SR finished')\n",
    "    \n",
    "    # Save file and remove download input data\n",
    "    print('Start Save SR file ')\n",
    "    S_SAVE_time = T.time()\n",
    "    SR=np.array(SR).reshape(12000,12000)\n",
    "    SR = np.around(SR,4) * 10000\n",
    "    SR = np.where(SR>=32767,32767,SR)\n",
    "    SR = np.where(SR<=-32768,-32768,SR)\n",
    "    SR_Ref.append(SR)\n",
    "    SR_file=open(folder_AC+'H08_{}{}{}_{}{}_B01_SR.dat'.format(YYYY,MM,DD,HH,MIN),'wb')\n",
    "    SR.astype('int16').tofile(SR_file)\n",
    "    SR_file.close()\n",
    "    print('Save SR file finished')\n",
    "    remove_original_file(folder_original)\n",
    "    print(\"delete file finish\")\n",
    "    E_SAVE_time = T.time()\n",
    "    end_time=T.time()\n",
    "    TIME=end_time-start_time\n",
    "    print('time: {:.1f} secs, {:.1f} mins,{:.1f} hours'.format(TIME,TIME/60,TIME/3600))\n",
    "\n",
    "\n",
    "    date_time_now = date_time_now + date_t"
   ]
  },
  {
   "cell_type": "code",
   "execution_count": 11,
   "metadata": {
    "tags": []
   },
   "outputs": [
    {
     "name": "stdout",
     "output_type": "stream",
     "text": [
      "start processing 201807010000\n",
      "Himawari8/AHI data Processed Finish\n",
      "data reading finish\n",
      "Start reading Angle data\n"
     ]
    },
    {
     "name": "stderr",
     "output_type": "stream",
     "text": [
      "<ipython-input-11-6827ad66794f>:25: FutureWarning: elementwise comparison failed; returning scalar instead, but in the future will perform elementwise comparison\n",
      "  if AHI_data == 'No data':\n"
     ]
    },
    {
     "name": "stdout",
     "output_type": "stream",
     "text": [
      "Angle data read finished\n",
      "Start reading Atmospheric data\n",
      "Atmospheric data read finished\n",
      "Start Calculate SR\n",
      "Calculate SR finished\n",
      "Start Save SR file \n",
      "Save SR file finished\n",
      "delete file finish\n",
      "time: 144.7 secs, 2.4 mins,0.0 hours\n",
      "start processing 201807010010\n",
      "Himawari8/AHI data Processed Finish\n",
      "data reading finish\n",
      "Start reading Angle data\n"
     ]
    },
    {
     "name": "stderr",
     "output_type": "stream",
     "text": [
      "<ipython-input-11-6827ad66794f>:25: FutureWarning: elementwise comparison failed; returning scalar instead, but in the future will perform elementwise comparison\n",
      "  if AHI_data == 'No data':\n"
     ]
    },
    {
     "name": "stdout",
     "output_type": "stream",
     "text": [
      "Angle data read finished\n",
      "Start reading Atmospheric data\n",
      "Atmospheric data read finished\n",
      "Start Calculate SR\n",
      "Calculate SR finished\n",
      "Start Save SR file \n",
      "Save SR file finished\n",
      "delete file finish\n",
      "time: 73.0 secs, 1.2 mins,0.0 hours\n",
      "start processing 201807010020\n",
      "Himawari8/AHI data Processed Finish\n",
      "data reading finish\n",
      "Start reading Angle data\n"
     ]
    },
    {
     "name": "stderr",
     "output_type": "stream",
     "text": [
      "<ipython-input-11-6827ad66794f>:25: FutureWarning: elementwise comparison failed; returning scalar instead, but in the future will perform elementwise comparison\n",
      "  if AHI_data == 'No data':\n"
     ]
    },
    {
     "name": "stdout",
     "output_type": "stream",
     "text": [
      "Angle data read finished\n",
      "Start reading Atmospheric data\n",
      "Atmospheric data read finished\n",
      "Start Calculate SR\n",
      "Calculate SR finished\n",
      "Start Save SR file \n",
      "Save SR file finished\n",
      "delete file finish\n",
      "time: 74.0 secs, 1.2 mins,0.0 hours\n",
      "start processing 201807010030\n",
      "Himawari8/AHI data Processed Finish\n",
      "data reading finish\n",
      "Start reading Angle data\n"
     ]
    },
    {
     "name": "stderr",
     "output_type": "stream",
     "text": [
      "<ipython-input-11-6827ad66794f>:25: FutureWarning: elementwise comparison failed; returning scalar instead, but in the future will perform elementwise comparison\n",
      "  if AHI_data == 'No data':\n"
     ]
    },
    {
     "name": "stdout",
     "output_type": "stream",
     "text": [
      "Angle data read finished\n",
      "Start reading Atmospheric data\n",
      "Atmospheric data read finished\n",
      "Start Calculate SR\n",
      "Calculate SR finished\n",
      "Start Save SR file \n",
      "Save SR file finished\n",
      "delete file finish\n",
      "time: 73.5 secs, 1.2 mins,0.0 hours\n",
      "start processing 201807010040\n",
      "Himawari8/AHI data Processed Finish\n",
      "data reading finish\n",
      "Start reading Angle data\n"
     ]
    },
    {
     "name": "stderr",
     "output_type": "stream",
     "text": [
      "<ipython-input-11-6827ad66794f>:25: FutureWarning: elementwise comparison failed; returning scalar instead, but in the future will perform elementwise comparison\n",
      "  if AHI_data == 'No data':\n"
     ]
    },
    {
     "name": "stdout",
     "output_type": "stream",
     "text": [
      "Angle data read finished\n",
      "Start reading Atmospheric data\n",
      "Atmospheric data read finished\n",
      "Start Calculate SR\n",
      "Calculate SR finished\n",
      "Start Save SR file \n",
      "Save SR file finished\n",
      "delete file finish\n",
      "time: 75.4 secs, 1.3 mins,0.0 hours\n",
      "start processing 201807010050\n",
      "Himawari8/AHI data Processed Finish\n",
      "data reading finish\n",
      "Start reading Angle data\n"
     ]
    },
    {
     "name": "stderr",
     "output_type": "stream",
     "text": [
      "<ipython-input-11-6827ad66794f>:25: FutureWarning: elementwise comparison failed; returning scalar instead, but in the future will perform elementwise comparison\n",
      "  if AHI_data == 'No data':\n"
     ]
    },
    {
     "name": "stdout",
     "output_type": "stream",
     "text": [
      "Angle data read finished\n",
      "Start reading Atmospheric data\n",
      "Atmospheric data read finished\n",
      "Start Calculate SR\n",
      "Calculate SR finished\n",
      "Start Save SR file \n",
      "Save SR file finished\n",
      "delete file finish\n",
      "time: 71.6 secs, 1.2 mins,0.0 hours\n",
      "start processing 201807010100\n",
      "Himawari8/AHI data Processed Finish\n",
      "data reading finish\n",
      "Start reading Angle data\n"
     ]
    },
    {
     "name": "stderr",
     "output_type": "stream",
     "text": [
      "<ipython-input-11-6827ad66794f>:25: FutureWarning: elementwise comparison failed; returning scalar instead, but in the future will perform elementwise comparison\n",
      "  if AHI_data == 'No data':\n"
     ]
    },
    {
     "name": "stdout",
     "output_type": "stream",
     "text": [
      "Angle data read finished\n",
      "Start reading Atmospheric data\n",
      "Atmospheric data read finished\n",
      "Start Calculate SR\n",
      "Calculate SR finished\n",
      "Start Save SR file \n",
      "Save SR file finished\n",
      "delete file finish\n",
      "time: 61.9 secs, 1.0 mins,0.0 hours\n",
      "start processing 201807010110\n",
      "Himawari8/AHI data Processed Finish\n",
      "data reading finish\n",
      "Start reading Angle data\n"
     ]
    },
    {
     "name": "stderr",
     "output_type": "stream",
     "text": [
      "<ipython-input-11-6827ad66794f>:25: FutureWarning: elementwise comparison failed; returning scalar instead, but in the future will perform elementwise comparison\n",
      "  if AHI_data == 'No data':\n"
     ]
    },
    {
     "name": "stdout",
     "output_type": "stream",
     "text": [
      "Angle data read finished\n",
      "Start reading Atmospheric data\n",
      "Atmospheric data read finished\n",
      "Start Calculate SR\n",
      "Calculate SR finished\n",
      "Start Save SR file \n",
      "Save SR file finished\n",
      "delete file finish\n",
      "time: 66.5 secs, 1.1 mins,0.0 hours\n",
      "start processing 201807010120\n",
      "Himawari8/AHI data Processed Finish\n",
      "data reading finish\n",
      "Start reading Angle data\n"
     ]
    },
    {
     "name": "stderr",
     "output_type": "stream",
     "text": [
      "<ipython-input-11-6827ad66794f>:25: FutureWarning: elementwise comparison failed; returning scalar instead, but in the future will perform elementwise comparison\n",
      "  if AHI_data == 'No data':\n"
     ]
    },
    {
     "name": "stdout",
     "output_type": "stream",
     "text": [
      "Angle data read finished\n",
      "Start reading Atmospheric data\n",
      "Atmospheric data read finished\n",
      "Start Calculate SR\n",
      "Calculate SR finished\n",
      "Start Save SR file \n",
      "Save SR file finished\n",
      "delete file finish\n",
      "time: 67.6 secs, 1.1 mins,0.0 hours\n",
      "start processing 201807010130\n",
      "Himawari8/AHI data Processed Finish\n",
      "data reading finish\n",
      "Start reading Angle data\n"
     ]
    },
    {
     "name": "stderr",
     "output_type": "stream",
     "text": [
      "<ipython-input-11-6827ad66794f>:25: FutureWarning: elementwise comparison failed; returning scalar instead, but in the future will perform elementwise comparison\n",
      "  if AHI_data == 'No data':\n"
     ]
    },
    {
     "name": "stdout",
     "output_type": "stream",
     "text": [
      "Angle data read finished\n",
      "Start reading Atmospheric data\n",
      "Atmospheric data read finished\n",
      "Start Calculate SR\n",
      "Calculate SR finished\n",
      "Start Save SR file \n",
      "Save SR file finished\n",
      "delete file finish\n",
      "time: 76.3 secs, 1.3 mins,0.0 hours\n",
      "start processing 201807010140\n",
      "Himawari8/AHI data Processed Finish\n",
      "data reading finish\n",
      "Start reading Angle data\n"
     ]
    },
    {
     "name": "stderr",
     "output_type": "stream",
     "text": [
      "<ipython-input-11-6827ad66794f>:25: FutureWarning: elementwise comparison failed; returning scalar instead, but in the future will perform elementwise comparison\n",
      "  if AHI_data == 'No data':\n"
     ]
    },
    {
     "name": "stdout",
     "output_type": "stream",
     "text": [
      "Angle data read finished\n",
      "Start reading Atmospheric data\n",
      "Atmospheric data read finished\n",
      "Start Calculate SR\n",
      "Calculate SR finished\n",
      "Start Save SR file \n",
      "Save SR file finished\n",
      "delete file finish\n",
      "time: 71.5 secs, 1.2 mins,0.0 hours\n",
      "start processing 201807010150\n",
      "Himawari8/AHI data Processed Finish\n",
      "data reading finish\n",
      "Start reading Angle data\n"
     ]
    },
    {
     "name": "stderr",
     "output_type": "stream",
     "text": [
      "<ipython-input-11-6827ad66794f>:25: FutureWarning: elementwise comparison failed; returning scalar instead, but in the future will perform elementwise comparison\n",
      "  if AHI_data == 'No data':\n"
     ]
    },
    {
     "name": "stdout",
     "output_type": "stream",
     "text": [
      "Angle data read finished\n",
      "Start reading Atmospheric data\n",
      "Atmospheric data read finished\n",
      "Start Calculate SR\n",
      "Calculate SR finished\n",
      "Start Save SR file \n",
      "Save SR file finished\n",
      "delete file finish\n",
      "time: 69.0 secs, 1.2 mins,0.0 hours\n",
      "start processing 201807010200\n",
      "Himawari8/AHI data Processed Finish\n",
      "data reading finish\n",
      "Start reading Angle data\n"
     ]
    },
    {
     "name": "stderr",
     "output_type": "stream",
     "text": [
      "<ipython-input-11-6827ad66794f>:25: FutureWarning: elementwise comparison failed; returning scalar instead, but in the future will perform elementwise comparison\n",
      "  if AHI_data == 'No data':\n"
     ]
    },
    {
     "name": "stdout",
     "output_type": "stream",
     "text": [
      "Angle data read finished\n",
      "Start reading Atmospheric data\n",
      "Atmospheric data read finished\n",
      "Start Calculate SR\n",
      "Calculate SR finished\n",
      "Start Save SR file \n",
      "Save SR file finished\n",
      "delete file finish\n",
      "time: 72.7 secs, 1.2 mins,0.0 hours\n",
      "start processing 201807010210\n",
      "Himawari8/AHI data Processed Finish\n",
      "data reading finish\n",
      "Start reading Angle data\n"
     ]
    },
    {
     "name": "stderr",
     "output_type": "stream",
     "text": [
      "<ipython-input-11-6827ad66794f>:25: FutureWarning: elementwise comparison failed; returning scalar instead, but in the future will perform elementwise comparison\n",
      "  if AHI_data == 'No data':\n"
     ]
    },
    {
     "name": "stdout",
     "output_type": "stream",
     "text": [
      "Angle data read finished\n",
      "Start reading Atmospheric data\n",
      "Atmospheric data read finished\n",
      "Start Calculate SR\n",
      "Calculate SR finished\n",
      "Start Save SR file \n",
      "Save SR file finished\n",
      "delete file finish\n",
      "time: 73.0 secs, 1.2 mins,0.0 hours\n",
      "start processing 201807010220\n",
      "Himawari8/AHI data Processed Finish\n",
      "data reading finish\n",
      "Start reading Angle data\n"
     ]
    },
    {
     "name": "stderr",
     "output_type": "stream",
     "text": [
      "<ipython-input-11-6827ad66794f>:25: FutureWarning: elementwise comparison failed; returning scalar instead, but in the future will perform elementwise comparison\n",
      "  if AHI_data == 'No data':\n"
     ]
    },
    {
     "name": "stdout",
     "output_type": "stream",
     "text": [
      "Angle data read finished\n",
      "Start reading Atmospheric data\n",
      "Atmospheric data read finished\n",
      "Start Calculate SR\n",
      "Calculate SR finished\n",
      "Start Save SR file \n",
      "Save SR file finished\n",
      "delete file finish\n",
      "time: 68.9 secs, 1.1 mins,0.0 hours\n",
      "start processing 201807010230\n",
      "Himawari8/AHI data Processed Finish\n",
      "data reading finish\n",
      "Start reading Angle data\n"
     ]
    },
    {
     "name": "stderr",
     "output_type": "stream",
     "text": [
      "<ipython-input-11-6827ad66794f>:25: FutureWarning: elementwise comparison failed; returning scalar instead, but in the future will perform elementwise comparison\n",
      "  if AHI_data == 'No data':\n"
     ]
    },
    {
     "name": "stdout",
     "output_type": "stream",
     "text": [
      "Angle data read finished\n",
      "Start reading Atmospheric data\n",
      "Atmospheric data read finished\n",
      "Start Calculate SR\n",
      "Calculate SR finished\n",
      "Start Save SR file \n",
      "Save SR file finished\n",
      "delete file finish\n",
      "time: 70.8 secs, 1.2 mins,0.0 hours\n",
      "start processing 201807010240\n",
      "File Not Found\n",
      "start processing 201807010250\n",
      "Himawari8/AHI data Processed Finish\n",
      "data reading finish\n",
      "Start reading Angle data\n"
     ]
    },
    {
     "name": "stderr",
     "output_type": "stream",
     "text": [
      "<ipython-input-11-6827ad66794f>:25: FutureWarning: elementwise comparison failed; returning scalar instead, but in the future will perform elementwise comparison\n",
      "  if AHI_data == 'No data':\n"
     ]
    },
    {
     "name": "stdout",
     "output_type": "stream",
     "text": [
      "Angle data read finished\n",
      "Start reading Atmospheric data\n",
      "Atmospheric data read finished\n",
      "Start Calculate SR\n",
      "Calculate SR finished\n",
      "Start Save SR file \n",
      "Save SR file finished\n",
      "delete file finish\n",
      "time: 67.1 secs, 1.1 mins,0.0 hours\n",
      "start processing 201807010300\n",
      "Himawari8/AHI data Processed Finish\n",
      "data reading finish\n",
      "Start reading Angle data\n"
     ]
    },
    {
     "name": "stderr",
     "output_type": "stream",
     "text": [
      "<ipython-input-11-6827ad66794f>:25: FutureWarning: elementwise comparison failed; returning scalar instead, but in the future will perform elementwise comparison\n",
      "  if AHI_data == 'No data':\n"
     ]
    },
    {
     "name": "stdout",
     "output_type": "stream",
     "text": [
      "Angle data read finished\n",
      "Start reading Atmospheric data\n",
      "Atmospheric data read finished\n",
      "Start Calculate SR\n",
      "Calculate SR finished\n",
      "Start Save SR file \n",
      "Save SR file finished\n",
      "delete file finish\n",
      "time: 69.0 secs, 1.1 mins,0.0 hours\n",
      "start processing 201807010310\n",
      "Himawari8/AHI data Processed Finish\n",
      "data reading finish\n",
      "Start reading Angle data\n"
     ]
    },
    {
     "name": "stderr",
     "output_type": "stream",
     "text": [
      "<ipython-input-11-6827ad66794f>:25: FutureWarning: elementwise comparison failed; returning scalar instead, but in the future will perform elementwise comparison\n",
      "  if AHI_data == 'No data':\n"
     ]
    },
    {
     "name": "stdout",
     "output_type": "stream",
     "text": [
      "Angle data read finished\n",
      "Start reading Atmospheric data\n",
      "Atmospheric data read finished\n",
      "Start Calculate SR\n",
      "Calculate SR finished\n",
      "Start Save SR file \n",
      "Save SR file finished\n",
      "delete file finish\n",
      "time: 64.5 secs, 1.1 mins,0.0 hours\n",
      "start processing 201807010320\n",
      "Himawari8/AHI data Processed Finish\n",
      "data reading finish\n",
      "Start reading Angle data\n"
     ]
    },
    {
     "name": "stderr",
     "output_type": "stream",
     "text": [
      "<ipython-input-11-6827ad66794f>:25: FutureWarning: elementwise comparison failed; returning scalar instead, but in the future will perform elementwise comparison\n",
      "  if AHI_data == 'No data':\n"
     ]
    },
    {
     "name": "stdout",
     "output_type": "stream",
     "text": [
      "Angle data read finished\n",
      "Start reading Atmospheric data\n",
      "Atmospheric data read finished\n",
      "Start Calculate SR\n",
      "Calculate SR finished\n",
      "Start Save SR file \n",
      "Save SR file finished\n",
      "delete file finish\n",
      "time: 66.5 secs, 1.1 mins,0.0 hours\n",
      "start processing 201807010330\n",
      "Himawari8/AHI data Processed Finish\n",
      "data reading finish\n",
      "Start reading Angle data\n"
     ]
    },
    {
     "name": "stderr",
     "output_type": "stream",
     "text": [
      "<ipython-input-11-6827ad66794f>:25: FutureWarning: elementwise comparison failed; returning scalar instead, but in the future will perform elementwise comparison\n",
      "  if AHI_data == 'No data':\n"
     ]
    },
    {
     "name": "stdout",
     "output_type": "stream",
     "text": [
      "Angle data read finished\n",
      "Start reading Atmospheric data\n",
      "Atmospheric data read finished\n",
      "Start Calculate SR\n",
      "Calculate SR finished\n",
      "Start Save SR file \n",
      "Save SR file finished\n",
      "delete file finish\n",
      "time: 62.6 secs, 1.0 mins,0.0 hours\n",
      "start processing 201807010340\n",
      "Himawari8/AHI data Processed Finish\n",
      "data reading finish\n",
      "Start reading Angle data\n"
     ]
    },
    {
     "name": "stderr",
     "output_type": "stream",
     "text": [
      "<ipython-input-11-6827ad66794f>:25: FutureWarning: elementwise comparison failed; returning scalar instead, but in the future will perform elementwise comparison\n",
      "  if AHI_data == 'No data':\n"
     ]
    },
    {
     "name": "stdout",
     "output_type": "stream",
     "text": [
      "Angle data read finished\n",
      "Start reading Atmospheric data\n",
      "Atmospheric data read finished\n",
      "Start Calculate SR\n",
      "Calculate SR finished\n",
      "Start Save SR file \n",
      "Save SR file finished\n",
      "delete file finish\n",
      "time: 65.3 secs, 1.1 mins,0.0 hours\n",
      "start processing 201807010350\n",
      "Himawari8/AHI data Processed Finish\n",
      "data reading finish\n",
      "Start reading Angle data\n"
     ]
    },
    {
     "name": "stderr",
     "output_type": "stream",
     "text": [
      "<ipython-input-11-6827ad66794f>:25: FutureWarning: elementwise comparison failed; returning scalar instead, but in the future will perform elementwise comparison\n",
      "  if AHI_data == 'No data':\n"
     ]
    },
    {
     "name": "stdout",
     "output_type": "stream",
     "text": [
      "Angle data read finished\n",
      "Start reading Atmospheric data\n",
      "Atmospheric data read finished\n",
      "Start Calculate SR\n",
      "Calculate SR finished\n",
      "Start Save SR file \n",
      "Save SR file finished\n",
      "delete file finish\n",
      "time: 67.4 secs, 1.1 mins,0.0 hours\n",
      "start processing 201807010400\n",
      "Himawari8/AHI data Processed Finish\n",
      "data reading finish\n",
      "Start reading Angle data\n"
     ]
    },
    {
     "name": "stderr",
     "output_type": "stream",
     "text": [
      "<ipython-input-11-6827ad66794f>:25: FutureWarning: elementwise comparison failed; returning scalar instead, but in the future will perform elementwise comparison\n",
      "  if AHI_data == 'No data':\n"
     ]
    },
    {
     "name": "stdout",
     "output_type": "stream",
     "text": [
      "Angle data read finished\n",
      "Start reading Atmospheric data\n",
      "Atmospheric data read finished\n",
      "Start Calculate SR\n",
      "Calculate SR finished\n",
      "Start Save SR file \n",
      "Save SR file finished\n",
      "delete file finish\n",
      "time: 70.2 secs, 1.2 mins,0.0 hours\n",
      "start processing 201807010410\n",
      "Himawari8/AHI data Processed Finish\n",
      "data reading finish\n",
      "Start reading Angle data\n"
     ]
    },
    {
     "name": "stderr",
     "output_type": "stream",
     "text": [
      "<ipython-input-11-6827ad66794f>:25: FutureWarning: elementwise comparison failed; returning scalar instead, but in the future will perform elementwise comparison\n",
      "  if AHI_data == 'No data':\n"
     ]
    },
    {
     "name": "stdout",
     "output_type": "stream",
     "text": [
      "Angle data read finished\n",
      "Start reading Atmospheric data\n",
      "Atmospheric data read finished\n",
      "Start Calculate SR\n",
      "Calculate SR finished\n",
      "Start Save SR file \n",
      "Save SR file finished\n",
      "delete file finish\n",
      "time: 87.2 secs, 1.5 mins,0.0 hours\n",
      "start processing 201807010420\n",
      "Himawari8/AHI data Processed Finish\n",
      "data reading finish\n",
      "Start reading Angle data\n"
     ]
    },
    {
     "name": "stderr",
     "output_type": "stream",
     "text": [
      "<ipython-input-11-6827ad66794f>:25: FutureWarning: elementwise comparison failed; returning scalar instead, but in the future will perform elementwise comparison\n",
      "  if AHI_data == 'No data':\n"
     ]
    },
    {
     "name": "stdout",
     "output_type": "stream",
     "text": [
      "Angle data read finished\n",
      "Start reading Atmospheric data\n",
      "Atmospheric data read finished\n",
      "Start Calculate SR\n",
      "Calculate SR finished\n",
      "Start Save SR file \n",
      "Save SR file finished\n",
      "delete file finish\n",
      "time: 75.0 secs, 1.3 mins,0.0 hours\n",
      "start processing 201807010430\n",
      "Himawari8/AHI data Processed Finish\n",
      "data reading finish\n",
      "Start reading Angle data\n"
     ]
    },
    {
     "name": "stderr",
     "output_type": "stream",
     "text": [
      "<ipython-input-11-6827ad66794f>:25: FutureWarning: elementwise comparison failed; returning scalar instead, but in the future will perform elementwise comparison\n",
      "  if AHI_data == 'No data':\n"
     ]
    },
    {
     "name": "stdout",
     "output_type": "stream",
     "text": [
      "Angle data read finished\n",
      "Start reading Atmospheric data\n",
      "Atmospheric data read finished\n",
      "Start Calculate SR\n",
      "Calculate SR finished\n",
      "Start Save SR file \n",
      "Save SR file finished\n",
      "delete file finish\n",
      "time: 70.0 secs, 1.2 mins,0.0 hours\n",
      "start processing 201807010440\n",
      "Himawari8/AHI data Processed Finish\n",
      "data reading finish\n",
      "Start reading Angle data\n"
     ]
    },
    {
     "name": "stderr",
     "output_type": "stream",
     "text": [
      "<ipython-input-11-6827ad66794f>:25: FutureWarning: elementwise comparison failed; returning scalar instead, but in the future will perform elementwise comparison\n",
      "  if AHI_data == 'No data':\n"
     ]
    },
    {
     "name": "stdout",
     "output_type": "stream",
     "text": [
      "Angle data read finished\n",
      "Start reading Atmospheric data\n",
      "Atmospheric data read finished\n",
      "Start Calculate SR\n",
      "Calculate SR finished\n",
      "Start Save SR file \n",
      "Save SR file finished\n",
      "delete file finish\n",
      "time: 74.6 secs, 1.2 mins,0.0 hours\n",
      "start processing 201807010450\n",
      "Himawari8/AHI data Processed Finish\n",
      "data reading finish\n",
      "Start reading Angle data\n"
     ]
    },
    {
     "name": "stderr",
     "output_type": "stream",
     "text": [
      "<ipython-input-11-6827ad66794f>:25: FutureWarning: elementwise comparison failed; returning scalar instead, but in the future will perform elementwise comparison\n",
      "  if AHI_data == 'No data':\n"
     ]
    },
    {
     "name": "stdout",
     "output_type": "stream",
     "text": [
      "Angle data read finished\n",
      "Start reading Atmospheric data\n",
      "Atmospheric data read finished\n",
      "Start Calculate SR\n",
      "Calculate SR finished\n",
      "Start Save SR file \n",
      "Save SR file finished\n",
      "delete file finish\n",
      "time: 67.4 secs, 1.1 mins,0.0 hours\n",
      "start processing 201807010500\n",
      "Himawari8/AHI data Processed Finish\n",
      "data reading finish\n",
      "Start reading Angle data\n"
     ]
    },
    {
     "name": "stderr",
     "output_type": "stream",
     "text": [
      "<ipython-input-11-6827ad66794f>:25: FutureWarning: elementwise comparison failed; returning scalar instead, but in the future will perform elementwise comparison\n",
      "  if AHI_data == 'No data':\n"
     ]
    },
    {
     "name": "stdout",
     "output_type": "stream",
     "text": [
      "Angle data read finished\n",
      "Start reading Atmospheric data\n",
      "Atmospheric data read finished\n",
      "Start Calculate SR\n",
      "Calculate SR finished\n",
      "Start Save SR file \n",
      "Save SR file finished\n",
      "delete file finish\n",
      "time: 83.1 secs, 1.4 mins,0.0 hours\n",
      "start processing 201807010510\n",
      "Himawari8/AHI data Processed Finish\n",
      "data reading finish\n",
      "Start reading Angle data\n"
     ]
    },
    {
     "name": "stderr",
     "output_type": "stream",
     "text": [
      "<ipython-input-11-6827ad66794f>:25: FutureWarning: elementwise comparison failed; returning scalar instead, but in the future will perform elementwise comparison\n",
      "  if AHI_data == 'No data':\n"
     ]
    },
    {
     "name": "stdout",
     "output_type": "stream",
     "text": [
      "Angle data read finished\n",
      "Start reading Atmospheric data\n",
      "Atmospheric data read finished\n",
      "Start Calculate SR\n",
      "Calculate SR finished\n",
      "Start Save SR file \n",
      "Save SR file finished\n",
      "delete file finish\n",
      "time: 72.7 secs, 1.2 mins,0.0 hours\n",
      "start processing 201807010520\n",
      "Himawari8/AHI data Processed Finish\n",
      "data reading finish\n",
      "Start reading Angle data\n"
     ]
    },
    {
     "name": "stderr",
     "output_type": "stream",
     "text": [
      "<ipython-input-11-6827ad66794f>:25: FutureWarning: elementwise comparison failed; returning scalar instead, but in the future will perform elementwise comparison\n",
      "  if AHI_data == 'No data':\n"
     ]
    },
    {
     "name": "stdout",
     "output_type": "stream",
     "text": [
      "Angle data read finished\n",
      "Start reading Atmospheric data\n",
      "Atmospheric data read finished\n",
      "Start Calculate SR\n",
      "Calculate SR finished\n",
      "Start Save SR file \n",
      "Save SR file finished\n",
      "delete file finish\n",
      "time: 70.3 secs, 1.2 mins,0.0 hours\n",
      "start processing 201807010530\n",
      "Himawari8/AHI data Processed Finish\n",
      "data reading finish\n",
      "Start reading Angle data\n"
     ]
    },
    {
     "name": "stderr",
     "output_type": "stream",
     "text": [
      "<ipython-input-11-6827ad66794f>:25: FutureWarning: elementwise comparison failed; returning scalar instead, but in the future will perform elementwise comparison\n",
      "  if AHI_data == 'No data':\n"
     ]
    },
    {
     "name": "stdout",
     "output_type": "stream",
     "text": [
      "Angle data read finished\n",
      "Start reading Atmospheric data\n",
      "Atmospheric data read finished\n",
      "Start Calculate SR\n",
      "Calculate SR finished\n",
      "Start Save SR file \n",
      "Save SR file finished\n",
      "delete file finish\n",
      "time: 68.2 secs, 1.1 mins,0.0 hours\n",
      "start processing 201807010540\n",
      "Himawari8/AHI data Processed Finish\n",
      "data reading finish\n",
      "Start reading Angle data\n"
     ]
    },
    {
     "name": "stderr",
     "output_type": "stream",
     "text": [
      "<ipython-input-11-6827ad66794f>:25: FutureWarning: elementwise comparison failed; returning scalar instead, but in the future will perform elementwise comparison\n",
      "  if AHI_data == 'No data':\n"
     ]
    },
    {
     "name": "stdout",
     "output_type": "stream",
     "text": [
      "Angle data read finished\n",
      "Start reading Atmospheric data\n",
      "Atmospheric data read finished\n",
      "Start Calculate SR\n",
      "Calculate SR finished\n",
      "Start Save SR file \n",
      "Save SR file finished\n",
      "delete file finish\n",
      "time: 64.0 secs, 1.1 mins,0.0 hours\n",
      "start processing 201807010550\n",
      "Himawari8/AHI data Processed Finish\n",
      "data reading finish\n",
      "Start reading Angle data\n"
     ]
    },
    {
     "name": "stderr",
     "output_type": "stream",
     "text": [
      "<ipython-input-11-6827ad66794f>:25: FutureWarning: elementwise comparison failed; returning scalar instead, but in the future will perform elementwise comparison\n",
      "  if AHI_data == 'No data':\n"
     ]
    },
    {
     "name": "stdout",
     "output_type": "stream",
     "text": [
      "Angle data read finished\n",
      "Start reading Atmospheric data\n",
      "Atmospheric data read finished\n",
      "Start Calculate SR\n",
      "Calculate SR finished\n",
      "Start Save SR file \n",
      "Save SR file finished\n",
      "delete file finish\n",
      "time: 68.8 secs, 1.1 mins,0.0 hours\n",
      "start processing 201807010600\n",
      "Himawari8/AHI data Processed Finish\n",
      "data reading finish\n",
      "Start reading Angle data\n"
     ]
    },
    {
     "name": "stderr",
     "output_type": "stream",
     "text": [
      "<ipython-input-11-6827ad66794f>:25: FutureWarning: elementwise comparison failed; returning scalar instead, but in the future will perform elementwise comparison\n",
      "  if AHI_data == 'No data':\n"
     ]
    },
    {
     "name": "stdout",
     "output_type": "stream",
     "text": [
      "Angle data read finished\n",
      "Start reading Atmospheric data\n",
      "Atmospheric data read finished\n",
      "Start Calculate SR\n",
      "Calculate SR finished\n",
      "Start Save SR file \n",
      "Save SR file finished\n",
      "delete file finish\n",
      "time: 68.6 secs, 1.1 mins,0.0 hours\n",
      "start processing 201807010610\n",
      "Himawari8/AHI data Processed Finish\n",
      "data reading finish\n",
      "Start reading Angle data\n"
     ]
    },
    {
     "name": "stderr",
     "output_type": "stream",
     "text": [
      "<ipython-input-11-6827ad66794f>:25: FutureWarning: elementwise comparison failed; returning scalar instead, but in the future will perform elementwise comparison\n",
      "  if AHI_data == 'No data':\n"
     ]
    },
    {
     "name": "stdout",
     "output_type": "stream",
     "text": [
      "Angle data read finished\n",
      "Start reading Atmospheric data\n",
      "Atmospheric data read finished\n",
      "Start Calculate SR\n",
      "Calculate SR finished\n",
      "Start Save SR file \n",
      "Save SR file finished\n",
      "delete file finish\n",
      "time: 66.8 secs, 1.1 mins,0.0 hours\n",
      "start processing 201807010620\n",
      "Himawari8/AHI data Processed Finish\n",
      "data reading finish\n",
      "Start reading Angle data\n"
     ]
    },
    {
     "name": "stderr",
     "output_type": "stream",
     "text": [
      "<ipython-input-11-6827ad66794f>:25: FutureWarning: elementwise comparison failed; returning scalar instead, but in the future will perform elementwise comparison\n",
      "  if AHI_data == 'No data':\n"
     ]
    },
    {
     "name": "stdout",
     "output_type": "stream",
     "text": [
      "Angle data read finished\n",
      "Start reading Atmospheric data\n",
      "Atmospheric data read finished\n",
      "Start Calculate SR\n",
      "Calculate SR finished\n",
      "Start Save SR file \n",
      "Save SR file finished\n",
      "delete file finish\n",
      "time: 75.5 secs, 1.3 mins,0.0 hours\n",
      "start processing 201807010630\n",
      "Himawari8/AHI data Processed Finish\n",
      "data reading finish\n",
      "Start reading Angle data\n"
     ]
    },
    {
     "name": "stderr",
     "output_type": "stream",
     "text": [
      "<ipython-input-11-6827ad66794f>:25: FutureWarning: elementwise comparison failed; returning scalar instead, but in the future will perform elementwise comparison\n",
      "  if AHI_data == 'No data':\n"
     ]
    },
    {
     "name": "stdout",
     "output_type": "stream",
     "text": [
      "Angle data read finished\n",
      "Start reading Atmospheric data\n",
      "Atmospheric data read finished\n",
      "Start Calculate SR\n",
      "Calculate SR finished\n",
      "Start Save SR file \n",
      "Save SR file finished\n",
      "delete file finish\n",
      "time: 61.6 secs, 1.0 mins,0.0 hours\n",
      "start processing 201807010640\n",
      "Himawari8/AHI data Processed Finish\n",
      "data reading finish\n",
      "Start reading Angle data\n"
     ]
    },
    {
     "name": "stderr",
     "output_type": "stream",
     "text": [
      "<ipython-input-11-6827ad66794f>:25: FutureWarning: elementwise comparison failed; returning scalar instead, but in the future will perform elementwise comparison\n",
      "  if AHI_data == 'No data':\n"
     ]
    },
    {
     "name": "stdout",
     "output_type": "stream",
     "text": [
      "Angle data read finished\n",
      "Start reading Atmospheric data\n",
      "Atmospheric data read finished\n",
      "Start Calculate SR\n",
      "Calculate SR finished\n",
      "Start Save SR file \n",
      "Save SR file finished\n",
      "delete file finish\n",
      "time: 63.4 secs, 1.1 mins,0.0 hours\n",
      "start processing 201807010650\n",
      "Himawari8/AHI data Processed Finish\n",
      "data reading finish\n",
      "Start reading Angle data\n"
     ]
    },
    {
     "name": "stderr",
     "output_type": "stream",
     "text": [
      "<ipython-input-11-6827ad66794f>:25: FutureWarning: elementwise comparison failed; returning scalar instead, but in the future will perform elementwise comparison\n",
      "  if AHI_data == 'No data':\n"
     ]
    },
    {
     "name": "stdout",
     "output_type": "stream",
     "text": [
      "Angle data read finished\n",
      "Start reading Atmospheric data\n",
      "Atmospheric data read finished\n",
      "Start Calculate SR\n",
      "Calculate SR finished\n",
      "Start Save SR file \n",
      "Save SR file finished\n",
      "delete file finish\n",
      "time: 65.5 secs, 1.1 mins,0.0 hours\n",
      "start processing 201807010700\n",
      "Himawari8/AHI data Processed Finish\n",
      "data reading finish\n",
      "Start reading Angle data\n"
     ]
    },
    {
     "name": "stderr",
     "output_type": "stream",
     "text": [
      "<ipython-input-11-6827ad66794f>:25: FutureWarning: elementwise comparison failed; returning scalar instead, but in the future will perform elementwise comparison\n",
      "  if AHI_data == 'No data':\n"
     ]
    },
    {
     "name": "stdout",
     "output_type": "stream",
     "text": [
      "Angle data read finished\n",
      "Start reading Atmospheric data\n",
      "Atmospheric data read finished\n",
      "Start Calculate SR\n",
      "Calculate SR finished\n",
      "Start Save SR file \n",
      "Save SR file finished\n",
      "delete file finish\n",
      "time: 60.9 secs, 1.0 mins,0.0 hours\n",
      "start processing 201807010710\n",
      "Himawari8/AHI data Processed Finish\n",
      "data reading finish\n",
      "Start reading Angle data\n"
     ]
    },
    {
     "name": "stderr",
     "output_type": "stream",
     "text": [
      "<ipython-input-11-6827ad66794f>:25: FutureWarning: elementwise comparison failed; returning scalar instead, but in the future will perform elementwise comparison\n",
      "  if AHI_data == 'No data':\n"
     ]
    },
    {
     "name": "stdout",
     "output_type": "stream",
     "text": [
      "Angle data read finished\n",
      "Start reading Atmospheric data\n",
      "Atmospheric data read finished\n",
      "Start Calculate SR\n",
      "Calculate SR finished\n",
      "Start Save SR file \n",
      "Save SR file finished\n",
      "delete file finish\n",
      "time: 60.6 secs, 1.0 mins,0.0 hours\n",
      "start processing 201807010720\n",
      "Himawari8/AHI data Processed Finish\n",
      "data reading finish\n",
      "Start reading Angle data\n"
     ]
    },
    {
     "name": "stderr",
     "output_type": "stream",
     "text": [
      "<ipython-input-11-6827ad66794f>:25: FutureWarning: elementwise comparison failed; returning scalar instead, but in the future will perform elementwise comparison\n",
      "  if AHI_data == 'No data':\n"
     ]
    },
    {
     "name": "stdout",
     "output_type": "stream",
     "text": [
      "Angle data read finished\n",
      "Start reading Atmospheric data\n",
      "Atmospheric data read finished\n",
      "Start Calculate SR\n",
      "Calculate SR finished\n",
      "Start Save SR file \n",
      "Save SR file finished\n",
      "delete file finish\n",
      "time: 61.8 secs, 1.0 mins,0.0 hours\n",
      "start processing 201807010730\n",
      "Himawari8/AHI data Processed Finish\n",
      "data reading finish\n",
      "Start reading Angle data\n"
     ]
    },
    {
     "name": "stderr",
     "output_type": "stream",
     "text": [
      "<ipython-input-11-6827ad66794f>:25: FutureWarning: elementwise comparison failed; returning scalar instead, but in the future will perform elementwise comparison\n",
      "  if AHI_data == 'No data':\n"
     ]
    },
    {
     "name": "stdout",
     "output_type": "stream",
     "text": [
      "Angle data read finished\n",
      "Start reading Atmospheric data\n",
      "Atmospheric data read finished\n",
      "Start Calculate SR\n",
      "Calculate SR finished\n",
      "Start Save SR file \n",
      "Save SR file finished\n",
      "delete file finish\n",
      "time: 78.6 secs, 1.3 mins,0.0 hours\n",
      "start processing 201807010740\n",
      "Himawari8/AHI data Processed Finish\n",
      "data reading finish\n",
      "Start reading Angle data\n"
     ]
    },
    {
     "name": "stderr",
     "output_type": "stream",
     "text": [
      "<ipython-input-11-6827ad66794f>:25: FutureWarning: elementwise comparison failed; returning scalar instead, but in the future will perform elementwise comparison\n",
      "  if AHI_data == 'No data':\n"
     ]
    },
    {
     "name": "stdout",
     "output_type": "stream",
     "text": [
      "Angle data read finished\n",
      "Start reading Atmospheric data\n",
      "Atmospheric data read finished\n",
      "Start Calculate SR\n",
      "Calculate SR finished\n",
      "Start Save SR file \n",
      "Save SR file finished\n",
      "delete file finish\n",
      "time: 64.8 secs, 1.1 mins,0.0 hours\n",
      "start processing 201807010750\n",
      "Himawari8/AHI data Processed Finish\n",
      "data reading finish\n",
      "Start reading Angle data\n"
     ]
    },
    {
     "name": "stderr",
     "output_type": "stream",
     "text": [
      "<ipython-input-11-6827ad66794f>:25: FutureWarning: elementwise comparison failed; returning scalar instead, but in the future will perform elementwise comparison\n",
      "  if AHI_data == 'No data':\n"
     ]
    },
    {
     "name": "stdout",
     "output_type": "stream",
     "text": [
      "Angle data read finished\n",
      "Start reading Atmospheric data\n",
      "Atmospheric data read finished\n",
      "Start Calculate SR\n",
      "Calculate SR finished\n",
      "Start Save SR file \n",
      "Save SR file finished\n",
      "delete file finish\n",
      "time: 75.2 secs, 1.3 mins,0.0 hours\n",
      "start processing 201807010800\n",
      "Himawari8/AHI data Processed Finish\n",
      "data reading finish\n",
      "Start reading Angle data\n"
     ]
    },
    {
     "name": "stderr",
     "output_type": "stream",
     "text": [
      "<ipython-input-11-6827ad66794f>:25: FutureWarning: elementwise comparison failed; returning scalar instead, but in the future will perform elementwise comparison\n",
      "  if AHI_data == 'No data':\n"
     ]
    },
    {
     "name": "stdout",
     "output_type": "stream",
     "text": [
      "Angle data read finished\n",
      "Start reading Atmospheric data\n",
      "Atmospheric data read finished\n",
      "Start Calculate SR\n",
      "Calculate SR finished\n",
      "Start Save SR file \n",
      "Save SR file finished\n",
      "delete file finish\n",
      "time: 66.5 secs, 1.1 mins,0.0 hours\n",
      "start processing 201807010810\n",
      "Himawari8/AHI data Processed Finish\n",
      "data reading finish\n",
      "Start reading Angle data\n"
     ]
    },
    {
     "name": "stderr",
     "output_type": "stream",
     "text": [
      "<ipython-input-11-6827ad66794f>:25: FutureWarning: elementwise comparison failed; returning scalar instead, but in the future will perform elementwise comparison\n",
      "  if AHI_data == 'No data':\n"
     ]
    },
    {
     "name": "stdout",
     "output_type": "stream",
     "text": [
      "Angle data read finished\n",
      "Start reading Atmospheric data\n",
      "Atmospheric data read finished\n",
      "Start Calculate SR\n",
      "Calculate SR finished\n",
      "Start Save SR file \n",
      "Save SR file finished\n",
      "delete file finish\n",
      "time: 75.3 secs, 1.3 mins,0.0 hours\n",
      "start processing 201807010820\n",
      "Himawari8/AHI data Processed Finish\n",
      "data reading finish\n",
      "Start reading Angle data\n"
     ]
    },
    {
     "name": "stderr",
     "output_type": "stream",
     "text": [
      "<ipython-input-11-6827ad66794f>:25: FutureWarning: elementwise comparison failed; returning scalar instead, but in the future will perform elementwise comparison\n",
      "  if AHI_data == 'No data':\n"
     ]
    },
    {
     "name": "stdout",
     "output_type": "stream",
     "text": [
      "Angle data read finished\n",
      "Start reading Atmospheric data\n",
      "Atmospheric data read finished\n",
      "Start Calculate SR\n",
      "Calculate SR finished\n",
      "Start Save SR file \n",
      "Save SR file finished\n",
      "delete file finish\n",
      "time: 71.9 secs, 1.2 mins,0.0 hours\n",
      "start processing 201807010830\n",
      "Himawari8/AHI data Processed Finish\n",
      "data reading finish\n",
      "Start reading Angle data\n"
     ]
    },
    {
     "name": "stderr",
     "output_type": "stream",
     "text": [
      "<ipython-input-11-6827ad66794f>:25: FutureWarning: elementwise comparison failed; returning scalar instead, but in the future will perform elementwise comparison\n",
      "  if AHI_data == 'No data':\n"
     ]
    },
    {
     "name": "stdout",
     "output_type": "stream",
     "text": [
      "Angle data read finished\n",
      "Start reading Atmospheric data\n",
      "Atmospheric data read finished\n",
      "Start Calculate SR\n",
      "Calculate SR finished\n",
      "Start Save SR file \n",
      "Save SR file finished\n",
      "delete file finish\n",
      "time: 67.4 secs, 1.1 mins,0.0 hours\n",
      "start processing 201807010840\n",
      "Himawari8/AHI data Processed Finish\n",
      "data reading finish\n",
      "Start reading Angle data\n"
     ]
    },
    {
     "name": "stderr",
     "output_type": "stream",
     "text": [
      "<ipython-input-11-6827ad66794f>:25: FutureWarning: elementwise comparison failed; returning scalar instead, but in the future will perform elementwise comparison\n",
      "  if AHI_data == 'No data':\n"
     ]
    },
    {
     "name": "stdout",
     "output_type": "stream",
     "text": [
      "Angle data read finished\n",
      "Start reading Atmospheric data\n",
      "Atmospheric data read finished\n",
      "Start Calculate SR\n",
      "Calculate SR finished\n",
      "Start Save SR file \n",
      "Save SR file finished\n",
      "delete file finish\n",
      "time: 67.8 secs, 1.1 mins,0.0 hours\n",
      "start processing 201807010850\n",
      "Himawari8/AHI data Processed Finish\n",
      "data reading finish\n",
      "Start reading Angle data\n"
     ]
    },
    {
     "name": "stderr",
     "output_type": "stream",
     "text": [
      "<ipython-input-11-6827ad66794f>:25: FutureWarning: elementwise comparison failed; returning scalar instead, but in the future will perform elementwise comparison\n",
      "  if AHI_data == 'No data':\n"
     ]
    },
    {
     "name": "stdout",
     "output_type": "stream",
     "text": [
      "Angle data read finished\n",
      "Start reading Atmospheric data\n",
      "Atmospheric data read finished\n",
      "Start Calculate SR\n",
      "Calculate SR finished\n",
      "Start Save SR file \n",
      "Save SR file finished\n",
      "delete file finish\n",
      "time: 81.2 secs, 1.4 mins,0.0 hours\n",
      "start processing 201807010900\n",
      "Himawari8/AHI data Processed Finish\n",
      "data reading finish\n",
      "Start reading Angle data\n"
     ]
    },
    {
     "name": "stderr",
     "output_type": "stream",
     "text": [
      "<ipython-input-11-6827ad66794f>:25: FutureWarning: elementwise comparison failed; returning scalar instead, but in the future will perform elementwise comparison\n",
      "  if AHI_data == 'No data':\n"
     ]
    },
    {
     "name": "stdout",
     "output_type": "stream",
     "text": [
      "Angle data read finished\n",
      "Start reading Atmospheric data\n",
      "Atmospheric data read finished\n",
      "Start Calculate SR\n",
      "Calculate SR finished\n",
      "Start Save SR file \n",
      "Save SR file finished\n",
      "delete file finish\n",
      "time: 70.8 secs, 1.2 mins,0.0 hours\n",
      "start processing 201807020000\n",
      "Himawari8/AHI data Processed Finish\n",
      "data reading finish\n",
      "Start reading Angle data\n"
     ]
    },
    {
     "name": "stderr",
     "output_type": "stream",
     "text": [
      "<ipython-input-11-6827ad66794f>:25: FutureWarning: elementwise comparison failed; returning scalar instead, but in the future will perform elementwise comparison\n",
      "  if AHI_data == 'No data':\n"
     ]
    },
    {
     "name": "stdout",
     "output_type": "stream",
     "text": [
      "Angle data read finished\n",
      "Start reading Atmospheric data\n",
      "Atmospheric data read finished\n",
      "Start Calculate SR\n",
      "Calculate SR finished\n",
      "Start Save SR file \n",
      "Save SR file finished\n",
      "delete file finish\n",
      "time: 66.9 secs, 1.1 mins,0.0 hours\n",
      "start processing 201807020010\n",
      "Himawari8/AHI data Processed Finish\n",
      "data reading finish\n",
      "Start reading Angle data\n"
     ]
    },
    {
     "name": "stderr",
     "output_type": "stream",
     "text": [
      "<ipython-input-11-6827ad66794f>:25: FutureWarning: elementwise comparison failed; returning scalar instead, but in the future will perform elementwise comparison\n",
      "  if AHI_data == 'No data':\n"
     ]
    },
    {
     "name": "stdout",
     "output_type": "stream",
     "text": [
      "Angle data read finished\n",
      "Start reading Atmospheric data\n",
      "Atmospheric data read finished\n",
      "Start Calculate SR\n",
      "Calculate SR finished\n",
      "Start Save SR file \n",
      "Save SR file finished\n",
      "delete file finish\n",
      "time: 72.0 secs, 1.2 mins,0.0 hours\n",
      "start processing 201807020020\n",
      "Himawari8/AHI data Processed Finish\n",
      "data reading finish\n",
      "Start reading Angle data\n"
     ]
    },
    {
     "name": "stderr",
     "output_type": "stream",
     "text": [
      "<ipython-input-11-6827ad66794f>:25: FutureWarning: elementwise comparison failed; returning scalar instead, but in the future will perform elementwise comparison\n",
      "  if AHI_data == 'No data':\n"
     ]
    },
    {
     "name": "stdout",
     "output_type": "stream",
     "text": [
      "Angle data read finished\n",
      "Start reading Atmospheric data\n",
      "Atmospheric data read finished\n",
      "Start Calculate SR\n",
      "Calculate SR finished\n",
      "Start Save SR file \n",
      "Save SR file finished\n",
      "delete file finish\n",
      "time: 71.4 secs, 1.2 mins,0.0 hours\n",
      "start processing 201807020030\n",
      "Himawari8/AHI data Processed Finish\n",
      "data reading finish\n",
      "Start reading Angle data\n"
     ]
    },
    {
     "name": "stderr",
     "output_type": "stream",
     "text": [
      "<ipython-input-11-6827ad66794f>:25: FutureWarning: elementwise comparison failed; returning scalar instead, but in the future will perform elementwise comparison\n",
      "  if AHI_data == 'No data':\n"
     ]
    },
    {
     "name": "stdout",
     "output_type": "stream",
     "text": [
      "Angle data read finished\n",
      "Start reading Atmospheric data\n",
      "Atmospheric data read finished\n",
      "Start Calculate SR\n",
      "Calculate SR finished\n",
      "Start Save SR file \n",
      "Save SR file finished\n",
      "delete file finish\n",
      "time: 67.9 secs, 1.1 mins,0.0 hours\n",
      "start processing 201807020040\n",
      "Himawari8/AHI data Processed Finish\n",
      "data reading finish\n",
      "Start reading Angle data\n"
     ]
    },
    {
     "name": "stderr",
     "output_type": "stream",
     "text": [
      "<ipython-input-11-6827ad66794f>:25: FutureWarning: elementwise comparison failed; returning scalar instead, but in the future will perform elementwise comparison\n",
      "  if AHI_data == 'No data':\n"
     ]
    },
    {
     "name": "stdout",
     "output_type": "stream",
     "text": [
      "Angle data read finished\n",
      "Start reading Atmospheric data\n",
      "Atmospheric data read finished\n",
      "Start Calculate SR\n",
      "Calculate SR finished\n",
      "Start Save SR file \n",
      "Save SR file finished\n",
      "delete file finish\n",
      "time: 66.9 secs, 1.1 mins,0.0 hours\n",
      "start processing 201807020050\n",
      "Himawari8/AHI data Processed Finish\n",
      "data reading finish\n",
      "Start reading Angle data\n"
     ]
    },
    {
     "name": "stderr",
     "output_type": "stream",
     "text": [
      "<ipython-input-11-6827ad66794f>:25: FutureWarning: elementwise comparison failed; returning scalar instead, but in the future will perform elementwise comparison\n",
      "  if AHI_data == 'No data':\n"
     ]
    },
    {
     "name": "stdout",
     "output_type": "stream",
     "text": [
      "Angle data read finished\n",
      "Start reading Atmospheric data\n",
      "Atmospheric data read finished\n",
      "Start Calculate SR\n",
      "Calculate SR finished\n",
      "Start Save SR file \n",
      "Save SR file finished\n",
      "delete file finish\n",
      "time: 82.4 secs, 1.4 mins,0.0 hours\n",
      "start processing 201807020100\n",
      "Himawari8/AHI data Processed Finish\n",
      "data reading finish\n",
      "Start reading Angle data\n"
     ]
    },
    {
     "name": "stderr",
     "output_type": "stream",
     "text": [
      "<ipython-input-11-6827ad66794f>:25: FutureWarning: elementwise comparison failed; returning scalar instead, but in the future will perform elementwise comparison\n",
      "  if AHI_data == 'No data':\n"
     ]
    },
    {
     "name": "stdout",
     "output_type": "stream",
     "text": [
      "Angle data read finished\n",
      "Start reading Atmospheric data\n",
      "Atmospheric data read finished\n",
      "Start Calculate SR\n",
      "Calculate SR finished\n",
      "Start Save SR file \n",
      "Save SR file finished\n",
      "delete file finish\n",
      "time: 67.0 secs, 1.1 mins,0.0 hours\n",
      "start processing 201807020110\n",
      "Himawari8/AHI data Processed Finish\n",
      "data reading finish\n",
      "Start reading Angle data\n"
     ]
    },
    {
     "name": "stderr",
     "output_type": "stream",
     "text": [
      "<ipython-input-11-6827ad66794f>:25: FutureWarning: elementwise comparison failed; returning scalar instead, but in the future will perform elementwise comparison\n",
      "  if AHI_data == 'No data':\n"
     ]
    },
    {
     "name": "stdout",
     "output_type": "stream",
     "text": [
      "Angle data read finished\n",
      "Start reading Atmospheric data\n",
      "Atmospheric data read finished\n",
      "Start Calculate SR\n",
      "Calculate SR finished\n",
      "Start Save SR file \n",
      "Save SR file finished\n",
      "delete file finish\n",
      "time: 65.3 secs, 1.1 mins,0.0 hours\n",
      "start processing 201807020120\n",
      "Himawari8/AHI data Processed Finish\n",
      "data reading finish\n",
      "Start reading Angle data\n"
     ]
    },
    {
     "name": "stderr",
     "output_type": "stream",
     "text": [
      "<ipython-input-11-6827ad66794f>:25: FutureWarning: elementwise comparison failed; returning scalar instead, but in the future will perform elementwise comparison\n",
      "  if AHI_data == 'No data':\n"
     ]
    },
    {
     "name": "stdout",
     "output_type": "stream",
     "text": [
      "Angle data read finished\n",
      "Start reading Atmospheric data\n",
      "Atmospheric data read finished\n",
      "Start Calculate SR\n",
      "Calculate SR finished\n",
      "Start Save SR file \n",
      "Save SR file finished\n",
      "delete file finish\n",
      "time: 62.0 secs, 1.0 mins,0.0 hours\n",
      "start processing 201807020130\n",
      "Himawari8/AHI data Processed Finish\n",
      "data reading finish\n",
      "Start reading Angle data\n"
     ]
    },
    {
     "name": "stderr",
     "output_type": "stream",
     "text": [
      "<ipython-input-11-6827ad66794f>:25: FutureWarning: elementwise comparison failed; returning scalar instead, but in the future will perform elementwise comparison\n",
      "  if AHI_data == 'No data':\n"
     ]
    },
    {
     "name": "stdout",
     "output_type": "stream",
     "text": [
      "Angle data read finished\n",
      "Start reading Atmospheric data\n",
      "Atmospheric data read finished\n",
      "Start Calculate SR\n",
      "Calculate SR finished\n",
      "Start Save SR file \n",
      "Save SR file finished\n",
      "delete file finish\n",
      "time: 62.3 secs, 1.0 mins,0.0 hours\n",
      "start processing 201807020140\n",
      "Himawari8/AHI data Processed Finish\n",
      "data reading finish\n",
      "Start reading Angle data\n"
     ]
    },
    {
     "name": "stderr",
     "output_type": "stream",
     "text": [
      "<ipython-input-11-6827ad66794f>:25: FutureWarning: elementwise comparison failed; returning scalar instead, but in the future will perform elementwise comparison\n",
      "  if AHI_data == 'No data':\n"
     ]
    },
    {
     "name": "stdout",
     "output_type": "stream",
     "text": [
      "Angle data read finished\n",
      "Start reading Atmospheric data\n",
      "Atmospheric data read finished\n",
      "Start Calculate SR\n",
      "Calculate SR finished\n",
      "Start Save SR file \n",
      "Save SR file finished\n",
      "delete file finish\n",
      "time: 65.3 secs, 1.1 mins,0.0 hours\n",
      "start processing 201807020150\n",
      "Himawari8/AHI data Processed Finish\n",
      "data reading finish\n",
      "Start reading Angle data\n"
     ]
    },
    {
     "name": "stderr",
     "output_type": "stream",
     "text": [
      "<ipython-input-11-6827ad66794f>:25: FutureWarning: elementwise comparison failed; returning scalar instead, but in the future will perform elementwise comparison\n",
      "  if AHI_data == 'No data':\n"
     ]
    },
    {
     "name": "stdout",
     "output_type": "stream",
     "text": [
      "Angle data read finished\n",
      "Start reading Atmospheric data\n",
      "Atmospheric data read finished\n",
      "Start Calculate SR\n",
      "Calculate SR finished\n",
      "Start Save SR file \n",
      "Save SR file finished\n",
      "delete file finish\n",
      "time: 62.6 secs, 1.0 mins,0.0 hours\n",
      "start processing 201807020200\n",
      "Himawari8/AHI data Processed Finish\n",
      "data reading finish\n",
      "Start reading Angle data\n"
     ]
    },
    {
     "name": "stderr",
     "output_type": "stream",
     "text": [
      "<ipython-input-11-6827ad66794f>:25: FutureWarning: elementwise comparison failed; returning scalar instead, but in the future will perform elementwise comparison\n",
      "  if AHI_data == 'No data':\n"
     ]
    },
    {
     "name": "stdout",
     "output_type": "stream",
     "text": [
      "Angle data read finished\n",
      "Start reading Atmospheric data\n",
      "Atmospheric data read finished\n",
      "Start Calculate SR\n",
      "Calculate SR finished\n",
      "Start Save SR file \n",
      "Save SR file finished\n",
      "delete file finish\n",
      "time: 73.2 secs, 1.2 mins,0.0 hours\n",
      "start processing 201807020210\n",
      "Himawari8/AHI data Processed Finish\n",
      "data reading finish\n",
      "Start reading Angle data\n"
     ]
    },
    {
     "name": "stderr",
     "output_type": "stream",
     "text": [
      "<ipython-input-11-6827ad66794f>:25: FutureWarning: elementwise comparison failed; returning scalar instead, but in the future will perform elementwise comparison\n",
      "  if AHI_data == 'No data':\n"
     ]
    },
    {
     "name": "stdout",
     "output_type": "stream",
     "text": [
      "Angle data read finished\n",
      "Start reading Atmospheric data\n",
      "Atmospheric data read finished\n",
      "Start Calculate SR\n",
      "Calculate SR finished\n",
      "Start Save SR file \n",
      "Save SR file finished\n",
      "delete file finish\n",
      "time: 70.9 secs, 1.2 mins,0.0 hours\n",
      "start processing 201807020220\n",
      "Himawari8/AHI data Processed Finish\n",
      "data reading finish\n",
      "Start reading Angle data\n"
     ]
    },
    {
     "name": "stderr",
     "output_type": "stream",
     "text": [
      "<ipython-input-11-6827ad66794f>:25: FutureWarning: elementwise comparison failed; returning scalar instead, but in the future will perform elementwise comparison\n",
      "  if AHI_data == 'No data':\n"
     ]
    },
    {
     "name": "stdout",
     "output_type": "stream",
     "text": [
      "Angle data read finished\n",
      "Start reading Atmospheric data\n",
      "Atmospheric data read finished\n",
      "Start Calculate SR\n",
      "Calculate SR finished\n",
      "Start Save SR file \n",
      "Save SR file finished\n",
      "delete file finish\n",
      "time: 68.8 secs, 1.1 mins,0.0 hours\n",
      "start processing 201807020230\n",
      "Himawari8/AHI data Processed Finish\n",
      "data reading finish\n",
      "Start reading Angle data\n"
     ]
    },
    {
     "name": "stderr",
     "output_type": "stream",
     "text": [
      "<ipython-input-11-6827ad66794f>:25: FutureWarning: elementwise comparison failed; returning scalar instead, but in the future will perform elementwise comparison\n",
      "  if AHI_data == 'No data':\n"
     ]
    },
    {
     "name": "stdout",
     "output_type": "stream",
     "text": [
      "Angle data read finished\n",
      "Start reading Atmospheric data\n",
      "Atmospheric data read finished\n",
      "Start Calculate SR\n",
      "Calculate SR finished\n",
      "Start Save SR file \n",
      "Save SR file finished\n",
      "delete file finish\n",
      "time: 74.8 secs, 1.2 mins,0.0 hours\n",
      "start processing 201807020240\n",
      "File Not Found\n",
      "start processing 201807020250\n",
      "Himawari8/AHI data Processed Finish\n",
      "data reading finish\n",
      "Start reading Angle data\n"
     ]
    },
    {
     "name": "stderr",
     "output_type": "stream",
     "text": [
      "<ipython-input-11-6827ad66794f>:25: FutureWarning: elementwise comparison failed; returning scalar instead, but in the future will perform elementwise comparison\n",
      "  if AHI_data == 'No data':\n"
     ]
    },
    {
     "name": "stdout",
     "output_type": "stream",
     "text": [
      "Angle data read finished\n",
      "Start reading Atmospheric data\n",
      "Atmospheric data read finished\n",
      "Start Calculate SR\n",
      "Calculate SR finished\n",
      "Start Save SR file \n",
      "Save SR file finished\n",
      "delete file finish\n",
      "time: 69.9 secs, 1.2 mins,0.0 hours\n",
      "start processing 201807020300\n",
      "Himawari8/AHI data Processed Finish\n",
      "data reading finish\n",
      "Start reading Angle data\n"
     ]
    },
    {
     "name": "stderr",
     "output_type": "stream",
     "text": [
      "<ipython-input-11-6827ad66794f>:25: FutureWarning: elementwise comparison failed; returning scalar instead, but in the future will perform elementwise comparison\n",
      "  if AHI_data == 'No data':\n"
     ]
    },
    {
     "name": "stdout",
     "output_type": "stream",
     "text": [
      "Angle data read finished\n",
      "Start reading Atmospheric data\n",
      "Atmospheric data read finished\n",
      "Start Calculate SR\n",
      "Calculate SR finished\n",
      "Start Save SR file \n",
      "Save SR file finished\n",
      "delete file finish\n",
      "time: 70.0 secs, 1.2 mins,0.0 hours\n",
      "start processing 201807020310\n",
      "Himawari8/AHI data Processed Finish\n",
      "data reading finish\n",
      "Start reading Angle data\n"
     ]
    },
    {
     "name": "stderr",
     "output_type": "stream",
     "text": [
      "<ipython-input-11-6827ad66794f>:25: FutureWarning: elementwise comparison failed; returning scalar instead, but in the future will perform elementwise comparison\n",
      "  if AHI_data == 'No data':\n"
     ]
    },
    {
     "name": "stdout",
     "output_type": "stream",
     "text": [
      "Angle data read finished\n",
      "Start reading Atmospheric data\n",
      "Atmospheric data read finished\n",
      "Start Calculate SR\n",
      "Calculate SR finished\n",
      "Start Save SR file \n",
      "Save SR file finished\n",
      "delete file finish\n",
      "time: 73.9 secs, 1.2 mins,0.0 hours\n",
      "start processing 201807020320\n",
      "Himawari8/AHI data Processed Finish\n",
      "data reading finish\n",
      "Start reading Angle data\n"
     ]
    },
    {
     "name": "stderr",
     "output_type": "stream",
     "text": [
      "<ipython-input-11-6827ad66794f>:25: FutureWarning: elementwise comparison failed; returning scalar instead, but in the future will perform elementwise comparison\n",
      "  if AHI_data == 'No data':\n"
     ]
    },
    {
     "name": "stdout",
     "output_type": "stream",
     "text": [
      "Angle data read finished\n",
      "Start reading Atmospheric data\n",
      "Atmospheric data read finished\n",
      "Start Calculate SR\n",
      "Calculate SR finished\n",
      "Start Save SR file \n",
      "Save SR file finished\n",
      "delete file finish\n",
      "time: 85.6 secs, 1.4 mins,0.0 hours\n",
      "start processing 201807020330\n",
      "Himawari8/AHI data Processed Finish\n",
      "data reading finish\n",
      "Start reading Angle data\n"
     ]
    },
    {
     "name": "stderr",
     "output_type": "stream",
     "text": [
      "<ipython-input-11-6827ad66794f>:25: FutureWarning: elementwise comparison failed; returning scalar instead, but in the future will perform elementwise comparison\n",
      "  if AHI_data == 'No data':\n"
     ]
    },
    {
     "name": "stdout",
     "output_type": "stream",
     "text": [
      "Angle data read finished\n",
      "Start reading Atmospheric data\n",
      "Atmospheric data read finished\n",
      "Start Calculate SR\n",
      "Calculate SR finished\n",
      "Start Save SR file \n",
      "Save SR file finished\n",
      "delete file finish\n",
      "time: 73.1 secs, 1.2 mins,0.0 hours\n",
      "start processing 201807020340\n",
      "Himawari8/AHI data Processed Finish\n",
      "data reading finish\n",
      "Start reading Angle data\n"
     ]
    },
    {
     "name": "stderr",
     "output_type": "stream",
     "text": [
      "<ipython-input-11-6827ad66794f>:25: FutureWarning: elementwise comparison failed; returning scalar instead, but in the future will perform elementwise comparison\n",
      "  if AHI_data == 'No data':\n"
     ]
    },
    {
     "name": "stdout",
     "output_type": "stream",
     "text": [
      "Angle data read finished\n",
      "Start reading Atmospheric data\n",
      "Atmospheric data read finished\n",
      "Start Calculate SR\n",
      "Calculate SR finished\n",
      "Start Save SR file \n",
      "Save SR file finished\n",
      "delete file finish\n",
      "time: 71.8 secs, 1.2 mins,0.0 hours\n",
      "start processing 201807020350\n",
      "Himawari8/AHI data Processed Finish\n",
      "data reading finish\n",
      "Start reading Angle data\n"
     ]
    },
    {
     "name": "stderr",
     "output_type": "stream",
     "text": [
      "<ipython-input-11-6827ad66794f>:25: FutureWarning: elementwise comparison failed; returning scalar instead, but in the future will perform elementwise comparison\n",
      "  if AHI_data == 'No data':\n"
     ]
    },
    {
     "name": "stdout",
     "output_type": "stream",
     "text": [
      "Angle data read finished\n",
      "Start reading Atmospheric data\n",
      "Atmospheric data read finished\n",
      "Start Calculate SR\n",
      "Calculate SR finished\n",
      "Start Save SR file \n",
      "Save SR file finished\n",
      "delete file finish\n",
      "time: 81.2 secs, 1.4 mins,0.0 hours\n",
      "start processing 201807020400\n",
      "Himawari8/AHI data Processed Finish\n",
      "data reading finish\n",
      "Start reading Angle data\n"
     ]
    },
    {
     "name": "stderr",
     "output_type": "stream",
     "text": [
      "<ipython-input-11-6827ad66794f>:25: FutureWarning: elementwise comparison failed; returning scalar instead, but in the future will perform elementwise comparison\n",
      "  if AHI_data == 'No data':\n"
     ]
    },
    {
     "name": "stdout",
     "output_type": "stream",
     "text": [
      "Angle data read finished\n",
      "Start reading Atmospheric data\n",
      "Atmospheric data read finished\n",
      "Start Calculate SR\n",
      "Calculate SR finished\n",
      "Start Save SR file \n",
      "Save SR file finished\n",
      "delete file finish\n",
      "time: 86.0 secs, 1.4 mins,0.0 hours\n",
      "start processing 201807020410\n",
      "Himawari8/AHI data Processed Finish\n",
      "data reading finish\n",
      "Start reading Angle data\n"
     ]
    },
    {
     "name": "stderr",
     "output_type": "stream",
     "text": [
      "<ipython-input-11-6827ad66794f>:25: FutureWarning: elementwise comparison failed; returning scalar instead, but in the future will perform elementwise comparison\n",
      "  if AHI_data == 'No data':\n"
     ]
    },
    {
     "name": "stdout",
     "output_type": "stream",
     "text": [
      "Angle data read finished\n",
      "Start reading Atmospheric data\n",
      "Atmospheric data read finished\n",
      "Start Calculate SR\n",
      "Calculate SR finished\n",
      "Start Save SR file \n",
      "Save SR file finished\n",
      "delete file finish\n",
      "time: 66.6 secs, 1.1 mins,0.0 hours\n",
      "start processing 201807020420\n",
      "Himawari8/AHI data Processed Finish\n",
      "data reading finish\n",
      "Start reading Angle data\n"
     ]
    },
    {
     "name": "stderr",
     "output_type": "stream",
     "text": [
      "<ipython-input-11-6827ad66794f>:25: FutureWarning: elementwise comparison failed; returning scalar instead, but in the future will perform elementwise comparison\n",
      "  if AHI_data == 'No data':\n"
     ]
    },
    {
     "name": "stdout",
     "output_type": "stream",
     "text": [
      "Angle data read finished\n",
      "Start reading Atmospheric data\n",
      "Atmospheric data read finished\n",
      "Start Calculate SR\n",
      "Calculate SR finished\n",
      "Start Save SR file \n",
      "Save SR file finished\n",
      "delete file finish\n",
      "time: 77.6 secs, 1.3 mins,0.0 hours\n",
      "start processing 201807020430\n",
      "Himawari8/AHI data Processed Finish\n",
      "data reading finish\n",
      "Start reading Angle data\n"
     ]
    },
    {
     "name": "stderr",
     "output_type": "stream",
     "text": [
      "<ipython-input-11-6827ad66794f>:25: FutureWarning: elementwise comparison failed; returning scalar instead, but in the future will perform elementwise comparison\n",
      "  if AHI_data == 'No data':\n"
     ]
    },
    {
     "name": "stdout",
     "output_type": "stream",
     "text": [
      "Angle data read finished\n",
      "Start reading Atmospheric data\n",
      "Atmospheric data read finished\n",
      "Start Calculate SR\n",
      "Calculate SR finished\n",
      "Start Save SR file \n",
      "Save SR file finished\n",
      "delete file finish\n",
      "time: 73.6 secs, 1.2 mins,0.0 hours\n",
      "start processing 201807020440\n",
      "Himawari8/AHI data Processed Finish\n",
      "data reading finish\n",
      "Start reading Angle data\n"
     ]
    },
    {
     "name": "stderr",
     "output_type": "stream",
     "text": [
      "<ipython-input-11-6827ad66794f>:25: FutureWarning: elementwise comparison failed; returning scalar instead, but in the future will perform elementwise comparison\n",
      "  if AHI_data == 'No data':\n"
     ]
    },
    {
     "name": "stdout",
     "output_type": "stream",
     "text": [
      "Angle data read finished\n",
      "Start reading Atmospheric data\n",
      "Atmospheric data read finished\n",
      "Start Calculate SR\n",
      "Calculate SR finished\n",
      "Start Save SR file \n",
      "Save SR file finished\n",
      "delete file finish\n",
      "time: 71.3 secs, 1.2 mins,0.0 hours\n",
      "start processing 201807020450\n",
      "Himawari8/AHI data Processed Finish\n",
      "data reading finish\n",
      "Start reading Angle data\n"
     ]
    },
    {
     "name": "stderr",
     "output_type": "stream",
     "text": [
      "<ipython-input-11-6827ad66794f>:25: FutureWarning: elementwise comparison failed; returning scalar instead, but in the future will perform elementwise comparison\n",
      "  if AHI_data == 'No data':\n"
     ]
    },
    {
     "name": "stdout",
     "output_type": "stream",
     "text": [
      "Angle data read finished\n",
      "Start reading Atmospheric data\n",
      "Atmospheric data read finished\n",
      "Start Calculate SR\n",
      "Calculate SR finished\n",
      "Start Save SR file \n",
      "Save SR file finished\n",
      "delete file finish\n",
      "time: 69.3 secs, 1.2 mins,0.0 hours\n",
      "start processing 201807020500\n",
      "Himawari8/AHI data Processed Finish\n",
      "data reading finish\n",
      "Start reading Angle data\n"
     ]
    },
    {
     "name": "stderr",
     "output_type": "stream",
     "text": [
      "<ipython-input-11-6827ad66794f>:25: FutureWarning: elementwise comparison failed; returning scalar instead, but in the future will perform elementwise comparison\n",
      "  if AHI_data == 'No data':\n"
     ]
    },
    {
     "name": "stdout",
     "output_type": "stream",
     "text": [
      "Angle data read finished\n",
      "Start reading Atmospheric data\n",
      "Atmospheric data read finished\n",
      "Start Calculate SR\n",
      "Calculate SR finished\n",
      "Start Save SR file \n",
      "Save SR file finished\n",
      "delete file finish\n",
      "time: 64.9 secs, 1.1 mins,0.0 hours\n",
      "start processing 201807020510\n",
      "Himawari8/AHI data Processed Finish\n",
      "data reading finish\n",
      "Start reading Angle data\n"
     ]
    },
    {
     "name": "stderr",
     "output_type": "stream",
     "text": [
      "<ipython-input-11-6827ad66794f>:25: FutureWarning: elementwise comparison failed; returning scalar instead, but in the future will perform elementwise comparison\n",
      "  if AHI_data == 'No data':\n"
     ]
    },
    {
     "name": "stdout",
     "output_type": "stream",
     "text": [
      "Angle data read finished\n",
      "Start reading Atmospheric data\n",
      "Atmospheric data read finished\n",
      "Start Calculate SR\n",
      "Calculate SR finished\n",
      "Start Save SR file \n",
      "Save SR file finished\n",
      "delete file finish\n",
      "time: 67.9 secs, 1.1 mins,0.0 hours\n",
      "start processing 201807020520\n",
      "Himawari8/AHI data Processed Finish\n",
      "data reading finish\n",
      "Start reading Angle data\n"
     ]
    },
    {
     "name": "stderr",
     "output_type": "stream",
     "text": [
      "<ipython-input-11-6827ad66794f>:25: FutureWarning: elementwise comparison failed; returning scalar instead, but in the future will perform elementwise comparison\n",
      "  if AHI_data == 'No data':\n"
     ]
    },
    {
     "name": "stdout",
     "output_type": "stream",
     "text": [
      "Angle data read finished\n",
      "Start reading Atmospheric data\n",
      "Atmospheric data read finished\n",
      "Start Calculate SR\n",
      "Calculate SR finished\n",
      "Start Save SR file \n",
      "Save SR file finished\n",
      "delete file finish\n",
      "time: 64.5 secs, 1.1 mins,0.0 hours\n",
      "start processing 201807020530\n",
      "Himawari8/AHI data Processed Finish\n",
      "data reading finish\n",
      "Start reading Angle data\n"
     ]
    },
    {
     "name": "stderr",
     "output_type": "stream",
     "text": [
      "<ipython-input-11-6827ad66794f>:25: FutureWarning: elementwise comparison failed; returning scalar instead, but in the future will perform elementwise comparison\n",
      "  if AHI_data == 'No data':\n"
     ]
    },
    {
     "name": "stdout",
     "output_type": "stream",
     "text": [
      "Angle data read finished\n",
      "Start reading Atmospheric data\n",
      "Atmospheric data read finished\n",
      "Start Calculate SR\n",
      "Calculate SR finished\n",
      "Start Save SR file \n",
      "Save SR file finished\n",
      "delete file finish\n",
      "time: 69.6 secs, 1.2 mins,0.0 hours\n",
      "start processing 201807020540\n",
      "Himawari8/AHI data Processed Finish\n",
      "data reading finish\n",
      "Start reading Angle data\n"
     ]
    },
    {
     "name": "stderr",
     "output_type": "stream",
     "text": [
      "<ipython-input-11-6827ad66794f>:25: FutureWarning: elementwise comparison failed; returning scalar instead, but in the future will perform elementwise comparison\n",
      "  if AHI_data == 'No data':\n"
     ]
    },
    {
     "name": "stdout",
     "output_type": "stream",
     "text": [
      "Angle data read finished\n",
      "Start reading Atmospheric data\n",
      "Atmospheric data read finished\n",
      "Start Calculate SR\n",
      "Calculate SR finished\n",
      "Start Save SR file \n",
      "Save SR file finished\n",
      "delete file finish\n",
      "time: 64.3 secs, 1.1 mins,0.0 hours\n",
      "start processing 201807020550\n",
      "Himawari8/AHI data Processed Finish\n",
      "data reading finish\n",
      "Start reading Angle data\n"
     ]
    },
    {
     "name": "stderr",
     "output_type": "stream",
     "text": [
      "<ipython-input-11-6827ad66794f>:25: FutureWarning: elementwise comparison failed; returning scalar instead, but in the future will perform elementwise comparison\n",
      "  if AHI_data == 'No data':\n"
     ]
    },
    {
     "name": "stdout",
     "output_type": "stream",
     "text": [
      "Angle data read finished\n",
      "Start reading Atmospheric data\n",
      "Atmospheric data read finished\n",
      "Start Calculate SR\n",
      "Calculate SR finished\n",
      "Start Save SR file \n",
      "Save SR file finished\n",
      "delete file finish\n",
      "time: 75.3 secs, 1.3 mins,0.0 hours\n",
      "start processing 201807020600\n",
      "Himawari8/AHI data Processed Finish\n",
      "data reading finish\n",
      "Start reading Angle data\n"
     ]
    },
    {
     "name": "stderr",
     "output_type": "stream",
     "text": [
      "<ipython-input-11-6827ad66794f>:25: FutureWarning: elementwise comparison failed; returning scalar instead, but in the future will perform elementwise comparison\n",
      "  if AHI_data == 'No data':\n"
     ]
    },
    {
     "name": "stdout",
     "output_type": "stream",
     "text": [
      "Angle data read finished\n",
      "Start reading Atmospheric data\n",
      "Atmospheric data read finished\n",
      "Start Calculate SR\n",
      "Calculate SR finished\n",
      "Start Save SR file \n",
      "Save SR file finished\n",
      "delete file finish\n",
      "time: 66.2 secs, 1.1 mins,0.0 hours\n",
      "start processing 201807020610\n",
      "Himawari8/AHI data Processed Finish\n",
      "data reading finish\n",
      "Start reading Angle data\n"
     ]
    },
    {
     "name": "stderr",
     "output_type": "stream",
     "text": [
      "<ipython-input-11-6827ad66794f>:25: FutureWarning: elementwise comparison failed; returning scalar instead, but in the future will perform elementwise comparison\n",
      "  if AHI_data == 'No data':\n"
     ]
    },
    {
     "name": "stdout",
     "output_type": "stream",
     "text": [
      "Angle data read finished\n",
      "Start reading Atmospheric data\n",
      "Atmospheric data read finished\n",
      "Start Calculate SR\n",
      "Calculate SR finished\n",
      "Start Save SR file \n",
      "Save SR file finished\n",
      "delete file finish\n",
      "time: 74.1 secs, 1.2 mins,0.0 hours\n",
      "start processing 201807020620\n",
      "Himawari8/AHI data Processed Finish\n",
      "data reading finish\n",
      "Start reading Angle data\n"
     ]
    },
    {
     "name": "stderr",
     "output_type": "stream",
     "text": [
      "<ipython-input-11-6827ad66794f>:25: FutureWarning: elementwise comparison failed; returning scalar instead, but in the future will perform elementwise comparison\n",
      "  if AHI_data == 'No data':\n"
     ]
    },
    {
     "name": "stdout",
     "output_type": "stream",
     "text": [
      "Angle data read finished\n",
      "Start reading Atmospheric data\n",
      "Atmospheric data read finished\n",
      "Start Calculate SR\n",
      "Calculate SR finished\n",
      "Start Save SR file \n",
      "Save SR file finished\n",
      "delete file finish\n",
      "time: 72.3 secs, 1.2 mins,0.0 hours\n",
      "start processing 201807020630\n",
      "Himawari8/AHI data Processed Finish\n",
      "data reading finish\n",
      "Start reading Angle data\n"
     ]
    },
    {
     "name": "stderr",
     "output_type": "stream",
     "text": [
      "<ipython-input-11-6827ad66794f>:25: FutureWarning: elementwise comparison failed; returning scalar instead, but in the future will perform elementwise comparison\n",
      "  if AHI_data == 'No data':\n"
     ]
    },
    {
     "name": "stdout",
     "output_type": "stream",
     "text": [
      "Angle data read finished\n",
      "Start reading Atmospheric data\n",
      "Atmospheric data read finished\n",
      "Start Calculate SR\n",
      "Calculate SR finished\n",
      "Start Save SR file \n",
      "Save SR file finished\n",
      "delete file finish\n",
      "time: 70.4 secs, 1.2 mins,0.0 hours\n",
      "start processing 201807020640\n",
      "Himawari8/AHI data Processed Finish\n",
      "data reading finish\n",
      "Start reading Angle data\n"
     ]
    },
    {
     "name": "stderr",
     "output_type": "stream",
     "text": [
      "<ipython-input-11-6827ad66794f>:25: FutureWarning: elementwise comparison failed; returning scalar instead, but in the future will perform elementwise comparison\n",
      "  if AHI_data == 'No data':\n"
     ]
    },
    {
     "name": "stdout",
     "output_type": "stream",
     "text": [
      "Angle data read finished\n",
      "Start reading Atmospheric data\n",
      "Atmospheric data read finished\n",
      "Start Calculate SR\n",
      "Calculate SR finished\n",
      "Start Save SR file \n",
      "Save SR file finished\n",
      "delete file finish\n",
      "time: 68.9 secs, 1.1 mins,0.0 hours\n",
      "start processing 201807020650\n",
      "Himawari8/AHI data Processed Finish\n",
      "data reading finish\n",
      "Start reading Angle data\n"
     ]
    },
    {
     "name": "stderr",
     "output_type": "stream",
     "text": [
      "<ipython-input-11-6827ad66794f>:25: FutureWarning: elementwise comparison failed; returning scalar instead, but in the future will perform elementwise comparison\n",
      "  if AHI_data == 'No data':\n"
     ]
    },
    {
     "name": "stdout",
     "output_type": "stream",
     "text": [
      "Angle data read finished\n",
      "Start reading Atmospheric data\n",
      "Atmospheric data read finished\n",
      "Start Calculate SR\n",
      "Calculate SR finished\n",
      "Start Save SR file \n",
      "Save SR file finished\n",
      "delete file finish\n",
      "time: 70.4 secs, 1.2 mins,0.0 hours\n",
      "start processing 201807020700\n",
      "Himawari8/AHI data Processed Finish\n",
      "data reading finish\n",
      "Start reading Angle data\n"
     ]
    },
    {
     "name": "stderr",
     "output_type": "stream",
     "text": [
      "<ipython-input-11-6827ad66794f>:25: FutureWarning: elementwise comparison failed; returning scalar instead, but in the future will perform elementwise comparison\n",
      "  if AHI_data == 'No data':\n"
     ]
    },
    {
     "name": "stdout",
     "output_type": "stream",
     "text": [
      "Angle data read finished\n",
      "Start reading Atmospheric data\n",
      "Atmospheric data read finished\n",
      "Start Calculate SR\n",
      "Calculate SR finished\n",
      "Start Save SR file \n",
      "Save SR file finished\n",
      "delete file finish\n",
      "time: 61.7 secs, 1.0 mins,0.0 hours\n",
      "start processing 201807020710\n",
      "Himawari8/AHI data Processed Finish\n",
      "data reading finish\n",
      "Start reading Angle data\n"
     ]
    },
    {
     "name": "stderr",
     "output_type": "stream",
     "text": [
      "<ipython-input-11-6827ad66794f>:25: FutureWarning: elementwise comparison failed; returning scalar instead, but in the future will perform elementwise comparison\n",
      "  if AHI_data == 'No data':\n"
     ]
    },
    {
     "name": "stdout",
     "output_type": "stream",
     "text": [
      "Angle data read finished\n",
      "Start reading Atmospheric data\n",
      "Atmospheric data read finished\n",
      "Start Calculate SR\n",
      "Calculate SR finished\n",
      "Start Save SR file \n",
      "Save SR file finished\n",
      "delete file finish\n",
      "time: 74.4 secs, 1.2 mins,0.0 hours\n",
      "start processing 201807020720\n",
      "Himawari8/AHI data Processed Finish\n",
      "data reading finish\n",
      "Start reading Angle data\n"
     ]
    },
    {
     "name": "stderr",
     "output_type": "stream",
     "text": [
      "<ipython-input-11-6827ad66794f>:25: FutureWarning: elementwise comparison failed; returning scalar instead, but in the future will perform elementwise comparison\n",
      "  if AHI_data == 'No data':\n"
     ]
    },
    {
     "name": "stdout",
     "output_type": "stream",
     "text": [
      "Angle data read finished\n",
      "Start reading Atmospheric data\n",
      "Atmospheric data read finished\n",
      "Start Calculate SR\n",
      "Calculate SR finished\n",
      "Start Save SR file \n",
      "Save SR file finished\n",
      "delete file finish\n",
      "time: 99.2 secs, 1.7 mins,0.0 hours\n",
      "start processing 201807020730\n",
      "Himawari8/AHI data Processed Finish\n",
      "data reading finish\n",
      "Start reading Angle data\n"
     ]
    },
    {
     "name": "stderr",
     "output_type": "stream",
     "text": [
      "<ipython-input-11-6827ad66794f>:25: FutureWarning: elementwise comparison failed; returning scalar instead, but in the future will perform elementwise comparison\n",
      "  if AHI_data == 'No data':\n"
     ]
    },
    {
     "name": "stdout",
     "output_type": "stream",
     "text": [
      "Angle data read finished\n",
      "Start reading Atmospheric data\n",
      "Atmospheric data read finished\n",
      "Start Calculate SR\n",
      "Calculate SR finished\n",
      "Start Save SR file \n",
      "Save SR file finished\n",
      "delete file finish\n",
      "time: 68.4 secs, 1.1 mins,0.0 hours\n",
      "start processing 201807020740\n",
      "Himawari8/AHI data Processed Finish\n",
      "data reading finish\n",
      "Start reading Angle data\n"
     ]
    },
    {
     "name": "stderr",
     "output_type": "stream",
     "text": [
      "<ipython-input-11-6827ad66794f>:25: FutureWarning: elementwise comparison failed; returning scalar instead, but in the future will perform elementwise comparison\n",
      "  if AHI_data == 'No data':\n"
     ]
    },
    {
     "name": "stdout",
     "output_type": "stream",
     "text": [
      "Angle data read finished\n",
      "Start reading Atmospheric data\n",
      "Atmospheric data read finished\n",
      "Start Calculate SR\n",
      "Calculate SR finished\n",
      "Start Save SR file \n",
      "Save SR file finished\n",
      "delete file finish\n",
      "time: 60.0 secs, 1.0 mins,0.0 hours\n",
      "start processing 201807020750\n",
      "Himawari8/AHI data Processed Finish\n",
      "data reading finish\n",
      "Start reading Angle data\n"
     ]
    },
    {
     "name": "stderr",
     "output_type": "stream",
     "text": [
      "<ipython-input-11-6827ad66794f>:25: FutureWarning: elementwise comparison failed; returning scalar instead, but in the future will perform elementwise comparison\n",
      "  if AHI_data == 'No data':\n"
     ]
    },
    {
     "name": "stdout",
     "output_type": "stream",
     "text": [
      "Angle data read finished\n",
      "Start reading Atmospheric data\n",
      "Atmospheric data read finished\n",
      "Start Calculate SR\n",
      "Calculate SR finished\n",
      "Start Save SR file \n",
      "Save SR file finished\n",
      "delete file finish\n",
      "time: 59.9 secs, 1.0 mins,0.0 hours\n",
      "start processing 201807020800\n",
      "Himawari8/AHI data Processed Finish\n",
      "data reading finish\n",
      "Start reading Angle data\n"
     ]
    },
    {
     "name": "stderr",
     "output_type": "stream",
     "text": [
      "<ipython-input-11-6827ad66794f>:25: FutureWarning: elementwise comparison failed; returning scalar instead, but in the future will perform elementwise comparison\n",
      "  if AHI_data == 'No data':\n"
     ]
    },
    {
     "name": "stdout",
     "output_type": "stream",
     "text": [
      "Angle data read finished\n",
      "Start reading Atmospheric data\n",
      "Atmospheric data read finished\n",
      "Start Calculate SR\n",
      "Calculate SR finished\n",
      "Start Save SR file \n",
      "Save SR file finished\n",
      "delete file finish\n",
      "time: 61.0 secs, 1.0 mins,0.0 hours\n",
      "start processing 201807020810\n",
      "Himawari8/AHI data Processed Finish\n",
      "data reading finish\n",
      "Start reading Angle data\n"
     ]
    },
    {
     "name": "stderr",
     "output_type": "stream",
     "text": [
      "<ipython-input-11-6827ad66794f>:25: FutureWarning: elementwise comparison failed; returning scalar instead, but in the future will perform elementwise comparison\n",
      "  if AHI_data == 'No data':\n"
     ]
    },
    {
     "name": "stdout",
     "output_type": "stream",
     "text": [
      "Angle data read finished\n",
      "Start reading Atmospheric data\n",
      "Atmospheric data read finished\n",
      "Start Calculate SR\n",
      "Calculate SR finished\n",
      "Start Save SR file \n",
      "Save SR file finished\n",
      "delete file finish\n",
      "time: 60.3 secs, 1.0 mins,0.0 hours\n",
      "start processing 201807020820\n",
      "Himawari8/AHI data Processed Finish\n",
      "data reading finish\n",
      "Start reading Angle data\n"
     ]
    },
    {
     "name": "stderr",
     "output_type": "stream",
     "text": [
      "<ipython-input-11-6827ad66794f>:25: FutureWarning: elementwise comparison failed; returning scalar instead, but in the future will perform elementwise comparison\n",
      "  if AHI_data == 'No data':\n"
     ]
    },
    {
     "name": "stdout",
     "output_type": "stream",
     "text": [
      "Angle data read finished\n",
      "Start reading Atmospheric data\n",
      "Atmospheric data read finished\n",
      "Start Calculate SR\n",
      "Calculate SR finished\n",
      "Start Save SR file \n",
      "Save SR file finished\n",
      "delete file finish\n",
      "time: 61.2 secs, 1.0 mins,0.0 hours\n",
      "start processing 201807020830\n",
      "Himawari8/AHI data Processed Finish\n",
      "data reading finish\n",
      "Start reading Angle data\n"
     ]
    },
    {
     "name": "stderr",
     "output_type": "stream",
     "text": [
      "<ipython-input-11-6827ad66794f>:25: FutureWarning: elementwise comparison failed; returning scalar instead, but in the future will perform elementwise comparison\n",
      "  if AHI_data == 'No data':\n"
     ]
    },
    {
     "name": "stdout",
     "output_type": "stream",
     "text": [
      "Angle data read finished\n",
      "Start reading Atmospheric data\n",
      "Atmospheric data read finished\n",
      "Start Calculate SR\n",
      "Calculate SR finished\n",
      "Start Save SR file \n",
      "Save SR file finished\n",
      "delete file finish\n",
      "time: 72.3 secs, 1.2 mins,0.0 hours\n",
      "start processing 201807020840\n",
      "Himawari8/AHI data Processed Finish\n",
      "data reading finish\n",
      "Start reading Angle data\n"
     ]
    },
    {
     "name": "stderr",
     "output_type": "stream",
     "text": [
      "<ipython-input-11-6827ad66794f>:25: FutureWarning: elementwise comparison failed; returning scalar instead, but in the future will perform elementwise comparison\n",
      "  if AHI_data == 'No data':\n"
     ]
    },
    {
     "name": "stdout",
     "output_type": "stream",
     "text": [
      "Angle data read finished\n",
      "Start reading Atmospheric data\n",
      "Atmospheric data read finished\n",
      "Start Calculate SR\n",
      "Calculate SR finished\n",
      "Start Save SR file \n",
      "Save SR file finished\n",
      "delete file finish\n",
      "time: 71.8 secs, 1.2 mins,0.0 hours\n",
      "start processing 201807020850\n",
      "Himawari8/AHI data Processed Finish\n",
      "data reading finish\n",
      "Start reading Angle data\n"
     ]
    },
    {
     "name": "stderr",
     "output_type": "stream",
     "text": [
      "<ipython-input-11-6827ad66794f>:25: FutureWarning: elementwise comparison failed; returning scalar instead, but in the future will perform elementwise comparison\n",
      "  if AHI_data == 'No data':\n"
     ]
    },
    {
     "name": "stdout",
     "output_type": "stream",
     "text": [
      "Angle data read finished\n",
      "Start reading Atmospheric data\n",
      "Atmospheric data read finished\n",
      "Start Calculate SR\n",
      "Calculate SR finished\n",
      "Start Save SR file \n",
      "Save SR file finished\n",
      "delete file finish\n",
      "time: 72.4 secs, 1.2 mins,0.0 hours\n",
      "start processing 201807020900\n",
      "Himawari8/AHI data Processed Finish\n",
      "data reading finish\n",
      "Start reading Angle data\n"
     ]
    },
    {
     "name": "stderr",
     "output_type": "stream",
     "text": [
      "<ipython-input-11-6827ad66794f>:25: FutureWarning: elementwise comparison failed; returning scalar instead, but in the future will perform elementwise comparison\n",
      "  if AHI_data == 'No data':\n"
     ]
    },
    {
     "name": "stdout",
     "output_type": "stream",
     "text": [
      "Angle data read finished\n",
      "Start reading Atmospheric data\n",
      "Atmospheric data read finished\n",
      "Start Calculate SR\n",
      "Calculate SR finished\n",
      "Start Save SR file \n",
      "Save SR file finished\n",
      "delete file finish\n",
      "time: 74.3 secs, 1.2 mins,0.0 hours\n",
      "start processing 201807030000\n",
      "Himawari8/AHI data Processed Finish\n",
      "data reading finish\n",
      "Start reading Angle data\n"
     ]
    },
    {
     "name": "stderr",
     "output_type": "stream",
     "text": [
      "<ipython-input-11-6827ad66794f>:25: FutureWarning: elementwise comparison failed; returning scalar instead, but in the future will perform elementwise comparison\n",
      "  if AHI_data == 'No data':\n"
     ]
    },
    {
     "name": "stdout",
     "output_type": "stream",
     "text": [
      "Angle data read finished\n",
      "Start reading Atmospheric data\n",
      "Calculate SR finished\n",
      "Start Save SR file \n",
      "Save SR file finished\n",
      "delete file finish\n",
      "time: 69.0 secs, 1.2 mins,0.0 hours\n",
      "start processing 201807030020\n",
      "Himawari8/AHI data Processed Finish\n",
      "data reading finish\n",
      "Start reading Angle data\n"
     ]
    },
    {
     "name": "stderr",
     "output_type": "stream",
     "text": [
      "<ipython-input-11-6827ad66794f>:25: FutureWarning: elementwise comparison failed; returning scalar instead, but in the future will perform elementwise comparison\n",
      "  if AHI_data == 'No data':\n"
     ]
    },
    {
     "name": "stdout",
     "output_type": "stream",
     "text": [
      "Angle data read finished\n",
      "Start reading Atmospheric data\n",
      "Atmospheric data read finished\n",
      "Start Calculate SR\n",
      "Calculate SR finished\n",
      "Start Save SR file \n",
      "Save SR file finished\n",
      "delete file finish\n",
      "time: 97.5 secs, 1.6 mins,0.0 hours\n",
      "start processing 201807030030\n",
      "Himawari8/AHI data Processed Finish\n",
      "data reading finish\n",
      "Start reading Angle data\n"
     ]
    },
    {
     "name": "stderr",
     "output_type": "stream",
     "text": [
      "<ipython-input-11-6827ad66794f>:25: FutureWarning: elementwise comparison failed; returning scalar instead, but in the future will perform elementwise comparison\n",
      "  if AHI_data == 'No data':\n"
     ]
    },
    {
     "name": "stdout",
     "output_type": "stream",
     "text": [
      "Angle data read finished\n",
      "Start reading Atmospheric data\n",
      "Atmospheric data read finished\n",
      "Start Calculate SR\n",
      "Calculate SR finished\n",
      "Start Save SR file \n",
      "Save SR file finished\n",
      "delete file finish\n",
      "time: 68.6 secs, 1.1 mins,0.0 hours\n",
      "start processing 201807030040\n",
      "Himawari8/AHI data Processed Finish\n",
      "data reading finish\n",
      "Start reading Angle data\n"
     ]
    },
    {
     "name": "stderr",
     "output_type": "stream",
     "text": [
      "<ipython-input-11-6827ad66794f>:25: FutureWarning: elementwise comparison failed; returning scalar instead, but in the future will perform elementwise comparison\n",
      "  if AHI_data == 'No data':\n"
     ]
    },
    {
     "name": "stdout",
     "output_type": "stream",
     "text": [
      "Angle data read finished\n",
      "Start reading Atmospheric data\n",
      "Atmospheric data read finished\n",
      "Start Calculate SR\n",
      "Calculate SR finished\n",
      "Start Save SR file \n",
      "Save SR file finished\n",
      "delete file finish\n",
      "time: 65.2 secs, 1.1 mins,0.0 hours\n",
      "start processing 201807030050\n",
      "Himawari8/AHI data Processed Finish\n",
      "data reading finish\n",
      "Start reading Angle data\n"
     ]
    },
    {
     "name": "stderr",
     "output_type": "stream",
     "text": [
      "<ipython-input-11-6827ad66794f>:25: FutureWarning: elementwise comparison failed; returning scalar instead, but in the future will perform elementwise comparison\n",
      "  if AHI_data == 'No data':\n"
     ]
    },
    {
     "name": "stdout",
     "output_type": "stream",
     "text": [
      "Angle data read finished\n",
      "Start reading Atmospheric data\n",
      "Atmospheric data read finished\n",
      "Start Calculate SR\n",
      "Calculate SR finished\n",
      "Start Save SR file \n",
      "Save SR file finished\n",
      "delete file finish\n",
      "time: 67.1 secs, 1.1 mins,0.0 hours\n",
      "start processing 201807030100\n",
      "Himawari8/AHI data Processed Finish\n",
      "data reading finish\n",
      "Start reading Angle data\n"
     ]
    },
    {
     "name": "stderr",
     "output_type": "stream",
     "text": [
      "<ipython-input-11-6827ad66794f>:25: FutureWarning: elementwise comparison failed; returning scalar instead, but in the future will perform elementwise comparison\n",
      "  if AHI_data == 'No data':\n"
     ]
    },
    {
     "name": "stdout",
     "output_type": "stream",
     "text": [
      "Angle data read finished\n",
      "Start reading Atmospheric data\n",
      "Atmospheric data read finished\n",
      "Start Calculate SR\n",
      "Calculate SR finished\n",
      "Start Save SR file \n",
      "Save SR file finished\n",
      "delete file finish\n",
      "time: 68.1 secs, 1.1 mins,0.0 hours\n",
      "start processing 201807030110\n",
      "Himawari8/AHI data Processed Finish\n",
      "data reading finish\n",
      "Start reading Angle data\n"
     ]
    },
    {
     "name": "stderr",
     "output_type": "stream",
     "text": [
      "<ipython-input-11-6827ad66794f>:25: FutureWarning: elementwise comparison failed; returning scalar instead, but in the future will perform elementwise comparison\n",
      "  if AHI_data == 'No data':\n"
     ]
    },
    {
     "name": "stdout",
     "output_type": "stream",
     "text": [
      "Angle data read finished\n",
      "Start reading Atmospheric data\n",
      "Atmospheric data read finished\n",
      "Start Calculate SR\n",
      "Calculate SR finished\n",
      "Start Save SR file \n",
      "Save SR file finished\n",
      "delete file finish\n",
      "time: 69.2 secs, 1.2 mins,0.0 hours\n",
      "start processing 201807030120\n",
      "Himawari8/AHI data Processed Finish\n",
      "data reading finish\n",
      "Start reading Angle data\n"
     ]
    },
    {
     "name": "stderr",
     "output_type": "stream",
     "text": [
      "<ipython-input-11-6827ad66794f>:25: FutureWarning: elementwise comparison failed; returning scalar instead, but in the future will perform elementwise comparison\n",
      "  if AHI_data == 'No data':\n"
     ]
    },
    {
     "name": "stdout",
     "output_type": "stream",
     "text": [
      "Angle data read finished\n",
      "Start reading Atmospheric data\n",
      "Atmospheric data read finished\n",
      "Start Calculate SR\n",
      "Calculate SR finished\n",
      "Start Save SR file \n",
      "Save SR file finished\n",
      "delete file finish\n",
      "time: 65.5 secs, 1.1 mins,0.0 hours\n",
      "start processing 201807030130\n",
      "Himawari8/AHI data Processed Finish\n",
      "data reading finish\n",
      "Start reading Angle data\n"
     ]
    },
    {
     "name": "stderr",
     "output_type": "stream",
     "text": [
      "<ipython-input-11-6827ad66794f>:25: FutureWarning: elementwise comparison failed; returning scalar instead, but in the future will perform elementwise comparison\n",
      "  if AHI_data == 'No data':\n"
     ]
    },
    {
     "name": "stdout",
     "output_type": "stream",
     "text": [
      "Angle data read finished\n",
      "Start reading Atmospheric data\n",
      "Atmospheric data read finished\n",
      "Start Calculate SR\n",
      "Calculate SR finished\n",
      "Start Save SR file \n",
      "Save SR file finished\n",
      "delete file finish\n",
      "time: 65.4 secs, 1.1 mins,0.0 hours\n",
      "start processing 201807030140\n",
      "Himawari8/AHI data Processed Finish\n",
      "data reading finish\n",
      "Start reading Angle data\n"
     ]
    },
    {
     "name": "stderr",
     "output_type": "stream",
     "text": [
      "<ipython-input-11-6827ad66794f>:25: FutureWarning: elementwise comparison failed; returning scalar instead, but in the future will perform elementwise comparison\n",
      "  if AHI_data == 'No data':\n"
     ]
    },
    {
     "name": "stdout",
     "output_type": "stream",
     "text": [
      "Angle data read finished\n",
      "Start reading Atmospheric data\n",
      "Atmospheric data read finished\n",
      "Start Calculate SR\n",
      "Calculate SR finished\n",
      "Start Save SR file \n",
      "Save SR file finished\n",
      "delete file finish\n",
      "time: 70.9 secs, 1.2 mins,0.0 hours\n",
      "start processing 201807030150\n",
      "Himawari8/AHI data Processed Finish\n",
      "data reading finish\n",
      "Start reading Angle data\n"
     ]
    },
    {
     "name": "stderr",
     "output_type": "stream",
     "text": [
      "<ipython-input-11-6827ad66794f>:25: FutureWarning: elementwise comparison failed; returning scalar instead, but in the future will perform elementwise comparison\n",
      "  if AHI_data == 'No data':\n"
     ]
    },
    {
     "name": "stdout",
     "output_type": "stream",
     "text": [
      "Angle data read finished\n",
      "Start reading Atmospheric data\n",
      "Atmospheric data read finished\n",
      "Start Calculate SR\n",
      "Calculate SR finished\n",
      "Start Save SR file \n",
      "Save SR file finished\n",
      "delete file finish\n",
      "time: 65.7 secs, 1.1 mins,0.0 hours\n",
      "start processing 201807030200\n",
      "Himawari8/AHI data Processed Finish\n",
      "data reading finish\n",
      "Start reading Angle data\n"
     ]
    },
    {
     "name": "stderr",
     "output_type": "stream",
     "text": [
      "<ipython-input-11-6827ad66794f>:25: FutureWarning: elementwise comparison failed; returning scalar instead, but in the future will perform elementwise comparison\n",
      "  if AHI_data == 'No data':\n"
     ]
    },
    {
     "name": "stdout",
     "output_type": "stream",
     "text": [
      "Angle data read finished\n",
      "Start reading Atmospheric data\n",
      "Atmospheric data read finished\n",
      "Start Calculate SR\n",
      "Calculate SR finished\n",
      "Start Save SR file \n",
      "Save SR file finished\n",
      "delete file finish\n",
      "time: 66.9 secs, 1.1 mins,0.0 hours\n",
      "start processing 201807030210\n",
      "Himawari8/AHI data Processed Finish\n",
      "data reading finish\n",
      "Start reading Angle data\n"
     ]
    },
    {
     "name": "stderr",
     "output_type": "stream",
     "text": [
      "<ipython-input-11-6827ad66794f>:25: FutureWarning: elementwise comparison failed; returning scalar instead, but in the future will perform elementwise comparison\n",
      "  if AHI_data == 'No data':\n"
     ]
    },
    {
     "name": "stdout",
     "output_type": "stream",
     "text": [
      "Angle data read finished\n",
      "Start reading Atmospheric data\n",
      "Atmospheric data read finished\n",
      "Start Calculate SR\n",
      "Calculate SR finished\n",
      "Start Save SR file \n",
      "Save SR file finished\n",
      "delete file finish\n",
      "time: 68.5 secs, 1.1 mins,0.0 hours\n",
      "start processing 201807030220\n",
      "Himawari8/AHI data Processed Finish\n",
      "data reading finish\n",
      "Start reading Angle data\n"
     ]
    },
    {
     "name": "stderr",
     "output_type": "stream",
     "text": [
      "<ipython-input-11-6827ad66794f>:25: FutureWarning: elementwise comparison failed; returning scalar instead, but in the future will perform elementwise comparison\n",
      "  if AHI_data == 'No data':\n"
     ]
    },
    {
     "name": "stdout",
     "output_type": "stream",
     "text": [
      "Angle data read finished\n",
      "Start reading Atmospheric data\n",
      "Atmospheric data read finished\n",
      "Start Calculate SR\n",
      "Calculate SR finished\n",
      "Start Save SR file \n",
      "Save SR file finished\n",
      "delete file finish\n",
      "time: 62.7 secs, 1.0 mins,0.0 hours\n",
      "start processing 201807030230\n",
      "Himawari8/AHI data Processed Finish\n",
      "data reading finish\n",
      "Start reading Angle data\n"
     ]
    },
    {
     "name": "stderr",
     "output_type": "stream",
     "text": [
      "<ipython-input-11-6827ad66794f>:25: FutureWarning: elementwise comparison failed; returning scalar instead, but in the future will perform elementwise comparison\n",
      "  if AHI_data == 'No data':\n"
     ]
    },
    {
     "name": "stdout",
     "output_type": "stream",
     "text": [
      "Angle data read finished\n",
      "Start reading Atmospheric data\n",
      "Atmospheric data read finished\n",
      "Start Calculate SR\n",
      "Calculate SR finished\n",
      "Start Save SR file \n",
      "Save SR file finished\n",
      "delete file finish\n",
      "time: 64.3 secs, 1.1 mins,0.0 hours\n",
      "start processing 201807030240\n",
      "File Not Found\n",
      "start processing 201807030250\n",
      "Himawari8/AHI data Processed Finish\n",
      "data reading finish\n",
      "Start reading Angle data\n"
     ]
    },
    {
     "name": "stderr",
     "output_type": "stream",
     "text": [
      "<ipython-input-11-6827ad66794f>:25: FutureWarning: elementwise comparison failed; returning scalar instead, but in the future will perform elementwise comparison\n",
      "  if AHI_data == 'No data':\n"
     ]
    },
    {
     "name": "stdout",
     "output_type": "stream",
     "text": [
      "Angle data read finished\n",
      "Start reading Atmospheric data\n",
      "Atmospheric data read finished\n",
      "Start Calculate SR\n",
      "Calculate SR finished\n",
      "Start Save SR file \n",
      "Save SR file finished\n",
      "delete file finish\n",
      "time: 68.1 secs, 1.1 mins,0.0 hours\n",
      "start processing 201807030300\n",
      "Himawari8/AHI data Processed Finish\n",
      "data reading finish\n",
      "Start reading Angle data\n"
     ]
    },
    {
     "name": "stderr",
     "output_type": "stream",
     "text": [
      "<ipython-input-11-6827ad66794f>:25: FutureWarning: elementwise comparison failed; returning scalar instead, but in the future will perform elementwise comparison\n",
      "  if AHI_data == 'No data':\n"
     ]
    },
    {
     "name": "stdout",
     "output_type": "stream",
     "text": [
      "Angle data read finished\n",
      "Start reading Atmospheric data\n",
      "Atmospheric data read finished\n",
      "Start Calculate SR\n",
      "Calculate SR finished\n",
      "Start Save SR file \n",
      "Save SR file finished\n",
      "delete file finish\n",
      "time: 68.7 secs, 1.1 mins,0.0 hours\n",
      "start processing 201807030310\n",
      "Himawari8/AHI data Processed Finish\n",
      "data reading finish\n",
      "Start reading Angle data\n"
     ]
    },
    {
     "name": "stderr",
     "output_type": "stream",
     "text": [
      "<ipython-input-11-6827ad66794f>:25: FutureWarning: elementwise comparison failed; returning scalar instead, but in the future will perform elementwise comparison\n",
      "  if AHI_data == 'No data':\n"
     ]
    },
    {
     "name": "stdout",
     "output_type": "stream",
     "text": [
      "Angle data read finished\n",
      "Start reading Atmospheric data\n",
      "Atmospheric data read finished\n",
      "Start Calculate SR\n",
      "Calculate SR finished\n",
      "Start Save SR file \n",
      "Save SR file finished\n",
      "delete file finish\n",
      "time: 64.9 secs, 1.1 mins,0.0 hours\n",
      "start processing 201807030320\n",
      "Himawari8/AHI data Processed Finish\n",
      "data reading finish\n",
      "Start reading Angle data\n"
     ]
    },
    {
     "name": "stderr",
     "output_type": "stream",
     "text": [
      "<ipython-input-11-6827ad66794f>:25: FutureWarning: elementwise comparison failed; returning scalar instead, but in the future will perform elementwise comparison\n",
      "  if AHI_data == 'No data':\n"
     ]
    },
    {
     "name": "stdout",
     "output_type": "stream",
     "text": [
      "Angle data read finished\n",
      "Start reading Atmospheric data\n",
      "Atmospheric data read finished\n",
      "Start Calculate SR\n",
      "Calculate SR finished\n",
      "Start Save SR file \n",
      "Save SR file finished\n",
      "delete file finish\n",
      "time: 69.0 secs, 1.1 mins,0.0 hours\n",
      "start processing 201807030330\n",
      "Himawari8/AHI data Processed Finish\n",
      "data reading finish\n",
      "Start reading Angle data\n"
     ]
    },
    {
     "name": "stderr",
     "output_type": "stream",
     "text": [
      "<ipython-input-11-6827ad66794f>:25: FutureWarning: elementwise comparison failed; returning scalar instead, but in the future will perform elementwise comparison\n",
      "  if AHI_data == 'No data':\n"
     ]
    },
    {
     "name": "stdout",
     "output_type": "stream",
     "text": [
      "Angle data read finished\n",
      "Start reading Atmospheric data\n",
      "Atmospheric data read finished\n",
      "Start Calculate SR\n",
      "Calculate SR finished\n",
      "Start Save SR file \n",
      "Save SR file finished\n",
      "delete file finish\n",
      "time: 69.2 secs, 1.2 mins,0.0 hours\n",
      "start processing 201807030340\n",
      "Himawari8/AHI data Processed Finish\n",
      "data reading finish\n",
      "Start reading Angle data\n"
     ]
    },
    {
     "name": "stderr",
     "output_type": "stream",
     "text": [
      "<ipython-input-11-6827ad66794f>:25: FutureWarning: elementwise comparison failed; returning scalar instead, but in the future will perform elementwise comparison\n",
      "  if AHI_data == 'No data':\n"
     ]
    },
    {
     "name": "stdout",
     "output_type": "stream",
     "text": [
      "Angle data read finished\n",
      "Start reading Atmospheric data\n",
      "Atmospheric data read finished\n",
      "Start Calculate SR\n",
      "Calculate SR finished\n",
      "Start Save SR file \n",
      "Save SR file finished\n",
      "delete file finish\n",
      "time: 69.4 secs, 1.2 mins,0.0 hours\n",
      "start processing 201807030350\n",
      "Himawari8/AHI data Processed Finish\n",
      "data reading finish\n",
      "Start reading Angle data\n"
     ]
    },
    {
     "name": "stderr",
     "output_type": "stream",
     "text": [
      "<ipython-input-11-6827ad66794f>:25: FutureWarning: elementwise comparison failed; returning scalar instead, but in the future will perform elementwise comparison\n",
      "  if AHI_data == 'No data':\n"
     ]
    },
    {
     "name": "stdout",
     "output_type": "stream",
     "text": [
      "Angle data read finished\n",
      "Start reading Atmospheric data\n",
      "Atmospheric data read finished\n",
      "Start Calculate SR\n",
      "Calculate SR finished\n",
      "Start Save SR file \n",
      "Save SR file finished\n",
      "delete file finish\n",
      "time: 77.3 secs, 1.3 mins,0.0 hours\n",
      "start processing 201807030400\n",
      "Himawari8/AHI data Processed Finish\n",
      "data reading finish\n",
      "Start reading Angle data\n"
     ]
    },
    {
     "name": "stderr",
     "output_type": "stream",
     "text": [
      "<ipython-input-11-6827ad66794f>:25: FutureWarning: elementwise comparison failed; returning scalar instead, but in the future will perform elementwise comparison\n",
      "  if AHI_data == 'No data':\n"
     ]
    },
    {
     "name": "stdout",
     "output_type": "stream",
     "text": [
      "Angle data read finished\n",
      "Start reading Atmospheric data\n",
      "Atmospheric data read finished\n",
      "Start Calculate SR\n",
      "Calculate SR finished\n",
      "Start Save SR file \n",
      "Save SR file finished\n",
      "delete file finish\n",
      "time: 69.8 secs, 1.2 mins,0.0 hours\n",
      "start processing 201807030410\n",
      "Himawari8/AHI data Processed Finish\n",
      "data reading finish\n",
      "Start reading Angle data\n"
     ]
    },
    {
     "name": "stderr",
     "output_type": "stream",
     "text": [
      "<ipython-input-11-6827ad66794f>:25: FutureWarning: elementwise comparison failed; returning scalar instead, but in the future will perform elementwise comparison\n",
      "  if AHI_data == 'No data':\n"
     ]
    },
    {
     "name": "stdout",
     "output_type": "stream",
     "text": [
      "Angle data read finished\n",
      "Start reading Atmospheric data\n",
      "Atmospheric data read finished\n",
      "Start Calculate SR\n",
      "Calculate SR finished\n",
      "Start Save SR file \n",
      "Save SR file finished\n",
      "delete file finish\n",
      "time: 64.1 secs, 1.1 mins,0.0 hours\n",
      "start processing 201807030420\n",
      "Himawari8/AHI data Processed Finish\n",
      "data reading finish\n",
      "Start reading Angle data\n"
     ]
    },
    {
     "name": "stderr",
     "output_type": "stream",
     "text": [
      "<ipython-input-11-6827ad66794f>:25: FutureWarning: elementwise comparison failed; returning scalar instead, but in the future will perform elementwise comparison\n",
      "  if AHI_data == 'No data':\n"
     ]
    },
    {
     "name": "stdout",
     "output_type": "stream",
     "text": [
      "Angle data read finished\n",
      "Start reading Atmospheric data\n",
      "Atmospheric data read finished\n",
      "Start Calculate SR\n",
      "Calculate SR finished\n",
      "Start Save SR file \n",
      "Save SR file finished\n",
      "delete file finish\n",
      "time: 66.9 secs, 1.1 mins,0.0 hours\n",
      "start processing 201807030430\n",
      "Himawari8/AHI data Processed Finish\n",
      "data reading finish\n",
      "Start reading Angle data\n"
     ]
    },
    {
     "name": "stderr",
     "output_type": "stream",
     "text": [
      "<ipython-input-11-6827ad66794f>:25: FutureWarning: elementwise comparison failed; returning scalar instead, but in the future will perform elementwise comparison\n",
      "  if AHI_data == 'No data':\n"
     ]
    },
    {
     "name": "stdout",
     "output_type": "stream",
     "text": [
      "Angle data read finished\n",
      "Start reading Atmospheric data\n",
      "Atmospheric data read finished\n",
      "Start Calculate SR\n",
      "Calculate SR finished\n",
      "Start Save SR file \n",
      "Save SR file finished\n",
      "delete file finish\n",
      "time: 66.8 secs, 1.1 mins,0.0 hours\n",
      "start processing 201807030440\n",
      "Himawari8/AHI data Processed Finish\n",
      "data reading finish\n",
      "Start reading Angle data\n"
     ]
    },
    {
     "name": "stderr",
     "output_type": "stream",
     "text": [
      "<ipython-input-11-6827ad66794f>:25: FutureWarning: elementwise comparison failed; returning scalar instead, but in the future will perform elementwise comparison\n",
      "  if AHI_data == 'No data':\n"
     ]
    },
    {
     "name": "stdout",
     "output_type": "stream",
     "text": [
      "Angle data read finished\n",
      "Start reading Atmospheric data\n",
      "Atmospheric data read finished\n",
      "Start Calculate SR\n",
      "Calculate SR finished\n",
      "Start Save SR file \n",
      "Save SR file finished\n",
      "delete file finish\n",
      "time: 70.6 secs, 1.2 mins,0.0 hours\n",
      "start processing 201807030450\n",
      "Himawari8/AHI data Processed Finish\n",
      "data reading finish\n",
      "Start reading Angle data\n"
     ]
    },
    {
     "name": "stderr",
     "output_type": "stream",
     "text": [
      "<ipython-input-11-6827ad66794f>:25: FutureWarning: elementwise comparison failed; returning scalar instead, but in the future will perform elementwise comparison\n",
      "  if AHI_data == 'No data':\n"
     ]
    },
    {
     "name": "stdout",
     "output_type": "stream",
     "text": [
      "Angle data read finished\n",
      "Start reading Atmospheric data\n",
      "Atmospheric data read finished\n",
      "Start Calculate SR\n",
      "Calculate SR finished\n",
      "Start Save SR file \n",
      "Save SR file finished\n",
      "delete file finish\n",
      "time: 68.1 secs, 1.1 mins,0.0 hours\n",
      "start processing 201807030500\n",
      "Himawari8/AHI data Processed Finish\n",
      "data reading finish\n",
      "Start reading Angle data\n"
     ]
    },
    {
     "name": "stderr",
     "output_type": "stream",
     "text": [
      "<ipython-input-11-6827ad66794f>:25: FutureWarning: elementwise comparison failed; returning scalar instead, but in the future will perform elementwise comparison\n",
      "  if AHI_data == 'No data':\n"
     ]
    },
    {
     "name": "stdout",
     "output_type": "stream",
     "text": [
      "Angle data read finished\n",
      "Start reading Atmospheric data\n",
      "Atmospheric data read finished\n",
      "Start Calculate SR\n",
      "Calculate SR finished\n",
      "Start Save SR file \n",
      "Save SR file finished\n",
      "delete file finish\n",
      "time: 68.6 secs, 1.1 mins,0.0 hours\n",
      "start processing 201807030510\n",
      "Himawari8/AHI data Processed Finish\n",
      "data reading finish\n",
      "Start reading Angle data\n"
     ]
    },
    {
     "name": "stderr",
     "output_type": "stream",
     "text": [
      "<ipython-input-11-6827ad66794f>:25: FutureWarning: elementwise comparison failed; returning scalar instead, but in the future will perform elementwise comparison\n",
      "  if AHI_data == 'No data':\n"
     ]
    },
    {
     "name": "stdout",
     "output_type": "stream",
     "text": [
      "Angle data read finished\n",
      "Start reading Atmospheric data\n",
      "Atmospheric data read finished\n",
      "Start Calculate SR\n",
      "Calculate SR finished\n",
      "Start Save SR file \n",
      "Save SR file finished\n",
      "delete file finish\n",
      "time: 64.3 secs, 1.1 mins,0.0 hours\n",
      "start processing 201807030520\n",
      "Himawari8/AHI data Processed Finish\n",
      "data reading finish\n",
      "Start reading Angle data\n"
     ]
    },
    {
     "name": "stderr",
     "output_type": "stream",
     "text": [
      "<ipython-input-11-6827ad66794f>:25: FutureWarning: elementwise comparison failed; returning scalar instead, but in the future will perform elementwise comparison\n",
      "  if AHI_data == 'No data':\n"
     ]
    },
    {
     "name": "stdout",
     "output_type": "stream",
     "text": [
      "Angle data read finished\n",
      "Start reading Atmospheric data\n",
      "Atmospheric data read finished\n",
      "Start Calculate SR\n",
      "Calculate SR finished\n",
      "Start Save SR file \n",
      "Save SR file finished\n",
      "delete file finish\n",
      "time: 69.0 secs, 1.1 mins,0.0 hours\n",
      "start processing 201807030530\n",
      "Himawari8/AHI data Processed Finish\n",
      "data reading finish\n",
      "Start reading Angle data\n"
     ]
    },
    {
     "name": "stderr",
     "output_type": "stream",
     "text": [
      "<ipython-input-11-6827ad66794f>:25: FutureWarning: elementwise comparison failed; returning scalar instead, but in the future will perform elementwise comparison\n",
      "  if AHI_data == 'No data':\n"
     ]
    },
    {
     "name": "stdout",
     "output_type": "stream",
     "text": [
      "Angle data read finished\n",
      "Start reading Atmospheric data\n",
      "Atmospheric data read finished\n",
      "Start Calculate SR\n",
      "Calculate SR finished\n",
      "Start Save SR file \n",
      "Save SR file finished\n",
      "delete file finish\n",
      "time: 65.4 secs, 1.1 mins,0.0 hours\n",
      "start processing 201807030540\n",
      "Himawari8/AHI data Processed Finish\n",
      "data reading finish\n",
      "Start reading Angle data\n"
     ]
    },
    {
     "name": "stderr",
     "output_type": "stream",
     "text": [
      "<ipython-input-11-6827ad66794f>:25: FutureWarning: elementwise comparison failed; returning scalar instead, but in the future will perform elementwise comparison\n",
      "  if AHI_data == 'No data':\n"
     ]
    },
    {
     "name": "stdout",
     "output_type": "stream",
     "text": [
      "Angle data read finished\n",
      "Start reading Atmospheric data\n",
      "Atmospheric data read finished\n",
      "Start Calculate SR\n",
      "Calculate SR finished\n",
      "Start Save SR file \n",
      "Save SR file finished\n",
      "delete file finish\n",
      "time: 65.2 secs, 1.1 mins,0.0 hours\n",
      "start processing 201807030550\n",
      "Himawari8/AHI data Processed Finish\n",
      "data reading finish\n",
      "Start reading Angle data\n"
     ]
    },
    {
     "name": "stderr",
     "output_type": "stream",
     "text": [
      "<ipython-input-11-6827ad66794f>:25: FutureWarning: elementwise comparison failed; returning scalar instead, but in the future will perform elementwise comparison\n",
      "  if AHI_data == 'No data':\n"
     ]
    },
    {
     "name": "stdout",
     "output_type": "stream",
     "text": [
      "Angle data read finished\n",
      "Start reading Atmospheric data\n",
      "Atmospheric data read finished\n",
      "Start Calculate SR\n",
      "Calculate SR finished\n",
      "Start Save SR file \n",
      "Save SR file finished\n",
      "delete file finish\n",
      "time: 98.8 secs, 1.6 mins,0.0 hours\n",
      "start processing 201807030600\n",
      "Himawari8/AHI data Processed Finish\n",
      "data reading finish\n",
      "Start reading Angle data\n"
     ]
    },
    {
     "name": "stderr",
     "output_type": "stream",
     "text": [
      "<ipython-input-11-6827ad66794f>:25: FutureWarning: elementwise comparison failed; returning scalar instead, but in the future will perform elementwise comparison\n",
      "  if AHI_data == 'No data':\n"
     ]
    },
    {
     "name": "stdout",
     "output_type": "stream",
     "text": [
      "Angle data read finished\n",
      "Start reading Atmospheric data\n",
      "Atmospheric data read finished\n",
      "Start Calculate SR\n",
      "Calculate SR finished\n",
      "Start Save SR file \n",
      "Save SR file finished\n",
      "delete file finish\n",
      "time: 65.6 secs, 1.1 mins,0.0 hours\n",
      "start processing 201807030610\n",
      "Himawari8/AHI data Processed Finish\n",
      "data reading finish\n",
      "Start reading Angle data\n"
     ]
    },
    {
     "name": "stderr",
     "output_type": "stream",
     "text": [
      "<ipython-input-11-6827ad66794f>:25: FutureWarning: elementwise comparison failed; returning scalar instead, but in the future will perform elementwise comparison\n",
      "  if AHI_data == 'No data':\n"
     ]
    },
    {
     "name": "stdout",
     "output_type": "stream",
     "text": [
      "Angle data read finished\n",
      "Start reading Atmospheric data\n",
      "Atmospheric data read finished\n",
      "Start Calculate SR\n",
      "Calculate SR finished\n",
      "Start Save SR file \n",
      "Save SR file finished\n",
      "delete file finish\n",
      "time: 66.9 secs, 1.1 mins,0.0 hours\n",
      "start processing 201807030620\n",
      "Himawari8/AHI data Processed Finish\n",
      "data reading finish\n",
      "Start reading Angle data\n"
     ]
    },
    {
     "name": "stderr",
     "output_type": "stream",
     "text": [
      "<ipython-input-11-6827ad66794f>:25: FutureWarning: elementwise comparison failed; returning scalar instead, but in the future will perform elementwise comparison\n",
      "  if AHI_data == 'No data':\n"
     ]
    },
    {
     "name": "stdout",
     "output_type": "stream",
     "text": [
      "Angle data read finished\n",
      "Start reading Atmospheric data\n",
      "Atmospheric data read finished\n",
      "Start Calculate SR\n",
      "Calculate SR finished\n",
      "Start Save SR file \n",
      "Save SR file finished\n",
      "delete file finish\n",
      "time: 66.5 secs, 1.1 mins,0.0 hours\n",
      "start processing 201807030630\n",
      "Himawari8/AHI data Processed Finish\n",
      "data reading finish\n",
      "Start reading Angle data\n"
     ]
    },
    {
     "name": "stderr",
     "output_type": "stream",
     "text": [
      "<ipython-input-11-6827ad66794f>:25: FutureWarning: elementwise comparison failed; returning scalar instead, but in the future will perform elementwise comparison\n",
      "  if AHI_data == 'No data':\n"
     ]
    },
    {
     "name": "stdout",
     "output_type": "stream",
     "text": [
      "Angle data read finished\n",
      "Start reading Atmospheric data\n",
      "Atmospheric data read finished\n",
      "Start Calculate SR\n",
      "Calculate SR finished\n",
      "Start Save SR file \n",
      "Save SR file finished\n",
      "delete file finish\n",
      "time: 62.9 secs, 1.0 mins,0.0 hours\n",
      "start processing 201807030640\n",
      "Himawari8/AHI data Processed Finish\n",
      "data reading finish\n",
      "Start reading Angle data\n"
     ]
    },
    {
     "name": "stderr",
     "output_type": "stream",
     "text": [
      "<ipython-input-11-6827ad66794f>:25: FutureWarning: elementwise comparison failed; returning scalar instead, but in the future will perform elementwise comparison\n",
      "  if AHI_data == 'No data':\n"
     ]
    },
    {
     "name": "stdout",
     "output_type": "stream",
     "text": [
      "Angle data read finished\n",
      "Start reading Atmospheric data\n",
      "Atmospheric data read finished\n",
      "Start Calculate SR\n",
      "Calculate SR finished\n",
      "Start Save SR file \n",
      "Save SR file finished\n",
      "delete file finish\n",
      "time: 68.1 secs, 1.1 mins,0.0 hours\n",
      "start processing 201807030650\n",
      "Himawari8/AHI data Processed Finish\n",
      "data reading finish\n",
      "Start reading Angle data\n"
     ]
    },
    {
     "name": "stderr",
     "output_type": "stream",
     "text": [
      "<ipython-input-11-6827ad66794f>:25: FutureWarning: elementwise comparison failed; returning scalar instead, but in the future will perform elementwise comparison\n",
      "  if AHI_data == 'No data':\n"
     ]
    },
    {
     "name": "stdout",
     "output_type": "stream",
     "text": [
      "Angle data read finished\n",
      "Start reading Atmospheric data\n",
      "Atmospheric data read finished\n",
      "Start Calculate SR\n",
      "Calculate SR finished\n",
      "Start Save SR file \n",
      "Save SR file finished\n",
      "delete file finish\n",
      "time: 72.9 secs, 1.2 mins,0.0 hours\n",
      "start processing 201807030700\n",
      "Himawari8/AHI data Processed Finish\n",
      "data reading finish\n",
      "Start reading Angle data\n"
     ]
    },
    {
     "name": "stderr",
     "output_type": "stream",
     "text": [
      "<ipython-input-11-6827ad66794f>:25: FutureWarning: elementwise comparison failed; returning scalar instead, but in the future will perform elementwise comparison\n",
      "  if AHI_data == 'No data':\n"
     ]
    },
    {
     "name": "stdout",
     "output_type": "stream",
     "text": [
      "Angle data read finished\n",
      "Start reading Atmospheric data\n",
      "Atmospheric data read finished\n",
      "Start Calculate SR\n",
      "Calculate SR finished\n",
      "Start Save SR file \n",
      "Save SR file finished\n",
      "delete file finish\n",
      "time: 73.6 secs, 1.2 mins,0.0 hours\n",
      "start processing 201807030710\n",
      "Himawari8/AHI data Processed Finish\n",
      "data reading finish\n",
      "Start reading Angle data\n"
     ]
    },
    {
     "name": "stderr",
     "output_type": "stream",
     "text": [
      "<ipython-input-11-6827ad66794f>:25: FutureWarning: elementwise comparison failed; returning scalar instead, but in the future will perform elementwise comparison\n",
      "  if AHI_data == 'No data':\n"
     ]
    },
    {
     "name": "stdout",
     "output_type": "stream",
     "text": [
      "Angle data read finished\n",
      "Start reading Atmospheric data\n",
      "Atmospheric data read finished\n",
      "Start Calculate SR\n",
      "Calculate SR finished\n",
      "Start Save SR file \n",
      "Save SR file finished\n",
      "delete file finish\n",
      "time: 71.9 secs, 1.2 mins,0.0 hours\n",
      "start processing 201807030720\n",
      "Himawari8/AHI data Processed Finish\n",
      "data reading finish\n",
      "Start reading Angle data\n"
     ]
    },
    {
     "name": "stderr",
     "output_type": "stream",
     "text": [
      "<ipython-input-11-6827ad66794f>:25: FutureWarning: elementwise comparison failed; returning scalar instead, but in the future will perform elementwise comparison\n",
      "  if AHI_data == 'No data':\n"
     ]
    },
    {
     "name": "stdout",
     "output_type": "stream",
     "text": [
      "Angle data read finished\n",
      "Start reading Atmospheric data\n",
      "Atmospheric data read finished\n",
      "Start Calculate SR\n",
      "Calculate SR finished\n",
      "Start Save SR file \n",
      "Save SR file finished\n",
      "delete file finish\n",
      "time: 71.8 secs, 1.2 mins,0.0 hours\n",
      "start processing 201807030730\n",
      "Himawari8/AHI data Processed Finish\n",
      "data reading finish\n",
      "Start reading Angle data\n"
     ]
    },
    {
     "name": "stderr",
     "output_type": "stream",
     "text": [
      "<ipython-input-11-6827ad66794f>:25: FutureWarning: elementwise comparison failed; returning scalar instead, but in the future will perform elementwise comparison\n",
      "  if AHI_data == 'No data':\n"
     ]
    },
    {
     "name": "stdout",
     "output_type": "stream",
     "text": [
      "Angle data read finished\n",
      "Start reading Atmospheric data\n",
      "Atmospheric data read finished\n",
      "Start Calculate SR\n",
      "Calculate SR finished\n",
      "Start Save SR file \n",
      "Save SR file finished\n",
      "delete file finish\n",
      "time: 67.5 secs, 1.1 mins,0.0 hours\n",
      "start processing 201807030740\n",
      "Himawari8/AHI data Processed Finish\n",
      "data reading finish\n",
      "Start reading Angle data\n"
     ]
    },
    {
     "name": "stderr",
     "output_type": "stream",
     "text": [
      "<ipython-input-11-6827ad66794f>:25: FutureWarning: elementwise comparison failed; returning scalar instead, but in the future will perform elementwise comparison\n",
      "  if AHI_data == 'No data':\n"
     ]
    },
    {
     "name": "stdout",
     "output_type": "stream",
     "text": [
      "Angle data read finished\n",
      "Start reading Atmospheric data\n",
      "Atmospheric data read finished\n",
      "Start Calculate SR\n",
      "Calculate SR finished\n",
      "Start Save SR file \n",
      "Save SR file finished\n",
      "delete file finish\n",
      "time: 66.7 secs, 1.1 mins,0.0 hours\n",
      "start processing 201807030750\n",
      "Himawari8/AHI data Processed Finish\n",
      "data reading finish\n",
      "Start reading Angle data\n"
     ]
    },
    {
     "name": "stderr",
     "output_type": "stream",
     "text": [
      "<ipython-input-11-6827ad66794f>:25: FutureWarning: elementwise comparison failed; returning scalar instead, but in the future will perform elementwise comparison\n",
      "  if AHI_data == 'No data':\n"
     ]
    },
    {
     "name": "stdout",
     "output_type": "stream",
     "text": [
      "Angle data read finished\n",
      "Start reading Atmospheric data\n",
      "Atmospheric data read finished\n",
      "Start Calculate SR\n",
      "Calculate SR finished\n",
      "Start Save SR file \n",
      "Save SR file finished\n",
      "delete file finish\n",
      "time: 87.7 secs, 1.5 mins,0.0 hours\n",
      "start processing 201807030800\n",
      "Himawari8/AHI data Processed Finish\n",
      "data reading finish\n",
      "Start reading Angle data\n"
     ]
    },
    {
     "name": "stderr",
     "output_type": "stream",
     "text": [
      "<ipython-input-11-6827ad66794f>:25: FutureWarning: elementwise comparison failed; returning scalar instead, but in the future will perform elementwise comparison\n",
      "  if AHI_data == 'No data':\n"
     ]
    },
    {
     "name": "stdout",
     "output_type": "stream",
     "text": [
      "Angle data read finished\n",
      "Start reading Atmospheric data\n",
      "Atmospheric data read finished\n",
      "Start Calculate SR\n",
      "Calculate SR finished\n",
      "Start Save SR file \n",
      "Save SR file finished\n",
      "delete file finish\n",
      "time: 86.5 secs, 1.4 mins,0.0 hours\n",
      "start processing 201807030810\n",
      "Himawari8/AHI data Processed Finish\n",
      "data reading finish\n",
      "Start reading Angle data\n"
     ]
    },
    {
     "name": "stderr",
     "output_type": "stream",
     "text": [
      "<ipython-input-11-6827ad66794f>:25: FutureWarning: elementwise comparison failed; returning scalar instead, but in the future will perform elementwise comparison\n",
      "  if AHI_data == 'No data':\n"
     ]
    },
    {
     "name": "stdout",
     "output_type": "stream",
     "text": [
      "Angle data read finished\n",
      "Start reading Atmospheric data\n",
      "Atmospheric data read finished\n",
      "Start Calculate SR\n",
      "Calculate SR finished\n",
      "Start Save SR file \n",
      "Save SR file finished\n",
      "delete file finish\n",
      "time: 87.4 secs, 1.5 mins,0.0 hours\n",
      "start processing 201807030820\n",
      "Himawari8/AHI data Processed Finish\n",
      "data reading finish\n",
      "Start reading Angle data\n"
     ]
    },
    {
     "name": "stderr",
     "output_type": "stream",
     "text": [
      "<ipython-input-11-6827ad66794f>:25: FutureWarning: elementwise comparison failed; returning scalar instead, but in the future will perform elementwise comparison\n",
      "  if AHI_data == 'No data':\n"
     ]
    },
    {
     "name": "stdout",
     "output_type": "stream",
     "text": [
      "Angle data read finished\n",
      "Start reading Atmospheric data\n",
      "Atmospheric data read finished\n",
      "Start Calculate SR\n",
      "Calculate SR finished\n",
      "Start Save SR file \n",
      "Save SR file finished\n",
      "delete file finish\n",
      "time: 90.8 secs, 1.5 mins,0.0 hours\n",
      "start processing 201807030830\n",
      "Himawari8/AHI data Processed Finish\n",
      "data reading finish\n",
      "Start reading Angle data\n"
     ]
    },
    {
     "name": "stderr",
     "output_type": "stream",
     "text": [
      "<ipython-input-11-6827ad66794f>:25: FutureWarning: elementwise comparison failed; returning scalar instead, but in the future will perform elementwise comparison\n",
      "  if AHI_data == 'No data':\n"
     ]
    },
    {
     "name": "stdout",
     "output_type": "stream",
     "text": [
      "Angle data read finished\n",
      "Start reading Atmospheric data\n",
      "Atmospheric data read finished\n",
      "Start Calculate SR\n",
      "Calculate SR finished\n",
      "Start Save SR file \n",
      "Save SR file finished\n",
      "delete file finish\n",
      "time: 76.4 secs, 1.3 mins,0.0 hours\n",
      "start processing 201807030840\n",
      "Himawari8/AHI data Processed Finish\n",
      "data reading finish\n",
      "Start reading Angle data\n"
     ]
    },
    {
     "name": "stderr",
     "output_type": "stream",
     "text": [
      "<ipython-input-11-6827ad66794f>:25: FutureWarning: elementwise comparison failed; returning scalar instead, but in the future will perform elementwise comparison\n",
      "  if AHI_data == 'No data':\n"
     ]
    },
    {
     "name": "stdout",
     "output_type": "stream",
     "text": [
      "Angle data read finished\n",
      "Start reading Atmospheric data\n",
      "Atmospheric data read finished\n",
      "Start Calculate SR\n",
      "Calculate SR finished\n",
      "Start Save SR file \n",
      "Save SR file finished\n",
      "delete file finish\n",
      "time: 132.6 secs, 2.2 mins,0.0 hours\n",
      "start processing 201807030850\n",
      "Himawari8/AHI data Processed Finish\n",
      "data reading finish\n",
      "Start reading Angle data\n"
     ]
    },
    {
     "name": "stderr",
     "output_type": "stream",
     "text": [
      "<ipython-input-11-6827ad66794f>:25: FutureWarning: elementwise comparison failed; returning scalar instead, but in the future will perform elementwise comparison\n",
      "  if AHI_data == 'No data':\n"
     ]
    },
    {
     "name": "stdout",
     "output_type": "stream",
     "text": [
      "Angle data read finished\n",
      "Start reading Atmospheric data\n",
      "Atmospheric data read finished\n",
      "Start Calculate SR\n",
      "Calculate SR finished\n",
      "Start Save SR file \n",
      "Save SR file finished\n",
      "delete file finish\n",
      "time: 73.3 secs, 1.2 mins,0.0 hours\n",
      "start processing 201807030900\n",
      "Himawari8/AHI data Processed Finish\n",
      "data reading finish\n",
      "Start reading Angle data\n"
     ]
    },
    {
     "name": "stderr",
     "output_type": "stream",
     "text": [
      "<ipython-input-11-6827ad66794f>:25: FutureWarning: elementwise comparison failed; returning scalar instead, but in the future will perform elementwise comparison\n",
      "  if AHI_data == 'No data':\n"
     ]
    },
    {
     "name": "stdout",
     "output_type": "stream",
     "text": [
      "Angle data read finished\n",
      "Start reading Atmospheric data\n",
      "Atmospheric data read finished\n",
      "Start Calculate SR\n",
      "Calculate SR finished\n",
      "Start Save SR file \n",
      "Save SR file finished\n",
      "delete file finish\n",
      "time: 68.2 secs, 1.1 mins,0.0 hours\n",
      "start processing 201807040000\n",
      "Himawari8/AHI data Processed Finish\n",
      "data reading finish\n",
      "Start reading Angle data\n"
     ]
    },
    {
     "name": "stderr",
     "output_type": "stream",
     "text": [
      "<ipython-input-11-6827ad66794f>:25: FutureWarning: elementwise comparison failed; returning scalar instead, but in the future will perform elementwise comparison\n",
      "  if AHI_data == 'No data':\n"
     ]
    },
    {
     "name": "stdout",
     "output_type": "stream",
     "text": [
      "Angle data read finished\n",
      "Start reading Atmospheric data\n",
      "Atmospheric data read finished\n",
      "Start Calculate SR\n",
      "Calculate SR finished\n",
      "Start Save SR file \n",
      "Save SR file finished\n",
      "delete file finish\n",
      "time: 65.9 secs, 1.1 mins,0.0 hours\n",
      "start processing 201807040010\n",
      "Himawari8/AHI data Processed Finish\n",
      "data reading finish\n",
      "Start reading Angle data\n"
     ]
    },
    {
     "name": "stderr",
     "output_type": "stream",
     "text": [
      "<ipython-input-11-6827ad66794f>:25: FutureWarning: elementwise comparison failed; returning scalar instead, but in the future will perform elementwise comparison\n",
      "  if AHI_data == 'No data':\n"
     ]
    },
    {
     "name": "stdout",
     "output_type": "stream",
     "text": [
      "Angle data read finished\n",
      "Start reading Atmospheric data\n",
      "Atmospheric data read finished\n",
      "Start Calculate SR\n",
      "Calculate SR finished\n",
      "Start Save SR file \n",
      "Save SR file finished\n",
      "delete file finish\n",
      "time: 117.1 secs, 2.0 mins,0.0 hours\n",
      "start processing 201807040020\n",
      "Himawari8/AHI data Processed Finish\n",
      "data reading finish\n",
      "Start reading Angle data\n"
     ]
    },
    {
     "name": "stderr",
     "output_type": "stream",
     "text": [
      "<ipython-input-11-6827ad66794f>:25: FutureWarning: elementwise comparison failed; returning scalar instead, but in the future will perform elementwise comparison\n",
      "  if AHI_data == 'No data':\n"
     ]
    },
    {
     "name": "stdout",
     "output_type": "stream",
     "text": [
      "Angle data read finished\n",
      "Start reading Atmospheric data\n",
      "Atmospheric data read finished\n",
      "Start Calculate SR\n",
      "Calculate SR finished\n",
      "Start Save SR file \n",
      "Save SR file finished\n",
      "delete file finish\n",
      "time: 74.8 secs, 1.2 mins,0.0 hours\n",
      "start processing 201807040030\n",
      "Himawari8/AHI data Processed Finish\n",
      "data reading finish\n",
      "Start reading Angle data\n"
     ]
    },
    {
     "name": "stderr",
     "output_type": "stream",
     "text": [
      "<ipython-input-11-6827ad66794f>:25: FutureWarning: elementwise comparison failed; returning scalar instead, but in the future will perform elementwise comparison\n",
      "  if AHI_data == 'No data':\n"
     ]
    },
    {
     "name": "stdout",
     "output_type": "stream",
     "text": [
      "Angle data read finished\n",
      "Start reading Atmospheric data\n",
      "Atmospheric data read finished\n",
      "Start Calculate SR\n",
      "Calculate SR finished\n",
      "Start Save SR file \n",
      "Save SR file finished\n",
      "delete file finish\n",
      "time: 67.2 secs, 1.1 mins,0.0 hours\n",
      "start processing 201807040040\n",
      "Himawari8/AHI data Processed Finish\n",
      "data reading finish\n",
      "Start reading Angle data\n"
     ]
    },
    {
     "name": "stderr",
     "output_type": "stream",
     "text": [
      "<ipython-input-11-6827ad66794f>:25: FutureWarning: elementwise comparison failed; returning scalar instead, but in the future will perform elementwise comparison\n",
      "  if AHI_data == 'No data':\n"
     ]
    },
    {
     "name": "stdout",
     "output_type": "stream",
     "text": [
      "Angle data read finished\n",
      "Start reading Atmospheric data\n",
      "Atmospheric data read finished\n",
      "Start Calculate SR\n",
      "Calculate SR finished\n",
      "Start Save SR file \n",
      "Save SR file finished\n",
      "delete file finish\n",
      "time: 66.1 secs, 1.1 mins,0.0 hours\n",
      "start processing 201807040050\n",
      "Himawari8/AHI data Processed Finish\n",
      "data reading finish\n",
      "Start reading Angle data\n"
     ]
    },
    {
     "name": "stderr",
     "output_type": "stream",
     "text": [
      "<ipython-input-11-6827ad66794f>:25: FutureWarning: elementwise comparison failed; returning scalar instead, but in the future will perform elementwise comparison\n",
      "  if AHI_data == 'No data':\n"
     ]
    },
    {
     "name": "stdout",
     "output_type": "stream",
     "text": [
      "Angle data read finished\n",
      "Start reading Atmospheric data\n",
      "Atmospheric data read finished\n",
      "Start Calculate SR\n",
      "Calculate SR finished\n",
      "Start Save SR file \n",
      "Save SR file finished\n",
      "delete file finish\n",
      "time: 67.7 secs, 1.1 mins,0.0 hours\n",
      "start processing 201807040100\n",
      "Himawari8/AHI data Processed Finish\n",
      "data reading finish\n",
      "Start reading Angle data\n"
     ]
    },
    {
     "name": "stderr",
     "output_type": "stream",
     "text": [
      "<ipython-input-11-6827ad66794f>:25: FutureWarning: elementwise comparison failed; returning scalar instead, but in the future will perform elementwise comparison\n",
      "  if AHI_data == 'No data':\n"
     ]
    },
    {
     "name": "stdout",
     "output_type": "stream",
     "text": [
      "Angle data read finished\n",
      "Start reading Atmospheric data\n",
      "Atmospheric data read finished\n",
      "Start Calculate SR\n",
      "Calculate SR finished\n",
      "Start Save SR file \n",
      "Save SR file finished\n",
      "delete file finish\n",
      "time: 65.8 secs, 1.1 mins,0.0 hours\n",
      "start processing 201807040110\n",
      "Himawari8/AHI data Processed Finish\n",
      "data reading finish\n",
      "Start reading Angle data\n"
     ]
    },
    {
     "name": "stderr",
     "output_type": "stream",
     "text": [
      "<ipython-input-11-6827ad66794f>:25: FutureWarning: elementwise comparison failed; returning scalar instead, but in the future will perform elementwise comparison\n",
      "  if AHI_data == 'No data':\n"
     ]
    },
    {
     "name": "stdout",
     "output_type": "stream",
     "text": [
      "Angle data read finished\n",
      "Start reading Atmospheric data\n",
      "Atmospheric data read finished\n",
      "Start Calculate SR\n",
      "Calculate SR finished\n",
      "Start Save SR file \n",
      "Save SR file finished\n",
      "delete file finish\n",
      "time: 63.9 secs, 1.1 mins,0.0 hours\n",
      "start processing 201807040120\n",
      "Himawari8/AHI data Processed Finish\n",
      "data reading finish\n",
      "Start reading Angle data\n"
     ]
    },
    {
     "name": "stderr",
     "output_type": "stream",
     "text": [
      "<ipython-input-11-6827ad66794f>:25: FutureWarning: elementwise comparison failed; returning scalar instead, but in the future will perform elementwise comparison\n",
      "  if AHI_data == 'No data':\n"
     ]
    },
    {
     "name": "stdout",
     "output_type": "stream",
     "text": [
      "Angle data read finished\n",
      "Start reading Atmospheric data\n",
      "Atmospheric data read finished\n",
      "Start Calculate SR\n",
      "Calculate SR finished\n",
      "Start Save SR file \n",
      "Save SR file finished\n",
      "delete file finish\n",
      "time: 70.9 secs, 1.2 mins,0.0 hours\n",
      "start processing 201807040130\n",
      "Himawari8/AHI data Processed Finish\n",
      "data reading finish\n",
      "Start reading Angle data\n"
     ]
    },
    {
     "name": "stderr",
     "output_type": "stream",
     "text": [
      "<ipython-input-11-6827ad66794f>:25: FutureWarning: elementwise comparison failed; returning scalar instead, but in the future will perform elementwise comparison\n",
      "  if AHI_data == 'No data':\n"
     ]
    },
    {
     "name": "stdout",
     "output_type": "stream",
     "text": [
      "Angle data read finished\n",
      "Start reading Atmospheric data\n",
      "Atmospheric data read finished\n",
      "Start Calculate SR\n",
      "Calculate SR finished\n",
      "Start Save SR file \n",
      "Save SR file finished\n",
      "delete file finish\n",
      "time: 105.1 secs, 1.8 mins,0.0 hours\n",
      "start processing 201807040140\n",
      "Himawari8/AHI data Processed Finish\n",
      "data reading finish\n",
      "Start reading Angle data\n"
     ]
    },
    {
     "name": "stderr",
     "output_type": "stream",
     "text": [
      "<ipython-input-11-6827ad66794f>:25: FutureWarning: elementwise comparison failed; returning scalar instead, but in the future will perform elementwise comparison\n",
      "  if AHI_data == 'No data':\n"
     ]
    },
    {
     "name": "stdout",
     "output_type": "stream",
     "text": [
      "Angle data read finished\n",
      "Start reading Atmospheric data\n",
      "Atmospheric data read finished\n",
      "Start Calculate SR\n",
      "Calculate SR finished\n",
      "Start Save SR file \n",
      "Save SR file finished\n",
      "delete file finish\n",
      "time: 66.8 secs, 1.1 mins,0.0 hours\n",
      "start processing 201807040150\n",
      "Himawari8/AHI data Processed Finish\n",
      "data reading finish\n",
      "Start reading Angle data\n"
     ]
    },
    {
     "name": "stderr",
     "output_type": "stream",
     "text": [
      "<ipython-input-11-6827ad66794f>:25: FutureWarning: elementwise comparison failed; returning scalar instead, but in the future will perform elementwise comparison\n",
      "  if AHI_data == 'No data':\n"
     ]
    },
    {
     "name": "stdout",
     "output_type": "stream",
     "text": [
      "Angle data read finished\n",
      "Start reading Atmospheric data\n",
      "Atmospheric data read finished\n",
      "Start Calculate SR\n",
      "Calculate SR finished\n",
      "Start Save SR file \n",
      "Save SR file finished\n",
      "delete file finish\n",
      "time: 66.6 secs, 1.1 mins,0.0 hours\n",
      "start processing 201807040200\n",
      "Himawari8/AHI data Processed Finish\n",
      "data reading finish\n",
      "Start reading Angle data\n"
     ]
    },
    {
     "name": "stderr",
     "output_type": "stream",
     "text": [
      "<ipython-input-11-6827ad66794f>:25: FutureWarning: elementwise comparison failed; returning scalar instead, but in the future will perform elementwise comparison\n",
      "  if AHI_data == 'No data':\n"
     ]
    },
    {
     "name": "stdout",
     "output_type": "stream",
     "text": [
      "Angle data read finished\n",
      "Start reading Atmospheric data\n",
      "Atmospheric data read finished\n",
      "Start Calculate SR\n",
      "Calculate SR finished\n",
      "Start Save SR file \n",
      "Save SR file finished\n",
      "delete file finish\n",
      "time: 62.7 secs, 1.0 mins,0.0 hours\n",
      "start processing 201807040210\n",
      "Himawari8/AHI data Processed Finish\n",
      "data reading finish\n",
      "Start reading Angle data\n"
     ]
    },
    {
     "name": "stderr",
     "output_type": "stream",
     "text": [
      "<ipython-input-11-6827ad66794f>:25: FutureWarning: elementwise comparison failed; returning scalar instead, but in the future will perform elementwise comparison\n",
      "  if AHI_data == 'No data':\n"
     ]
    },
    {
     "name": "stdout",
     "output_type": "stream",
     "text": [
      "Angle data read finished\n",
      "Start reading Atmospheric data\n",
      "Atmospheric data read finished\n",
      "Start Calculate SR\n",
      "Calculate SR finished\n",
      "Start Save SR file \n",
      "Save SR file finished\n",
      "delete file finish\n",
      "time: 64.1 secs, 1.1 mins,0.0 hours\n",
      "start processing 201807040220\n",
      "Himawari8/AHI data Processed Finish\n",
      "data reading finish\n",
      "Start reading Angle data\n"
     ]
    },
    {
     "name": "stderr",
     "output_type": "stream",
     "text": [
      "<ipython-input-11-6827ad66794f>:25: FutureWarning: elementwise comparison failed; returning scalar instead, but in the future will perform elementwise comparison\n",
      "  if AHI_data == 'No data':\n"
     ]
    },
    {
     "name": "stdout",
     "output_type": "stream",
     "text": [
      "Angle data read finished\n",
      "Start reading Atmospheric data\n",
      "Atmospheric data read finished\n",
      "Start Calculate SR\n",
      "Calculate SR finished\n",
      "Start Save SR file \n",
      "Save SR file finished\n",
      "delete file finish\n",
      "time: 66.8 secs, 1.1 mins,0.0 hours\n",
      "start processing 201807040230\n",
      "Himawari8/AHI data Processed Finish\n",
      "data reading finish\n",
      "Start reading Angle data\n"
     ]
    },
    {
     "name": "stderr",
     "output_type": "stream",
     "text": [
      "<ipython-input-11-6827ad66794f>:25: FutureWarning: elementwise comparison failed; returning scalar instead, but in the future will perform elementwise comparison\n",
      "  if AHI_data == 'No data':\n"
     ]
    },
    {
     "name": "stdout",
     "output_type": "stream",
     "text": [
      "Angle data read finished\n",
      "Start reading Atmospheric data\n",
      "Atmospheric data read finished\n",
      "Start Calculate SR\n",
      "Calculate SR finished\n",
      "Start Save SR file \n",
      "Save SR file finished\n",
      "delete file finish\n",
      "time: 70.1 secs, 1.2 mins,0.0 hours\n",
      "start processing 201807040240\n",
      "File Not Found\n",
      "start processing 201807040250\n",
      "Himawari8/AHI data Processed Finish\n",
      "data reading finish\n",
      "Start reading Angle data\n"
     ]
    },
    {
     "name": "stderr",
     "output_type": "stream",
     "text": [
      "<ipython-input-11-6827ad66794f>:25: FutureWarning: elementwise comparison failed; returning scalar instead, but in the future will perform elementwise comparison\n",
      "  if AHI_data == 'No data':\n"
     ]
    },
    {
     "name": "stdout",
     "output_type": "stream",
     "text": [
      "Angle data read finished\n",
      "Start reading Atmospheric data\n",
      "Atmospheric data read finished\n",
      "Start Calculate SR\n",
      "Calculate SR finished\n",
      "Start Save SR file \n",
      "Save SR file finished\n",
      "delete file finish\n",
      "time: 69.0 secs, 1.1 mins,0.0 hours\n",
      "start processing 201807040300\n",
      "Himawari8/AHI data Processed Finish\n",
      "data reading finish\n",
      "Start reading Angle data\n"
     ]
    },
    {
     "name": "stderr",
     "output_type": "stream",
     "text": [
      "<ipython-input-11-6827ad66794f>:25: FutureWarning: elementwise comparison failed; returning scalar instead, but in the future will perform elementwise comparison\n",
      "  if AHI_data == 'No data':\n"
     ]
    },
    {
     "name": "stdout",
     "output_type": "stream",
     "text": [
      "Angle data read finished\n",
      "Start reading Atmospheric data\n",
      "Atmospheric data read finished\n",
      "Start Calculate SR\n",
      "Calculate SR finished\n",
      "Start Save SR file \n",
      "Save SR file finished\n",
      "delete file finish\n",
      "time: 71.8 secs, 1.2 mins,0.0 hours\n",
      "start processing 201807040310\n",
      "Himawari8/AHI data Processed Finish\n",
      "data reading finish\n",
      "Start reading Angle data\n"
     ]
    },
    {
     "name": "stderr",
     "output_type": "stream",
     "text": [
      "<ipython-input-11-6827ad66794f>:25: FutureWarning: elementwise comparison failed; returning scalar instead, but in the future will perform elementwise comparison\n",
      "  if AHI_data == 'No data':\n"
     ]
    },
    {
     "name": "stdout",
     "output_type": "stream",
     "text": [
      "Angle data read finished\n",
      "Start reading Atmospheric data\n",
      "Atmospheric data read finished\n",
      "Start Calculate SR\n",
      "Calculate SR finished\n",
      "Start Save SR file \n",
      "Save SR file finished\n",
      "delete file finish\n",
      "time: 67.7 secs, 1.1 mins,0.0 hours\n",
      "start processing 201807040320\n",
      "Himawari8/AHI data Processed Finish\n",
      "data reading finish\n",
      "Start reading Angle data\n"
     ]
    },
    {
     "name": "stderr",
     "output_type": "stream",
     "text": [
      "<ipython-input-11-6827ad66794f>:25: FutureWarning: elementwise comparison failed; returning scalar instead, but in the future will perform elementwise comparison\n",
      "  if AHI_data == 'No data':\n"
     ]
    },
    {
     "name": "stdout",
     "output_type": "stream",
     "text": [
      "Angle data read finished\n",
      "Start reading Atmospheric data\n",
      "Atmospheric data read finished\n",
      "Start Calculate SR\n",
      "Calculate SR finished\n",
      "Start Save SR file \n",
      "Save SR file finished\n",
      "delete file finish\n",
      "time: 69.7 secs, 1.2 mins,0.0 hours\n",
      "start processing 201807040330\n",
      "Himawari8/AHI data Processed Finish\n",
      "data reading finish\n",
      "Start reading Angle data\n"
     ]
    },
    {
     "name": "stderr",
     "output_type": "stream",
     "text": [
      "<ipython-input-11-6827ad66794f>:25: FutureWarning: elementwise comparison failed; returning scalar instead, but in the future will perform elementwise comparison\n",
      "  if AHI_data == 'No data':\n"
     ]
    },
    {
     "name": "stdout",
     "output_type": "stream",
     "text": [
      "Angle data read finished\n",
      "Start reading Atmospheric data\n",
      "Atmospheric data read finished\n",
      "Start Calculate SR\n",
      "Calculate SR finished\n",
      "Start Save SR file \n",
      "Save SR file finished\n",
      "delete file finish\n",
      "time: 72.6 secs, 1.2 mins,0.0 hours\n",
      "start processing 201807040340\n",
      "Himawari8/AHI data Processed Finish\n",
      "data reading finish\n",
      "Start reading Angle data\n"
     ]
    },
    {
     "name": "stderr",
     "output_type": "stream",
     "text": [
      "<ipython-input-11-6827ad66794f>:25: FutureWarning: elementwise comparison failed; returning scalar instead, but in the future will perform elementwise comparison\n",
      "  if AHI_data == 'No data':\n"
     ]
    },
    {
     "name": "stdout",
     "output_type": "stream",
     "text": [
      "Angle data read finished\n",
      "Start reading Atmospheric data\n",
      "Atmospheric data read finished\n",
      "Start Calculate SR\n",
      "Calculate SR finished\n",
      "Start Save SR file \n",
      "Save SR file finished\n",
      "delete file finish\n",
      "time: 70.0 secs, 1.2 mins,0.0 hours\n",
      "start processing 201807040350\n",
      "Himawari8/AHI data Processed Finish\n",
      "data reading finish\n",
      "Start reading Angle data\n"
     ]
    },
    {
     "name": "stderr",
     "output_type": "stream",
     "text": [
      "<ipython-input-11-6827ad66794f>:25: FutureWarning: elementwise comparison failed; returning scalar instead, but in the future will perform elementwise comparison\n",
      "  if AHI_data == 'No data':\n"
     ]
    },
    {
     "name": "stdout",
     "output_type": "stream",
     "text": [
      "Angle data read finished\n",
      "Start reading Atmospheric data\n",
      "Atmospheric data read finished\n",
      "Start Calculate SR\n",
      "Calculate SR finished\n",
      "Start Save SR file \n",
      "Save SR file finished\n",
      "delete file finish\n",
      "time: 84.3 secs, 1.4 mins,0.0 hours\n",
      "start processing 201807040400\n",
      "Himawari8/AHI data Processed Finish\n",
      "data reading finish\n",
      "Start reading Angle data\n"
     ]
    },
    {
     "name": "stderr",
     "output_type": "stream",
     "text": [
      "<ipython-input-11-6827ad66794f>:25: FutureWarning: elementwise comparison failed; returning scalar instead, but in the future will perform elementwise comparison\n",
      "  if AHI_data == 'No data':\n"
     ]
    },
    {
     "name": "stdout",
     "output_type": "stream",
     "text": [
      "Angle data read finished\n",
      "Start reading Atmospheric data\n",
      "Atmospheric data read finished\n",
      "Start Calculate SR\n",
      "Calculate SR finished\n",
      "Start Save SR file \n",
      "Save SR file finished\n",
      "delete file finish\n",
      "time: 69.4 secs, 1.2 mins,0.0 hours\n",
      "start processing 201807040410\n",
      "Himawari8/AHI data Processed Finish\n",
      "data reading finish\n",
      "Start reading Angle data\n"
     ]
    },
    {
     "name": "stderr",
     "output_type": "stream",
     "text": [
      "<ipython-input-11-6827ad66794f>:25: FutureWarning: elementwise comparison failed; returning scalar instead, but in the future will perform elementwise comparison\n",
      "  if AHI_data == 'No data':\n"
     ]
    },
    {
     "name": "stdout",
     "output_type": "stream",
     "text": [
      "Angle data read finished\n",
      "Start reading Atmospheric data\n",
      "Atmospheric data read finished\n",
      "Start Calculate SR\n",
      "Calculate SR finished\n",
      "Start Save SR file \n",
      "Save SR file finished\n",
      "delete file finish\n",
      "time: 72.5 secs, 1.2 mins,0.0 hours\n",
      "start processing 201807040420\n",
      "Himawari8/AHI data Processed Finish\n",
      "data reading finish\n",
      "Start reading Angle data\n"
     ]
    },
    {
     "name": "stderr",
     "output_type": "stream",
     "text": [
      "<ipython-input-11-6827ad66794f>:25: FutureWarning: elementwise comparison failed; returning scalar instead, but in the future will perform elementwise comparison\n",
      "  if AHI_data == 'No data':\n"
     ]
    },
    {
     "name": "stdout",
     "output_type": "stream",
     "text": [
      "Angle data read finished\n",
      "Start reading Atmospheric data\n",
      "Atmospheric data read finished\n",
      "Start Calculate SR\n",
      "Calculate SR finished\n",
      "Start Save SR file \n",
      "Save SR file finished\n",
      "delete file finish\n",
      "time: 72.6 secs, 1.2 mins,0.0 hours\n",
      "start processing 201807040430\n",
      "Himawari8/AHI data Processed Finish\n",
      "data reading finish\n",
      "Start reading Angle data\n"
     ]
    },
    {
     "name": "stderr",
     "output_type": "stream",
     "text": [
      "<ipython-input-11-6827ad66794f>:25: FutureWarning: elementwise comparison failed; returning scalar instead, but in the future will perform elementwise comparison\n",
      "  if AHI_data == 'No data':\n"
     ]
    },
    {
     "name": "stdout",
     "output_type": "stream",
     "text": [
      "Angle data read finished\n",
      "Start reading Atmospheric data\n",
      "Atmospheric data read finished\n",
      "Start Calculate SR\n",
      "Calculate SR finished\n",
      "Start Save SR file \n",
      "Save SR file finished\n",
      "delete file finish\n",
      "time: 71.4 secs, 1.2 mins,0.0 hours\n",
      "start processing 201807040440\n",
      "Himawari8/AHI data Processed Finish\n",
      "data reading finish\n",
      "Start reading Angle data\n"
     ]
    },
    {
     "name": "stderr",
     "output_type": "stream",
     "text": [
      "<ipython-input-11-6827ad66794f>:25: FutureWarning: elementwise comparison failed; returning scalar instead, but in the future will perform elementwise comparison\n",
      "  if AHI_data == 'No data':\n"
     ]
    },
    {
     "name": "stdout",
     "output_type": "stream",
     "text": [
      "Angle data read finished\n",
      "Start reading Atmospheric data\n",
      "Atmospheric data read finished\n",
      "Start Calculate SR\n",
      "Calculate SR finished\n",
      "Start Save SR file \n",
      "Save SR file finished\n",
      "delete file finish\n",
      "time: 75.0 secs, 1.3 mins,0.0 hours\n",
      "start processing 201807040450\n",
      "Himawari8/AHI data Processed Finish\n",
      "data reading finish\n",
      "Start reading Angle data\n"
     ]
    },
    {
     "name": "stderr",
     "output_type": "stream",
     "text": [
      "<ipython-input-11-6827ad66794f>:25: FutureWarning: elementwise comparison failed; returning scalar instead, but in the future will perform elementwise comparison\n",
      "  if AHI_data == 'No data':\n"
     ]
    },
    {
     "name": "stdout",
     "output_type": "stream",
     "text": [
      "Angle data read finished\n",
      "Start reading Atmospheric data\n",
      "Atmospheric data read finished\n",
      "Start Calculate SR\n",
      "Calculate SR finished\n",
      "Start Save SR file \n",
      "Save SR file finished\n",
      "delete file finish\n",
      "time: 67.1 secs, 1.1 mins,0.0 hours\n",
      "start processing 201807040500\n",
      "Himawari8/AHI data Processed Finish\n",
      "data reading finish\n",
      "Start reading Angle data\n"
     ]
    },
    {
     "name": "stderr",
     "output_type": "stream",
     "text": [
      "<ipython-input-11-6827ad66794f>:25: FutureWarning: elementwise comparison failed; returning scalar instead, but in the future will perform elementwise comparison\n",
      "  if AHI_data == 'No data':\n"
     ]
    },
    {
     "name": "stdout",
     "output_type": "stream",
     "text": [
      "Angle data read finished\n",
      "Start reading Atmospheric data\n",
      "Atmospheric data read finished\n",
      "Start Calculate SR\n",
      "Calculate SR finished\n",
      "Start Save SR file \n",
      "Save SR file finished\n",
      "delete file finish\n",
      "time: 73.0 secs, 1.2 mins,0.0 hours\n",
      "start processing 201807040510\n",
      "Himawari8/AHI data Processed Finish\n",
      "data reading finish\n",
      "Start reading Angle data\n"
     ]
    },
    {
     "name": "stderr",
     "output_type": "stream",
     "text": [
      "<ipython-input-11-6827ad66794f>:25: FutureWarning: elementwise comparison failed; returning scalar instead, but in the future will perform elementwise comparison\n",
      "  if AHI_data == 'No data':\n"
     ]
    },
    {
     "name": "stdout",
     "output_type": "stream",
     "text": [
      "Angle data read finished\n",
      "Start reading Atmospheric data\n",
      "Atmospheric data read finished\n",
      "Start Calculate SR\n",
      "Calculate SR finished\n",
      "Start Save SR file \n",
      "Save SR file finished\n",
      "delete file finish\n",
      "time: 65.6 secs, 1.1 mins,0.0 hours\n",
      "start processing 201807040520\n",
      "Himawari8/AHI data Processed Finish\n",
      "data reading finish\n",
      "Start reading Angle data\n"
     ]
    },
    {
     "name": "stderr",
     "output_type": "stream",
     "text": [
      "<ipython-input-11-6827ad66794f>:25: FutureWarning: elementwise comparison failed; returning scalar instead, but in the future will perform elementwise comparison\n",
      "  if AHI_data == 'No data':\n"
     ]
    },
    {
     "name": "stdout",
     "output_type": "stream",
     "text": [
      "Angle data read finished\n",
      "Start reading Atmospheric data\n",
      "Atmospheric data read finished\n",
      "Start Calculate SR\n",
      "Calculate SR finished\n",
      "Start Save SR file \n",
      "Save SR file finished\n",
      "delete file finish\n",
      "time: 81.2 secs, 1.4 mins,0.0 hours\n",
      "start processing 201807040530\n",
      "Himawari8/AHI data Processed Finish\n",
      "data reading finish\n",
      "Start reading Angle data\n"
     ]
    },
    {
     "name": "stderr",
     "output_type": "stream",
     "text": [
      "<ipython-input-11-6827ad66794f>:25: FutureWarning: elementwise comparison failed; returning scalar instead, but in the future will perform elementwise comparison\n",
      "  if AHI_data == 'No data':\n"
     ]
    },
    {
     "name": "stdout",
     "output_type": "stream",
     "text": [
      "Angle data read finished\n",
      "Start reading Atmospheric data\n",
      "Atmospheric data read finished\n",
      "Start Calculate SR\n",
      "Calculate SR finished\n",
      "Start Save SR file \n",
      "Save SR file finished\n",
      "delete file finish\n",
      "time: 68.1 secs, 1.1 mins,0.0 hours\n",
      "start processing 201807040540\n",
      "Himawari8/AHI data Processed Finish\n",
      "data reading finish\n",
      "Start reading Angle data\n"
     ]
    },
    {
     "name": "stderr",
     "output_type": "stream",
     "text": [
      "<ipython-input-11-6827ad66794f>:25: FutureWarning: elementwise comparison failed; returning scalar instead, but in the future will perform elementwise comparison\n",
      "  if AHI_data == 'No data':\n"
     ]
    },
    {
     "name": "stdout",
     "output_type": "stream",
     "text": [
      "Angle data read finished\n",
      "Start reading Atmospheric data\n",
      "Atmospheric data read finished\n",
      "Start Calculate SR\n",
      "Calculate SR finished\n",
      "Start Save SR file \n",
      "Save SR file finished\n",
      "delete file finish\n",
      "time: 73.1 secs, 1.2 mins,0.0 hours\n",
      "start processing 201807040550\n",
      "Himawari8/AHI data Processed Finish\n",
      "data reading finish\n",
      "Start reading Angle data\n"
     ]
    },
    {
     "name": "stderr",
     "output_type": "stream",
     "text": [
      "<ipython-input-11-6827ad66794f>:25: FutureWarning: elementwise comparison failed; returning scalar instead, but in the future will perform elementwise comparison\n",
      "  if AHI_data == 'No data':\n"
     ]
    },
    {
     "name": "stdout",
     "output_type": "stream",
     "text": [
      "Angle data read finished\n",
      "Start reading Atmospheric data\n",
      "Atmospheric data read finished\n",
      "Start Calculate SR\n",
      "Calculate SR finished\n",
      "Start Save SR file \n",
      "Save SR file finished\n",
      "delete file finish\n",
      "time: 68.9 secs, 1.1 mins,0.0 hours\n",
      "start processing 201807040600\n",
      "Himawari8/AHI data Processed Finish\n",
      "data reading finish\n",
      "Start reading Angle data\n"
     ]
    },
    {
     "name": "stderr",
     "output_type": "stream",
     "text": [
      "<ipython-input-11-6827ad66794f>:25: FutureWarning: elementwise comparison failed; returning scalar instead, but in the future will perform elementwise comparison\n",
      "  if AHI_data == 'No data':\n"
     ]
    },
    {
     "name": "stdout",
     "output_type": "stream",
     "text": [
      "Angle data read finished\n",
      "Start reading Atmospheric data\n",
      "Atmospheric data read finished\n",
      "Start Calculate SR\n",
      "Calculate SR finished\n",
      "Start Save SR file \n",
      "Save SR file finished\n",
      "delete file finish\n",
      "time: 70.8 secs, 1.2 mins,0.0 hours\n",
      "start processing 201807040610\n",
      "Himawari8/AHI data Processed Finish\n",
      "data reading finish\n",
      "Start reading Angle data\n"
     ]
    },
    {
     "name": "stderr",
     "output_type": "stream",
     "text": [
      "<ipython-input-11-6827ad66794f>:25: FutureWarning: elementwise comparison failed; returning scalar instead, but in the future will perform elementwise comparison\n",
      "  if AHI_data == 'No data':\n"
     ]
    },
    {
     "name": "stdout",
     "output_type": "stream",
     "text": [
      "Angle data read finished\n",
      "Start reading Atmospheric data\n",
      "Atmospheric data read finished\n",
      "Start Calculate SR\n",
      "Calculate SR finished\n",
      "Start Save SR file \n",
      "Save SR file finished\n",
      "delete file finish\n",
      "time: 75.6 secs, 1.3 mins,0.0 hours\n",
      "start processing 201807040620\n",
      "Himawari8/AHI data Processed Finish\n",
      "data reading finish\n",
      "Start reading Angle data\n"
     ]
    },
    {
     "name": "stderr",
     "output_type": "stream",
     "text": [
      "<ipython-input-11-6827ad66794f>:25: FutureWarning: elementwise comparison failed; returning scalar instead, but in the future will perform elementwise comparison\n",
      "  if AHI_data == 'No data':\n"
     ]
    },
    {
     "name": "stdout",
     "output_type": "stream",
     "text": [
      "Angle data read finished\n",
      "Start reading Atmospheric data\n",
      "Atmospheric data read finished\n",
      "Start Calculate SR\n",
      "Calculate SR finished\n",
      "Start Save SR file \n",
      "Save SR file finished\n",
      "delete file finish\n",
      "time: 67.0 secs, 1.1 mins,0.0 hours\n",
      "start processing 201807040630\n",
      "Himawari8/AHI data Processed Finish\n",
      "data reading finish\n",
      "Start reading Angle data\n"
     ]
    },
    {
     "name": "stderr",
     "output_type": "stream",
     "text": [
      "<ipython-input-11-6827ad66794f>:25: FutureWarning: elementwise comparison failed; returning scalar instead, but in the future will perform elementwise comparison\n",
      "  if AHI_data == 'No data':\n"
     ]
    },
    {
     "name": "stdout",
     "output_type": "stream",
     "text": [
      "Angle data read finished\n",
      "Start reading Atmospheric data\n",
      "Atmospheric data read finished\n",
      "Start Calculate SR\n",
      "Calculate SR finished\n",
      "Start Save SR file \n",
      "Save SR file finished\n",
      "delete file finish\n",
      "time: 69.0 secs, 1.2 mins,0.0 hours\n",
      "start processing 201807040640\n",
      "Himawari8/AHI data Processed Finish\n",
      "data reading finish\n",
      "Start reading Angle data\n"
     ]
    },
    {
     "name": "stderr",
     "output_type": "stream",
     "text": [
      "<ipython-input-11-6827ad66794f>:25: FutureWarning: elementwise comparison failed; returning scalar instead, but in the future will perform elementwise comparison\n",
      "  if AHI_data == 'No data':\n"
     ]
    },
    {
     "name": "stdout",
     "output_type": "stream",
     "text": [
      "Angle data read finished\n",
      "Start reading Atmospheric data\n",
      "Atmospheric data read finished\n",
      "Start Calculate SR\n",
      "Calculate SR finished\n",
      "Start Save SR file \n",
      "Save SR file finished\n",
      "delete file finish\n",
      "time: 67.8 secs, 1.1 mins,0.0 hours\n",
      "start processing 201807040650\n",
      "Himawari8/AHI data Processed Finish\n",
      "data reading finish\n",
      "Start reading Angle data\n"
     ]
    },
    {
     "name": "stderr",
     "output_type": "stream",
     "text": [
      "<ipython-input-11-6827ad66794f>:25: FutureWarning: elementwise comparison failed; returning scalar instead, but in the future will perform elementwise comparison\n",
      "  if AHI_data == 'No data':\n"
     ]
    },
    {
     "name": "stdout",
     "output_type": "stream",
     "text": [
      "Angle data read finished\n",
      "Start reading Atmospheric data\n",
      "Atmospheric data read finished\n",
      "Start Calculate SR\n",
      "Calculate SR finished\n",
      "Start Save SR file \n",
      "Save SR file finished\n",
      "delete file finish\n",
      "time: 87.1 secs, 1.5 mins,0.0 hours\n",
      "start processing 201807040700\n",
      "Himawari8/AHI data Processed Finish\n",
      "data reading finish\n",
      "Start reading Angle data\n"
     ]
    },
    {
     "name": "stderr",
     "output_type": "stream",
     "text": [
      "<ipython-input-11-6827ad66794f>:25: FutureWarning: elementwise comparison failed; returning scalar instead, but in the future will perform elementwise comparison\n",
      "  if AHI_data == 'No data':\n"
     ]
    },
    {
     "name": "stdout",
     "output_type": "stream",
     "text": [
      "Angle data read finished\n",
      "Start reading Atmospheric data\n",
      "Atmospheric data read finished\n",
      "Start Calculate SR\n",
      "Calculate SR finished\n",
      "Start Save SR file \n",
      "Save SR file finished\n",
      "delete file finish\n",
      "time: 73.5 secs, 1.2 mins,0.0 hours\n",
      "start processing 201807040710\n",
      "Himawari8/AHI data Processed Finish\n",
      "data reading finish\n",
      "Start reading Angle data\n"
     ]
    },
    {
     "name": "stderr",
     "output_type": "stream",
     "text": [
      "<ipython-input-11-6827ad66794f>:25: FutureWarning: elementwise comparison failed; returning scalar instead, but in the future will perform elementwise comparison\n",
      "  if AHI_data == 'No data':\n"
     ]
    },
    {
     "name": "stdout",
     "output_type": "stream",
     "text": [
      "Angle data read finished\n",
      "Start reading Atmospheric data\n",
      "Atmospheric data read finished\n",
      "Start Calculate SR\n",
      "Calculate SR finished\n",
      "Start Save SR file \n",
      "Save SR file finished\n",
      "delete file finish\n",
      "time: 63.7 secs, 1.1 mins,0.0 hours\n",
      "start processing 201807040720\n",
      "Himawari8/AHI data Processed Finish\n",
      "data reading finish\n",
      "Start reading Angle data\n"
     ]
    },
    {
     "name": "stderr",
     "output_type": "stream",
     "text": [
      "<ipython-input-11-6827ad66794f>:25: FutureWarning: elementwise comparison failed; returning scalar instead, but in the future will perform elementwise comparison\n",
      "  if AHI_data == 'No data':\n"
     ]
    },
    {
     "name": "stdout",
     "output_type": "stream",
     "text": [
      "Angle data read finished\n",
      "Start reading Atmospheric data\n",
      "Atmospheric data read finished\n",
      "Start Calculate SR\n",
      "Calculate SR finished\n",
      "Start Save SR file \n",
      "Save SR file finished\n",
      "delete file finish\n",
      "time: 67.9 secs, 1.1 mins,0.0 hours\n",
      "start processing 201807040730\n",
      "Himawari8/AHI data Processed Finish\n",
      "data reading finish\n",
      "Start reading Angle data\n"
     ]
    },
    {
     "name": "stderr",
     "output_type": "stream",
     "text": [
      "<ipython-input-11-6827ad66794f>:25: FutureWarning: elementwise comparison failed; returning scalar instead, but in the future will perform elementwise comparison\n",
      "  if AHI_data == 'No data':\n"
     ]
    },
    {
     "name": "stdout",
     "output_type": "stream",
     "text": [
      "Angle data read finished\n",
      "Start reading Atmospheric data\n",
      "Atmospheric data read finished\n",
      "Start Calculate SR\n",
      "Calculate SR finished\n",
      "Start Save SR file \n",
      "Save SR file finished\n",
      "delete file finish\n",
      "time: 66.5 secs, 1.1 mins,0.0 hours\n",
      "start processing 201807040740\n",
      "Himawari8/AHI data Processed Finish\n",
      "data reading finish\n",
      "Start reading Angle data\n"
     ]
    },
    {
     "name": "stderr",
     "output_type": "stream",
     "text": [
      "<ipython-input-11-6827ad66794f>:25: FutureWarning: elementwise comparison failed; returning scalar instead, but in the future will perform elementwise comparison\n",
      "  if AHI_data == 'No data':\n"
     ]
    },
    {
     "name": "stdout",
     "output_type": "stream",
     "text": [
      "Angle data read finished\n",
      "Start reading Atmospheric data\n",
      "Atmospheric data read finished\n",
      "Start Calculate SR\n",
      "Calculate SR finished\n",
      "Start Save SR file \n",
      "Save SR file finished\n",
      "delete file finish\n",
      "time: 64.7 secs, 1.1 mins,0.0 hours\n",
      "start processing 201807040750\n",
      "Himawari8/AHI data Processed Finish\n",
      "data reading finish\n",
      "Start reading Angle data\n"
     ]
    },
    {
     "name": "stderr",
     "output_type": "stream",
     "text": [
      "<ipython-input-11-6827ad66794f>:25: FutureWarning: elementwise comparison failed; returning scalar instead, but in the future will perform elementwise comparison\n",
      "  if AHI_data == 'No data':\n"
     ]
    },
    {
     "name": "stdout",
     "output_type": "stream",
     "text": [
      "Angle data read finished\n",
      "Start reading Atmospheric data\n",
      "Atmospheric data read finished\n",
      "Start Calculate SR\n",
      "Calculate SR finished\n",
      "Start Save SR file \n",
      "Save SR file finished\n",
      "delete file finish\n",
      "time: 75.3 secs, 1.3 mins,0.0 hours\n",
      "start processing 201807040800\n",
      "Himawari8/AHI data Processed Finish\n",
      "data reading finish\n",
      "Start reading Angle data\n"
     ]
    },
    {
     "name": "stderr",
     "output_type": "stream",
     "text": [
      "<ipython-input-11-6827ad66794f>:25: FutureWarning: elementwise comparison failed; returning scalar instead, but in the future will perform elementwise comparison\n",
      "  if AHI_data == 'No data':\n"
     ]
    },
    {
     "name": "stdout",
     "output_type": "stream",
     "text": [
      "Angle data read finished\n",
      "Start reading Atmospheric data\n",
      "Atmospheric data read finished\n",
      "Start Calculate SR\n",
      "Calculate SR finished\n",
      "Start Save SR file \n",
      "Save SR file finished\n",
      "delete file finish\n",
      "time: 70.6 secs, 1.2 mins,0.0 hours\n",
      "start processing 201807040810\n",
      "Himawari8/AHI data Processed Finish\n",
      "data reading finish\n",
      "Start reading Angle data\n"
     ]
    },
    {
     "name": "stderr",
     "output_type": "stream",
     "text": [
      "<ipython-input-11-6827ad66794f>:25: FutureWarning: elementwise comparison failed; returning scalar instead, but in the future will perform elementwise comparison\n",
      "  if AHI_data == 'No data':\n"
     ]
    },
    {
     "name": "stdout",
     "output_type": "stream",
     "text": [
      "Angle data read finished\n",
      "Start reading Atmospheric data\n",
      "Atmospheric data read finished\n",
      "Start Calculate SR\n",
      "Calculate SR finished\n",
      "Start Save SR file \n",
      "Save SR file finished\n",
      "delete file finish\n",
      "time: 65.5 secs, 1.1 mins,0.0 hours\n",
      "start processing 201807040820\n",
      "Himawari8/AHI data Processed Finish\n",
      "data reading finish\n",
      "Start reading Angle data\n"
     ]
    },
    {
     "name": "stderr",
     "output_type": "stream",
     "text": [
      "<ipython-input-11-6827ad66794f>:25: FutureWarning: elementwise comparison failed; returning scalar instead, but in the future will perform elementwise comparison\n",
      "  if AHI_data == 'No data':\n"
     ]
    },
    {
     "name": "stdout",
     "output_type": "stream",
     "text": [
      "Angle data read finished\n",
      "Start reading Atmospheric data\n",
      "Atmospheric data read finished\n",
      "Start Calculate SR\n",
      "Calculate SR finished\n",
      "Start Save SR file \n",
      "Save SR file finished\n",
      "delete file finish\n",
      "time: 73.6 secs, 1.2 mins,0.0 hours\n",
      "start processing 201807040830\n",
      "Himawari8/AHI data Processed Finish\n",
      "data reading finish\n",
      "Start reading Angle data\n"
     ]
    },
    {
     "name": "stderr",
     "output_type": "stream",
     "text": [
      "<ipython-input-11-6827ad66794f>:25: FutureWarning: elementwise comparison failed; returning scalar instead, but in the future will perform elementwise comparison\n",
      "  if AHI_data == 'No data':\n"
     ]
    },
    {
     "name": "stdout",
     "output_type": "stream",
     "text": [
      "Angle data read finished\n",
      "Start reading Atmospheric data\n",
      "Atmospheric data read finished\n",
      "Start Calculate SR\n",
      "Calculate SR finished\n",
      "Start Save SR file \n",
      "Save SR file finished\n",
      "delete file finish\n",
      "time: 68.8 secs, 1.1 mins,0.0 hours\n",
      "start processing 201807040840\n",
      "Himawari8/AHI data Processed Finish\n",
      "data reading finish\n",
      "Start reading Angle data\n"
     ]
    },
    {
     "name": "stderr",
     "output_type": "stream",
     "text": [
      "<ipython-input-11-6827ad66794f>:25: FutureWarning: elementwise comparison failed; returning scalar instead, but in the future will perform elementwise comparison\n",
      "  if AHI_data == 'No data':\n"
     ]
    },
    {
     "name": "stdout",
     "output_type": "stream",
     "text": [
      "Angle data read finished\n",
      "Start reading Atmospheric data\n",
      "Atmospheric data read finished\n",
      "Start Calculate SR\n",
      "Calculate SR finished\n",
      "Start Save SR file \n",
      "Save SR file finished\n",
      "delete file finish\n",
      "time: 66.6 secs, 1.1 mins,0.0 hours\n",
      "start processing 201807040850\n",
      "Himawari8/AHI data Processed Finish\n",
      "data reading finish\n",
      "Start reading Angle data\n"
     ]
    },
    {
     "name": "stderr",
     "output_type": "stream",
     "text": [
      "<ipython-input-11-6827ad66794f>:25: FutureWarning: elementwise comparison failed; returning scalar instead, but in the future will perform elementwise comparison\n",
      "  if AHI_data == 'No data':\n"
     ]
    },
    {
     "name": "stdout",
     "output_type": "stream",
     "text": [
      "Angle data read finished\n",
      "Start reading Atmospheric data\n",
      "Atmospheric data read finished\n",
      "Start Calculate SR\n",
      "Calculate SR finished\n",
      "Start Save SR file \n",
      "Save SR file finished\n",
      "delete file finish\n",
      "time: 65.6 secs, 1.1 mins,0.0 hours\n",
      "start processing 201807040900\n",
      "Himawari8/AHI data Processed Finish\n",
      "data reading finish\n",
      "Start reading Angle data\n"
     ]
    },
    {
     "name": "stderr",
     "output_type": "stream",
     "text": [
      "<ipython-input-11-6827ad66794f>:25: FutureWarning: elementwise comparison failed; returning scalar instead, but in the future will perform elementwise comparison\n",
      "  if AHI_data == 'No data':\n"
     ]
    },
    {
     "name": "stdout",
     "output_type": "stream",
     "text": [
      "Angle data read finished\n",
      "Start reading Atmospheric data\n",
      "Atmospheric data read finished\n",
      "Start Calculate SR\n",
      "Calculate SR finished\n",
      "Start Save SR file \n",
      "Save SR file finished\n",
      "delete file finish\n",
      "time: 67.3 secs, 1.1 mins,0.0 hours\n",
      "start processing 201807050000\n",
      "Himawari8/AHI data Processed Finish\n",
      "data reading finish\n",
      "Start reading Angle data\n"
     ]
    },
    {
     "name": "stderr",
     "output_type": "stream",
     "text": [
      "<ipython-input-11-6827ad66794f>:25: FutureWarning: elementwise comparison failed; returning scalar instead, but in the future will perform elementwise comparison\n",
      "  if AHI_data == 'No data':\n"
     ]
    },
    {
     "name": "stdout",
     "output_type": "stream",
     "text": [
      "Angle data read finished\n",
      "Start reading Atmospheric data\n",
      "Atmospheric data read finished\n",
      "Start Calculate SR\n",
      "Calculate SR finished\n",
      "Start Save SR file \n",
      "Save SR file finished\n",
      "delete file finish\n",
      "time: 82.7 secs, 1.4 mins,0.0 hours\n",
      "start processing 201807050010\n",
      "Himawari8/AHI data Processed Finish\n",
      "data reading finish\n",
      "Start reading Angle data\n"
     ]
    },
    {
     "name": "stderr",
     "output_type": "stream",
     "text": [
      "<ipython-input-11-6827ad66794f>:25: FutureWarning: elementwise comparison failed; returning scalar instead, but in the future will perform elementwise comparison\n",
      "  if AHI_data == 'No data':\n"
     ]
    },
    {
     "name": "stdout",
     "output_type": "stream",
     "text": [
      "Angle data read finished\n",
      "Start reading Atmospheric data\n",
      "Atmospheric data read finished\n",
      "Start Calculate SR\n",
      "Calculate SR finished\n",
      "Start Save SR file \n",
      "Save SR file finished\n",
      "delete file finish\n",
      "time: 68.7 secs, 1.1 mins,0.0 hours\n",
      "start processing 201807050020\n",
      "Himawari8/AHI data Processed Finish\n",
      "data reading finish\n",
      "Start reading Angle data\n"
     ]
    },
    {
     "name": "stderr",
     "output_type": "stream",
     "text": [
      "<ipython-input-11-6827ad66794f>:25: FutureWarning: elementwise comparison failed; returning scalar instead, but in the future will perform elementwise comparison\n",
      "  if AHI_data == 'No data':\n"
     ]
    },
    {
     "name": "stdout",
     "output_type": "stream",
     "text": [
      "Angle data read finished\n",
      "Start reading Atmospheric data\n",
      "Atmospheric data read finished\n",
      "Start Calculate SR\n",
      "Calculate SR finished\n",
      "Start Save SR file \n",
      "Save SR file finished\n",
      "delete file finish\n",
      "time: 72.7 secs, 1.2 mins,0.0 hours\n",
      "start processing 201807050030\n",
      "Himawari8/AHI data Processed Finish\n",
      "data reading finish\n",
      "Start reading Angle data\n"
     ]
    },
    {
     "name": "stderr",
     "output_type": "stream",
     "text": [
      "<ipython-input-11-6827ad66794f>:25: FutureWarning: elementwise comparison failed; returning scalar instead, but in the future will perform elementwise comparison\n",
      "  if AHI_data == 'No data':\n"
     ]
    },
    {
     "name": "stdout",
     "output_type": "stream",
     "text": [
      "Angle data read finished\n",
      "Start reading Atmospheric data\n",
      "Atmospheric data read finished\n",
      "Start Calculate SR\n",
      "Calculate SR finished\n",
      "Start Save SR file \n",
      "Save SR file finished\n",
      "delete file finish\n",
      "time: 71.6 secs, 1.2 mins,0.0 hours\n",
      "start processing 201807050040\n",
      "Himawari8/AHI data Processed Finish\n",
      "data reading finish\n",
      "Start reading Angle data\n"
     ]
    },
    {
     "name": "stderr",
     "output_type": "stream",
     "text": [
      "<ipython-input-11-6827ad66794f>:25: FutureWarning: elementwise comparison failed; returning scalar instead, but in the future will perform elementwise comparison\n",
      "  if AHI_data == 'No data':\n"
     ]
    },
    {
     "name": "stdout",
     "output_type": "stream",
     "text": [
      "Angle data read finished\n",
      "Start reading Atmospheric data\n",
      "Atmospheric data read finished\n",
      "Start Calculate SR\n",
      "Calculate SR finished\n",
      "Start Save SR file \n",
      "Save SR file finished\n",
      "delete file finish\n",
      "time: 71.7 secs, 1.2 mins,0.0 hours\n",
      "start processing 201807050050\n",
      "Himawari8/AHI data Processed Finish\n",
      "data reading finish\n",
      "Start reading Angle data\n"
     ]
    },
    {
     "name": "stderr",
     "output_type": "stream",
     "text": [
      "<ipython-input-11-6827ad66794f>:25: FutureWarning: elementwise comparison failed; returning scalar instead, but in the future will perform elementwise comparison\n",
      "  if AHI_data == 'No data':\n"
     ]
    },
    {
     "name": "stdout",
     "output_type": "stream",
     "text": [
      "Angle data read finished\n",
      "Start reading Atmospheric data\n",
      "Atmospheric data read finished\n",
      "Start Calculate SR\n",
      "Calculate SR finished\n",
      "Start Save SR file \n",
      "Save SR file finished\n",
      "delete file finish\n",
      "time: 69.3 secs, 1.2 mins,0.0 hours\n",
      "start processing 201807050100\n",
      "Himawari8/AHI data Processed Finish\n",
      "data reading finish\n",
      "Start reading Angle data\n"
     ]
    },
    {
     "name": "stderr",
     "output_type": "stream",
     "text": [
      "<ipython-input-11-6827ad66794f>:25: FutureWarning: elementwise comparison failed; returning scalar instead, but in the future will perform elementwise comparison\n",
      "  if AHI_data == 'No data':\n"
     ]
    },
    {
     "name": "stdout",
     "output_type": "stream",
     "text": [
      "Angle data read finished\n",
      "Start reading Atmospheric data\n",
      "Atmospheric data read finished\n",
      "Start Calculate SR\n",
      "Calculate SR finished\n",
      "Start Save SR file \n",
      "Save SR file finished\n",
      "delete file finish\n",
      "time: 70.3 secs, 1.2 mins,0.0 hours\n",
      "start processing 201807050110\n",
      "Himawari8/AHI data Processed Finish\n",
      "data reading finish\n",
      "Start reading Angle data\n"
     ]
    },
    {
     "name": "stderr",
     "output_type": "stream",
     "text": [
      "<ipython-input-11-6827ad66794f>:25: FutureWarning: elementwise comparison failed; returning scalar instead, but in the future will perform elementwise comparison\n",
      "  if AHI_data == 'No data':\n"
     ]
    },
    {
     "name": "stdout",
     "output_type": "stream",
     "text": [
      "Angle data read finished\n",
      "Start reading Atmospheric data\n",
      "Atmospheric data read finished\n",
      "Start Calculate SR\n",
      "Calculate SR finished\n",
      "Start Save SR file \n",
      "Save SR file finished\n",
      "delete file finish\n",
      "time: 71.6 secs, 1.2 mins,0.0 hours\n",
      "start processing 201807050120\n",
      "Himawari8/AHI data Processed Finish\n",
      "data reading finish\n",
      "Start reading Angle data\n"
     ]
    },
    {
     "name": "stderr",
     "output_type": "stream",
     "text": [
      "<ipython-input-11-6827ad66794f>:25: FutureWarning: elementwise comparison failed; returning scalar instead, but in the future will perform elementwise comparison\n",
      "  if AHI_data == 'No data':\n"
     ]
    },
    {
     "name": "stdout",
     "output_type": "stream",
     "text": [
      "Angle data read finished\n",
      "Start reading Atmospheric data\n",
      "Atmospheric data read finished\n",
      "Start Calculate SR\n",
      "Calculate SR finished\n",
      "Start Save SR file \n",
      "Save SR file finished\n",
      "delete file finish\n",
      "time: 68.9 secs, 1.1 mins,0.0 hours\n",
      "start processing 201807050130\n",
      "Himawari8/AHI data Processed Finish\n",
      "data reading finish\n",
      "Start reading Angle data\n"
     ]
    },
    {
     "name": "stderr",
     "output_type": "stream",
     "text": [
      "<ipython-input-11-6827ad66794f>:25: FutureWarning: elementwise comparison failed; returning scalar instead, but in the future will perform elementwise comparison\n",
      "  if AHI_data == 'No data':\n"
     ]
    },
    {
     "name": "stdout",
     "output_type": "stream",
     "text": [
      "Angle data read finished\n",
      "Start reading Atmospheric data\n",
      "Atmospheric data read finished\n",
      "Start Calculate SR\n",
      "Calculate SR finished\n",
      "Start Save SR file \n",
      "Save SR file finished\n",
      "delete file finish\n",
      "time: 68.1 secs, 1.1 mins,0.0 hours\n",
      "start processing 201807050140\n",
      "Himawari8/AHI data Processed Finish\n",
      "data reading finish\n",
      "Start reading Angle data\n"
     ]
    },
    {
     "name": "stderr",
     "output_type": "stream",
     "text": [
      "<ipython-input-11-6827ad66794f>:25: FutureWarning: elementwise comparison failed; returning scalar instead, but in the future will perform elementwise comparison\n",
      "  if AHI_data == 'No data':\n"
     ]
    },
    {
     "name": "stdout",
     "output_type": "stream",
     "text": [
      "Angle data read finished\n",
      "Start reading Atmospheric data\n",
      "Atmospheric data read finished\n",
      "Start Calculate SR\n",
      "Calculate SR finished\n",
      "Start Save SR file \n",
      "Save SR file finished\n",
      "delete file finish\n",
      "time: 65.1 secs, 1.1 mins,0.0 hours\n",
      "start processing 201807050150\n",
      "Himawari8/AHI data Processed Finish\n",
      "data reading finish\n",
      "Start reading Angle data\n"
     ]
    },
    {
     "name": "stderr",
     "output_type": "stream",
     "text": [
      "<ipython-input-11-6827ad66794f>:25: FutureWarning: elementwise comparison failed; returning scalar instead, but in the future will perform elementwise comparison\n",
      "  if AHI_data == 'No data':\n"
     ]
    },
    {
     "name": "stdout",
     "output_type": "stream",
     "text": [
      "Angle data read finished\n",
      "Start reading Atmospheric data\n",
      "Atmospheric data read finished\n",
      "Start Calculate SR\n",
      "Calculate SR finished\n",
      "Start Save SR file \n",
      "Save SR file finished\n",
      "delete file finish\n",
      "time: 90.5 secs, 1.5 mins,0.0 hours\n",
      "start processing 201807050200\n",
      "Himawari8/AHI data Processed Finish\n",
      "data reading finish\n",
      "Start reading Angle data\n"
     ]
    },
    {
     "name": "stderr",
     "output_type": "stream",
     "text": [
      "<ipython-input-11-6827ad66794f>:25: FutureWarning: elementwise comparison failed; returning scalar instead, but in the future will perform elementwise comparison\n",
      "  if AHI_data == 'No data':\n"
     ]
    },
    {
     "name": "stdout",
     "output_type": "stream",
     "text": [
      "Angle data read finished\n",
      "Start reading Atmospheric data\n",
      "Atmospheric data read finished\n",
      "Start Calculate SR\n",
      "Calculate SR finished\n",
      "Start Save SR file \n",
      "Save SR file finished\n",
      "delete file finish\n",
      "time: 65.4 secs, 1.1 mins,0.0 hours\n",
      "start processing 201807050210\n",
      "Himawari8/AHI data Processed Finish\n",
      "data reading finish\n",
      "Start reading Angle data\n"
     ]
    },
    {
     "name": "stderr",
     "output_type": "stream",
     "text": [
      "<ipython-input-11-6827ad66794f>:25: FutureWarning: elementwise comparison failed; returning scalar instead, but in the future will perform elementwise comparison\n",
      "  if AHI_data == 'No data':\n"
     ]
    },
    {
     "name": "stdout",
     "output_type": "stream",
     "text": [
      "Angle data read finished\n",
      "Start reading Atmospheric data\n",
      "Atmospheric data read finished\n",
      "Start Calculate SR\n",
      "Calculate SR finished\n",
      "Start Save SR file \n",
      "Save SR file finished\n",
      "delete file finish\n",
      "time: 64.9 secs, 1.1 mins,0.0 hours\n",
      "start processing 201807050220\n",
      "Himawari8/AHI data Processed Finish\n",
      "data reading finish\n",
      "Start reading Angle data\n"
     ]
    },
    {
     "name": "stderr",
     "output_type": "stream",
     "text": [
      "<ipython-input-11-6827ad66794f>:25: FutureWarning: elementwise comparison failed; returning scalar instead, but in the future will perform elementwise comparison\n",
      "  if AHI_data == 'No data':\n"
     ]
    },
    {
     "name": "stdout",
     "output_type": "stream",
     "text": [
      "Angle data read finished\n",
      "Start reading Atmospheric data\n",
      "Atmospheric data read finished\n",
      "Start Calculate SR\n",
      "Calculate SR finished\n",
      "Start Save SR file \n",
      "Save SR file finished\n",
      "delete file finish\n",
      "time: 64.2 secs, 1.1 mins,0.0 hours\n",
      "start processing 201807050230\n",
      "Himawari8/AHI data Processed Finish\n",
      "data reading finish\n",
      "Start reading Angle data\n"
     ]
    },
    {
     "name": "stderr",
     "output_type": "stream",
     "text": [
      "<ipython-input-11-6827ad66794f>:25: FutureWarning: elementwise comparison failed; returning scalar instead, but in the future will perform elementwise comparison\n",
      "  if AHI_data == 'No data':\n"
     ]
    },
    {
     "name": "stdout",
     "output_type": "stream",
     "text": [
      "Angle data read finished\n",
      "Start reading Atmospheric data\n",
      "Atmospheric data read finished\n",
      "Start Calculate SR\n",
      "Calculate SR finished\n",
      "Start Save SR file \n",
      "Save SR file finished\n",
      "delete file finish\n",
      "time: 63.2 secs, 1.1 mins,0.0 hours\n",
      "start processing 201807050240\n",
      "File Not Found\n",
      "start processing 201807050250\n",
      "Himawari8/AHI data Processed Finish\n",
      "data reading finish\n",
      "Start reading Angle data\n"
     ]
    },
    {
     "name": "stderr",
     "output_type": "stream",
     "text": [
      "<ipython-input-11-6827ad66794f>:25: FutureWarning: elementwise comparison failed; returning scalar instead, but in the future will perform elementwise comparison\n",
      "  if AHI_data == 'No data':\n"
     ]
    },
    {
     "name": "stdout",
     "output_type": "stream",
     "text": [
      "Angle data read finished\n",
      "Start reading Atmospheric data\n",
      "Atmospheric data read finished\n",
      "Start Calculate SR\n",
      "Calculate SR finished\n",
      "Start Save SR file \n",
      "Save SR file finished\n",
      "delete file finish\n",
      "time: 69.1 secs, 1.2 mins,0.0 hours\n",
      "start processing 201807050300\n",
      "Himawari8/AHI data Processed Finish\n",
      "data reading finish\n",
      "Start reading Angle data\n"
     ]
    },
    {
     "name": "stderr",
     "output_type": "stream",
     "text": [
      "<ipython-input-11-6827ad66794f>:25: FutureWarning: elementwise comparison failed; returning scalar instead, but in the future will perform elementwise comparison\n",
      "  if AHI_data == 'No data':\n"
     ]
    },
    {
     "name": "stdout",
     "output_type": "stream",
     "text": [
      "Angle data read finished\n",
      "Start reading Atmospheric data\n",
      "Atmospheric data read finished\n",
      "Start Calculate SR\n",
      "Calculate SR finished\n",
      "Start Save SR file \n",
      "Save SR file finished\n",
      "delete file finish\n",
      "time: 70.2 secs, 1.2 mins,0.0 hours\n",
      "start processing 201807050310\n",
      "Himawari8/AHI data Processed Finish\n",
      "data reading finish\n",
      "Start reading Angle data\n"
     ]
    },
    {
     "name": "stderr",
     "output_type": "stream",
     "text": [
      "<ipython-input-11-6827ad66794f>:25: FutureWarning: elementwise comparison failed; returning scalar instead, but in the future will perform elementwise comparison\n",
      "  if AHI_data == 'No data':\n"
     ]
    },
    {
     "name": "stdout",
     "output_type": "stream",
     "text": [
      "Angle data read finished\n",
      "Start reading Atmospheric data\n",
      "Atmospheric data read finished\n",
      "Start Calculate SR\n",
      "Calculate SR finished\n",
      "Start Save SR file \n",
      "Save SR file finished\n",
      "delete file finish\n",
      "time: 71.7 secs, 1.2 mins,0.0 hours\n",
      "start processing 201807050320\n",
      "Himawari8/AHI data Processed Finish\n",
      "data reading finish\n",
      "Start reading Angle data\n"
     ]
    },
    {
     "name": "stderr",
     "output_type": "stream",
     "text": [
      "<ipython-input-11-6827ad66794f>:25: FutureWarning: elementwise comparison failed; returning scalar instead, but in the future will perform elementwise comparison\n",
      "  if AHI_data == 'No data':\n"
     ]
    },
    {
     "name": "stdout",
     "output_type": "stream",
     "text": [
      "Angle data read finished\n",
      "Start reading Atmospheric data\n",
      "Atmospheric data read finished\n",
      "Start Calculate SR\n",
      "Calculate SR finished\n",
      "Start Save SR file \n",
      "Save SR file finished\n",
      "delete file finish\n",
      "time: 71.8 secs, 1.2 mins,0.0 hours\n",
      "start processing 201807050330\n",
      "Himawari8/AHI data Processed Finish\n",
      "data reading finish\n",
      "Start reading Angle data\n"
     ]
    },
    {
     "name": "stderr",
     "output_type": "stream",
     "text": [
      "<ipython-input-11-6827ad66794f>:25: FutureWarning: elementwise comparison failed; returning scalar instead, but in the future will perform elementwise comparison\n",
      "  if AHI_data == 'No data':\n"
     ]
    },
    {
     "name": "stdout",
     "output_type": "stream",
     "text": [
      "Angle data read finished\n",
      "Start reading Atmospheric data\n",
      "Atmospheric data read finished\n",
      "Start Calculate SR\n",
      "Calculate SR finished\n",
      "Start Save SR file \n",
      "Save SR file finished\n",
      "delete file finish\n",
      "time: 72.4 secs, 1.2 mins,0.0 hours\n",
      "start processing 201807050340\n",
      "Himawari8/AHI data Processed Finish\n",
      "data reading finish\n",
      "Start reading Angle data\n"
     ]
    },
    {
     "name": "stderr",
     "output_type": "stream",
     "text": [
      "<ipython-input-11-6827ad66794f>:25: FutureWarning: elementwise comparison failed; returning scalar instead, but in the future will perform elementwise comparison\n",
      "  if AHI_data == 'No data':\n"
     ]
    },
    {
     "name": "stdout",
     "output_type": "stream",
     "text": [
      "Angle data read finished\n",
      "Start reading Atmospheric data\n",
      "Atmospheric data read finished\n",
      "Start Calculate SR\n",
      "Calculate SR finished\n",
      "Start Save SR file \n",
      "Save SR file finished\n",
      "delete file finish\n",
      "time: 65.0 secs, 1.1 mins,0.0 hours\n",
      "start processing 201807050350\n",
      "Himawari8/AHI data Processed Finish\n",
      "data reading finish\n",
      "Start reading Angle data\n"
     ]
    },
    {
     "name": "stderr",
     "output_type": "stream",
     "text": [
      "<ipython-input-11-6827ad66794f>:25: FutureWarning: elementwise comparison failed; returning scalar instead, but in the future will perform elementwise comparison\n",
      "  if AHI_data == 'No data':\n"
     ]
    },
    {
     "name": "stdout",
     "output_type": "stream",
     "text": [
      "Angle data read finished\n",
      "Start reading Atmospheric data\n",
      "Atmospheric data read finished\n",
      "Start Calculate SR\n",
      "Calculate SR finished\n",
      "Start Save SR file \n",
      "Save SR file finished\n",
      "delete file finish\n",
      "time: 68.0 secs, 1.1 mins,0.0 hours\n",
      "start processing 201807050400\n",
      "Himawari8/AHI data Processed Finish\n",
      "data reading finish\n",
      "Start reading Angle data\n"
     ]
    },
    {
     "name": "stderr",
     "output_type": "stream",
     "text": [
      "<ipython-input-11-6827ad66794f>:25: FutureWarning: elementwise comparison failed; returning scalar instead, but in the future will perform elementwise comparison\n",
      "  if AHI_data == 'No data':\n"
     ]
    },
    {
     "name": "stdout",
     "output_type": "stream",
     "text": [
      "Angle data read finished\n",
      "Start reading Atmospheric data\n",
      "Atmospheric data read finished\n",
      "Start Calculate SR\n",
      "Calculate SR finished\n",
      "Start Save SR file \n",
      "Save SR file finished\n",
      "delete file finish\n",
      "time: 69.7 secs, 1.2 mins,0.0 hours\n",
      "start processing 201807050410\n",
      "File Not Found\n",
      "start processing 201807050420\n",
      "Himawari8/AHI data Processed Finish\n",
      "data reading finish\n",
      "Start reading Angle data\n"
     ]
    },
    {
     "name": "stderr",
     "output_type": "stream",
     "text": [
      "<ipython-input-11-6827ad66794f>:25: FutureWarning: elementwise comparison failed; returning scalar instead, but in the future will perform elementwise comparison\n",
      "  if AHI_data == 'No data':\n"
     ]
    },
    {
     "name": "stdout",
     "output_type": "stream",
     "text": [
      "Angle data read finished\n",
      "Start reading Atmospheric data\n",
      "Atmospheric data read finished\n",
      "Start Calculate SR\n",
      "Calculate SR finished\n",
      "Start Save SR file \n",
      "Save SR file finished\n",
      "delete file finish\n",
      "time: 79.2 secs, 1.3 mins,0.0 hours\n",
      "start processing 201807050440\n",
      "Himawari8/AHI data Processed Finish\n",
      "data reading finish\n",
      "Start reading Angle data\n"
     ]
    },
    {
     "name": "stderr",
     "output_type": "stream",
     "text": [
      "<ipython-input-11-6827ad66794f>:25: FutureWarning: elementwise comparison failed; returning scalar instead, but in the future will perform elementwise comparison\n",
      "  if AHI_data == 'No data':\n"
     ]
    },
    {
     "name": "stdout",
     "output_type": "stream",
     "text": [
      "Angle data read finished\n",
      "Start reading Atmospheric data\n",
      "Atmospheric data read finished\n",
      "Start Calculate SR\n",
      "Calculate SR finished\n",
      "Start Save SR file \n",
      "Save SR file finished\n",
      "delete file finish\n",
      "time: 75.1 secs, 1.3 mins,0.0 hours\n",
      "start processing 201807050450\n",
      "Himawari8/AHI data Processed Finish\n",
      "data reading finish\n",
      "Start reading Angle data\n"
     ]
    },
    {
     "name": "stderr",
     "output_type": "stream",
     "text": [
      "<ipython-input-11-6827ad66794f>:25: FutureWarning: elementwise comparison failed; returning scalar instead, but in the future will perform elementwise comparison\n",
      "  if AHI_data == 'No data':\n"
     ]
    },
    {
     "name": "stdout",
     "output_type": "stream",
     "text": [
      "Angle data read finished\n",
      "Start reading Atmospheric data\n",
      "Atmospheric data read finished\n",
      "Start Calculate SR\n",
      "Calculate SR finished\n",
      "Start Save SR file \n",
      "Save SR file finished\n",
      "delete file finish\n",
      "time: 71.4 secs, 1.2 mins,0.0 hours\n",
      "start processing 201807050500\n",
      "Himawari8/AHI data Processed Finish\n",
      "data reading finish\n",
      "Start reading Angle data\n"
     ]
    },
    {
     "name": "stderr",
     "output_type": "stream",
     "text": [
      "<ipython-input-11-6827ad66794f>:25: FutureWarning: elementwise comparison failed; returning scalar instead, but in the future will perform elementwise comparison\n",
      "  if AHI_data == 'No data':\n"
     ]
    },
    {
     "name": "stdout",
     "output_type": "stream",
     "text": [
      "Angle data read finished\n",
      "Start reading Atmospheric data\n",
      "Atmospheric data read finished\n",
      "Start Calculate SR\n",
      "Calculate SR finished\n",
      "Start Save SR file \n",
      "Save SR file finished\n",
      "delete file finish\n",
      "time: 80.8 secs, 1.3 mins,0.0 hours\n",
      "start processing 201807050510\n",
      "Himawari8/AHI data Processed Finish\n",
      "data reading finish\n",
      "Start reading Angle data\n"
     ]
    },
    {
     "name": "stderr",
     "output_type": "stream",
     "text": [
      "<ipython-input-11-6827ad66794f>:25: FutureWarning: elementwise comparison failed; returning scalar instead, but in the future will perform elementwise comparison\n",
      "  if AHI_data == 'No data':\n"
     ]
    },
    {
     "name": "stdout",
     "output_type": "stream",
     "text": [
      "Angle data read finished\n",
      "Start reading Atmospheric data\n",
      "Atmospheric data read finished\n",
      "Start Calculate SR\n",
      "Calculate SR finished\n",
      "Start Save SR file \n",
      "Save SR file finished\n",
      "delete file finish\n",
      "time: 75.3 secs, 1.3 mins,0.0 hours\n",
      "start processing 201807050520\n",
      "Himawari8/AHI data Processed Finish\n",
      "data reading finish\n",
      "Start reading Angle data\n"
     ]
    },
    {
     "name": "stderr",
     "output_type": "stream",
     "text": [
      "<ipython-input-11-6827ad66794f>:25: FutureWarning: elementwise comparison failed; returning scalar instead, but in the future will perform elementwise comparison\n",
      "  if AHI_data == 'No data':\n"
     ]
    },
    {
     "name": "stdout",
     "output_type": "stream",
     "text": [
      "Angle data read finished\n",
      "Start reading Atmospheric data\n",
      "Atmospheric data read finished\n",
      "Start Calculate SR\n",
      "Calculate SR finished\n",
      "Start Save SR file \n",
      "Save SR file finished\n",
      "delete file finish\n",
      "time: 79.1 secs, 1.3 mins,0.0 hours\n",
      "start processing 201807050530\n",
      "Himawari8/AHI data Processed Finish\n",
      "data reading finish\n",
      "Start reading Angle data\n"
     ]
    },
    {
     "name": "stderr",
     "output_type": "stream",
     "text": [
      "<ipython-input-11-6827ad66794f>:25: FutureWarning: elementwise comparison failed; returning scalar instead, but in the future will perform elementwise comparison\n",
      "  if AHI_data == 'No data':\n"
     ]
    },
    {
     "name": "stdout",
     "output_type": "stream",
     "text": [
      "Angle data read finished\n",
      "Start reading Atmospheric data\n",
      "Atmospheric data read finished\n",
      "Start Calculate SR\n",
      "Calculate SR finished\n",
      "Start Save SR file \n",
      "Save SR file finished\n",
      "delete file finish\n",
      "time: 74.1 secs, 1.2 mins,0.0 hours\n",
      "start processing 201807050540\n",
      "Himawari8/AHI data Processed Finish\n",
      "data reading finish\n",
      "Start reading Angle data\n"
     ]
    },
    {
     "name": "stderr",
     "output_type": "stream",
     "text": [
      "<ipython-input-11-6827ad66794f>:25: FutureWarning: elementwise comparison failed; returning scalar instead, but in the future will perform elementwise comparison\n",
      "  if AHI_data == 'No data':\n"
     ]
    },
    {
     "name": "stdout",
     "output_type": "stream",
     "text": [
      "Angle data read finished\n",
      "Start reading Atmospheric data\n",
      "Atmospheric data read finished\n",
      "Start Calculate SR\n",
      "Calculate SR finished\n",
      "Start Save SR file \n",
      "Save SR file finished\n",
      "delete file finish\n",
      "time: 77.4 secs, 1.3 mins,0.0 hours\n",
      "start processing 201807050550\n",
      "Himawari8/AHI data Processed Finish\n",
      "data reading finish\n",
      "Start reading Angle data\n"
     ]
    },
    {
     "name": "stderr",
     "output_type": "stream",
     "text": [
      "<ipython-input-11-6827ad66794f>:25: FutureWarning: elementwise comparison failed; returning scalar instead, but in the future will perform elementwise comparison\n",
      "  if AHI_data == 'No data':\n"
     ]
    },
    {
     "name": "stdout",
     "output_type": "stream",
     "text": [
      "Angle data read finished\n",
      "Start reading Atmospheric data\n",
      "Atmospheric data read finished\n",
      "Start Calculate SR\n",
      "Calculate SR finished\n",
      "Start Save SR file \n",
      "Save SR file finished\n",
      "delete file finish\n",
      "time: 75.1 secs, 1.3 mins,0.0 hours\n",
      "start processing 201807050600\n",
      "Himawari8/AHI data Processed Finish\n",
      "data reading finish\n",
      "Start reading Angle data\n"
     ]
    },
    {
     "name": "stderr",
     "output_type": "stream",
     "text": [
      "<ipython-input-11-6827ad66794f>:25: FutureWarning: elementwise comparison failed; returning scalar instead, but in the future will perform elementwise comparison\n",
      "  if AHI_data == 'No data':\n"
     ]
    },
    {
     "name": "stdout",
     "output_type": "stream",
     "text": [
      "Angle data read finished\n",
      "Start reading Atmospheric data\n",
      "Atmospheric data read finished\n",
      "Start Calculate SR\n",
      "Calculate SR finished\n",
      "Start Save SR file \n",
      "Save SR file finished\n",
      "delete file finish\n",
      "time: 73.2 secs, 1.2 mins,0.0 hours\n",
      "start processing 201807050610\n",
      "Himawari8/AHI data Processed Finish\n",
      "data reading finish\n",
      "Start reading Angle data\n"
     ]
    },
    {
     "name": "stderr",
     "output_type": "stream",
     "text": [
      "<ipython-input-11-6827ad66794f>:25: FutureWarning: elementwise comparison failed; returning scalar instead, but in the future will perform elementwise comparison\n",
      "  if AHI_data == 'No data':\n"
     ]
    },
    {
     "name": "stdout",
     "output_type": "stream",
     "text": [
      "Angle data read finished\n",
      "Start reading Atmospheric data\n",
      "Atmospheric data read finished\n",
      "Start Calculate SR\n",
      "Calculate SR finished\n",
      "Start Save SR file \n",
      "Save SR file finished\n",
      "delete file finish\n",
      "time: 73.8 secs, 1.2 mins,0.0 hours\n",
      "start processing 201807050620\n",
      "Himawari8/AHI data Processed Finish\n",
      "data reading finish\n",
      "Start reading Angle data\n"
     ]
    },
    {
     "name": "stderr",
     "output_type": "stream",
     "text": [
      "<ipython-input-11-6827ad66794f>:25: FutureWarning: elementwise comparison failed; returning scalar instead, but in the future will perform elementwise comparison\n",
      "  if AHI_data == 'No data':\n"
     ]
    },
    {
     "name": "stdout",
     "output_type": "stream",
     "text": [
      "Angle data read finished\n",
      "Start reading Atmospheric data\n",
      "Atmospheric data read finished\n",
      "Start Calculate SR\n",
      "Calculate SR finished\n",
      "Start Save SR file \n",
      "Save SR file finished\n",
      "delete file finish\n",
      "time: 69.5 secs, 1.2 mins,0.0 hours\n",
      "start processing 201807050630\n",
      "Himawari8/AHI data Processed Finish\n",
      "data reading finish\n",
      "Start reading Angle data\n"
     ]
    },
    {
     "name": "stderr",
     "output_type": "stream",
     "text": [
      "<ipython-input-11-6827ad66794f>:25: FutureWarning: elementwise comparison failed; returning scalar instead, but in the future will perform elementwise comparison\n",
      "  if AHI_data == 'No data':\n"
     ]
    },
    {
     "name": "stdout",
     "output_type": "stream",
     "text": [
      "Angle data read finished\n",
      "Start reading Atmospheric data\n",
      "Atmospheric data read finished\n",
      "Start Calculate SR\n",
      "Calculate SR finished\n",
      "Start Save SR file \n",
      "Save SR file finished\n",
      "delete file finish\n",
      "time: 78.2 secs, 1.3 mins,0.0 hours\n",
      "start processing 201807050640\n",
      "Himawari8/AHI data Processed Finish\n",
      "data reading finish\n",
      "Start reading Angle data\n"
     ]
    },
    {
     "name": "stderr",
     "output_type": "stream",
     "text": [
      "<ipython-input-11-6827ad66794f>:25: FutureWarning: elementwise comparison failed; returning scalar instead, but in the future will perform elementwise comparison\n",
      "  if AHI_data == 'No data':\n"
     ]
    },
    {
     "name": "stdout",
     "output_type": "stream",
     "text": [
      "Angle data read finished\n",
      "Start reading Atmospheric data\n",
      "Atmospheric data read finished\n",
      "Start Calculate SR\n",
      "Calculate SR finished\n",
      "Start Save SR file \n",
      "Save SR file finished\n",
      "delete file finish\n",
      "time: 69.7 secs, 1.2 mins,0.0 hours\n",
      "start processing 201807050650\n",
      "Himawari8/AHI data Processed Finish\n",
      "data reading finish\n",
      "Start reading Angle data\n"
     ]
    },
    {
     "name": "stderr",
     "output_type": "stream",
     "text": [
      "<ipython-input-11-6827ad66794f>:25: FutureWarning: elementwise comparison failed; returning scalar instead, but in the future will perform elementwise comparison\n",
      "  if AHI_data == 'No data':\n"
     ]
    },
    {
     "name": "stdout",
     "output_type": "stream",
     "text": [
      "Angle data read finished\n",
      "Start reading Atmospheric data\n",
      "Atmospheric data read finished\n",
      "Start Calculate SR\n",
      "Calculate SR finished\n",
      "Start Save SR file \n",
      "Save SR file finished\n",
      "delete file finish\n",
      "time: 69.4 secs, 1.2 mins,0.0 hours\n",
      "start processing 201807050700\n",
      "Himawari8/AHI data Processed Finish\n",
      "data reading finish\n",
      "Start reading Angle data\n"
     ]
    },
    {
     "name": "stderr",
     "output_type": "stream",
     "text": [
      "<ipython-input-11-6827ad66794f>:25: FutureWarning: elementwise comparison failed; returning scalar instead, but in the future will perform elementwise comparison\n",
      "  if AHI_data == 'No data':\n"
     ]
    },
    {
     "name": "stdout",
     "output_type": "stream",
     "text": [
      "Angle data read finished\n",
      "Start reading Atmospheric data\n",
      "Atmospheric data read finished\n",
      "Start Calculate SR\n",
      "Calculate SR finished\n",
      "Start Save SR file \n",
      "Save SR file finished\n",
      "delete file finish\n",
      "time: 65.2 secs, 1.1 mins,0.0 hours\n",
      "start processing 201807050710\n",
      "Himawari8/AHI data Processed Finish\n",
      "data reading finish\n",
      "Start reading Angle data\n"
     ]
    },
    {
     "name": "stderr",
     "output_type": "stream",
     "text": [
      "<ipython-input-11-6827ad66794f>:25: FutureWarning: elementwise comparison failed; returning scalar instead, but in the future will perform elementwise comparison\n",
      "  if AHI_data == 'No data':\n"
     ]
    },
    {
     "name": "stdout",
     "output_type": "stream",
     "text": [
      "Angle data read finished\n",
      "Start reading Atmospheric data\n",
      "Atmospheric data read finished\n",
      "Start Calculate SR\n",
      "Calculate SR finished\n",
      "Start Save SR file \n",
      "Save SR file finished\n",
      "delete file finish\n",
      "time: 69.2 secs, 1.2 mins,0.0 hours\n",
      "start processing 201807050720\n",
      "Himawari8/AHI data Processed Finish\n",
      "data reading finish\n",
      "Start reading Angle data\n"
     ]
    },
    {
     "name": "stderr",
     "output_type": "stream",
     "text": [
      "<ipython-input-11-6827ad66794f>:25: FutureWarning: elementwise comparison failed; returning scalar instead, but in the future will perform elementwise comparison\n",
      "  if AHI_data == 'No data':\n"
     ]
    },
    {
     "name": "stdout",
     "output_type": "stream",
     "text": [
      "Angle data read finished\n",
      "Start reading Atmospheric data\n",
      "Atmospheric data read finished\n",
      "Start Calculate SR\n",
      "Calculate SR finished\n",
      "Start Save SR file \n",
      "Save SR file finished\n",
      "delete file finish\n",
      "time: 69.6 secs, 1.2 mins,0.0 hours\n",
      "start processing 201807050730\n",
      "Himawari8/AHI data Processed Finish\n",
      "data reading finish\n",
      "Start reading Angle data\n"
     ]
    },
    {
     "name": "stderr",
     "output_type": "stream",
     "text": [
      "<ipython-input-11-6827ad66794f>:25: FutureWarning: elementwise comparison failed; returning scalar instead, but in the future will perform elementwise comparison\n",
      "  if AHI_data == 'No data':\n"
     ]
    },
    {
     "name": "stdout",
     "output_type": "stream",
     "text": [
      "Angle data read finished\n",
      "Start reading Atmospheric data\n",
      "Atmospheric data read finished\n",
      "Start Calculate SR\n",
      "Calculate SR finished\n",
      "Start Save SR file \n",
      "Save SR file finished\n",
      "delete file finish\n",
      "time: 64.4 secs, 1.1 mins,0.0 hours\n",
      "start processing 201807050740\n",
      "Himawari8/AHI data Processed Finish\n",
      "data reading finish\n",
      "Start reading Angle data\n"
     ]
    },
    {
     "name": "stderr",
     "output_type": "stream",
     "text": [
      "<ipython-input-11-6827ad66794f>:25: FutureWarning: elementwise comparison failed; returning scalar instead, but in the future will perform elementwise comparison\n",
      "  if AHI_data == 'No data':\n"
     ]
    },
    {
     "name": "stdout",
     "output_type": "stream",
     "text": [
      "Angle data read finished\n",
      "Start reading Atmospheric data\n",
      "Atmospheric data read finished\n",
      "Start Calculate SR\n",
      "Calculate SR finished\n",
      "Start Save SR file \n",
      "Save SR file finished\n",
      "delete file finish\n",
      "time: 66.9 secs, 1.1 mins,0.0 hours\n",
      "start processing 201807050750\n",
      "Himawari8/AHI data Processed Finish\n",
      "data reading finish\n",
      "Start reading Angle data\n"
     ]
    },
    {
     "name": "stderr",
     "output_type": "stream",
     "text": [
      "<ipython-input-11-6827ad66794f>:25: FutureWarning: elementwise comparison failed; returning scalar instead, but in the future will perform elementwise comparison\n",
      "  if AHI_data == 'No data':\n"
     ]
    },
    {
     "name": "stdout",
     "output_type": "stream",
     "text": [
      "Angle data read finished\n",
      "Start reading Atmospheric data\n",
      "Atmospheric data read finished\n",
      "Start Calculate SR\n",
      "Calculate SR finished\n",
      "Start Save SR file \n",
      "Save SR file finished\n",
      "delete file finish\n",
      "time: 71.2 secs, 1.2 mins,0.0 hours\n",
      "start processing 201807050800\n",
      "Himawari8/AHI data Processed Finish\n",
      "data reading finish\n",
      "Start reading Angle data\n"
     ]
    },
    {
     "name": "stderr",
     "output_type": "stream",
     "text": [
      "<ipython-input-11-6827ad66794f>:25: FutureWarning: elementwise comparison failed; returning scalar instead, but in the future will perform elementwise comparison\n",
      "  if AHI_data == 'No data':\n"
     ]
    },
    {
     "name": "stdout",
     "output_type": "stream",
     "text": [
      "Angle data read finished\n",
      "Start reading Atmospheric data\n",
      "Atmospheric data read finished\n",
      "Start Calculate SR\n",
      "Calculate SR finished\n",
      "Start Save SR file \n",
      "Save SR file finished\n",
      "delete file finish\n",
      "time: 76.1 secs, 1.3 mins,0.0 hours\n",
      "start processing 201807050810\n",
      "Himawari8/AHI data Processed Finish\n",
      "data reading finish\n",
      "Start reading Angle data\n"
     ]
    },
    {
     "name": "stderr",
     "output_type": "stream",
     "text": [
      "<ipython-input-11-6827ad66794f>:25: FutureWarning: elementwise comparison failed; returning scalar instead, but in the future will perform elementwise comparison\n",
      "  if AHI_data == 'No data':\n"
     ]
    },
    {
     "name": "stdout",
     "output_type": "stream",
     "text": [
      "Angle data read finished\n",
      "Start reading Atmospheric data\n",
      "Atmospheric data read finished\n",
      "Start Calculate SR\n",
      "Calculate SR finished\n",
      "Start Save SR file \n",
      "Save SR file finished\n",
      "delete file finish\n",
      "time: 72.0 secs, 1.2 mins,0.0 hours\n",
      "start processing 201807050820\n",
      "Himawari8/AHI data Processed Finish\n",
      "data reading finish\n",
      "Start reading Angle data\n"
     ]
    },
    {
     "name": "stderr",
     "output_type": "stream",
     "text": [
      "<ipython-input-11-6827ad66794f>:25: FutureWarning: elementwise comparison failed; returning scalar instead, but in the future will perform elementwise comparison\n",
      "  if AHI_data == 'No data':\n"
     ]
    },
    {
     "name": "stdout",
     "output_type": "stream",
     "text": [
      "Angle data read finished\n",
      "Start reading Atmospheric data\n",
      "Atmospheric data read finished\n",
      "Start Calculate SR\n",
      "Calculate SR finished\n",
      "Start Save SR file \n",
      "Save SR file finished\n",
      "delete file finish\n",
      "time: 67.7 secs, 1.1 mins,0.0 hours\n",
      "start processing 201807050830\n",
      "Himawari8/AHI data Processed Finish\n",
      "data reading finish\n",
      "Start reading Angle data\n"
     ]
    },
    {
     "name": "stderr",
     "output_type": "stream",
     "text": [
      "<ipython-input-11-6827ad66794f>:25: FutureWarning: elementwise comparison failed; returning scalar instead, but in the future will perform elementwise comparison\n",
      "  if AHI_data == 'No data':\n"
     ]
    },
    {
     "name": "stdout",
     "output_type": "stream",
     "text": [
      "Angle data read finished\n",
      "Start reading Atmospheric data\n",
      "Atmospheric data read finished\n",
      "Start Calculate SR\n",
      "Calculate SR finished\n",
      "Start Save SR file \n",
      "Save SR file finished\n",
      "delete file finish\n",
      "time: 67.4 secs, 1.1 mins,0.0 hours\n",
      "start processing 201807050840\n",
      "Himawari8/AHI data Processed Finish\n",
      "data reading finish\n",
      "Start reading Angle data\n"
     ]
    },
    {
     "name": "stderr",
     "output_type": "stream",
     "text": [
      "<ipython-input-11-6827ad66794f>:25: FutureWarning: elementwise comparison failed; returning scalar instead, but in the future will perform elementwise comparison\n",
      "  if AHI_data == 'No data':\n"
     ]
    },
    {
     "name": "stdout",
     "output_type": "stream",
     "text": [
      "Angle data read finished\n",
      "Start reading Atmospheric data\n",
      "Atmospheric data read finished\n",
      "Start Calculate SR\n",
      "Calculate SR finished\n",
      "Start Save SR file \n",
      "Save SR file finished\n",
      "delete file finish\n",
      "time: 68.7 secs, 1.1 mins,0.0 hours\n",
      "start processing 201807050850\n",
      "Himawari8/AHI data Processed Finish\n",
      "data reading finish\n",
      "Start reading Angle data\n"
     ]
    },
    {
     "name": "stderr",
     "output_type": "stream",
     "text": [
      "<ipython-input-11-6827ad66794f>:25: FutureWarning: elementwise comparison failed; returning scalar instead, but in the future will perform elementwise comparison\n",
      "  if AHI_data == 'No data':\n"
     ]
    },
    {
     "name": "stdout",
     "output_type": "stream",
     "text": [
      "Angle data read finished\n",
      "Start reading Atmospheric data\n",
      "Atmospheric data read finished\n",
      "Start Calculate SR\n",
      "Calculate SR finished\n",
      "Start Save SR file \n",
      "Save SR file finished\n",
      "delete file finish\n",
      "time: 69.2 secs, 1.2 mins,0.0 hours\n",
      "start processing 201807050900\n",
      "Himawari8/AHI data Processed Finish\n",
      "data reading finish\n",
      "Start reading Angle data\n"
     ]
    },
    {
     "name": "stderr",
     "output_type": "stream",
     "text": [
      "<ipython-input-11-6827ad66794f>:25: FutureWarning: elementwise comparison failed; returning scalar instead, but in the future will perform elementwise comparison\n",
      "  if AHI_data == 'No data':\n"
     ]
    },
    {
     "name": "stdout",
     "output_type": "stream",
     "text": [
      "Angle data read finished\n",
      "Start reading Atmospheric data\n",
      "Atmospheric data read finished\n",
      "Start Calculate SR\n",
      "Calculate SR finished\n",
      "Start Save SR file \n",
      "Save SR file finished\n",
      "delete file finish\n",
      "time: 66.2 secs, 1.1 mins,0.0 hours\n"
     ]
    }
   ],
   "source": [
    "\n",
    "for d in range(1,6):\n",
    "    date_start = '2018-07-{} 00:00'.format(d)\n",
    "    date_end = '2018-07-{} 09:00'.format(d)\n",
    "    date_t = dt.timedelta(minutes=10)\n",
    "    date_s = dt.datetime.strptime(date_start, \"%Y-%m-%d %H:%M\")\n",
    "    date_e = dt.datetime.strptime(date_end, \"%Y-%m-%d %H:%M\")\n",
    "    date_time_now = date_s\n",
    "    while date_time_now <= date_e:\n",
    "        start_time = T.time()\n",
    "        date_dl_str = date_time_now.strftime(\"%Y-%m-%d %H:%M\" )\n",
    "\n",
    "        YYYY,MM,DD,HH,MIN,date= Time_split(date_time_now)    \n",
    "        print(\"start processing {}\".format(date))\n",
    "\n",
    "        # make dir\n",
    "        folder_original = target + date +'_original/'\n",
    "        folder_AC = target+date+'_AC'\n",
    "        mkdir(folder_original)\n",
    "        mkdir(folder_AC)\n",
    "\n",
    "\n",
    "        S_Read_AHI_time = T.time()\n",
    "        # Download AHI\n",
    "        AHI_data = H8_Process('liwei','liwei00','vis','01',date)\n",
    "        if AHI_data == 'No data':\n",
    "            date_time_now = date_time_now + date_t\n",
    "            remove_original_file(folder_original)\n",
    "            continue\n",
    "        E_Read_AHI_time = T.time()\n",
    "\n",
    "        # Solar angle\n",
    "        print('Start reading Angle data')\n",
    "        S_ANGLE_time = T.time()\n",
    "        AHI_SZA,AHI_SAA = AHI_angle(date).read_angle_data()\n",
    "        RAA = abs(AHI_SAA - AHI_VAA)\n",
    "        RAA[RAA>180]=360-RAA[RAA>180]\n",
    "        print('Angle data read finished')\n",
    "        E_ANGLE_time = T.time()\n",
    "\n",
    "        # Atmosphereic data\n",
    "        print('Start reading Atmospheric data')\n",
    "        S_ATMOS_time = T.time()\n",
    "\n",
    "        OZ,WV,AOT550 = CAMS_data(YYYY,MM,DD,HH,MIN,AHI_lat,AHI_lon).read_CAMS()\n",
    "        Aerosol_type = CAMS_data(YYYY,MM,DD,HH,MIN,AHI_lat,AHI_lon).read_CAMS_AERO()\n",
    "        print('Atmospheric data read finished')\n",
    "        E_ATMOS_time = T.time()\n",
    "\n",
    "\n",
    "        # SR calculate\n",
    "        print('Start Calculate SR')\n",
    "        S_SR_time = T.time()\n",
    "        RESULT = Parallel(n_jobs=40)(delayed(calculate_6s_band1)(i) for i in range(12000))\n",
    "        SR = np.full((12000,12000),np.nan)\n",
    "        for i in range(12000):\n",
    "            SR[i][Water_idx[i]] = RESULT[i]\n",
    "        E_SR_time = T.time()\n",
    "        print('Calculate SR finished')\n",
    "\n",
    "        # Save file and remove download input data\n",
    "        print('Start Save SR file ')\n",
    "        S_SAVE_time = T.time()\n",
    "        SR=np.array(SR).reshape(12000,12000)\n",
    "        SR = np.around(SR,4) * 10000\n",
    "        SR = np.where(SR>=32767,32767,SR)\n",
    "        SR = np.where(SR<=-32768,-32768,SR)\n",
    "        SR_file=open(folder_AC+'/'+date+'_b01.dat','wb')\n",
    "        SR.astype('int16').tofile(SR_file)\n",
    "        SR_file.close()\n",
    "        print('Save SR file finished')\n",
    "        remove_original_file(folder_original)\n",
    "        print(\"delete file finish\")\n",
    "        E_SAVE_time = T.time()\n",
    "        end_time=T.time()\n",
    "        TIME=end_time-start_time\n",
    "        print('time: {:.1f} secs, {:.1f} mins,{:.1f} hours'.format(TIME,TIME/60,TIME/3600))\n",
    "\n",
    "        date_time_now = date_time_now + date_t"
   ]
  },
  {
   "cell_type": "code",
   "execution_count": 12,
   "metadata": {},
   "outputs": [
    {
     "data": {
      "text/plain": [
       "datetime.datetime(2018, 7, 5, 9, 10)"
      ]
     },
     "execution_count": 12,
     "metadata": {},
     "output_type": "execute_result"
    }
   ],
   "source": [
    "date_time_now"
   ]
  }
 ],
 "metadata": {
  "kernelspec": {
   "display_name": "Python 3",
   "language": "python",
   "name": "python3"
  },
  "language_info": {
   "codemirror_mode": {
    "name": "ipython",
    "version": 3
   },
   "file_extension": ".py",
   "mimetype": "text/x-python",
   "name": "python",
   "nbconvert_exporter": "python",
   "pygments_lexer": "ipython3",
   "version": "3.9.13"
  }
 },
 "nbformat": 4,
 "nbformat_minor": 4
}
