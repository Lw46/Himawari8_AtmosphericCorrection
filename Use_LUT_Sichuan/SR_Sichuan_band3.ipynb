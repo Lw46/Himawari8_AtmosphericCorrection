{
 "cells": [
  {
   "cell_type": "code",
   "execution_count": 9,
   "metadata": {},
   "outputs": [],
   "source": [
    "#!/usr/bin/env python\n",
    "# coding: utf-8\n",
    "\n",
    "\n",
    "#!/usr/bin/env python\n",
    "# coding: utf-8\n",
    "\n",
    "\n",
    "import numpy as np\n",
    "import time as T\n",
    "from joblib import Parallel, delayed\n",
    "from scipy.interpolate import griddata,interpn,RegularGridInterpolator\n",
    "import math\n",
    "import os\n",
    "import datetime\n",
    "import cv2\n",
    "from ftplib import FTP\n",
    "import rioxarray\n",
    "import xarray as xr\n",
    "import paramiko\n",
    "from scp import SCPClient\n",
    "import subprocess\n",
    "import datetime as dt\n",
    "import numba as nb\n",
    "\n",
    "target ='/data01/people/liwei/Data/Sichuan/'\n",
    "\n",
    "SZA_PATH = '/data01/GEO/INPUT/ANGLE/Solar_Zenith_Angle_u2/'\n",
    "SAA_PATH = '/data01/GEO/INPUT/ANGLE/Solar_Azimuth_Angle_u2/'\n",
    "VZA_PATH = '/data01/GEO/INPUT/ANGLE/Viewer_Zenith_Angle/AHI_VZA_10.dat'\n",
    "VAA_PATH = '/data01/GEO/INPUT/ANGLE/Viewer_Azimuth_Angle/AHI_VAA_10.dat'\n",
    "\n",
    "LUT_PATH = '/data01/GEO/INPUT/LUT/'\n",
    "CAMS_PATH = '/data01/GEO/INPUT/ATMOSPHERE/'\n",
    "DN_PATH = '/data01/GEO/INPUT/'\n",
    "CAMS_AERO_PATH = '/data01/GEO/INPUT/AEROSOL_TYPE/'\n",
    "AL_PATH = '/data01/GEO/INPUT/ELEVATION_GEO/AHI/MERIT_DEM_AHI_10km.dat'\n",
    "\n",
    "\n",
    "res = 0.01\n",
    "u_lat,d_lat = 60,-60\n",
    "l_lon,r_lon = 85,205\n",
    "\n",
    "row_AHI = 12000\n",
    "col_AHI = 12000\n",
    "\n",
    "AHI_lat = np.linspace(35 - res/2 ,25 + res/2,1000)\n",
    "AHI_lon = np.linspace(97 + res/2 ,109 - res/2,1200)\n"
   ]
  },
  {
   "cell_type": "code",
   "execution_count": 2,
   "metadata": {
    "tags": []
   },
   "outputs": [],
   "source": [
    "\n",
    "   \n",
    "class H8_data:\n",
    "\n",
    "    def __init__(self , account , pw , band , band_number , date):\n",
    "        self.account = account\n",
    "        self.pw = pw\n",
    "        self.band = band\n",
    "        self.band_number = band_number\n",
    "        self.date = date\n",
    "    \n",
    "    def get_path(self):\n",
    "        return '/data01/GEO/ORGDATA/H8AHI/hmwr829gr.cr.chiba-u.ac.jp/gridded/FD/V20151105/' + self.date[0:6] + '/' + self.band.upper() + '/'\n",
    "\n",
    "    def get_filename(self):\n",
    "        return self.date + \".\" + self.band + \".\" + self.band_number + \".fld.geoss.bz2\"\n",
    "    \n",
    "    def DN2TBB(self,data):\n",
    "        LUT=np.loadtxt(DN_PATH + 'count2tbb_v102/' + self.band + \".\" + self.band_number)\n",
    "        return LUT[data,1]\n",
    "    \n",
    "    def file_path(self):\n",
    "        return self.get_path() + self.get_filename() \n",
    "                 \n",
    "    def download_H8data(self):\n",
    "        client = paramiko.SSHClient()\n",
    "        client.load_system_host_keys()\n",
    "        client.set_missing_host_key_policy(paramiko.AutoAddPolicy())\n",
    "        client.connect(hostname='10.4.123.47', port=22, username=self.account, password=self.pw)\n",
    "        scp = SCPClient(client.get_transport())\n",
    "        sftp = client.open_sftp()\n",
    "\n",
    "        try :\n",
    "            sftp.stat(self.file_path())\n",
    "\n",
    "        except FileNotFoundError:\n",
    "            client.close()\n",
    "            print(\"File Not Found\")\n",
    "            return 'No data'\n",
    "\n",
    "        else:\n",
    "            scp.get(self.file_path(), folder_original+'/')\n",
    "            p = subprocess.Popen('lbzip2 -d {}{}'.format(folder_original+'/',self.file_path()[-33:]),shell=True)\n",
    "            p.communicate()\n",
    "            client.close()\n",
    "            print ('Himawari8/AHI data Processed Finish')\n",
    "            return folder_original + self.get_filename()[:-4]\n",
    "            \n",
    "    def read_H8data(self):\n",
    "        H8_file_path = self.download_H8data()\n",
    "        if self.band == \"vis\":\n",
    "            sr = 12000\n",
    "        elif self.band == \"ext\":\n",
    "            sr = 24000\n",
    "        else:\n",
    "            sr = 6000\n",
    "        if H8_file_path != 'No data':\n",
    "            fp = open(H8_file_path,'rb')\n",
    "            data = np.frombuffer(fp.read(),dtype='>u2').reshape(sr,sr)\n",
    "            fp.close()\n",
    "            data = self.DN2TBB(data)\n",
    "            data = data/100\n",
    "            data = data.reshape(12000,2,12000,2).mean(-1).mean(1)\n",
    "            print(\"data reading finish\")\n",
    "            return data[2500:3500,1200:2400]\n",
    "        else:\n",
    "            return 'No data'\n",
    "        "
   ]
  },
  {
   "cell_type": "code",
   "execution_count": 3,
   "metadata": {},
   "outputs": [],
   "source": [
    "class LUT_interpolation:\n",
    "    def __init__(self,LUT_PATH):\n",
    "        self.LUT_PATH = LUT_PATH\n",
    "    \n",
    "    def LUT_interpolation(self):\n",
    "        \n",
    "        X1 = np.loadtxt(self.LUT_PATH + \"01_band3.csv\",delimiter=\",\").reshape(2,8,5,12,5,17,17,19)\n",
    "        X2 = np.loadtxt(self.LUT_PATH + \"02_band3.csv\",delimiter=\",\").reshape(2,8,5,12,5,17,17,19)\n",
    "        X3 = np.loadtxt(self.LUT_PATH + \"03_band3.csv\",delimiter=\",\").reshape(2,8,5,12,5,17,17,19)\n",
    "        # return X1, X2, X3\n",
    "        \n",
    "        fn1 = RegularGridInterpolator((aero_type,water,ozone,AOT,al,sza,vza,raa),X1,bounds_error=False,fill_value=np.nan)\n",
    "        fn2 = RegularGridInterpolator((aero_type,water,ozone,AOT,al,sza,vza,raa),X2,bounds_error=False,fill_value=np.nan)\n",
    "        fn3 = RegularGridInterpolator((aero_type,water,ozone,AOT,al,sza,vza,raa),X3,bounds_error=False,fill_value=np.nan)\n",
    "        return fn1,fn2,fn3\n",
    "\n",
    "class AHI_angle:\n",
    "    def __init__(self,date):\n",
    "        self.date = date        \n",
    "    def read_angle_data(self):\n",
    "        \n",
    "        AHI_date = self.date[4:11]\n",
    "        \n",
    "        sza_file_name = 'AHI_SZA_2018{}5.dat'.format(AHI_date)\n",
    "        saa_file_name = 'AHI_SAA_2018{}5.dat'.format(AHI_date)\n",
    "        \n",
    "        AHI_SZA_File = open(SZA_PATH + sza_file_name,'rb')\n",
    "        AHI_SZA = np.frombuffer(AHI_SZA_File.read(),dtype='u2').reshape(3000,3000) / 100\n",
    "        AHI_SZA_File.close()\n",
    "        AHI_SZA=cv2.resize(np.array(AHI_SZA,dtype='float64'),(row_AHI,col_AHI),interpolation=cv2.INTER_NEAREST)\n",
    "        \n",
    "        \n",
    "        AHI_SAA_File = open(SAA_PATH + saa_file_name,'rb')\n",
    "        AHI_SAA = np.frombuffer(AHI_SAA_File.read(),dtype='u2').reshape(3000,3000) / 100\n",
    "        AHI_SAA_File.close()\n",
    "        AHI_SAA=cv2.resize(np.array(AHI_SAA,dtype='float64'),(row_AHI,col_AHI),interpolation=cv2.INTER_NEAREST)\n",
    "        \n",
    "        return AHI_SZA[1000:4000,3500:6500],AHI_SAA[1000:4000,3500:6500]\n",
    "\n",
    "class AHI_angle:\n",
    "    def __init__(self,date):\n",
    "        self.date = date        \n",
    "    def read_angle_data(self):\n",
    "        \n",
    "        AHI_date = self.date[4:11]\n",
    "        \n",
    "        sza_file_name = 'AHI_SZA_2018{}5.dat'.format(AHI_date)\n",
    "        saa_file_name = 'AHI_SAA_2018{}5.dat'.format(AHI_date)\n",
    "        \n",
    "        AHI_SZA_File = open(SZA_PATH + sza_file_name,'rb')\n",
    "        AHI_SZA = np.frombuffer(AHI_SZA_File.read(),dtype='u2').reshape(3000,3000) / 100\n",
    "        AHI_SZA_File.close()\n",
    "        AHI_SZA=cv2.resize(np.array(AHI_SZA,dtype='float64'),(row_AHI,col_AHI),interpolation=cv2.INTER_NEAREST)\n",
    "        \n",
    "        \n",
    "        AHI_SAA_File = open(SAA_PATH + saa_file_name,'rb')\n",
    "        AHI_SAA = np.frombuffer(AHI_SAA_File.read(),dtype='u2').reshape(3000,3000) / 100\n",
    "        AHI_SAA_File.close()\n",
    "        AHI_SAA=cv2.resize(np.array(AHI_SAA,dtype='float64'),(row_AHI,col_AHI),interpolation=cv2.INTER_NEAREST)\n",
    "        \n",
    "        return AHI_SZA[2500:3500,1200:2400],AHI_SAA[2500:3500,1200:2400]\n",
    "\n",
    "class CAMS_data:\n",
    "    def __init__(self,Y,M,D,H,MI,lat,lon):\n",
    "        self.YYYY = Y\n",
    "        self.MM = M\n",
    "        self.DD = D\n",
    "        self.HH = H\n",
    "        self.MIN = MI\n",
    "        self.lon = lon\n",
    "        self.lat = lat\n",
    "        \n",
    "    def read_CAMS(self):\n",
    "\n",
    "        if int(self.HH) >= 21:\n",
    "            d1 = dt.datetime(int(self.YYYY),int(self.MM),int(self.DD))\n",
    "            d2 = dt.datetime(int(self.YYYY),int(self.MM),int(self.DD)) + dt.timedelta(days=1)\n",
    "            \n",
    "            ds1 = xr.open_dataset(CAMS_PATH + d1.strftime('%Y') + d1.strftime('%m') + d1.strftime('%d') + '.nc')\n",
    "            ds2 = xr.open_dataset(CAMS_PATH + d2.strftime('%Y') + d2.strftime('%m') + d2.strftime('%d') + '.nc')\n",
    "            ds = xr.merge([ds1, ds2]) \n",
    "            \n",
    "        else:\n",
    "             ds = xr.open_dataset(CAMS_PATH + self.YYYY + self.MM + self.DD + '.nc')\n",
    "                \n",
    "        dtime = dt.datetime(int(self.YYYY),int(self.MM),int(self.DD),int(self.HH),int(self.MIN)+5)    \n",
    "        ds = ds.interp(time = dtime,method = 'linear')\n",
    "        ds = ds.interp(longitude=self.lon,latitude=self.lat,method=\"nearest\")\n",
    "        \n",
    "        OZ = ds['gtco3'].values        \n",
    "        WV = ds['tcwv'].values        \n",
    "        AOT550 = ds['aod550'].values\n",
    "#         Atmosphere data Unit conversion\n",
    "        WV = WV/10\n",
    "        OZ = OZ*46.6975764\n",
    "\n",
    "\n",
    "#         Processing water vapor and ozone max and min\n",
    "        OZ[OZ>=max(ozone)] = max(ozone)-(1/10000)\n",
    "        OZ[OZ<=min(ozone)] = min(ozone)+(1/10000)\n",
    "        WV[WV>=max(water)] = max(water)-(1/10000)\n",
    "        WV[WV<=min(water)] = min(water)+(1/10000)\n",
    "        AOT550[AOT550>=max(AOT)] = max(AOT)-(1/10000)\n",
    "        AOT550[AOT550<=min(AOT)] = min(AOT)+(1/10000)\n",
    "        \n",
    "        return np.array(OZ).reshape(1000,1200),np.array(WV).reshape(1000,1200),np.array(AOT550).reshape(1000,1200)\n",
    "\n",
    "    def read_CAMS_AERO(self):\n",
    "        \n",
    "                \n",
    "        if int(self.HH) >= 21:\n",
    "            d1 = dt.datetime(int(self.YYYY),int(self.MM),int(self.DD))\n",
    "            d2 = dt.datetime(int(self.YYYY),int(self.MM),int(self.DD)) + dt.timedelta(days=1)\n",
    "            \n",
    "            ds1 = xr.open_dataset(CAMS_AERO_PATH + d1.strftime('%Y') + d1.strftime('%m') + d1.strftime('%d') + '.nc')\n",
    "            ds2 = xr.open_dataset(CAMS_AERO_PATH + d2.strftime('%Y') + d2.strftime('%m') + d2.strftime('%d') + '.nc')\n",
    "            ds = xr.merge([ds1, ds2]) \n",
    "            \n",
    "        else:\n",
    "             ds = xr.open_dataset(CAMS_AERO_PATH + self.YYYY + self.MM + self.DD + '.nc')\n",
    "                \n",
    "        dtime = dt.datetime(int(self.YYYY),int(self.MM),int(self.DD),int(self.HH),int(self.MIN)+5)\n",
    "        ds = ds.interp(time = dtime,method = 'linear')\n",
    "        ds = ds.interp(longitude=self.lon,latitude=self.lat,method=\"nearest\")\n",
    "        \n",
    "        bc = ds['bcaod550'].values\n",
    "        du = ds['duaod550'].values\n",
    "        om = ds['omaod550'].values\n",
    "        ss = ds['ssaod550'].values\n",
    "        su = ds['suaod550'].values\n",
    "\n",
    "        DL_6S = np.array(du)\n",
    "        SL_6S = np.array(su) + np.array(bc)\n",
    "        OC_6S = np.array(ss)\n",
    "        WS_6S = np.array(om)\n",
    "\n",
    "        Total = DL_6S + SL_6S + OC_6S + WS_6S\n",
    "\n",
    "        precent_DL_6S = DL_6S / Total\n",
    "        precent_SL_6S = SL_6S / Total\n",
    "        precent_OC_6S = OC_6S / Total\n",
    "        precent_WS_6S = WS_6S / Total\n",
    "        P = np.dstack((precent_DL_6S,precent_WS_6S,precent_OC_6S,precent_SL_6S))\n",
    "        Aerosol_type = np.where(np.amax(P,axis = 2) == precent_OC_6S,1,0)\n",
    "        return Aerosol_type\n",
    "    \n",
    "def H8_Process(ACCOUNT,PW,Band,Band_number,Date):\n",
    "    data = H8_data(ACCOUNT,PW,Band,Band_number,Date).read_H8data()\n",
    "    return data\n",
    "\n",
    "def remove_original_file(path):\n",
    "    os.system('rm -rf {}'.format(path))\n",
    "    \n",
    "    \n",
    "def mkdir(path):\n",
    "    folder = os.path.exists(path) \n",
    "    if not folder:\n",
    "        os.makedirs(path)\n",
    "        \n",
    "def Time_split(time):\n",
    "    YYYY = time.strftime('%Y')\n",
    "    MM = time.strftime('%m')\n",
    "    DD = time.strftime('%d')\n",
    "    HH = time.strftime('%H')\n",
    "    MIN = time.strftime('%M')\n",
    "    date = YYYY + MM + DD + HH + MIN\n",
    "    return YYYY,MM,DD,HH,MIN,date\n",
    "        \n",
    "        \n",
    "def calculate_6s_band3(i):\n",
    "    \n",
    "    Aero_input = Aerosol_type[i][Ocean_mask[i]]\n",
    "    WV_input = WV[i][Ocean_mask[i]]\n",
    "    OZ_input = OZ[i][Ocean_mask[i]]\n",
    "    AOT550_input = AOT550[i][Ocean_mask[i]]\n",
    "    RAA_input = RAA[i][Ocean_mask[i]]\n",
    "    SZA_input = AHI_SZA[i][Ocean_mask[i]]\n",
    "    VZA_input = AHI_VZA[i][Ocean_mask[i]]\n",
    "    AL_input = AHI_AL[i][Ocean_mask[i]]\n",
    "    AHI_data_input = AHI_data[i][Ocean_mask[i]]\n",
    "\n",
    "    xi = np.array([Aero_input,WV_input,OZ_input,AOT550_input,AL_input,SZA_input,VZA_input,RAA_input])\n",
    "    xi = xi.T\n",
    "    xa = fn1(xi)\n",
    "    xb = fn2(xi)\n",
    "    xc = fn3(xi)\n",
    "    y = xa*AHI_data_input-xb\n",
    "    SR = y/(1+xc*y)\n",
    "    return SR\n",
    "\n",
    "@nb.jit()\n",
    "def get_water_idx():\n",
    "    Water_idx = []\n",
    "    for i in range(1000):\n",
    "        line_idx =[]\n",
    "        for j in range(1200):\n",
    "            if Ocean_mask[i,j] == True:\n",
    "                line_idx.append(j)\n",
    "\n",
    "        Water_idx.append(line_idx)\n",
    "    return Water_idx\n",
    "\n",
    "Ocean_mask_PATH = '/data01/GEO/INPUT/LAND_MASK/Landmask_10.dat'\n",
    "    \n",
    "Mask_File = open(Ocean_mask_PATH,'rb')\n",
    "Ocean_mask = np.frombuffer(Mask_File.read(),dtype='u1').reshape(12000,12000)[2500:3500,1200:2400].astype('bool')\n",
    "Mask_File.close()    \n",
    "    \n",
    "    \n",
    "    \n",
    "Water_idx = get_water_idx()\n",
    "sza = np.linspace(0,80,17)\n",
    "vza = np.linspace(0,80,17)\n",
    "water = np.linspace(0,7,8)\n",
    "ozone = np.linspace(0.2,0.4,5)\n",
    "AOT = np.array([0.01,0.05,0.1,0.15,0.2,0.3,0.4,0.6,0.8,1.0,1.5,2.0])\n",
    "raa = np.linspace(0,180,19)\n",
    "al = np.linspace(0,8,5)\n",
    "aero_type = np.array([0,1])\n",
    "\n",
    "fn1,fn2,fn3 = LUT_interpolation(LUT_PATH).LUT_interpolation()\n",
    "\n",
    "\n",
    "VZA_File = open(VZA_PATH,'rb')\n",
    "AHI_VZA = np.frombuffer(VZA_File.read(),dtype='u2').reshape(12000,12000)[2500:3500,1200:2400] * 0.01\n",
    "VZA_File.close()\n",
    "\n",
    "VAA_File = open(VAA_PATH,'rb')\n",
    "AHI_VAA = np.frombuffer(VAA_File.read(),dtype='u2').reshape(12000,12000)[2500:3500,1200:2400] * 0.01\n",
    "VAA_File.close()\n",
    "\n",
    "AL_File = open(AL_PATH,'rb')\n",
    "AHI_AL = np.frombuffer(AL_File.read(),dtype='u2').reshape(12000,12000)[2500:3500,1200:2400] * 0.001\n",
    "AL_File.close()\n",
    "    "
   ]
  },
  {
   "cell_type": "code",
   "execution_count": 10,
   "metadata": {
    "tags": []
   },
   "outputs": [
    {
     "name": "stdout",
     "output_type": "stream",
     "text": [
      "start processing 201801010000\n",
      "Himawari8/AHI data Processed Finish\n",
      "data reading finish\n",
      "Start reading Angle data\n",
      "Angle data read finished\n",
      "Start reading Atmospheric data\n"
     ]
    },
    {
     "name": "stderr",
     "output_type": "stream",
     "text": [
      "<ipython-input-10-454f5667f051>:24: FutureWarning: elementwise comparison failed; returning scalar instead, but in the future will perform elementwise comparison\n",
      "  if AHI_data == 'No data':\n"
     ]
    },
    {
     "name": "stdout",
     "output_type": "stream",
     "text": [
      "Atmospheric data read finished\n",
      "Start Calculate SR\n",
      "Calculate SR finished\n",
      "Start Save SR file \n",
      "Save SR file finished\n",
      "delete file finish\n",
      "time: 22.3 secs, 0.4 mins,0.0 hours\n",
      "start processing 201801010010\n",
      "Himawari8/AHI data Processed Finish\n",
      "data reading finish\n",
      "Start reading Angle data\n",
      "Angle data read finished\n",
      "Start reading Atmospheric data\n"
     ]
    },
    {
     "name": "stderr",
     "output_type": "stream",
     "text": [
      "<ipython-input-10-454f5667f051>:24: FutureWarning: elementwise comparison failed; returning scalar instead, but in the future will perform elementwise comparison\n",
      "  if AHI_data == 'No data':\n"
     ]
    },
    {
     "name": "stdout",
     "output_type": "stream",
     "text": [
      "Atmospheric data read finished\n",
      "Start Calculate SR\n",
      "Calculate SR finished\n",
      "Start Save SR file \n",
      "Save SR file finished\n",
      "delete file finish\n",
      "time: 20.5 secs, 0.3 mins,0.0 hours\n",
      "start processing 201801010020\n",
      "Himawari8/AHI data Processed Finish\n",
      "data reading finish\n",
      "Start reading Angle data\n",
      "Angle data read finished\n",
      "Start reading Atmospheric data\n"
     ]
    },
    {
     "name": "stderr",
     "output_type": "stream",
     "text": [
      "<ipython-input-10-454f5667f051>:24: FutureWarning: elementwise comparison failed; returning scalar instead, but in the future will perform elementwise comparison\n",
      "  if AHI_data == 'No data':\n"
     ]
    },
    {
     "name": "stdout",
     "output_type": "stream",
     "text": [
      "Atmospheric data read finished\n",
      "Start Calculate SR\n",
      "Calculate SR finished\n",
      "Start Save SR file \n",
      "Save SR file finished\n",
      "delete file finish\n",
      "time: 20.6 secs, 0.3 mins,0.0 hours\n",
      "start processing 201801010030\n",
      "Himawari8/AHI data Processed Finish\n",
      "data reading finish\n",
      "Start reading Angle data\n",
      "Angle data read finished\n",
      "Start reading Atmospheric data\n"
     ]
    },
    {
     "name": "stderr",
     "output_type": "stream",
     "text": [
      "<ipython-input-10-454f5667f051>:24: FutureWarning: elementwise comparison failed; returning scalar instead, but in the future will perform elementwise comparison\n",
      "  if AHI_data == 'No data':\n"
     ]
    },
    {
     "name": "stdout",
     "output_type": "stream",
     "text": [
      "Atmospheric data read finished\n",
      "Start Calculate SR\n",
      "Calculate SR finished\n",
      "Start Save SR file \n",
      "Save SR file finished\n",
      "delete file finish\n",
      "time: 21.8 secs, 0.4 mins,0.0 hours\n",
      "start processing 201801010040\n",
      "Himawari8/AHI data Processed Finish\n",
      "data reading finish\n",
      "Start reading Angle data\n",
      "Angle data read finished\n",
      "Start reading Atmospheric data\n"
     ]
    },
    {
     "name": "stderr",
     "output_type": "stream",
     "text": [
      "<ipython-input-10-454f5667f051>:24: FutureWarning: elementwise comparison failed; returning scalar instead, but in the future will perform elementwise comparison\n",
      "  if AHI_data == 'No data':\n"
     ]
    },
    {
     "name": "stdout",
     "output_type": "stream",
     "text": [
      "Atmospheric data read finished\n",
      "Start Calculate SR\n",
      "Calculate SR finished\n",
      "Start Save SR file \n",
      "Save SR file finished\n",
      "delete file finish\n",
      "time: 22.9 secs, 0.4 mins,0.0 hours\n",
      "start processing 201801010050\n",
      "Himawari8/AHI data Processed Finish\n",
      "data reading finish\n",
      "Start reading Angle data\n",
      "Angle data read finished\n",
      "Start reading Atmospheric data\n"
     ]
    },
    {
     "name": "stderr",
     "output_type": "stream",
     "text": [
      "<ipython-input-10-454f5667f051>:24: FutureWarning: elementwise comparison failed; returning scalar instead, but in the future will perform elementwise comparison\n",
      "  if AHI_data == 'No data':\n"
     ]
    },
    {
     "name": "stdout",
     "output_type": "stream",
     "text": [
      "Atmospheric data read finished\n",
      "Start Calculate SR\n",
      "Calculate SR finished\n",
      "Start Save SR file \n",
      "Save SR file finished\n",
      "delete file finish\n",
      "time: 23.1 secs, 0.4 mins,0.0 hours\n",
      "start processing 201801010100\n"
     ]
    },
    {
     "ename": "FileNotFoundError",
     "evalue": "[Errno 2] No such file or directory",
     "output_type": "error",
     "traceback": [
      "\u001b[0;31m---------------------------------------------------------------------------\u001b[0m",
      "\u001b[0;31mFileNotFoundError\u001b[0m                         Traceback (most recent call last)",
      "Cell \u001b[0;32mIn [10], line 23\u001b[0m\n\u001b[1;32m     21\u001b[0m S_Read_AHI_time \u001b[38;5;241m=\u001b[39m T\u001b[38;5;241m.\u001b[39mtime()\n\u001b[1;32m     22\u001b[0m \u001b[38;5;66;03m# Download AHI\u001b[39;00m\n\u001b[0;32m---> 23\u001b[0m AHI_data \u001b[38;5;241m=\u001b[39m \u001b[43mH8_Process\u001b[49m\u001b[43m(\u001b[49m\u001b[38;5;124;43m'\u001b[39;49m\u001b[38;5;124;43mliwei\u001b[39;49m\u001b[38;5;124;43m'\u001b[39;49m\u001b[43m,\u001b[49m\u001b[38;5;124;43m'\u001b[39;49m\u001b[38;5;124;43mliwei00\u001b[39;49m\u001b[38;5;124;43m'\u001b[39;49m\u001b[43m,\u001b[49m\u001b[38;5;124;43m'\u001b[39;49m\u001b[38;5;124;43mext\u001b[39;49m\u001b[38;5;124;43m'\u001b[39;49m\u001b[43m,\u001b[49m\u001b[38;5;124;43m'\u001b[39;49m\u001b[38;5;124;43m01\u001b[39;49m\u001b[38;5;124;43m'\u001b[39;49m\u001b[43m,\u001b[49m\u001b[43mdate\u001b[49m\u001b[43m)\u001b[49m\n\u001b[1;32m     24\u001b[0m \u001b[38;5;28;01mif\u001b[39;00m AHI_data \u001b[38;5;241m==\u001b[39m \u001b[38;5;124m'\u001b[39m\u001b[38;5;124mNo data\u001b[39m\u001b[38;5;124m'\u001b[39m:\n\u001b[1;32m     25\u001b[0m     date_time_now \u001b[38;5;241m=\u001b[39m date_time_now \u001b[38;5;241m+\u001b[39m date_t\n",
      "Cell \u001b[0;32mIn [3], line 148\u001b[0m, in \u001b[0;36mH8_Process\u001b[0;34m(ACCOUNT, PW, Band, Band_number, Date)\u001b[0m\n\u001b[1;32m    147\u001b[0m \u001b[38;5;28;01mdef\u001b[39;00m \u001b[38;5;21mH8_Process\u001b[39m(ACCOUNT,PW,Band,Band_number,Date):\n\u001b[0;32m--> 148\u001b[0m     data \u001b[38;5;241m=\u001b[39m \u001b[43mH8_data\u001b[49m\u001b[43m(\u001b[49m\u001b[43mACCOUNT\u001b[49m\u001b[43m,\u001b[49m\u001b[43mPW\u001b[49m\u001b[43m,\u001b[49m\u001b[43mBand\u001b[49m\u001b[43m,\u001b[49m\u001b[43mBand_number\u001b[49m\u001b[43m,\u001b[49m\u001b[43mDate\u001b[49m\u001b[43m)\u001b[49m\u001b[38;5;241;43m.\u001b[39;49m\u001b[43mread_H8data\u001b[49m\u001b[43m(\u001b[49m\u001b[43m)\u001b[49m\n\u001b[1;32m    149\u001b[0m     \u001b[38;5;28;01mreturn\u001b[39;00m data\n",
      "Cell \u001b[0;32mIn [2], line 48\u001b[0m, in \u001b[0;36mH8_data.read_H8data\u001b[0;34m(self)\u001b[0m\n\u001b[1;32m     47\u001b[0m \u001b[38;5;28;01mdef\u001b[39;00m \u001b[38;5;21mread_H8data\u001b[39m(\u001b[38;5;28mself\u001b[39m):\n\u001b[0;32m---> 48\u001b[0m     H8_file_path \u001b[38;5;241m=\u001b[39m \u001b[38;5;28;43mself\u001b[39;49m\u001b[38;5;241;43m.\u001b[39;49m\u001b[43mdownload_H8data\u001b[49m\u001b[43m(\u001b[49m\u001b[43m)\u001b[49m\n\u001b[1;32m     49\u001b[0m     \u001b[38;5;28;01mif\u001b[39;00m \u001b[38;5;28mself\u001b[39m\u001b[38;5;241m.\u001b[39mband \u001b[38;5;241m==\u001b[39m \u001b[38;5;124m\"\u001b[39m\u001b[38;5;124mvis\u001b[39m\u001b[38;5;124m\"\u001b[39m:\n\u001b[1;32m     50\u001b[0m         sr \u001b[38;5;241m=\u001b[39m \u001b[38;5;241m12000\u001b[39m\n",
      "Cell \u001b[0;32mIn [2], line 40\u001b[0m, in \u001b[0;36mH8_data.download_H8data\u001b[0;34m(self)\u001b[0m\n\u001b[1;32m     37\u001b[0m     \u001b[38;5;28;01mreturn\u001b[39;00m \u001b[38;5;124m'\u001b[39m\u001b[38;5;124mNo data\u001b[39m\u001b[38;5;124m'\u001b[39m\n\u001b[1;32m     39\u001b[0m \u001b[38;5;28;01melse\u001b[39;00m:\n\u001b[0;32m---> 40\u001b[0m     \u001b[43mscp\u001b[49m\u001b[38;5;241;43m.\u001b[39;49m\u001b[43mget\u001b[49m\u001b[43m(\u001b[49m\u001b[38;5;28;43mself\u001b[39;49m\u001b[38;5;241;43m.\u001b[39;49m\u001b[43mfile_path\u001b[49m\u001b[43m(\u001b[49m\u001b[43m)\u001b[49m\u001b[43m,\u001b[49m\u001b[43m \u001b[49m\u001b[43mfolder_original\u001b[49m\u001b[38;5;241;43m+\u001b[39;49m\u001b[38;5;124;43m'\u001b[39;49m\u001b[38;5;124;43m/\u001b[39;49m\u001b[38;5;124;43m'\u001b[39;49m\u001b[43m)\u001b[49m\n\u001b[1;32m     41\u001b[0m     p \u001b[38;5;241m=\u001b[39m subprocess\u001b[38;5;241m.\u001b[39mPopen(\u001b[38;5;124m'\u001b[39m\u001b[38;5;124mlbzip2 -d \u001b[39m\u001b[38;5;132;01m{}\u001b[39;00m\u001b[38;5;132;01m{}\u001b[39;00m\u001b[38;5;124m'\u001b[39m\u001b[38;5;241m.\u001b[39mformat(folder_original\u001b[38;5;241m+\u001b[39m\u001b[38;5;124m'\u001b[39m\u001b[38;5;124m/\u001b[39m\u001b[38;5;124m'\u001b[39m,\u001b[38;5;28mself\u001b[39m\u001b[38;5;241m.\u001b[39mfile_path()[\u001b[38;5;241m-\u001b[39m\u001b[38;5;241m33\u001b[39m:]),shell\u001b[38;5;241m=\u001b[39m\u001b[38;5;28;01mTrue\u001b[39;00m)\n\u001b[1;32m     42\u001b[0m     p\u001b[38;5;241m.\u001b[39mcommunicate()\n",
      "File \u001b[0;32m/data01/people/liwei/anaconda3/envs/py39/lib/python3.9/site-packages/scp.py:277\u001b[0m, in \u001b[0;36mSCPClient.get\u001b[0;34m(self, remote_path, local_path, recursive, preserve_times)\u001b[0m\n\u001b[1;32m    271\u001b[0m \u001b[38;5;28mself\u001b[39m\u001b[38;5;241m.\u001b[39mchannel\u001b[38;5;241m.\u001b[39msettimeout(\u001b[38;5;28mself\u001b[39m\u001b[38;5;241m.\u001b[39msocket_timeout)\n\u001b[1;32m    272\u001b[0m \u001b[38;5;28mself\u001b[39m\u001b[38;5;241m.\u001b[39mchannel\u001b[38;5;241m.\u001b[39mexec_command(\u001b[38;5;28mself\u001b[39m\u001b[38;5;241m.\u001b[39mscp_command \u001b[38;5;241m+\u001b[39m\n\u001b[1;32m    273\u001b[0m                           rcsv \u001b[38;5;241m+\u001b[39m\n\u001b[1;32m    274\u001b[0m                           prsv \u001b[38;5;241m+\u001b[39m\n\u001b[1;32m    275\u001b[0m                           \u001b[38;5;124mb\u001b[39m\u001b[38;5;124m\"\u001b[39m\u001b[38;5;124m -f \u001b[39m\u001b[38;5;124m\"\u001b[39m \u001b[38;5;241m+\u001b[39m\n\u001b[1;32m    276\u001b[0m                           \u001b[38;5;124mb\u001b[39m\u001b[38;5;124m'\u001b[39m\u001b[38;5;124m \u001b[39m\u001b[38;5;124m'\u001b[39m\u001b[38;5;241m.\u001b[39mjoin(remote_path))\n\u001b[0;32m--> 277\u001b[0m \u001b[38;5;28;43mself\u001b[39;49m\u001b[38;5;241;43m.\u001b[39;49m\u001b[43m_recv_all\u001b[49m\u001b[43m(\u001b[49m\u001b[43m)\u001b[49m\n\u001b[1;32m    278\u001b[0m \u001b[38;5;28mself\u001b[39m\u001b[38;5;241m.\u001b[39mclose()\n",
      "File \u001b[0;32m/data01/people/liwei/anaconda3/envs/py39/lib/python3.9/site-packages/scp.py:430\u001b[0m, in \u001b[0;36mSCPClient._recv_all\u001b[0;34m(self)\u001b[0m\n\u001b[1;32m    428\u001b[0m     \u001b[38;5;28;01mif\u001b[39;00m code \u001b[38;5;129;01mnot\u001b[39;00m \u001b[38;5;129;01min\u001b[39;00m command:\n\u001b[1;32m    429\u001b[0m         \u001b[38;5;28;01mraise\u001b[39;00m SCPException(asunicode(msg[\u001b[38;5;241m1\u001b[39m:]))\n\u001b[0;32m--> 430\u001b[0m     \u001b[43mcommand\u001b[49m\u001b[43m[\u001b[49m\u001b[43mcode\u001b[49m\u001b[43m]\u001b[49m\u001b[43m(\u001b[49m\u001b[43mmsg\u001b[49m\u001b[43m[\u001b[49m\u001b[38;5;241;43m1\u001b[39;49m\u001b[43m:\u001b[49m\u001b[43m]\u001b[49m\u001b[43m)\u001b[49m\n\u001b[1;32m    431\u001b[0m \u001b[38;5;66;03m# directory times can't be set until we're done writing files\u001b[39;00m\n\u001b[1;32m    432\u001b[0m \u001b[38;5;28mself\u001b[39m\u001b[38;5;241m.\u001b[39m_set_dirtimes()\n",
      "File \u001b[0;32m/data01/people/liwei/anaconda3/envs/py39/lib/python3.9/site-packages/scp.py:505\u001b[0m, in \u001b[0;36mSCPClient._recv_file\u001b[0;34m(self, cmd)\u001b[0m\n\u001b[1;32m    503\u001b[0m file_hdl\u001b[38;5;241m.\u001b[39mtruncate()\n\u001b[1;32m    504\u001b[0m \u001b[38;5;28;01mtry\u001b[39;00m:\n\u001b[0;32m--> 505\u001b[0m     \u001b[43mos\u001b[49m\u001b[38;5;241;43m.\u001b[39;49m\u001b[43mutime\u001b[49m\u001b[43m(\u001b[49m\u001b[43mpath\u001b[49m\u001b[43m,\u001b[49m\u001b[43m \u001b[49m\u001b[38;5;28;43mself\u001b[39;49m\u001b[38;5;241;43m.\u001b[39;49m\u001b[43m_utime\u001b[49m\u001b[43m)\u001b[49m\n\u001b[1;32m    506\u001b[0m     \u001b[38;5;28mself\u001b[39m\u001b[38;5;241m.\u001b[39m_utime \u001b[38;5;241m=\u001b[39m \u001b[38;5;28;01mNone\u001b[39;00m\n\u001b[1;32m    507\u001b[0m     os\u001b[38;5;241m.\u001b[39mchmod(path, mode)\n",
      "\u001b[0;31mFileNotFoundError\u001b[0m: [Errno 2] No such file or directory"
     ]
    }
   ],
   "source": [
    "\n",
    "date_start = '2018-01-01 00:00'\n",
    "date_end = '2018-01-31 09:00'\n",
    "date_t = dt.timedelta(minutes=10)\n",
    "date_s = dt.datetime.strptime(date_start, \"%Y-%m-%d %H:%M\")\n",
    "date_e = dt.datetime.strptime(date_end, \"%Y-%m-%d %H:%M\")\n",
    "date_time_now = date_s\n",
    "while date_time_now <= date_e:\n",
    "    start_time = T.time()\n",
    "    date_dl_str = date_time_now.strftime(\"%Y-%m-%d %H:%M\" )\n",
    "\n",
    "    YYYY,MM,DD,HH,MIN,date= Time_split(date_time_now)    \n",
    "    print(\"start processing {}\".format(date))\n",
    "\n",
    "    # make dir\n",
    "    folder_original = target + date +'_original/'\n",
    "    folder_AC = target+'{}/{}/{}/'.format(YYYY,MM,DD)\n",
    "    mkdir(folder_original)\n",
    "    mkdir(folder_AC)\n",
    "\n",
    "\n",
    "    S_Read_AHI_time = T.time()\n",
    "    # Download AHI\n",
    "    AHI_data = H8_Process('liwei','liwei00','ext','01',date)\n",
    "    if AHI_data == 'No data':\n",
    "        date_time_now = date_time_now + date_t\n",
    "        remove_original_file(folder_original)\n",
    "        continue\n",
    "    E_Read_AHI_time = T.time()\n",
    "\n",
    "    # Solar angle\n",
    "    print('Start reading Angle data')\n",
    "    S_ANGLE_time = T.time()\n",
    "    AHI_SZA,AHI_SAA = AHI_angle(date).read_angle_data()\n",
    "    RAA = abs(AHI_SAA - AHI_VAA)\n",
    "    RAA[RAA>180]=360-RAA[RAA>180]\n",
    "    print('Angle data read finished')\n",
    "    E_ANGLE_time = T.time()\n",
    "\n",
    "    # Atmosphereic data\n",
    "    print('Start reading Atmospheric data')\n",
    "    S_ATMOS_time = T.time()\n",
    "\n",
    "    OZ,WV,AOT550 = CAMS_data(YYYY,MM,DD,HH,MIN,AHI_lat,AHI_lon).read_CAMS()\n",
    "    Aerosol_type = CAMS_data(YYYY,MM,DD,HH,MIN,AHI_lat,AHI_lon).read_CAMS_AERO()\n",
    "    print('Atmospheric data read finished')\n",
    "    E_ATMOS_time = T.time()\n",
    "\n",
    "\n",
    "    # SR calculate\n",
    "    print('Start Calculate SR')\n",
    "    S_SR_time = T.time()\n",
    "    RESULT = Parallel(n_jobs=40)(delayed(calculate_6s_band3)(i) for i in range(1000))\n",
    "    SR = np.full((1000,1200),np.nan)\n",
    "    for i in range(1000):\n",
    "        SR[i][Water_idx[i]] = RESULT[i]\n",
    "    E_SR_time = T.time()\n",
    "    print('Calculate SR finished')\n",
    "    \n",
    "    # Save file and remove download input data\n",
    "    print('Start Save SR file ')\n",
    "    S_SAVE_time = T.time()\n",
    "    SR=np.array(SR).reshape(1000,1200)\n",
    "    SR = np.around(SR,4) * 10000\n",
    "    SR = np.where(SR>=32767,32767,SR)\n",
    "    SR = np.where(SR<=-32768,-32768,SR)\n",
    "    SR_file=open(folder_AC+'H08_{}{}{}_{}{}_B03_SR.dat'.format(YYYY,MM,DD,HH,MIN),'wb')\n",
    "    SR.astype('int16').tofile(SR_file)\n",
    "    SR_file.close()\n",
    "    print('Save SR file finished')\n",
    "    remove_original_file(folder_original)\n",
    "    print(\"delete file finish\")\n",
    "    E_SAVE_time = T.time()\n",
    "    end_time=T.time()\n",
    "    TIME=end_time-start_time\n",
    "    print('time: {:.1f} secs, {:.1f} mins,{:.1f} hours'.format(TIME,TIME/60,TIME/3600))\n",
    "\n",
    "    date_time_now = date_time_now + date_t"
   ]
  },
  {
   "cell_type": "code",
   "execution_count": 313,
   "metadata": {
    "collapsed": true,
    "jupyter": {
     "outputs_hidden": true
    },
    "tags": []
   },
   "outputs": [
    {
     "name": "stdout",
     "output_type": "stream",
     "text": [
      "start processing 201801120450\n",
      "Himawari8/AHI data Processed Finish\n",
      "data reading finish\n",
      "Start reading Angle data\n"
     ]
    },
    {
     "name": "stderr",
     "output_type": "stream",
     "text": [
      "<ipython-input-313-e21714305616>:28: FutureWarning: elementwise comparison failed; returning scalar instead, but in the future will perform elementwise comparison\n",
      "  if AHI_data == 'No data':\n"
     ]
    },
    {
     "name": "stdout",
     "output_type": "stream",
     "text": [
      "Angle data read finished\n",
      "Start reading Atmospheric data\n",
      "Atmospheric data read finished\n",
      "Start Calculate SR\n",
      "Calculate SR finished\n",
      "Start Save SR file \n",
      "Save SR file finished\n",
      "delete file finish\n",
      "time: 36.0 secs, 0.6 mins,0.0 hours\n",
      "start processing 201801130450\n",
      "Himawari8/AHI data Processed Finish\n",
      "data reading finish\n",
      "Start reading Angle data\n"
     ]
    },
    {
     "name": "stderr",
     "output_type": "stream",
     "text": [
      "<ipython-input-313-e21714305616>:28: FutureWarning: elementwise comparison failed; returning scalar instead, but in the future will perform elementwise comparison\n",
      "  if AHI_data == 'No data':\n"
     ]
    },
    {
     "name": "stdout",
     "output_type": "stream",
     "text": [
      "Angle data read finished\n",
      "Start reading Atmospheric data\n",
      "Atmospheric data read finished\n",
      "Start Calculate SR\n",
      "Calculate SR finished\n",
      "Start Save SR file \n",
      "Save SR file finished\n",
      "delete file finish\n",
      "time: 30.0 secs, 0.5 mins,0.0 hours\n",
      "start processing 201801140450\n",
      "Himawari8/AHI data Processed Finish\n",
      "data reading finish\n",
      "Start reading Angle data\n"
     ]
    },
    {
     "name": "stderr",
     "output_type": "stream",
     "text": [
      "<ipython-input-313-e21714305616>:28: FutureWarning: elementwise comparison failed; returning scalar instead, but in the future will perform elementwise comparison\n",
      "  if AHI_data == 'No data':\n"
     ]
    },
    {
     "name": "stdout",
     "output_type": "stream",
     "text": [
      "Angle data read finished\n",
      "Start reading Atmospheric data\n",
      "Atmospheric data read finished\n",
      "Start Calculate SR\n",
      "Calculate SR finished\n",
      "Start Save SR file \n",
      "Save SR file finished\n",
      "delete file finish\n",
      "time: 34.1 secs, 0.6 mins,0.0 hours\n",
      "start processing 201801150450\n",
      "Himawari8/AHI data Processed Finish\n",
      "data reading finish\n",
      "Start reading Angle data\n"
     ]
    },
    {
     "name": "stderr",
     "output_type": "stream",
     "text": [
      "<ipython-input-313-e21714305616>:28: FutureWarning: elementwise comparison failed; returning scalar instead, but in the future will perform elementwise comparison\n",
      "  if AHI_data == 'No data':\n"
     ]
    },
    {
     "name": "stdout",
     "output_type": "stream",
     "text": [
      "Angle data read finished\n",
      "Start reading Atmospheric data\n",
      "Atmospheric data read finished\n",
      "Start Calculate SR\n",
      "Calculate SR finished\n",
      "Start Save SR file \n",
      "Save SR file finished\n",
      "delete file finish\n",
      "time: 33.7 secs, 0.6 mins,0.0 hours\n",
      "start processing 201801160450\n",
      "Himawari8/AHI data Processed Finish\n",
      "data reading finish\n",
      "Start reading Angle data\n"
     ]
    },
    {
     "name": "stderr",
     "output_type": "stream",
     "text": [
      "<ipython-input-313-e21714305616>:28: FutureWarning: elementwise comparison failed; returning scalar instead, but in the future will perform elementwise comparison\n",
      "  if AHI_data == 'No data':\n"
     ]
    },
    {
     "name": "stdout",
     "output_type": "stream",
     "text": [
      "Angle data read finished\n",
      "Start reading Atmospheric data\n",
      "Atmospheric data read finished\n",
      "Start Calculate SR\n",
      "Calculate SR finished\n",
      "Start Save SR file \n",
      "Save SR file finished\n",
      "delete file finish\n",
      "time: 32.5 secs, 0.5 mins,0.0 hours\n",
      "start processing 201801170450\n",
      "Himawari8/AHI data Processed Finish\n",
      "data reading finish\n",
      "Start reading Angle data\n"
     ]
    },
    {
     "name": "stderr",
     "output_type": "stream",
     "text": [
      "<ipython-input-313-e21714305616>:28: FutureWarning: elementwise comparison failed; returning scalar instead, but in the future will perform elementwise comparison\n",
      "  if AHI_data == 'No data':\n"
     ]
    },
    {
     "name": "stdout",
     "output_type": "stream",
     "text": [
      "Angle data read finished\n",
      "Start reading Atmospheric data\n",
      "Atmospheric data read finished\n",
      "Start Calculate SR\n",
      "Calculate SR finished\n",
      "Start Save SR file \n",
      "Save SR file finished\n",
      "delete file finish\n",
      "time: 30.2 secs, 0.5 mins,0.0 hours\n",
      "start processing 201801180450\n",
      "Himawari8/AHI data Processed Finish\n",
      "data reading finish\n",
      "Start reading Angle data\n"
     ]
    },
    {
     "name": "stderr",
     "output_type": "stream",
     "text": [
      "<ipython-input-313-e21714305616>:28: FutureWarning: elementwise comparison failed; returning scalar instead, but in the future will perform elementwise comparison\n",
      "  if AHI_data == 'No data':\n"
     ]
    },
    {
     "name": "stdout",
     "output_type": "stream",
     "text": [
      "Angle data read finished\n",
      "Start reading Atmospheric data\n",
      "Atmospheric data read finished\n",
      "Start Calculate SR\n",
      "Calculate SR finished\n",
      "Start Save SR file \n",
      "Save SR file finished\n",
      "delete file finish\n",
      "time: 30.4 secs, 0.5 mins,0.0 hours\n",
      "start processing 201801190450\n",
      "Himawari8/AHI data Processed Finish\n",
      "data reading finish\n",
      "Start reading Angle data\n"
     ]
    },
    {
     "name": "stderr",
     "output_type": "stream",
     "text": [
      "<ipython-input-313-e21714305616>:28: FutureWarning: elementwise comparison failed; returning scalar instead, but in the future will perform elementwise comparison\n",
      "  if AHI_data == 'No data':\n"
     ]
    },
    {
     "name": "stdout",
     "output_type": "stream",
     "text": [
      "Angle data read finished\n",
      "Start reading Atmospheric data\n",
      "Atmospheric data read finished\n",
      "Start Calculate SR\n",
      "Calculate SR finished\n",
      "Start Save SR file \n",
      "Save SR file finished\n",
      "delete file finish\n",
      "time: 31.9 secs, 0.5 mins,0.0 hours\n",
      "start processing 201801200450\n",
      "Himawari8/AHI data Processed Finish\n",
      "data reading finish\n",
      "Start reading Angle data\n"
     ]
    },
    {
     "name": "stderr",
     "output_type": "stream",
     "text": [
      "<ipython-input-313-e21714305616>:28: FutureWarning: elementwise comparison failed; returning scalar instead, but in the future will perform elementwise comparison\n",
      "  if AHI_data == 'No data':\n"
     ]
    },
    {
     "name": "stdout",
     "output_type": "stream",
     "text": [
      "Angle data read finished\n",
      "Start reading Atmospheric data\n",
      "Atmospheric data read finished\n",
      "Start Calculate SR\n",
      "Calculate SR finished\n",
      "Start Save SR file \n",
      "Save SR file finished\n",
      "delete file finish\n",
      "time: 33.9 secs, 0.6 mins,0.0 hours\n",
      "start processing 201801210450\n",
      "Himawari8/AHI data Processed Finish\n",
      "data reading finish\n",
      "Start reading Angle data\n"
     ]
    },
    {
     "name": "stderr",
     "output_type": "stream",
     "text": [
      "<ipython-input-313-e21714305616>:28: FutureWarning: elementwise comparison failed; returning scalar instead, but in the future will perform elementwise comparison\n",
      "  if AHI_data == 'No data':\n"
     ]
    },
    {
     "name": "stdout",
     "output_type": "stream",
     "text": [
      "Angle data read finished\n",
      "Start reading Atmospheric data\n",
      "Atmospheric data read finished\n",
      "Start Calculate SR\n",
      "Calculate SR finished\n",
      "Start Save SR file \n",
      "Save SR file finished\n",
      "delete file finish\n",
      "time: 33.5 secs, 0.6 mins,0.0 hours\n"
     ]
    }
   ],
   "source": [
    "TOA_Ref = []\n",
    "SR_Ref = []\n",
    "\n",
    "for d in range(12,22):\n",
    "    date_start = '2018-01-{} 04:50'.format(d)\n",
    "    date_end = '2018-01-{} 04:50'.format(d)\n",
    "    # date_t = dt.timedelta(minutes=10)\n",
    "    date_s = dt.datetime.strptime(date_start, \"%Y-%m-%d %H:%M\")\n",
    "    date_e = dt.datetime.strptime(date_end, \"%Y-%m-%d %H:%M\")\n",
    "    date_time_now = date_s\n",
    "    while date_time_now <= date_e:\n",
    "        start_time = T.time()\n",
    "        date_dl_str = date_time_now.strftime(\"%Y-%m-%d %H:%M\" )\n",
    "\n",
    "        YYYY,MM,DD,HH,MIN,date= Time_split(date_time_now)    \n",
    "        print(\"start processing {}\".format(date))\n",
    "\n",
    "        # make dir\n",
    "        folder_original = target + date +'_original/'\n",
    "        folder_AC = target+'{}/{}/{}/'.format(YYYY,MM,DD)\n",
    "        mkdir(folder_original)\n",
    "        mkdir(folder_AC)\n",
    "\n",
    "\n",
    "        S_Read_AHI_time = T.time()\n",
    "        # Download AHI\n",
    "        AHI_data = H8_Process('liwei','liwei00','ext','01',date)\n",
    "        if AHI_data == 'No data':\n",
    "            date_time_now = date_time_now + date_t\n",
    "            remove_original_file(folder_original)\n",
    "            continue\n",
    "        TOA_Ref.append(AHI_data[1389,1740])\n",
    "        E_Read_AHI_time = T.time()\n",
    "\n",
    "        # Solar angle\n",
    "        print('Start reading Angle data')\n",
    "        S_ANGLE_time = T.time()\n",
    "        AHI_SZA,AHI_SAA = AHI_angle(date).read_angle_data()\n",
    "        RAA = abs(AHI_SAA - AHI_VAA)\n",
    "        RAA[RAA>180]=360-RAA[RAA>180]\n",
    "        print('Angle data read finished')\n",
    "        E_ANGLE_time = T.time()\n",
    "\n",
    "        # Atmosphereic data\n",
    "        print('Start reading Atmospheric data')\n",
    "        S_ATMOS_time = T.time()\n",
    "\n",
    "        OZ,WV,AOT550 = CAMS_data(YYYY,MM,DD,HH,MIN,AHI_lat,AHI_lon).read_CAMS()\n",
    "        Aerosol_type = CAMS_data(YYYY,MM,DD,HH,MIN,AHI_lat,AHI_lon).read_CAMS_AERO()\n",
    "        print('Atmospheric data read finished')\n",
    "        E_ATMOS_time = T.time()\n",
    "\n",
    "\n",
    "        # SR calculate\n",
    "        print('Start Calculate SR')\n",
    "        S_SR_time = T.time()\n",
    "        RESULT = Parallel(n_jobs=40)(delayed(calculate_6s_band3)(i) for i in range(3000))\n",
    "        SR = np.full((3000,3000),np.nan)\n",
    "        for i in range(3000):\n",
    "            SR[i][Water_idx[i]] = RESULT[i]\n",
    "        E_SR_time = T.time()\n",
    "        print('Calculate SR finished')\n",
    "\n",
    "        # Save file and remove download input data\n",
    "        print('Start Save SR file ')\n",
    "        S_SAVE_time = T.time()\n",
    "        SR=np.array(SR).reshape(3000,3000)\n",
    "        SR = np.around(SR,4) * 10000\n",
    "        SR = np.where(SR>=32767,32767,SR)\n",
    "        SR = np.where(SR<=-32768,-32768,SR)\n",
    "        SR_Ref.append(SR[1389,1740])\n",
    "        SR_file=open(folder_AC+'H08_{}{}{}_{}{}_B03_SR.dat'.format(YYYY,MM,DD,HH,MIN),'wb')\n",
    "        SR.astype('int16').tofile(SR_file)\n",
    "        SR_file.close()\n",
    "        print('Save SR file finished')\n",
    "        remove_original_file(folder_original)\n",
    "        print(\"delete file finish\")\n",
    "        E_SAVE_time = T.time()\n",
    "        end_time=T.time()\n",
    "        TIME=end_time-start_time\n",
    "        print('time: {:.1f} secs, {:.1f} mins,{:.1f} hours'.format(TIME,TIME/60,TIME/3600))\n",
    "\n",
    "\n",
    "        date_time_now = date_time_now + date_t"
   ]
  },
  {
   "cell_type": "code",
   "execution_count": 315,
   "metadata": {},
   "outputs": [
    {
     "data": {
      "text/plain": [
       "array([0.10529411, 0.20867647, 0.08367647, 0.0892647 , 0.12      ,\n",
       "       0.36147058, 0.20970588, 0.06647058, 0.07441177, 0.11485294])"
      ]
     },
     "execution_count": 315,
     "metadata": {},
     "output_type": "execute_result"
    }
   ],
   "source": [
    "np.array(TOA_Ref).reshape(10)"
   ]
  },
  {
   "cell_type": "code",
   "execution_count": 317,
   "metadata": {},
   "outputs": [
    {
     "data": {
      "text/plain": [
       "array([0.0703, 0.205 , 0.0486, 0.0466, 0.0828, 0.3951, 0.2028, 0.0141,\n",
       "       0.0253, 0.0641])"
      ]
     },
     "execution_count": 317,
     "metadata": {},
     "output_type": "execute_result"
    }
   ],
   "source": [
    "np.array(SR_Ref)/10000"
   ]
  },
  {
   "cell_type": "code",
   "execution_count": 279,
   "metadata": {},
   "outputs": [
    {
     "data": {
      "text/plain": [
       "13.7"
      ]
     },
     "execution_count": 279,
     "metadata": {},
     "output_type": "execute_result"
    }
   ],
   "source": [
    "AHI_SZA[1389,1740]"
   ]
  },
  {
   "cell_type": "code",
   "execution_count": 280,
   "metadata": {},
   "outputs": [
    {
     "data": {
      "text/plain": [
       "13.480000000000018"
      ]
     },
     "execution_count": 280,
     "metadata": {},
     "output_type": "execute_result"
    }
   ],
   "source": [
    "RAA[1389,1740]"
   ]
  },
  {
   "cell_type": "code",
   "execution_count": 281,
   "metadata": {},
   "outputs": [
    {
     "data": {
      "text/plain": [
       "0.1278553671307034"
      ]
     },
     "execution_count": 281,
     "metadata": {},
     "output_type": "execute_result"
    }
   ],
   "source": [
    "AOT550[1389,1740]"
   ]
  },
  {
   "cell_type": "code",
   "execution_count": 282,
   "metadata": {},
   "outputs": [
    {
     "data": {
      "text/plain": [
       "0.2959947651325768"
      ]
     },
     "execution_count": 282,
     "metadata": {},
     "output_type": "execute_result"
    }
   ],
   "source": [
    "OZ[1389,1740]"
   ]
  },
  {
   "cell_type": "code",
   "execution_count": 283,
   "metadata": {},
   "outputs": [
    {
     "data": {
      "text/plain": [
       "3.4065362506442596"
      ]
     },
     "execution_count": 283,
     "metadata": {},
     "output_type": "execute_result"
    }
   ],
   "source": [
    "WV[1389,1740]"
   ]
  },
  {
   "cell_type": "code",
   "execution_count": 266,
   "metadata": {},
   "outputs": [
    {
     "data": {
      "text/plain": [
       "1.069"
      ]
     },
     "execution_count": 266,
     "metadata": {},
     "output_type": "execute_result"
    }
   ],
   "source": [
    "AHI_AL[1389,1740]"
   ]
  },
  {
   "cell_type": "code",
   "execution_count": 267,
   "metadata": {},
   "outputs": [
    {
     "data": {
      "text/plain": [
       "42.04"
      ]
     },
     "execution_count": 267,
     "metadata": {},
     "output_type": "execute_result"
    }
   ],
   "source": [
    "AHI_VZA[1389,1740]"
   ]
  },
  {
   "cell_type": "code",
   "execution_count": 268,
   "metadata": {},
   "outputs": [
    {
     "data": {
      "text/plain": [
       "0"
      ]
     },
     "execution_count": 268,
     "metadata": {},
     "output_type": "execute_result"
    }
   ],
   "source": [
    "Aerosol_type[1389,1740]"
   ]
  },
  {
   "cell_type": "code",
   "execution_count": 285,
   "metadata": {},
   "outputs": [],
   "source": [
    "S = []\n",
    "for i in np.arange(0.01,1,0.01):\n",
    "    y = xa*i-xb\n",
    "    S.append(y/(1+xc*y))"
   ]
  },
  {
   "cell_type": "code",
   "execution_count": 286,
   "metadata": {},
   "outputs": [
    {
     "data": {
      "image/png": "[encoded data removed]",
      "text/plain": [
       "<Figure size 720x144 with 1 Axes>"
      ]
     },
     "metadata": {
      "needs_background": "light"
     },
     "output_type": "display_data"
    }
   ],
   "source": [
    "import matplotlib.pyplot as plt\n",
    "\n",
    "fig,ax1 = plt.subplots(figsize=(10,2))\n",
    "\n",
    "# ax1.plot(0,-1,color = 'royalblue',marker=\"o\",markersize=10,linewidth=0,label = 'AHI SZA')\n",
    "ax1.plot(np.arange(0.01,1,0.01),abs((np.array(S).reshape(-1) - np.arange(0.01,1,0.01))/np.arange(0.01,1,0.01)),color = 'royalblue',marker=\"o\",markersize=5,linewidth=0)\n",
    "\n",
    "ax1.spines['right'].set_color('none')\n",
    "ax1.spines['top'].set_color('none')\n",
    "\n",
    "ax1.tick_params(axis=\"y\",which='major',length=5,direction='in',labelsize=8)\n",
    "ax1.tick_params(axis=\"x\",which='major',length=5,direction='in',labelsize=8)\n",
    "\n",
    "ax1.set_xticks(np.arange(0.01,1,0.05))\n",
    "ax1.set_yticks(np.arange(0, 1.5,0.2))\n",
    "ax1.set_ylim((0, 1.5))\n",
    "\n",
    "ax1.set_ylabel(\"(SR - TOA) / TOA\")\n",
    "ax1.set_xlabel(\"TOA Ref\")\n",
    "\n",
    "ax1.grid(axis = 'y',color = 'k', linestyle = '--', linewidth = 0.5)\n",
    "\n",
    "# plt.title('2018/01',fontsize=12 )\n",
    "plt.show()\n",
    "# fig.savefig('{} angle.jpg'.format(site_name),dpi = 1000,bbox_inches = 'tight')"
   ]
  },
  {
   "cell_type": "code",
   "execution_count": 284,
   "metadata": {},
   "outputs": [
    {
     "data": {
      "text/plain": [
       "array([0.04099551])"
      ]
     },
     "execution_count": 284,
     "metadata": {},
     "output_type": "execute_result"
    }
   ],
   "source": [
    "xi = np.array([Aerosol_type[1389,1740],WV[1389,1740],OZ[1389,1740],AOT550[1389,1740],AHI_AL[1389,1740],AHI_SZA[1389,1740],AHI_VZA[1389,1740],RAA[1389,1740]])\n",
    "xi = xi.T\n",
    "xa = fn1(xi)\n",
    "xb = fn2(xi)\n",
    "xc = fn3(xi)\n",
    "y = xa*0.06647058-xb\n",
    "y/(1+xc*y)"
   ]
  },
  {
   "cell_type": "code",
   "execution_count": 201,
   "metadata": {},
   "outputs": [
    {
     "data": {
      "text/plain": [
       "0.01497410376296854"
      ]
     },
     "execution_count": 201,
     "metadata": {},
     "output_type": "execute_result"
    }
   ],
   "source": [
    "from Py6S import *\n",
    "wl_band = \"/data01/people/liwei/AHI_AC/AHI_SRF/sixs_band3.csv\"\n",
    "band = np.loadtxt(wl_band,delimiter=\",\")\n",
    "s = SixS('/data01/people/liwei/source/6SV-1.1/6SV1.1/sixs')\n",
    "s.atmos_profile = AtmosProfile.UserWaterAndOzone(WV[1389,1740],OZ[1389,1740])\n",
    "s.aero_profile = AeroProfile.PredefinedType(1)\n",
    "s.aot550 = AOT550[1389,1740]\n",
    "s.wavelength = Wavelength(band[0,0],band[band.shape[0]-1,0],band[:,1])\n",
    "s.altitudes.set_sensor_satellite_level()\n",
    "s.altitudes.set_target_custom_altitude(AHI_AL[1389,1740])\n",
    "s.geometry = Geometry.User()\n",
    "s.geometry.solar_z = AHI_SZA[1389,1740]\n",
    "s.geometry.solar_a = RAA[1389,1740]\n",
    "s.geometry.view_z = AHI_VZA[1389,1740]\n",
    "s.geometry.view_a = 0\n",
    "\n",
    "s.atmos_corr = AtmosCorr.AtmosCorrLambertianFromReflectance(0.2)\n",
    "s.run() \n",
    "f1 = 1/(s.outputs.transmittance_total_scattering.total*s.outputs.transmittance_global_gas.total)\n",
    "y = f1*0.06647058-s.outputs.coef_xb\n",
    "y/(1+s.outputs.coef_xc*y)\n"
   ]
  },
  {
   "cell_type": "code",
   "execution_count": 304,
   "metadata": {},
   "outputs": [
    {
     "data": {
      "text/plain": [
       "(7, 3000, 3000)"
      ]
     },
     "execution_count": 304,
     "metadata": {},
     "output_type": "execute_result"
    }
   ],
   "source": [
    "np.array(SR_Ref).shape"
   ]
  },
  {
   "cell_type": "code",
   "execution_count": 306,
   "metadata": {},
   "outputs": [
    {
     "data": {
      "text/plain": [
       "<matplotlib.colorbar.Colorbar at 0x7f8a12268880>"
      ]
     },
     "execution_count": 306,
     "metadata": {},
     "output_type": "execute_result"
    },
    {
     "data": {
      "image/png": "[encoded data removed]",
      "text/plain": [
       "<Figure size 432x288 with 2 Axes>"
      ]
     },
     "metadata": {
      "needs_background": "light"
     },
     "output_type": "display_data"
    }
   ],
   "source": [
    "plt.imshow(np.array(TOA_Ref[0])[1379:1399,1730:1750]/10000,cmap='gray')\n",
    "plt.colorbar()"
   ]
  },
  {
   "cell_type": "code",
   "execution_count": 307,
   "metadata": {},
   "outputs": [
    {
     "data": {
      "text/plain": [
       "<matplotlib.colorbar.Colorbar at 0x7f8a1399da90>"
      ]
     },
     "execution_count": 307,
     "metadata": {},
     "output_type": "execute_result"
    },
    {
     "data": {
      "image/png": "[encoded data removed]",
      "text/plain": [
       "<Figure size 432x288 with 2 Axes>"
      ]
     },
     "metadata": {
      "needs_background": "light"
     },
     "output_type": "display_data"
    }
   ],
   "source": [
    "plt.imshow(np.array(TOA_Ref[1])[1379:1399,1730:1750]/10000,cmap='gray')\n",
    "plt.colorbar()"
   ]
  },
  {
   "cell_type": "code",
   "execution_count": 308,
   "metadata": {},
   "outputs": [
    {
     "data": {
      "text/plain": [
       "<matplotlib.colorbar.Colorbar at 0x7f8a13db8a60>"
      ]
     },
     "execution_count": 308,
     "metadata": {},
     "output_type": "execute_result"
    },
    {
     "data": {
      "image/png": "[encoded data removed]",
      "text/plain": [
       "<Figure size 432x288 with 2 Axes>"
      ]
     },
     "metadata": {
      "needs_background": "light"
     },
     "output_type": "display_data"
    }
   ],
   "source": [
    "plt.imshow(np.array(TOA_Ref[2])[1379:1399,1730:1750]/10000,cmap='gray')\n",
    "plt.colorbar()"
   ]
  },
  {
   "cell_type": "code",
   "execution_count": 309,
   "metadata": {},
   "outputs": [
    {
     "data": {
      "text/plain": [
       "<matplotlib.colorbar.Colorbar at 0x7f8a13c82130>"
      ]
     },
     "execution_count": 309,
     "metadata": {},
     "output_type": "execute_result"
    },
    {
     "data": {
      "image/png": "[encoded data removed]",
      "text/plain": [
       "<Figure size 432x288 with 2 Axes>"
      ]
     },
     "metadata": {
      "needs_background": "light"
     },
     "output_type": "display_data"
    }
   ],
   "source": [
    "plt.imshow(np.array(TOA_Ref[3])[1379:1399,1730:1750]/10000,cmap='gray')\n",
    "plt.colorbar()"
   ]
  },
  {
   "cell_type": "code",
   "execution_count": 310,
   "metadata": {},
   "outputs": [
    {
     "data": {
      "text/plain": [
       "<matplotlib.colorbar.Colorbar at 0x7f8a13afbc70>"
      ]
     },
     "execution_count": 310,
     "metadata": {},
     "output_type": "execute_result"
    },
    {
     "data": {
      "image/png": "[encoded data removed]",
      "text/plain": [
       "<Figure size 432x288 with 2 Axes>"
      ]
     },
     "metadata": {
      "needs_background": "light"
     },
     "output_type": "display_data"
    }
   ],
   "source": [
    "plt.imshow(np.array(TOA_Ref[4])[1379:1399,1730:1750]/10000,cmap='gray')\n",
    "plt.colorbar()"
   ]
  },
  {
   "cell_type": "code",
   "execution_count": 311,
   "metadata": {},
   "outputs": [
    {
     "data": {
      "text/plain": [
       "<matplotlib.colorbar.Colorbar at 0x7f8a110362e0>"
      ]
     },
     "execution_count": 311,
     "metadata": {},
     "output_type": "execute_result"
    },
    {
     "data": {
      "image/png": "[encoded data removed]",
      "text/plain": [
       "<Figure size 432x288 with 2 Axes>"
      ]
     },
     "metadata": {
      "needs_background": "light"
     },
     "output_type": "display_data"
    }
   ],
   "source": [
    "plt.imshow(np.array(TOA_Ref[5])[1379:1399,1730:1750]/10000,cmap='gray')\n",
    "plt.colorbar()"
   ]
  }
 ],
 "metadata": {
  "kernelspec": {
   "display_name": "Python 3",
   "language": "python",
   "name": "python3"
  },
  "language_info": {
   "codemirror_mode": {
    "name": "ipython",
    "version": 3
   },
   "file_extension": ".py",
   "mimetype": "text/x-python",
   "name": "python",
   "nbconvert_exporter": "python",
   "pygments_lexer": "ipython3",
   "version": "3.9.13"
  }
 },
 "nbformat": 4,
 "nbformat_minor": 4
}
