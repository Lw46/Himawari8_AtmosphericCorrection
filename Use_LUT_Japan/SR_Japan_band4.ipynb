{
 "cells": [
  {
   "cell_type": "code",
   "execution_count": 1,
   "metadata": {},
   "outputs": [],
   "source": [
    "#!/usr/bin/env python\n",
    "# coding: utf-8\n",
    "\n",
    "\n",
    "#!/usr/bin/env python\n",
    "# coding: utf-8\n",
    "\n",
    "\n",
    "import numpy as np\n",
    "import time as T\n",
    "from joblib import Parallel, delayed\n",
    "from scipy.interpolate import griddata,interpn,RegularGridInterpolator\n",
    "import math\n",
    "import os\n",
    "import datetime\n",
    "import cv2\n",
    "from ftplib import FTP\n",
    "import rioxarray\n",
    "import xarray as xr\n",
    "import paramiko\n",
    "from scp import SCPClient\n",
    "import subprocess\n",
    "import datetime as dt\n",
    "import numba as nb\n",
    "\n",
    "target ='/data01/GEO/SRDATA/'\n",
    "\n",
    "SZA_PATH = '/data01/GEO/INPUT/ANGLE/Solar_Zenith_Angle_u2/'\n",
    "SAA_PATH = '/data01/GEO/INPUT/ANGLE/Solar_Azimuth_Angle_u2/'\n",
    "VZA_PATH = '/data01/GEO/INPUT/ANGLE/Viewer_Zenith_Angle/AHI_VZA_10.dat'\n",
    "VAA_PATH = '/data01/GEO/INPUT/ANGLE/Viewer_Azimuth_Angle/AHI_VAA_10.dat'\n",
    "\n",
    "LUT_PATH = '/data01/GEO/INPUT/LUT/'\n",
    "CAMS_PATH = '/data01/GEO/INPUT/ATMOSPHERE/'\n",
    "DN_PATH = '/data01/GEO/INPUT/'\n",
    "CAMS_AERO_PATH = '/data01/GEO/INPUT/AEROSOL_TYPE/'\n",
    "AL_PATH = '/data01/GEO/INPUT/ELEVATION_GEO/AHI/MERIT_DEM_AHI_10km.dat'\n",
    "\n",
    "\n",
    "res = 0.01\n",
    "u_lat,d_lat = 60,-60\n",
    "l_lon,r_lon = 85,205\n",
    "\n",
    "row_AHI = 12000\n",
    "col_AHI = 12000\n",
    "\n",
    "AHI_lat = np.linspace(50 - res/2 ,20 + res/2,3000)\n",
    "AHI_lon = np.linspace(120 + res/2 ,150 - res/2,3000)\n"
   ]
  },
  {
   "cell_type": "code",
   "execution_count": 6,
   "metadata": {
    "tags": []
   },
   "outputs": [],
   "source": [
    "\n",
    "   \n",
    "class H8_data:\n",
    "\n",
    "    def __init__(self , account , pw , band , band_number , date):\n",
    "        self.account = account\n",
    "        self.pw = pw\n",
    "        self.band = band\n",
    "        self.band_number = band_number\n",
    "        self.date = date\n",
    "    \n",
    "    def get_path(self):\n",
    "        return '/data01/GEO/ORGDATA/H8AHI/hmwr829gr.cr.chiba-u.ac.jp/gridded/FD/V20151105/' + self.date[0:6] + '/' + self.band.upper() + '/'\n",
    "\n",
    "    def get_filename(self):\n",
    "        return self.date + \".\" + self.band + \".\" + self.band_number + \".fld.geoss.bz2\"\n",
    "    \n",
    "    def DN2TBB(self,data):\n",
    "        LUT=np.loadtxt(DN_PATH + 'count2tbb_v102/' + self.band + \".\" + self.band_number)\n",
    "        return LUT[data,1]\n",
    "    \n",
    "    def file_path(self):\n",
    "        return self.get_path() + self.get_filename() \n",
    "                 \n",
    "    def download_H8data(self):\n",
    "        client = paramiko.SSHClient()\n",
    "        client.load_system_host_keys()\n",
    "        client.set_missing_host_key_policy(paramiko.AutoAddPolicy())\n",
    "        client.connect(hostname='10.4.123.47', port=22, username=self.account, password=self.pw)\n",
    "        scp = SCPClient(client.get_transport())\n",
    "        sftp = client.open_sftp()\n",
    "\n",
    "        try :\n",
    "            sftp.stat(self.file_path())\n",
    "\n",
    "        except FileNotFoundError:\n",
    "            client.close()\n",
    "            print(\"File Not Found\")\n",
    "            return 'No data'\n",
    "\n",
    "        else:\n",
    "            scp.get(self.file_path(), folder_original+'/')\n",
    "            p = subprocess.Popen('lbzip2 -d {}{}'.format(folder_original+'/',self.file_path()[-33:]),shell=True)\n",
    "            p.communicate()\n",
    "            client.close()\n",
    "            print ('Himawari8/AHI data Processed Finish')\n",
    "            return folder_original + self.get_filename()[:-4]\n",
    "            \n",
    "    def read_H8data(self):\n",
    "        H8_file_path = self.download_H8data()\n",
    "        if self.band == \"vis\":\n",
    "            sr = 12000\n",
    "        elif self.band == \"ext\":\n",
    "            sr = 24000\n",
    "        else:\n",
    "            sr = 6000\n",
    "        if H8_file_path != 'No data':\n",
    "            fp = open(H8_file_path,'rb')\n",
    "            data = np.frombuffer(fp.read(),dtype='>u2').reshape(sr,sr)\n",
    "            fp.close()\n",
    "            data = self.DN2TBB(data)\n",
    "            data = data/100\n",
    "            print(\"data reading finish\")\n",
    "            return data[1000:4000,3500:6500]\n",
    "        else:\n",
    "            return 'No data'\n",
    "        \n",
    "class LUT_interpolation:\n",
    "    def __init__(self,LUT_PATH):\n",
    "        self.LUT_PATH = LUT_PATH\n",
    "    \n",
    "    def LUT_interpolation(self):\n",
    "        \n",
    "        X1 = np.loadtxt(self.LUT_PATH + \"01_band4.csv\",delimiter=\",\").reshape(2,8,12,5,17,17,19)\n",
    "        X2 = np.loadtxt(self.LUT_PATH + \"02_band4.csv\",delimiter=\",\").reshape(2,8,12,5,17,17,19)\n",
    "        X3 = np.loadtxt(self.LUT_PATH + \"03_band4.csv\",delimiter=\",\").reshape(2,8,12,5,17,17,19)\n",
    "        # return X1, X2, X3\n",
    "        \n",
    "        fn1 = RegularGridInterpolator((aero_type,water,AOT,al,sza,vza,raa),X1,bounds_error=False,fill_value=np.nan)\n",
    "        fn2 = RegularGridInterpolator((aero_type,water,AOT,al,sza,vza,raa),X2,bounds_error=False,fill_value=np.nan)\n",
    "        fn3 = RegularGridInterpolator((aero_type,water,AOT,al,sza,vza,raa),X3,bounds_error=False,fill_value=np.nan)\n",
    "        return fn1,fn2,fn3 \n",
    "    \n",
    "class AHI_angle:\n",
    "    def __init__(self,date):\n",
    "        self.date = date        \n",
    "    def read_angle_data(self):\n",
    "        \n",
    "        AHI_date = self.date[4:11]\n",
    "        \n",
    "        sza_file_name = 'AHI_SZA_2018{}5.dat'.format(AHI_date)\n",
    "        saa_file_name = 'AHI_SAA_2018{}5.dat'.format(AHI_date)\n",
    "        \n",
    "        AHI_SZA_File = open(SZA_PATH + sza_file_name,'rb')\n",
    "        AHI_SZA = np.frombuffer(AHI_SZA_File.read(),dtype='u2').reshape(3000,3000) / 100\n",
    "        AHI_SZA_File.close()\n",
    "        AHI_SZA=cv2.resize(np.array(AHI_SZA,dtype='float64'),(row_AHI,col_AHI),interpolation=cv2.INTER_NEAREST)\n",
    "        \n",
    "        \n",
    "        AHI_SAA_File = open(SAA_PATH + saa_file_name,'rb')\n",
    "        AHI_SAA = np.frombuffer(AHI_SAA_File.read(),dtype='u2').reshape(3000,3000) / 100\n",
    "        AHI_SAA_File.close()\n",
    "        AHI_SAA=cv2.resize(np.array(AHI_SAA,dtype='float64'),(row_AHI,col_AHI),interpolation=cv2.INTER_NEAREST)\n",
    "        \n",
    "        return AHI_SZA[1000:4000,3500:6500],AHI_SAA[1000:4000,3500:6500]\n",
    "\n",
    "class CAMS_data:\n",
    "    def __init__(self,Y,M,D,H,MI,lat,lon):\n",
    "        self.YYYY = Y\n",
    "        self.MM = M\n",
    "        self.DD = D\n",
    "        self.HH = H\n",
    "        self.MIN = MI\n",
    "        self.lon = lon\n",
    "        self.lat = lat\n",
    "        \n",
    "    def read_CAMS(self):\n",
    "\n",
    "        if int(self.HH) >= 21:\n",
    "            d1 = dt.datetime(int(self.YYYY),int(self.MM),int(self.DD))\n",
    "            d2 = dt.datetime(int(self.YYYY),int(self.MM),int(self.DD)) + dt.timedelta(days=1)\n",
    "            \n",
    "            ds1 = xr.open_dataset(CAMS_PATH + d1.strftime('%Y') + d1.strftime('%m') + d1.strftime('%d') + '.nc')\n",
    "            ds2 = xr.open_dataset(CAMS_PATH + d2.strftime('%Y') + d2.strftime('%m') + d2.strftime('%d') + '.nc')\n",
    "            ds = xr.merge([ds1, ds2]) \n",
    "            \n",
    "        else:\n",
    "             ds = xr.open_dataset(CAMS_PATH + self.YYYY + self.MM + self.DD + '.nc')\n",
    "                \n",
    "        dtime = dt.datetime(int(self.YYYY),int(self.MM),int(self.DD),int(self.HH),int(self.MIN)+5)    \n",
    "        ds = ds.interp(time = dtime,method = 'linear')\n",
    "        ds = ds.interp(longitude=self.lon,latitude=self.lat,method=\"nearest\")\n",
    "        \n",
    "        OZ = ds['gtco3'].values        \n",
    "        WV = ds['tcwv'].values        \n",
    "        AOT550 = ds['aod550'].values\n",
    "#         Atmosphere data Unit conversion\n",
    "        WV = WV/10\n",
    "        OZ = OZ*46.6975764\n",
    "\n",
    "\n",
    "#         Processing water vapor and ozone max and min\n",
    "        OZ[OZ>=max(ozone)] = max(ozone)-(1/10000)\n",
    "        OZ[OZ<=min(ozone)] = min(ozone)+(1/10000)\n",
    "        WV[WV>=max(water)] = max(water)-(1/10000)\n",
    "        WV[WV<=min(water)] = min(water)+(1/10000)\n",
    "        AOT550[AOT550>=max(AOT)] = max(AOT)-(1/10000)\n",
    "        AOT550[AOT550<=min(AOT)] = min(AOT)+(1/10000)\n",
    "        \n",
    "        return np.array(OZ).reshape(3000,3000),np.array(WV).reshape(3000,3000),np.array(AOT550).reshape(3000,3000)\n",
    "\n",
    "    def read_CAMS_AERO(self):\n",
    "        \n",
    "                \n",
    "        if int(self.HH) >= 21:\n",
    "            d1 = dt.datetime(int(self.YYYY),int(self.MM),int(self.DD))\n",
    "            d2 = dt.datetime(int(self.YYYY),int(self.MM),int(self.DD)) + dt.timedelta(days=1)\n",
    "            \n",
    "            ds1 = xr.open_dataset(CAMS_AERO_PATH + d1.strftime('%Y') + d1.strftime('%m') + d1.strftime('%d') + '.nc')\n",
    "            ds2 = xr.open_dataset(CAMS_AERO_PATH + d2.strftime('%Y') + d2.strftime('%m') + d2.strftime('%d') + '.nc')\n",
    "            ds = xr.merge([ds1, ds2]) \n",
    "            \n",
    "        else:\n",
    "             ds = xr.open_dataset(CAMS_AERO_PATH + self.YYYY + self.MM + self.DD + '.nc')\n",
    "                \n",
    "        dtime = dt.datetime(int(self.YYYY),int(self.MM),int(self.DD),int(self.HH),int(self.MIN)+5)\n",
    "        ds = ds.interp(time = dtime,method = 'linear')\n",
    "        ds = ds.interp(longitude=self.lon,latitude=self.lat,method=\"nearest\")\n",
    "        \n",
    "        bc = ds['bcaod550'].values\n",
    "        du = ds['duaod550'].values\n",
    "        om = ds['omaod550'].values\n",
    "        ss = ds['ssaod550'].values\n",
    "        su = ds['suaod550'].values\n",
    "\n",
    "        DL_6S = np.array(du)\n",
    "        SL_6S = np.array(su) + np.array(bc)\n",
    "        OC_6S = np.array(ss)\n",
    "        WS_6S = np.array(om)\n",
    "\n",
    "        Total = DL_6S + SL_6S + OC_6S + WS_6S\n",
    "\n",
    "        precent_DL_6S = DL_6S / Total\n",
    "        precent_SL_6S = SL_6S / Total\n",
    "        precent_OC_6S = OC_6S / Total\n",
    "        precent_WS_6S = WS_6S / Total\n",
    "        P = np.dstack((precent_DL_6S,precent_WS_6S,precent_OC_6S,precent_SL_6S))\n",
    "        Aerosol_type = np.where(np.amax(P,axis = 2) == precent_OC_6S,1,0)\n",
    "        \n",
    "        return Aerosol_type\n",
    "def H8_Process(ACCOUNT,PW,Band,Band_number,Date):\n",
    "    data = H8_data(ACCOUNT,PW,Band,Band_number,Date).read_H8data()\n",
    "    return data\n",
    "\n",
    "def remove_original_file(path):\n",
    "    os.system('rm -rf {}'.format(path))\n",
    "    \n",
    "    \n",
    "def mkdir(path):\n",
    "    folder = os.path.exists(path) \n",
    "    if not folder:\n",
    "        os.makedirs(path)\n",
    "        \n",
    "def Time_split(time):\n",
    "    YYYY = time.strftime('%Y')\n",
    "    MM = time.strftime('%m')\n",
    "    DD = time.strftime('%d')\n",
    "    HH = time.strftime('%H')\n",
    "    MIN = time.strftime('%M')\n",
    "    date = YYYY + MM + DD + HH + MIN\n",
    "    return YYYY,MM,DD,HH,MIN,date\n",
    "        \n",
    "        \n",
    "def calculate_6s_band4(i):\n",
    "    \n",
    "    Aero_input = Aerosol_type[i][Ocean_mask[i]]\n",
    "    WV_input = WV[i][Ocean_mask[i]]\n",
    "    AOT550_input = AOT550[i][Ocean_mask[i]]\n",
    "    RAA_input = RAA[i][Ocean_mask[i]]\n",
    "    SZA_input = AHI_SZA[i][Ocean_mask[i]]\n",
    "    VZA_input = AHI_VZA[i][Ocean_mask[i]]\n",
    "    AL_input = AHI_AL[i][Ocean_mask[i]]\n",
    "    AHI_data_input = AHI_data[i][Ocean_mask[i]]\n",
    "\n",
    "    xi = np.array([Aero_input,WV_input,AOT550_input,AL_input,SZA_input,VZA_input,RAA_input])\n",
    "    xi = xi.T\n",
    "    xa = fn1(xi)\n",
    "    xb = fn2(xi)\n",
    "    xc = fn3(xi)\n",
    "    y = xa*AHI_data_input-xb\n",
    "    SR = y/(1+xc*y)\n",
    "    return SR\n",
    "\n",
    "@nb.jit()\n",
    "def get_water_idx():\n",
    "    Water_idx = []\n",
    "    for i in range(3000):\n",
    "        line_idx =[]\n",
    "        for j in range(3000):\n",
    "            if Ocean_mask[i,j] == True:\n",
    "                line_idx.append(j)\n",
    "\n",
    "        Water_idx.append(line_idx)\n",
    "    return Water_idx\n",
    "\n",
    "Ocean_mask_PATH = '/data01/GEO/INPUT/LAND_MASK/Landmask_10.dat'\n",
    "    \n",
    "Mask_File = open(Ocean_mask_PATH,'rb')\n",
    "Ocean_mask = np.frombuffer(Mask_File.read(),dtype='u1').reshape(12000,12000)[1000:4000,3500:6500].astype('bool')\n",
    "Mask_File.close()    \n",
    "    \n",
    "    \n",
    "    \n",
    "Water_idx = get_water_idx()\n",
    "sza = np.linspace(0,80,17)\n",
    "vza = np.linspace(0,80,17)\n",
    "water = np.linspace(0,7,8)\n",
    "ozone = np.linspace(0.2,0.4,5)\n",
    "AOT = np.array([0.01,0.05,0.1,0.15,0.2,0.3,0.4,0.6,0.8,1.0,1.5,2.0])\n",
    "raa = np.linspace(0,180,19)\n",
    "al = np.linspace(0,8,5)\n",
    "aero_type = np.array([0,1])\n",
    "\n",
    "fn1,fn2,fn3 = LUT_interpolation(LUT_PATH).LUT_interpolation()\n",
    "\n",
    "\n",
    "VZA_File = open(VZA_PATH,'rb')\n",
    "AHI_VZA = np.frombuffer(VZA_File.read(),dtype='u2').reshape(12000,12000)[1000:4000,3500:6500] * 0.01\n",
    "VZA_File.close()\n",
    "\n",
    "VAA_File = open(VAA_PATH,'rb')\n",
    "AHI_VAA = np.frombuffer(VAA_File.read(),dtype='u2').reshape(12000,12000)[1000:4000,3500:6500] * 0.01\n",
    "VAA_File.close()\n",
    "\n",
    "AL_File = open(AL_PATH,'rb')\n",
    "AHI_AL = np.frombuffer(AL_File.read(),dtype='u2').reshape(12000,12000)[1000:4000,3500:6500] * 0.001\n",
    "AL_File.close()\n",
    "        "
   ]
  },
  {
   "cell_type": "code",
   "execution_count": 34,
   "metadata": {
    "collapsed": true,
    "jupyter": {
     "outputs_hidden": true
    },
    "tags": []
   },
   "outputs": [
    {
     "name": "stdout",
     "output_type": "stream",
     "text": [
      "start processing 201801190000\n",
      "Himawari8/AHI data Processed Finish\n",
      "data reading finish\n",
      "Start reading Angle data\n"
     ]
    },
    {
     "name": "stderr",
     "output_type": "stream",
     "text": [
      "<ipython-input-34-941ef42f7000>:27: FutureWarning: elementwise comparison failed; returning scalar instead, but in the future will perform elementwise comparison\n",
      "  if AHI_data == 'No data':\n"
     ]
    },
    {
     "name": "stdout",
     "output_type": "stream",
     "text": [
      "Angle data read finished\n",
      "Start reading Atmospheric data\n",
      "Atmospheric data read finished\n",
      "Start Calculate SR\n",
      "Calculate SR finished\n",
      "Start Save SR file \n",
      "Save SR file finished\n",
      "delete file finish\n",
      "time: 12.1 secs, 0.2 mins,0.0 hours\n",
      "start processing 201801190010\n",
      "Himawari8/AHI data Processed Finish\n",
      "data reading finish\n",
      "Start reading Angle data\n"
     ]
    },
    {
     "name": "stderr",
     "output_type": "stream",
     "text": [
      "<ipython-input-34-941ef42f7000>:27: FutureWarning: elementwise comparison failed; returning scalar instead, but in the future will perform elementwise comparison\n",
      "  if AHI_data == 'No data':\n"
     ]
    },
    {
     "name": "stdout",
     "output_type": "stream",
     "text": [
      "Angle data read finished\n",
      "Start reading Atmospheric data\n",
      "Atmospheric data read finished\n",
      "Start Calculate SR\n",
      "Calculate SR finished\n",
      "Start Save SR file \n",
      "Save SR file finished\n",
      "delete file finish\n",
      "time: 11.2 secs, 0.2 mins,0.0 hours\n",
      "start processing 201801190020\n",
      "Himawari8/AHI data Processed Finish\n",
      "data reading finish\n",
      "Start reading Angle data\n"
     ]
    },
    {
     "name": "stderr",
     "output_type": "stream",
     "text": [
      "<ipython-input-34-941ef42f7000>:27: FutureWarning: elementwise comparison failed; returning scalar instead, but in the future will perform elementwise comparison\n",
      "  if AHI_data == 'No data':\n"
     ]
    },
    {
     "name": "stdout",
     "output_type": "stream",
     "text": [
      "Angle data read finished\n",
      "Start reading Atmospheric data\n",
      "Atmospheric data read finished\n",
      "Start Calculate SR\n",
      "Calculate SR finished\n",
      "Start Save SR file \n",
      "Save SR file finished\n",
      "delete file finish\n",
      "time: 11.0 secs, 0.2 mins,0.0 hours\n",
      "start processing 201801190030\n",
      "Himawari8/AHI data Processed Finish\n",
      "data reading finish\n",
      "Start reading Angle data\n"
     ]
    },
    {
     "name": "stderr",
     "output_type": "stream",
     "text": [
      "<ipython-input-34-941ef42f7000>:27: FutureWarning: elementwise comparison failed; returning scalar instead, but in the future will perform elementwise comparison\n",
      "  if AHI_data == 'No data':\n"
     ]
    },
    {
     "name": "stdout",
     "output_type": "stream",
     "text": [
      "Angle data read finished\n",
      "Start reading Atmospheric data\n",
      "Atmospheric data read finished\n",
      "Start Calculate SR\n",
      "Calculate SR finished\n",
      "Start Save SR file \n",
      "Save SR file finished\n",
      "delete file finish\n",
      "time: 11.5 secs, 0.2 mins,0.0 hours\n",
      "start processing 201801190040\n",
      "Himawari8/AHI data Processed Finish\n",
      "data reading finish\n",
      "Start reading Angle data\n"
     ]
    },
    {
     "name": "stderr",
     "output_type": "stream",
     "text": [
      "<ipython-input-34-941ef42f7000>:27: FutureWarning: elementwise comparison failed; returning scalar instead, but in the future will perform elementwise comparison\n",
      "  if AHI_data == 'No data':\n"
     ]
    },
    {
     "name": "stdout",
     "output_type": "stream",
     "text": [
      "Angle data read finished\n",
      "Start reading Atmospheric data\n",
      "Atmospheric data read finished\n",
      "Start Calculate SR\n",
      "Calculate SR finished\n",
      "Start Save SR file \n",
      "Save SR file finished\n",
      "delete file finish\n",
      "time: 10.6 secs, 0.2 mins,0.0 hours\n",
      "start processing 201801190050\n",
      "Himawari8/AHI data Processed Finish\n",
      "data reading finish\n",
      "Start reading Angle data\n"
     ]
    },
    {
     "name": "stderr",
     "output_type": "stream",
     "text": [
      "<ipython-input-34-941ef42f7000>:27: FutureWarning: elementwise comparison failed; returning scalar instead, but in the future will perform elementwise comparison\n",
      "  if AHI_data == 'No data':\n"
     ]
    },
    {
     "name": "stdout",
     "output_type": "stream",
     "text": [
      "Angle data read finished\n",
      "Start reading Atmospheric data\n",
      "Atmospheric data read finished\n",
      "Start Calculate SR\n",
      "Calculate SR finished\n",
      "Start Save SR file \n",
      "Save SR file finished\n",
      "delete file finish\n",
      "time: 10.9 secs, 0.2 mins,0.0 hours\n",
      "start processing 201801190100\n",
      "Himawari8/AHI data Processed Finish\n",
      "data reading finish\n",
      "Start reading Angle data\n"
     ]
    },
    {
     "name": "stderr",
     "output_type": "stream",
     "text": [
      "<ipython-input-34-941ef42f7000>:27: FutureWarning: elementwise comparison failed; returning scalar instead, but in the future will perform elementwise comparison\n",
      "  if AHI_data == 'No data':\n"
     ]
    },
    {
     "name": "stdout",
     "output_type": "stream",
     "text": [
      "Angle data read finished\n",
      "Start reading Atmospheric data\n",
      "Atmospheric data read finished\n",
      "Start Calculate SR\n",
      "Calculate SR finished\n",
      "Start Save SR file \n",
      "Save SR file finished\n",
      "delete file finish\n",
      "time: 11.3 secs, 0.2 mins,0.0 hours\n",
      "start processing 201801190110\n",
      "Himawari8/AHI data Processed Finish\n",
      "data reading finish\n",
      "Start reading Angle data\n"
     ]
    },
    {
     "name": "stderr",
     "output_type": "stream",
     "text": [
      "<ipython-input-34-941ef42f7000>:27: FutureWarning: elementwise comparison failed; returning scalar instead, but in the future will perform elementwise comparison\n",
      "  if AHI_data == 'No data':\n"
     ]
    },
    {
     "name": "stdout",
     "output_type": "stream",
     "text": [
      "Angle data read finished\n",
      "Start reading Atmospheric data\n",
      "Atmospheric data read finished\n",
      "Start Calculate SR\n",
      "Calculate SR finished\n",
      "Start Save SR file \n",
      "Save SR file finished\n",
      "delete file finish\n",
      "time: 12.0 secs, 0.2 mins,0.0 hours\n",
      "start processing 201801190120\n",
      "Himawari8/AHI data Processed Finish\n",
      "data reading finish\n",
      "Start reading Angle data\n"
     ]
    },
    {
     "name": "stderr",
     "output_type": "stream",
     "text": [
      "<ipython-input-34-941ef42f7000>:27: FutureWarning: elementwise comparison failed; returning scalar instead, but in the future will perform elementwise comparison\n",
      "  if AHI_data == 'No data':\n"
     ]
    },
    {
     "name": "stdout",
     "output_type": "stream",
     "text": [
      "Angle data read finished\n",
      "Start reading Atmospheric data\n",
      "Atmospheric data read finished\n",
      "Start Calculate SR\n",
      "Calculate SR finished\n",
      "Start Save SR file \n",
      "Save SR file finished\n",
      "delete file finish\n",
      "time: 10.6 secs, 0.2 mins,0.0 hours\n",
      "start processing 201801190130\n",
      "Himawari8/AHI data Processed Finish\n",
      "data reading finish\n",
      "Start reading Angle data\n"
     ]
    },
    {
     "name": "stderr",
     "output_type": "stream",
     "text": [
      "<ipython-input-34-941ef42f7000>:27: FutureWarning: elementwise comparison failed; returning scalar instead, but in the future will perform elementwise comparison\n",
      "  if AHI_data == 'No data':\n"
     ]
    },
    {
     "name": "stdout",
     "output_type": "stream",
     "text": [
      "Angle data read finished\n",
      "Start reading Atmospheric data\n",
      "Atmospheric data read finished\n",
      "Start Calculate SR\n",
      "Calculate SR finished\n",
      "Start Save SR file \n",
      "Save SR file finished\n",
      "delete file finish\n",
      "time: 11.7 secs, 0.2 mins,0.0 hours\n",
      "start processing 201801190140\n",
      "Himawari8/AHI data Processed Finish\n",
      "data reading finish\n",
      "Start reading Angle data\n"
     ]
    },
    {
     "name": "stderr",
     "output_type": "stream",
     "text": [
      "<ipython-input-34-941ef42f7000>:27: FutureWarning: elementwise comparison failed; returning scalar instead, but in the future will perform elementwise comparison\n",
      "  if AHI_data == 'No data':\n"
     ]
    },
    {
     "name": "stdout",
     "output_type": "stream",
     "text": [
      "Angle data read finished\n",
      "Start reading Atmospheric data\n",
      "Atmospheric data read finished\n",
      "Start Calculate SR\n",
      "Calculate SR finished\n",
      "Start Save SR file \n",
      "Save SR file finished\n",
      "delete file finish\n",
      "time: 11.9 secs, 0.2 mins,0.0 hours\n",
      "start processing 201801190150\n",
      "Himawari8/AHI data Processed Finish\n",
      "data reading finish\n",
      "Start reading Angle data\n"
     ]
    },
    {
     "name": "stderr",
     "output_type": "stream",
     "text": [
      "<ipython-input-34-941ef42f7000>:27: FutureWarning: elementwise comparison failed; returning scalar instead, but in the future will perform elementwise comparison\n",
      "  if AHI_data == 'No data':\n"
     ]
    },
    {
     "name": "stdout",
     "output_type": "stream",
     "text": [
      "Angle data read finished\n",
      "Start reading Atmospheric data\n",
      "Atmospheric data read finished\n",
      "Start Calculate SR\n",
      "Calculate SR finished\n",
      "Start Save SR file \n",
      "Save SR file finished\n",
      "delete file finish\n",
      "time: 11.9 secs, 0.2 mins,0.0 hours\n",
      "start processing 201801190200\n",
      "Himawari8/AHI data Processed Finish\n",
      "data reading finish\n",
      "Start reading Angle data\n"
     ]
    },
    {
     "name": "stderr",
     "output_type": "stream",
     "text": [
      "<ipython-input-34-941ef42f7000>:27: FutureWarning: elementwise comparison failed; returning scalar instead, but in the future will perform elementwise comparison\n",
      "  if AHI_data == 'No data':\n"
     ]
    },
    {
     "name": "stdout",
     "output_type": "stream",
     "text": [
      "Angle data read finished\n",
      "Start reading Atmospheric data\n",
      "Atmospheric data read finished\n",
      "Start Calculate SR\n",
      "Calculate SR finished\n",
      "Start Save SR file \n",
      "Save SR file finished\n",
      "delete file finish\n",
      "time: 11.9 secs, 0.2 mins,0.0 hours\n",
      "start processing 201801190210\n",
      "Himawari8/AHI data Processed Finish\n",
      "data reading finish\n",
      "Start reading Angle data\n"
     ]
    },
    {
     "name": "stderr",
     "output_type": "stream",
     "text": [
      "<ipython-input-34-941ef42f7000>:27: FutureWarning: elementwise comparison failed; returning scalar instead, but in the future will perform elementwise comparison\n",
      "  if AHI_data == 'No data':\n"
     ]
    },
    {
     "name": "stdout",
     "output_type": "stream",
     "text": [
      "Angle data read finished\n",
      "Start reading Atmospheric data\n",
      "Atmospheric data read finished\n",
      "Start Calculate SR\n",
      "Calculate SR finished\n",
      "Start Save SR file \n",
      "Save SR file finished\n",
      "delete file finish\n",
      "time: 12.0 secs, 0.2 mins,0.0 hours\n",
      "start processing 201801190220\n",
      "Himawari8/AHI data Processed Finish\n",
      "data reading finish\n",
      "Start reading Angle data\n"
     ]
    },
    {
     "name": "stderr",
     "output_type": "stream",
     "text": [
      "<ipython-input-34-941ef42f7000>:27: FutureWarning: elementwise comparison failed; returning scalar instead, but in the future will perform elementwise comparison\n",
      "  if AHI_data == 'No data':\n"
     ]
    },
    {
     "name": "stdout",
     "output_type": "stream",
     "text": [
      "Angle data read finished\n",
      "Start reading Atmospheric data\n",
      "Atmospheric data read finished\n",
      "Start Calculate SR\n",
      "Calculate SR finished\n",
      "Start Save SR file \n",
      "Save SR file finished\n",
      "delete file finish\n",
      "time: 11.7 secs, 0.2 mins,0.0 hours\n",
      "start processing 201801190230\n",
      "Himawari8/AHI data Processed Finish\n",
      "data reading finish\n",
      "Start reading Angle data\n"
     ]
    },
    {
     "name": "stderr",
     "output_type": "stream",
     "text": [
      "<ipython-input-34-941ef42f7000>:27: FutureWarning: elementwise comparison failed; returning scalar instead, but in the future will perform elementwise comparison\n",
      "  if AHI_data == 'No data':\n"
     ]
    },
    {
     "name": "stdout",
     "output_type": "stream",
     "text": [
      "Angle data read finished\n",
      "Start reading Atmospheric data\n",
      "Atmospheric data read finished\n",
      "Start Calculate SR\n",
      "Calculate SR finished\n",
      "Start Save SR file \n",
      "Save SR file finished\n",
      "delete file finish\n",
      "time: 11.7 secs, 0.2 mins,0.0 hours\n",
      "start processing 201801190240\n",
      "File Not Found\n",
      "start processing 201801190250\n",
      "Himawari8/AHI data Processed Finish\n",
      "data reading finish\n",
      "Start reading Angle data\n"
     ]
    },
    {
     "name": "stderr",
     "output_type": "stream",
     "text": [
      "<ipython-input-34-941ef42f7000>:27: FutureWarning: elementwise comparison failed; returning scalar instead, but in the future will perform elementwise comparison\n",
      "  if AHI_data == 'No data':\n"
     ]
    },
    {
     "name": "stdout",
     "output_type": "stream",
     "text": [
      "Angle data read finished\n",
      "Start reading Atmospheric data\n",
      "Atmospheric data read finished\n",
      "Start Calculate SR\n",
      "Calculate SR finished\n",
      "Start Save SR file \n",
      "Save SR file finished\n",
      "delete file finish\n",
      "time: 11.7 secs, 0.2 mins,0.0 hours\n",
      "start processing 201801190300\n",
      "Himawari8/AHI data Processed Finish\n",
      "data reading finish\n",
      "Start reading Angle data\n"
     ]
    },
    {
     "name": "stderr",
     "output_type": "stream",
     "text": [
      "<ipython-input-34-941ef42f7000>:27: FutureWarning: elementwise comparison failed; returning scalar instead, but in the future will perform elementwise comparison\n",
      "  if AHI_data == 'No data':\n"
     ]
    },
    {
     "name": "stdout",
     "output_type": "stream",
     "text": [
      "Angle data read finished\n",
      "Start reading Atmospheric data\n",
      "Atmospheric data read finished\n",
      "Start Calculate SR\n",
      "Calculate SR finished\n",
      "Start Save SR file \n",
      "Save SR file finished\n",
      "delete file finish\n",
      "time: 12.0 secs, 0.2 mins,0.0 hours\n",
      "start processing 201801190310\n",
      "Himawari8/AHI data Processed Finish\n",
      "data reading finish\n",
      "Start reading Angle data\n"
     ]
    },
    {
     "name": "stderr",
     "output_type": "stream",
     "text": [
      "<ipython-input-34-941ef42f7000>:27: FutureWarning: elementwise comparison failed; returning scalar instead, but in the future will perform elementwise comparison\n",
      "  if AHI_data == 'No data':\n"
     ]
    },
    {
     "name": "stdout",
     "output_type": "stream",
     "text": [
      "Angle data read finished\n",
      "Start reading Atmospheric data\n",
      "Atmospheric data read finished\n",
      "Start Calculate SR\n",
      "Calculate SR finished\n",
      "Start Save SR file \n",
      "Save SR file finished\n",
      "delete file finish\n",
      "time: 12.3 secs, 0.2 mins,0.0 hours\n",
      "start processing 201801190320\n",
      "Himawari8/AHI data Processed Finish\n",
      "data reading finish\n",
      "Start reading Angle data\n"
     ]
    },
    {
     "name": "stderr",
     "output_type": "stream",
     "text": [
      "<ipython-input-34-941ef42f7000>:27: FutureWarning: elementwise comparison failed; returning scalar instead, but in the future will perform elementwise comparison\n",
      "  if AHI_data == 'No data':\n"
     ]
    },
    {
     "name": "stdout",
     "output_type": "stream",
     "text": [
      "Angle data read finished\n",
      "Start reading Atmospheric data\n",
      "Atmospheric data read finished\n",
      "Start Calculate SR\n",
      "Calculate SR finished\n",
      "Start Save SR file \n",
      "Save SR file finished\n",
      "delete file finish\n",
      "time: 11.4 secs, 0.2 mins,0.0 hours\n",
      "start processing 201801190330\n",
      "Himawari8/AHI data Processed Finish\n",
      "data reading finish\n",
      "Start reading Angle data\n"
     ]
    },
    {
     "name": "stderr",
     "output_type": "stream",
     "text": [
      "<ipython-input-34-941ef42f7000>:27: FutureWarning: elementwise comparison failed; returning scalar instead, but in the future will perform elementwise comparison\n",
      "  if AHI_data == 'No data':\n"
     ]
    },
    {
     "name": "stdout",
     "output_type": "stream",
     "text": [
      "Angle data read finished\n",
      "Start reading Atmospheric data\n",
      "Atmospheric data read finished\n",
      "Start Calculate SR\n",
      "Calculate SR finished\n",
      "Start Save SR file \n",
      "Save SR file finished\n",
      "delete file finish\n",
      "time: 10.8 secs, 0.2 mins,0.0 hours\n",
      "start processing 201801190340\n",
      "Himawari8/AHI data Processed Finish\n",
      "data reading finish\n",
      "Start reading Angle data\n"
     ]
    },
    {
     "name": "stderr",
     "output_type": "stream",
     "text": [
      "<ipython-input-34-941ef42f7000>:27: FutureWarning: elementwise comparison failed; returning scalar instead, but in the future will perform elementwise comparison\n",
      "  if AHI_data == 'No data':\n"
     ]
    },
    {
     "name": "stdout",
     "output_type": "stream",
     "text": [
      "Angle data read finished\n",
      "Start reading Atmospheric data\n",
      "Atmospheric data read finished\n",
      "Start Calculate SR\n",
      "Calculate SR finished\n",
      "Start Save SR file \n",
      "Save SR file finished\n",
      "delete file finish\n",
      "time: 12.1 secs, 0.2 mins,0.0 hours\n",
      "start processing 201801190350\n",
      "Himawari8/AHI data Processed Finish\n",
      "data reading finish\n",
      "Start reading Angle data\n"
     ]
    },
    {
     "name": "stderr",
     "output_type": "stream",
     "text": [
      "<ipython-input-34-941ef42f7000>:27: FutureWarning: elementwise comparison failed; returning scalar instead, but in the future will perform elementwise comparison\n",
      "  if AHI_data == 'No data':\n"
     ]
    },
    {
     "name": "stdout",
     "output_type": "stream",
     "text": [
      "Angle data read finished\n",
      "Start reading Atmospheric data\n",
      "Atmospheric data read finished\n",
      "Start Calculate SR\n",
      "Calculate SR finished\n",
      "Start Save SR file \n",
      "Save SR file finished\n",
      "delete file finish\n",
      "time: 11.7 secs, 0.2 mins,0.0 hours\n",
      "start processing 201801190400\n",
      "Himawari8/AHI data Processed Finish\n",
      "data reading finish\n",
      "Start reading Angle data\n"
     ]
    },
    {
     "name": "stderr",
     "output_type": "stream",
     "text": [
      "<ipython-input-34-941ef42f7000>:27: FutureWarning: elementwise comparison failed; returning scalar instead, but in the future will perform elementwise comparison\n",
      "  if AHI_data == 'No data':\n"
     ]
    },
    {
     "name": "stdout",
     "output_type": "stream",
     "text": [
      "Angle data read finished\n",
      "Start reading Atmospheric data\n",
      "Atmospheric data read finished\n",
      "Start Calculate SR\n",
      "Calculate SR finished\n",
      "Start Save SR file \n",
      "Save SR file finished\n",
      "delete file finish\n",
      "time: 11.0 secs, 0.2 mins,0.0 hours\n",
      "start processing 201801190410\n",
      "Himawari8/AHI data Processed Finish\n",
      "data reading finish\n",
      "Start reading Angle data\n"
     ]
    },
    {
     "name": "stderr",
     "output_type": "stream",
     "text": [
      "<ipython-input-34-941ef42f7000>:27: FutureWarning: elementwise comparison failed; returning scalar instead, but in the future will perform elementwise comparison\n",
      "  if AHI_data == 'No data':\n"
     ]
    },
    {
     "name": "stdout",
     "output_type": "stream",
     "text": [
      "Angle data read finished\n",
      "Start reading Atmospheric data\n",
      "Atmospheric data read finished\n",
      "Start Calculate SR\n",
      "Calculate SR finished\n",
      "Start Save SR file \n",
      "Save SR file finished\n",
      "delete file finish\n",
      "time: 12.0 secs, 0.2 mins,0.0 hours\n",
      "start processing 201801190420\n",
      "Himawari8/AHI data Processed Finish\n",
      "data reading finish\n",
      "Start reading Angle data\n"
     ]
    },
    {
     "name": "stderr",
     "output_type": "stream",
     "text": [
      "<ipython-input-34-941ef42f7000>:27: FutureWarning: elementwise comparison failed; returning scalar instead, but in the future will perform elementwise comparison\n",
      "  if AHI_data == 'No data':\n"
     ]
    },
    {
     "name": "stdout",
     "output_type": "stream",
     "text": [
      "Angle data read finished\n",
      "Start reading Atmospheric data\n",
      "Atmospheric data read finished\n",
      "Start Calculate SR\n",
      "Calculate SR finished\n",
      "Start Save SR file \n",
      "Save SR file finished\n",
      "delete file finish\n",
      "time: 11.7 secs, 0.2 mins,0.0 hours\n",
      "start processing 201801190430\n",
      "Himawari8/AHI data Processed Finish\n",
      "data reading finish\n",
      "Start reading Angle data\n"
     ]
    },
    {
     "name": "stderr",
     "output_type": "stream",
     "text": [
      "<ipython-input-34-941ef42f7000>:27: FutureWarning: elementwise comparison failed; returning scalar instead, but in the future will perform elementwise comparison\n",
      "  if AHI_data == 'No data':\n"
     ]
    },
    {
     "name": "stdout",
     "output_type": "stream",
     "text": [
      "Angle data read finished\n",
      "Start reading Atmospheric data\n",
      "Atmospheric data read finished\n",
      "Start Calculate SR\n",
      "Calculate SR finished\n",
      "Start Save SR file \n",
      "Save SR file finished\n",
      "delete file finish\n",
      "time: 11.5 secs, 0.2 mins,0.0 hours\n",
      "start processing 201801190440\n",
      "Himawari8/AHI data Processed Finish\n",
      "data reading finish\n",
      "Start reading Angle data\n"
     ]
    },
    {
     "name": "stderr",
     "output_type": "stream",
     "text": [
      "<ipython-input-34-941ef42f7000>:27: FutureWarning: elementwise comparison failed; returning scalar instead, but in the future will perform elementwise comparison\n",
      "  if AHI_data == 'No data':\n"
     ]
    },
    {
     "name": "stdout",
     "output_type": "stream",
     "text": [
      "Angle data read finished\n",
      "Start reading Atmospheric data\n",
      "Atmospheric data read finished\n",
      "Start Calculate SR\n",
      "Calculate SR finished\n",
      "Start Save SR file \n",
      "Save SR file finished\n",
      "delete file finish\n",
      "time: 11.8 secs, 0.2 mins,0.0 hours\n",
      "start processing 201801190450\n",
      "Himawari8/AHI data Processed Finish\n",
      "data reading finish\n",
      "Start reading Angle data\n"
     ]
    },
    {
     "name": "stderr",
     "output_type": "stream",
     "text": [
      "<ipython-input-34-941ef42f7000>:27: FutureWarning: elementwise comparison failed; returning scalar instead, but in the future will perform elementwise comparison\n",
      "  if AHI_data == 'No data':\n"
     ]
    },
    {
     "name": "stdout",
     "output_type": "stream",
     "text": [
      "Angle data read finished\n",
      "Start reading Atmospheric data\n",
      "Atmospheric data read finished\n",
      "Start Calculate SR\n",
      "Calculate SR finished\n",
      "Start Save SR file \n",
      "Save SR file finished\n",
      "delete file finish\n",
      "time: 11.9 secs, 0.2 mins,0.0 hours\n",
      "start processing 201801190500\n",
      "Himawari8/AHI data Processed Finish\n",
      "data reading finish\n",
      "Start reading Angle data\n"
     ]
    },
    {
     "name": "stderr",
     "output_type": "stream",
     "text": [
      "<ipython-input-34-941ef42f7000>:27: FutureWarning: elementwise comparison failed; returning scalar instead, but in the future will perform elementwise comparison\n",
      "  if AHI_data == 'No data':\n"
     ]
    },
    {
     "name": "stdout",
     "output_type": "stream",
     "text": [
      "Angle data read finished\n",
      "Start reading Atmospheric data\n",
      "Atmospheric data read finished\n",
      "Start Calculate SR\n",
      "Calculate SR finished\n",
      "Start Save SR file \n",
      "Save SR file finished\n",
      "delete file finish\n",
      "time: 11.5 secs, 0.2 mins,0.0 hours\n"
     ]
    }
   ],
   "source": [
    "\n",
    "TOA_Ref = []\n",
    "SR_Ref = []\n",
    "\n",
    "date_start = '2018-01-19 00:00'\n",
    "date_end = '2018-01-19  05:00'\n",
    "date_t = dt.timedelta(minutes=10)\n",
    "date_s = dt.datetime.strptime(date_start, \"%Y-%m-%d %H:%M\")\n",
    "date_e = dt.datetime.strptime(date_end, \"%Y-%m-%d %H:%M\")\n",
    "date_time_now = date_s\n",
    "while date_time_now <= date_e:\n",
    "    start_time = T.time()\n",
    "    date_dl_str = date_time_now.strftime(\"%Y-%m-%d %H:%M\" )\n",
    "\n",
    "    YYYY,MM,DD,HH,MIN,date= Time_split(date_time_now)    \n",
    "    print(\"start processing {}\".format(date))\n",
    "\n",
    "    # make dir\n",
    "    folder_original = target + date +'_original/'\n",
    "    folder_AC = target+'{}/{}/{}/'.format(YYYY,MM,DD)\n",
    "    mkdir(folder_original)\n",
    "    mkdir(folder_AC)\n",
    "\n",
    "\n",
    "    S_Read_AHI_time = T.time()\n",
    "    # Download AHI\n",
    "    AHI_data = H8_Process('liwei','liwei00','vis','03',date)\n",
    "    if AHI_data == 'No data':\n",
    "        date_time_now = date_time_now + date_t\n",
    "        remove_original_file(folder_original)\n",
    "        continue\n",
    "    TOA_Ref.append(AHI_data[1389,1740])\n",
    "    E_Read_AHI_time = T.time()\n",
    "\n",
    "    # Solar angle\n",
    "    print('Start reading Angle data')\n",
    "    S_ANGLE_time = T.time()\n",
    "    AHI_SZA,AHI_SAA = AHI_angle(date).read_angle_data()\n",
    "    RAA = abs(AHI_SAA - AHI_VAA)\n",
    "    RAA[RAA>180]=360-RAA[RAA>180]\n",
    "    print('Angle data read finished')\n",
    "    E_ANGLE_time = T.time()\n",
    "\n",
    "    # Atmosphereic data\n",
    "    print('Start reading Atmospheric data')\n",
    "    S_ATMOS_time = T.time()\n",
    "\n",
    "    OZ,WV,AOT550 = CAMS_data(YYYY,MM,DD,HH,MIN,AHI_lat,AHI_lon).read_CAMS()\n",
    "    Aerosol_type = CAMS_data(YYYY,MM,DD,HH,MIN,AHI_lat,AHI_lon).read_CAMS_AERO()\n",
    "    print('Atmospheric data read finished')\n",
    "    E_ATMOS_time = T.time()\n",
    "\n",
    "\n",
    "    # SR calculate\n",
    "    print('Start Calculate SR')\n",
    "    S_SR_time = T.time()\n",
    "    RESULT = Parallel(n_jobs=20)(delayed(calculate_6s_band4)(i) for i in range(3000))\n",
    "    SR = np.full((3000,3000),np.nan)\n",
    "    for i in range(3000):\n",
    "        SR[i][Water_idx[i]] = RESULT[i]\n",
    "    E_SR_time = T.time()\n",
    "    print('Calculate SR finished')\n",
    "    \n",
    "    # Save file and remove download input data\n",
    "    print('Start Save SR file ')\n",
    "    S_SAVE_time = T.time()\n",
    "    SR = np.around(SR,4) * 10000\n",
    "    SR_Ref.append(SR[1389,1740])\n",
    "    SR = np.where(SR>=32767,32767,SR)\n",
    "    SR = np.where(SR<=-32768,-32768,SR)\n",
    "    SR=np.array(SR).reshape(3000,3000)\n",
    "    SR_file=open(folder_AC+'H08_{}{}{}_{}{}_B04_SR.dat'.format(YYYY,MM,DD,HH,MIN),'wb')\n",
    "    SR.astype('int16').tofile(SR_file)\n",
    "    SR_file.close()\n",
    "    print('Save SR file finished')\n",
    "    remove_original_file(folder_original)\n",
    "    print(\"delete file finish\")\n",
    "    E_SAVE_time = T.time()\n",
    "    end_time=T.time()\n",
    "    TIME=end_time-start_time\n",
    "    print('time: {:.1f} secs, {:.1f} mins,{:.1f} hours'.format(TIME,TIME/60,TIME/3600))\n",
    "\n",
    "\n",
    "    date_time_now = date_time_now + date_t"
   ]
  },
  {
   "cell_type": "code",
   "execution_count": 39,
   "metadata": {},
   "outputs": [
    {
     "data": {
      "text/plain": [
       "array([0.21823529, 0.17764706, 0.15705882, 0.14411765, 0.19235294,\n",
       "       0.19823529, 0.26411765, 0.20588235, 0.20352941, 0.27      ,\n",
       "       0.27058823, 0.3517647 , 0.36058823, 0.34764706, 0.34058823,\n",
       "       0.28647059, 0.21823529, 0.20882353, 0.20235294, 0.20588235,\n",
       "       0.20647059, 0.19647059, 0.19352941, 0.19705882, 0.18823529,\n",
       "       0.17823529, 0.16764706, 0.16470588, 0.15470588, 0.14823529])"
      ]
     },
     "execution_count": 39,
     "metadata": {},
     "output_type": "execute_result"
    }
   ],
   "source": [
    "np.array(TOA_Ref)"
   ]
  },
  {
   "cell_type": "code",
   "execution_count": 38,
   "metadata": {},
   "outputs": [
    {
     "data": {
      "text/plain": [
       "array([0.2218, 0.1714, 0.1464, 0.1311, 0.1881, 0.1943, 0.2694, 0.2018,\n",
       "       0.1985, 0.2726, 0.2724, 0.3613, 0.3698, 0.3548, 0.3463, 0.2868,\n",
       "       0.212 , 0.2018, 0.1949, 0.1991, 0.2001, 0.1895, 0.1866, 0.1909,\n",
       "       0.1816, 0.171 , 0.1597, 0.1566, 0.1457, 0.1386])"
      ]
     },
     "execution_count": 38,
     "metadata": {},
     "output_type": "execute_result"
    }
   ],
   "source": [
    "np.array(SR_Ref)/10000"
   ]
  },
  {
   "cell_type": "code",
   "execution_count": 40,
   "metadata": {},
   "outputs": [
    {
     "data": {
      "text/plain": [
       "0.4392523364485981"
      ]
     },
     "execution_count": 40,
     "metadata": {},
     "output_type": "execute_result"
    }
   ],
   "source": [
    "(0.154-0.06)/(0.154+0.06)"
   ]
  },
  {
   "cell_type": "code",
   "execution_count": null,
   "metadata": {},
   "outputs": [],
   "source": []
  }
 ],
 "metadata": {
  "kernelspec": {
   "display_name": "Python 3",
   "language": "python",
   "name": "python3"
  },
  "language_info": {
   "codemirror_mode": {
    "name": "ipython",
    "version": 3
   },
   "file_extension": ".py",
   "mimetype": "text/x-python",
   "name": "python",
   "nbconvert_exporter": "python",
   "pygments_lexer": "ipython3",
   "version": "3.9.13"
  }
 },
 "nbformat": 4,
 "nbformat_minor": 4
}
