{
 "cells": [
  {
   "cell_type": "code",
   "execution_count": 1,
   "id": "4a5aace1",
   "metadata": {},
   "outputs": [
    {
     "name": "stderr",
     "output_type": "stream",
     "text": [
      "/data01/people/liwei/anaconda3/envs/python36/lib/python3.6/site-packages/paramiko/transport.py:33: CryptographyDeprecationWarning: Python 3.6 is no longer supported by the Python core team. Therefore, support for it is deprecated in cryptography and will be removed in a future release.\n",
      "  from cryptography.hazmat.backends import default_backend\n"
     ]
    }
   ],
   "source": [
    "import numpy as np\n",
    "from Py6S import *\n",
    "import time as T\n",
    "from joblib import Parallel, delayed\n",
    "from scipy.interpolate import griddata,interpn,RegularGridInterpolator\n",
    "import math\n",
    "import os\n",
    "import datetime\n",
    "import cv2\n",
    "from ftplib import FTP\n",
    "import rioxarray\n",
    "import xarray as xr\n",
    "import multiprocessing\n",
    "import paramiko\n",
    "from scp import SCPClient\n",
    "import subprocess"
   ]
  },
  {
   "cell_type": "code",
   "execution_count": 2,
   "id": "b7217345",
   "metadata": {},
   "outputs": [],
   "source": [
    "sza = np.linspace(0,80,17)\n",
    "vza = np.linspace(0,80,17)\n",
    "water = np.linspace(0,7,8)\n",
    "ozone = np.linspace(0.2,0.4,5)\n",
    "AOT = np.array([0.01,0.05,0.1,0.15,0.2,0.3,0.4,0.6,0.8,1.0,1.5,2.0])\n",
    "raa = np.linspace(0,180,19)\n",
    "al = np.linspace(0,8,5)\n",
    "aero_type = np.array([0,1])\n",
    "\n",
    "LUT_PATH = '/data01/GEO/INPUT/LUT/'"
   ]
  },
  {
   "cell_type": "code",
   "execution_count": 3,
   "id": "fe6f15da",
   "metadata": {},
   "outputs": [],
   "source": [
    "OZONE = np.random.uniform(0.2,0.4,1000)\n",
    "WATER = np.random.uniform(0,7,1000)\n",
    "aot = np.random.uniform(0.01,2,1000)\n",
    "SZA = np.random.uniform(0,60,1000)\n",
    "VZA = np.random.uniform(0,60,1000)\n",
    "RAA = np.random.uniform(0,180,1000)\n",
    "\n",
    "AL = np.random.uniform(0,5,1000)\n",
    "AERO_TYPE = np.random.randint(2, size=1000)"
   ]
  },
  {
   "cell_type": "code",
   "execution_count": 4,
   "id": "b5404b81",
   "metadata": {},
   "outputs": [],
   "source": [
    "\n",
    "class LUT_interpolation:\n",
    "    def __init__(self,LUT_path):\n",
    "        self.LUT_path = LUT_path\n",
    "    \n",
    "    def LUT_interpolation_Linear(self):\n",
    "        \n",
    "        X1 = np.loadtxt(self.LUT_path + \"01_band5.csv\",delimiter=\",\").reshape(2,8,12,5,17,17,19)\n",
    "        X2 = np.loadtxt(self.LUT_path + \"02_band5.csv\",delimiter=\",\").reshape(2,8,12,5,17,17,19)\n",
    "        X3 = np.loadtxt(self.LUT_path + \"03_band5.csv\",delimiter=\",\").reshape(2,8,12,5,17,17,19)\n",
    "        # return X1, X2, X3\n",
    "        \n",
    "        fn1 = RegularGridInterpolator((aero_type,water,AOT,al,sza,vza,raa),X1,bounds_error=False,fill_value=np.nan)\n",
    "        fn2 = RegularGridInterpolator((aero_type,water,AOT,al,sza,vza,raa),X2,bounds_error=False,fill_value=np.nan)\n",
    "        fn3 = RegularGridInterpolator((aero_type,water,AOT,al,sza,vza,raa),X3,bounds_error=False,fill_value=np.nan)\n",
    "        return fn1,fn2,fn3\n",
    "    def LUT_interpolation_Nearest(self):\n",
    "        \n",
    "        X1 = np.loadtxt(self.LUT_path + \"01_band5.csv\",delimiter=\",\").reshape(2,8,12,5,17,17,19)\n",
    "        X2 = np.loadtxt(self.LUT_path + \"02_band5.csv\",delimiter=\",\").reshape(2,8,12,5,17,17,19)\n",
    "        X3 = np.loadtxt(self.LUT_path + \"03_band5.csv\",delimiter=\",\").reshape(2,8,12,5,17,17,19)\n",
    "        # return X1, X2, X3\n",
    "        \n",
    "        fn1 = RegularGridInterpolator((aero_type,water,AOT,al,sza,vza,raa),X1,bounds_error=False,fill_value=np.nan,method = 'nearest')\n",
    "        fn2 = RegularGridInterpolator((aero_type,water,AOT,al,sza,vza,raa),X2,bounds_error=False,fill_value=np.nan,method = 'nearest')\n",
    "        fn3 = RegularGridInterpolator((aero_type,water,AOT,al,sza,vza,raa),X3,bounds_error=False,fill_value=np.nan,method = 'nearest')\n",
    "        return fn1,fn2,fn3\n",
    "    \n",
    "#     def LUT_interpolation_Cubic(self):\n",
    "        \n",
    "#         X1 = np.loadtxt(self.LUT_path + \"01_band4.csv\",delimiter=\",\").reshape(2,8,12,5,17,17,19)\n",
    "#         X2 = np.loadtxt(self.LUT_path + \"02_band4.csv\",delimiter=\",\").reshape(2,8,12,5,17,17,19)\n",
    "#         X3 = np.loadtxt(self.LUT_path + \"03_band4.csv\",delimiter=\",\").reshape(2,8,12,5,17,17,19)\n",
    "#         # return X1, X2, X3\n",
    "        \n",
    "#         fn1 = RegularGridInterpolator((aero_type,water,AOT,al,sza,vza,raa),X1,bounds_error=False,fill_value=np.nan,method = \"cubic\")\n",
    "#         fn2 = RegularGridInterpolator((aero_type,water,AOT,al,sza,vza,raa),X2,bounds_error=False,fill_value=np.nan,method = \"cubic\")\n",
    "#         fn3 = RegularGridInterpolator((aero_type,water,AOT,al,sza,vza,raa),X3,bounds_error=False,fill_value=np.nan,method = \"cubic\")\n",
    "#         return fn1,fn2,fn3\n",
    "    \n",
    "    \n",
    "\n",
    "fn1_L,fn2_L,fn3_L = LUT_interpolation(LUT_PATH).LUT_interpolation_Linear()\n",
    "fn1_N,fn2_N,fn3_N = LUT_interpolation(LUT_PATH).LUT_interpolation_Nearest()\n",
    "# fn1_C,fn2_C,fn3_C = LUT_interpolation(LUT_PATH).LUT_interpolation_Cubic()\n",
    "\n"
   ]
  },
  {
   "cell_type": "code",
   "execution_count": 5,
   "id": "5a3ef182",
   "metadata": {},
   "outputs": [],
   "source": [
    "xa_LUT_N = []\n",
    "xb_LUT_N = []\n",
    "xc_LUT_N = []\n",
    "\n",
    "for i in range(1000):\n",
    "    xi = np.array([AERO_TYPE[i],WATER[i],aot[i],AL[i],SZA[i],VZA[i],RAA[i]])\n",
    "    xi = xi.T\n",
    "    xa_LUT_N.append(fn1_N(xi))\n",
    "    xb_LUT_N.append(fn2_N(xi))\n",
    "    xc_LUT_N.append(fn3_N(xi))\n",
    "    \n",
    "xa_LUT_N = np.array(xa_LUT_N)\n",
    "xb_LUT_N= np.array(xb_LUT_N)\n",
    "xc_LUT_N = np.array(xc_LUT_N)\n",
    "\n",
    "xa_LUT_L = []\n",
    "xb_LUT_L = []\n",
    "xc_LUT_L = []\n",
    "\n",
    "for i in range(1000):\n",
    "    xi = np.array([AERO_TYPE[i],WATER[i],aot[i],AL[i],SZA[i],VZA[i],RAA[i]])\n",
    "    xi = xi.T\n",
    "    xa_LUT_L.append(fn1_L(xi))\n",
    "    xb_LUT_L.append(fn2_L(xi))\n",
    "    xc_LUT_L.append(fn3_L(xi))\n",
    "    \n",
    "xa_LUT_L = np.array(xa_LUT_L)\n",
    "xb_LUT_L= np.array(xb_LUT_L)\n",
    "xc_LUT_L = np.array(xc_LUT_L)\n",
    "\n",
    "# xa_LUT_C = []\n",
    "# xb_LUT_C = []\n",
    "# xc_LUT_C = []\n",
    "\n",
    "# for i in range(1000):\n",
    "#     xi = np.array([AERO_TYPE[i],WATER[i],aot[i],AL[i],SZA[i],VZA[i],RAA[i]])\n",
    "#     xi = xi.T\n",
    "#     xa_LUT_C.append(fn1_L(xi))\n",
    "#     xb_LUT_C.append(fn2_L(xi))\n",
    "#     xc_LUT_C.append(fn3_L(xi))\n",
    "    \n",
    "# xa_LUT_C = np.array(xa_LUT_C)\n",
    "# xb_LUT_C= np.array(xb_LUT_C)\n",
    "# xc_LUT_C = np.array(xc_LUT_C)\n"
   ]
  },
  {
   "cell_type": "code",
   "execution_count": 6,
   "id": "90b3e96a",
   "metadata": {},
   "outputs": [],
   "source": [
    "\n",
    "def sixS(i):\n",
    "    AERO = AERO_TYPE + 1\n",
    "    s = SixS()\n",
    "    s.atmos_profile = AtmosProfile.UserWaterAndOzone(WATER[i],0.3)\n",
    "    s.aero_profile = AeroProfile.PredefinedType(AERO[i])\n",
    "    s.aot550 = aot[i]\n",
    "    s.wavelength = Wavelength(band[0,0],band[band.shape[0]-1,0],band[:,1])\n",
    "    s.altitudes.set_sensor_satellite_level()\n",
    "    s.altitudes.set_target_custom_altitude(AL[i])\n",
    "    s.geometry = Geometry.User()\n",
    "    s.geometry.solar_z = SZA[i]\n",
    "    s.geometry.solar_a = RAA[i]\n",
    "    s.geometry.view_z = VZA[i]\n",
    "    s.geometry.view_a = 0\n",
    "    \n",
    "    s.atmos_corr = AtmosCorr.AtmosCorrLambertianFromReflectance(0.2)\n",
    "    s.run()\n",
    "    \n",
    "    \n",
    "    f1 = 1/(s.outputs.transmittance_total_scattering.total*s.outputs.transmittance_global_gas.total)\n",
    "    return(f1, s.outputs.coef_xb, s.outputs.coef_xc)"
   ]
  },
  {
   "cell_type": "code",
   "execution_count": 7,
   "id": "15a9d2bc",
   "metadata": {},
   "outputs": [],
   "source": [
    "wl_band = \"/data01/people/liwei/AHI_AC/AHI_SRF/sixs_band5.csv\"\n",
    "band = np.loadtxt(wl_band,delimiter=\",\")\n",
    "AC_output = Parallel(n_jobs=-1)(delayed(sixS)(i) \\\n",
    "                                for i in range (1000))"
   ]
  },
  {
   "cell_type": "code",
   "execution_count": 8,
   "id": "a0b2c25d",
   "metadata": {},
   "outputs": [],
   "source": [
    "X=np.array(AC_output)\n",
    "X1=X[:,0]\n",
    "X2=X[:,1]\n",
    "X3=X[:,2]"
   ]
  },
  {
   "cell_type": "code",
   "execution_count": 9,
   "id": "33d87e42-4796-445c-8b1c-b6ad120a5944",
   "metadata": {},
   "outputs": [],
   "source": [
    "from sklearn.metrics import r2_score,mean_squared_error\n",
    "import matplotlib.pyplot as plt\n",
    "def parameter(a,b):\n",
    "    r2 = r2_score(a, b)\n",
    "    r2 = np.around(r2,4)\n",
    "    # k = np.polyfit(a, b,1)[0][0]\n",
    "    # b = np.polyfit(a, b,1)[1][0]\n",
    "    # k = np.around(k,4)\n",
    "    # b = np.around(b,4)\n",
    "    rmse = np.sqrt(mean_squared_error(a ,b))\n",
    "    rmse = round(rmse.astype('float64'),3)\n",
    "    return rmse,r2"
   ]
  },
  {
   "cell_type": "code",
   "execution_count": 10,
   "id": "244f0742-815a-4c8b-a210-5a5ea4f30694",
   "metadata": {},
   "outputs": [],
   "source": [
    "rmse1_N,r21_N = parameter(X1,xa_LUT_N)\n",
    "rmse1_L,r21_L = parameter(X1,xa_LUT_L)\n",
    "\n",
    "rmse2_N,r22_N = parameter(X2,xb_LUT_N)\n",
    "rmse2_L,r22_L = parameter(X2,xb_LUT_L)\n",
    "\n",
    "rmse3_N,r23_N = parameter(X3,xc_LUT_N)\n",
    "rmse3_L,r23_L = parameter(X3,xc_LUT_L)"
   ]
  },
  {
   "cell_type": "code",
   "execution_count": 11,
   "id": "924051d6",
   "metadata": {},
   "outputs": [],
   "source": [
    "def make_fig(i,axis_max,axis_min,_6S,_LUT_N,_LUT_L,factor,rmse_N,rmse_L,r2_N,r2_L):\n",
    "    \n",
    "    ax1 = axes[i]\n",
    " \n",
    "    x = np.arange(axis_min,axis_max+1)\n",
    "    y = 1 * x\n",
    "\n",
    "    ax1.tick_params(axis=\"y\",which='minor',length=5,direction='in',labelsize=8)\n",
    "    ax1.tick_params(axis=\"y\",which='major',length=10,direction='in',labelsize=8)\n",
    "\n",
    "    ax1.tick_params(axis=\"x\",which='minor',length=5,direction='in',labelsize=8)\n",
    "    ax1.tick_params(axis=\"x\",which='major',length=10,direction='in',labelsize=8)\n",
    "\n",
    "\n",
    "    ax1.spines['right'].set_color('none')\n",
    "    ax1.spines['top'].set_color('none')\n",
    "\n",
    "\n",
    "    ax1.scatter(_6S,_LUT_N,marker='o',s=25,c='k',label='Nearest')\n",
    "    ax1.scatter(_6S,_LUT_L,marker='o',s=25,c='r',label='Linear')\n",
    "\n",
    "\n",
    "    ax1.set_xticks(np.linspace(axis_min,axis_max,5))\n",
    "    ax1.set_yticks(np.linspace(axis_min,axis_max,5))\n",
    "    \n",
    "    ax1.set_xlabel(\"X{} by 6S\".format(factor),fontsize=10)\n",
    "    ax1.set_ylabel(\"X{} by LUT\".format(factor),fontsize=10)\n",
    "\n",
    "    ax1.plot(x,y,color='y',linewidth=2,linestyle='-',zorder=2)\n",
    "\n",
    "\n",
    "    text_x = axis_min + (axis_max - axis_min) * 0.05\n",
    "    text_y = axis_max - (axis_max - axis_min) * 0.15\n",
    "\n",
    "    ax1.text(text_x,text_y,s = 'NN RMSE = {}\\nNN R2 = {}\\n'.format(rmse_N,r2_N),fontsize=8)\n",
    "    ax1.text(text_x,text_y-(axis_max - axis_min) * 0.05,s = 'Linear RMSE = {}\\nLinear R2 = {}'.format(rmse_L,r2_L),fontsize=8,c='r')\n",
    "    \n",
    "    ax1.set_xlim(axis_min,axis_max)\n",
    "    ax1.set_ylim(axis_min,axis_max)"
   ]
  },
  {
   "cell_type": "code",
   "execution_count": 13,
   "id": "747c9ed2-445a-42bb-8e3e-0c5a3b54627e",
   "metadata": {},
   "outputs": [
    {
     "data": {
      "image/png": "[encoded data removed]",
      "text/plain": [
       "<Figure size 936x288 with 3 Axes>"
      ]
     },
     "metadata": {
      "needs_background": "light"
     },
     "output_type": "display_data"
    }
   ],
   "source": [
    "fig ,axes = plt.subplots(1,3, figsize=(13, 4))\n",
    "\n",
    "\n",
    "make_fig(0,3,1,X1,xa_LUT_N,xa_LUT_L,'a',rmse1_N,rmse1_L,r21_N,r21_L)\n",
    "make_fig(1,1.5,0,X2,xb_LUT_N,xb_LUT_L,'b',rmse2_N,rmse1_L,r22_N,r22_L)\n",
    "make_fig(2,0.5,0,X3,xc_LUT_N,xc_LUT_L,'c',rmse3_N,rmse3_L,r23_N,r23_L)\n",
    "plt.suptitle('Band5',fontsize=12,y=0.57,x=0.07,rotation=90)\n",
    "fig.savefig('LUT_B05.jpg',dpi = 1000,bbox_inches = 'tight')\n",
    "plt.show()"
   ]
  },
  {
   "cell_type": "code",
   "execution_count": null,
   "id": "a5182561",
   "metadata": {},
   "outputs": [],
   "source": []
  }
 ],
 "metadata": {
  "kernelspec": {
   "display_name": "Python 3",
   "language": "python",
   "name": "python3"
  },
  "language_info": {
   "codemirror_mode": {
    "name": "ipython",
    "version": 3
   },
   "file_extension": ".py",
   "mimetype": "text/x-python",
   "name": "python",
   "nbconvert_exporter": "python",
   "pygments_lexer": "ipython3",
   "version": "3.6.13"
  }
 },
 "nbformat": 4,
 "nbformat_minor": 5
}
