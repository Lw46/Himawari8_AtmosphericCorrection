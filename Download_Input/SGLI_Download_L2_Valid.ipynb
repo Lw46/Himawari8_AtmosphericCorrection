{
 "cells": [
  {
   "cell_type": "code",
   "execution_count": 1,
   "metadata": {},
   "outputs": [],
   "source": [
    "# Your ID : sign in https://gportal.jaxa.jp/gpr/?lang=ja\n",
    "\n",
    "# Product Name : You can check from https://gportal.jaxa.jp/gpr/assets/mng_upload/GCOM-C/GCOM-C_SHIKISAI_Data_Users_Handbook_jp.pdf\n",
    "#                page 4-20\n",
    "        \n",
    "# Version : '1','2','3'\n",
    "#             Different versions provide data for different periods\n",
    "#             check detail from https://shikisai.jaxa.jp/repro_stat_j.html\n",
    "                \n",
    "# Date : e.g. '20220322'\n",
    "\n",
    "# Temporal : daily：'01D' , 8-days ：'08D' , Monthly : '01M'\n",
    "\n",
    "# Obrit : Ascending：'A' , Descending：'D'\n",
    "    \n",
    "# Target_path : e.g. 'xxx/SGLI/'\n",
    "\n",
    "\n",
    "        "
   ]
  },
  {
   "cell_type": "code",
   "execution_count": 1,
   "metadata": {},
   "outputs": [],
   "source": [
    "from ftplib import FTP\n",
    "class SGLI_L2_Downloader:\n",
    "    \n",
    "    def __init__ (self, User_ID , ProductName, Ver, Date , Tile , Obrit ,ParaVer, Target_path):\n",
    "        self.User_ID = User_ID\n",
    "        self.ProductName = ProductName\n",
    "        self.Ver = Ver\n",
    "        self.Date = Date\n",
    "        self.Tile = Tile\n",
    "        self.Obrit = Obrit\n",
    "        self.ParaVer = ParaVer\n",
    "        self.Target_path = Target_path\n",
    "        \n",
    "        \n",
    "    def path (self):\n",
    "        return '/standard/GCOM-C/GCOM-C.SGLI/L2.LAND.{}/{}/{}/{}/{}'.format(self.ProductName, self.Ver, self.Date[0:4], self.Date[4:6], self.Date[6:8])\n",
    "\n",
    "    def filename (self):\n",
    "        return 'GC1SG1_{}{}01D_T{}_L2SG_{}Q_{}00{}.h5'.format(self.Date, self.Obrit, self.Tile, self.ProductName, self.Ver, self.ParaVer)\n",
    "    \n",
    "    def login (self):\n",
    "        ftp_addr = 'ftp.gportal.jaxa.jp'\n",
    "        f = FTP(ftp_addr)\n",
    "        f.login(self.User_ID,'anonymous')\n",
    "        \n",
    "        return f\n",
    "    \n",
    "    def download (self, f):\n",
    "        remote_filepath = self.path()\n",
    "        f.cwd(remote_filepath)\n",
    "        list=f.nlst()\n",
    "\n",
    "        bufsize=1024\n",
    "        data = open ('{}{}'.format(self.Target_path, self.filename()), 'wb')\n",
    "        filename = 'RETR ' + self.filename()\n",
    "        f.retrbinary(filename,data.write,bufsize)\n",
    "        \n",
    "    def logout (self, f):\n",
    "        f.quit()\n",
    "def reporjection_IMAGE(filename,Band,Target_path):\n",
    "    \n",
    "    #print(path)\n",
    "    os.system('/media/liwei/Data/GCOM-C_RSRF/SGLI_geo_map_linux.exe {} -d Image_data/{} -o {} -s 15'.format(filename,Band,Target_path[:-1]))             \n",
    "def reporjection_QA_05(filename,Band,Target_path):\n",
    "    \n",
    "    #print(path)\n",
    "    os.system('/media/liwei/Data/GCOM-C_RSRF/SGLI_geo_map_linux.exe {} -d Image_data/{} -o {} -s 15'.format(filename,Band,Target_path[:-1]))         \n",
    "\n",
    "def reporjection_QA_10(filename,Band,Target_path):\n",
    "    \n",
    "    #print(path)\n",
    "    os.system('/media/liwei/Data/GCOM-C_RSRF/SGLI_geo_map_linux.exe {} -d Image_data/{} -o {} -s 15'.format(filename,Band,Target_path[:-1]))         \n",
    "        \n",
    "def mkdir(path):\n",
    "    folder = os.path.exists(path) \n",
    "    if not folder:\n",
    "        os.makedirs(path)\n",
    "        \n",
    "    \n",
    "\n",
    "        \n",
    "def SGLI_2_AHI_IMAGE(filepath,output_path):\n",
    "    geotiff_da = xr.open_rasterio(filepath)\n",
    "    data = geotiff_da.interp(x=lon_y,y=lat_x,method=\"nearest\")\n",
    "    data = np.where(data != 65535, data ,np.nan)\n",
    "    data = data * 0.0001\n",
    "    data = data.reshape(row,col)\n",
    "    if b == 'Rs_PI02':\n",
    "        data = block_reduce(data, block_size=(2,2), func=np.nanmean)\n",
    "        \n",
    "    SR_file=open(output_path,'wb')\n",
    "    data.astype('f4').tofile(SR_file)\n",
    "    SR_file.close()\n",
    "    return data\n",
    "\n",
    "\n",
    "\n",
    "def SGLI_2_AHI_QA(filepath,output_path):\n",
    "    geotiff_da = xr.open_rasterio(filepath)\n",
    "    data = geotiff_da.interp(x=lon_y,y=lat_x,method=\"nearest\")\n",
    "    data = np.where(data != 1, data ,np.nan)\n",
    "    SR_file=open(output_path,'wb')\n",
    "    data.astype(int).tofile(SR_file)\n",
    "    SR_file.close()\n",
    "    return data\n",
    "\n",
    "\n"
   ]
  },
  {
   "cell_type": "code",
   "execution_count": 2,
   "metadata": {},
   "outputs": [],
   "source": [
    "\n",
    "def download_tile(date,save_tile,tile):\n",
    "    tile_file_name = []\n",
    "    g = SGLI_L2_Downloader(\n",
    "        'galiwei ' ,\n",
    "        'RSRF', \n",
    "        '3', \n",
    "         date , \n",
    "         tile, \n",
    "        'D' , \n",
    "        '1' ,\n",
    "         save_tile\n",
    "        )\n",
    "    f = g.login()\n",
    "    g.download(f)\n",
    "    fn = g.filename()\n",
    "    tile_file_name.append(fn) \n",
    "    g.logout(f)\n",
    "    \n",
    "    return tile_file_name"
   ]
  },
  {
   "cell_type": "code",
   "execution_count": 4,
   "metadata": {
    "scrolled": true
   },
   "outputs": [
    {
     "name": "stdout",
     "output_type": "stream",
     "text": [
      "Start 20200702\n",
      "Start Reporjection Rs_PI01\n",
      "========================== Input parameters ==========================\n",
      "Input file              = /media/liwei/Data/GCOM-C_RSRF_Valid/tile/GC1SG1_20200702D01D_T0425_L2SG_RSRFQ_3001.h5\n",
      "Projection coordinates  = Geodetic Latitude/Longitude\n",
      "Pixel spacing           = 15.000000 sec\n",
      "Resampling method       = BL\n",
      "Data selection          = Image_data/Rs_PI01\n",
      "Output directory        = /media/liwei/Data/GCOM-C_RSRF_Valid/reporjection\n",
      "======================================================================\n",
      "product_type = L2/tile\n",
      "tile = 0425\n",
      "pid = GC1SG1_20200702D01D_T0425_L2SG_RSRFQ_3001\n",
      "data rank = 2\n",
      "data size = 1200/1200\n",
      "data type = unsigned short\n",
      "INFO: type of attr is int -> cast to unsigned short! function (H5_common_read2.c) line = 272\n",
      "max_valid_DN = 65534\n",
      "hemi = 0\n",
      "x range =   92.6166666667,  124.4583333333\n",
      "y range =   40.0000000000,   50.0000000000\n",
      "outsize = 7642, 2400\n",
      "output = [/media/liwei/Data/GCOM-C_RSRF_Valid/reporjection/GC1SG1_20200702D01D_T0425_L2SG_RSRFQ_3001_Rs_PI01.tif]\n",
      "output = [/media/liwei/Data/GCOM-C_RSRF_Valid/reporjection/GC1SG1_20200702D01D_T0425_L2SG_RSRFQ_3001_Rs_PI01.xml]\n",
      "done...\n",
      "Reporjection Finished!\n",
      "Start Reporjection Rs_PI02\n"
     ]
    },
    {
     "name": "stderr",
     "output_type": "stream",
     "text": [
      "/tmp/ipykernel_2428263/3923884669.py:63: DeprecationWarning: open_rasterio is Deprecated in favor of rioxarray. For information about transitioning, see: https://corteva.github.io/rioxarray/stable/getting_started/getting_started.html\n",
      "  geotiff_da = xr.open_rasterio(filepath)\n"
     ]
    },
    {
     "name": "stdout",
     "output_type": "stream",
     "text": [
      "========================== Input parameters ==========================\n",
      "Input file              = /media/liwei/Data/GCOM-C_RSRF_Valid/tile/GC1SG1_20200702D01D_T0425_L2SG_RSRFQ_3001.h5\n",
      "Projection coordinates  = Geodetic Latitude/Longitude\n",
      "Pixel spacing           = 15.000000 sec\n",
      "Resampling method       = BL\n",
      "Data selection          = Image_data/Rs_PI02\n",
      "Output directory        = /media/liwei/Data/GCOM-C_RSRF_Valid/reporjection\n",
      "======================================================================\n",
      "product_type = L2/tile\n",
      "tile = 0425\n",
      "pid = GC1SG1_20200702D01D_T0425_L2SG_RSRFQ_3001\n",
      "data rank = 2\n",
      "data size = 1200/1200\n",
      "data type = unsigned short\n",
      "INFO: type of attr is int -> cast to unsigned short! function (H5_common_read2.c) line = 272\n",
      "max_valid_DN = 65534\n",
      "hemi = 0\n",
      "x range =   92.6166666667,  124.4583333333\n",
      "y range =   40.0000000000,   50.0000000000\n",
      "outsize = 7642, 2400\n",
      "output = [/media/liwei/Data/GCOM-C_RSRF_Valid/reporjection/GC1SG1_20200702D01D_T0425_L2SG_RSRFQ_3001_Rs_PI02.tif]\n",
      "output = [/media/liwei/Data/GCOM-C_RSRF_Valid/reporjection/GC1SG1_20200702D01D_T0425_L2SG_RSRFQ_3001_Rs_PI02.xml]\n",
      "done...\n",
      "Reporjection Finished!\n",
      "Start 20200713\n"
     ]
    },
    {
     "name": "stderr",
     "output_type": "stream",
     "text": [
      "/tmp/ipykernel_2428263/3923884669.py:63: DeprecationWarning: open_rasterio is Deprecated in favor of rioxarray. For information about transitioning, see: https://corteva.github.io/rioxarray/stable/getting_started/getting_started.html\n",
      "  geotiff_da = xr.open_rasterio(filepath)\n"
     ]
    },
    {
     "name": "stdout",
     "output_type": "stream",
     "text": [
      "Start Reporjection Rs_PI01\n",
      "========================== Input parameters ==========================\n",
      "Input file              = /media/liwei/Data/GCOM-C_RSRF_Valid/tile/GC1SG1_20200713D01D_T0425_L2SG_RSRFQ_3001.h5\n",
      "Projection coordinates  = Geodetic Latitude/Longitude\n",
      "Pixel spacing           = 15.000000 sec\n",
      "Resampling method       = BL\n",
      "Data selection          = Image_data/Rs_PI01\n",
      "Output directory        = /media/liwei/Data/GCOM-C_RSRF_Valid/reporjection\n",
      "======================================================================\n",
      "product_type = L2/tile\n",
      "tile = 0425\n",
      "pid = GC1SG1_20200713D01D_T0425_L2SG_RSRFQ_3001\n",
      "data rank = 2\n",
      "data size = 1200/1200\n",
      "data type = unsigned short\n",
      "INFO: type of attr is int -> cast to unsigned short! function (H5_common_read2.c) line = 272\n",
      "max_valid_DN = 65534\n",
      "hemi = 0\n",
      "x range =   91.3750000000,  124.4583333333\n",
      "y range =   40.0000000000,   50.0000000000\n",
      "outsize = 7940, 2400\n",
      "output = [/media/liwei/Data/GCOM-C_RSRF_Valid/reporjection/GC1SG1_20200713D01D_T0425_L2SG_RSRFQ_3001_Rs_PI01.tif]\n",
      "output = [/media/liwei/Data/GCOM-C_RSRF_Valid/reporjection/GC1SG1_20200713D01D_T0425_L2SG_RSRFQ_3001_Rs_PI01.xml]\n",
      "done...\n",
      "Reporjection Finished!\n",
      "Start Reporjection Rs_PI02\n"
     ]
    },
    {
     "name": "stderr",
     "output_type": "stream",
     "text": [
      "/tmp/ipykernel_2428263/3923884669.py:63: DeprecationWarning: open_rasterio is Deprecated in favor of rioxarray. For information about transitioning, see: https://corteva.github.io/rioxarray/stable/getting_started/getting_started.html\n",
      "  geotiff_da = xr.open_rasterio(filepath)\n"
     ]
    },
    {
     "name": "stdout",
     "output_type": "stream",
     "text": [
      "========================== Input parameters ==========================\n",
      "Input file              = /media/liwei/Data/GCOM-C_RSRF_Valid/tile/GC1SG1_20200713D01D_T0425_L2SG_RSRFQ_3001.h5\n",
      "Projection coordinates  = Geodetic Latitude/Longitude\n",
      "Pixel spacing           = 15.000000 sec\n",
      "Resampling method       = BL\n",
      "Data selection          = Image_data/Rs_PI02\n",
      "Output directory        = /media/liwei/Data/GCOM-C_RSRF_Valid/reporjection\n",
      "======================================================================\n",
      "product_type = L2/tile\n",
      "tile = 0425\n",
      "pid = GC1SG1_20200713D01D_T0425_L2SG_RSRFQ_3001\n",
      "data rank = 2\n",
      "data size = 1200/1200\n",
      "data type = unsigned short\n",
      "INFO: type of attr is int -> cast to unsigned short! function (H5_common_read2.c) line = 272\n",
      "max_valid_DN = 65534\n",
      "hemi = 0\n",
      "x range =   91.3750000000,  124.4583333333\n",
      "y range =   40.0000000000,   50.0000000000\n",
      "outsize = 7940, 2400\n",
      "output = [/media/liwei/Data/GCOM-C_RSRF_Valid/reporjection/GC1SG1_20200713D01D_T0425_L2SG_RSRFQ_3001_Rs_PI02.tif]\n",
      "output = [/media/liwei/Data/GCOM-C_RSRF_Valid/reporjection/GC1SG1_20200713D01D_T0425_L2SG_RSRFQ_3001_Rs_PI02.xml]\n",
      "done...\n",
      "Reporjection Finished!\n",
      "Start 20200717\n"
     ]
    },
    {
     "name": "stderr",
     "output_type": "stream",
     "text": [
      "/tmp/ipykernel_2428263/3923884669.py:63: DeprecationWarning: open_rasterio is Deprecated in favor of rioxarray. For information about transitioning, see: https://corteva.github.io/rioxarray/stable/getting_started/getting_started.html\n",
      "  geotiff_da = xr.open_rasterio(filepath)\n",
      "/home/liwei/.local/lib/python3.8/site-packages/skimage/measure/block.py:89: RuntimeWarning: Mean of empty slice\n",
      "  return func(blocked, axis=tuple(range(image.ndim, blocked.ndim)),\n"
     ]
    },
    {
     "name": "stdout",
     "output_type": "stream",
     "text": [
      "Start Reporjection Rs_PI01\n",
      "========================== Input parameters ==========================\n",
      "Input file              = /media/liwei/Data/GCOM-C_RSRF_Valid/tile/GC1SG1_20200717D01D_T0425_L2SG_RSRFQ_3001.h5\n",
      "Projection coordinates  = Geodetic Latitude/Longitude\n",
      "Pixel spacing           = 15.000000 sec\n",
      "Resampling method       = BL\n",
      "Data selection          = Image_data/Rs_PI01\n",
      "Output directory        = /media/liwei/Data/GCOM-C_RSRF_Valid/reporjection\n",
      "======================================================================\n",
      "product_type = L2/tile\n",
      "tile = 0425\n",
      "pid = GC1SG1_20200717D01D_T0425_L2SG_RSRFQ_3001\n",
      "data rank = 2\n",
      "data size = 1200/1200\n",
      "data type = unsigned short\n",
      "INFO: type of attr is int -> cast to unsigned short! function (H5_common_read2.c) line = 272\n",
      "max_valid_DN = 65534\n",
      "hemi = 0\n",
      "x range =   91.9083333333,  124.4583333333\n",
      "y range =   40.0000000000,   50.0000000000\n",
      "outsize = 7812, 2400\n",
      "output = [/media/liwei/Data/GCOM-C_RSRF_Valid/reporjection/GC1SG1_20200717D01D_T0425_L2SG_RSRFQ_3001_Rs_PI01.tif]\n",
      "output = [/media/liwei/Data/GCOM-C_RSRF_Valid/reporjection/GC1SG1_20200717D01D_T0425_L2SG_RSRFQ_3001_Rs_PI01.xml]\n",
      "done...\n",
      "Reporjection Finished!\n",
      "Start Reporjection Rs_PI02\n"
     ]
    },
    {
     "name": "stderr",
     "output_type": "stream",
     "text": [
      "/tmp/ipykernel_2428263/3923884669.py:63: DeprecationWarning: open_rasterio is Deprecated in favor of rioxarray. For information about transitioning, see: https://corteva.github.io/rioxarray/stable/getting_started/getting_started.html\n",
      "  geotiff_da = xr.open_rasterio(filepath)\n"
     ]
    },
    {
     "name": "stdout",
     "output_type": "stream",
     "text": [
      "========================== Input parameters ==========================\n",
      "Input file              = /media/liwei/Data/GCOM-C_RSRF_Valid/tile/GC1SG1_20200717D01D_T0425_L2SG_RSRFQ_3001.h5\n",
      "Projection coordinates  = Geodetic Latitude/Longitude\n",
      "Pixel spacing           = 15.000000 sec\n",
      "Resampling method       = BL\n",
      "Data selection          = Image_data/Rs_PI02\n",
      "Output directory        = /media/liwei/Data/GCOM-C_RSRF_Valid/reporjection\n",
      "======================================================================\n",
      "product_type = L2/tile\n",
      "tile = 0425\n",
      "pid = GC1SG1_20200717D01D_T0425_L2SG_RSRFQ_3001\n",
      "data rank = 2\n",
      "data size = 1200/1200\n",
      "data type = unsigned short\n",
      "INFO: type of attr is int -> cast to unsigned short! function (H5_common_read2.c) line = 272\n",
      "max_valid_DN = 65534\n",
      "hemi = 0\n",
      "x range =   91.9083333333,  124.4583333333\n",
      "y range =   40.0000000000,   50.0000000000\n",
      "outsize = 7812, 2400\n",
      "output = [/media/liwei/Data/GCOM-C_RSRF_Valid/reporjection/GC1SG1_20200717D01D_T0425_L2SG_RSRFQ_3001_Rs_PI02.tif]\n",
      "output = [/media/liwei/Data/GCOM-C_RSRF_Valid/reporjection/GC1SG1_20200717D01D_T0425_L2SG_RSRFQ_3001_Rs_PI02.xml]\n",
      "done...\n",
      "Reporjection Finished!\n",
      "Start 20200721\n"
     ]
    },
    {
     "name": "stderr",
     "output_type": "stream",
     "text": [
      "/tmp/ipykernel_2428263/3923884669.py:63: DeprecationWarning: open_rasterio is Deprecated in favor of rioxarray. For information about transitioning, see: https://corteva.github.io/rioxarray/stable/getting_started/getting_started.html\n",
      "  geotiff_da = xr.open_rasterio(filepath)\n"
     ]
    },
    {
     "name": "stdout",
     "output_type": "stream",
     "text": [
      "Start Reporjection Rs_PI01\n",
      "========================== Input parameters ==========================\n",
      "Input file              = /media/liwei/Data/GCOM-C_RSRF_Valid/tile/GC1SG1_20200721D01D_T0425_L2SG_RSRFQ_3001.h5\n",
      "Projection coordinates  = Geodetic Latitude/Longitude\n",
      "Pixel spacing           = 15.000000 sec\n",
      "Resampling method       = BL\n",
      "Data selection          = Image_data/Rs_PI01\n",
      "Output directory        = /media/liwei/Data/GCOM-C_RSRF_Valid/reporjection\n",
      "======================================================================\n",
      "product_type = L2/tile\n",
      "tile = 0425\n",
      "pid = GC1SG1_20200721D01D_T0425_L2SG_RSRFQ_3001\n",
      "data rank = 2\n",
      "data size = 1200/1200\n",
      "data type = unsigned short\n",
      "INFO: type of attr is int -> cast to unsigned short! function (H5_common_read2.c) line = 272\n",
      "max_valid_DN = 65534\n",
      "hemi = 0\n",
      "x range =   93.4000000000,  124.4583333333\n",
      "y range =   40.0000000000,   50.0000000000\n",
      "outsize = 7454, 2400\n",
      "output = [/media/liwei/Data/GCOM-C_RSRF_Valid/reporjection/GC1SG1_20200721D01D_T0425_L2SG_RSRFQ_3001_Rs_PI01.tif]\n",
      "output = [/media/liwei/Data/GCOM-C_RSRF_Valid/reporjection/GC1SG1_20200721D01D_T0425_L2SG_RSRFQ_3001_Rs_PI01.xml]\n",
      "done...\n",
      "Reporjection Finished!\n",
      "Start Reporjection Rs_PI02\n"
     ]
    },
    {
     "name": "stderr",
     "output_type": "stream",
     "text": [
      "/tmp/ipykernel_2428263/3923884669.py:63: DeprecationWarning: open_rasterio is Deprecated in favor of rioxarray. For information about transitioning, see: https://corteva.github.io/rioxarray/stable/getting_started/getting_started.html\n",
      "  geotiff_da = xr.open_rasterio(filepath)\n"
     ]
    },
    {
     "name": "stdout",
     "output_type": "stream",
     "text": [
      "========================== Input parameters ==========================\n",
      "Input file              = /media/liwei/Data/GCOM-C_RSRF_Valid/tile/GC1SG1_20200721D01D_T0425_L2SG_RSRFQ_3001.h5\n",
      "Projection coordinates  = Geodetic Latitude/Longitude\n",
      "Pixel spacing           = 15.000000 sec\n",
      "Resampling method       = BL\n",
      "Data selection          = Image_data/Rs_PI02\n",
      "Output directory        = /media/liwei/Data/GCOM-C_RSRF_Valid/reporjection\n",
      "======================================================================\n",
      "product_type = L2/tile\n",
      "tile = 0425\n",
      "pid = GC1SG1_20200721D01D_T0425_L2SG_RSRFQ_3001\n",
      "data rank = 2\n",
      "data size = 1200/1200\n",
      "data type = unsigned short\n",
      "INFO: type of attr is int -> cast to unsigned short! function (H5_common_read2.c) line = 272\n",
      "max_valid_DN = 65534\n",
      "hemi = 0\n",
      "x range =   93.4000000000,  124.4583333333\n",
      "y range =   40.0000000000,   50.0000000000\n",
      "outsize = 7454, 2400\n",
      "output = [/media/liwei/Data/GCOM-C_RSRF_Valid/reporjection/GC1SG1_20200721D01D_T0425_L2SG_RSRFQ_3001_Rs_PI02.tif]\n",
      "output = [/media/liwei/Data/GCOM-C_RSRF_Valid/reporjection/GC1SG1_20200721D01D_T0425_L2SG_RSRFQ_3001_Rs_PI02.xml]\n",
      "done...\n",
      "Reporjection Finished!\n",
      "Start 20200801\n"
     ]
    },
    {
     "name": "stderr",
     "output_type": "stream",
     "text": [
      "/tmp/ipykernel_2428263/3923884669.py:63: DeprecationWarning: open_rasterio is Deprecated in favor of rioxarray. For information about transitioning, see: https://corteva.github.io/rioxarray/stable/getting_started/getting_started.html\n",
      "  geotiff_da = xr.open_rasterio(filepath)\n"
     ]
    },
    {
     "name": "stdout",
     "output_type": "stream",
     "text": [
      "Start Reporjection Rs_PI01\n",
      "========================== Input parameters ==========================\n",
      "Input file              = /media/liwei/Data/GCOM-C_RSRF_Valid/tile/GC1SG1_20200801D01D_T0425_L2SG_RSRFQ_3001.h5\n",
      "Projection coordinates  = Geodetic Latitude/Longitude\n",
      "Pixel spacing           = 15.000000 sec\n",
      "Resampling method       = BL\n",
      "Data selection          = Image_data/Rs_PI01\n",
      "Output directory        = /media/liwei/Data/GCOM-C_RSRF_Valid/reporjection\n",
      "======================================================================\n",
      "product_type = L2/tile\n",
      "tile = 0425\n",
      "pid = GC1SG1_20200801D01D_T0425_L2SG_RSRFQ_3001\n",
      "data rank = 2\n",
      "data size = 1200/1200\n",
      "data type = unsigned short\n",
      "INFO: type of attr is int -> cast to unsigned short! function (H5_common_read2.c) line = 272\n",
      "max_valid_DN = 65534\n",
      "hemi = 0\n",
      "x range =   91.3750000000,  124.4583333333\n",
      "y range =   40.0000000000,   50.0000000000\n",
      "outsize = 7940, 2400\n",
      "output = [/media/liwei/Data/GCOM-C_RSRF_Valid/reporjection/GC1SG1_20200801D01D_T0425_L2SG_RSRFQ_3001_Rs_PI01.tif]\n",
      "output = [/media/liwei/Data/GCOM-C_RSRF_Valid/reporjection/GC1SG1_20200801D01D_T0425_L2SG_RSRFQ_3001_Rs_PI01.xml]\n",
      "done...\n",
      "Reporjection Finished!\n",
      "Start Reporjection Rs_PI02\n"
     ]
    },
    {
     "name": "stderr",
     "output_type": "stream",
     "text": [
      "/tmp/ipykernel_2428263/3923884669.py:63: DeprecationWarning: open_rasterio is Deprecated in favor of rioxarray. For information about transitioning, see: https://corteva.github.io/rioxarray/stable/getting_started/getting_started.html\n",
      "  geotiff_da = xr.open_rasterio(filepath)\n"
     ]
    },
    {
     "name": "stdout",
     "output_type": "stream",
     "text": [
      "========================== Input parameters ==========================\n",
      "Input file              = /media/liwei/Data/GCOM-C_RSRF_Valid/tile/GC1SG1_20200801D01D_T0425_L2SG_RSRFQ_3001.h5\n",
      "Projection coordinates  = Geodetic Latitude/Longitude\n",
      "Pixel spacing           = 15.000000 sec\n",
      "Resampling method       = BL\n",
      "Data selection          = Image_data/Rs_PI02\n",
      "Output directory        = /media/liwei/Data/GCOM-C_RSRF_Valid/reporjection\n",
      "======================================================================\n",
      "product_type = L2/tile\n",
      "tile = 0425\n",
      "pid = GC1SG1_20200801D01D_T0425_L2SG_RSRFQ_3001\n",
      "data rank = 2\n",
      "data size = 1200/1200\n",
      "data type = unsigned short\n",
      "INFO: type of attr is int -> cast to unsigned short! function (H5_common_read2.c) line = 272\n",
      "max_valid_DN = 65534\n",
      "hemi = 0\n",
      "x range =   91.3750000000,  124.4583333333\n",
      "y range =   40.0000000000,   50.0000000000\n",
      "outsize = 7940, 2400\n",
      "output = [/media/liwei/Data/GCOM-C_RSRF_Valid/reporjection/GC1SG1_20200801D01D_T0425_L2SG_RSRFQ_3001_Rs_PI02.tif]\n",
      "output = [/media/liwei/Data/GCOM-C_RSRF_Valid/reporjection/GC1SG1_20200801D01D_T0425_L2SG_RSRFQ_3001_Rs_PI02.xml]\n",
      "done...\n",
      "Reporjection Finished!\n",
      "Start 20200805\n"
     ]
    },
    {
     "name": "stderr",
     "output_type": "stream",
     "text": [
      "/tmp/ipykernel_2428263/3923884669.py:63: DeprecationWarning: open_rasterio is Deprecated in favor of rioxarray. For information about transitioning, see: https://corteva.github.io/rioxarray/stable/getting_started/getting_started.html\n",
      "  geotiff_da = xr.open_rasterio(filepath)\n"
     ]
    },
    {
     "name": "stdout",
     "output_type": "stream",
     "text": [
      "Start Reporjection Rs_PI01\n",
      "========================== Input parameters ==========================\n",
      "Input file              = /media/liwei/Data/GCOM-C_RSRF_Valid/tile/GC1SG1_20200805D01D_T0425_L2SG_RSRFQ_3001.h5\n",
      "Projection coordinates  = Geodetic Latitude/Longitude\n",
      "Pixel spacing           = 15.000000 sec\n",
      "Resampling method       = BL\n",
      "Data selection          = Image_data/Rs_PI01\n",
      "Output directory        = /media/liwei/Data/GCOM-C_RSRF_Valid/reporjection\n",
      "======================================================================\n",
      "product_type = L2/tile\n",
      "tile = 0425\n",
      "pid = GC1SG1_20200805D01D_T0425_L2SG_RSRFQ_3001\n",
      "data rank = 2\n",
      "data size = 1200/1200\n",
      "data type = unsigned short\n",
      "INFO: type of attr is int -> cast to unsigned short! function (H5_common_read2.c) line = 272\n",
      "max_valid_DN = 65534\n",
      "hemi = 0\n",
      "x range =   92.6916666667,  124.4583333333\n",
      "y range =   40.0000000000,   50.0000000000\n",
      "outsize = 7624, 2400\n",
      "output = [/media/liwei/Data/GCOM-C_RSRF_Valid/reporjection/GC1SG1_20200805D01D_T0425_L2SG_RSRFQ_3001_Rs_PI01.tif]\n",
      "output = [/media/liwei/Data/GCOM-C_RSRF_Valid/reporjection/GC1SG1_20200805D01D_T0425_L2SG_RSRFQ_3001_Rs_PI01.xml]\n",
      "done...\n",
      "Reporjection Finished!\n",
      "Start Reporjection Rs_PI02\n"
     ]
    },
    {
     "name": "stderr",
     "output_type": "stream",
     "text": [
      "/tmp/ipykernel_2428263/3923884669.py:63: DeprecationWarning: open_rasterio is Deprecated in favor of rioxarray. For information about transitioning, see: https://corteva.github.io/rioxarray/stable/getting_started/getting_started.html\n",
      "  geotiff_da = xr.open_rasterio(filepath)\n"
     ]
    },
    {
     "name": "stdout",
     "output_type": "stream",
     "text": [
      "========================== Input parameters ==========================\n",
      "Input file              = /media/liwei/Data/GCOM-C_RSRF_Valid/tile/GC1SG1_20200805D01D_T0425_L2SG_RSRFQ_3001.h5\n",
      "Projection coordinates  = Geodetic Latitude/Longitude\n",
      "Pixel spacing           = 15.000000 sec\n",
      "Resampling method       = BL\n",
      "Data selection          = Image_data/Rs_PI02\n",
      "Output directory        = /media/liwei/Data/GCOM-C_RSRF_Valid/reporjection\n",
      "======================================================================\n",
      "product_type = L2/tile\n",
      "tile = 0425\n",
      "pid = GC1SG1_20200805D01D_T0425_L2SG_RSRFQ_3001\n",
      "data rank = 2\n",
      "data size = 1200/1200\n",
      "data type = unsigned short\n",
      "INFO: type of attr is int -> cast to unsigned short! function (H5_common_read2.c) line = 272\n",
      "max_valid_DN = 65534\n",
      "hemi = 0\n",
      "x range =   92.6916666667,  124.4583333333\n",
      "y range =   40.0000000000,   50.0000000000\n",
      "outsize = 7624, 2400\n",
      "output = [/media/liwei/Data/GCOM-C_RSRF_Valid/reporjection/GC1SG1_20200805D01D_T0425_L2SG_RSRFQ_3001_Rs_PI02.tif]\n",
      "output = [/media/liwei/Data/GCOM-C_RSRF_Valid/reporjection/GC1SG1_20200805D01D_T0425_L2SG_RSRFQ_3001_Rs_PI02.xml]\n",
      "done...\n",
      "Reporjection Finished!\n",
      "Start 20200816\n"
     ]
    },
    {
     "name": "stderr",
     "output_type": "stream",
     "text": [
      "/tmp/ipykernel_2428263/3923884669.py:63: DeprecationWarning: open_rasterio is Deprecated in favor of rioxarray. For information about transitioning, see: https://corteva.github.io/rioxarray/stable/getting_started/getting_started.html\n",
      "  geotiff_da = xr.open_rasterio(filepath)\n"
     ]
    },
    {
     "name": "stdout",
     "output_type": "stream",
     "text": [
      "Start Reporjection Rs_PI01\n",
      "========================== Input parameters ==========================\n",
      "Input file              = /media/liwei/Data/GCOM-C_RSRF_Valid/tile/GC1SG1_20200816D01D_T0425_L2SG_RSRFQ_3001.h5\n",
      "Projection coordinates  = Geodetic Latitude/Longitude\n",
      "Pixel spacing           = 15.000000 sec\n",
      "Resampling method       = BL\n",
      "Data selection          = Image_data/Rs_PI01\n",
      "Output directory        = /media/liwei/Data/GCOM-C_RSRF_Valid/reporjection\n",
      "======================================================================\n",
      "product_type = L2/tile\n",
      "tile = 0425\n",
      "pid = GC1SG1_20200816D01D_T0425_L2SG_RSRFQ_3001\n",
      "data rank = 2\n",
      "data size = 1200/1200\n",
      "data type = unsigned short\n",
      "INFO: type of attr is int -> cast to unsigned short! function (H5_common_read2.c) line = 272\n",
      "max_valid_DN = 65534\n",
      "hemi = 0\n",
      "x range =   91.3750000000,  124.4583333333\n",
      "y range =   40.0000000000,   50.0000000000\n",
      "outsize = 7940, 2400\n",
      "output = [/media/liwei/Data/GCOM-C_RSRF_Valid/reporjection/GC1SG1_20200816D01D_T0425_L2SG_RSRFQ_3001_Rs_PI01.tif]\n",
      "output = [/media/liwei/Data/GCOM-C_RSRF_Valid/reporjection/GC1SG1_20200816D01D_T0425_L2SG_RSRFQ_3001_Rs_PI01.xml]\n",
      "done...\n",
      "Reporjection Finished!\n",
      "Start Reporjection Rs_PI02\n"
     ]
    },
    {
     "name": "stderr",
     "output_type": "stream",
     "text": [
      "/tmp/ipykernel_2428263/3923884669.py:63: DeprecationWarning: open_rasterio is Deprecated in favor of rioxarray. For information about transitioning, see: https://corteva.github.io/rioxarray/stable/getting_started/getting_started.html\n",
      "  geotiff_da = xr.open_rasterio(filepath)\n"
     ]
    },
    {
     "name": "stdout",
     "output_type": "stream",
     "text": [
      "========================== Input parameters ==========================\n",
      "Input file              = /media/liwei/Data/GCOM-C_RSRF_Valid/tile/GC1SG1_20200816D01D_T0425_L2SG_RSRFQ_3001.h5\n",
      "Projection coordinates  = Geodetic Latitude/Longitude\n",
      "Pixel spacing           = 15.000000 sec\n",
      "Resampling method       = BL\n",
      "Data selection          = Image_data/Rs_PI02\n",
      "Output directory        = /media/liwei/Data/GCOM-C_RSRF_Valid/reporjection\n",
      "======================================================================\n",
      "product_type = L2/tile\n",
      "tile = 0425\n",
      "pid = GC1SG1_20200816D01D_T0425_L2SG_RSRFQ_3001\n",
      "data rank = 2\n",
      "data size = 1200/1200\n",
      "data type = unsigned short\n",
      "INFO: type of attr is int -> cast to unsigned short! function (H5_common_read2.c) line = 272\n",
      "max_valid_DN = 65534\n",
      "hemi = 0\n",
      "x range =   91.3750000000,  124.4583333333\n",
      "y range =   40.0000000000,   50.0000000000\n",
      "outsize = 7940, 2400\n",
      "output = [/media/liwei/Data/GCOM-C_RSRF_Valid/reporjection/GC1SG1_20200816D01D_T0425_L2SG_RSRFQ_3001_Rs_PI02.tif]\n",
      "output = [/media/liwei/Data/GCOM-C_RSRF_Valid/reporjection/GC1SG1_20200816D01D_T0425_L2SG_RSRFQ_3001_Rs_PI02.xml]\n",
      "done...\n",
      "Reporjection Finished!\n",
      "Start 20200820\n"
     ]
    },
    {
     "name": "stderr",
     "output_type": "stream",
     "text": [
      "/tmp/ipykernel_2428263/3923884669.py:63: DeprecationWarning: open_rasterio is Deprecated in favor of rioxarray. For information about transitioning, see: https://corteva.github.io/rioxarray/stable/getting_started/getting_started.html\n",
      "  geotiff_da = xr.open_rasterio(filepath)\n"
     ]
    },
    {
     "name": "stdout",
     "output_type": "stream",
     "text": [
      "Start Reporjection Rs_PI01\n",
      "========================== Input parameters ==========================\n",
      "Input file              = /media/liwei/Data/GCOM-C_RSRF_Valid/tile/GC1SG1_20200820D01D_T0425_L2SG_RSRFQ_3001.h5\n",
      "Projection coordinates  = Geodetic Latitude/Longitude\n",
      "Pixel spacing           = 15.000000 sec\n",
      "Resampling method       = BL\n",
      "Data selection          = Image_data/Rs_PI01\n",
      "Output directory        = /media/liwei/Data/GCOM-C_RSRF_Valid/reporjection\n",
      "======================================================================\n",
      "product_type = L2/tile\n",
      "tile = 0425\n",
      "pid = GC1SG1_20200820D01D_T0425_L2SG_RSRFQ_3001\n",
      "data rank = 2\n",
      "data size = 1200/1200\n",
      "data type = unsigned short\n",
      "INFO: type of attr is int -> cast to unsigned short! function (H5_common_read2.c) line = 272\n",
      "max_valid_DN = 65534\n",
      "hemi = 0\n",
      "x range =   91.9875000000,  124.4583333333\n",
      "y range =   40.0000000000,   50.0000000000\n",
      "outsize = 7793, 2400\n",
      "output = [/media/liwei/Data/GCOM-C_RSRF_Valid/reporjection/GC1SG1_20200820D01D_T0425_L2SG_RSRFQ_3001_Rs_PI01.tif]\n",
      "output = [/media/liwei/Data/GCOM-C_RSRF_Valid/reporjection/GC1SG1_20200820D01D_T0425_L2SG_RSRFQ_3001_Rs_PI01.xml]\n",
      "done...\n",
      "Reporjection Finished!\n",
      "Start Reporjection Rs_PI02\n"
     ]
    },
    {
     "name": "stderr",
     "output_type": "stream",
     "text": [
      "/tmp/ipykernel_2428263/3923884669.py:63: DeprecationWarning: open_rasterio is Deprecated in favor of rioxarray. For information about transitioning, see: https://corteva.github.io/rioxarray/stable/getting_started/getting_started.html\n",
      "  geotiff_da = xr.open_rasterio(filepath)\n"
     ]
    },
    {
     "name": "stdout",
     "output_type": "stream",
     "text": [
      "========================== Input parameters ==========================\n",
      "Input file              = /media/liwei/Data/GCOM-C_RSRF_Valid/tile/GC1SG1_20200820D01D_T0425_L2SG_RSRFQ_3001.h5\n",
      "Projection coordinates  = Geodetic Latitude/Longitude\n",
      "Pixel spacing           = 15.000000 sec\n",
      "Resampling method       = BL\n",
      "Data selection          = Image_data/Rs_PI02\n",
      "Output directory        = /media/liwei/Data/GCOM-C_RSRF_Valid/reporjection\n",
      "======================================================================\n",
      "product_type = L2/tile\n",
      "tile = 0425\n",
      "pid = GC1SG1_20200820D01D_T0425_L2SG_RSRFQ_3001\n",
      "data rank = 2\n",
      "data size = 1200/1200\n",
      "data type = unsigned short\n",
      "INFO: type of attr is int -> cast to unsigned short! function (H5_common_read2.c) line = 272\n",
      "max_valid_DN = 65534\n",
      "hemi = 0\n",
      "x range =   91.9875000000,  124.4583333333\n",
      "y range =   40.0000000000,   50.0000000000\n",
      "outsize = 7793, 2400\n",
      "output = [/media/liwei/Data/GCOM-C_RSRF_Valid/reporjection/GC1SG1_20200820D01D_T0425_L2SG_RSRFQ_3001_Rs_PI02.tif]\n",
      "output = [/media/liwei/Data/GCOM-C_RSRF_Valid/reporjection/GC1SG1_20200820D01D_T0425_L2SG_RSRFQ_3001_Rs_PI02.xml]\n",
      "done...\n",
      "Reporjection Finished!\n",
      "Start 20200824\n"
     ]
    },
    {
     "name": "stderr",
     "output_type": "stream",
     "text": [
      "/tmp/ipykernel_2428263/3923884669.py:63: DeprecationWarning: open_rasterio is Deprecated in favor of rioxarray. For information about transitioning, see: https://corteva.github.io/rioxarray/stable/getting_started/getting_started.html\n",
      "  geotiff_da = xr.open_rasterio(filepath)\n"
     ]
    },
    {
     "name": "stdout",
     "output_type": "stream",
     "text": [
      "Start Reporjection Rs_PI01\n",
      "========================== Input parameters ==========================\n",
      "Input file              = /media/liwei/Data/GCOM-C_RSRF_Valid/tile/GC1SG1_20200824D01D_T0425_L2SG_RSRFQ_3001.h5\n",
      "Projection coordinates  = Geodetic Latitude/Longitude\n",
      "Pixel spacing           = 15.000000 sec\n",
      "Resampling method       = BL\n",
      "Data selection          = Image_data/Rs_PI01\n",
      "Output directory        = /media/liwei/Data/GCOM-C_RSRF_Valid/reporjection\n",
      "======================================================================\n",
      "product_type = L2/tile\n",
      "tile = 0425\n",
      "pid = GC1SG1_20200824D01D_T0425_L2SG_RSRFQ_3001\n",
      "data rank = 2\n",
      "data size = 1200/1200\n",
      "data type = unsigned short\n",
      "INFO: type of attr is int -> cast to unsigned short! function (H5_common_read2.c) line = 272\n",
      "max_valid_DN = 65534\n",
      "hemi = 0\n",
      "x range =   93.4750000000,  124.4583333333\n",
      "y range =   40.0000000000,   50.0000000000\n",
      "outsize = 7436, 2400\n",
      "output = [/media/liwei/Data/GCOM-C_RSRF_Valid/reporjection/GC1SG1_20200824D01D_T0425_L2SG_RSRFQ_3001_Rs_PI01.tif]\n",
      "output = [/media/liwei/Data/GCOM-C_RSRF_Valid/reporjection/GC1SG1_20200824D01D_T0425_L2SG_RSRFQ_3001_Rs_PI01.xml]\n",
      "done...\n",
      "Reporjection Finished!\n",
      "Start Reporjection Rs_PI02\n"
     ]
    },
    {
     "name": "stderr",
     "output_type": "stream",
     "text": [
      "/tmp/ipykernel_2428263/3923884669.py:63: DeprecationWarning: open_rasterio is Deprecated in favor of rioxarray. For information about transitioning, see: https://corteva.github.io/rioxarray/stable/getting_started/getting_started.html\n",
      "  geotiff_da = xr.open_rasterio(filepath)\n"
     ]
    },
    {
     "name": "stdout",
     "output_type": "stream",
     "text": [
      "========================== Input parameters ==========================\n",
      "Input file              = /media/liwei/Data/GCOM-C_RSRF_Valid/tile/GC1SG1_20200824D01D_T0425_L2SG_RSRFQ_3001.h5\n",
      "Projection coordinates  = Geodetic Latitude/Longitude\n",
      "Pixel spacing           = 15.000000 sec\n",
      "Resampling method       = BL\n",
      "Data selection          = Image_data/Rs_PI02\n",
      "Output directory        = /media/liwei/Data/GCOM-C_RSRF_Valid/reporjection\n",
      "======================================================================\n",
      "product_type = L2/tile\n",
      "tile = 0425\n",
      "pid = GC1SG1_20200824D01D_T0425_L2SG_RSRFQ_3001\n",
      "data rank = 2\n",
      "data size = 1200/1200\n",
      "data type = unsigned short\n",
      "INFO: type of attr is int -> cast to unsigned short! function (H5_common_read2.c) line = 272\n",
      "max_valid_DN = 65534\n",
      "hemi = 0\n",
      "x range =   93.4750000000,  124.4583333333\n",
      "y range =   40.0000000000,   50.0000000000\n",
      "outsize = 7436, 2400\n",
      "output = [/media/liwei/Data/GCOM-C_RSRF_Valid/reporjection/GC1SG1_20200824D01D_T0425_L2SG_RSRFQ_3001_Rs_PI02.tif]\n",
      "output = [/media/liwei/Data/GCOM-C_RSRF_Valid/reporjection/GC1SG1_20200824D01D_T0425_L2SG_RSRFQ_3001_Rs_PI02.xml]\n",
      "done...\n",
      "Reporjection Finished!\n",
      "Start 20200908\n"
     ]
    },
    {
     "name": "stderr",
     "output_type": "stream",
     "text": [
      "/tmp/ipykernel_2428263/3923884669.py:63: DeprecationWarning: open_rasterio is Deprecated in favor of rioxarray. For information about transitioning, see: https://corteva.github.io/rioxarray/stable/getting_started/getting_started.html\n",
      "  geotiff_da = xr.open_rasterio(filepath)\n"
     ]
    },
    {
     "name": "stdout",
     "output_type": "stream",
     "text": [
      "Start Reporjection Rs_PI01\n",
      "========================== Input parameters ==========================\n",
      "Input file              = /media/liwei/Data/GCOM-C_RSRF_Valid/tile/GC1SG1_20200908D01D_T0425_L2SG_RSRFQ_3001.h5\n",
      "Projection coordinates  = Geodetic Latitude/Longitude\n",
      "Pixel spacing           = 15.000000 sec\n",
      "Resampling method       = BL\n",
      "Data selection          = Image_data/Rs_PI01\n",
      "Output directory        = /media/liwei/Data/GCOM-C_RSRF_Valid/reporjection\n",
      "======================================================================\n",
      "product_type = L2/tile\n",
      "tile = 0425\n",
      "pid = GC1SG1_20200908D01D_T0425_L2SG_RSRFQ_3001\n",
      "data rank = 2\n",
      "data size = 1200/1200\n",
      "data type = unsigned short\n",
      "INFO: type of attr is int -> cast to unsigned short! function (H5_common_read2.c) line = 272\n",
      "max_valid_DN = 65534\n",
      "hemi = 0\n",
      "x range =   92.7708333333,  124.4583333333\n",
      "y range =   40.0000000000,   50.0000000000\n",
      "outsize = 7605, 2400\n",
      "output = [/media/liwei/Data/GCOM-C_RSRF_Valid/reporjection/GC1SG1_20200908D01D_T0425_L2SG_RSRFQ_3001_Rs_PI01.tif]\n",
      "output = [/media/liwei/Data/GCOM-C_RSRF_Valid/reporjection/GC1SG1_20200908D01D_T0425_L2SG_RSRFQ_3001_Rs_PI01.xml]\n",
      "done...\n",
      "Reporjection Finished!\n",
      "Start Reporjection Rs_PI02\n"
     ]
    },
    {
     "name": "stderr",
     "output_type": "stream",
     "text": [
      "/tmp/ipykernel_2428263/3923884669.py:63: DeprecationWarning: open_rasterio is Deprecated in favor of rioxarray. For information about transitioning, see: https://corteva.github.io/rioxarray/stable/getting_started/getting_started.html\n",
      "  geotiff_da = xr.open_rasterio(filepath)\n"
     ]
    },
    {
     "name": "stdout",
     "output_type": "stream",
     "text": [
      "========================== Input parameters ==========================\n",
      "Input file              = /media/liwei/Data/GCOM-C_RSRF_Valid/tile/GC1SG1_20200908D01D_T0425_L2SG_RSRFQ_3001.h5\n",
      "Projection coordinates  = Geodetic Latitude/Longitude\n",
      "Pixel spacing           = 15.000000 sec\n",
      "Resampling method       = BL\n",
      "Data selection          = Image_data/Rs_PI02\n",
      "Output directory        = /media/liwei/Data/GCOM-C_RSRF_Valid/reporjection\n",
      "======================================================================\n",
      "product_type = L2/tile\n",
      "tile = 0425\n",
      "pid = GC1SG1_20200908D01D_T0425_L2SG_RSRFQ_3001\n",
      "data rank = 2\n",
      "data size = 1200/1200\n",
      "data type = unsigned short\n",
      "INFO: type of attr is int -> cast to unsigned short! function (H5_common_read2.c) line = 272\n",
      "max_valid_DN = 65534\n",
      "hemi = 0\n",
      "x range =   92.7708333333,  124.4583333333\n",
      "y range =   40.0000000000,   50.0000000000\n",
      "outsize = 7605, 2400\n",
      "output = [/media/liwei/Data/GCOM-C_RSRF_Valid/reporjection/GC1SG1_20200908D01D_T0425_L2SG_RSRFQ_3001_Rs_PI02.tif]\n",
      "output = [/media/liwei/Data/GCOM-C_RSRF_Valid/reporjection/GC1SG1_20200908D01D_T0425_L2SG_RSRFQ_3001_Rs_PI02.xml]\n",
      "done...\n",
      "Reporjection Finished!\n",
      "Start 20210225\n"
     ]
    },
    {
     "name": "stderr",
     "output_type": "stream",
     "text": [
      "/tmp/ipykernel_2428263/3923884669.py:63: DeprecationWarning: open_rasterio is Deprecated in favor of rioxarray. For information about transitioning, see: https://corteva.github.io/rioxarray/stable/getting_started/getting_started.html\n",
      "  geotiff_da = xr.open_rasterio(filepath)\n"
     ]
    },
    {
     "name": "stdout",
     "output_type": "stream",
     "text": [
      "Start Reporjection Rs_PI01\n",
      "========================== Input parameters ==========================\n",
      "Input file              = /media/liwei/Data/GCOM-C_RSRF_Valid/tile/GC1SG1_20210225D01D_T0425_L2SG_RSRFQ_3001.h5\n",
      "Projection coordinates  = Geodetic Latitude/Longitude\n",
      "Pixel spacing           = 15.000000 sec\n",
      "Resampling method       = BL\n",
      "Data selection          = Image_data/Rs_PI01\n",
      "Output directory        = /media/liwei/Data/GCOM-C_RSRF_Valid/reporjection\n",
      "======================================================================\n",
      "product_type = L2/tile\n",
      "tile = 0425\n",
      "pid = GC1SG1_20210225D01D_T0425_L2SG_RSRFQ_3001\n",
      "data rank = 2\n",
      "data size = 1200/1200\n",
      "data type = unsigned short\n",
      "INFO: type of attr is int -> cast to unsigned short! function (H5_common_read2.c) line = 272\n",
      "max_valid_DN = 65534\n",
      "hemi = 0\n",
      "x range =   93.2583333333,  124.4583333333\n",
      "y range =   40.0000000000,   50.0000000000\n",
      "outsize = 7488, 2400\n",
      "output = [/media/liwei/Data/GCOM-C_RSRF_Valid/reporjection/GC1SG1_20210225D01D_T0425_L2SG_RSRFQ_3001_Rs_PI01.tif]\n",
      "output = [/media/liwei/Data/GCOM-C_RSRF_Valid/reporjection/GC1SG1_20210225D01D_T0425_L2SG_RSRFQ_3001_Rs_PI01.xml]\n",
      "done...\n",
      "Reporjection Finished!\n",
      "Start Reporjection Rs_PI02\n"
     ]
    },
    {
     "name": "stderr",
     "output_type": "stream",
     "text": [
      "/tmp/ipykernel_2428263/3923884669.py:63: DeprecationWarning: open_rasterio is Deprecated in favor of rioxarray. For information about transitioning, see: https://corteva.github.io/rioxarray/stable/getting_started/getting_started.html\n",
      "  geotiff_da = xr.open_rasterio(filepath)\n"
     ]
    },
    {
     "name": "stdout",
     "output_type": "stream",
     "text": [
      "========================== Input parameters ==========================\n",
      "Input file              = /media/liwei/Data/GCOM-C_RSRF_Valid/tile/GC1SG1_20210225D01D_T0425_L2SG_RSRFQ_3001.h5\n",
      "Projection coordinates  = Geodetic Latitude/Longitude\n",
      "Pixel spacing           = 15.000000 sec\n",
      "Resampling method       = BL\n",
      "Data selection          = Image_data/Rs_PI02\n",
      "Output directory        = /media/liwei/Data/GCOM-C_RSRF_Valid/reporjection\n",
      "======================================================================\n",
      "product_type = L2/tile\n",
      "tile = 0425\n",
      "pid = GC1SG1_20210225D01D_T0425_L2SG_RSRFQ_3001\n",
      "data rank = 2\n",
      "data size = 1200/1200\n",
      "data type = unsigned short\n",
      "INFO: type of attr is int -> cast to unsigned short! function (H5_common_read2.c) line = 272\n",
      "max_valid_DN = 65534\n",
      "hemi = 0\n",
      "x range =   93.2583333333,  124.4583333333\n",
      "y range =   40.0000000000,   50.0000000000\n",
      "outsize = 7488, 2400\n",
      "output = [/media/liwei/Data/GCOM-C_RSRF_Valid/reporjection/GC1SG1_20210225D01D_T0425_L2SG_RSRFQ_3001_Rs_PI02.tif]\n",
      "output = [/media/liwei/Data/GCOM-C_RSRF_Valid/reporjection/GC1SG1_20210225D01D_T0425_L2SG_RSRFQ_3001_Rs_PI02.xml]\n",
      "done...\n",
      "Reporjection Finished!\n",
      "Start 20210312\n"
     ]
    },
    {
     "name": "stderr",
     "output_type": "stream",
     "text": [
      "/tmp/ipykernel_2428263/3923884669.py:63: DeprecationWarning: open_rasterio is Deprecated in favor of rioxarray. For information about transitioning, see: https://corteva.github.io/rioxarray/stable/getting_started/getting_started.html\n",
      "  geotiff_da = xr.open_rasterio(filepath)\n"
     ]
    },
    {
     "name": "stdout",
     "output_type": "stream",
     "text": [
      "Start Reporjection Rs_PI01\n",
      "========================== Input parameters ==========================\n",
      "Input file              = /media/liwei/Data/GCOM-C_RSRF_Valid/tile/GC1SG1_20210312D01D_T0425_L2SG_RSRFQ_3001.h5\n",
      "Projection coordinates  = Geodetic Latitude/Longitude\n",
      "Pixel spacing           = 15.000000 sec\n",
      "Resampling method       = BL\n",
      "Data selection          = Image_data/Rs_PI01\n",
      "Output directory        = /media/liwei/Data/GCOM-C_RSRF_Valid/reporjection\n",
      "======================================================================\n",
      "product_type = L2/tile\n",
      "tile = 0425\n",
      "pid = GC1SG1_20210312D01D_T0425_L2SG_RSRFQ_3001\n",
      "data rank = 2\n",
      "data size = 1200/1200\n",
      "data type = unsigned short\n",
      "INFO: type of attr is int -> cast to unsigned short! function (H5_common_read2.c) line = 272\n",
      "max_valid_DN = 65534\n",
      "hemi = 0\n",
      "x range =   92.4875000000,  124.4583333333\n",
      "y range =   40.0000000000,   50.0000000000\n",
      "outsize = 7673, 2400\n",
      "output = [/media/liwei/Data/GCOM-C_RSRF_Valid/reporjection/GC1SG1_20210312D01D_T0425_L2SG_RSRFQ_3001_Rs_PI01.tif]\n",
      "output = [/media/liwei/Data/GCOM-C_RSRF_Valid/reporjection/GC1SG1_20210312D01D_T0425_L2SG_RSRFQ_3001_Rs_PI01.xml]\n",
      "done...\n",
      "Reporjection Finished!\n",
      "Start Reporjection Rs_PI02\n"
     ]
    },
    {
     "name": "stderr",
     "output_type": "stream",
     "text": [
      "/tmp/ipykernel_2428263/3923884669.py:63: DeprecationWarning: open_rasterio is Deprecated in favor of rioxarray. For information about transitioning, see: https://corteva.github.io/rioxarray/stable/getting_started/getting_started.html\n",
      "  geotiff_da = xr.open_rasterio(filepath)\n"
     ]
    },
    {
     "name": "stdout",
     "output_type": "stream",
     "text": [
      "========================== Input parameters ==========================\n",
      "Input file              = /media/liwei/Data/GCOM-C_RSRF_Valid/tile/GC1SG1_20210312D01D_T0425_L2SG_RSRFQ_3001.h5\n",
      "Projection coordinates  = Geodetic Latitude/Longitude\n",
      "Pixel spacing           = 15.000000 sec\n",
      "Resampling method       = BL\n",
      "Data selection          = Image_data/Rs_PI02\n",
      "Output directory        = /media/liwei/Data/GCOM-C_RSRF_Valid/reporjection\n",
      "======================================================================\n",
      "product_type = L2/tile\n",
      "tile = 0425\n",
      "pid = GC1SG1_20210312D01D_T0425_L2SG_RSRFQ_3001\n",
      "data rank = 2\n",
      "data size = 1200/1200\n",
      "data type = unsigned short\n",
      "INFO: type of attr is int -> cast to unsigned short! function (H5_common_read2.c) line = 272\n",
      "max_valid_DN = 65534\n",
      "hemi = 0\n",
      "x range =   92.4875000000,  124.4583333333\n",
      "y range =   40.0000000000,   50.0000000000\n",
      "outsize = 7673, 2400\n",
      "output = [/media/liwei/Data/GCOM-C_RSRF_Valid/reporjection/GC1SG1_20210312D01D_T0425_L2SG_RSRFQ_3001_Rs_PI02.tif]\n",
      "output = [/media/liwei/Data/GCOM-C_RSRF_Valid/reporjection/GC1SG1_20210312D01D_T0425_L2SG_RSRFQ_3001_Rs_PI02.xml]\n",
      "done...\n",
      "Reporjection Finished!\n",
      "Start 20210316\n"
     ]
    },
    {
     "name": "stderr",
     "output_type": "stream",
     "text": [
      "/tmp/ipykernel_2428263/3923884669.py:63: DeprecationWarning: open_rasterio is Deprecated in favor of rioxarray. For information about transitioning, see: https://corteva.github.io/rioxarray/stable/getting_started/getting_started.html\n",
      "  geotiff_da = xr.open_rasterio(filepath)\n"
     ]
    },
    {
     "name": "stdout",
     "output_type": "stream",
     "text": [
      "Start Reporjection Rs_PI01\n",
      "========================== Input parameters ==========================\n",
      "Input file              = /media/liwei/Data/GCOM-C_RSRF_Valid/tile/GC1SG1_20210316D01D_T0425_L2SG_RSRFQ_3001.h5\n",
      "Projection coordinates  = Geodetic Latitude/Longitude\n",
      "Pixel spacing           = 15.000000 sec\n",
      "Resampling method       = BL\n",
      "Data selection          = Image_data/Rs_PI01\n",
      "Output directory        = /media/liwei/Data/GCOM-C_RSRF_Valid/reporjection\n",
      "======================================================================\n",
      "product_type = L2/tile\n",
      "tile = 0425\n",
      "pid = GC1SG1_20210316D01D_T0425_L2SG_RSRFQ_3001\n",
      "data rank = 2\n",
      "data size = 1200/1200\n",
      "data type = unsigned short\n",
      "INFO: type of attr is int -> cast to unsigned short! function (H5_common_read2.c) line = 272\n",
      "max_valid_DN = 65534\n",
      "hemi = 0\n",
      "x range =   93.9541666667,  124.4583333333\n",
      "y range =   40.0000000000,   50.0000000000\n",
      "outsize = 7321, 2400\n",
      "output = [/media/liwei/Data/GCOM-C_RSRF_Valid/reporjection/GC1SG1_20210316D01D_T0425_L2SG_RSRFQ_3001_Rs_PI01.tif]\n",
      "output = [/media/liwei/Data/GCOM-C_RSRF_Valid/reporjection/GC1SG1_20210316D01D_T0425_L2SG_RSRFQ_3001_Rs_PI01.xml]\n",
      "done...\n",
      "Reporjection Finished!\n",
      "Start Reporjection Rs_PI02\n"
     ]
    },
    {
     "name": "stderr",
     "output_type": "stream",
     "text": [
      "/tmp/ipykernel_2428263/3923884669.py:63: DeprecationWarning: open_rasterio is Deprecated in favor of rioxarray. For information about transitioning, see: https://corteva.github.io/rioxarray/stable/getting_started/getting_started.html\n",
      "  geotiff_da = xr.open_rasterio(filepath)\n"
     ]
    },
    {
     "name": "stdout",
     "output_type": "stream",
     "text": [
      "========================== Input parameters ==========================\n",
      "Input file              = /media/liwei/Data/GCOM-C_RSRF_Valid/tile/GC1SG1_20210316D01D_T0425_L2SG_RSRFQ_3001.h5\n",
      "Projection coordinates  = Geodetic Latitude/Longitude\n",
      "Pixel spacing           = 15.000000 sec\n",
      "Resampling method       = BL\n",
      "Data selection          = Image_data/Rs_PI02\n",
      "Output directory        = /media/liwei/Data/GCOM-C_RSRF_Valid/reporjection\n",
      "======================================================================\n",
      "product_type = L2/tile\n",
      "tile = 0425\n",
      "pid = GC1SG1_20210316D01D_T0425_L2SG_RSRFQ_3001\n",
      "data rank = 2\n",
      "data size = 1200/1200\n",
      "data type = unsigned short\n",
      "INFO: type of attr is int -> cast to unsigned short! function (H5_common_read2.c) line = 272\n",
      "max_valid_DN = 65534\n",
      "hemi = 0\n",
      "x range =   93.9541666667,  124.4583333333\n",
      "y range =   40.0000000000,   50.0000000000\n",
      "outsize = 7321, 2400\n",
      "output = [/media/liwei/Data/GCOM-C_RSRF_Valid/reporjection/GC1SG1_20210316D01D_T0425_L2SG_RSRFQ_3001_Rs_PI02.tif]\n",
      "output = [/media/liwei/Data/GCOM-C_RSRF_Valid/reporjection/GC1SG1_20210316D01D_T0425_L2SG_RSRFQ_3001_Rs_PI02.xml]\n",
      "done...\n",
      "Reporjection Finished!\n",
      "Start 20210327\n"
     ]
    },
    {
     "name": "stderr",
     "output_type": "stream",
     "text": [
      "/tmp/ipykernel_2428263/3923884669.py:63: DeprecationWarning: open_rasterio is Deprecated in favor of rioxarray. For information about transitioning, see: https://corteva.github.io/rioxarray/stable/getting_started/getting_started.html\n",
      "  geotiff_da = xr.open_rasterio(filepath)\n"
     ]
    },
    {
     "name": "stdout",
     "output_type": "stream",
     "text": [
      "Start Reporjection Rs_PI01\n",
      "========================== Input parameters ==========================\n",
      "Input file              = /media/liwei/Data/GCOM-C_RSRF_Valid/tile/GC1SG1_20210327D01D_T0425_L2SG_RSRFQ_3001.h5\n",
      "Projection coordinates  = Geodetic Latitude/Longitude\n",
      "Pixel spacing           = 15.000000 sec\n",
      "Resampling method       = BL\n",
      "Data selection          = Image_data/Rs_PI01\n",
      "Output directory        = /media/liwei/Data/GCOM-C_RSRF_Valid/reporjection\n",
      "======================================================================\n",
      "product_type = L2/tile\n",
      "tile = 0425\n",
      "pid = GC1SG1_20210327D01D_T0425_L2SG_RSRFQ_3001\n",
      "data rank = 2\n",
      "data size = 1200/1200\n",
      "data type = unsigned short\n",
      "INFO: type of attr is int -> cast to unsigned short! function (H5_common_read2.c) line = 272\n",
      "max_valid_DN = 65534\n",
      "hemi = 0\n",
      "x range =   91.7041666667,  124.4583333333\n",
      "y range =   40.0000000000,   50.0000000000\n",
      "outsize = 7861, 2400\n",
      "output = [/media/liwei/Data/GCOM-C_RSRF_Valid/reporjection/GC1SG1_20210327D01D_T0425_L2SG_RSRFQ_3001_Rs_PI01.tif]\n",
      "output = [/media/liwei/Data/GCOM-C_RSRF_Valid/reporjection/GC1SG1_20210327D01D_T0425_L2SG_RSRFQ_3001_Rs_PI01.xml]\n",
      "done...\n",
      "Reporjection Finished!\n",
      "Start Reporjection Rs_PI02\n"
     ]
    },
    {
     "name": "stderr",
     "output_type": "stream",
     "text": [
      "/tmp/ipykernel_2428263/3923884669.py:63: DeprecationWarning: open_rasterio is Deprecated in favor of rioxarray. For information about transitioning, see: https://corteva.github.io/rioxarray/stable/getting_started/getting_started.html\n",
      "  geotiff_da = xr.open_rasterio(filepath)\n"
     ]
    },
    {
     "name": "stdout",
     "output_type": "stream",
     "text": [
      "========================== Input parameters ==========================\n",
      "Input file              = /media/liwei/Data/GCOM-C_RSRF_Valid/tile/GC1SG1_20210327D01D_T0425_L2SG_RSRFQ_3001.h5\n",
      "Projection coordinates  = Geodetic Latitude/Longitude\n",
      "Pixel spacing           = 15.000000 sec\n",
      "Resampling method       = BL\n",
      "Data selection          = Image_data/Rs_PI02\n",
      "Output directory        = /media/liwei/Data/GCOM-C_RSRF_Valid/reporjection\n",
      "======================================================================\n",
      "product_type = L2/tile\n",
      "tile = 0425\n",
      "pid = GC1SG1_20210327D01D_T0425_L2SG_RSRFQ_3001\n",
      "data rank = 2\n",
      "data size = 1200/1200\n",
      "data type = unsigned short\n",
      "INFO: type of attr is int -> cast to unsigned short! function (H5_common_read2.c) line = 272\n",
      "max_valid_DN = 65534\n",
      "hemi = 0\n",
      "x range =   91.7041666667,  124.4583333333\n",
      "y range =   40.0000000000,   50.0000000000\n",
      "outsize = 7861, 2400\n",
      "output = [/media/liwei/Data/GCOM-C_RSRF_Valid/reporjection/GC1SG1_20210327D01D_T0425_L2SG_RSRFQ_3001_Rs_PI02.tif]\n",
      "output = [/media/liwei/Data/GCOM-C_RSRF_Valid/reporjection/GC1SG1_20210327D01D_T0425_L2SG_RSRFQ_3001_Rs_PI02.xml]\n",
      "done...\n",
      "Reporjection Finished!\n",
      "Start 20210331\n"
     ]
    },
    {
     "name": "stderr",
     "output_type": "stream",
     "text": [
      "/tmp/ipykernel_2428263/3923884669.py:63: DeprecationWarning: open_rasterio is Deprecated in favor of rioxarray. For information about transitioning, see: https://corteva.github.io/rioxarray/stable/getting_started/getting_started.html\n",
      "  geotiff_da = xr.open_rasterio(filepath)\n"
     ]
    },
    {
     "name": "stdout",
     "output_type": "stream",
     "text": [
      "Start Reporjection Rs_PI01\n",
      "========================== Input parameters ==========================\n",
      "Input file              = /media/liwei/Data/GCOM-C_RSRF_Valid/tile/GC1SG1_20210331D01D_T0425_L2SG_RSRFQ_3001.h5\n",
      "Projection coordinates  = Geodetic Latitude/Longitude\n",
      "Pixel spacing           = 15.000000 sec\n",
      "Resampling method       = BL\n",
      "Data selection          = Image_data/Rs_PI01\n",
      "Output directory        = /media/liwei/Data/GCOM-C_RSRF_Valid/reporjection\n",
      "======================================================================\n",
      "product_type = L2/tile\n",
      "tile = 0425\n",
      "pid = GC1SG1_20210331D01D_T0425_L2SG_RSRFQ_3001\n",
      "data rank = 2\n",
      "data size = 1200/1200\n",
      "data type = unsigned short\n",
      "INFO: type of attr is int -> cast to unsigned short! function (H5_common_read2.c) line = 272\n",
      "max_valid_DN = 65534\n",
      "hemi = 0\n",
      "x range =   93.1833333333,  124.4583333333\n",
      "y range =   40.0000000000,   50.0000000000\n",
      "outsize = 7506, 2400\n",
      "output = [/media/liwei/Data/GCOM-C_RSRF_Valid/reporjection/GC1SG1_20210331D01D_T0425_L2SG_RSRFQ_3001_Rs_PI01.tif]\n",
      "output = [/media/liwei/Data/GCOM-C_RSRF_Valid/reporjection/GC1SG1_20210331D01D_T0425_L2SG_RSRFQ_3001_Rs_PI01.xml]\n",
      "done...\n",
      "Reporjection Finished!\n",
      "Start Reporjection Rs_PI02\n"
     ]
    },
    {
     "name": "stderr",
     "output_type": "stream",
     "text": [
      "/tmp/ipykernel_2428263/3923884669.py:63: DeprecationWarning: open_rasterio is Deprecated in favor of rioxarray. For information about transitioning, see: https://corteva.github.io/rioxarray/stable/getting_started/getting_started.html\n",
      "  geotiff_da = xr.open_rasterio(filepath)\n"
     ]
    },
    {
     "name": "stdout",
     "output_type": "stream",
     "text": [
      "========================== Input parameters ==========================\n",
      "Input file              = /media/liwei/Data/GCOM-C_RSRF_Valid/tile/GC1SG1_20210331D01D_T0425_L2SG_RSRFQ_3001.h5\n",
      "Projection coordinates  = Geodetic Latitude/Longitude\n",
      "Pixel spacing           = 15.000000 sec\n",
      "Resampling method       = BL\n",
      "Data selection          = Image_data/Rs_PI02\n",
      "Output directory        = /media/liwei/Data/GCOM-C_RSRF_Valid/reporjection\n",
      "======================================================================\n",
      "product_type = L2/tile\n",
      "tile = 0425\n",
      "pid = GC1SG1_20210331D01D_T0425_L2SG_RSRFQ_3001\n",
      "data rank = 2\n",
      "data size = 1200/1200\n",
      "data type = unsigned short\n",
      "INFO: type of attr is int -> cast to unsigned short! function (H5_common_read2.c) line = 272\n",
      "max_valid_DN = 65534\n",
      "hemi = 0\n",
      "x range =   93.1833333333,  124.4583333333\n",
      "y range =   40.0000000000,   50.0000000000\n",
      "outsize = 7506, 2400\n",
      "output = [/media/liwei/Data/GCOM-C_RSRF_Valid/reporjection/GC1SG1_20210331D01D_T0425_L2SG_RSRFQ_3001_Rs_PI02.tif]\n",
      "output = [/media/liwei/Data/GCOM-C_RSRF_Valid/reporjection/GC1SG1_20210331D01D_T0425_L2SG_RSRFQ_3001_Rs_PI02.xml]\n",
      "done...\n",
      "Reporjection Finished!\n",
      "Start 20210415\n"
     ]
    },
    {
     "name": "stderr",
     "output_type": "stream",
     "text": [
      "/tmp/ipykernel_2428263/3923884669.py:63: DeprecationWarning: open_rasterio is Deprecated in favor of rioxarray. For information about transitioning, see: https://corteva.github.io/rioxarray/stable/getting_started/getting_started.html\n",
      "  geotiff_da = xr.open_rasterio(filepath)\n"
     ]
    },
    {
     "name": "stdout",
     "output_type": "stream",
     "text": [
      "Start Reporjection Rs_PI01\n",
      "========================== Input parameters ==========================\n",
      "Input file              = /media/liwei/Data/GCOM-C_RSRF_Valid/tile/GC1SG1_20210415D01D_T0425_L2SG_RSRFQ_3001.h5\n",
      "Projection coordinates  = Geodetic Latitude/Longitude\n",
      "Pixel spacing           = 15.000000 sec\n",
      "Resampling method       = BL\n",
      "Data selection          = Image_data/Rs_PI01\n",
      "Output directory        = /media/liwei/Data/GCOM-C_RSRF_Valid/reporjection\n",
      "======================================================================\n",
      "product_type = L2/tile\n",
      "tile = 0425\n",
      "pid = GC1SG1_20210415D01D_T0425_L2SG_RSRFQ_3001\n",
      "data rank = 2\n",
      "data size = 1200/1200\n",
      "data type = unsigned short\n",
      "INFO: type of attr is int -> cast to unsigned short! function (H5_common_read2.c) line = 272\n",
      "max_valid_DN = 65534\n",
      "hemi = 0\n",
      "x range =   92.4083333333,  124.4583333333\n",
      "y range =   40.0000000000,   50.0000000000\n",
      "outsize = 7692, 2400\n",
      "output = [/media/liwei/Data/GCOM-C_RSRF_Valid/reporjection/GC1SG1_20210415D01D_T0425_L2SG_RSRFQ_3001_Rs_PI01.tif]\n",
      "output = [/media/liwei/Data/GCOM-C_RSRF_Valid/reporjection/GC1SG1_20210415D01D_T0425_L2SG_RSRFQ_3001_Rs_PI01.xml]\n",
      "done...\n",
      "Reporjection Finished!\n",
      "Start Reporjection Rs_PI02\n"
     ]
    },
    {
     "name": "stderr",
     "output_type": "stream",
     "text": [
      "/tmp/ipykernel_2428263/3923884669.py:63: DeprecationWarning: open_rasterio is Deprecated in favor of rioxarray. For information about transitioning, see: https://corteva.github.io/rioxarray/stable/getting_started/getting_started.html\n",
      "  geotiff_da = xr.open_rasterio(filepath)\n"
     ]
    },
    {
     "name": "stdout",
     "output_type": "stream",
     "text": [
      "========================== Input parameters ==========================\n",
      "Input file              = /media/liwei/Data/GCOM-C_RSRF_Valid/tile/GC1SG1_20210415D01D_T0425_L2SG_RSRFQ_3001.h5\n",
      "Projection coordinates  = Geodetic Latitude/Longitude\n",
      "Pixel spacing           = 15.000000 sec\n",
      "Resampling method       = BL\n",
      "Data selection          = Image_data/Rs_PI02\n",
      "Output directory        = /media/liwei/Data/GCOM-C_RSRF_Valid/reporjection\n",
      "======================================================================\n",
      "product_type = L2/tile\n",
      "tile = 0425\n",
      "pid = GC1SG1_20210415D01D_T0425_L2SG_RSRFQ_3001\n",
      "data rank = 2\n",
      "data size = 1200/1200\n",
      "data type = unsigned short\n",
      "INFO: type of attr is int -> cast to unsigned short! function (H5_common_read2.c) line = 272\n",
      "max_valid_DN = 65534\n",
      "hemi = 0\n",
      "x range =   92.4083333333,  124.4583333333\n",
      "y range =   40.0000000000,   50.0000000000\n",
      "outsize = 7692, 2400\n",
      "output = [/media/liwei/Data/GCOM-C_RSRF_Valid/reporjection/GC1SG1_20210415D01D_T0425_L2SG_RSRFQ_3001_Rs_PI02.tif]\n",
      "output = [/media/liwei/Data/GCOM-C_RSRF_Valid/reporjection/GC1SG1_20210415D01D_T0425_L2SG_RSRFQ_3001_Rs_PI02.xml]\n",
      "done...\n",
      "Reporjection Finished!\n",
      "Start 20210430\n"
     ]
    },
    {
     "name": "stderr",
     "output_type": "stream",
     "text": [
      "/tmp/ipykernel_2428263/3923884669.py:63: DeprecationWarning: open_rasterio is Deprecated in favor of rioxarray. For information about transitioning, see: https://corteva.github.io/rioxarray/stable/getting_started/getting_started.html\n",
      "  geotiff_da = xr.open_rasterio(filepath)\n"
     ]
    },
    {
     "name": "stdout",
     "output_type": "stream",
     "text": [
      "Start Reporjection Rs_PI01\n",
      "========================== Input parameters ==========================\n",
      "Input file              = /media/liwei/Data/GCOM-C_RSRF_Valid/tile/GC1SG1_20210430D01D_T0425_L2SG_RSRFQ_3001.h5\n",
      "Projection coordinates  = Geodetic Latitude/Longitude\n",
      "Pixel spacing           = 15.000000 sec\n",
      "Resampling method       = BL\n",
      "Data selection          = Image_data/Rs_PI01\n",
      "Output directory        = /media/liwei/Data/GCOM-C_RSRF_Valid/reporjection\n",
      "======================================================================\n",
      "product_type = L2/tile\n",
      "tile = 0425\n",
      "pid = GC1SG1_20210430D01D_T0425_L2SG_RSRFQ_3001\n",
      "data rank = 2\n",
      "data size = 1200/1200\n",
      "data type = unsigned short\n",
      "INFO: type of attr is int -> cast to unsigned short! function (H5_common_read2.c) line = 272\n",
      "max_valid_DN = 65534\n",
      "hemi = 0\n",
      "x range =   91.6500000000,  124.4583333333\n",
      "y range =   40.0000000000,   50.0000000000\n",
      "outsize = 7874, 2400\n",
      "output = [/media/liwei/Data/GCOM-C_RSRF_Valid/reporjection/GC1SG1_20210430D01D_T0425_L2SG_RSRFQ_3001_Rs_PI01.tif]\n",
      "output = [/media/liwei/Data/GCOM-C_RSRF_Valid/reporjection/GC1SG1_20210430D01D_T0425_L2SG_RSRFQ_3001_Rs_PI01.xml]\n",
      "done...\n",
      "Reporjection Finished!\n",
      "Start Reporjection Rs_PI02\n"
     ]
    },
    {
     "name": "stderr",
     "output_type": "stream",
     "text": [
      "/tmp/ipykernel_2428263/3923884669.py:63: DeprecationWarning: open_rasterio is Deprecated in favor of rioxarray. For information about transitioning, see: https://corteva.github.io/rioxarray/stable/getting_started/getting_started.html\n",
      "  geotiff_da = xr.open_rasterio(filepath)\n"
     ]
    },
    {
     "name": "stdout",
     "output_type": "stream",
     "text": [
      "========================== Input parameters ==========================\n",
      "Input file              = /media/liwei/Data/GCOM-C_RSRF_Valid/tile/GC1SG1_20210430D01D_T0425_L2SG_RSRFQ_3001.h5\n",
      "Projection coordinates  = Geodetic Latitude/Longitude\n",
      "Pixel spacing           = 15.000000 sec\n",
      "Resampling method       = BL\n",
      "Data selection          = Image_data/Rs_PI02\n",
      "Output directory        = /media/liwei/Data/GCOM-C_RSRF_Valid/reporjection\n",
      "======================================================================\n",
      "product_type = L2/tile\n",
      "tile = 0425\n",
      "pid = GC1SG1_20210430D01D_T0425_L2SG_RSRFQ_3001\n",
      "data rank = 2\n",
      "data size = 1200/1200\n",
      "data type = unsigned short\n",
      "INFO: type of attr is int -> cast to unsigned short! function (H5_common_read2.c) line = 272\n",
      "max_valid_DN = 65534\n",
      "hemi = 0\n",
      "x range =   91.6500000000,  124.4583333333\n",
      "y range =   40.0000000000,   50.0000000000\n",
      "outsize = 7874, 2400\n",
      "output = [/media/liwei/Data/GCOM-C_RSRF_Valid/reporjection/GC1SG1_20210430D01D_T0425_L2SG_RSRFQ_3001_Rs_PI02.tif]\n",
      "output = [/media/liwei/Data/GCOM-C_RSRF_Valid/reporjection/GC1SG1_20210430D01D_T0425_L2SG_RSRFQ_3001_Rs_PI02.xml]\n",
      "done...\n",
      "Reporjection Finished!\n",
      "Start 20210504\n"
     ]
    },
    {
     "name": "stderr",
     "output_type": "stream",
     "text": [
      "/tmp/ipykernel_2428263/3923884669.py:63: DeprecationWarning: open_rasterio is Deprecated in favor of rioxarray. For information about transitioning, see: https://corteva.github.io/rioxarray/stable/getting_started/getting_started.html\n",
      "  geotiff_da = xr.open_rasterio(filepath)\n"
     ]
    },
    {
     "name": "stdout",
     "output_type": "stream",
     "text": [
      "Start Reporjection Rs_PI01\n",
      "========================== Input parameters ==========================\n",
      "Input file              = /media/liwei/Data/GCOM-C_RSRF_Valid/tile/GC1SG1_20210504D01D_T0425_L2SG_RSRFQ_3001.h5\n",
      "Projection coordinates  = Geodetic Latitude/Longitude\n",
      "Pixel spacing           = 15.000000 sec\n",
      "Resampling method       = BL\n",
      "Data selection          = Image_data/Rs_PI01\n",
      "Output directory        = /media/liwei/Data/GCOM-C_RSRF_Valid/reporjection\n",
      "======================================================================\n",
      "product_type = L2/tile\n",
      "tile = 0425\n",
      "pid = GC1SG1_20210504D01D_T0425_L2SG_RSRFQ_3001\n",
      "data rank = 2\n",
      "data size = 1200/1200\n",
      "data type = unsigned short\n",
      "INFO: type of attr is int -> cast to unsigned short! function (H5_common_read2.c) line = 272\n",
      "max_valid_DN = 65534\n",
      "hemi = 0\n",
      "x range =   93.1291666667,  124.4583333333\n",
      "y range =   40.0000000000,   50.0000000000\n",
      "outsize = 7519, 2400\n",
      "output = [/media/liwei/Data/GCOM-C_RSRF_Valid/reporjection/GC1SG1_20210504D01D_T0425_L2SG_RSRFQ_3001_Rs_PI01.tif]\n",
      "output = [/media/liwei/Data/GCOM-C_RSRF_Valid/reporjection/GC1SG1_20210504D01D_T0425_L2SG_RSRFQ_3001_Rs_PI01.xml]\n",
      "done...\n",
      "Reporjection Finished!\n",
      "Start Reporjection Rs_PI02\n"
     ]
    },
    {
     "name": "stderr",
     "output_type": "stream",
     "text": [
      "/tmp/ipykernel_2428263/3923884669.py:63: DeprecationWarning: open_rasterio is Deprecated in favor of rioxarray. For information about transitioning, see: https://corteva.github.io/rioxarray/stable/getting_started/getting_started.html\n",
      "  geotiff_da = xr.open_rasterio(filepath)\n"
     ]
    },
    {
     "name": "stdout",
     "output_type": "stream",
     "text": [
      "========================== Input parameters ==========================\n",
      "Input file              = /media/liwei/Data/GCOM-C_RSRF_Valid/tile/GC1SG1_20210504D01D_T0425_L2SG_RSRFQ_3001.h5\n",
      "Projection coordinates  = Geodetic Latitude/Longitude\n",
      "Pixel spacing           = 15.000000 sec\n",
      "Resampling method       = BL\n",
      "Data selection          = Image_data/Rs_PI02\n",
      "Output directory        = /media/liwei/Data/GCOM-C_RSRF_Valid/reporjection\n",
      "======================================================================\n",
      "product_type = L2/tile\n",
      "tile = 0425\n",
      "pid = GC1SG1_20210504D01D_T0425_L2SG_RSRFQ_3001\n",
      "data rank = 2\n",
      "data size = 1200/1200\n",
      "data type = unsigned short\n",
      "INFO: type of attr is int -> cast to unsigned short! function (H5_common_read2.c) line = 272\n",
      "max_valid_DN = 65534\n",
      "hemi = 0\n",
      "x range =   93.1291666667,  124.4583333333\n",
      "y range =   40.0000000000,   50.0000000000\n",
      "outsize = 7519, 2400\n",
      "output = [/media/liwei/Data/GCOM-C_RSRF_Valid/reporjection/GC1SG1_20210504D01D_T0425_L2SG_RSRFQ_3001_Rs_PI02.tif]\n",
      "output = [/media/liwei/Data/GCOM-C_RSRF_Valid/reporjection/GC1SG1_20210504D01D_T0425_L2SG_RSRFQ_3001_Rs_PI02.xml]\n",
      "done...\n",
      "Reporjection Finished!\n",
      "Start 20210515\n"
     ]
    },
    {
     "name": "stderr",
     "output_type": "stream",
     "text": [
      "/tmp/ipykernel_2428263/3923884669.py:63: DeprecationWarning: open_rasterio is Deprecated in favor of rioxarray. For information about transitioning, see: https://corteva.github.io/rioxarray/stable/getting_started/getting_started.html\n",
      "  geotiff_da = xr.open_rasterio(filepath)\n"
     ]
    },
    {
     "name": "stdout",
     "output_type": "stream",
     "text": [
      "Start Reporjection Rs_PI01\n",
      "========================== Input parameters ==========================\n",
      "Input file              = /media/liwei/Data/GCOM-C_RSRF_Valid/tile/GC1SG1_20210515D01D_T0425_L2SG_RSRFQ_3001.h5\n",
      "Projection coordinates  = Geodetic Latitude/Longitude\n",
      "Pixel spacing           = 15.000000 sec\n",
      "Resampling method       = BL\n",
      "Data selection          = Image_data/Rs_PI01\n",
      "Output directory        = /media/liwei/Data/GCOM-C_RSRF_Valid/reporjection\n",
      "======================================================================\n",
      "product_type = L2/tile\n",
      "tile = 0425\n",
      "pid = GC1SG1_20210515D01D_T0425_L2SG_RSRFQ_3001\n",
      "data rank = 2\n",
      "data size = 1200/1200\n",
      "data type = unsigned short\n",
      "INFO: type of attr is int -> cast to unsigned short! function (H5_common_read2.c) line = 272\n",
      "max_valid_DN = 65534\n",
      "hemi = 0\n",
      "x range =   91.3750000000,  124.4583333333\n",
      "y range =   40.0000000000,   50.0000000000\n",
      "outsize = 7940, 2400\n",
      "output = [/media/liwei/Data/GCOM-C_RSRF_Valid/reporjection/GC1SG1_20210515D01D_T0425_L2SG_RSRFQ_3001_Rs_PI01.tif]\n",
      "output = [/media/liwei/Data/GCOM-C_RSRF_Valid/reporjection/GC1SG1_20210515D01D_T0425_L2SG_RSRFQ_3001_Rs_PI01.xml]\n",
      "done...\n",
      "Reporjection Finished!\n",
      "Start Reporjection Rs_PI02\n"
     ]
    },
    {
     "name": "stderr",
     "output_type": "stream",
     "text": [
      "/tmp/ipykernel_2428263/3923884669.py:63: DeprecationWarning: open_rasterio is Deprecated in favor of rioxarray. For information about transitioning, see: https://corteva.github.io/rioxarray/stable/getting_started/getting_started.html\n",
      "  geotiff_da = xr.open_rasterio(filepath)\n"
     ]
    },
    {
     "name": "stdout",
     "output_type": "stream",
     "text": [
      "========================== Input parameters ==========================\n",
      "Input file              = /media/liwei/Data/GCOM-C_RSRF_Valid/tile/GC1SG1_20210515D01D_T0425_L2SG_RSRFQ_3001.h5\n",
      "Projection coordinates  = Geodetic Latitude/Longitude\n",
      "Pixel spacing           = 15.000000 sec\n",
      "Resampling method       = BL\n",
      "Data selection          = Image_data/Rs_PI02\n",
      "Output directory        = /media/liwei/Data/GCOM-C_RSRF_Valid/reporjection\n",
      "======================================================================\n",
      "product_type = L2/tile\n",
      "tile = 0425\n",
      "pid = GC1SG1_20210515D01D_T0425_L2SG_RSRFQ_3001\n",
      "data rank = 2\n",
      "data size = 1200/1200\n",
      "data type = unsigned short\n",
      "INFO: type of attr is int -> cast to unsigned short! function (H5_common_read2.c) line = 272\n",
      "max_valid_DN = 65534\n",
      "hemi = 0\n",
      "x range =   91.3750000000,  124.4583333333\n",
      "y range =   40.0000000000,   50.0000000000\n",
      "outsize = 7940, 2400\n",
      "output = [/media/liwei/Data/GCOM-C_RSRF_Valid/reporjection/GC1SG1_20210515D01D_T0425_L2SG_RSRFQ_3001_Rs_PI02.tif]\n",
      "output = [/media/liwei/Data/GCOM-C_RSRF_Valid/reporjection/GC1SG1_20210515D01D_T0425_L2SG_RSRFQ_3001_Rs_PI02.xml]\n",
      "done...\n",
      "Reporjection Finished!\n",
      "Start 20210519\n"
     ]
    },
    {
     "name": "stderr",
     "output_type": "stream",
     "text": [
      "/tmp/ipykernel_2428263/3923884669.py:63: DeprecationWarning: open_rasterio is Deprecated in favor of rioxarray. For information about transitioning, see: https://corteva.github.io/rioxarray/stable/getting_started/getting_started.html\n",
      "  geotiff_da = xr.open_rasterio(filepath)\n"
     ]
    },
    {
     "name": "stdout",
     "output_type": "stream",
     "text": [
      "Start Reporjection Rs_PI01\n",
      "========================== Input parameters ==========================\n",
      "Input file              = /media/liwei/Data/GCOM-C_RSRF_Valid/tile/GC1SG1_20210519D01D_T0425_L2SG_RSRFQ_3001.h5\n",
      "Projection coordinates  = Geodetic Latitude/Longitude\n",
      "Pixel spacing           = 15.000000 sec\n",
      "Resampling method       = BL\n",
      "Data selection          = Image_data/Rs_PI01\n",
      "Output directory        = /media/liwei/Data/GCOM-C_RSRF_Valid/reporjection\n",
      "======================================================================\n",
      "product_type = L2/tile\n",
      "tile = 0425\n",
      "pid = GC1SG1_20210519D01D_T0425_L2SG_RSRFQ_3001\n",
      "data rank = 2\n",
      "data size = 1200/1200\n",
      "data type = unsigned short\n",
      "INFO: type of attr is int -> cast to unsigned short! function (H5_common_read2.c) line = 272\n",
      "max_valid_DN = 65534\n",
      "hemi = 0\n",
      "x range =   92.3666666667,  124.4583333333\n",
      "y range =   40.0000000000,   50.0000000000\n",
      "outsize = 7702, 2400\n",
      "output = [/media/liwei/Data/GCOM-C_RSRF_Valid/reporjection/GC1SG1_20210519D01D_T0425_L2SG_RSRFQ_3001_Rs_PI01.tif]\n",
      "output = [/media/liwei/Data/GCOM-C_RSRF_Valid/reporjection/GC1SG1_20210519D01D_T0425_L2SG_RSRFQ_3001_Rs_PI01.xml]\n",
      "done...\n",
      "Reporjection Finished!\n",
      "Start Reporjection Rs_PI02\n"
     ]
    },
    {
     "name": "stderr",
     "output_type": "stream",
     "text": [
      "/tmp/ipykernel_2428263/3923884669.py:63: DeprecationWarning: open_rasterio is Deprecated in favor of rioxarray. For information about transitioning, see: https://corteva.github.io/rioxarray/stable/getting_started/getting_started.html\n",
      "  geotiff_da = xr.open_rasterio(filepath)\n"
     ]
    },
    {
     "name": "stdout",
     "output_type": "stream",
     "text": [
      "========================== Input parameters ==========================\n",
      "Input file              = /media/liwei/Data/GCOM-C_RSRF_Valid/tile/GC1SG1_20210519D01D_T0425_L2SG_RSRFQ_3001.h5\n",
      "Projection coordinates  = Geodetic Latitude/Longitude\n",
      "Pixel spacing           = 15.000000 sec\n",
      "Resampling method       = BL\n",
      "Data selection          = Image_data/Rs_PI02\n",
      "Output directory        = /media/liwei/Data/GCOM-C_RSRF_Valid/reporjection\n",
      "======================================================================\n",
      "product_type = L2/tile\n",
      "tile = 0425\n",
      "pid = GC1SG1_20210519D01D_T0425_L2SG_RSRFQ_3001\n",
      "data rank = 2\n",
      "data size = 1200/1200\n",
      "data type = unsigned short\n",
      "INFO: type of attr is int -> cast to unsigned short! function (H5_common_read2.c) line = 272\n",
      "max_valid_DN = 65534\n",
      "hemi = 0\n",
      "x range =   92.3666666667,  124.4583333333\n",
      "y range =   40.0000000000,   50.0000000000\n",
      "outsize = 7702, 2400\n",
      "output = [/media/liwei/Data/GCOM-C_RSRF_Valid/reporjection/GC1SG1_20210519D01D_T0425_L2SG_RSRFQ_3001_Rs_PI02.tif]\n",
      "output = [/media/liwei/Data/GCOM-C_RSRF_Valid/reporjection/GC1SG1_20210519D01D_T0425_L2SG_RSRFQ_3001_Rs_PI02.xml]\n",
      "done...\n",
      "Reporjection Finished!\n",
      "Start 20210603\n"
     ]
    },
    {
     "name": "stderr",
     "output_type": "stream",
     "text": [
      "/tmp/ipykernel_2428263/3923884669.py:63: DeprecationWarning: open_rasterio is Deprecated in favor of rioxarray. For information about transitioning, see: https://corteva.github.io/rioxarray/stable/getting_started/getting_started.html\n",
      "  geotiff_da = xr.open_rasterio(filepath)\n"
     ]
    },
    {
     "name": "stdout",
     "output_type": "stream",
     "text": [
      "Start Reporjection Rs_PI01\n",
      "========================== Input parameters ==========================\n",
      "Input file              = /media/liwei/Data/GCOM-C_RSRF_Valid/tile/GC1SG1_20210603D01D_T0425_L2SG_RSRFQ_3001.h5\n",
      "Projection coordinates  = Geodetic Latitude/Longitude\n",
      "Pixel spacing           = 15.000000 sec\n",
      "Resampling method       = BL\n",
      "Data selection          = Image_data/Rs_PI01\n",
      "Output directory        = /media/liwei/Data/GCOM-C_RSRF_Valid/reporjection\n",
      "======================================================================\n",
      "product_type = L2/tile\n",
      "tile = 0425\n",
      "pid = GC1SG1_20210603D01D_T0425_L2SG_RSRFQ_3001\n",
      "data rank = 2\n",
      "data size = 1200/1200\n",
      "data type = unsigned short\n",
      "INFO: type of attr is int -> cast to unsigned short! function (H5_common_read2.c) line = 272\n",
      "max_valid_DN = 65534\n",
      "hemi = 0\n",
      "x range =   91.6041666667,  124.4583333333\n",
      "y range =   40.0000000000,   50.0000000000\n",
      "outsize = 7885, 2400\n",
      "output = [/media/liwei/Data/GCOM-C_RSRF_Valid/reporjection/GC1SG1_20210603D01D_T0425_L2SG_RSRFQ_3001_Rs_PI01.tif]\n",
      "output = [/media/liwei/Data/GCOM-C_RSRF_Valid/reporjection/GC1SG1_20210603D01D_T0425_L2SG_RSRFQ_3001_Rs_PI01.xml]\n",
      "done...\n",
      "Reporjection Finished!\n",
      "Start Reporjection Rs_PI02\n"
     ]
    },
    {
     "name": "stderr",
     "output_type": "stream",
     "text": [
      "/tmp/ipykernel_2428263/3923884669.py:63: DeprecationWarning: open_rasterio is Deprecated in favor of rioxarray. For information about transitioning, see: https://corteva.github.io/rioxarray/stable/getting_started/getting_started.html\n",
      "  geotiff_da = xr.open_rasterio(filepath)\n"
     ]
    },
    {
     "name": "stdout",
     "output_type": "stream",
     "text": [
      "========================== Input parameters ==========================\n",
      "Input file              = /media/liwei/Data/GCOM-C_RSRF_Valid/tile/GC1SG1_20210603D01D_T0425_L2SG_RSRFQ_3001.h5\n",
      "Projection coordinates  = Geodetic Latitude/Longitude\n",
      "Pixel spacing           = 15.000000 sec\n",
      "Resampling method       = BL\n",
      "Data selection          = Image_data/Rs_PI02\n",
      "Output directory        = /media/liwei/Data/GCOM-C_RSRF_Valid/reporjection\n",
      "======================================================================\n",
      "product_type = L2/tile\n",
      "tile = 0425\n",
      "pid = GC1SG1_20210603D01D_T0425_L2SG_RSRFQ_3001\n",
      "data rank = 2\n",
      "data size = 1200/1200\n",
      "data type = unsigned short\n",
      "INFO: type of attr is int -> cast to unsigned short! function (H5_common_read2.c) line = 272\n",
      "max_valid_DN = 65534\n",
      "hemi = 0\n",
      "x range =   91.6041666667,  124.4583333333\n",
      "y range =   40.0000000000,   50.0000000000\n",
      "outsize = 7885, 2400\n",
      "output = [/media/liwei/Data/GCOM-C_RSRF_Valid/reporjection/GC1SG1_20210603D01D_T0425_L2SG_RSRFQ_3001_Rs_PI02.tif]\n",
      "output = [/media/liwei/Data/GCOM-C_RSRF_Valid/reporjection/GC1SG1_20210603D01D_T0425_L2SG_RSRFQ_3001_Rs_PI02.xml]\n",
      "done...\n",
      "Reporjection Finished!\n",
      "Start 20210607\n"
     ]
    },
    {
     "name": "stderr",
     "output_type": "stream",
     "text": [
      "/tmp/ipykernel_2428263/3923884669.py:63: DeprecationWarning: open_rasterio is Deprecated in favor of rioxarray. For information about transitioning, see: https://corteva.github.io/rioxarray/stable/getting_started/getting_started.html\n",
      "  geotiff_da = xr.open_rasterio(filepath)\n"
     ]
    },
    {
     "name": "stdout",
     "output_type": "stream",
     "text": [
      "Start Reporjection Rs_PI01\n",
      "========================== Input parameters ==========================\n",
      "Input file              = /media/liwei/Data/GCOM-C_RSRF_Valid/tile/GC1SG1_20210607D01D_T0425_L2SG_RSRFQ_3001.h5\n",
      "Projection coordinates  = Geodetic Latitude/Longitude\n",
      "Pixel spacing           = 15.000000 sec\n",
      "Resampling method       = BL\n",
      "Data selection          = Image_data/Rs_PI01\n",
      "Output directory        = /media/liwei/Data/GCOM-C_RSRF_Valid/reporjection\n",
      "======================================================================\n",
      "product_type = L2/tile\n",
      "tile = 0425\n",
      "pid = GC1SG1_20210607D01D_T0425_L2SG_RSRFQ_3001\n",
      "data rank = 2\n",
      "data size = 1200/1200\n",
      "data type = unsigned short\n",
      "INFO: type of attr is int -> cast to unsigned short! function (H5_common_read2.c) line = 272\n",
      "max_valid_DN = 65534\n",
      "hemi = 0\n",
      "x range =   93.0958333333,  124.4583333333\n",
      "y range =   40.0000000000,   50.0000000000\n",
      "outsize = 7527, 2400\n",
      "output = [/media/liwei/Data/GCOM-C_RSRF_Valid/reporjection/GC1SG1_20210607D01D_T0425_L2SG_RSRFQ_3001_Rs_PI01.tif]\n",
      "output = [/media/liwei/Data/GCOM-C_RSRF_Valid/reporjection/GC1SG1_20210607D01D_T0425_L2SG_RSRFQ_3001_Rs_PI01.xml]\n",
      "done...\n",
      "Reporjection Finished!\n",
      "Start Reporjection Rs_PI02\n"
     ]
    },
    {
     "name": "stderr",
     "output_type": "stream",
     "text": [
      "/tmp/ipykernel_2428263/3923884669.py:63: DeprecationWarning: open_rasterio is Deprecated in favor of rioxarray. For information about transitioning, see: https://corteva.github.io/rioxarray/stable/getting_started/getting_started.html\n",
      "  geotiff_da = xr.open_rasterio(filepath)\n"
     ]
    },
    {
     "name": "stdout",
     "output_type": "stream",
     "text": [
      "========================== Input parameters ==========================\n",
      "Input file              = /media/liwei/Data/GCOM-C_RSRF_Valid/tile/GC1SG1_20210607D01D_T0425_L2SG_RSRFQ_3001.h5\n",
      "Projection coordinates  = Geodetic Latitude/Longitude\n",
      "Pixel spacing           = 15.000000 sec\n",
      "Resampling method       = BL\n",
      "Data selection          = Image_data/Rs_PI02\n",
      "Output directory        = /media/liwei/Data/GCOM-C_RSRF_Valid/reporjection\n",
      "======================================================================\n",
      "product_type = L2/tile\n",
      "tile = 0425\n",
      "pid = GC1SG1_20210607D01D_T0425_L2SG_RSRFQ_3001\n",
      "data rank = 2\n",
      "data size = 1200/1200\n",
      "data type = unsigned short\n",
      "INFO: type of attr is int -> cast to unsigned short! function (H5_common_read2.c) line = 272\n",
      "max_valid_DN = 65534\n",
      "hemi = 0\n",
      "x range =   93.0958333333,  124.4583333333\n",
      "y range =   40.0000000000,   50.0000000000\n",
      "outsize = 7527, 2400\n",
      "output = [/media/liwei/Data/GCOM-C_RSRF_Valid/reporjection/GC1SG1_20210607D01D_T0425_L2SG_RSRFQ_3001_Rs_PI02.tif]\n",
      "output = [/media/liwei/Data/GCOM-C_RSRF_Valid/reporjection/GC1SG1_20210607D01D_T0425_L2SG_RSRFQ_3001_Rs_PI02.xml]\n",
      "done...\n",
      "Reporjection Finished!\n",
      "Start 20210618\n"
     ]
    },
    {
     "name": "stderr",
     "output_type": "stream",
     "text": [
      "/tmp/ipykernel_2428263/3923884669.py:63: DeprecationWarning: open_rasterio is Deprecated in favor of rioxarray. For information about transitioning, see: https://corteva.github.io/rioxarray/stable/getting_started/getting_started.html\n",
      "  geotiff_da = xr.open_rasterio(filepath)\n"
     ]
    },
    {
     "name": "stdout",
     "output_type": "stream",
     "text": [
      "Start Reporjection Rs_PI01\n",
      "========================== Input parameters ==========================\n",
      "Input file              = /media/liwei/Data/GCOM-C_RSRF_Valid/tile/GC1SG1_20210618D01D_T0425_L2SG_RSRFQ_3001.h5\n",
      "Projection coordinates  = Geodetic Latitude/Longitude\n",
      "Pixel spacing           = 15.000000 sec\n",
      "Resampling method       = BL\n",
      "Data selection          = Image_data/Rs_PI01\n",
      "Output directory        = /media/liwei/Data/GCOM-C_RSRF_Valid/reporjection\n",
      "======================================================================\n",
      "product_type = L2/tile\n",
      "tile = 0425\n",
      "pid = GC1SG1_20210618D01D_T0425_L2SG_RSRFQ_3001\n",
      "data rank = 2\n",
      "data size = 1200/1200\n",
      "data type = unsigned short\n",
      "INFO: type of attr is int -> cast to unsigned short! function (H5_common_read2.c) line = 272\n",
      "max_valid_DN = 65534\n",
      "hemi = 0\n",
      "x range =   91.3750000000,  124.4583333333\n",
      "y range =   40.0000000000,   50.0000000000\n",
      "outsize = 7940, 2400\n",
      "output = [/media/liwei/Data/GCOM-C_RSRF_Valid/reporjection/GC1SG1_20210618D01D_T0425_L2SG_RSRFQ_3001_Rs_PI01.tif]\n",
      "output = [/media/liwei/Data/GCOM-C_RSRF_Valid/reporjection/GC1SG1_20210618D01D_T0425_L2SG_RSRFQ_3001_Rs_PI01.xml]\n",
      "done...\n",
      "Reporjection Finished!\n",
      "Start Reporjection Rs_PI02\n"
     ]
    },
    {
     "name": "stderr",
     "output_type": "stream",
     "text": [
      "/tmp/ipykernel_2428263/3923884669.py:63: DeprecationWarning: open_rasterio is Deprecated in favor of rioxarray. For information about transitioning, see: https://corteva.github.io/rioxarray/stable/getting_started/getting_started.html\n",
      "  geotiff_da = xr.open_rasterio(filepath)\n"
     ]
    },
    {
     "name": "stdout",
     "output_type": "stream",
     "text": [
      "========================== Input parameters ==========================\n",
      "Input file              = /media/liwei/Data/GCOM-C_RSRF_Valid/tile/GC1SG1_20210618D01D_T0425_L2SG_RSRFQ_3001.h5\n",
      "Projection coordinates  = Geodetic Latitude/Longitude\n",
      "Pixel spacing           = 15.000000 sec\n",
      "Resampling method       = BL\n",
      "Data selection          = Image_data/Rs_PI02\n",
      "Output directory        = /media/liwei/Data/GCOM-C_RSRF_Valid/reporjection\n",
      "======================================================================\n",
      "product_type = L2/tile\n",
      "tile = 0425\n",
      "pid = GC1SG1_20210618D01D_T0425_L2SG_RSRFQ_3001\n",
      "data rank = 2\n",
      "data size = 1200/1200\n",
      "data type = unsigned short\n",
      "INFO: type of attr is int -> cast to unsigned short! function (H5_common_read2.c) line = 272\n",
      "max_valid_DN = 65534\n",
      "hemi = 0\n",
      "x range =   91.3750000000,  124.4583333333\n",
      "y range =   40.0000000000,   50.0000000000\n",
      "outsize = 7940, 2400\n",
      "output = [/media/liwei/Data/GCOM-C_RSRF_Valid/reporjection/GC1SG1_20210618D01D_T0425_L2SG_RSRFQ_3001_Rs_PI02.tif]\n",
      "output = [/media/liwei/Data/GCOM-C_RSRF_Valid/reporjection/GC1SG1_20210618D01D_T0425_L2SG_RSRFQ_3001_Rs_PI02.xml]\n",
      "done...\n",
      "Reporjection Finished!\n",
      "Start 20210622\n"
     ]
    },
    {
     "name": "stderr",
     "output_type": "stream",
     "text": [
      "/tmp/ipykernel_2428263/3923884669.py:63: DeprecationWarning: open_rasterio is Deprecated in favor of rioxarray. For information about transitioning, see: https://corteva.github.io/rioxarray/stable/getting_started/getting_started.html\n",
      "  geotiff_da = xr.open_rasterio(filepath)\n"
     ]
    },
    {
     "name": "stdout",
     "output_type": "stream",
     "text": [
      "Start Reporjection Rs_PI01\n",
      "========================== Input parameters ==========================\n",
      "Input file              = /media/liwei/Data/GCOM-C_RSRF_Valid/tile/GC1SG1_20210622D01D_T0425_L2SG_RSRFQ_3001.h5\n",
      "Projection coordinates  = Geodetic Latitude/Longitude\n",
      "Pixel spacing           = 15.000000 sec\n",
      "Resampling method       = BL\n",
      "Data selection          = Image_data/Rs_PI01\n",
      "Output directory        = /media/liwei/Data/GCOM-C_RSRF_Valid/reporjection\n",
      "======================================================================\n",
      "product_type = L2/tile\n",
      "tile = 0425\n",
      "pid = GC1SG1_20210622D01D_T0425_L2SG_RSRFQ_3001\n",
      "data rank = 2\n",
      "data size = 1200/1200\n",
      "data type = unsigned short\n",
      "INFO: type of attr is int -> cast to unsigned short! function (H5_common_read2.c) line = 272\n",
      "max_valid_DN = 65534\n",
      "hemi = 0\n",
      "x range =   92.3208333333,  124.4583333333\n",
      "y range =   40.0000000000,   50.0000000000\n",
      "outsize = 7713, 2400\n",
      "output = [/media/liwei/Data/GCOM-C_RSRF_Valid/reporjection/GC1SG1_20210622D01D_T0425_L2SG_RSRFQ_3001_Rs_PI01.tif]\n",
      "output = [/media/liwei/Data/GCOM-C_RSRF_Valid/reporjection/GC1SG1_20210622D01D_T0425_L2SG_RSRFQ_3001_Rs_PI01.xml]\n",
      "done...\n",
      "Reporjection Finished!\n"
     ]
    },
    {
     "name": "stderr",
     "output_type": "stream",
     "text": [
      "/tmp/ipykernel_2428263/3923884669.py:63: DeprecationWarning: open_rasterio is Deprecated in favor of rioxarray. For information about transitioning, see: https://corteva.github.io/rioxarray/stable/getting_started/getting_started.html\n",
      "  geotiff_da = xr.open_rasterio(filepath)\n"
     ]
    },
    {
     "name": "stdout",
     "output_type": "stream",
     "text": [
      "Start Reporjection Rs_PI02\n",
      "========================== Input parameters ==========================\n",
      "Input file              = /media/liwei/Data/GCOM-C_RSRF_Valid/tile/GC1SG1_20210622D01D_T0425_L2SG_RSRFQ_3001.h5\n",
      "Projection coordinates  = Geodetic Latitude/Longitude\n",
      "Pixel spacing           = 15.000000 sec\n",
      "Resampling method       = BL\n",
      "Data selection          = Image_data/Rs_PI02\n",
      "Output directory        = /media/liwei/Data/GCOM-C_RSRF_Valid/reporjection\n",
      "======================================================================\n",
      "product_type = L2/tile\n",
      "tile = 0425\n",
      "pid = GC1SG1_20210622D01D_T0425_L2SG_RSRFQ_3001\n",
      "data rank = 2\n",
      "data size = 1200/1200\n",
      "data type = unsigned short\n",
      "INFO: type of attr is int -> cast to unsigned short! function (H5_common_read2.c) line = 272\n",
      "max_valid_DN = 65534\n",
      "hemi = 0\n",
      "x range =   92.3208333333,  124.4583333333\n",
      "y range =   40.0000000000,   50.0000000000\n",
      "outsize = 7713, 2400\n",
      "output = [/media/liwei/Data/GCOM-C_RSRF_Valid/reporjection/GC1SG1_20210622D01D_T0425_L2SG_RSRFQ_3001_Rs_PI02.tif]\n",
      "output = [/media/liwei/Data/GCOM-C_RSRF_Valid/reporjection/GC1SG1_20210622D01D_T0425_L2SG_RSRFQ_3001_Rs_PI02.xml]\n",
      "done...\n",
      "Reporjection Finished!\n"
     ]
    },
    {
     "name": "stderr",
     "output_type": "stream",
     "text": [
      "/tmp/ipykernel_2428263/3923884669.py:63: DeprecationWarning: open_rasterio is Deprecated in favor of rioxarray. For information about transitioning, see: https://corteva.github.io/rioxarray/stable/getting_started/getting_started.html\n",
      "  geotiff_da = xr.open_rasterio(filepath)\n"
     ]
    }
   ],
   "source": [
    "# Reflectance\n",
    "\n",
    "\n",
    "import os\n",
    "import gdal\n",
    "import numpy as np\n",
    "import xarray as xr\n",
    "from skimage.measure import block_reduce\n",
    "\n",
    "\n",
    "\n",
    "\n",
    "            \n",
    "\n",
    "\n",
    "# band = ['Rs_PI01']\n",
    "band = ['Rs_PI01','Rs_PI02']\n",
    "\n",
    "\n",
    "\n",
    "\n",
    "res = 0.005\n",
    "\n",
    "\n",
    "# site_name = 'ROI 1'\n",
    "# site = [-38.5,177] # ROI 1\n",
    "# tile = '1231'\n",
    "\n",
    "# site_name = 'ROI 2'\n",
    "# site = [-44.5,170.5] # ROI 2\n",
    "# tile = '1330'\n",
    "\n",
    "\n",
    "# site_name = 'ROI 1 test2'\n",
    "# site = [-38.3,177] # ROI 1\n",
    "# tile = '1231'\n",
    "\n",
    "# site_name = 'ROI 1 test1'\n",
    "# site = [-37.9,177.8] # ROI 1\n",
    "# tile = '1232'\n",
    "\n",
    "# site_name = 'test 1'\n",
    "# site = [16.75,96.5] # ROI 1\n",
    "# tile = '0727'\n",
    "\n",
    "# site_name = 'ROI 3'\n",
    "# site = [27,96.5] # ROI 3\n",
    "# tile = '0626'# ROI 3\n",
    "\n",
    "# site_name = 'ROI 6'\n",
    "# site = [46,114]\n",
    "# tile = '0425'\n",
    "\n",
    "# site_name = 'ROI 7'\n",
    "# site = [35.328,99.052]\n",
    "# tile = '0526'\n",
    "\n",
    "site_name = 'ROI 8'\n",
    "site = [42.990,107.043]\n",
    "tile = '0425'\n",
    "\n",
    "# site_name = 'ROI 9'\n",
    "# site = [41.7,104.6]\n",
    "# tile = '0425'\n",
    "\n",
    "# site_name = 'ROI 10'\n",
    "# site = [49.6,119.4]\n",
    "# tile = '0425'\n",
    "\n",
    "u_lat,d_lat = site[0]+0.06,site[0]-0.06\n",
    "l_lon,r_lon = site[1]-0.06,site[1]+0.06\n",
    "\n",
    "row = round((u_lat - d_lat) / res)\n",
    "col = round((r_lon - l_lon) / res)\n",
    "\n",
    "lat_x = np.linspace(u_lat,d_lat + res,row)\n",
    "\n",
    "# lat_x = np.linspace(d_lat,u_lat - res,row)\n",
    "lon_y = np.linspace(l_lon,r_lon - res,col)\n",
    "\n",
    "\n",
    "d_sgli = []\n",
    "with open(\"/home/liwei/Himawari_SGLI/{}_2020_PL.txt\".format(site_name), \"r\") as f:\n",
    "    for line in f.readlines():\n",
    "        line = line.strip('\\n') \n",
    "        if line[0:9] == 'SGLI TIME':\n",
    "            sgli = [line[10:14],line[15:17],line[18:20]]\n",
    "            \n",
    "            d_sgli.append(\"\".join(sgli))\n",
    "\n",
    "with open(\"/home/liwei/Himawari_SGLI/{}_2021_PL.txt\".format(site_name), \"r\") as f:\n",
    "    for line in f.readlines():\n",
    "        line = line.strip('\\n') \n",
    "        if line[0:9] == 'SGLI TIME':\n",
    "            sgli = [line[10:14],line[15:17],line[18:20]]\n",
    "            \n",
    "            d_sgli.append(\"\".join(sgli))\n",
    "\n",
    "                                                                                                                                                                                                                                                                        \n",
    "\n",
    "for date in d_sgli:\n",
    "    \n",
    "    print('Start {}'.format(date))\n",
    "    save_tile = '/media/liwei/Data/GCOM-C_RSRF_Valid/tile/'\n",
    "    save_Mosaic = '/media/liwei/Data/GCOM-C_RSRF_Valid/Mosaic/'\n",
    "    save_reporjection = '/media/liwei/Data/GCOM-C_RSRF_Valid/reporjection/'\n",
    "    try :\n",
    "        tile_file_name = download_tile(date,save_tile,tile)\n",
    "    except :\n",
    "        print( \"No file {}\".format(date))\n",
    "        pass\n",
    "\n",
    "    else:\n",
    "\n",
    "        for b in band:\n",
    "            if b[0] == 'R':\n",
    "                print('Start Reporjection {}'.format(b))\n",
    "                for fn in tile_file_name:\n",
    "                    reporjection_IMAGE(save_tile+fn,b,save_reporjection)\n",
    "                print('Reporjection Finished!')\n",
    "\n",
    "                save_path = '/media/liwei/Data/GCOM-C_RSRF_Valid/{}/{}/'.format(b,date)\n",
    "                mkdir(save_path)\n",
    "\n",
    "                file  = save_reporjection + tile_file_name[0][:-3] + '_{}.tif'.format(b)\n",
    "                data = SGLI_2_AHI_IMAGE(file,save_path+'{}_{}_{}.dat'.format(b,date,site_name))\n"
   ]
  },
  {
   "cell_type": "code",
   "execution_count": 4,
   "metadata": {
    "collapsed": true
   },
   "outputs": [
    {
     "name": "stdout",
     "output_type": "stream",
     "text": [
      "Start 20200714\n",
      "Start Reporjection QA_flag\n"
     ]
    },
    {
     "name": "stderr",
     "output_type": "stream",
     "text": [
      "free(): invalid next size (fast)\n",
      "Aborted (core dumped)\n",
      "/tmp/ipykernel_1932310/3923884669.py:79: DeprecationWarning: open_rasterio is Deprecated in favor of rioxarray. For information about transitioning, see: https://corteva.github.io/rioxarray/stable/getting_started/getting_started.html\n",
      "  geotiff_da = xr.open_rasterio(filepath)\n"
     ]
    },
    {
     "name": "stdout",
     "output_type": "stream",
     "text": [
      "Reporjection Finished!\n",
      "Start 20200729\n",
      "Start Reporjection QA_flag\n"
     ]
    },
    {
     "name": "stderr",
     "output_type": "stream",
     "text": [
      "free(): invalid next size (fast)\n",
      "Aborted (core dumped)\n",
      "/tmp/ipykernel_1932310/3923884669.py:79: DeprecationWarning: open_rasterio is Deprecated in favor of rioxarray. For information about transitioning, see: https://corteva.github.io/rioxarray/stable/getting_started/getting_started.html\n",
      "  geotiff_da = xr.open_rasterio(filepath)\n"
     ]
    },
    {
     "name": "stdout",
     "output_type": "stream",
     "text": [
      "Reporjection Finished!\n",
      "Start 20200802\n",
      "Start Reporjection QA_flag\n"
     ]
    },
    {
     "name": "stderr",
     "output_type": "stream",
     "text": [
      "free(): invalid next size (fast)\n",
      "Aborted (core dumped)\n",
      "/tmp/ipykernel_1932310/3923884669.py:79: DeprecationWarning: open_rasterio is Deprecated in favor of rioxarray. For information about transitioning, see: https://corteva.github.io/rioxarray/stable/getting_started/getting_started.html\n",
      "  geotiff_da = xr.open_rasterio(filepath)\n"
     ]
    },
    {
     "name": "stdout",
     "output_type": "stream",
     "text": [
      "Reporjection Finished!\n",
      "Start 20200813\n",
      "Start Reporjection QA_flag\n"
     ]
    },
    {
     "name": "stderr",
     "output_type": "stream",
     "text": [
      "free(): invalid next size (fast)\n",
      "Aborted (core dumped)\n",
      "/tmp/ipykernel_1932310/3923884669.py:79: DeprecationWarning: open_rasterio is Deprecated in favor of rioxarray. For information about transitioning, see: https://corteva.github.io/rioxarray/stable/getting_started/getting_started.html\n",
      "  geotiff_da = xr.open_rasterio(filepath)\n"
     ]
    },
    {
     "name": "stdout",
     "output_type": "stream",
     "text": [
      "Reporjection Finished!\n",
      "Start 20200817\n",
      "Start Reporjection QA_flag\n"
     ]
    },
    {
     "name": "stderr",
     "output_type": "stream",
     "text": [
      "free(): invalid next size (fast)\n",
      "Aborted (core dumped)\n",
      "/tmp/ipykernel_1932310/3923884669.py:79: DeprecationWarning: open_rasterio is Deprecated in favor of rioxarray. For information about transitioning, see: https://corteva.github.io/rioxarray/stable/getting_started/getting_started.html\n",
      "  geotiff_da = xr.open_rasterio(filepath)\n"
     ]
    },
    {
     "name": "stdout",
     "output_type": "stream",
     "text": [
      "Reporjection Finished!\n",
      "Start 20200821\n",
      "Start Reporjection QA_flag\n"
     ]
    },
    {
     "name": "stderr",
     "output_type": "stream",
     "text": [
      "free(): invalid next size (fast)\n",
      "Aborted (core dumped)\n",
      "/tmp/ipykernel_1932310/3923884669.py:79: DeprecationWarning: open_rasterio is Deprecated in favor of rioxarray. For information about transitioning, see: https://corteva.github.io/rioxarray/stable/getting_started/getting_started.html\n",
      "  geotiff_da = xr.open_rasterio(filepath)\n"
     ]
    },
    {
     "name": "stdout",
     "output_type": "stream",
     "text": [
      "Reporjection Finished!\n",
      "Start 20200825\n",
      "Start Reporjection QA_flag\n"
     ]
    },
    {
     "name": "stderr",
     "output_type": "stream",
     "text": [
      "free(): invalid next size (fast)\n",
      "Aborted (core dumped)\n",
      "/tmp/ipykernel_1932310/3923884669.py:79: DeprecationWarning: open_rasterio is Deprecated in favor of rioxarray. For information about transitioning, see: https://corteva.github.io/rioxarray/stable/getting_started/getting_started.html\n",
      "  geotiff_da = xr.open_rasterio(filepath)\n"
     ]
    },
    {
     "name": "stdout",
     "output_type": "stream",
     "text": [
      "Reporjection Finished!\n",
      "Start 20200905\n",
      "Start Reporjection QA_flag\n"
     ]
    },
    {
     "name": "stderr",
     "output_type": "stream",
     "text": [
      "free(): invalid next size (fast)\n",
      "Aborted (core dumped)\n",
      "/tmp/ipykernel_1932310/3923884669.py:79: DeprecationWarning: open_rasterio is Deprecated in favor of rioxarray. For information about transitioning, see: https://corteva.github.io/rioxarray/stable/getting_started/getting_started.html\n",
      "  geotiff_da = xr.open_rasterio(filepath)\n"
     ]
    },
    {
     "name": "stdout",
     "output_type": "stream",
     "text": [
      "Reporjection Finished!\n",
      "Start 20200909\n",
      "Start Reporjection QA_flag\n"
     ]
    },
    {
     "name": "stderr",
     "output_type": "stream",
     "text": [
      "free(): invalid next size (fast)\n",
      "Aborted (core dumped)\n",
      "/tmp/ipykernel_1932310/3923884669.py:79: DeprecationWarning: open_rasterio is Deprecated in favor of rioxarray. For information about transitioning, see: https://corteva.github.io/rioxarray/stable/getting_started/getting_started.html\n",
      "  geotiff_da = xr.open_rasterio(filepath)\n"
     ]
    },
    {
     "name": "stdout",
     "output_type": "stream",
     "text": [
      "Reporjection Finished!\n",
      "Start 20200928\n",
      "Start Reporjection QA_flag\n"
     ]
    },
    {
     "name": "stderr",
     "output_type": "stream",
     "text": [
      "free(): invalid next size (fast)\n",
      "Aborted (core dumped)\n",
      "/tmp/ipykernel_1932310/3923884669.py:79: DeprecationWarning: open_rasterio is Deprecated in favor of rioxarray. For information about transitioning, see: https://corteva.github.io/rioxarray/stable/getting_started/getting_started.html\n",
      "  geotiff_da = xr.open_rasterio(filepath)\n"
     ]
    },
    {
     "name": "stdout",
     "output_type": "stream",
     "text": [
      "Reporjection Finished!\n",
      "Start 20210123\n",
      "Start Reporjection QA_flag\n"
     ]
    },
    {
     "name": "stderr",
     "output_type": "stream",
     "text": [
      "free(): invalid next size (fast)\n",
      "Aborted (core dumped)\n",
      "/tmp/ipykernel_1932310/3923884669.py:79: DeprecationWarning: open_rasterio is Deprecated in favor of rioxarray. For information about transitioning, see: https://corteva.github.io/rioxarray/stable/getting_started/getting_started.html\n",
      "  geotiff_da = xr.open_rasterio(filepath)\n"
     ]
    },
    {
     "name": "stdout",
     "output_type": "stream",
     "text": [
      "Reporjection Finished!\n",
      "Start 20210207\n",
      "Start Reporjection QA_flag\n"
     ]
    },
    {
     "name": "stderr",
     "output_type": "stream",
     "text": [
      "free(): invalid next size (fast)\n",
      "Aborted (core dumped)\n",
      "/tmp/ipykernel_1932310/3923884669.py:79: DeprecationWarning: open_rasterio is Deprecated in favor of rioxarray. For information about transitioning, see: https://corteva.github.io/rioxarray/stable/getting_started/getting_started.html\n",
      "  geotiff_da = xr.open_rasterio(filepath)\n"
     ]
    },
    {
     "name": "stdout",
     "output_type": "stream",
     "text": [
      "Reporjection Finished!\n",
      "Start 20210222\n",
      "Start Reporjection QA_flag\n"
     ]
    },
    {
     "name": "stderr",
     "output_type": "stream",
     "text": [
      "free(): invalid next size (fast)\n",
      "Aborted (core dumped)\n",
      "/tmp/ipykernel_1932310/3923884669.py:79: DeprecationWarning: open_rasterio is Deprecated in favor of rioxarray. For information about transitioning, see: https://corteva.github.io/rioxarray/stable/getting_started/getting_started.html\n",
      "  geotiff_da = xr.open_rasterio(filepath)\n"
     ]
    },
    {
     "name": "stdout",
     "output_type": "stream",
     "text": [
      "Reporjection Finished!\n",
      "Start 20210226\n",
      "Start Reporjection QA_flag\n"
     ]
    },
    {
     "name": "stderr",
     "output_type": "stream",
     "text": [
      "free(): invalid next size (fast)\n",
      "Aborted (core dumped)\n",
      "/tmp/ipykernel_1932310/3923884669.py:79: DeprecationWarning: open_rasterio is Deprecated in favor of rioxarray. For information about transitioning, see: https://corteva.github.io/rioxarray/stable/getting_started/getting_started.html\n",
      "  geotiff_da = xr.open_rasterio(filepath)\n"
     ]
    },
    {
     "name": "stdout",
     "output_type": "stream",
     "text": [
      "Reporjection Finished!\n",
      "Start 20210313\n",
      "Start Reporjection QA_flag\n"
     ]
    },
    {
     "name": "stderr",
     "output_type": "stream",
     "text": [
      "free(): invalid next size (fast)\n",
      "Aborted (core dumped)\n",
      "/tmp/ipykernel_1932310/3923884669.py:79: DeprecationWarning: open_rasterio is Deprecated in favor of rioxarray. For information about transitioning, see: https://corteva.github.io/rioxarray/stable/getting_started/getting_started.html\n",
      "  geotiff_da = xr.open_rasterio(filepath)\n"
     ]
    },
    {
     "name": "stdout",
     "output_type": "stream",
     "text": [
      "Reporjection Finished!\n",
      "Start 20210328\n",
      "Start Reporjection QA_flag\n"
     ]
    },
    {
     "name": "stderr",
     "output_type": "stream",
     "text": [
      "free(): invalid next size (fast)\n",
      "Aborted (core dumped)\n",
      "/tmp/ipykernel_1932310/3923884669.py:79: DeprecationWarning: open_rasterio is Deprecated in favor of rioxarray. For information about transitioning, see: https://corteva.github.io/rioxarray/stable/getting_started/getting_started.html\n",
      "  geotiff_da = xr.open_rasterio(filepath)\n"
     ]
    },
    {
     "name": "stdout",
     "output_type": "stream",
     "text": [
      "Reporjection Finished!\n",
      "Start 20210401\n",
      "Start Reporjection QA_flag\n"
     ]
    },
    {
     "name": "stderr",
     "output_type": "stream",
     "text": [
      "free(): invalid next size (fast)\n",
      "Aborted (core dumped)\n",
      "/tmp/ipykernel_1932310/3923884669.py:79: DeprecationWarning: open_rasterio is Deprecated in favor of rioxarray. For information about transitioning, see: https://corteva.github.io/rioxarray/stable/getting_started/getting_started.html\n",
      "  geotiff_da = xr.open_rasterio(filepath)\n"
     ]
    },
    {
     "name": "stdout",
     "output_type": "stream",
     "text": [
      "Reporjection Finished!\n",
      "Start 20210416\n",
      "Start Reporjection QA_flag\n"
     ]
    },
    {
     "name": "stderr",
     "output_type": "stream",
     "text": [
      "free(): invalid next size (fast)\n",
      "Aborted (core dumped)\n",
      "/tmp/ipykernel_1932310/3923884669.py:79: DeprecationWarning: open_rasterio is Deprecated in favor of rioxarray. For information about transitioning, see: https://corteva.github.io/rioxarray/stable/getting_started/getting_started.html\n",
      "  geotiff_da = xr.open_rasterio(filepath)\n"
     ]
    },
    {
     "name": "stdout",
     "output_type": "stream",
     "text": [
      "Reporjection Finished!\n",
      "Start 20210501\n",
      "Start Reporjection QA_flag\n"
     ]
    },
    {
     "name": "stderr",
     "output_type": "stream",
     "text": [
      "free(): invalid next size (fast)\n",
      "Aborted (core dumped)\n",
      "/tmp/ipykernel_1932310/3923884669.py:79: DeprecationWarning: open_rasterio is Deprecated in favor of rioxarray. For information about transitioning, see: https://corteva.github.io/rioxarray/stable/getting_started/getting_started.html\n",
      "  geotiff_da = xr.open_rasterio(filepath)\n"
     ]
    },
    {
     "name": "stdout",
     "output_type": "stream",
     "text": [
      "Reporjection Finished!\n",
      "Start 20210505\n",
      "Start Reporjection QA_flag\n",
      "Reporjection Finished!\n"
     ]
    },
    {
     "name": "stderr",
     "output_type": "stream",
     "text": [
      "free(): invalid next size (fast)\n",
      "Aborted (core dumped)\n",
      "/tmp/ipykernel_1932310/3923884669.py:79: DeprecationWarning: open_rasterio is Deprecated in favor of rioxarray. For information about transitioning, see: https://corteva.github.io/rioxarray/stable/getting_started/getting_started.html\n",
      "  geotiff_da = xr.open_rasterio(filepath)\n"
     ]
    }
   ],
   "source": [
    "# QA flag\n",
    "\n",
    "band = ['QA_flag']\n",
    "\n",
    "res = 0.005\n",
    "                                                                                                                                                                                                                                                                       \n",
    "for date in d_sgli:\n",
    "    \n",
    "    print('Start {}'.format(date))\n",
    "    save_tile = '/media/liwei/Data/GCOM-C_RSRF_Valid/tile/'\n",
    "    save_Mosaic = '/media/liwei/Data/GCOM-C_RSRF_Valid/Mosaic/'\n",
    "    save_reporjection = '/media/liwei/Data/GCOM-C_RSRF_Valid/reporjection/'\n",
    "    try :\n",
    "        tile_file_name = download_tile(date,save_tile,tile)\n",
    "    except :\n",
    "        print( \"No file {}\".format(date))\n",
    "        pass\n",
    "\n",
    "    else:\n",
    "\n",
    "        for b in band:\n",
    "            if b[0] == 'Q':\n",
    "                print('Start Reporjection {}'.format(b))\n",
    "                for fn in tile_file_name:\n",
    "                    reporjection_QA_05(save_tile+fn,b,save_reporjection)\n",
    "                print('Reporjection Finished!')\n",
    "\n",
    "                save_path = '/media/liwei/Data/GCOM-C_RSRF_Valid/{}/{}/'.format(b,date)\n",
    "                mkdir(save_path)\n",
    "\n",
    "                file  = save_reporjection + tile_file_name[0][:-3] + '_{}.tif'.format(b)\n",
    "                data = SGLI_2_AHI_QA(file,save_path+'{}_{}_{}_05.dat'.format(b,date,site_name))\n"
   ]
  },
  {
   "cell_type": "code",
   "execution_count": 10,
   "metadata": {},
   "outputs": [],
   "source": [
    "from ftplib import FTP\n",
    "class SGLI_L2_Downloader:\n",
    "    \n",
    "    def __init__ (self, User_ID , ProductName, Ver, Date , Tile , Obrit ,ParaVer, Target_path):\n",
    "        self.User_ID = User_ID\n",
    "        self.ProductName = ProductName\n",
    "        self.Ver = Ver\n",
    "        self.Date = Date\n",
    "        self.Tile = Tile\n",
    "        self.Obrit = Obrit\n",
    "        self.ParaVer = ParaVer\n",
    "        self.Target_path = Target_path\n",
    "        \n",
    "        \n",
    "    def path (self):\n",
    "        return '/standard/GCOM-C/GCOM-C.SGLI/L2.LAND.{}/{}/{}/{}/{}'.format(self.ProductName, self.Ver, self.Date[0:4], self.Date[4:6], self.Date[6:8])\n",
    "\n",
    "    def filename (self):\n",
    "        return 'GC1SG1_{}{}01D_T{}_L2SG_{}Q_{}01{}.h5'.format(self.Date, self.Obrit, self.Tile, self.ProductName, self.Ver, self.ParaVer)\n",
    "    \n",
    "    def login (self):\n",
    "        ftp_addr = 'ftp.gportal.jaxa.jp'\n",
    "        f = FTP(ftp_addr)\n",
    "        f.login(self.User_ID,'anonymous')\n",
    "        \n",
    "        return f\n",
    "    \n",
    "    def download (self, f):\n",
    "        remote_filepath = self.path()\n",
    "        f.cwd(remote_filepath)\n",
    "        list=f.nlst()\n",
    "\n",
    "        bufsize=1024\n",
    "        data = open ('{}{}'.format(self.Target_path, self.filename()), 'wb')\n",
    "        filename = 'RETR ' + self.filename()\n",
    "        f.retrbinary(filename,data.write,bufsize)\n",
    "        \n",
    "    def logout (self, f):\n",
    "        f.quit()\n",
    "    \n",
    "def reporjection_IMAGE(filename,Band,Target_path):\n",
    "    \n",
    "    #print(path)\n",
    "    os.system('/media/liwei/Data/GCOM-C_RSRF/SGLI_geo_map_linux.exe {} -d Image_data/{} -o {} -s 7.5'.format(filename,Band,Target_path[:-1]))         \n",
    "        \n",
    "def mkdir(path):\n",
    "    folder = os.path.exists(path) \n",
    "    if not folder:\n",
    "        os.makedirs(path)\n",
    "        \n",
    "    \n",
    "\n",
    "        \n",
    "def SGLI_2_AHI_IMAGE(filepath,output_path):\n",
    "    geotiff_da = xr.open_rasterio(filepath)\n",
    "    data = geotiff_da.interp(x=lon_y,y=lat_x,method=\"nearest\")\n",
    "    data = np.where(data != 65535, data ,np.nan)\n",
    "    data = data.reshape(row,col)\n",
    "\n",
    "    if b == 'Lt_PI01':\n",
    "        data = data * 0.00661397 - 66.22\n",
    "        data = data.reshape(row,col)\n",
    "    elif b == 'Lt_PI02':\n",
    "        data = data * 0.00893582 - 89.4667\n",
    "        data = block_reduce(data, block_size=(2,2), func=np.nanmean)\n",
    "#     \n",
    "    SR_file=open(output_path,'wb')\n",
    "    data.astype('f4').tofile(SR_file)\n",
    "    SR_file.close()\n",
    "    return data\n",
    "\n",
    "\n",
    "    \n"
   ]
  },
  {
   "cell_type": "code",
   "execution_count": 11,
   "metadata": {},
   "outputs": [],
   "source": [
    "\n",
    "def download_tile(date,save_tile,tile):\n",
    "    tile_file_name = []\n",
    "    g = SGLI_L2_Downloader(\n",
    "        'galiwei ' ,\n",
    "        'LTOA', \n",
    "        '2', \n",
    "         date , \n",
    "         tile, \n",
    "        'D' , \n",
    "        '1' ,\n",
    "         save_tile\n",
    "        )\n",
    "    f = g.login()\n",
    "    g.download(f)\n",
    "    fn = g.filename()\n",
    "    tile_file_name.append(fn) \n",
    "    g.logout(f)\n",
    "    \n",
    "    return tile_file_name"
   ]
  },
  {
   "cell_type": "code",
   "execution_count": 12,
   "metadata": {
    "scrolled": true
   },
   "outputs": [
    {
     "name": "stdout",
     "output_type": "stream",
     "text": [
      "Start 20200714\n",
      "Start Reporjection Lt_PI01\n",
      "========================== Input parameters ==========================\n",
      "Input file              = /media/liwei/Data/GCOM-C_RSRF_Valid/tile/GC1SG1_20200714D01D_T0425_L2SG_LTOAQ_2011.h5\n",
      "Projection coordinates  = Geodetic Latitude/Longitude\n",
      "Pixel spacing           = 7.500000 sec\n",
      "Resampling method       = BL\n",
      "Data selection          = Image_data/Lt_PI01\n",
      "Output directory        = /media/liwei/Data/GCOM-C_RSRF_Valid/reporjection\n",
      "======================================================================\n",
      "product_type = L2/tile\n",
      "tile = 0425\n",
      "pid = GC1SG1_20200714D01D_T0425_L2SG_LTOAQ_2011\n",
      "data rank = 2\n",
      "data size = 1200/1200\n",
      "data type = unsigned short\n",
      "max_valid_DN = 65534\n",
      "hemi = 0\n",
      "x range =   96.6854166667,  124.4583333333\n",
      "y range =   40.0000000000,   50.0000000000\n",
      "outsize = 13331, 4800\n",
      "output = [/media/liwei/Data/GCOM-C_RSRF_Valid/reporjection/GC1SG1_20200714D01D_T0425_L2SG_LTOAQ_2011_Lt_PI01.tif]\n",
      "output = [/media/liwei/Data/GCOM-C_RSRF_Valid/reporjection/GC1SG1_20200714D01D_T0425_L2SG_LTOAQ_2011_Lt_PI01.xml]\n",
      "done...\n",
      "Reporjection Finished!\n",
      "Start Reporjection Lt_PI02\n"
     ]
    },
    {
     "name": "stderr",
     "output_type": "stream",
     "text": [
      "/tmp/ipykernel_1776687/1007119598.py:55: DeprecationWarning: open_rasterio is Deprecated in favor of rioxarray. For information about transitioning, see: https://corteva.github.io/rioxarray/stable/getting_started/getting_started.html\n",
      "  geotiff_da = xr.open_rasterio(filepath)\n"
     ]
    },
    {
     "name": "stdout",
     "output_type": "stream",
     "text": [
      "========================== Input parameters ==========================\n",
      "Input file              = /media/liwei/Data/GCOM-C_RSRF_Valid/tile/GC1SG1_20200714D01D_T0425_L2SG_LTOAQ_2011.h5\n",
      "Projection coordinates  = Geodetic Latitude/Longitude\n",
      "Pixel spacing           = 7.500000 sec\n",
      "Resampling method       = BL\n",
      "Data selection          = Image_data/Lt_PI02\n",
      "Output directory        = /media/liwei/Data/GCOM-C_RSRF_Valid/reporjection\n",
      "======================================================================\n",
      "product_type = L2/tile\n",
      "tile = 0425\n",
      "pid = GC1SG1_20200714D01D_T0425_L2SG_LTOAQ_2011\n",
      "data rank = 2\n",
      "data size = 1200/1200\n",
      "data type = unsigned short\n",
      "max_valid_DN = 65534\n",
      "hemi = 0\n",
      "x range =   96.7083333333,  124.4583333333\n",
      "y range =   40.0000000000,   50.0000000000\n",
      "outsize = 13320, 4800\n",
      "output = [/media/liwei/Data/GCOM-C_RSRF_Valid/reporjection/GC1SG1_20200714D01D_T0425_L2SG_LTOAQ_2011_Lt_PI02.tif]\n",
      "output = [/media/liwei/Data/GCOM-C_RSRF_Valid/reporjection/GC1SG1_20200714D01D_T0425_L2SG_LTOAQ_2011_Lt_PI02.xml]\n",
      "done...\n",
      "Reporjection Finished!\n",
      "Start 20200729\n"
     ]
    },
    {
     "name": "stderr",
     "output_type": "stream",
     "text": [
      "/tmp/ipykernel_1776687/1007119598.py:55: DeprecationWarning: open_rasterio is Deprecated in favor of rioxarray. For information about transitioning, see: https://corteva.github.io/rioxarray/stable/getting_started/getting_started.html\n",
      "  geotiff_da = xr.open_rasterio(filepath)\n"
     ]
    },
    {
     "name": "stdout",
     "output_type": "stream",
     "text": [
      "Start Reporjection Lt_PI01\n",
      "========================== Input parameters ==========================\n",
      "Input file              = /media/liwei/Data/GCOM-C_RSRF_Valid/tile/GC1SG1_20200729D01D_T0425_L2SG_LTOAQ_2011.h5\n",
      "Projection coordinates  = Geodetic Latitude/Longitude\n",
      "Pixel spacing           = 7.500000 sec\n",
      "Resampling method       = BL\n",
      "Data selection          = Image_data/Lt_PI01\n",
      "Output directory        = /media/liwei/Data/GCOM-C_RSRF_Valid/reporjection\n",
      "======================================================================\n",
      "product_type = L2/tile\n",
      "tile = 0425\n",
      "pid = GC1SG1_20200729D01D_T0425_L2SG_LTOAQ_2011\n",
      "data rank = 2\n",
      "data size = 1200/1200\n",
      "data type = unsigned short\n",
      "max_valid_DN = 65534\n",
      "hemi = 0\n",
      "x range =   95.9687500000,  124.4583333333\n",
      "y range =   40.0000000000,   50.0000000000\n",
      "outsize = 13675, 4800\n",
      "output = [/media/liwei/Data/GCOM-C_RSRF_Valid/reporjection/GC1SG1_20200729D01D_T0425_L2SG_LTOAQ_2011_Lt_PI01.tif]\n",
      "output = [/media/liwei/Data/GCOM-C_RSRF_Valid/reporjection/GC1SG1_20200729D01D_T0425_L2SG_LTOAQ_2011_Lt_PI01.xml]\n",
      "done...\n",
      "Reporjection Finished!\n"
     ]
    },
    {
     "name": "stderr",
     "output_type": "stream",
     "text": [
      "/tmp/ipykernel_1776687/1007119598.py:55: DeprecationWarning: open_rasterio is Deprecated in favor of rioxarray. For information about transitioning, see: https://corteva.github.io/rioxarray/stable/getting_started/getting_started.html\n",
      "  geotiff_da = xr.open_rasterio(filepath)\n"
     ]
    },
    {
     "name": "stdout",
     "output_type": "stream",
     "text": [
      "Start Reporjection Lt_PI02\n",
      "========================== Input parameters ==========================\n",
      "Input file              = /media/liwei/Data/GCOM-C_RSRF_Valid/tile/GC1SG1_20200729D01D_T0425_L2SG_LTOAQ_2011.h5\n",
      "Projection coordinates  = Geodetic Latitude/Longitude\n",
      "Pixel spacing           = 7.500000 sec\n",
      "Resampling method       = BL\n",
      "Data selection          = Image_data/Lt_PI02\n",
      "Output directory        = /media/liwei/Data/GCOM-C_RSRF_Valid/reporjection\n",
      "======================================================================\n",
      "product_type = L2/tile\n",
      "tile = 0425\n",
      "pid = GC1SG1_20200729D01D_T0425_L2SG_LTOAQ_2011\n",
      "data rank = 2\n",
      "data size = 1200/1200\n",
      "data type = unsigned short\n",
      "max_valid_DN = 65534\n",
      "hemi = 0\n",
      "x range =   95.9895833333,  124.4583333333\n",
      "y range =   40.0000000000,   50.0000000000\n",
      "outsize = 13665, 4800\n",
      "output = [/media/liwei/Data/GCOM-C_RSRF_Valid/reporjection/GC1SG1_20200729D01D_T0425_L2SG_LTOAQ_2011_Lt_PI02.tif]\n",
      "output = [/media/liwei/Data/GCOM-C_RSRF_Valid/reporjection/GC1SG1_20200729D01D_T0425_L2SG_LTOAQ_2011_Lt_PI02.xml]\n",
      "done...\n",
      "Reporjection Finished!\n",
      "Start 20200802\n"
     ]
    },
    {
     "name": "stderr",
     "output_type": "stream",
     "text": [
      "/tmp/ipykernel_1776687/1007119598.py:55: DeprecationWarning: open_rasterio is Deprecated in favor of rioxarray. For information about transitioning, see: https://corteva.github.io/rioxarray/stable/getting_started/getting_started.html\n",
      "  geotiff_da = xr.open_rasterio(filepath)\n"
     ]
    },
    {
     "name": "stdout",
     "output_type": "stream",
     "text": [
      "Start Reporjection Lt_PI01\n",
      "========================== Input parameters ==========================\n",
      "Input file              = /media/liwei/Data/GCOM-C_RSRF_Valid/tile/GC1SG1_20200802D01D_T0425_L2SG_LTOAQ_2011.h5\n",
      "Projection coordinates  = Geodetic Latitude/Longitude\n",
      "Pixel spacing           = 7.500000 sec\n",
      "Resampling method       = BL\n",
      "Data selection          = Image_data/Lt_PI01\n",
      "Output directory        = /media/liwei/Data/GCOM-C_RSRF_Valid/reporjection\n",
      "======================================================================\n",
      "product_type = L2/tile\n",
      "tile = 0425\n",
      "pid = GC1SG1_20200802D01D_T0425_L2SG_LTOAQ_2011\n",
      "data rank = 2\n",
      "data size = 1200/1200\n",
      "data type = unsigned short\n",
      "max_valid_DN = 65534\n",
      "hemi = 0\n",
      "x range =   97.4583333333,  120.4020833333\n",
      "y range =   40.0000000000,   50.0000000000\n",
      "outsize = 11013, 4800\n",
      "output = [/media/liwei/Data/GCOM-C_RSRF_Valid/reporjection/GC1SG1_20200802D01D_T0425_L2SG_LTOAQ_2011_Lt_PI01.tif]\n",
      "output = [/media/liwei/Data/GCOM-C_RSRF_Valid/reporjection/GC1SG1_20200802D01D_T0425_L2SG_LTOAQ_2011_Lt_PI01.xml]\n",
      "done...\n",
      "Reporjection Finished!\n",
      "Start Reporjection Lt_PI02\n"
     ]
    },
    {
     "name": "stderr",
     "output_type": "stream",
     "text": [
      "/tmp/ipykernel_1776687/1007119598.py:55: DeprecationWarning: open_rasterio is Deprecated in favor of rioxarray. For information about transitioning, see: https://corteva.github.io/rioxarray/stable/getting_started/getting_started.html\n",
      "  geotiff_da = xr.open_rasterio(filepath)\n"
     ]
    },
    {
     "name": "stdout",
     "output_type": "stream",
     "text": [
      "========================== Input parameters ==========================\n",
      "Input file              = /media/liwei/Data/GCOM-C_RSRF_Valid/tile/GC1SG1_20200802D01D_T0425_L2SG_LTOAQ_2011.h5\n",
      "Projection coordinates  = Geodetic Latitude/Longitude\n",
      "Pixel spacing           = 7.500000 sec\n",
      "Resampling method       = BL\n",
      "Data selection          = Image_data/Lt_PI02\n",
      "Output directory        = /media/liwei/Data/GCOM-C_RSRF_Valid/reporjection\n",
      "======================================================================\n",
      "product_type = L2/tile\n",
      "tile = 0425\n",
      "pid = GC1SG1_20200802D01D_T0425_L2SG_LTOAQ_2011\n",
      "data rank = 2\n",
      "data size = 1200/1200\n",
      "data type = unsigned short\n",
      "max_valid_DN = 65534\n",
      "hemi = 0\n",
      "x range =   97.4812500000,  120.4020833333\n",
      "y range =   40.0000000000,   50.0000000000\n",
      "outsize = 11002, 4800\n",
      "output = [/media/liwei/Data/GCOM-C_RSRF_Valid/reporjection/GC1SG1_20200802D01D_T0425_L2SG_LTOAQ_2011_Lt_PI02.tif]\n",
      "output = [/media/liwei/Data/GCOM-C_RSRF_Valid/reporjection/GC1SG1_20200802D01D_T0425_L2SG_LTOAQ_2011_Lt_PI02.xml]\n",
      "done...\n",
      "Reporjection Finished!\n",
      "Start 20200813\n"
     ]
    },
    {
     "name": "stderr",
     "output_type": "stream",
     "text": [
      "/tmp/ipykernel_1776687/1007119598.py:55: DeprecationWarning: open_rasterio is Deprecated in favor of rioxarray. For information about transitioning, see: https://corteva.github.io/rioxarray/stable/getting_started/getting_started.html\n",
      "  geotiff_da = xr.open_rasterio(filepath)\n"
     ]
    },
    {
     "name": "stdout",
     "output_type": "stream",
     "text": [
      "Start Reporjection Lt_PI01\n",
      "========================== Input parameters ==========================\n",
      "Input file              = /media/liwei/Data/GCOM-C_RSRF_Valid/tile/GC1SG1_20200813D01D_T0425_L2SG_LTOAQ_2011.h5\n",
      "Projection coordinates  = Geodetic Latitude/Longitude\n",
      "Pixel spacing           = 7.500000 sec\n",
      "Resampling method       = BL\n",
      "Data selection          = Image_data/Lt_PI01\n",
      "Output directory        = /media/liwei/Data/GCOM-C_RSRF_Valid/reporjection\n",
      "======================================================================\n",
      "product_type = L2/tile\n",
      "tile = 0425\n",
      "pid = GC1SG1_20200813D01D_T0425_L2SG_LTOAQ_2011\n",
      "data rank = 2\n",
      "data size = 1200/1200\n",
      "data type = unsigned short\n",
      "max_valid_DN = 65534\n",
      "hemi = 0\n",
      "x range =   95.2604166667,  124.4583333333\n",
      "y range =   40.0000000000,   50.0000000000\n",
      "outsize = 14015, 4800\n",
      "output = [/media/liwei/Data/GCOM-C_RSRF_Valid/reporjection/GC1SG1_20200813D01D_T0425_L2SG_LTOAQ_2011_Lt_PI01.tif]\n",
      "output = [/media/liwei/Data/GCOM-C_RSRF_Valid/reporjection/GC1SG1_20200813D01D_T0425_L2SG_LTOAQ_2011_Lt_PI01.xml]\n",
      "done...\n",
      "Reporjection Finished!\n"
     ]
    },
    {
     "name": "stderr",
     "output_type": "stream",
     "text": [
      "/tmp/ipykernel_1776687/1007119598.py:55: DeprecationWarning: open_rasterio is Deprecated in favor of rioxarray. For information about transitioning, see: https://corteva.github.io/rioxarray/stable/getting_started/getting_started.html\n",
      "  geotiff_da = xr.open_rasterio(filepath)\n"
     ]
    },
    {
     "name": "stdout",
     "output_type": "stream",
     "text": [
      "Start Reporjection Lt_PI02\n",
      "========================== Input parameters ==========================\n",
      "Input file              = /media/liwei/Data/GCOM-C_RSRF_Valid/tile/GC1SG1_20200813D01D_T0425_L2SG_LTOAQ_2011.h5\n",
      "Projection coordinates  = Geodetic Latitude/Longitude\n",
      "Pixel spacing           = 7.500000 sec\n",
      "Resampling method       = BL\n",
      "Data selection          = Image_data/Lt_PI02\n",
      "Output directory        = /media/liwei/Data/GCOM-C_RSRF_Valid/reporjection\n",
      "======================================================================\n",
      "product_type = L2/tile\n",
      "tile = 0425\n",
      "pid = GC1SG1_20200813D01D_T0425_L2SG_LTOAQ_2011\n",
      "data rank = 2\n",
      "data size = 1200/1200\n",
      "data type = unsigned short\n",
      "max_valid_DN = 65534\n",
      "hemi = 0\n",
      "x range =   95.2833333333,  124.4583333333\n",
      "y range =   40.0000000000,   50.0000000000\n",
      "outsize = 14004, 4800\n",
      "output = [/media/liwei/Data/GCOM-C_RSRF_Valid/reporjection/GC1SG1_20200813D01D_T0425_L2SG_LTOAQ_2011_Lt_PI02.tif]\n",
      "output = [/media/liwei/Data/GCOM-C_RSRF_Valid/reporjection/GC1SG1_20200813D01D_T0425_L2SG_LTOAQ_2011_Lt_PI02.xml]\n",
      "done...\n",
      "Reporjection Finished!\n"
     ]
    },
    {
     "name": "stderr",
     "output_type": "stream",
     "text": [
      "/tmp/ipykernel_1776687/1007119598.py:55: DeprecationWarning: open_rasterio is Deprecated in favor of rioxarray. For information about transitioning, see: https://corteva.github.io/rioxarray/stable/getting_started/getting_started.html\n",
      "  geotiff_da = xr.open_rasterio(filepath)\n"
     ]
    },
    {
     "name": "stdout",
     "output_type": "stream",
     "text": [
      "Start 20200817\n",
      "Start Reporjection Lt_PI01\n",
      "========================== Input parameters ==========================\n",
      "Input file              = /media/liwei/Data/GCOM-C_RSRF_Valid/tile/GC1SG1_20200817D01D_T0425_L2SG_LTOAQ_2011.h5\n",
      "Projection coordinates  = Geodetic Latitude/Longitude\n",
      "Pixel spacing           = 7.500000 sec\n",
      "Resampling method       = BL\n",
      "Data selection          = Image_data/Lt_PI01\n",
      "Output directory        = /media/liwei/Data/GCOM-C_RSRF_Valid/reporjection\n",
      "======================================================================\n",
      "product_type = L2/tile\n",
      "tile = 0425\n",
      "pid = GC1SG1_20200817D01D_T0425_L2SG_LTOAQ_2011\n",
      "data rank = 2\n",
      "data size = 1200/1200\n",
      "data type = unsigned short\n",
      "max_valid_DN = 65534\n",
      "hemi = 0\n",
      "x range =   96.7625000000,  124.4583333333\n",
      "y range =   40.0000000000,   50.0000000000\n",
      "outsize = 13294, 4800\n",
      "output = [/media/liwei/Data/GCOM-C_RSRF_Valid/reporjection/GC1SG1_20200817D01D_T0425_L2SG_LTOAQ_2011_Lt_PI01.tif]\n",
      "output = [/media/liwei/Data/GCOM-C_RSRF_Valid/reporjection/GC1SG1_20200817D01D_T0425_L2SG_LTOAQ_2011_Lt_PI01.xml]\n",
      "done...\n",
      "Reporjection Finished!\n",
      "Start Reporjection Lt_PI02\n"
     ]
    },
    {
     "name": "stderr",
     "output_type": "stream",
     "text": [
      "/tmp/ipykernel_1776687/1007119598.py:55: DeprecationWarning: open_rasterio is Deprecated in favor of rioxarray. For information about transitioning, see: https://corteva.github.io/rioxarray/stable/getting_started/getting_started.html\n",
      "  geotiff_da = xr.open_rasterio(filepath)\n"
     ]
    },
    {
     "name": "stdout",
     "output_type": "stream",
     "text": [
      "========================== Input parameters ==========================\n",
      "Input file              = /media/liwei/Data/GCOM-C_RSRF_Valid/tile/GC1SG1_20200817D01D_T0425_L2SG_LTOAQ_2011.h5\n",
      "Projection coordinates  = Geodetic Latitude/Longitude\n",
      "Pixel spacing           = 7.500000 sec\n",
      "Resampling method       = BL\n",
      "Data selection          = Image_data/Lt_PI02\n",
      "Output directory        = /media/liwei/Data/GCOM-C_RSRF_Valid/reporjection\n",
      "======================================================================\n",
      "product_type = L2/tile\n",
      "tile = 0425\n",
      "pid = GC1SG1_20200817D01D_T0425_L2SG_LTOAQ_2011\n",
      "data rank = 2\n",
      "data size = 1200/1200\n",
      "data type = unsigned short\n",
      "max_valid_DN = 65534\n",
      "hemi = 0\n",
      "x range =   96.7833333333,  124.4583333333\n",
      "y range =   40.0000000000,   50.0000000000\n",
      "outsize = 13284, 4800\n",
      "output = [/media/liwei/Data/GCOM-C_RSRF_Valid/reporjection/GC1SG1_20200817D01D_T0425_L2SG_LTOAQ_2011_Lt_PI02.tif]\n",
      "output = [/media/liwei/Data/GCOM-C_RSRF_Valid/reporjection/GC1SG1_20200817D01D_T0425_L2SG_LTOAQ_2011_Lt_PI02.xml]\n",
      "done...\n",
      "Reporjection Finished!\n",
      "Start 20200821\n"
     ]
    },
    {
     "name": "stderr",
     "output_type": "stream",
     "text": [
      "/tmp/ipykernel_1776687/1007119598.py:55: DeprecationWarning: open_rasterio is Deprecated in favor of rioxarray. For information about transitioning, see: https://corteva.github.io/rioxarray/stable/getting_started/getting_started.html\n",
      "  geotiff_da = xr.open_rasterio(filepath)\n"
     ]
    },
    {
     "name": "stdout",
     "output_type": "stream",
     "text": [
      "Start Reporjection Lt_PI01\n",
      "========================== Input parameters ==========================\n",
      "Input file              = /media/liwei/Data/GCOM-C_RSRF_Valid/tile/GC1SG1_20200821D01D_T0425_L2SG_LTOAQ_2011.h5\n",
      "Projection coordinates  = Geodetic Latitude/Longitude\n",
      "Pixel spacing           = 7.500000 sec\n",
      "Resampling method       = BL\n",
      "Data selection          = Image_data/Lt_PI01\n",
      "Output directory        = /media/liwei/Data/GCOM-C_RSRF_Valid/reporjection\n",
      "======================================================================\n",
      "product_type = L2/tile\n",
      "tile = 0425\n",
      "pid = GC1SG1_20200821D01D_T0425_L2SG_LTOAQ_2011\n",
      "data rank = 2\n",
      "data size = 1200/1200\n",
      "data type = unsigned short\n",
      "max_valid_DN = 65534\n",
      "hemi = 0\n",
      "x range =   98.2520833333,  121.1916666667\n",
      "y range =   40.0000000000,   50.0000000000\n",
      "outsize = 11011, 4800\n",
      "output = [/media/liwei/Data/GCOM-C_RSRF_Valid/reporjection/GC1SG1_20200821D01D_T0425_L2SG_LTOAQ_2011_Lt_PI01.tif]\n",
      "output = [/media/liwei/Data/GCOM-C_RSRF_Valid/reporjection/GC1SG1_20200821D01D_T0425_L2SG_LTOAQ_2011_Lt_PI01.xml]\n",
      "done...\n",
      "Reporjection Finished!\n",
      "Start Reporjection Lt_PI02\n"
     ]
    },
    {
     "name": "stderr",
     "output_type": "stream",
     "text": [
      "/tmp/ipykernel_1776687/1007119598.py:55: DeprecationWarning: open_rasterio is Deprecated in favor of rioxarray. For information about transitioning, see: https://corteva.github.io/rioxarray/stable/getting_started/getting_started.html\n",
      "  geotiff_da = xr.open_rasterio(filepath)\n"
     ]
    },
    {
     "name": "stdout",
     "output_type": "stream",
     "text": [
      "========================== Input parameters ==========================\n",
      "Input file              = /media/liwei/Data/GCOM-C_RSRF_Valid/tile/GC1SG1_20200821D01D_T0425_L2SG_LTOAQ_2011.h5\n",
      "Projection coordinates  = Geodetic Latitude/Longitude\n",
      "Pixel spacing           = 7.500000 sec\n",
      "Resampling method       = BL\n",
      "Data selection          = Image_data/Lt_PI02\n",
      "Output directory        = /media/liwei/Data/GCOM-C_RSRF_Valid/reporjection\n",
      "======================================================================\n",
      "product_type = L2/tile\n",
      "tile = 0425\n",
      "pid = GC1SG1_20200821D01D_T0425_L2SG_LTOAQ_2011\n",
      "data rank = 2\n",
      "data size = 1200/1200\n",
      "data type = unsigned short\n",
      "max_valid_DN = 65534\n",
      "hemi = 0\n",
      "x range =   98.2625000000,  121.1916666667\n",
      "y range =   40.0000000000,   50.0000000000\n",
      "outsize = 11006, 4800\n",
      "output = [/media/liwei/Data/GCOM-C_RSRF_Valid/reporjection/GC1SG1_20200821D01D_T0425_L2SG_LTOAQ_2011_Lt_PI02.tif]\n",
      "output = [/media/liwei/Data/GCOM-C_RSRF_Valid/reporjection/GC1SG1_20200821D01D_T0425_L2SG_LTOAQ_2011_Lt_PI02.xml]\n",
      "done...\n",
      "Reporjection Finished!\n",
      "Start 20200825\n"
     ]
    },
    {
     "name": "stderr",
     "output_type": "stream",
     "text": [
      "/tmp/ipykernel_1776687/1007119598.py:55: DeprecationWarning: open_rasterio is Deprecated in favor of rioxarray. For information about transitioning, see: https://corteva.github.io/rioxarray/stable/getting_started/getting_started.html\n",
      "  geotiff_da = xr.open_rasterio(filepath)\n"
     ]
    },
    {
     "name": "stdout",
     "output_type": "stream",
     "text": [
      "Start Reporjection Lt_PI01\n",
      "========================== Input parameters ==========================\n",
      "Input file              = /media/liwei/Data/GCOM-C_RSRF_Valid/tile/GC1SG1_20200825D01D_T0425_L2SG_LTOAQ_2011.h5\n",
      "Projection coordinates  = Geodetic Latitude/Longitude\n",
      "Pixel spacing           = 7.500000 sec\n",
      "Resampling method       = BL\n",
      "Data selection          = Image_data/Lt_PI01\n",
      "Output directory        = /media/liwei/Data/GCOM-C_RSRF_Valid/reporjection\n",
      "======================================================================\n",
      "product_type = L2/tile\n",
      "tile = 0425\n",
      "pid = GC1SG1_20200825D01D_T0425_L2SG_LTOAQ_2011\n",
      "data rank = 2\n",
      "data size = 1200/1200\n",
      "data type = unsigned short\n",
      "max_valid_DN = 65534\n",
      "hemi = 0\n",
      "x range =   91.3770833333,  122.6833333333\n",
      "y range =   40.0000000000,   50.0000000000\n",
      "outsize = 15027, 4800\n",
      "output = [/media/liwei/Data/GCOM-C_RSRF_Valid/reporjection/GC1SG1_20200825D01D_T0425_L2SG_LTOAQ_2011_Lt_PI01.tif]\n",
      "output = [/media/liwei/Data/GCOM-C_RSRF_Valid/reporjection/GC1SG1_20200825D01D_T0425_L2SG_LTOAQ_2011_Lt_PI01.xml]\n",
      "done...\n",
      "Reporjection Finished!\n",
      "Start Reporjection Lt_PI02\n"
     ]
    },
    {
     "name": "stderr",
     "output_type": "stream",
     "text": [
      "/tmp/ipykernel_1776687/1007119598.py:55: DeprecationWarning: open_rasterio is Deprecated in favor of rioxarray. For information about transitioning, see: https://corteva.github.io/rioxarray/stable/getting_started/getting_started.html\n",
      "  geotiff_da = xr.open_rasterio(filepath)\n"
     ]
    },
    {
     "name": "stdout",
     "output_type": "stream",
     "text": [
      "========================== Input parameters ==========================\n",
      "Input file              = /media/liwei/Data/GCOM-C_RSRF_Valid/tile/GC1SG1_20200825D01D_T0425_L2SG_LTOAQ_2011.h5\n",
      "Projection coordinates  = Geodetic Latitude/Longitude\n",
      "Pixel spacing           = 7.500000 sec\n",
      "Resampling method       = BL\n",
      "Data selection          = Image_data/Lt_PI02\n",
      "Output directory        = /media/liwei/Data/GCOM-C_RSRF_Valid/reporjection\n",
      "======================================================================\n",
      "product_type = L2/tile\n",
      "tile = 0425\n",
      "pid = GC1SG1_20200825D01D_T0425_L2SG_LTOAQ_2011\n",
      "data rank = 2\n",
      "data size = 1200/1200\n",
      "data type = unsigned short\n",
      "max_valid_DN = 65534\n",
      "hemi = 0\n",
      "x range =   91.3770833333,  122.6833333333\n",
      "y range =   40.0000000000,   50.0000000000\n",
      "outsize = 15027, 4800\n",
      "output = [/media/liwei/Data/GCOM-C_RSRF_Valid/reporjection/GC1SG1_20200825D01D_T0425_L2SG_LTOAQ_2011_Lt_PI02.tif]\n",
      "output = [/media/liwei/Data/GCOM-C_RSRF_Valid/reporjection/GC1SG1_20200825D01D_T0425_L2SG_LTOAQ_2011_Lt_PI02.xml]\n",
      "done...\n",
      "Reporjection Finished!\n",
      "Start 20200905\n"
     ]
    },
    {
     "name": "stderr",
     "output_type": "stream",
     "text": [
      "/tmp/ipykernel_1776687/1007119598.py:55: DeprecationWarning: open_rasterio is Deprecated in favor of rioxarray. For information about transitioning, see: https://corteva.github.io/rioxarray/stable/getting_started/getting_started.html\n",
      "  geotiff_da = xr.open_rasterio(filepath)\n"
     ]
    },
    {
     "name": "stdout",
     "output_type": "stream",
     "text": [
      "Start Reporjection Lt_PI01\n",
      "========================== Input parameters ==========================\n",
      "Input file              = /media/liwei/Data/GCOM-C_RSRF_Valid/tile/GC1SG1_20200905D01D_T0425_L2SG_LTOAQ_2011.h5\n",
      "Projection coordinates  = Geodetic Latitude/Longitude\n",
      "Pixel spacing           = 7.500000 sec\n",
      "Resampling method       = BL\n",
      "Data selection          = Image_data/Lt_PI01\n",
      "Output directory        = /media/liwei/Data/GCOM-C_RSRF_Valid/reporjection\n",
      "======================================================================\n",
      "product_type = L2/tile\n",
      "tile = 0425\n",
      "pid = GC1SG1_20200905D01D_T0425_L2SG_LTOAQ_2011\n",
      "data rank = 2\n",
      "data size = 1200/1200\n",
      "data type = unsigned short\n",
      "max_valid_DN = 65534\n",
      "hemi = 0\n",
      "x range =   97.5458333333,  120.4791666667\n",
      "y range =   40.0000000000,   50.0000000000\n",
      "outsize = 11008, 4800\n",
      "output = [/media/liwei/Data/GCOM-C_RSRF_Valid/reporjection/GC1SG1_20200905D01D_T0425_L2SG_LTOAQ_2011_Lt_PI01.tif]\n",
      "output = [/media/liwei/Data/GCOM-C_RSRF_Valid/reporjection/GC1SG1_20200905D01D_T0425_L2SG_LTOAQ_2011_Lt_PI01.xml]\n",
      "done...\n",
      "Reporjection Finished!\n",
      "Start Reporjection Lt_PI02\n"
     ]
    },
    {
     "name": "stderr",
     "output_type": "stream",
     "text": [
      "/tmp/ipykernel_1776687/1007119598.py:55: DeprecationWarning: open_rasterio is Deprecated in favor of rioxarray. For information about transitioning, see: https://corteva.github.io/rioxarray/stable/getting_started/getting_started.html\n",
      "  geotiff_da = xr.open_rasterio(filepath)\n"
     ]
    },
    {
     "name": "stdout",
     "output_type": "stream",
     "text": [
      "========================== Input parameters ==========================\n",
      "Input file              = /media/liwei/Data/GCOM-C_RSRF_Valid/tile/GC1SG1_20200905D01D_T0425_L2SG_LTOAQ_2011.h5\n",
      "Projection coordinates  = Geodetic Latitude/Longitude\n",
      "Pixel spacing           = 7.500000 sec\n",
      "Resampling method       = BL\n",
      "Data selection          = Image_data/Lt_PI02\n",
      "Output directory        = /media/liwei/Data/GCOM-C_RSRF_Valid/reporjection\n",
      "======================================================================\n",
      "product_type = L2/tile\n",
      "tile = 0425\n",
      "pid = GC1SG1_20200905D01D_T0425_L2SG_LTOAQ_2011\n",
      "data rank = 2\n",
      "data size = 1200/1200\n",
      "data type = unsigned short\n",
      "max_valid_DN = 65534\n",
      "hemi = 0\n",
      "x range =   97.5666666667,  120.4791666667\n",
      "y range =   40.0000000000,   50.0000000000\n",
      "outsize = 10998, 4800\n",
      "output = [/media/liwei/Data/GCOM-C_RSRF_Valid/reporjection/GC1SG1_20200905D01D_T0425_L2SG_LTOAQ_2011_Lt_PI02.tif]\n",
      "output = [/media/liwei/Data/GCOM-C_RSRF_Valid/reporjection/GC1SG1_20200905D01D_T0425_L2SG_LTOAQ_2011_Lt_PI02.xml]\n",
      "done...\n",
      "Reporjection Finished!\n",
      "Start 20200909\n"
     ]
    },
    {
     "name": "stderr",
     "output_type": "stream",
     "text": [
      "/tmp/ipykernel_1776687/1007119598.py:55: DeprecationWarning: open_rasterio is Deprecated in favor of rioxarray. For information about transitioning, see: https://corteva.github.io/rioxarray/stable/getting_started/getting_started.html\n",
      "  geotiff_da = xr.open_rasterio(filepath)\n"
     ]
    },
    {
     "name": "stdout",
     "output_type": "stream",
     "text": [
      "Start Reporjection Lt_PI01\n",
      "========================== Input parameters ==========================\n",
      "Input file              = /media/liwei/Data/GCOM-C_RSRF_Valid/tile/GC1SG1_20200909D01D_T0425_L2SG_LTOAQ_2011.h5\n",
      "Projection coordinates  = Geodetic Latitude/Longitude\n",
      "Pixel spacing           = 7.500000 sec\n",
      "Resampling method       = BL\n",
      "Data selection          = Image_data/Lt_PI01\n",
      "Output directory        = /media/liwei/Data/GCOM-C_RSRF_Valid/reporjection\n",
      "======================================================================\n",
      "product_type = L2/tile\n",
      "tile = 0425\n",
      "pid = GC1SG1_20200909D01D_T0425_L2SG_LTOAQ_2011\n",
      "data rank = 2\n",
      "data size = 1200/1200\n",
      "data type = unsigned short\n",
      "max_valid_DN = 65534\n",
      "hemi = 0\n",
      "x range =   99.0354166667,  121.9750000000\n",
      "y range =   40.0000000000,   50.0000000000\n",
      "outsize = 11011, 4800\n",
      "output = [/media/liwei/Data/GCOM-C_RSRF_Valid/reporjection/GC1SG1_20200909D01D_T0425_L2SG_LTOAQ_2011_Lt_PI01.tif]\n",
      "output = [/media/liwei/Data/GCOM-C_RSRF_Valid/reporjection/GC1SG1_20200909D01D_T0425_L2SG_LTOAQ_2011_Lt_PI01.xml]\n",
      "done...\n",
      "Reporjection Finished!\n",
      "Start Reporjection Lt_PI02\n"
     ]
    },
    {
     "name": "stderr",
     "output_type": "stream",
     "text": [
      "/tmp/ipykernel_1776687/1007119598.py:55: DeprecationWarning: open_rasterio is Deprecated in favor of rioxarray. For information about transitioning, see: https://corteva.github.io/rioxarray/stable/getting_started/getting_started.html\n",
      "  geotiff_da = xr.open_rasterio(filepath)\n"
     ]
    },
    {
     "name": "stdout",
     "output_type": "stream",
     "text": [
      "========================== Input parameters ==========================\n",
      "Input file              = /media/liwei/Data/GCOM-C_RSRF_Valid/tile/GC1SG1_20200909D01D_T0425_L2SG_LTOAQ_2011.h5\n",
      "Projection coordinates  = Geodetic Latitude/Longitude\n",
      "Pixel spacing           = 7.500000 sec\n",
      "Resampling method       = BL\n",
      "Data selection          = Image_data/Lt_PI02\n",
      "Output directory        = /media/liwei/Data/GCOM-C_RSRF_Valid/reporjection\n",
      "======================================================================\n",
      "product_type = L2/tile\n",
      "tile = 0425\n",
      "pid = GC1SG1_20200909D01D_T0425_L2SG_LTOAQ_2011\n",
      "data rank = 2\n",
      "data size = 1200/1200\n",
      "data type = unsigned short\n",
      "max_valid_DN = 65534\n",
      "hemi = 0\n",
      "x range =   99.0583333333,  121.9750000000\n",
      "y range =   40.0000000000,   50.0000000000\n",
      "outsize = 11000, 4800\n",
      "output = [/media/liwei/Data/GCOM-C_RSRF_Valid/reporjection/GC1SG1_20200909D01D_T0425_L2SG_LTOAQ_2011_Lt_PI02.tif]\n",
      "output = [/media/liwei/Data/GCOM-C_RSRF_Valid/reporjection/GC1SG1_20200909D01D_T0425_L2SG_LTOAQ_2011_Lt_PI02.xml]\n",
      "done...\n",
      "Reporjection Finished!\n",
      "Start 20200928\n"
     ]
    },
    {
     "name": "stderr",
     "output_type": "stream",
     "text": [
      "/tmp/ipykernel_1776687/1007119598.py:55: DeprecationWarning: open_rasterio is Deprecated in favor of rioxarray. For information about transitioning, see: https://corteva.github.io/rioxarray/stable/getting_started/getting_started.html\n",
      "  geotiff_da = xr.open_rasterio(filepath)\n"
     ]
    },
    {
     "name": "stdout",
     "output_type": "stream",
     "text": [
      "Start Reporjection Lt_PI01\n",
      "========================== Input parameters ==========================\n",
      "Input file              = /media/liwei/Data/GCOM-C_RSRF_Valid/tile/GC1SG1_20200928D01D_T0425_L2SG_LTOAQ_2011.h5\n",
      "Projection coordinates  = Geodetic Latitude/Longitude\n",
      "Pixel spacing           = 7.500000 sec\n",
      "Resampling method       = BL\n",
      "Data selection          = Image_data/Lt_PI01\n",
      "Output directory        = /media/liwei/Data/GCOM-C_RSRF_Valid/reporjection\n",
      "======================================================================\n",
      "product_type = L2/tile\n",
      "tile = 0425\n",
      "pid = GC1SG1_20200928D01D_T0425_L2SG_LTOAQ_2011\n",
      "data rank = 2\n",
      "data size = 1200/1200\n",
      "data type = unsigned short\n",
      "max_valid_DN = 65534\n",
      "hemi = 0\n",
      "x range =   91.3770833333,  122.7791666667\n",
      "y range =   40.0000000000,   50.0000000000\n",
      "outsize = 15073, 4800\n",
      "output = [/media/liwei/Data/GCOM-C_RSRF_Valid/reporjection/GC1SG1_20200928D01D_T0425_L2SG_LTOAQ_2011_Lt_PI01.tif]\n",
      "output = [/media/liwei/Data/GCOM-C_RSRF_Valid/reporjection/GC1SG1_20200928D01D_T0425_L2SG_LTOAQ_2011_Lt_PI01.xml]\n",
      "done...\n",
      "Reporjection Finished!\n",
      "Start Reporjection Lt_PI02\n"
     ]
    },
    {
     "name": "stderr",
     "output_type": "stream",
     "text": [
      "/tmp/ipykernel_1776687/1007119598.py:55: DeprecationWarning: open_rasterio is Deprecated in favor of rioxarray. For information about transitioning, see: https://corteva.github.io/rioxarray/stable/getting_started/getting_started.html\n",
      "  geotiff_da = xr.open_rasterio(filepath)\n"
     ]
    },
    {
     "name": "stdout",
     "output_type": "stream",
     "text": [
      "========================== Input parameters ==========================\n",
      "Input file              = /media/liwei/Data/GCOM-C_RSRF_Valid/tile/GC1SG1_20200928D01D_T0425_L2SG_LTOAQ_2011.h5\n",
      "Projection coordinates  = Geodetic Latitude/Longitude\n",
      "Pixel spacing           = 7.500000 sec\n",
      "Resampling method       = BL\n",
      "Data selection          = Image_data/Lt_PI02\n",
      "Output directory        = /media/liwei/Data/GCOM-C_RSRF_Valid/reporjection\n",
      "======================================================================\n",
      "product_type = L2/tile\n",
      "tile = 0425\n",
      "pid = GC1SG1_20200928D01D_T0425_L2SG_LTOAQ_2011\n",
      "data rank = 2\n",
      "data size = 1200/1200\n",
      "data type = unsigned short\n",
      "max_valid_DN = 65534\n",
      "hemi = 0\n",
      "x range =   91.3770833333,  122.7791666667\n",
      "y range =   40.0000000000,   50.0000000000\n",
      "outsize = 15073, 4800\n",
      "output = [/media/liwei/Data/GCOM-C_RSRF_Valid/reporjection/GC1SG1_20200928D01D_T0425_L2SG_LTOAQ_2011_Lt_PI02.tif]\n",
      "output = [/media/liwei/Data/GCOM-C_RSRF_Valid/reporjection/GC1SG1_20200928D01D_T0425_L2SG_LTOAQ_2011_Lt_PI02.xml]\n",
      "done...\n",
      "Reporjection Finished!\n",
      "Start 20210123\n"
     ]
    },
    {
     "name": "stderr",
     "output_type": "stream",
     "text": [
      "/tmp/ipykernel_1776687/1007119598.py:55: DeprecationWarning: open_rasterio is Deprecated in favor of rioxarray. For information about transitioning, see: https://corteva.github.io/rioxarray/stable/getting_started/getting_started.html\n",
      "  geotiff_da = xr.open_rasterio(filepath)\n"
     ]
    },
    {
     "name": "stdout",
     "output_type": "stream",
     "text": [
      "Start Reporjection Lt_PI01\n",
      "========================== Input parameters ==========================\n",
      "Input file              = /media/liwei/Data/GCOM-C_RSRF_Valid/tile/GC1SG1_20210123D01D_T0425_L2SG_LTOAQ_2011.h5\n",
      "Projection coordinates  = Geodetic Latitude/Longitude\n",
      "Pixel spacing           = 7.500000 sec\n",
      "Resampling method       = BL\n",
      "Data selection          = Image_data/Lt_PI01\n",
      "Output directory        = /media/liwei/Data/GCOM-C_RSRF_Valid/reporjection\n",
      "======================================================================\n",
      "product_type = L2/tile\n",
      "tile = 0425\n",
      "pid = GC1SG1_20210123D01D_T0425_L2SG_LTOAQ_2011\n",
      "data rank = 2\n",
      "data size = 1200/1200\n",
      "data type = unsigned short\n",
      "max_valid_DN = 65534\n",
      "hemi = 0\n",
      "x range =   91.3770833333,  122.4625000000\n",
      "y range =   40.0000000000,   50.0000000000\n",
      "outsize = 14921, 4800\n",
      "output = [/media/liwei/Data/GCOM-C_RSRF_Valid/reporjection/GC1SG1_20210123D01D_T0425_L2SG_LTOAQ_2011_Lt_PI01.tif]\n",
      "output = [/media/liwei/Data/GCOM-C_RSRF_Valid/reporjection/GC1SG1_20210123D01D_T0425_L2SG_LTOAQ_2011_Lt_PI01.xml]\n",
      "done...\n",
      "Reporjection Finished!\n",
      "Start Reporjection Lt_PI02\n"
     ]
    },
    {
     "name": "stderr",
     "output_type": "stream",
     "text": [
      "/tmp/ipykernel_1776687/1007119598.py:55: DeprecationWarning: open_rasterio is Deprecated in favor of rioxarray. For information about transitioning, see: https://corteva.github.io/rioxarray/stable/getting_started/getting_started.html\n",
      "  geotiff_da = xr.open_rasterio(filepath)\n"
     ]
    },
    {
     "name": "stdout",
     "output_type": "stream",
     "text": [
      "========================== Input parameters ==========================\n",
      "Input file              = /media/liwei/Data/GCOM-C_RSRF_Valid/tile/GC1SG1_20210123D01D_T0425_L2SG_LTOAQ_2011.h5\n",
      "Projection coordinates  = Geodetic Latitude/Longitude\n",
      "Pixel spacing           = 7.500000 sec\n",
      "Resampling method       = BL\n",
      "Data selection          = Image_data/Lt_PI02\n",
      "Output directory        = /media/liwei/Data/GCOM-C_RSRF_Valid/reporjection\n",
      "======================================================================\n",
      "product_type = L2/tile\n",
      "tile = 0425\n",
      "pid = GC1SG1_20210123D01D_T0425_L2SG_LTOAQ_2011\n",
      "data rank = 2\n",
      "data size = 1200/1200\n",
      "data type = unsigned short\n",
      "max_valid_DN = 65534\n",
      "hemi = 0\n",
      "x range =   91.3770833333,  122.4625000000\n",
      "y range =   40.0000000000,   50.0000000000\n",
      "outsize = 14921, 4800\n",
      "output = [/media/liwei/Data/GCOM-C_RSRF_Valid/reporjection/GC1SG1_20210123D01D_T0425_L2SG_LTOAQ_2011_Lt_PI02.tif]\n",
      "output = [/media/liwei/Data/GCOM-C_RSRF_Valid/reporjection/GC1SG1_20210123D01D_T0425_L2SG_LTOAQ_2011_Lt_PI02.xml]\n",
      "done...\n",
      "Reporjection Finished!\n",
      "Start 20210207\n"
     ]
    },
    {
     "name": "stderr",
     "output_type": "stream",
     "text": [
      "/tmp/ipykernel_1776687/1007119598.py:55: DeprecationWarning: open_rasterio is Deprecated in favor of rioxarray. For information about transitioning, see: https://corteva.github.io/rioxarray/stable/getting_started/getting_started.html\n",
      "  geotiff_da = xr.open_rasterio(filepath)\n"
     ]
    },
    {
     "name": "stdout",
     "output_type": "stream",
     "text": [
      "Start Reporjection Lt_PI01\n",
      "========================== Input parameters ==========================\n",
      "Input file              = /media/liwei/Data/GCOM-C_RSRF_Valid/tile/GC1SG1_20210207D01D_T0425_L2SG_LTOAQ_2011.h5\n",
      "Projection coordinates  = Geodetic Latitude/Longitude\n",
      "Pixel spacing           = 7.500000 sec\n",
      "Resampling method       = BL\n",
      "Data selection          = Image_data/Lt_PI01\n",
      "Output directory        = /media/liwei/Data/GCOM-C_RSRF_Valid/reporjection\n",
      "======================================================================\n",
      "product_type = L2/tile\n",
      "tile = 0425\n",
      "pid = GC1SG1_20210207D01D_T0425_L2SG_LTOAQ_2011\n",
      "data rank = 2\n",
      "data size = 1200/1200\n",
      "data type = unsigned short\n",
      "max_valid_DN = 65534\n",
      "hemi = 0\n",
      "x range =   98.8187500000,  121.7625000000\n",
      "y range =   40.0000000000,   50.0000000000\n",
      "outsize = 11013, 4800\n",
      "output = [/media/liwei/Data/GCOM-C_RSRF_Valid/reporjection/GC1SG1_20210207D01D_T0425_L2SG_LTOAQ_2011_Lt_PI01.tif]\n",
      "output = [/media/liwei/Data/GCOM-C_RSRF_Valid/reporjection/GC1SG1_20210207D01D_T0425_L2SG_LTOAQ_2011_Lt_PI01.xml]\n",
      "done...\n",
      "Reporjection Finished!\n"
     ]
    },
    {
     "name": "stderr",
     "output_type": "stream",
     "text": [
      "/tmp/ipykernel_1776687/1007119598.py:55: DeprecationWarning: open_rasterio is Deprecated in favor of rioxarray. For information about transitioning, see: https://corteva.github.io/rioxarray/stable/getting_started/getting_started.html\n",
      "  geotiff_da = xr.open_rasterio(filepath)\n"
     ]
    },
    {
     "name": "stdout",
     "output_type": "stream",
     "text": [
      "Start Reporjection Lt_PI02\n",
      "========================== Input parameters ==========================\n",
      "Input file              = /media/liwei/Data/GCOM-C_RSRF_Valid/tile/GC1SG1_20210207D01D_T0425_L2SG_LTOAQ_2011.h5\n",
      "Projection coordinates  = Geodetic Latitude/Longitude\n",
      "Pixel spacing           = 7.500000 sec\n",
      "Resampling method       = BL\n",
      "Data selection          = Image_data/Lt_PI02\n",
      "Output directory        = /media/liwei/Data/GCOM-C_RSRF_Valid/reporjection\n",
      "======================================================================\n",
      "product_type = L2/tile\n",
      "tile = 0425\n",
      "pid = GC1SG1_20210207D01D_T0425_L2SG_LTOAQ_2011\n",
      "data rank = 2\n",
      "data size = 1200/1200\n",
      "data type = unsigned short\n",
      "max_valid_DN = 65534\n",
      "hemi = 0\n",
      "x range =   98.8395833333,  121.7625000000\n",
      "y range =   40.0000000000,   50.0000000000\n",
      "outsize = 11003, 4800\n",
      "output = [/media/liwei/Data/GCOM-C_RSRF_Valid/reporjection/GC1SG1_20210207D01D_T0425_L2SG_LTOAQ_2011_Lt_PI02.tif]\n",
      "output = [/media/liwei/Data/GCOM-C_RSRF_Valid/reporjection/GC1SG1_20210207D01D_T0425_L2SG_LTOAQ_2011_Lt_PI02.xml]\n",
      "done...\n",
      "Reporjection Finished!\n",
      "Start 20210222\n"
     ]
    },
    {
     "name": "stderr",
     "output_type": "stream",
     "text": [
      "/tmp/ipykernel_1776687/1007119598.py:55: DeprecationWarning: open_rasterio is Deprecated in favor of rioxarray. For information about transitioning, see: https://corteva.github.io/rioxarray/stable/getting_started/getting_started.html\n",
      "  geotiff_da = xr.open_rasterio(filepath)\n"
     ]
    },
    {
     "name": "stdout",
     "output_type": "stream",
     "text": [
      "Start Reporjection Lt_PI01\n",
      "========================== Input parameters ==========================\n",
      "Input file              = /media/liwei/Data/GCOM-C_RSRF_Valid/tile/GC1SG1_20210222D01D_T0425_L2SG_LTOAQ_2011.h5\n",
      "Projection coordinates  = Geodetic Latitude/Longitude\n",
      "Pixel spacing           = 7.500000 sec\n",
      "Resampling method       = BL\n",
      "Data selection          = Image_data/Lt_PI01\n",
      "Output directory        = /media/liwei/Data/GCOM-C_RSRF_Valid/reporjection\n",
      "======================================================================\n",
      "product_type = L2/tile\n",
      "tile = 0425\n",
      "pid = GC1SG1_20210222D01D_T0425_L2SG_LTOAQ_2011\n",
      "data rank = 2\n",
      "data size = 1200/1200\n",
      "data type = unsigned short\n",
      "max_valid_DN = 65534\n",
      "hemi = 0\n",
      "x range =   98.0458333333,  120.9854166667\n",
      "y range =   40.0000000000,   50.0000000000\n",
      "outsize = 11011, 4800\n",
      "output = [/media/liwei/Data/GCOM-C_RSRF_Valid/reporjection/GC1SG1_20210222D01D_T0425_L2SG_LTOAQ_2011_Lt_PI01.tif]\n",
      "output = [/media/liwei/Data/GCOM-C_RSRF_Valid/reporjection/GC1SG1_20210222D01D_T0425_L2SG_LTOAQ_2011_Lt_PI01.xml]\n",
      "done...\n",
      "Reporjection Finished!\n",
      "Start Reporjection Lt_PI02\n"
     ]
    },
    {
     "name": "stderr",
     "output_type": "stream",
     "text": [
      "/tmp/ipykernel_1776687/1007119598.py:55: DeprecationWarning: open_rasterio is Deprecated in favor of rioxarray. For information about transitioning, see: https://corteva.github.io/rioxarray/stable/getting_started/getting_started.html\n",
      "  geotiff_da = xr.open_rasterio(filepath)\n"
     ]
    },
    {
     "name": "stdout",
     "output_type": "stream",
     "text": [
      "========================== Input parameters ==========================\n",
      "Input file              = /media/liwei/Data/GCOM-C_RSRF_Valid/tile/GC1SG1_20210222D01D_T0425_L2SG_LTOAQ_2011.h5\n",
      "Projection coordinates  = Geodetic Latitude/Longitude\n",
      "Pixel spacing           = 7.500000 sec\n",
      "Resampling method       = BL\n",
      "Data selection          = Image_data/Lt_PI02\n",
      "Output directory        = /media/liwei/Data/GCOM-C_RSRF_Valid/reporjection\n",
      "======================================================================\n",
      "product_type = L2/tile\n",
      "tile = 0425\n",
      "pid = GC1SG1_20210222D01D_T0425_L2SG_LTOAQ_2011\n",
      "data rank = 2\n",
      "data size = 1200/1200\n",
      "data type = unsigned short\n",
      "max_valid_DN = 65534\n",
      "hemi = 0\n",
      "x range =   98.0666666667,  120.9854166667\n",
      "y range =   40.0000000000,   50.0000000000\n",
      "outsize = 11001, 4800\n",
      "output = [/media/liwei/Data/GCOM-C_RSRF_Valid/reporjection/GC1SG1_20210222D01D_T0425_L2SG_LTOAQ_2011_Lt_PI02.tif]\n",
      "output = [/media/liwei/Data/GCOM-C_RSRF_Valid/reporjection/GC1SG1_20210222D01D_T0425_L2SG_LTOAQ_2011_Lt_PI02.xml]\n",
      "done...\n",
      "Reporjection Finished!\n",
      "Start 20210226\n"
     ]
    },
    {
     "name": "stderr",
     "output_type": "stream",
     "text": [
      "/tmp/ipykernel_1776687/1007119598.py:55: DeprecationWarning: open_rasterio is Deprecated in favor of rioxarray. For information about transitioning, see: https://corteva.github.io/rioxarray/stable/getting_started/getting_started.html\n",
      "  geotiff_da = xr.open_rasterio(filepath)\n"
     ]
    },
    {
     "name": "stdout",
     "output_type": "stream",
     "text": [
      "Start Reporjection Lt_PI01\n",
      "========================== Input parameters ==========================\n",
      "Input file              = /media/liwei/Data/GCOM-C_RSRF_Valid/tile/GC1SG1_20210226D01D_T0425_L2SG_LTOAQ_2011.h5\n",
      "Projection coordinates  = Geodetic Latitude/Longitude\n",
      "Pixel spacing           = 7.500000 sec\n",
      "Resampling method       = BL\n",
      "Data selection          = Image_data/Lt_PI01\n",
      "Output directory        = /media/liwei/Data/GCOM-C_RSRF_Valid/reporjection\n",
      "======================================================================\n",
      "product_type = L2/tile\n",
      "tile = 0425\n",
      "pid = GC1SG1_20210226D01D_T0425_L2SG_LTOAQ_2011\n",
      "data rank = 2\n",
      "data size = 1200/1200\n",
      "data type = unsigned short\n",
      "max_valid_DN = 65534\n",
      "hemi = 0\n",
      "x range =   91.3770833333,  122.4541666667\n",
      "y range =   40.0000000000,   50.0000000000\n",
      "outsize = 14917, 4800\n",
      "output = [/media/liwei/Data/GCOM-C_RSRF_Valid/reporjection/GC1SG1_20210226D01D_T0425_L2SG_LTOAQ_2011_Lt_PI01.tif]\n",
      "output = [/media/liwei/Data/GCOM-C_RSRF_Valid/reporjection/GC1SG1_20210226D01D_T0425_L2SG_LTOAQ_2011_Lt_PI01.xml]\n",
      "done...\n",
      "Reporjection Finished!\n",
      "Start Reporjection Lt_PI02\n"
     ]
    },
    {
     "name": "stderr",
     "output_type": "stream",
     "text": [
      "/tmp/ipykernel_1776687/1007119598.py:55: DeprecationWarning: open_rasterio is Deprecated in favor of rioxarray. For information about transitioning, see: https://corteva.github.io/rioxarray/stable/getting_started/getting_started.html\n",
      "  geotiff_da = xr.open_rasterio(filepath)\n"
     ]
    },
    {
     "name": "stdout",
     "output_type": "stream",
     "text": [
      "========================== Input parameters ==========================\n",
      "Input file              = /media/liwei/Data/GCOM-C_RSRF_Valid/tile/GC1SG1_20210226D01D_T0425_L2SG_LTOAQ_2011.h5\n",
      "Projection coordinates  = Geodetic Latitude/Longitude\n",
      "Pixel spacing           = 7.500000 sec\n",
      "Resampling method       = BL\n",
      "Data selection          = Image_data/Lt_PI02\n",
      "Output directory        = /media/liwei/Data/GCOM-C_RSRF_Valid/reporjection\n",
      "======================================================================\n",
      "product_type = L2/tile\n",
      "tile = 0425\n",
      "pid = GC1SG1_20210226D01D_T0425_L2SG_LTOAQ_2011\n",
      "data rank = 2\n",
      "data size = 1200/1200\n",
      "data type = unsigned short\n",
      "max_valid_DN = 65534\n",
      "hemi = 0\n",
      "x range =   91.3770833333,  122.4541666667\n",
      "y range =   40.0000000000,   50.0000000000\n",
      "outsize = 14917, 4800\n",
      "output = [/media/liwei/Data/GCOM-C_RSRF_Valid/reporjection/GC1SG1_20210226D01D_T0425_L2SG_LTOAQ_2011_Lt_PI02.tif]\n",
      "output = [/media/liwei/Data/GCOM-C_RSRF_Valid/reporjection/GC1SG1_20210226D01D_T0425_L2SG_LTOAQ_2011_Lt_PI02.xml]\n",
      "done...\n",
      "Reporjection Finished!\n",
      "Start 20210313\n"
     ]
    },
    {
     "name": "stderr",
     "output_type": "stream",
     "text": [
      "/tmp/ipykernel_1776687/1007119598.py:55: DeprecationWarning: open_rasterio is Deprecated in favor of rioxarray. For information about transitioning, see: https://corteva.github.io/rioxarray/stable/getting_started/getting_started.html\n",
      "  geotiff_da = xr.open_rasterio(filepath)\n"
     ]
    },
    {
     "name": "stdout",
     "output_type": "stream",
     "text": [
      "Start Reporjection Lt_PI01\n",
      "========================== Input parameters ==========================\n",
      "Input file              = /media/liwei/Data/GCOM-C_RSRF_Valid/tile/GC1SG1_20210313D01D_T0425_L2SG_LTOAQ_2011.h5\n",
      "Projection coordinates  = Geodetic Latitude/Longitude\n",
      "Pixel spacing           = 7.500000 sec\n",
      "Resampling method       = BL\n",
      "Data selection          = Image_data/Lt_PI01\n",
      "Output directory        = /media/liwei/Data/GCOM-C_RSRF_Valid/reporjection\n",
      "======================================================================\n",
      "product_type = L2/tile\n",
      "tile = 0425\n",
      "pid = GC1SG1_20210313D01D_T0425_L2SG_LTOAQ_2011\n",
      "data rank = 2\n",
      "data size = 1200/1200\n",
      "data type = unsigned short\n",
      "max_valid_DN = 65534\n",
      "hemi = 0\n",
      "x range =   98.7416666667,  121.6708333333\n",
      "y range =   40.0000000000,   50.0000000000\n",
      "outsize = 11006, 4800\n",
      "output = [/media/liwei/Data/GCOM-C_RSRF_Valid/reporjection/GC1SG1_20210313D01D_T0425_L2SG_LTOAQ_2011_Lt_PI01.tif]\n",
      "output = [/media/liwei/Data/GCOM-C_RSRF_Valid/reporjection/GC1SG1_20210313D01D_T0425_L2SG_LTOAQ_2011_Lt_PI01.xml]\n",
      "done...\n",
      "Reporjection Finished!\n",
      "Start Reporjection Lt_PI02\n"
     ]
    },
    {
     "name": "stderr",
     "output_type": "stream",
     "text": [
      "/tmp/ipykernel_1776687/1007119598.py:55: DeprecationWarning: open_rasterio is Deprecated in favor of rioxarray. For information about transitioning, see: https://corteva.github.io/rioxarray/stable/getting_started/getting_started.html\n",
      "  geotiff_da = xr.open_rasterio(filepath)\n"
     ]
    },
    {
     "name": "stdout",
     "output_type": "stream",
     "text": [
      "========================== Input parameters ==========================\n",
      "Input file              = /media/liwei/Data/GCOM-C_RSRF_Valid/tile/GC1SG1_20210313D01D_T0425_L2SG_LTOAQ_2011.h5\n",
      "Projection coordinates  = Geodetic Latitude/Longitude\n",
      "Pixel spacing           = 7.500000 sec\n",
      "Resampling method       = BL\n",
      "Data selection          = Image_data/Lt_PI02\n",
      "Output directory        = /media/liwei/Data/GCOM-C_RSRF_Valid/reporjection\n",
      "======================================================================\n",
      "product_type = L2/tile\n",
      "tile = 0425\n",
      "pid = GC1SG1_20210313D01D_T0425_L2SG_LTOAQ_2011\n",
      "data rank = 2\n",
      "data size = 1200/1200\n",
      "data type = unsigned short\n",
      "max_valid_DN = 65534\n",
      "hemi = 0\n",
      "x range =   98.7645833333,  121.6708333333\n",
      "y range =   40.0000000000,   50.0000000000\n",
      "outsize = 10995, 4800\n",
      "output = [/media/liwei/Data/GCOM-C_RSRF_Valid/reporjection/GC1SG1_20210313D01D_T0425_L2SG_LTOAQ_2011_Lt_PI02.tif]\n",
      "output = [/media/liwei/Data/GCOM-C_RSRF_Valid/reporjection/GC1SG1_20210313D01D_T0425_L2SG_LTOAQ_2011_Lt_PI02.xml]\n",
      "done...\n",
      "Reporjection Finished!\n",
      "Start 20210328\n"
     ]
    },
    {
     "name": "stderr",
     "output_type": "stream",
     "text": [
      "/tmp/ipykernel_1776687/1007119598.py:55: DeprecationWarning: open_rasterio is Deprecated in favor of rioxarray. For information about transitioning, see: https://corteva.github.io/rioxarray/stable/getting_started/getting_started.html\n",
      "  geotiff_da = xr.open_rasterio(filepath)\n"
     ]
    },
    {
     "name": "stdout",
     "output_type": "stream",
     "text": [
      "Start Reporjection Lt_PI01\n",
      "========================== Input parameters ==========================\n",
      "Input file              = /media/liwei/Data/GCOM-C_RSRF_Valid/tile/GC1SG1_20210328D01D_T0425_L2SG_LTOAQ_2011.h5\n",
      "Projection coordinates  = Geodetic Latitude/Longitude\n",
      "Pixel spacing           = 7.500000 sec\n",
      "Resampling method       = BL\n",
      "Data selection          = Image_data/Lt_PI01\n",
      "Output directory        = /media/liwei/Data/GCOM-C_RSRF_Valid/reporjection\n",
      "======================================================================\n",
      "product_type = L2/tile\n",
      "tile = 0425\n",
      "pid = GC1SG1_20210328D01D_T0425_L2SG_LTOAQ_2011\n",
      "data rank = 2\n",
      "data size = 1200/1200\n",
      "data type = unsigned short\n",
      "max_valid_DN = 65534\n",
      "hemi = 0\n",
      "x range =   97.9687500000,  120.8937500000\n",
      "y range =   40.0000000000,   50.0000000000\n",
      "outsize = 11004, 4800\n",
      "output = [/media/liwei/Data/GCOM-C_RSRF_Valid/reporjection/GC1SG1_20210328D01D_T0425_L2SG_LTOAQ_2011_Lt_PI01.tif]\n",
      "output = [/media/liwei/Data/GCOM-C_RSRF_Valid/reporjection/GC1SG1_20210328D01D_T0425_L2SG_LTOAQ_2011_Lt_PI01.xml]\n",
      "done...\n",
      "Reporjection Finished!\n",
      "Start Reporjection Lt_PI02\n"
     ]
    },
    {
     "name": "stderr",
     "output_type": "stream",
     "text": [
      "/tmp/ipykernel_1776687/1007119598.py:55: DeprecationWarning: open_rasterio is Deprecated in favor of rioxarray. For information about transitioning, see: https://corteva.github.io/rioxarray/stable/getting_started/getting_started.html\n",
      "  geotiff_da = xr.open_rasterio(filepath)\n"
     ]
    },
    {
     "name": "stdout",
     "output_type": "stream",
     "text": [
      "========================== Input parameters ==========================\n",
      "Input file              = /media/liwei/Data/GCOM-C_RSRF_Valid/tile/GC1SG1_20210328D01D_T0425_L2SG_LTOAQ_2011.h5\n",
      "Projection coordinates  = Geodetic Latitude/Longitude\n",
      "Pixel spacing           = 7.500000 sec\n",
      "Resampling method       = BL\n",
      "Data selection          = Image_data/Lt_PI02\n",
      "Output directory        = /media/liwei/Data/GCOM-C_RSRF_Valid/reporjection\n",
      "======================================================================\n",
      "product_type = L2/tile\n",
      "tile = 0425\n",
      "pid = GC1SG1_20210328D01D_T0425_L2SG_LTOAQ_2011\n",
      "data rank = 2\n",
      "data size = 1200/1200\n",
      "data type = unsigned short\n",
      "max_valid_DN = 65534\n",
      "hemi = 0\n",
      "x range =   97.9916666667,  120.8937500000\n",
      "y range =   40.0000000000,   50.0000000000\n",
      "outsize = 10993, 4800\n",
      "output = [/media/liwei/Data/GCOM-C_RSRF_Valid/reporjection/GC1SG1_20210328D01D_T0425_L2SG_LTOAQ_2011_Lt_PI02.tif]\n",
      "output = [/media/liwei/Data/GCOM-C_RSRF_Valid/reporjection/GC1SG1_20210328D01D_T0425_L2SG_LTOAQ_2011_Lt_PI02.xml]\n",
      "done...\n",
      "Reporjection Finished!\n",
      "Start 20210401\n"
     ]
    },
    {
     "name": "stderr",
     "output_type": "stream",
     "text": [
      "/tmp/ipykernel_1776687/1007119598.py:55: DeprecationWarning: open_rasterio is Deprecated in favor of rioxarray. For information about transitioning, see: https://corteva.github.io/rioxarray/stable/getting_started/getting_started.html\n",
      "  geotiff_da = xr.open_rasterio(filepath)\n"
     ]
    },
    {
     "name": "stdout",
     "output_type": "stream",
     "text": [
      "Start Reporjection Lt_PI01\n",
      "========================== Input parameters ==========================\n",
      "Input file              = /media/liwei/Data/GCOM-C_RSRF_Valid/tile/GC1SG1_20210401D01D_T0425_L2SG_LTOAQ_2011.h5\n",
      "Projection coordinates  = Geodetic Latitude/Longitude\n",
      "Pixel spacing           = 7.500000 sec\n",
      "Resampling method       = BL\n",
      "Data selection          = Image_data/Lt_PI01\n",
      "Output directory        = /media/liwei/Data/GCOM-C_RSRF_Valid/reporjection\n",
      "======================================================================\n",
      "product_type = L2/tile\n",
      "tile = 0425\n",
      "pid = GC1SG1_20210401D01D_T0425_L2SG_LTOAQ_2011\n",
      "data rank = 2\n",
      "data size = 1200/1200\n",
      "data type = unsigned short\n",
      "max_valid_DN = 65534\n",
      "hemi = 0\n",
      "x range =   91.3770833333,  122.3708333333\n",
      "y range =   40.0000000000,   50.0000000000\n",
      "outsize = 14877, 4800\n",
      "output = [/media/liwei/Data/GCOM-C_RSRF_Valid/reporjection/GC1SG1_20210401D01D_T0425_L2SG_LTOAQ_2011_Lt_PI01.tif]\n",
      "output = [/media/liwei/Data/GCOM-C_RSRF_Valid/reporjection/GC1SG1_20210401D01D_T0425_L2SG_LTOAQ_2011_Lt_PI01.xml]\n",
      "done...\n",
      "Reporjection Finished!\n",
      "Start Reporjection Lt_PI02\n"
     ]
    },
    {
     "name": "stderr",
     "output_type": "stream",
     "text": [
      "/tmp/ipykernel_1776687/1007119598.py:55: DeprecationWarning: open_rasterio is Deprecated in favor of rioxarray. For information about transitioning, see: https://corteva.github.io/rioxarray/stable/getting_started/getting_started.html\n",
      "  geotiff_da = xr.open_rasterio(filepath)\n"
     ]
    },
    {
     "name": "stdout",
     "output_type": "stream",
     "text": [
      "========================== Input parameters ==========================\n",
      "Input file              = /media/liwei/Data/GCOM-C_RSRF_Valid/tile/GC1SG1_20210401D01D_T0425_L2SG_LTOAQ_2011.h5\n",
      "Projection coordinates  = Geodetic Latitude/Longitude\n",
      "Pixel spacing           = 7.500000 sec\n",
      "Resampling method       = BL\n",
      "Data selection          = Image_data/Lt_PI02\n",
      "Output directory        = /media/liwei/Data/GCOM-C_RSRF_Valid/reporjection\n",
      "======================================================================\n",
      "product_type = L2/tile\n",
      "tile = 0425\n",
      "pid = GC1SG1_20210401D01D_T0425_L2SG_LTOAQ_2011\n",
      "data rank = 2\n",
      "data size = 1200/1200\n",
      "data type = unsigned short\n",
      "max_valid_DN = 65534\n",
      "hemi = 0\n",
      "x range =   91.3770833333,  122.3708333333\n",
      "y range =   40.0000000000,   50.0000000000\n",
      "outsize = 14877, 4800\n",
      "output = [/media/liwei/Data/GCOM-C_RSRF_Valid/reporjection/GC1SG1_20210401D01D_T0425_L2SG_LTOAQ_2011_Lt_PI02.tif]\n",
      "output = [/media/liwei/Data/GCOM-C_RSRF_Valid/reporjection/GC1SG1_20210401D01D_T0425_L2SG_LTOAQ_2011_Lt_PI02.xml]\n",
      "done...\n",
      "Reporjection Finished!\n",
      "Start 20210416\n"
     ]
    },
    {
     "name": "stderr",
     "output_type": "stream",
     "text": [
      "/tmp/ipykernel_1776687/1007119598.py:55: DeprecationWarning: open_rasterio is Deprecated in favor of rioxarray. For information about transitioning, see: https://corteva.github.io/rioxarray/stable/getting_started/getting_started.html\n",
      "  geotiff_da = xr.open_rasterio(filepath)\n"
     ]
    },
    {
     "name": "stdout",
     "output_type": "stream",
     "text": [
      "Start Reporjection Lt_PI01\n",
      "========================== Input parameters ==========================\n",
      "Input file              = /media/liwei/Data/GCOM-C_RSRF_Valid/tile/GC1SG1_20210416D01D_T0425_L2SG_LTOAQ_2011.h5\n",
      "Projection coordinates  = Geodetic Latitude/Longitude\n",
      "Pixel spacing           = 7.500000 sec\n",
      "Resampling method       = BL\n",
      "Data selection          = Image_data/Lt_PI01\n",
      "Output directory        = /media/liwei/Data/GCOM-C_RSRF_Valid/reporjection\n",
      "======================================================================\n",
      "product_type = L2/tile\n",
      "tile = 0425\n",
      "pid = GC1SG1_20210416D01D_T0425_L2SG_LTOAQ_2011\n",
      "data rank = 2\n",
      "data size = 1200/1200\n",
      "data type = unsigned short\n",
      "max_valid_DN = 65534\n",
      "hemi = 0\n",
      "x range =   98.6666666667,  121.5937500000\n",
      "y range =   40.0000000000,   50.0000000000\n",
      "outsize = 11005, 4800\n",
      "output = [/media/liwei/Data/GCOM-C_RSRF_Valid/reporjection/GC1SG1_20210416D01D_T0425_L2SG_LTOAQ_2011_Lt_PI01.tif]\n",
      "output = [/media/liwei/Data/GCOM-C_RSRF_Valid/reporjection/GC1SG1_20210416D01D_T0425_L2SG_LTOAQ_2011_Lt_PI01.xml]\n",
      "done...\n",
      "Reporjection Finished!\n",
      "Start Reporjection Lt_PI02\n"
     ]
    },
    {
     "name": "stderr",
     "output_type": "stream",
     "text": [
      "/tmp/ipykernel_1776687/1007119598.py:55: DeprecationWarning: open_rasterio is Deprecated in favor of rioxarray. For information about transitioning, see: https://corteva.github.io/rioxarray/stable/getting_started/getting_started.html\n",
      "  geotiff_da = xr.open_rasterio(filepath)\n"
     ]
    },
    {
     "name": "stdout",
     "output_type": "stream",
     "text": [
      "========================== Input parameters ==========================\n",
      "Input file              = /media/liwei/Data/GCOM-C_RSRF_Valid/tile/GC1SG1_20210416D01D_T0425_L2SG_LTOAQ_2011.h5\n",
      "Projection coordinates  = Geodetic Latitude/Longitude\n",
      "Pixel spacing           = 7.500000 sec\n",
      "Resampling method       = BL\n",
      "Data selection          = Image_data/Lt_PI02\n",
      "Output directory        = /media/liwei/Data/GCOM-C_RSRF_Valid/reporjection\n",
      "======================================================================\n",
      "product_type = L2/tile\n",
      "tile = 0425\n",
      "pid = GC1SG1_20210416D01D_T0425_L2SG_LTOAQ_2011\n",
      "data rank = 2\n",
      "data size = 1200/1200\n",
      "data type = unsigned short\n",
      "max_valid_DN = 65534\n",
      "hemi = 0\n",
      "x range =   98.6875000000,  121.5937500000\n",
      "y range =   40.0000000000,   50.0000000000\n",
      "outsize = 10995, 4800\n",
      "output = [/media/liwei/Data/GCOM-C_RSRF_Valid/reporjection/GC1SG1_20210416D01D_T0425_L2SG_LTOAQ_2011_Lt_PI02.tif]\n",
      "output = [/media/liwei/Data/GCOM-C_RSRF_Valid/reporjection/GC1SG1_20210416D01D_T0425_L2SG_LTOAQ_2011_Lt_PI02.xml]\n",
      "done...\n",
      "Reporjection Finished!\n",
      "Start 20210501\n"
     ]
    },
    {
     "name": "stderr",
     "output_type": "stream",
     "text": [
      "/tmp/ipykernel_1776687/1007119598.py:55: DeprecationWarning: open_rasterio is Deprecated in favor of rioxarray. For information about transitioning, see: https://corteva.github.io/rioxarray/stable/getting_started/getting_started.html\n",
      "  geotiff_da = xr.open_rasterio(filepath)\n"
     ]
    },
    {
     "name": "stdout",
     "output_type": "stream",
     "text": [
      "Start Reporjection Lt_PI01\n",
      "========================== Input parameters ==========================\n",
      "Input file              = /media/liwei/Data/GCOM-C_RSRF_Valid/tile/GC1SG1_20210501D01D_T0425_L2SG_LTOAQ_2011.h5\n",
      "Projection coordinates  = Geodetic Latitude/Longitude\n",
      "Pixel spacing           = 7.500000 sec\n",
      "Resampling method       = BL\n",
      "Data selection          = Image_data/Lt_PI01\n",
      "Output directory        = /media/liwei/Data/GCOM-C_RSRF_Valid/reporjection\n",
      "======================================================================\n",
      "product_type = L2/tile\n",
      "tile = 0425\n",
      "pid = GC1SG1_20210501D01D_T0425_L2SG_LTOAQ_2011\n",
      "data rank = 2\n",
      "data size = 1200/1200\n",
      "data type = unsigned short\n",
      "max_valid_DN = 65534\n",
      "hemi = 0\n",
      "x range =   97.9041666667,  120.8291666667\n",
      "y range =   40.0000000000,   50.0000000000\n",
      "outsize = 11004, 4800\n",
      "output = [/media/liwei/Data/GCOM-C_RSRF_Valid/reporjection/GC1SG1_20210501D01D_T0425_L2SG_LTOAQ_2011_Lt_PI01.tif]\n",
      "output = [/media/liwei/Data/GCOM-C_RSRF_Valid/reporjection/GC1SG1_20210501D01D_T0425_L2SG_LTOAQ_2011_Lt_PI01.xml]\n",
      "done...\n",
      "Reporjection Finished!\n",
      "Start Reporjection Lt_PI02\n"
     ]
    },
    {
     "name": "stderr",
     "output_type": "stream",
     "text": [
      "/tmp/ipykernel_1776687/1007119598.py:55: DeprecationWarning: open_rasterio is Deprecated in favor of rioxarray. For information about transitioning, see: https://corteva.github.io/rioxarray/stable/getting_started/getting_started.html\n",
      "  geotiff_da = xr.open_rasterio(filepath)\n"
     ]
    },
    {
     "name": "stdout",
     "output_type": "stream",
     "text": [
      "========================== Input parameters ==========================\n",
      "Input file              = /media/liwei/Data/GCOM-C_RSRF_Valid/tile/GC1SG1_20210501D01D_T0425_L2SG_LTOAQ_2011.h5\n",
      "Projection coordinates  = Geodetic Latitude/Longitude\n",
      "Pixel spacing           = 7.500000 sec\n",
      "Resampling method       = BL\n",
      "Data selection          = Image_data/Lt_PI02\n",
      "Output directory        = /media/liwei/Data/GCOM-C_RSRF_Valid/reporjection\n",
      "======================================================================\n",
      "product_type = L2/tile\n",
      "tile = 0425\n",
      "pid = GC1SG1_20210501D01D_T0425_L2SG_LTOAQ_2011\n",
      "data rank = 2\n",
      "data size = 1200/1200\n",
      "data type = unsigned short\n",
      "max_valid_DN = 65534\n",
      "hemi = 0\n",
      "x range =   97.9270833333,  120.8291666667\n",
      "y range =   40.0000000000,   50.0000000000\n",
      "outsize = 10993, 4800\n",
      "output = [/media/liwei/Data/GCOM-C_RSRF_Valid/reporjection/GC1SG1_20210501D01D_T0425_L2SG_LTOAQ_2011_Lt_PI02.tif]\n",
      "output = [/media/liwei/Data/GCOM-C_RSRF_Valid/reporjection/GC1SG1_20210501D01D_T0425_L2SG_LTOAQ_2011_Lt_PI02.xml]\n",
      "done...\n",
      "Reporjection Finished!\n",
      "Start 20210505\n"
     ]
    },
    {
     "name": "stderr",
     "output_type": "stream",
     "text": [
      "/tmp/ipykernel_1776687/1007119598.py:55: DeprecationWarning: open_rasterio is Deprecated in favor of rioxarray. For information about transitioning, see: https://corteva.github.io/rioxarray/stable/getting_started/getting_started.html\n",
      "  geotiff_da = xr.open_rasterio(filepath)\n"
     ]
    },
    {
     "name": "stdout",
     "output_type": "stream",
     "text": [
      "Start Reporjection Lt_PI01\n",
      "========================== Input parameters ==========================\n",
      "Input file              = /media/liwei/Data/GCOM-C_RSRF_Valid/tile/GC1SG1_20210505D01D_T0425_L2SG_LTOAQ_2011.h5\n",
      "Projection coordinates  = Geodetic Latitude/Longitude\n",
      "Pixel spacing           = 7.500000 sec\n",
      "Resampling method       = BL\n",
      "Data selection          = Image_data/Lt_PI01\n",
      "Output directory        = /media/liwei/Data/GCOM-C_RSRF_Valid/reporjection\n",
      "======================================================================\n",
      "product_type = L2/tile\n",
      "tile = 0425\n",
      "pid = GC1SG1_20210505D01D_T0425_L2SG_LTOAQ_2011\n",
      "data rank = 2\n",
      "data size = 1200/1200\n",
      "data type = unsigned short\n",
      "max_valid_DN = 65534\n",
      "hemi = 0\n",
      "x range =   99.3833333333,  122.3062500000\n",
      "y range =   40.0000000000,   50.0000000000\n",
      "outsize = 11003, 4800\n",
      "output = [/media/liwei/Data/GCOM-C_RSRF_Valid/reporjection/GC1SG1_20210505D01D_T0425_L2SG_LTOAQ_2011_Lt_PI01.tif]\n",
      "output = [/media/liwei/Data/GCOM-C_RSRF_Valid/reporjection/GC1SG1_20210505D01D_T0425_L2SG_LTOAQ_2011_Lt_PI01.xml]\n",
      "done...\n",
      "Reporjection Finished!\n",
      "Start Reporjection Lt_PI02\n"
     ]
    },
    {
     "name": "stderr",
     "output_type": "stream",
     "text": [
      "/tmp/ipykernel_1776687/1007119598.py:55: DeprecationWarning: open_rasterio is Deprecated in favor of rioxarray. For information about transitioning, see: https://corteva.github.io/rioxarray/stable/getting_started/getting_started.html\n",
      "  geotiff_da = xr.open_rasterio(filepath)\n"
     ]
    },
    {
     "name": "stdout",
     "output_type": "stream",
     "text": [
      "========================== Input parameters ==========================\n",
      "Input file              = /media/liwei/Data/GCOM-C_RSRF_Valid/tile/GC1SG1_20210505D01D_T0425_L2SG_LTOAQ_2011.h5\n",
      "Projection coordinates  = Geodetic Latitude/Longitude\n",
      "Pixel spacing           = 7.500000 sec\n",
      "Resampling method       = BL\n",
      "Data selection          = Image_data/Lt_PI02\n",
      "Output directory        = /media/liwei/Data/GCOM-C_RSRF_Valid/reporjection\n",
      "======================================================================\n",
      "product_type = L2/tile\n",
      "tile = 0425\n",
      "pid = GC1SG1_20210505D01D_T0425_L2SG_LTOAQ_2011\n",
      "data rank = 2\n",
      "data size = 1200/1200\n",
      "data type = unsigned short\n",
      "max_valid_DN = 65534\n",
      "hemi = 0\n",
      "x range =   99.4062500000,  122.3062500000\n",
      "y range =   40.0000000000,   50.0000000000\n",
      "outsize = 10992, 4800\n",
      "output = [/media/liwei/Data/GCOM-C_RSRF_Valid/reporjection/GC1SG1_20210505D01D_T0425_L2SG_LTOAQ_2011_Lt_PI02.tif]\n",
      "output = [/media/liwei/Data/GCOM-C_RSRF_Valid/reporjection/GC1SG1_20210505D01D_T0425_L2SG_LTOAQ_2011_Lt_PI02.xml]\n",
      "done...\n",
      "Reporjection Finished!\n",
      "Start 20210604\n"
     ]
    },
    {
     "name": "stderr",
     "output_type": "stream",
     "text": [
      "/tmp/ipykernel_1776687/1007119598.py:55: DeprecationWarning: open_rasterio is Deprecated in favor of rioxarray. For information about transitioning, see: https://corteva.github.io/rioxarray/stable/getting_started/getting_started.html\n",
      "  geotiff_da = xr.open_rasterio(filepath)\n"
     ]
    },
    {
     "name": "stdout",
     "output_type": "stream",
     "text": [
      "No file 20210604\n"
     ]
    }
   ],
   "source": [
    "# Radiance\n",
    "\n",
    "\n",
    "import os\n",
    "import gdal\n",
    "import numpy as np\n",
    "import xarray as xr\n",
    "from skimage.measure import block_reduce\n",
    "\n",
    "\n",
    "\n",
    "# band = ['Rs_PI01']\n",
    "# band = ['Lt_PI02']\n",
    "band = ['Lt_PI01','Lt_PI02']\n",
    "\n",
    "                                                                                                                                                                                                                                                               \n",
    "\n",
    "for date in d_sgli:\n",
    "    \n",
    "    print('Start {}'.format(date))\n",
    "    save_tile = '/media/liwei/Data/GCOM-C_RSRF_Valid/tile/'\n",
    "    save_Mosaic = '/media/liwei/Data/GCOM-C_RSRF_Valid/Mosaic/'\n",
    "    save_reporjection = '/media/liwei/Data/GCOM-C_RSRF_Valid/reporjection/'\n",
    "    try :\n",
    "        tile_file_name = download_tile(date,save_tile,tile)\n",
    "    except :\n",
    "        print( \"No file {}\".format(date))\n",
    "        pass\n",
    "\n",
    "    else:\n",
    "\n",
    "        for b in band:\n",
    "            if b[0] == 'L':\n",
    "                print('Start Reporjection {}'.format(b))\n",
    "                for fn in tile_file_name:\n",
    "                    reporjection_IMAGE(save_tile+fn,b,save_reporjection)\n",
    "                print('Reporjection Finished!')\n",
    "\n",
    "                save_path = '/media/liwei/Data/GCOM-C_RSRF_Valid/{}/{}/'.format(b,date)\n",
    "                mkdir(save_path)\n",
    "\n",
    "                file  = save_reporjection + tile_file_name[0][:-3] + '_{}.tif'.format(b)\n",
    "                data = SGLI_2_AHI_IMAGE(file,save_path+'{}_{}_{}_rad.dat'.format(b,date,site_name))\n"
   ]
  },
  {
   "cell_type": "code",
   "execution_count": 5,
   "metadata": {},
   "outputs": [],
   "source": [
    "from ftplib import FTP\n",
    "class SGLI_L2_Downloader:\n",
    "    \n",
    "    def __init__ (self, User_ID , ProductName, Ver, Date , Tile , Obrit ,ParaVer, Target_path):\n",
    "        self.User_ID = User_ID\n",
    "        self.ProductName = ProductName\n",
    "        self.Ver = Ver\n",
    "        self.Date = Date\n",
    "        self.Tile = Tile\n",
    "        self.Obrit = Obrit\n",
    "        self.ParaVer = ParaVer\n",
    "        self.Target_path = Target_path\n",
    "        \n",
    "        \n",
    "    def path (self):\n",
    "        return '/standard/GCOM-C/GCOM-C.SGLI/L2.LAND.{}/{}/{}/{}/{}'.format(self.ProductName, self.Ver, self.Date[0:4], self.Date[4:6], self.Date[6:8])\n",
    "\n",
    "    def filename (self):\n",
    "        return 'GC1SG1_{}{}01D_T{}_L2SG_{}Q_{}01{}.h5'.format(self.Date, self.Obrit, self.Tile, self.ProductName, self.Ver, self.ParaVer)\n",
    "    \n",
    "    def login (self):\n",
    "        ftp_addr = 'ftp.gportal.jaxa.jp'\n",
    "        f = FTP(ftp_addr)\n",
    "        f.login(self.User_ID,'anonymous')\n",
    "        \n",
    "        return f\n",
    "    \n",
    "    def download (self, f):\n",
    "        remote_filepath = self.path()\n",
    "        f.cwd(remote_filepath)\n",
    "        list=f.nlst()\n",
    "\n",
    "        bufsize=1024\n",
    "        data = open ('{}{}'.format(self.Target_path, self.filename()), 'wb')\n",
    "        filename = 'RETR ' + self.filename()\n",
    "        f.retrbinary(filename,data.write,bufsize)\n",
    "        \n",
    "    def logout (self, f):\n",
    "        f.quit()\n",
    "    \n",
    "def reporjection_IMAGE(filename,Band,Target_path):\n",
    "    \n",
    "    #print(path)\n",
    "    os.system('/media/liwei/Data/GCOM-C_RSRF/SGLI_geo_map_linux.exe {} -d Image_data/{} -o {} -s 7.5'.format(filename,Band,Target_path[:-1]))         \n",
    "        \n",
    "def mkdir(path):\n",
    "    folder = os.path.exists(path) \n",
    "    if not folder:\n",
    "        os.makedirs(path)\n",
    "        \n",
    "    \n",
    "\n",
    "        \n",
    "def SGLI_2_AHI_IMAGE(filepath,output_path):\n",
    "    geotiff_da = xr.open_rasterio(filepath)\n",
    "    data = geotiff_da.interp(x=lon_y,y=lat_x,method=\"nearest\")\n",
    "    data = np.where(data != 65535, data ,np.nan)\n",
    "    data = data.reshape(row,col)\n",
    "\n",
    "    if b == 'Lt_PI01':\n",
    "        data = data * 0.0000133603 - 0.133765\n",
    "        data = data.reshape(row,col)\n",
    "    elif b == 'Lt_PI02':\n",
    "        data = data * 0.0000283651 - 0.283995\n",
    "        data = block_reduce(data, block_size=(2,2), func=np.nanmean)\n",
    "#     \n",
    "    SR_file=open(output_path,'wb')\n",
    "    data.astype('f4').tofile(SR_file)\n",
    "    SR_file.close()\n",
    "    return data\n",
    "\n",
    "\n",
    "    \n"
   ]
  },
  {
   "cell_type": "code",
   "execution_count": 6,
   "metadata": {},
   "outputs": [],
   "source": [
    "\n",
    "def download_tile(date,save_tile,tile):\n",
    "    tile_file_name = []\n",
    "    g = SGLI_L2_Downloader(\n",
    "        'galiwei ' ,\n",
    "        'LTOA', \n",
    "        '2', \n",
    "         date , \n",
    "         tile, \n",
    "        'D' , \n",
    "        '1' ,\n",
    "         save_tile\n",
    "        )\n",
    "    f = g.login()\n",
    "    g.download(f)\n",
    "    fn = g.filename()\n",
    "    tile_file_name.append(fn) \n",
    "    g.logout(f)\n",
    "    \n",
    "    return tile_file_name"
   ]
  },
  {
   "cell_type": "code",
   "execution_count": 7,
   "metadata": {},
   "outputs": [
    {
     "name": "stdout",
     "output_type": "stream",
     "text": [
      "Start 20200702\n",
      "Start Reporjection Lt_PI01\n",
      "========================== Input parameters ==========================\n",
      "Input file              = /media/liwei/Data/GCOM-C_RSRF_Valid/tile/GC1SG1_20200702D01D_T0425_L2SG_LTOAQ_2011.h5\n",
      "Projection coordinates  = Geodetic Latitude/Longitude\n",
      "Pixel spacing           = 7.500000 sec\n",
      "Resampling method       = BL\n",
      "Data selection          = Image_data/Lt_PI01\n",
      "Output directory        = /media/liwei/Data/GCOM-C_RSRF_Valid/reporjection\n",
      "======================================================================\n",
      "product_type = L2/tile\n",
      "tile = 0425\n",
      "pid = GC1SG1_20200702D01D_T0425_L2SG_LTOAQ_2011\n",
      "data rank = 2\n",
      "data size = 1200/1200\n",
      "data type = unsigned short\n",
      "max_valid_DN = 65534\n",
      "hemi = 0\n",
      "x range =   92.1937500000,  124.4583333333\n",
      "y range =   40.0000000000,   50.0000000000\n",
      "outsize = 15487, 4800\n",
      "output = [/media/liwei/Data/GCOM-C_RSRF_Valid/reporjection/GC1SG1_20200702D01D_T0425_L2SG_LTOAQ_2011_Lt_PI01.tif]\n",
      "output = [/media/liwei/Data/GCOM-C_RSRF_Valid/reporjection/GC1SG1_20200702D01D_T0425_L2SG_LTOAQ_2011_Lt_PI01.xml]\n",
      "done...\n",
      "Reporjection Finished!\n",
      "Start Reporjection Lt_PI02\n"
     ]
    },
    {
     "name": "stderr",
     "output_type": "stream",
     "text": [
      "/tmp/ipykernel_2428263/2503893380.py:55: DeprecationWarning: open_rasterio is Deprecated in favor of rioxarray. For information about transitioning, see: https://corteva.github.io/rioxarray/stable/getting_started/getting_started.html\n",
      "  geotiff_da = xr.open_rasterio(filepath)\n"
     ]
    },
    {
     "name": "stdout",
     "output_type": "stream",
     "text": [
      "========================== Input parameters ==========================\n",
      "Input file              = /media/liwei/Data/GCOM-C_RSRF_Valid/tile/GC1SG1_20200702D01D_T0425_L2SG_LTOAQ_2011.h5\n",
      "Projection coordinates  = Geodetic Latitude/Longitude\n",
      "Pixel spacing           = 7.500000 sec\n",
      "Resampling method       = BL\n",
      "Data selection          = Image_data/Lt_PI02\n",
      "Output directory        = /media/liwei/Data/GCOM-C_RSRF_Valid/reporjection\n",
      "======================================================================\n",
      "product_type = L2/tile\n",
      "tile = 0425\n",
      "pid = GC1SG1_20200702D01D_T0425_L2SG_LTOAQ_2011\n",
      "data rank = 2\n",
      "data size = 1200/1200\n",
      "data type = unsigned short\n",
      "max_valid_DN = 65534\n",
      "hemi = 0\n",
      "x range =   92.2145833333,  124.4583333333\n",
      "y range =   40.0000000000,   50.0000000000\n",
      "outsize = 15477, 4800\n",
      "output = [/media/liwei/Data/GCOM-C_RSRF_Valid/reporjection/GC1SG1_20200702D01D_T0425_L2SG_LTOAQ_2011_Lt_PI02.tif]\n",
      "output = [/media/liwei/Data/GCOM-C_RSRF_Valid/reporjection/GC1SG1_20200702D01D_T0425_L2SG_LTOAQ_2011_Lt_PI02.xml]\n",
      "done...\n",
      "Reporjection Finished!\n",
      "Start 20200713\n"
     ]
    },
    {
     "name": "stderr",
     "output_type": "stream",
     "text": [
      "/tmp/ipykernel_2428263/2503893380.py:55: DeprecationWarning: open_rasterio is Deprecated in favor of rioxarray. For information about transitioning, see: https://corteva.github.io/rioxarray/stable/getting_started/getting_started.html\n",
      "  geotiff_da = xr.open_rasterio(filepath)\n"
     ]
    },
    {
     "name": "stdout",
     "output_type": "stream",
     "text": [
      "Start Reporjection Lt_PI01\n",
      "========================== Input parameters ==========================\n",
      "Input file              = /media/liwei/Data/GCOM-C_RSRF_Valid/tile/GC1SG1_20200713D01D_T0425_L2SG_LTOAQ_2011.h5\n",
      "Projection coordinates  = Geodetic Latitude/Longitude\n",
      "Pixel spacing           = 7.500000 sec\n",
      "Resampling method       = BL\n",
      "Data selection          = Image_data/Lt_PI01\n",
      "Output directory        = /media/liwei/Data/GCOM-C_RSRF_Valid/reporjection\n",
      "======================================================================\n",
      "product_type = L2/tile\n",
      "tile = 0425\n",
      "pid = GC1SG1_20200713D01D_T0425_L2SG_LTOAQ_2011\n",
      "data rank = 2\n",
      "data size = 1200/1200\n",
      "data type = unsigned short\n",
      "max_valid_DN = 65534\n",
      "hemi = 0\n",
      "x range =   91.3770833333,  124.4583333333\n",
      "y range =   40.0000000000,   50.0000000000\n",
      "outsize = 15879, 4800\n",
      "output = [/media/liwei/Data/GCOM-C_RSRF_Valid/reporjection/GC1SG1_20200713D01D_T0425_L2SG_LTOAQ_2011_Lt_PI01.tif]\n",
      "output = [/media/liwei/Data/GCOM-C_RSRF_Valid/reporjection/GC1SG1_20200713D01D_T0425_L2SG_LTOAQ_2011_Lt_PI01.xml]\n",
      "done...\n",
      "Reporjection Finished!\n",
      "Start Reporjection Lt_PI02\n"
     ]
    },
    {
     "name": "stderr",
     "output_type": "stream",
     "text": [
      "/tmp/ipykernel_2428263/2503893380.py:55: DeprecationWarning: open_rasterio is Deprecated in favor of rioxarray. For information about transitioning, see: https://corteva.github.io/rioxarray/stable/getting_started/getting_started.html\n",
      "  geotiff_da = xr.open_rasterio(filepath)\n"
     ]
    },
    {
     "name": "stdout",
     "output_type": "stream",
     "text": [
      "========================== Input parameters ==========================\n",
      "Input file              = /media/liwei/Data/GCOM-C_RSRF_Valid/tile/GC1SG1_20200713D01D_T0425_L2SG_LTOAQ_2011.h5\n",
      "Projection coordinates  = Geodetic Latitude/Longitude\n",
      "Pixel spacing           = 7.500000 sec\n",
      "Resampling method       = BL\n",
      "Data selection          = Image_data/Lt_PI02\n",
      "Output directory        = /media/liwei/Data/GCOM-C_RSRF_Valid/reporjection\n",
      "======================================================================\n",
      "product_type = L2/tile\n",
      "tile = 0425\n",
      "pid = GC1SG1_20200713D01D_T0425_L2SG_LTOAQ_2011\n",
      "data rank = 2\n",
      "data size = 1200/1200\n",
      "data type = unsigned short\n",
      "max_valid_DN = 65534\n",
      "hemi = 0\n",
      "x range =   91.3770833333,  124.4583333333\n",
      "y range =   40.0000000000,   50.0000000000\n",
      "outsize = 15879, 4800\n",
      "output = [/media/liwei/Data/GCOM-C_RSRF_Valid/reporjection/GC1SG1_20200713D01D_T0425_L2SG_LTOAQ_2011_Lt_PI02.tif]\n",
      "output = [/media/liwei/Data/GCOM-C_RSRF_Valid/reporjection/GC1SG1_20200713D01D_T0425_L2SG_LTOAQ_2011_Lt_PI02.xml]\n",
      "done...\n",
      "Reporjection Finished!\n",
      "Start 20200717\n"
     ]
    },
    {
     "name": "stderr",
     "output_type": "stream",
     "text": [
      "/tmp/ipykernel_2428263/2503893380.py:55: DeprecationWarning: open_rasterio is Deprecated in favor of rioxarray. For information about transitioning, see: https://corteva.github.io/rioxarray/stable/getting_started/getting_started.html\n",
      "  geotiff_da = xr.open_rasterio(filepath)\n"
     ]
    },
    {
     "name": "stdout",
     "output_type": "stream",
     "text": [
      "Start Reporjection Lt_PI01\n",
      "========================== Input parameters ==========================\n",
      "Input file              = /media/liwei/Data/GCOM-C_RSRF_Valid/tile/GC1SG1_20200717D01D_T0425_L2SG_LTOAQ_2011.h5\n",
      "Projection coordinates  = Geodetic Latitude/Longitude\n",
      "Pixel spacing           = 7.500000 sec\n",
      "Resampling method       = BL\n",
      "Data selection          = Image_data/Lt_PI01\n",
      "Output directory        = /media/liwei/Data/GCOM-C_RSRF_Valid/reporjection\n",
      "======================================================================\n",
      "product_type = L2/tile\n",
      "tile = 0425\n",
      "pid = GC1SG1_20200717D01D_T0425_L2SG_LTOAQ_2011\n",
      "data rank = 2\n",
      "data size = 1200/1200\n",
      "data type = unsigned short\n",
      "max_valid_DN = 65534\n",
      "hemi = 0\n",
      "x range =   91.4750000000,  124.4583333333\n",
      "y range =   40.0000000000,   50.0000000000\n",
      "outsize = 15832, 4800\n",
      "output = [/media/liwei/Data/GCOM-C_RSRF_Valid/reporjection/GC1SG1_20200717D01D_T0425_L2SG_LTOAQ_2011_Lt_PI01.tif]\n",
      "output = [/media/liwei/Data/GCOM-C_RSRF_Valid/reporjection/GC1SG1_20200717D01D_T0425_L2SG_LTOAQ_2011_Lt_PI01.xml]\n",
      "done...\n",
      "Reporjection Finished!\n",
      "Start Reporjection Lt_PI02\n"
     ]
    },
    {
     "name": "stderr",
     "output_type": "stream",
     "text": [
      "/tmp/ipykernel_2428263/2503893380.py:55: DeprecationWarning: open_rasterio is Deprecated in favor of rioxarray. For information about transitioning, see: https://corteva.github.io/rioxarray/stable/getting_started/getting_started.html\n",
      "  geotiff_da = xr.open_rasterio(filepath)\n"
     ]
    },
    {
     "name": "stdout",
     "output_type": "stream",
     "text": [
      "========================== Input parameters ==========================\n",
      "Input file              = /media/liwei/Data/GCOM-C_RSRF_Valid/tile/GC1SG1_20200717D01D_T0425_L2SG_LTOAQ_2011.h5\n",
      "Projection coordinates  = Geodetic Latitude/Longitude\n",
      "Pixel spacing           = 7.500000 sec\n",
      "Resampling method       = BL\n",
      "Data selection          = Image_data/Lt_PI02\n",
      "Output directory        = /media/liwei/Data/GCOM-C_RSRF_Valid/reporjection\n",
      "======================================================================\n",
      "product_type = L2/tile\n",
      "tile = 0425\n",
      "pid = GC1SG1_20200717D01D_T0425_L2SG_LTOAQ_2011\n",
      "data rank = 2\n",
      "data size = 1200/1200\n",
      "data type = unsigned short\n",
      "max_valid_DN = 65534\n",
      "hemi = 0\n",
      "x range =   91.4979166667,  124.4583333333\n",
      "y range =   40.0000000000,   50.0000000000\n",
      "outsize = 15821, 4800\n",
      "output = [/media/liwei/Data/GCOM-C_RSRF_Valid/reporjection/GC1SG1_20200717D01D_T0425_L2SG_LTOAQ_2011_Lt_PI02.tif]\n",
      "output = [/media/liwei/Data/GCOM-C_RSRF_Valid/reporjection/GC1SG1_20200717D01D_T0425_L2SG_LTOAQ_2011_Lt_PI02.xml]\n",
      "done...\n",
      "Reporjection Finished!\n",
      "Start 20200721\n"
     ]
    },
    {
     "name": "stderr",
     "output_type": "stream",
     "text": [
      "/tmp/ipykernel_2428263/2503893380.py:55: DeprecationWarning: open_rasterio is Deprecated in favor of rioxarray. For information about transitioning, see: https://corteva.github.io/rioxarray/stable/getting_started/getting_started.html\n",
      "  geotiff_da = xr.open_rasterio(filepath)\n"
     ]
    },
    {
     "name": "stdout",
     "output_type": "stream",
     "text": [
      "Start Reporjection Lt_PI01\n",
      "========================== Input parameters ==========================\n",
      "Input file              = /media/liwei/Data/GCOM-C_RSRF_Valid/tile/GC1SG1_20200721D01D_T0425_L2SG_LTOAQ_2011.h5\n",
      "Projection coordinates  = Geodetic Latitude/Longitude\n",
      "Pixel spacing           = 7.500000 sec\n",
      "Resampling method       = BL\n",
      "Data selection          = Image_data/Lt_PI01\n",
      "Output directory        = /media/liwei/Data/GCOM-C_RSRF_Valid/reporjection\n",
      "======================================================================\n",
      "product_type = L2/tile\n",
      "tile = 0425\n",
      "pid = GC1SG1_20200721D01D_T0425_L2SG_LTOAQ_2011\n",
      "data rank = 2\n",
      "data size = 1200/1200\n",
      "data type = unsigned short\n",
      "max_valid_DN = 65534\n",
      "hemi = 0\n",
      "x range =   92.9770833333,  124.4583333333\n",
      "y range =   40.0000000000,   50.0000000000\n",
      "outsize = 15111, 4800\n",
      "output = [/media/liwei/Data/GCOM-C_RSRF_Valid/reporjection/GC1SG1_20200721D01D_T0425_L2SG_LTOAQ_2011_Lt_PI01.tif]\n",
      "output = [/media/liwei/Data/GCOM-C_RSRF_Valid/reporjection/GC1SG1_20200721D01D_T0425_L2SG_LTOAQ_2011_Lt_PI01.xml]\n",
      "done...\n",
      "Reporjection Finished!\n",
      "Start Reporjection Lt_PI02\n"
     ]
    },
    {
     "name": "stderr",
     "output_type": "stream",
     "text": [
      "/tmp/ipykernel_2428263/2503893380.py:55: DeprecationWarning: open_rasterio is Deprecated in favor of rioxarray. For information about transitioning, see: https://corteva.github.io/rioxarray/stable/getting_started/getting_started.html\n",
      "  geotiff_da = xr.open_rasterio(filepath)\n"
     ]
    },
    {
     "name": "stdout",
     "output_type": "stream",
     "text": [
      "========================== Input parameters ==========================\n",
      "Input file              = /media/liwei/Data/GCOM-C_RSRF_Valid/tile/GC1SG1_20200721D01D_T0425_L2SG_LTOAQ_2011.h5\n",
      "Projection coordinates  = Geodetic Latitude/Longitude\n",
      "Pixel spacing           = 7.500000 sec\n",
      "Resampling method       = BL\n",
      "Data selection          = Image_data/Lt_PI02\n",
      "Output directory        = /media/liwei/Data/GCOM-C_RSRF_Valid/reporjection\n",
      "======================================================================\n",
      "product_type = L2/tile\n",
      "tile = 0425\n",
      "pid = GC1SG1_20200721D01D_T0425_L2SG_LTOAQ_2011\n",
      "data rank = 2\n",
      "data size = 1200/1200\n",
      "data type = unsigned short\n",
      "max_valid_DN = 65534\n",
      "hemi = 0\n",
      "x range =   92.9979166667,  124.4583333333\n",
      "y range =   40.0000000000,   50.0000000000\n",
      "outsize = 15101, 4800\n",
      "output = [/media/liwei/Data/GCOM-C_RSRF_Valid/reporjection/GC1SG1_20200721D01D_T0425_L2SG_LTOAQ_2011_Lt_PI02.tif]\n",
      "output = [/media/liwei/Data/GCOM-C_RSRF_Valid/reporjection/GC1SG1_20200721D01D_T0425_L2SG_LTOAQ_2011_Lt_PI02.xml]\n",
      "done...\n",
      "Reporjection Finished!\n",
      "Start 20200801\n"
     ]
    },
    {
     "name": "stderr",
     "output_type": "stream",
     "text": [
      "/tmp/ipykernel_2428263/2503893380.py:55: DeprecationWarning: open_rasterio is Deprecated in favor of rioxarray. For information about transitioning, see: https://corteva.github.io/rioxarray/stable/getting_started/getting_started.html\n",
      "  geotiff_da = xr.open_rasterio(filepath)\n"
     ]
    },
    {
     "name": "stdout",
     "output_type": "stream",
     "text": [
      "Start Reporjection Lt_PI01\n",
      "========================== Input parameters ==========================\n",
      "Input file              = /media/liwei/Data/GCOM-C_RSRF_Valid/tile/GC1SG1_20200801D01D_T0425_L2SG_LTOAQ_2011.h5\n",
      "Projection coordinates  = Geodetic Latitude/Longitude\n",
      "Pixel spacing           = 7.500000 sec\n",
      "Resampling method       = BL\n",
      "Data selection          = Image_data/Lt_PI01\n",
      "Output directory        = /media/liwei/Data/GCOM-C_RSRF_Valid/reporjection\n",
      "======================================================================\n",
      "product_type = L2/tile\n",
      "tile = 0425\n",
      "pid = GC1SG1_20200801D01D_T0425_L2SG_LTOAQ_2011\n",
      "data rank = 2\n",
      "data size = 1200/1200\n",
      "data type = unsigned short\n",
      "max_valid_DN = 65534\n",
      "hemi = 0\n",
      "x range =   91.3770833333,  124.4583333333\n",
      "y range =   40.0000000000,   50.0000000000\n",
      "outsize = 15879, 4800\n",
      "output = [/media/liwei/Data/GCOM-C_RSRF_Valid/reporjection/GC1SG1_20200801D01D_T0425_L2SG_LTOAQ_2011_Lt_PI01.tif]\n",
      "output = [/media/liwei/Data/GCOM-C_RSRF_Valid/reporjection/GC1SG1_20200801D01D_T0425_L2SG_LTOAQ_2011_Lt_PI01.xml]\n",
      "done...\n",
      "Reporjection Finished!\n"
     ]
    },
    {
     "name": "stderr",
     "output_type": "stream",
     "text": [
      "/tmp/ipykernel_2428263/2503893380.py:55: DeprecationWarning: open_rasterio is Deprecated in favor of rioxarray. For information about transitioning, see: https://corteva.github.io/rioxarray/stable/getting_started/getting_started.html\n",
      "  geotiff_da = xr.open_rasterio(filepath)\n"
     ]
    },
    {
     "name": "stdout",
     "output_type": "stream",
     "text": [
      "Start Reporjection Lt_PI02\n",
      "========================== Input parameters ==========================\n",
      "Input file              = /media/liwei/Data/GCOM-C_RSRF_Valid/tile/GC1SG1_20200801D01D_T0425_L2SG_LTOAQ_2011.h5\n",
      "Projection coordinates  = Geodetic Latitude/Longitude\n",
      "Pixel spacing           = 7.500000 sec\n",
      "Resampling method       = BL\n",
      "Data selection          = Image_data/Lt_PI02\n",
      "Output directory        = /media/liwei/Data/GCOM-C_RSRF_Valid/reporjection\n",
      "======================================================================\n",
      "product_type = L2/tile\n",
      "tile = 0425\n",
      "pid = GC1SG1_20200801D01D_T0425_L2SG_LTOAQ_2011\n",
      "data rank = 2\n",
      "data size = 1200/1200\n",
      "data type = unsigned short\n",
      "max_valid_DN = 65534\n",
      "hemi = 0\n",
      "x range =   91.3770833333,  124.4583333333\n",
      "y range =   40.0000000000,   50.0000000000\n",
      "outsize = 15879, 4800\n",
      "output = [/media/liwei/Data/GCOM-C_RSRF_Valid/reporjection/GC1SG1_20200801D01D_T0425_L2SG_LTOAQ_2011_Lt_PI02.tif]\n",
      "output = [/media/liwei/Data/GCOM-C_RSRF_Valid/reporjection/GC1SG1_20200801D01D_T0425_L2SG_LTOAQ_2011_Lt_PI02.xml]\n",
      "done...\n",
      "Reporjection Finished!\n",
      "Start 20200805\n"
     ]
    },
    {
     "name": "stderr",
     "output_type": "stream",
     "text": [
      "/tmp/ipykernel_2428263/2503893380.py:55: DeprecationWarning: open_rasterio is Deprecated in favor of rioxarray. For information about transitioning, see: https://corteva.github.io/rioxarray/stable/getting_started/getting_started.html\n",
      "  geotiff_da = xr.open_rasterio(filepath)\n"
     ]
    },
    {
     "name": "stdout",
     "output_type": "stream",
     "text": [
      "Start Reporjection Lt_PI01\n",
      "========================== Input parameters ==========================\n",
      "Input file              = /media/liwei/Data/GCOM-C_RSRF_Valid/tile/GC1SG1_20200805D01D_T0425_L2SG_LTOAQ_2011.h5\n",
      "Projection coordinates  = Geodetic Latitude/Longitude\n",
      "Pixel spacing           = 7.500000 sec\n",
      "Resampling method       = BL\n",
      "Data selection          = Image_data/Lt_PI01\n",
      "Output directory        = /media/liwei/Data/GCOM-C_RSRF_Valid/reporjection\n",
      "======================================================================\n",
      "product_type = L2/tile\n",
      "tile = 0425\n",
      "pid = GC1SG1_20200805D01D_T0425_L2SG_LTOAQ_2011\n",
      "data rank = 2\n",
      "data size = 1200/1200\n",
      "data type = unsigned short\n",
      "max_valid_DN = 65534\n",
      "hemi = 0\n",
      "x range =   92.2687500000,  124.4583333333\n",
      "y range =   40.0000000000,   50.0000000000\n",
      "outsize = 15451, 4800\n",
      "output = [/media/liwei/Data/GCOM-C_RSRF_Valid/reporjection/GC1SG1_20200805D01D_T0425_L2SG_LTOAQ_2011_Lt_PI01.tif]\n",
      "output = [/media/liwei/Data/GCOM-C_RSRF_Valid/reporjection/GC1SG1_20200805D01D_T0425_L2SG_LTOAQ_2011_Lt_PI01.xml]\n",
      "done...\n",
      "Reporjection Finished!\n",
      "Start Reporjection Lt_PI02\n"
     ]
    },
    {
     "name": "stderr",
     "output_type": "stream",
     "text": [
      "/tmp/ipykernel_2428263/2503893380.py:55: DeprecationWarning: open_rasterio is Deprecated in favor of rioxarray. For information about transitioning, see: https://corteva.github.io/rioxarray/stable/getting_started/getting_started.html\n",
      "  geotiff_da = xr.open_rasterio(filepath)\n"
     ]
    },
    {
     "name": "stdout",
     "output_type": "stream",
     "text": [
      "========================== Input parameters ==========================\n",
      "Input file              = /media/liwei/Data/GCOM-C_RSRF_Valid/tile/GC1SG1_20200805D01D_T0425_L2SG_LTOAQ_2011.h5\n",
      "Projection coordinates  = Geodetic Latitude/Longitude\n",
      "Pixel spacing           = 7.500000 sec\n",
      "Resampling method       = BL\n",
      "Data selection          = Image_data/Lt_PI02\n",
      "Output directory        = /media/liwei/Data/GCOM-C_RSRF_Valid/reporjection\n",
      "======================================================================\n",
      "product_type = L2/tile\n",
      "tile = 0425\n",
      "pid = GC1SG1_20200805D01D_T0425_L2SG_LTOAQ_2011\n",
      "data rank = 2\n",
      "data size = 1200/1200\n",
      "data type = unsigned short\n",
      "max_valid_DN = 65534\n",
      "hemi = 0\n",
      "x range =   92.2916666667,  124.4583333333\n",
      "y range =   40.0000000000,   50.0000000000\n",
      "outsize = 15440, 4800\n",
      "output = [/media/liwei/Data/GCOM-C_RSRF_Valid/reporjection/GC1SG1_20200805D01D_T0425_L2SG_LTOAQ_2011_Lt_PI02.tif]\n",
      "output = [/media/liwei/Data/GCOM-C_RSRF_Valid/reporjection/GC1SG1_20200805D01D_T0425_L2SG_LTOAQ_2011_Lt_PI02.xml]\n",
      "done...\n",
      "Reporjection Finished!\n",
      "Start 20200816\n"
     ]
    },
    {
     "name": "stderr",
     "output_type": "stream",
     "text": [
      "/tmp/ipykernel_2428263/2503893380.py:55: DeprecationWarning: open_rasterio is Deprecated in favor of rioxarray. For information about transitioning, see: https://corteva.github.io/rioxarray/stable/getting_started/getting_started.html\n",
      "  geotiff_da = xr.open_rasterio(filepath)\n"
     ]
    },
    {
     "name": "stdout",
     "output_type": "stream",
     "text": [
      "Start Reporjection Lt_PI01\n",
      "========================== Input parameters ==========================\n",
      "Input file              = /media/liwei/Data/GCOM-C_RSRF_Valid/tile/GC1SG1_20200816D01D_T0425_L2SG_LTOAQ_2011.h5\n",
      "Projection coordinates  = Geodetic Latitude/Longitude\n",
      "Pixel spacing           = 7.500000 sec\n",
      "Resampling method       = BL\n",
      "Data selection          = Image_data/Lt_PI01\n",
      "Output directory        = /media/liwei/Data/GCOM-C_RSRF_Valid/reporjection\n",
      "======================================================================\n",
      "product_type = L2/tile\n",
      "tile = 0425\n",
      "pid = GC1SG1_20200816D01D_T0425_L2SG_LTOAQ_2011\n",
      "data rank = 2\n",
      "data size = 1200/1200\n",
      "data type = unsigned short\n",
      "max_valid_DN = 65534\n",
      "hemi = 0\n",
      "x range =   91.3770833333,  124.4583333333\n",
      "y range =   40.0000000000,   50.0000000000\n",
      "outsize = 15879, 4800\n",
      "output = [/media/liwei/Data/GCOM-C_RSRF_Valid/reporjection/GC1SG1_20200816D01D_T0425_L2SG_LTOAQ_2011_Lt_PI01.tif]\n",
      "output = [/media/liwei/Data/GCOM-C_RSRF_Valid/reporjection/GC1SG1_20200816D01D_T0425_L2SG_LTOAQ_2011_Lt_PI01.xml]\n",
      "done...\n",
      "Reporjection Finished!\n",
      "Start Reporjection Lt_PI02\n"
     ]
    },
    {
     "name": "stderr",
     "output_type": "stream",
     "text": [
      "/tmp/ipykernel_2428263/2503893380.py:55: DeprecationWarning: open_rasterio is Deprecated in favor of rioxarray. For information about transitioning, see: https://corteva.github.io/rioxarray/stable/getting_started/getting_started.html\n",
      "  geotiff_da = xr.open_rasterio(filepath)\n"
     ]
    },
    {
     "name": "stdout",
     "output_type": "stream",
     "text": [
      "========================== Input parameters ==========================\n",
      "Input file              = /media/liwei/Data/GCOM-C_RSRF_Valid/tile/GC1SG1_20200816D01D_T0425_L2SG_LTOAQ_2011.h5\n",
      "Projection coordinates  = Geodetic Latitude/Longitude\n",
      "Pixel spacing           = 7.500000 sec\n",
      "Resampling method       = BL\n",
      "Data selection          = Image_data/Lt_PI02\n",
      "Output directory        = /media/liwei/Data/GCOM-C_RSRF_Valid/reporjection\n",
      "======================================================================\n",
      "product_type = L2/tile\n",
      "tile = 0425\n",
      "pid = GC1SG1_20200816D01D_T0425_L2SG_LTOAQ_2011\n",
      "data rank = 2\n",
      "data size = 1200/1200\n",
      "data type = unsigned short\n",
      "max_valid_DN = 65534\n",
      "hemi = 0\n",
      "x range =   91.3770833333,  124.4583333333\n",
      "y range =   40.0000000000,   50.0000000000\n",
      "outsize = 15879, 4800\n",
      "output = [/media/liwei/Data/GCOM-C_RSRF_Valid/reporjection/GC1SG1_20200816D01D_T0425_L2SG_LTOAQ_2011_Lt_PI02.tif]\n",
      "output = [/media/liwei/Data/GCOM-C_RSRF_Valid/reporjection/GC1SG1_20200816D01D_T0425_L2SG_LTOAQ_2011_Lt_PI02.xml]\n",
      "done...\n",
      "Reporjection Finished!\n",
      "Start 20200820\n"
     ]
    },
    {
     "name": "stderr",
     "output_type": "stream",
     "text": [
      "/tmp/ipykernel_2428263/2503893380.py:55: DeprecationWarning: open_rasterio is Deprecated in favor of rioxarray. For information about transitioning, see: https://corteva.github.io/rioxarray/stable/getting_started/getting_started.html\n",
      "  geotiff_da = xr.open_rasterio(filepath)\n"
     ]
    },
    {
     "name": "stdout",
     "output_type": "stream",
     "text": [
      "Start Reporjection Lt_PI01\n",
      "========================== Input parameters ==========================\n",
      "Input file              = /media/liwei/Data/GCOM-C_RSRF_Valid/tile/GC1SG1_20200820D01D_T0425_L2SG_LTOAQ_2011.h5\n",
      "Projection coordinates  = Geodetic Latitude/Longitude\n",
      "Pixel spacing           = 7.500000 sec\n",
      "Resampling method       = BL\n",
      "Data selection          = Image_data/Lt_PI01\n",
      "Output directory        = /media/liwei/Data/GCOM-C_RSRF_Valid/reporjection\n",
      "======================================================================\n",
      "product_type = L2/tile\n",
      "tile = 0425\n",
      "pid = GC1SG1_20200820D01D_T0425_L2SG_LTOAQ_2011\n",
      "data rank = 2\n",
      "data size = 1200/1200\n",
      "data type = unsigned short\n",
      "max_valid_DN = 65534\n",
      "hemi = 0\n",
      "x range =   91.5625000000,  124.4583333333\n",
      "y range =   40.0000000000,   50.0000000000\n",
      "outsize = 15790, 4800\n",
      "output = [/media/liwei/Data/GCOM-C_RSRF_Valid/reporjection/GC1SG1_20200820D01D_T0425_L2SG_LTOAQ_2011_Lt_PI01.tif]\n",
      "output = [/media/liwei/Data/GCOM-C_RSRF_Valid/reporjection/GC1SG1_20200820D01D_T0425_L2SG_LTOAQ_2011_Lt_PI01.xml]\n",
      "done...\n",
      "Reporjection Finished!\n",
      "Start Reporjection Lt_PI02\n"
     ]
    },
    {
     "name": "stderr",
     "output_type": "stream",
     "text": [
      "/tmp/ipykernel_2428263/2503893380.py:55: DeprecationWarning: open_rasterio is Deprecated in favor of rioxarray. For information about transitioning, see: https://corteva.github.io/rioxarray/stable/getting_started/getting_started.html\n",
      "  geotiff_da = xr.open_rasterio(filepath)\n"
     ]
    },
    {
     "name": "stdout",
     "output_type": "stream",
     "text": [
      "========================== Input parameters ==========================\n",
      "Input file              = /media/liwei/Data/GCOM-C_RSRF_Valid/tile/GC1SG1_20200820D01D_T0425_L2SG_LTOAQ_2011.h5\n",
      "Projection coordinates  = Geodetic Latitude/Longitude\n",
      "Pixel spacing           = 7.500000 sec\n",
      "Resampling method       = BL\n",
      "Data selection          = Image_data/Lt_PI02\n",
      "Output directory        = /media/liwei/Data/GCOM-C_RSRF_Valid/reporjection\n",
      "======================================================================\n",
      "product_type = L2/tile\n",
      "tile = 0425\n",
      "pid = GC1SG1_20200820D01D_T0425_L2SG_LTOAQ_2011\n",
      "data rank = 2\n",
      "data size = 1200/1200\n",
      "data type = unsigned short\n",
      "max_valid_DN = 65534\n",
      "hemi = 0\n",
      "x range =   91.5833333333,  124.4583333333\n",
      "y range =   40.0000000000,   50.0000000000\n",
      "outsize = 15780, 4800\n",
      "output = [/media/liwei/Data/GCOM-C_RSRF_Valid/reporjection/GC1SG1_20200820D01D_T0425_L2SG_LTOAQ_2011_Lt_PI02.tif]\n",
      "output = [/media/liwei/Data/GCOM-C_RSRF_Valid/reporjection/GC1SG1_20200820D01D_T0425_L2SG_LTOAQ_2011_Lt_PI02.xml]\n",
      "done...\n",
      "Reporjection Finished!\n",
      "Start 20200824\n"
     ]
    },
    {
     "name": "stderr",
     "output_type": "stream",
     "text": [
      "/tmp/ipykernel_2428263/2503893380.py:55: DeprecationWarning: open_rasterio is Deprecated in favor of rioxarray. For information about transitioning, see: https://corteva.github.io/rioxarray/stable/getting_started/getting_started.html\n",
      "  geotiff_da = xr.open_rasterio(filepath)\n"
     ]
    },
    {
     "name": "stdout",
     "output_type": "stream",
     "text": [
      "Start Reporjection Lt_PI01\n",
      "========================== Input parameters ==========================\n",
      "Input file              = /media/liwei/Data/GCOM-C_RSRF_Valid/tile/GC1SG1_20200824D01D_T0425_L2SG_LTOAQ_2011.h5\n",
      "Projection coordinates  = Geodetic Latitude/Longitude\n",
      "Pixel spacing           = 7.500000 sec\n",
      "Resampling method       = BL\n",
      "Data selection          = Image_data/Lt_PI01\n",
      "Output directory        = /media/liwei/Data/GCOM-C_RSRF_Valid/reporjection\n",
      "======================================================================\n",
      "product_type = L2/tile\n",
      "tile = 0425\n",
      "pid = GC1SG1_20200824D01D_T0425_L2SG_LTOAQ_2011\n",
      "data rank = 2\n",
      "data size = 1200/1200\n",
      "data type = unsigned short\n",
      "max_valid_DN = 65534\n",
      "hemi = 0\n",
      "x range =   93.0520833333,  124.4583333333\n",
      "y range =   40.0000000000,   50.0000000000\n",
      "outsize = 15075, 4800\n",
      "output = [/media/liwei/Data/GCOM-C_RSRF_Valid/reporjection/GC1SG1_20200824D01D_T0425_L2SG_LTOAQ_2011_Lt_PI01.tif]\n",
      "output = [/media/liwei/Data/GCOM-C_RSRF_Valid/reporjection/GC1SG1_20200824D01D_T0425_L2SG_LTOAQ_2011_Lt_PI01.xml]\n",
      "done...\n",
      "Reporjection Finished!\n",
      "Start Reporjection Lt_PI02\n"
     ]
    },
    {
     "name": "stderr",
     "output_type": "stream",
     "text": [
      "/tmp/ipykernel_2428263/2503893380.py:55: DeprecationWarning: open_rasterio is Deprecated in favor of rioxarray. For information about transitioning, see: https://corteva.github.io/rioxarray/stable/getting_started/getting_started.html\n",
      "  geotiff_da = xr.open_rasterio(filepath)\n"
     ]
    },
    {
     "name": "stdout",
     "output_type": "stream",
     "text": [
      "========================== Input parameters ==========================\n",
      "Input file              = /media/liwei/Data/GCOM-C_RSRF_Valid/tile/GC1SG1_20200824D01D_T0425_L2SG_LTOAQ_2011.h5\n",
      "Projection coordinates  = Geodetic Latitude/Longitude\n",
      "Pixel spacing           = 7.500000 sec\n",
      "Resampling method       = BL\n",
      "Data selection          = Image_data/Lt_PI02\n",
      "Output directory        = /media/liwei/Data/GCOM-C_RSRF_Valid/reporjection\n",
      "======================================================================\n",
      "product_type = L2/tile\n",
      "tile = 0425\n",
      "pid = GC1SG1_20200824D01D_T0425_L2SG_LTOAQ_2011\n",
      "data rank = 2\n",
      "data size = 1200/1200\n",
      "data type = unsigned short\n",
      "max_valid_DN = 65534\n",
      "hemi = 0\n",
      "x range =   93.0750000000,  124.4583333333\n",
      "y range =   40.0000000000,   50.0000000000\n",
      "outsize = 15064, 4800\n",
      "output = [/media/liwei/Data/GCOM-C_RSRF_Valid/reporjection/GC1SG1_20200824D01D_T0425_L2SG_LTOAQ_2011_Lt_PI02.tif]\n",
      "output = [/media/liwei/Data/GCOM-C_RSRF_Valid/reporjection/GC1SG1_20200824D01D_T0425_L2SG_LTOAQ_2011_Lt_PI02.xml]\n",
      "done...\n",
      "Reporjection Finished!\n"
     ]
    },
    {
     "name": "stderr",
     "output_type": "stream",
     "text": [
      "/tmp/ipykernel_2428263/2503893380.py:55: DeprecationWarning: open_rasterio is Deprecated in favor of rioxarray. For information about transitioning, see: https://corteva.github.io/rioxarray/stable/getting_started/getting_started.html\n",
      "  geotiff_da = xr.open_rasterio(filepath)\n"
     ]
    },
    {
     "name": "stdout",
     "output_type": "stream",
     "text": [
      "Start 20200908\n",
      "Start Reporjection Lt_PI01\n",
      "========================== Input parameters ==========================\n",
      "Input file              = /media/liwei/Data/GCOM-C_RSRF_Valid/tile/GC1SG1_20200908D01D_T0425_L2SG_LTOAQ_2011.h5\n",
      "Projection coordinates  = Geodetic Latitude/Longitude\n",
      "Pixel spacing           = 7.500000 sec\n",
      "Resampling method       = BL\n",
      "Data selection          = Image_data/Lt_PI01\n",
      "Output directory        = /media/liwei/Data/GCOM-C_RSRF_Valid/reporjection\n",
      "======================================================================\n",
      "product_type = L2/tile\n",
      "tile = 0425\n",
      "pid = GC1SG1_20200908D01D_T0425_L2SG_LTOAQ_2011\n",
      "data rank = 2\n",
      "data size = 1200/1200\n",
      "data type = unsigned short\n",
      "max_valid_DN = 65534\n",
      "hemi = 0\n",
      "x range =   92.3458333333,  124.4583333333\n",
      "y range =   40.0000000000,   50.0000000000\n",
      "outsize = 15414, 4800\n",
      "output = [/media/liwei/Data/GCOM-C_RSRF_Valid/reporjection/GC1SG1_20200908D01D_T0425_L2SG_LTOAQ_2011_Lt_PI01.tif]\n",
      "output = [/media/liwei/Data/GCOM-C_RSRF_Valid/reporjection/GC1SG1_20200908D01D_T0425_L2SG_LTOAQ_2011_Lt_PI01.xml]\n",
      "done...\n",
      "Reporjection Finished!\n",
      "Start Reporjection Lt_PI02\n"
     ]
    },
    {
     "name": "stderr",
     "output_type": "stream",
     "text": [
      "/tmp/ipykernel_2428263/2503893380.py:55: DeprecationWarning: open_rasterio is Deprecated in favor of rioxarray. For information about transitioning, see: https://corteva.github.io/rioxarray/stable/getting_started/getting_started.html\n",
      "  geotiff_da = xr.open_rasterio(filepath)\n"
     ]
    },
    {
     "name": "stdout",
     "output_type": "stream",
     "text": [
      "========================== Input parameters ==========================\n",
      "Input file              = /media/liwei/Data/GCOM-C_RSRF_Valid/tile/GC1SG1_20200908D01D_T0425_L2SG_LTOAQ_2011.h5\n",
      "Projection coordinates  = Geodetic Latitude/Longitude\n",
      "Pixel spacing           = 7.500000 sec\n",
      "Resampling method       = BL\n",
      "Data selection          = Image_data/Lt_PI02\n",
      "Output directory        = /media/liwei/Data/GCOM-C_RSRF_Valid/reporjection\n",
      "======================================================================\n",
      "product_type = L2/tile\n",
      "tile = 0425\n",
      "pid = GC1SG1_20200908D01D_T0425_L2SG_LTOAQ_2011\n",
      "data rank = 2\n",
      "data size = 1200/1200\n",
      "data type = unsigned short\n",
      "max_valid_DN = 65534\n",
      "hemi = 0\n",
      "x range =   92.3666666667,  124.4583333333\n",
      "y range =   40.0000000000,   50.0000000000\n",
      "outsize = 15404, 4800\n",
      "output = [/media/liwei/Data/GCOM-C_RSRF_Valid/reporjection/GC1SG1_20200908D01D_T0425_L2SG_LTOAQ_2011_Lt_PI02.tif]\n",
      "output = [/media/liwei/Data/GCOM-C_RSRF_Valid/reporjection/GC1SG1_20200908D01D_T0425_L2SG_LTOAQ_2011_Lt_PI02.xml]\n",
      "done...\n",
      "Reporjection Finished!\n",
      "Start 20210225\n"
     ]
    },
    {
     "name": "stderr",
     "output_type": "stream",
     "text": [
      "/tmp/ipykernel_2428263/2503893380.py:55: DeprecationWarning: open_rasterio is Deprecated in favor of rioxarray. For information about transitioning, see: https://corteva.github.io/rioxarray/stable/getting_started/getting_started.html\n",
      "  geotiff_da = xr.open_rasterio(filepath)\n"
     ]
    },
    {
     "name": "stdout",
     "output_type": "stream",
     "text": [
      "Start Reporjection Lt_PI01\n",
      "========================== Input parameters ==========================\n",
      "Input file              = /media/liwei/Data/GCOM-C_RSRF_Valid/tile/GC1SG1_20210225D01D_T0425_L2SG_LTOAQ_2011.h5\n",
      "Projection coordinates  = Geodetic Latitude/Longitude\n",
      "Pixel spacing           = 7.500000 sec\n",
      "Resampling method       = BL\n",
      "Data selection          = Image_data/Lt_PI01\n",
      "Output directory        = /media/liwei/Data/GCOM-C_RSRF_Valid/reporjection\n",
      "======================================================================\n",
      "product_type = L2/tile\n",
      "tile = 0425\n",
      "pid = GC1SG1_20210225D01D_T0425_L2SG_LTOAQ_2011\n",
      "data rank = 2\n",
      "data size = 1200/1200\n",
      "data type = unsigned short\n",
      "max_valid_DN = 65534\n",
      "hemi = 0\n",
      "x range =   92.8354166667,  124.4583333333\n",
      "y range =   40.0000000000,   50.0000000000\n",
      "outsize = 15179, 4800\n",
      "output = [/media/liwei/Data/GCOM-C_RSRF_Valid/reporjection/GC1SG1_20210225D01D_T0425_L2SG_LTOAQ_2011_Lt_PI01.tif]\n",
      "output = [/media/liwei/Data/GCOM-C_RSRF_Valid/reporjection/GC1SG1_20210225D01D_T0425_L2SG_LTOAQ_2011_Lt_PI01.xml]\n",
      "done...\n",
      "Reporjection Finished!\n",
      "Start Reporjection Lt_PI02\n"
     ]
    },
    {
     "name": "stderr",
     "output_type": "stream",
     "text": [
      "/tmp/ipykernel_2428263/2503893380.py:55: DeprecationWarning: open_rasterio is Deprecated in favor of rioxarray. For information about transitioning, see: https://corteva.github.io/rioxarray/stable/getting_started/getting_started.html\n",
      "  geotiff_da = xr.open_rasterio(filepath)\n"
     ]
    },
    {
     "name": "stdout",
     "output_type": "stream",
     "text": [
      "========================== Input parameters ==========================\n",
      "Input file              = /media/liwei/Data/GCOM-C_RSRF_Valid/tile/GC1SG1_20210225D01D_T0425_L2SG_LTOAQ_2011.h5\n",
      "Projection coordinates  = Geodetic Latitude/Longitude\n",
      "Pixel spacing           = 7.500000 sec\n",
      "Resampling method       = BL\n",
      "Data selection          = Image_data/Lt_PI02\n",
      "Output directory        = /media/liwei/Data/GCOM-C_RSRF_Valid/reporjection\n",
      "======================================================================\n",
      "product_type = L2/tile\n",
      "tile = 0425\n",
      "pid = GC1SG1_20210225D01D_T0425_L2SG_LTOAQ_2011\n",
      "data rank = 2\n",
      "data size = 1200/1200\n",
      "data type = unsigned short\n",
      "max_valid_DN = 65534\n",
      "hemi = 0\n",
      "x range =   92.8562500000,  124.4583333333\n",
      "y range =   40.0000000000,   50.0000000000\n",
      "outsize = 15169, 4800\n",
      "output = [/media/liwei/Data/GCOM-C_RSRF_Valid/reporjection/GC1SG1_20210225D01D_T0425_L2SG_LTOAQ_2011_Lt_PI02.tif]\n",
      "output = [/media/liwei/Data/GCOM-C_RSRF_Valid/reporjection/GC1SG1_20210225D01D_T0425_L2SG_LTOAQ_2011_Lt_PI02.xml]\n",
      "done...\n",
      "Reporjection Finished!\n"
     ]
    },
    {
     "name": "stderr",
     "output_type": "stream",
     "text": [
      "/tmp/ipykernel_2428263/2503893380.py:55: DeprecationWarning: open_rasterio is Deprecated in favor of rioxarray. For information about transitioning, see: https://corteva.github.io/rioxarray/stable/getting_started/getting_started.html\n",
      "  geotiff_da = xr.open_rasterio(filepath)\n"
     ]
    },
    {
     "name": "stdout",
     "output_type": "stream",
     "text": [
      "Start 20210312\n",
      "Start Reporjection Lt_PI01\n",
      "========================== Input parameters ==========================\n",
      "Input file              = /media/liwei/Data/GCOM-C_RSRF_Valid/tile/GC1SG1_20210312D01D_T0425_L2SG_LTOAQ_2011.h5\n",
      "Projection coordinates  = Geodetic Latitude/Longitude\n",
      "Pixel spacing           = 7.500000 sec\n",
      "Resampling method       = BL\n",
      "Data selection          = Image_data/Lt_PI01\n",
      "Output directory        = /media/liwei/Data/GCOM-C_RSRF_Valid/reporjection\n",
      "======================================================================\n",
      "product_type = L2/tile\n",
      "tile = 0425\n",
      "pid = GC1SG1_20210312D01D_T0425_L2SG_LTOAQ_2011\n",
      "data rank = 2\n",
      "data size = 1200/1200\n",
      "data type = unsigned short\n",
      "max_valid_DN = 65534\n",
      "hemi = 0\n",
      "x range =   92.0625000000,  124.4583333333\n",
      "y range =   40.0000000000,   50.0000000000\n",
      "outsize = 15550, 4800\n",
      "output = [/media/liwei/Data/GCOM-C_RSRF_Valid/reporjection/GC1SG1_20210312D01D_T0425_L2SG_LTOAQ_2011_Lt_PI01.tif]\n",
      "output = [/media/liwei/Data/GCOM-C_RSRF_Valid/reporjection/GC1SG1_20210312D01D_T0425_L2SG_LTOAQ_2011_Lt_PI01.xml]\n",
      "done...\n",
      "Reporjection Finished!\n",
      "Start Reporjection Lt_PI02\n"
     ]
    },
    {
     "name": "stderr",
     "output_type": "stream",
     "text": [
      "/tmp/ipykernel_2428263/2503893380.py:55: DeprecationWarning: open_rasterio is Deprecated in favor of rioxarray. For information about transitioning, see: https://corteva.github.io/rioxarray/stable/getting_started/getting_started.html\n",
      "  geotiff_da = xr.open_rasterio(filepath)\n"
     ]
    },
    {
     "name": "stdout",
     "output_type": "stream",
     "text": [
      "========================== Input parameters ==========================\n",
      "Input file              = /media/liwei/Data/GCOM-C_RSRF_Valid/tile/GC1SG1_20210312D01D_T0425_L2SG_LTOAQ_2011.h5\n",
      "Projection coordinates  = Geodetic Latitude/Longitude\n",
      "Pixel spacing           = 7.500000 sec\n",
      "Resampling method       = BL\n",
      "Data selection          = Image_data/Lt_PI02\n",
      "Output directory        = /media/liwei/Data/GCOM-C_RSRF_Valid/reporjection\n",
      "======================================================================\n",
      "product_type = L2/tile\n",
      "tile = 0425\n",
      "pid = GC1SG1_20210312D01D_T0425_L2SG_LTOAQ_2011\n",
      "data rank = 2\n",
      "data size = 1200/1200\n",
      "data type = unsigned short\n",
      "max_valid_DN = 65534\n",
      "hemi = 0\n",
      "x range =   92.0729166667,  124.4583333333\n",
      "y range =   40.0000000000,   50.0000000000\n",
      "outsize = 15545, 4800\n",
      "output = [/media/liwei/Data/GCOM-C_RSRF_Valid/reporjection/GC1SG1_20210312D01D_T0425_L2SG_LTOAQ_2011_Lt_PI02.tif]\n",
      "output = [/media/liwei/Data/GCOM-C_RSRF_Valid/reporjection/GC1SG1_20210312D01D_T0425_L2SG_LTOAQ_2011_Lt_PI02.xml]\n",
      "done...\n",
      "Reporjection Finished!\n",
      "Start 20210316\n"
     ]
    },
    {
     "name": "stderr",
     "output_type": "stream",
     "text": [
      "/tmp/ipykernel_2428263/2503893380.py:55: DeprecationWarning: open_rasterio is Deprecated in favor of rioxarray. For information about transitioning, see: https://corteva.github.io/rioxarray/stable/getting_started/getting_started.html\n",
      "  geotiff_da = xr.open_rasterio(filepath)\n"
     ]
    },
    {
     "name": "stdout",
     "output_type": "stream",
     "text": [
      "Start Reporjection Lt_PI01\n",
      "========================== Input parameters ==========================\n",
      "Input file              = /media/liwei/Data/GCOM-C_RSRF_Valid/tile/GC1SG1_20210316D01D_T0425_L2SG_LTOAQ_2011.h5\n",
      "Projection coordinates  = Geodetic Latitude/Longitude\n",
      "Pixel spacing           = 7.500000 sec\n",
      "Resampling method       = BL\n",
      "Data selection          = Image_data/Lt_PI01\n",
      "Output directory        = /media/liwei/Data/GCOM-C_RSRF_Valid/reporjection\n",
      "======================================================================\n",
      "product_type = L2/tile\n",
      "tile = 0425\n",
      "pid = GC1SG1_20210316D01D_T0425_L2SG_LTOAQ_2011\n",
      "data rank = 2\n",
      "data size = 1200/1200\n",
      "data type = unsigned short\n",
      "max_valid_DN = 65534\n",
      "hemi = 0\n",
      "x range =   93.5312500000,  124.4583333333\n",
      "y range =   40.0000000000,   50.0000000000\n",
      "outsize = 14845, 4800\n",
      "output = [/media/liwei/Data/GCOM-C_RSRF_Valid/reporjection/GC1SG1_20210316D01D_T0425_L2SG_LTOAQ_2011_Lt_PI01.tif]\n",
      "output = [/media/liwei/Data/GCOM-C_RSRF_Valid/reporjection/GC1SG1_20210316D01D_T0425_L2SG_LTOAQ_2011_Lt_PI01.xml]\n",
      "done...\n",
      "Reporjection Finished!\n",
      "Start Reporjection Lt_PI02\n"
     ]
    },
    {
     "name": "stderr",
     "output_type": "stream",
     "text": [
      "/tmp/ipykernel_2428263/2503893380.py:55: DeprecationWarning: open_rasterio is Deprecated in favor of rioxarray. For information about transitioning, see: https://corteva.github.io/rioxarray/stable/getting_started/getting_started.html\n",
      "  geotiff_da = xr.open_rasterio(filepath)\n"
     ]
    },
    {
     "name": "stdout",
     "output_type": "stream",
     "text": [
      "========================== Input parameters ==========================\n",
      "Input file              = /media/liwei/Data/GCOM-C_RSRF_Valid/tile/GC1SG1_20210316D01D_T0425_L2SG_LTOAQ_2011.h5\n",
      "Projection coordinates  = Geodetic Latitude/Longitude\n",
      "Pixel spacing           = 7.500000 sec\n",
      "Resampling method       = BL\n",
      "Data selection          = Image_data/Lt_PI02\n",
      "Output directory        = /media/liwei/Data/GCOM-C_RSRF_Valid/reporjection\n",
      "======================================================================\n",
      "product_type = L2/tile\n",
      "tile = 0425\n",
      "pid = GC1SG1_20210316D01D_T0425_L2SG_LTOAQ_2011\n",
      "data rank = 2\n",
      "data size = 1200/1200\n",
      "data type = unsigned short\n",
      "max_valid_DN = 65534\n",
      "hemi = 0\n",
      "x range =   93.5541666667,  124.4583333333\n",
      "y range =   40.0000000000,   50.0000000000\n",
      "outsize = 14834, 4800\n",
      "output = [/media/liwei/Data/GCOM-C_RSRF_Valid/reporjection/GC1SG1_20210316D01D_T0425_L2SG_LTOAQ_2011_Lt_PI02.tif]\n",
      "output = [/media/liwei/Data/GCOM-C_RSRF_Valid/reporjection/GC1SG1_20210316D01D_T0425_L2SG_LTOAQ_2011_Lt_PI02.xml]\n",
      "done...\n",
      "Reporjection Finished!\n",
      "Start 20210327\n"
     ]
    },
    {
     "name": "stderr",
     "output_type": "stream",
     "text": [
      "/tmp/ipykernel_2428263/2503893380.py:55: DeprecationWarning: open_rasterio is Deprecated in favor of rioxarray. For information about transitioning, see: https://corteva.github.io/rioxarray/stable/getting_started/getting_started.html\n",
      "  geotiff_da = xr.open_rasterio(filepath)\n"
     ]
    },
    {
     "name": "stdout",
     "output_type": "stream",
     "text": [
      "Start Reporjection Lt_PI01\n",
      "========================== Input parameters ==========================\n",
      "Input file              = /media/liwei/Data/GCOM-C_RSRF_Valid/tile/GC1SG1_20210327D01D_T0425_L2SG_LTOAQ_2011.h5\n",
      "Projection coordinates  = Geodetic Latitude/Longitude\n",
      "Pixel spacing           = 7.500000 sec\n",
      "Resampling method       = BL\n",
      "Data selection          = Image_data/Lt_PI01\n",
      "Output directory        = /media/liwei/Data/GCOM-C_RSRF_Valid/reporjection\n",
      "======================================================================\n",
      "product_type = L2/tile\n",
      "tile = 0425\n",
      "pid = GC1SG1_20210327D01D_T0425_L2SG_LTOAQ_2011\n",
      "data rank = 2\n",
      "data size = 1200/1200\n",
      "data type = unsigned short\n",
      "max_valid_DN = 65534\n",
      "hemi = 0\n",
      "x range =   91.3770833333,  124.4583333333\n",
      "y range =   40.0000000000,   50.0000000000\n",
      "outsize = 15879, 4800\n",
      "output = [/media/liwei/Data/GCOM-C_RSRF_Valid/reporjection/GC1SG1_20210327D01D_T0425_L2SG_LTOAQ_2011_Lt_PI01.tif]\n",
      "output = [/media/liwei/Data/GCOM-C_RSRF_Valid/reporjection/GC1SG1_20210327D01D_T0425_L2SG_LTOAQ_2011_Lt_PI01.xml]\n",
      "done...\n",
      "Reporjection Finished!\n",
      "Start Reporjection Lt_PI02\n"
     ]
    },
    {
     "name": "stderr",
     "output_type": "stream",
     "text": [
      "/tmp/ipykernel_2428263/2503893380.py:55: DeprecationWarning: open_rasterio is Deprecated in favor of rioxarray. For information about transitioning, see: https://corteva.github.io/rioxarray/stable/getting_started/getting_started.html\n",
      "  geotiff_da = xr.open_rasterio(filepath)\n"
     ]
    },
    {
     "name": "stdout",
     "output_type": "stream",
     "text": [
      "========================== Input parameters ==========================\n",
      "Input file              = /media/liwei/Data/GCOM-C_RSRF_Valid/tile/GC1SG1_20210327D01D_T0425_L2SG_LTOAQ_2011.h5\n",
      "Projection coordinates  = Geodetic Latitude/Longitude\n",
      "Pixel spacing           = 7.500000 sec\n",
      "Resampling method       = BL\n",
      "Data selection          = Image_data/Lt_PI02\n",
      "Output directory        = /media/liwei/Data/GCOM-C_RSRF_Valid/reporjection\n",
      "======================================================================\n",
      "product_type = L2/tile\n",
      "tile = 0425\n",
      "pid = GC1SG1_20210327D01D_T0425_L2SG_LTOAQ_2011\n",
      "data rank = 2\n",
      "data size = 1200/1200\n",
      "data type = unsigned short\n",
      "max_valid_DN = 65534\n",
      "hemi = 0\n",
      "x range =   91.3770833333,  124.4583333333\n",
      "y range =   40.0000000000,   50.0000000000\n",
      "outsize = 15879, 4800\n",
      "output = [/media/liwei/Data/GCOM-C_RSRF_Valid/reporjection/GC1SG1_20210327D01D_T0425_L2SG_LTOAQ_2011_Lt_PI02.tif]\n",
      "output = [/media/liwei/Data/GCOM-C_RSRF_Valid/reporjection/GC1SG1_20210327D01D_T0425_L2SG_LTOAQ_2011_Lt_PI02.xml]\n",
      "done...\n",
      "Reporjection Finished!\n",
      "Start 20210331\n"
     ]
    },
    {
     "name": "stderr",
     "output_type": "stream",
     "text": [
      "/tmp/ipykernel_2428263/2503893380.py:55: DeprecationWarning: open_rasterio is Deprecated in favor of rioxarray. For information about transitioning, see: https://corteva.github.io/rioxarray/stable/getting_started/getting_started.html\n",
      "  geotiff_da = xr.open_rasterio(filepath)\n"
     ]
    },
    {
     "name": "stdout",
     "output_type": "stream",
     "text": [
      "Start Reporjection Lt_PI01\n",
      "========================== Input parameters ==========================\n",
      "Input file              = /media/liwei/Data/GCOM-C_RSRF_Valid/tile/GC1SG1_20210331D01D_T0425_L2SG_LTOAQ_2011.h5\n",
      "Projection coordinates  = Geodetic Latitude/Longitude\n",
      "Pixel spacing           = 7.500000 sec\n",
      "Resampling method       = BL\n",
      "Data selection          = Image_data/Lt_PI01\n",
      "Output directory        = /media/liwei/Data/GCOM-C_RSRF_Valid/reporjection\n",
      "======================================================================\n",
      "product_type = L2/tile\n",
      "tile = 0425\n",
      "pid = GC1SG1_20210331D01D_T0425_L2SG_LTOAQ_2011\n",
      "data rank = 2\n",
      "data size = 1200/1200\n",
      "data type = unsigned short\n",
      "max_valid_DN = 65534\n",
      "hemi = 0\n",
      "x range =   92.7583333333,  124.4583333333\n",
      "y range =   40.0000000000,   50.0000000000\n",
      "outsize = 15216, 4800\n",
      "output = [/media/liwei/Data/GCOM-C_RSRF_Valid/reporjection/GC1SG1_20210331D01D_T0425_L2SG_LTOAQ_2011_Lt_PI01.tif]\n",
      "output = [/media/liwei/Data/GCOM-C_RSRF_Valid/reporjection/GC1SG1_20210331D01D_T0425_L2SG_LTOAQ_2011_Lt_PI01.xml]\n",
      "done...\n",
      "Reporjection Finished!\n",
      "Start Reporjection Lt_PI02\n"
     ]
    },
    {
     "name": "stderr",
     "output_type": "stream",
     "text": [
      "/tmp/ipykernel_2428263/2503893380.py:55: DeprecationWarning: open_rasterio is Deprecated in favor of rioxarray. For information about transitioning, see: https://corteva.github.io/rioxarray/stable/getting_started/getting_started.html\n",
      "  geotiff_da = xr.open_rasterio(filepath)\n"
     ]
    },
    {
     "name": "stdout",
     "output_type": "stream",
     "text": [
      "========================== Input parameters ==========================\n",
      "Input file              = /media/liwei/Data/GCOM-C_RSRF_Valid/tile/GC1SG1_20210331D01D_T0425_L2SG_LTOAQ_2011.h5\n",
      "Projection coordinates  = Geodetic Latitude/Longitude\n",
      "Pixel spacing           = 7.500000 sec\n",
      "Resampling method       = BL\n",
      "Data selection          = Image_data/Lt_PI02\n",
      "Output directory        = /media/liwei/Data/GCOM-C_RSRF_Valid/reporjection\n",
      "======================================================================\n",
      "product_type = L2/tile\n",
      "tile = 0425\n",
      "pid = GC1SG1_20210331D01D_T0425_L2SG_LTOAQ_2011\n",
      "data rank = 2\n",
      "data size = 1200/1200\n",
      "data type = unsigned short\n",
      "max_valid_DN = 65534\n",
      "hemi = 0\n",
      "x range =   92.7812500000,  124.4583333333\n",
      "y range =   40.0000000000,   50.0000000000\n",
      "outsize = 15205, 4800\n",
      "output = [/media/liwei/Data/GCOM-C_RSRF_Valid/reporjection/GC1SG1_20210331D01D_T0425_L2SG_LTOAQ_2011_Lt_PI02.tif]\n",
      "output = [/media/liwei/Data/GCOM-C_RSRF_Valid/reporjection/GC1SG1_20210331D01D_T0425_L2SG_LTOAQ_2011_Lt_PI02.xml]\n",
      "done...\n",
      "Reporjection Finished!\n",
      "Start 20210415\n"
     ]
    },
    {
     "name": "stderr",
     "output_type": "stream",
     "text": [
      "/tmp/ipykernel_2428263/2503893380.py:55: DeprecationWarning: open_rasterio is Deprecated in favor of rioxarray. For information about transitioning, see: https://corteva.github.io/rioxarray/stable/getting_started/getting_started.html\n",
      "  geotiff_da = xr.open_rasterio(filepath)\n"
     ]
    },
    {
     "name": "stdout",
     "output_type": "stream",
     "text": [
      "Start Reporjection Lt_PI01\n",
      "========================== Input parameters ==========================\n",
      "Input file              = /media/liwei/Data/GCOM-C_RSRF_Valid/tile/GC1SG1_20210415D01D_T0425_L2SG_LTOAQ_2011.h5\n",
      "Projection coordinates  = Geodetic Latitude/Longitude\n",
      "Pixel spacing           = 7.500000 sec\n",
      "Resampling method       = BL\n",
      "Data selection          = Image_data/Lt_PI01\n",
      "Output directory        = /media/liwei/Data/GCOM-C_RSRF_Valid/reporjection\n",
      "======================================================================\n",
      "product_type = L2/tile\n",
      "tile = 0425\n",
      "pid = GC1SG1_20210415D01D_T0425_L2SG_LTOAQ_2011\n",
      "data rank = 2\n",
      "data size = 1200/1200\n",
      "data type = unsigned short\n",
      "max_valid_DN = 65534\n",
      "hemi = 0\n",
      "x range =   91.9875000000,  124.4583333333\n",
      "y range =   40.0000000000,   50.0000000000\n",
      "outsize = 15586, 4800\n",
      "output = [/media/liwei/Data/GCOM-C_RSRF_Valid/reporjection/GC1SG1_20210415D01D_T0425_L2SG_LTOAQ_2011_Lt_PI01.tif]\n",
      "output = [/media/liwei/Data/GCOM-C_RSRF_Valid/reporjection/GC1SG1_20210415D01D_T0425_L2SG_LTOAQ_2011_Lt_PI01.xml]\n",
      "done...\n",
      "Reporjection Finished!\n",
      "Start Reporjection Lt_PI02\n"
     ]
    },
    {
     "name": "stderr",
     "output_type": "stream",
     "text": [
      "/tmp/ipykernel_2428263/2503893380.py:55: DeprecationWarning: open_rasterio is Deprecated in favor of rioxarray. For information about transitioning, see: https://corteva.github.io/rioxarray/stable/getting_started/getting_started.html\n",
      "  geotiff_da = xr.open_rasterio(filepath)\n"
     ]
    },
    {
     "name": "stdout",
     "output_type": "stream",
     "text": [
      "========================== Input parameters ==========================\n",
      "Input file              = /media/liwei/Data/GCOM-C_RSRF_Valid/tile/GC1SG1_20210415D01D_T0425_L2SG_LTOAQ_2011.h5\n",
      "Projection coordinates  = Geodetic Latitude/Longitude\n",
      "Pixel spacing           = 7.500000 sec\n",
      "Resampling method       = BL\n",
      "Data selection          = Image_data/Lt_PI02\n",
      "Output directory        = /media/liwei/Data/GCOM-C_RSRF_Valid/reporjection\n",
      "======================================================================\n",
      "product_type = L2/tile\n",
      "tile = 0425\n",
      "pid = GC1SG1_20210415D01D_T0425_L2SG_LTOAQ_2011\n",
      "data rank = 2\n",
      "data size = 1200/1200\n",
      "data type = unsigned short\n",
      "max_valid_DN = 65534\n",
      "hemi = 0\n",
      "x range =   92.0083333333,  124.4583333333\n",
      "y range =   40.0000000000,   50.0000000000\n",
      "outsize = 15576, 4800\n",
      "output = [/media/liwei/Data/GCOM-C_RSRF_Valid/reporjection/GC1SG1_20210415D01D_T0425_L2SG_LTOAQ_2011_Lt_PI02.tif]\n",
      "output = [/media/liwei/Data/GCOM-C_RSRF_Valid/reporjection/GC1SG1_20210415D01D_T0425_L2SG_LTOAQ_2011_Lt_PI02.xml]\n",
      "done...\n",
      "Reporjection Finished!\n",
      "Start 20210430\n"
     ]
    },
    {
     "name": "stderr",
     "output_type": "stream",
     "text": [
      "/tmp/ipykernel_2428263/2503893380.py:55: DeprecationWarning: open_rasterio is Deprecated in favor of rioxarray. For information about transitioning, see: https://corteva.github.io/rioxarray/stable/getting_started/getting_started.html\n",
      "  geotiff_da = xr.open_rasterio(filepath)\n"
     ]
    },
    {
     "name": "stdout",
     "output_type": "stream",
     "text": [
      "Start Reporjection Lt_PI01\n",
      "========================== Input parameters ==========================\n",
      "Input file              = /media/liwei/Data/GCOM-C_RSRF_Valid/tile/GC1SG1_20210430D01D_T0425_L2SG_LTOAQ_2011.h5\n",
      "Projection coordinates  = Geodetic Latitude/Longitude\n",
      "Pixel spacing           = 7.500000 sec\n",
      "Resampling method       = BL\n",
      "Data selection          = Image_data/Lt_PI01\n",
      "Output directory        = /media/liwei/Data/GCOM-C_RSRF_Valid/reporjection\n",
      "======================================================================\n",
      "product_type = L2/tile\n",
      "tile = 0425\n",
      "pid = GC1SG1_20210430D01D_T0425_L2SG_LTOAQ_2011\n",
      "data rank = 2\n",
      "data size = 1200/1200\n",
      "data type = unsigned short\n",
      "max_valid_DN = 65534\n",
      "hemi = 0\n",
      "x range =   91.3770833333,  124.4583333333\n",
      "y range =   40.0000000000,   50.0000000000\n",
      "outsize = 15879, 4800\n",
      "output = [/media/liwei/Data/GCOM-C_RSRF_Valid/reporjection/GC1SG1_20210430D01D_T0425_L2SG_LTOAQ_2011_Lt_PI01.tif]\n",
      "output = [/media/liwei/Data/GCOM-C_RSRF_Valid/reporjection/GC1SG1_20210430D01D_T0425_L2SG_LTOAQ_2011_Lt_PI01.xml]\n",
      "done...\n",
      "Reporjection Finished!\n",
      "Start Reporjection Lt_PI02\n"
     ]
    },
    {
     "name": "stderr",
     "output_type": "stream",
     "text": [
      "/tmp/ipykernel_2428263/2503893380.py:55: DeprecationWarning: open_rasterio is Deprecated in favor of rioxarray. For information about transitioning, see: https://corteva.github.io/rioxarray/stable/getting_started/getting_started.html\n",
      "  geotiff_da = xr.open_rasterio(filepath)\n"
     ]
    },
    {
     "name": "stdout",
     "output_type": "stream",
     "text": [
      "========================== Input parameters ==========================\n",
      "Input file              = /media/liwei/Data/GCOM-C_RSRF_Valid/tile/GC1SG1_20210430D01D_T0425_L2SG_LTOAQ_2011.h5\n",
      "Projection coordinates  = Geodetic Latitude/Longitude\n",
      "Pixel spacing           = 7.500000 sec\n",
      "Resampling method       = BL\n",
      "Data selection          = Image_data/Lt_PI02\n",
      "Output directory        = /media/liwei/Data/GCOM-C_RSRF_Valid/reporjection\n",
      "======================================================================\n",
      "product_type = L2/tile\n",
      "tile = 0425\n",
      "pid = GC1SG1_20210430D01D_T0425_L2SG_LTOAQ_2011\n",
      "data rank = 2\n",
      "data size = 1200/1200\n",
      "data type = unsigned short\n",
      "max_valid_DN = 65534\n",
      "hemi = 0\n",
      "x range =   91.3770833333,  124.4583333333\n",
      "y range =   40.0000000000,   50.0000000000\n",
      "outsize = 15879, 4800\n",
      "output = [/media/liwei/Data/GCOM-C_RSRF_Valid/reporjection/GC1SG1_20210430D01D_T0425_L2SG_LTOAQ_2011_Lt_PI02.tif]\n",
      "output = [/media/liwei/Data/GCOM-C_RSRF_Valid/reporjection/GC1SG1_20210430D01D_T0425_L2SG_LTOAQ_2011_Lt_PI02.xml]\n",
      "done...\n",
      "Reporjection Finished!\n",
      "Start 20210504\n"
     ]
    },
    {
     "name": "stderr",
     "output_type": "stream",
     "text": [
      "/tmp/ipykernel_2428263/2503893380.py:55: DeprecationWarning: open_rasterio is Deprecated in favor of rioxarray. For information about transitioning, see: https://corteva.github.io/rioxarray/stable/getting_started/getting_started.html\n",
      "  geotiff_da = xr.open_rasterio(filepath)\n"
     ]
    },
    {
     "name": "stdout",
     "output_type": "stream",
     "text": [
      "Start Reporjection Lt_PI01\n",
      "========================== Input parameters ==========================\n",
      "Input file              = /media/liwei/Data/GCOM-C_RSRF_Valid/tile/GC1SG1_20210504D01D_T0425_L2SG_LTOAQ_2011.h5\n",
      "Projection coordinates  = Geodetic Latitude/Longitude\n",
      "Pixel spacing           = 7.500000 sec\n",
      "Resampling method       = BL\n",
      "Data selection          = Image_data/Lt_PI01\n",
      "Output directory        = /media/liwei/Data/GCOM-C_RSRF_Valid/reporjection\n",
      "======================================================================\n",
      "product_type = L2/tile\n",
      "tile = 0425\n",
      "pid = GC1SG1_20210504D01D_T0425_L2SG_LTOAQ_2011\n",
      "data rank = 2\n",
      "data size = 1200/1200\n",
      "data type = unsigned short\n",
      "max_valid_DN = 65534\n",
      "hemi = 0\n",
      "x range =   92.7041666667,  124.4583333333\n",
      "y range =   40.0000000000,   50.0000000000\n",
      "outsize = 15242, 4800\n",
      "output = [/media/liwei/Data/GCOM-C_RSRF_Valid/reporjection/GC1SG1_20210504D01D_T0425_L2SG_LTOAQ_2011_Lt_PI01.tif]\n",
      "output = [/media/liwei/Data/GCOM-C_RSRF_Valid/reporjection/GC1SG1_20210504D01D_T0425_L2SG_LTOAQ_2011_Lt_PI01.xml]\n",
      "done...\n",
      "Reporjection Finished!\n",
      "Start Reporjection Lt_PI02\n"
     ]
    },
    {
     "name": "stderr",
     "output_type": "stream",
     "text": [
      "/tmp/ipykernel_2428263/2503893380.py:55: DeprecationWarning: open_rasterio is Deprecated in favor of rioxarray. For information about transitioning, see: https://corteva.github.io/rioxarray/stable/getting_started/getting_started.html\n",
      "  geotiff_da = xr.open_rasterio(filepath)\n"
     ]
    },
    {
     "name": "stdout",
     "output_type": "stream",
     "text": [
      "========================== Input parameters ==========================\n",
      "Input file              = /media/liwei/Data/GCOM-C_RSRF_Valid/tile/GC1SG1_20210504D01D_T0425_L2SG_LTOAQ_2011.h5\n",
      "Projection coordinates  = Geodetic Latitude/Longitude\n",
      "Pixel spacing           = 7.500000 sec\n",
      "Resampling method       = BL\n",
      "Data selection          = Image_data/Lt_PI02\n",
      "Output directory        = /media/liwei/Data/GCOM-C_RSRF_Valid/reporjection\n",
      "======================================================================\n",
      "product_type = L2/tile\n",
      "tile = 0425\n",
      "pid = GC1SG1_20210504D01D_T0425_L2SG_LTOAQ_2011\n",
      "data rank = 2\n",
      "data size = 1200/1200\n",
      "data type = unsigned short\n",
      "max_valid_DN = 65534\n",
      "hemi = 0\n",
      "x range =   92.7145833333,  124.4583333333\n",
      "y range =   40.0000000000,   50.0000000000\n",
      "outsize = 15237, 4800\n",
      "output = [/media/liwei/Data/GCOM-C_RSRF_Valid/reporjection/GC1SG1_20210504D01D_T0425_L2SG_LTOAQ_2011_Lt_PI02.tif]\n",
      "output = [/media/liwei/Data/GCOM-C_RSRF_Valid/reporjection/GC1SG1_20210504D01D_T0425_L2SG_LTOAQ_2011_Lt_PI02.xml]\n",
      "done...\n",
      "Reporjection Finished!\n",
      "Start 20210515\n"
     ]
    },
    {
     "name": "stderr",
     "output_type": "stream",
     "text": [
      "/tmp/ipykernel_2428263/2503893380.py:55: DeprecationWarning: open_rasterio is Deprecated in favor of rioxarray. For information about transitioning, see: https://corteva.github.io/rioxarray/stable/getting_started/getting_started.html\n",
      "  geotiff_da = xr.open_rasterio(filepath)\n"
     ]
    },
    {
     "name": "stdout",
     "output_type": "stream",
     "text": [
      "Start Reporjection Lt_PI01\n",
      "========================== Input parameters ==========================\n",
      "Input file              = /media/liwei/Data/GCOM-C_RSRF_Valid/tile/GC1SG1_20210515D01D_T0425_L2SG_LTOAQ_2011.h5\n",
      "Projection coordinates  = Geodetic Latitude/Longitude\n",
      "Pixel spacing           = 7.500000 sec\n",
      "Resampling method       = BL\n",
      "Data selection          = Image_data/Lt_PI01\n",
      "Output directory        = /media/liwei/Data/GCOM-C_RSRF_Valid/reporjection\n",
      "======================================================================\n",
      "product_type = L2/tile\n",
      "tile = 0425\n",
      "pid = GC1SG1_20210515D01D_T0425_L2SG_LTOAQ_2011\n",
      "data rank = 2\n",
      "data size = 1200/1200\n",
      "data type = unsigned short\n",
      "max_valid_DN = 65534\n",
      "hemi = 0\n",
      "x range =   91.3770833333,  124.4583333333\n",
      "y range =   40.0000000000,   50.0000000000\n",
      "outsize = 15879, 4800\n",
      "output = [/media/liwei/Data/GCOM-C_RSRF_Valid/reporjection/GC1SG1_20210515D01D_T0425_L2SG_LTOAQ_2011_Lt_PI01.tif]\n",
      "output = [/media/liwei/Data/GCOM-C_RSRF_Valid/reporjection/GC1SG1_20210515D01D_T0425_L2SG_LTOAQ_2011_Lt_PI01.xml]\n",
      "done...\n",
      "Reporjection Finished!\n",
      "Start Reporjection Lt_PI02\n"
     ]
    },
    {
     "name": "stderr",
     "output_type": "stream",
     "text": [
      "/tmp/ipykernel_2428263/2503893380.py:55: DeprecationWarning: open_rasterio is Deprecated in favor of rioxarray. For information about transitioning, see: https://corteva.github.io/rioxarray/stable/getting_started/getting_started.html\n",
      "  geotiff_da = xr.open_rasterio(filepath)\n"
     ]
    },
    {
     "name": "stdout",
     "output_type": "stream",
     "text": [
      "========================== Input parameters ==========================\n",
      "Input file              = /media/liwei/Data/GCOM-C_RSRF_Valid/tile/GC1SG1_20210515D01D_T0425_L2SG_LTOAQ_2011.h5\n",
      "Projection coordinates  = Geodetic Latitude/Longitude\n",
      "Pixel spacing           = 7.500000 sec\n",
      "Resampling method       = BL\n",
      "Data selection          = Image_data/Lt_PI02\n",
      "Output directory        = /media/liwei/Data/GCOM-C_RSRF_Valid/reporjection\n",
      "======================================================================\n",
      "product_type = L2/tile\n",
      "tile = 0425\n",
      "pid = GC1SG1_20210515D01D_T0425_L2SG_LTOAQ_2011\n",
      "data rank = 2\n",
      "data size = 1200/1200\n",
      "data type = unsigned short\n",
      "max_valid_DN = 65534\n",
      "hemi = 0\n",
      "x range =   91.3770833333,  124.4583333333\n",
      "y range =   40.0000000000,   50.0000000000\n",
      "outsize = 15879, 4800\n",
      "output = [/media/liwei/Data/GCOM-C_RSRF_Valid/reporjection/GC1SG1_20210515D01D_T0425_L2SG_LTOAQ_2011_Lt_PI02.tif]\n",
      "output = [/media/liwei/Data/GCOM-C_RSRF_Valid/reporjection/GC1SG1_20210515D01D_T0425_L2SG_LTOAQ_2011_Lt_PI02.xml]\n",
      "done...\n",
      "Reporjection Finished!\n",
      "Start 20210519\n"
     ]
    },
    {
     "name": "stderr",
     "output_type": "stream",
     "text": [
      "/tmp/ipykernel_2428263/2503893380.py:55: DeprecationWarning: open_rasterio is Deprecated in favor of rioxarray. For information about transitioning, see: https://corteva.github.io/rioxarray/stable/getting_started/getting_started.html\n",
      "  geotiff_da = xr.open_rasterio(filepath)\n"
     ]
    },
    {
     "name": "stdout",
     "output_type": "stream",
     "text": [
      "Start Reporjection Lt_PI01\n",
      "========================== Input parameters ==========================\n",
      "Input file              = /media/liwei/Data/GCOM-C_RSRF_Valid/tile/GC1SG1_20210519D01D_T0425_L2SG_LTOAQ_2011.h5\n",
      "Projection coordinates  = Geodetic Latitude/Longitude\n",
      "Pixel spacing           = 7.500000 sec\n",
      "Resampling method       = BL\n",
      "Data selection          = Image_data/Lt_PI01\n",
      "Output directory        = /media/liwei/Data/GCOM-C_RSRF_Valid/reporjection\n",
      "======================================================================\n",
      "product_type = L2/tile\n",
      "tile = 0425\n",
      "pid = GC1SG1_20210519D01D_T0425_L2SG_LTOAQ_2011\n",
      "data rank = 2\n",
      "data size = 1200/1200\n",
      "data type = unsigned short\n",
      "max_valid_DN = 65534\n",
      "hemi = 0\n",
      "x range =   91.9437500000,  124.4583333333\n",
      "y range =   40.0000000000,   50.0000000000\n",
      "outsize = 15607, 4800\n",
      "output = [/media/liwei/Data/GCOM-C_RSRF_Valid/reporjection/GC1SG1_20210519D01D_T0425_L2SG_LTOAQ_2011_Lt_PI01.tif]\n",
      "output = [/media/liwei/Data/GCOM-C_RSRF_Valid/reporjection/GC1SG1_20210519D01D_T0425_L2SG_LTOAQ_2011_Lt_PI01.xml]\n",
      "done...\n",
      "Reporjection Finished!\n",
      "Start Reporjection Lt_PI02\n"
     ]
    },
    {
     "name": "stderr",
     "output_type": "stream",
     "text": [
      "/tmp/ipykernel_2428263/2503893380.py:55: DeprecationWarning: open_rasterio is Deprecated in favor of rioxarray. For information about transitioning, see: https://corteva.github.io/rioxarray/stable/getting_started/getting_started.html\n",
      "  geotiff_da = xr.open_rasterio(filepath)\n"
     ]
    },
    {
     "name": "stdout",
     "output_type": "stream",
     "text": [
      "========================== Input parameters ==========================\n",
      "Input file              = /media/liwei/Data/GCOM-C_RSRF_Valid/tile/GC1SG1_20210519D01D_T0425_L2SG_LTOAQ_2011.h5\n",
      "Projection coordinates  = Geodetic Latitude/Longitude\n",
      "Pixel spacing           = 7.500000 sec\n",
      "Resampling method       = BL\n",
      "Data selection          = Image_data/Lt_PI02\n",
      "Output directory        = /media/liwei/Data/GCOM-C_RSRF_Valid/reporjection\n",
      "======================================================================\n",
      "product_type = L2/tile\n",
      "tile = 0425\n",
      "pid = GC1SG1_20210519D01D_T0425_L2SG_LTOAQ_2011\n",
      "data rank = 2\n",
      "data size = 1200/1200\n",
      "data type = unsigned short\n",
      "max_valid_DN = 65534\n",
      "hemi = 0\n",
      "x range =   91.9541666667,  124.4583333333\n",
      "y range =   40.0000000000,   50.0000000000\n",
      "outsize = 15602, 4800\n",
      "output = [/media/liwei/Data/GCOM-C_RSRF_Valid/reporjection/GC1SG1_20210519D01D_T0425_L2SG_LTOAQ_2011_Lt_PI02.tif]\n",
      "output = [/media/liwei/Data/GCOM-C_RSRF_Valid/reporjection/GC1SG1_20210519D01D_T0425_L2SG_LTOAQ_2011_Lt_PI02.xml]\n",
      "done...\n",
      "Reporjection Finished!\n",
      "Start 20210603\n"
     ]
    },
    {
     "name": "stderr",
     "output_type": "stream",
     "text": [
      "/tmp/ipykernel_2428263/2503893380.py:55: DeprecationWarning: open_rasterio is Deprecated in favor of rioxarray. For information about transitioning, see: https://corteva.github.io/rioxarray/stable/getting_started/getting_started.html\n",
      "  geotiff_da = xr.open_rasterio(filepath)\n"
     ]
    },
    {
     "name": "stdout",
     "output_type": "stream",
     "text": [
      "No file 20210603\n",
      "Start 20210607\n",
      "No file 20210607\n",
      "Start 20210618\n",
      "No file 20210618\n",
      "Start 20210622\n",
      "No file 20210622\n"
     ]
    }
   ],
   "source": [
    "# Ref\n",
    "\n",
    "\n",
    "import os\n",
    "import gdal\n",
    "import numpy as np\n",
    "import xarray as xr\n",
    "from skimage.measure import block_reduce\n",
    "\n",
    "\n",
    "band = ['Lt_PI01','Lt_PI02']\n",
    "\n",
    "\n",
    "res = 0.005\n",
    "\n",
    "                                                                                                                                                                                                                                                                      \n",
    "\n",
    "for date in d_sgli:\n",
    "    \n",
    "    print('Start {}'.format(date))\n",
    "    save_tile = '/media/liwei/Data/GCOM-C_RSRF_Valid/tile/'\n",
    "    save_Mosaic = '/media/liwei/Data/GCOM-C_RSRF_Valid/Mosaic/'\n",
    "    save_reporjection = '/media/liwei/Data/GCOM-C_RSRF_Valid/reporjection/'\n",
    "    try :\n",
    "        tile_file_name = download_tile(date,save_tile,tile)\n",
    "    except :\n",
    "        print( \"No file {}\".format(date))\n",
    "        pass\n",
    "\n",
    "    else:\n",
    "\n",
    "        for b in band:\n",
    "            if b[0] == 'L':\n",
    "                print('Start Reporjection {}'.format(b))\n",
    "                for fn in tile_file_name:\n",
    "                    reporjection_IMAGE(save_tile+fn,b,save_reporjection)\n",
    "                print('Reporjection Finished!')\n",
    "\n",
    "                save_path = '/media/liwei/Data/GCOM-C_RSRF_Valid/{}/{}/'.format(b,date)\n",
    "                mkdir(save_path)\n",
    "\n",
    "                file  = save_reporjection + tile_file_name[0][:-3] + '_{}.tif'.format(b)\n",
    "                data = SGLI_2_AHI_IMAGE(file,save_path+'{}_{}_{}_toa.dat'.format(b,date,site_name))\n"
   ]
  },
  {
   "cell_type": "code",
   "execution_count": null,
   "metadata": {},
   "outputs": [],
   "source": []
  },
  {
   "cell_type": "code",
   "execution_count": null,
   "metadata": {},
   "outputs": [],
   "source": []
  }
 ],
 "metadata": {
  "kernelspec": {
   "display_name": "Python 3 (ipykernel)",
   "language": "python",
   "name": "python3"
  },
  "language_info": {
   "codemirror_mode": {
    "name": "ipython",
    "version": 3
   },
   "file_extension": ".py",
   "mimetype": "text/x-python",
   "name": "python",
   "nbconvert_exporter": "python",
   "pygments_lexer": "ipython3",
   "version": "3.8.10"
  }
 },
 "nbformat": 4,
 "nbformat_minor": 4
}
