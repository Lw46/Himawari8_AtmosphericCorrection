{
 "cells": [
  {
   "cell_type": "code",
   "execution_count": 2,
   "id": "e53d2cfd",
   "metadata": {},
   "outputs": [],
   "source": [
    "import multiprocessing\n",
    "import datetime\n",
    "import ephem\n",
    "import math\n",
    "import numpy as np\n",
    "import time as T\n",
    "import matplotlib.pyplot as plt\n",
    "# from joblib import Parallel, delayed\n",
    "#from mpl_toolkits.basemap import Basemap"
   ]
  },
  {
   "cell_type": "code",
   "execution_count": null,
   "id": "ff7788d2",
   "metadata": {},
   "outputs": [],
   "source": [
    "# YYYY='2022'\n",
    "# MM=['01']\n",
    "# DD = ['09','11','13','15',]\n",
    "# HH=['00','01','02','03','04','05','06','07','08','09','10','11','12','13','14','15','16','17','18','19','20','21','22','23','24',]\n",
    "# HH=['00','01','02','03','04','05','06','07','08']\n",
    "# MIN=['00','10','20','30','40','50']"
   ]
  },
  {
   "cell_type": "code",
   "execution_count": 6,
   "id": "7b34b97c",
   "metadata": {},
   "outputs": [],
   "source": [
    "def do_solar(para):\n",
    "    return calc_sunpos(para[0],para[1],para[2])\n",
    "def calc_sunpos(dtime,row,col):\n",
    "    sun = ephem.Sun()\n",
    "    obs = ephem.Observer()\n",
    "    obs.date = dtime\n",
    "    obs.lat = latgridrad[row]\n",
    "    obs.long = longridrad[col]\n",
    "    sun.compute(obs)\n",
    "    return np.degrees(sun.az),90.0-np.degrees(sun.alt)\n",
    "\n",
    "def month_size(month,YYYY):\n",
    "    big_month=['01','03','05','07','08','10','12']\n",
    "    small_month=['04','06','09','11']\n",
    "    if month in big_month:\n",
    "        s = 31\n",
    "    elif month in small_month:\n",
    "        s = 30\n",
    "    elif month == '02':\n",
    "        if (int(YYYY) % 4 == 0 and int(YYYY) % 100 != 0) or int(YYYY) % 400 == 0:\n",
    "            s = 29\n",
    "        else:\n",
    "            s = 28\n",
    "    return s"
   ]
  },
  {
   "cell_type": "code",
   "execution_count": 9,
   "id": "5adfd1fa",
   "metadata": {},
   "outputs": [],
   "source": [
    "YYYY='2020'\n",
    "MM=['03','04','05','06','07','08','09','10','11','12']\n",
    "DD = ['01','02','03','04','05','06','07','08','09','10','11','12','13','14','15','16','17','18','19','20','21','22','23','24','25','26','27','28','29','30','31']\n",
    "# HH = ['00']\n",
    "# MIN = ['05']\n",
    "\n",
    "\n",
    "HH=['00','01','02','03','04','05','06','07','08','09','10','11','12','13','14','15','16','17','18','19','20','21','22','23']\n",
    "MIN=['05','15','25','35','45','55']"
   ]
  },
  {
   "cell_type": "code",
   "execution_count": null,
   "id": "eac94fc3",
   "metadata": {},
   "outputs": [],
   "source": [
    "start = T.time()\n",
    "\n",
    "for m in range(len(MM)):\n",
    "    size = month_size(MM[m],YYYY)\n",
    "    for d in range(size):\n",
    "        for h in range(len(HH)):\n",
    "            for mi in range(len(MIN)):\n",
    "                date=YYYY+MM[m]+DD[d]+HH[h]+MIN[mi] \n",
    "                Solar_zM = np.zeros((3000,3000))\n",
    "                Solar_aM = np.zeros((3000,3000))\n",
    "                \n",
    "                dtime = datetime.datetime(int(YYYY),int(MM[m]),int(DD[d]),int(HH[h]),int(MIN[mi]))\n",
    "                dellon = 0.04\n",
    "                latgrid=np.linspace(60-dellon/2,-60+dellon/2,3000)\n",
    "                longrid=np.linspace(85+dellon/2,205-dellon/2,3000)\n",
    "                latgridrad = latgrid*math.pi/180.0 #radians\n",
    "                longridrad = longrid*math.pi/180.0 #radians\n",
    "\n",
    "                \n",
    "                if __name__ == '__main__':\n",
    "                    para_solar= []\n",
    "                    for q in range(3000):\n",
    "                        for w in range(3000):\n",
    "                            t=(dtime,w,q)\n",
    "                            para_solar.append(t)\n",
    "                    p=multiprocessing.Pool(36)\n",
    "                    b=p.map(do_solar,para_solar)\n",
    "                    p.close()\n",
    "                    p.join()\n",
    "                    Solar_aM = [i[0] for i in b]\n",
    "                    Solar_zM = [i[1] for i in b]\n",
    "\n",
    "                    \n",
    "                    Solar_aM=np.array(Solar_aM).reshape(3000,3000).T\n",
    "                    Solar_zM=np.array(Solar_zM).reshape(3000,3000).T\n",
    "                    \n",
    "                    \n",
    "                    \n",
    "#                     plt.title('Himawari-8 Solar azimuth angle \\n {dt}'.format(dt=date),fontsize='large')\n",
    "#                     plt.imshow(Solar_aM,cmap='terrain_r',origin='upper',vmax=360,vmin=0)\n",
    "#                     v=np.linspace(0,360,13)\n",
    "#                     plt.colorbar(ticks=v)\n",
    "#                     plt.savefig('Solar_azimuth_angle_pic/solar_aM_{d}.jpg'.format(d=date),dpi=6000)\n",
    "#                     plt.clf()\n",
    "#                     plt.close()\n",
    "                    \n",
    "                    \n",
    "#                     plt.title('Himawari-8 Solar zenith angle \\n {dt}'.format(dt=date),fontsize='large')\n",
    "#                     plt.imshow(Solar_zM,cmap='terrain_r',origin='upper',vmax=90,vmin=0)\n",
    "#                     v=np.linspace(0,90,10)\n",
    "#                     cb=plt.colorbar(ticks=v)\n",
    "#                     plt.savefig('Solar_zenith_angle_pic/solar_zM_{d}.jpg'.format(d=date),dpi=6000)\n",
    "#                     plt.clf()\n",
    "#                     plt.close()\n",
    "                    \n",
    "                    datfile_solar_aM_test=open('/data01/GEO/INPUT/ANGLE/Solar_Azimuth_Angle/solar_aM_{da}.dat'.format(da=date),'wb')\n",
    "                    Solar_aM.tofile(datfile_solar_aM_test)\n",
    "                    datfile_solar_aM_test.close()\n",
    "\n",
    "                    datfile_solar_zM_test=open('/data01/GEO/INPUT/ANGLE/Solar_Zenith_Angle/solar_zM_{da}.dat'.format(da=date),'wb')\n",
    "                    Solar_zM.tofile(datfile_solar_zM_test)\n",
    "                    datfile_solar_zM_test.close()\n",
    "end = T.time()"
   ]
  },
  {
   "cell_type": "code",
   "execution_count": 8,
   "id": "bed0c8f6",
   "metadata": {},
   "outputs": [
    {
     "name": "stdout",
     "output_type": "stream",
     "text": [
      "19.223385095596313\n"
     ]
    }
   ],
   "source": [
    "cost=end_time-start_time\n",
    "print(cost)"
   ]
  },
  {
   "cell_type": "code",
   "execution_count": 75,
   "id": "d58eff9a",
   "metadata": {},
   "outputs": [],
   "source": [
    "diff = np.where(abs(diff)<1,diff,np.nan)"
   ]
  },
  {
   "cell_type": "code",
   "execution_count": 73,
   "id": "de946e88",
   "metadata": {},
   "outputs": [
    {
     "data": {
      "text/plain": [
       "3.267494197042396"
      ]
     },
     "execution_count": 73,
     "metadata": {},
     "output_type": "execute_result"
    }
   ],
   "source": [
    "abs(diff).max()"
   ]
  },
  {
   "cell_type": "code",
   "execution_count": 77,
   "id": "faf7f17b",
   "metadata": {},
   "outputs": [
    {
     "data": {
      "image/png": "[encoded data removed]",
      "text/plain": [
       "<Figure size 432x288 with 2 Axes>"
      ]
     },
     "metadata": {
      "needs_background": "light"
     },
     "output_type": "display_data"
    }
   ],
   "source": [
    "plt.title('Himawari-8 Solar zenith angle (2020 - 2016)',fontsize='large')\n",
    "plt.imshow(abs(diff),origin='upper',interpolation=None)\n",
    "plt.colorbar()\n",
    "# plt.savefig('Solar_azimuth_angle_pic/solar_aM_{d}.jpg'.format(d=date),dpi=6000)\n",
    "plt.show()"
   ]
  },
  {
   "cell_type": "code",
   "execution_count": null,
   "id": "1cc581ad",
   "metadata": {},
   "outputs": [],
   "source": []
  }
 ],
 "metadata": {
  "kernelspec": {
   "display_name": "Python 3",
   "language": "python",
   "name": "python3"
  },
  "language_info": {
   "codemirror_mode": {
    "name": "ipython",
    "version": 3
   },
   "file_extension": ".py",
   "mimetype": "text/x-python",
   "name": "python",
   "nbconvert_exporter": "python",
   "pygments_lexer": "ipython3",
   "version": "3.6.13"
  }
 },
 "nbformat": 4,
 "nbformat_minor": 5
}
