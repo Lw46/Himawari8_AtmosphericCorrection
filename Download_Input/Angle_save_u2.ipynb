{
 "cells": [
  {
   "cell_type": "code",
   "execution_count": 11,
   "id": "6b3e41f6-24c1-4e5e-8073-9998a2c6c112",
   "metadata": {},
   "outputs": [],
   "source": [
    "import numpy as np\n",
    "import os\n",
    "import datetime as dt\n",
    "from joblib import Parallel, delayed"
   ]
  },
  {
   "cell_type": "code",
   "execution_count": 25,
   "id": "49c971da-399d-4988-9fe0-debd0eddb601",
   "metadata": {},
   "outputs": [],
   "source": [
    "VZA_PATH = '/data01/GEO/INPUT/ANGLE/AHI_VZA_20.dat'\n",
    "VAA_PATH = '/data01/GEO/INPUT/ANGLE/AHI_VAA_20.dat'"
   ]
  },
  {
   "cell_type": "code",
   "execution_count": 26,
   "id": "6cada104-f451-4697-829f-d920e1b07e6e",
   "metadata": {},
   "outputs": [],
   "source": [
    "with open(VZA_PATH,'rb') as fp:\n",
    "    AHI_VZA = np.frombuffer(fp.read()).reshape(6000,6000)\n",
    "with open(VAA_PATH,'rb') as fp:\n",
    "    AHI_VAA = np.frombuffer(fp.read()).reshape(6000,6000)"
   ]
  },
  {
   "cell_type": "code",
   "execution_count": 27,
   "id": "924ee16e-ff74-4603-bb2a-f30a89439219",
   "metadata": {},
   "outputs": [],
   "source": [
    "AHI_VZA = np.around(AHI_VZA,2) * 100\n",
    "AHI_VAA = np.around(AHI_VAA,2) * 100"
   ]
  },
  {
   "cell_type": "code",
   "execution_count": 28,
   "id": "b0452203-e1f0-42c5-8ac2-c92f79f9bbb7",
   "metadata": {},
   "outputs": [],
   "source": [
    "AHI_VAA = AHI_VAA.astype('u2')\n",
    "AHI_VZA = AHI_VZA.astype('u2')"
   ]
  },
  {
   "cell_type": "code",
   "execution_count": 29,
   "id": "41c51a93-6cda-494b-ba37-16e0fb0ad34b",
   "metadata": {},
   "outputs": [],
   "source": [
    "f_AHI_VAA=open('AHI_VAA_20.dat','wb')\n",
    "AHI_VAA.tofile(f_AHI_VAA)\n",
    "f_AHI_VAA.close()"
   ]
  },
  {
   "cell_type": "code",
   "execution_count": 30,
   "id": "c8dff144-341d-4f64-9add-964490881e6a",
   "metadata": {},
   "outputs": [],
   "source": [
    "f_AHI_VZA=open('AHI_VZA_20.dat','wb')\n",
    "AHI_VZA.tofile(f_AHI_VZA)\n",
    "f_AHI_VZA.close()"
   ]
  },
  {
   "cell_type": "code",
   "execution_count": 25,
   "id": "53181a81-123d-4662-8000-8485950e9769",
   "metadata": {},
   "outputs": [],
   "source": [
    "SZA_PATH = '/data01/GEO/INPUT/ANGLE/Solar_Zenith_Angle/'\n",
    "SAA_PATH = '/data01/GEO/INPUT/ANGLE/Solar_Azimuth_Angle/'\n",
    "def Time_split(time):\n",
    "    YYYY = time.strftime('%Y')\n",
    "    MM = time.strftime('%m')\n",
    "    DD = time.strftime('%d')\n",
    "    HH = time.strftime('%H')\n",
    "    MIN = time.strftime('%M')\n",
    "    date = YYYY + MM + DD + HH + MIN\n",
    "    return date\n",
    "\n",
    "def SA_Save_u2(date):\n",
    "    \n",
    "    SZA_FILE = SZA_PATH + 'solar_zM_{}.dat'.format(date)\n",
    "    SAA_FILE = SAA_PATH + 'solar_aM_{}.dat'.format(date)\n",
    "    \n",
    "    with open(SZA_FILE,'rb') as fp:\n",
    "        AHI_SZA = np.frombuffer(fp.read()).reshape(3000,3000)\n",
    "    with open(SAA_FILE,'rb') as fp:\n",
    "        AHI_SAA = np.frombuffer(fp.read()).reshape(3000,3000)\n",
    "    \n",
    "    AHI_SZA = np.around(AHI_SZA,2) * 100\n",
    "    AHI_SAA = np.around(AHI_SAA,2) * 100\n",
    "    \n",
    "    AHI_SZA = AHI_SZA.astype('u2')\n",
    "    AHI_SAA = AHI_SAA.astype('u2')\n",
    "    \n",
    "    \n",
    "        \n",
    "    f_AHI_SAA=open('/data01/GEO/INPUT/ANGLE/Solar_Azimuth_Angle_u2/AHI_SAA_' + date + '.dat','wb')\n",
    "    AHI_SAA.tofile(f_AHI_SAA)\n",
    "    f_AHI_SAA.close()\n",
    "    \n",
    "    f_AHI_SZA=open('/data01/GEO/INPUT/ANGLE/Solar_Zenith_Angle_u2/AHI_SZA_' + date + '.dat','wb')\n",
    "    AHI_SZA.tofile(f_AHI_SZA)\n",
    "    f_AHI_SZA.close()\n",
    "        "
   ]
  },
  {
   "cell_type": "code",
   "execution_count": 15,
   "id": "8eaa3984-36e8-422e-a8e1-26bd5032a3e2",
   "metadata": {},
   "outputs": [],
   "source": [
    "date_start = '2020-01-01 00:05'\n",
    "date_end = '2020-09-30 23:55'\n",
    "date_t = dt.timedelta(minutes=10)\n",
    "date_s = dt.datetime.strptime(date_start, \"%Y-%m-%d %H:%M\")\n",
    "date_e = dt.datetime.strptime(date_end, \"%Y-%m-%d %H:%M\")\n",
    "date_time_now = date_s\n",
    "D = []\n",
    "while date_time_now <= date_e:\n",
    "    date_dl_str = date_time_now.strftime(\"%Y-%m-%d %H:%M\" )\n",
    "    date= Time_split(date_time_now) \n",
    "    D.append(date)\n",
    "    date_time_now = date_time_now + date_t\n"
   ]
  },
  {
   "cell_type": "code",
   "execution_count": 27,
   "id": "20b994f7-eeb5-498b-b232-ba8531edc90c",
   "metadata": {
    "collapsed": true,
    "jupyter": {
     "outputs_hidden": true
    },
    "tags": []
   },
   "outputs": [
    {
     "ename": "KeyboardInterrupt",
     "evalue": "",
     "output_type": "error",
     "traceback": [
      "\u001b[0;31m---------------------------------------------------------------------------\u001b[0m",
      "\u001b[0;31mKeyboardInterrupt\u001b[0m                         Traceback (most recent call last)",
      "\u001b[0;32m<ipython-input-27-20fca88500d9>\u001b[0m in \u001b[0;36m<module>\u001b[0;34m\u001b[0m\n\u001b[0;32m----> 1\u001b[0;31m \u001b[0mParallel\u001b[0m\u001b[0;34m(\u001b[0m\u001b[0mn_jobs\u001b[0m\u001b[0;34m=\u001b[0m\u001b[0;36m20\u001b[0m\u001b[0;34m)\u001b[0m\u001b[0;34m(\u001b[0m\u001b[0mdelayed\u001b[0m\u001b[0;34m(\u001b[0m\u001b[0mSA_Save_u2\u001b[0m\u001b[0;34m)\u001b[0m\u001b[0;34m(\u001b[0m\u001b[0mdate\u001b[0m\u001b[0;34m)\u001b[0m \u001b[0;32mfor\u001b[0m \u001b[0mdate\u001b[0m \u001b[0;32min\u001b[0m \u001b[0mD\u001b[0m\u001b[0;34m)\u001b[0m\u001b[0;34m\u001b[0m\u001b[0;34m\u001b[0m\u001b[0m\n\u001b[0m",
      "\u001b[0;32m/data01/people/liwei/anaconda3/envs/python36/lib/python3.6/site-packages/joblib/parallel.py\u001b[0m in \u001b[0;36m__call__\u001b[0;34m(self, iterable)\u001b[0m\n\u001b[1;32m   1054\u001b[0m \u001b[0;34m\u001b[0m\u001b[0m\n\u001b[1;32m   1055\u001b[0m             \u001b[0;32mwith\u001b[0m \u001b[0mself\u001b[0m\u001b[0;34m.\u001b[0m\u001b[0m_backend\u001b[0m\u001b[0;34m.\u001b[0m\u001b[0mretrieval_context\u001b[0m\u001b[0;34m(\u001b[0m\u001b[0;34m)\u001b[0m\u001b[0;34m:\u001b[0m\u001b[0;34m\u001b[0m\u001b[0;34m\u001b[0m\u001b[0m\n\u001b[0;32m-> 1056\u001b[0;31m                 \u001b[0mself\u001b[0m\u001b[0;34m.\u001b[0m\u001b[0mretrieve\u001b[0m\u001b[0;34m(\u001b[0m\u001b[0;34m)\u001b[0m\u001b[0;34m\u001b[0m\u001b[0;34m\u001b[0m\u001b[0m\n\u001b[0m\u001b[1;32m   1057\u001b[0m             \u001b[0;31m# Make sure that we get a last message telling us we are done\u001b[0m\u001b[0;34m\u001b[0m\u001b[0;34m\u001b[0m\u001b[0;34m\u001b[0m\u001b[0m\n\u001b[1;32m   1058\u001b[0m             \u001b[0melapsed_time\u001b[0m \u001b[0;34m=\u001b[0m \u001b[0mtime\u001b[0m\u001b[0;34m.\u001b[0m\u001b[0mtime\u001b[0m\u001b[0;34m(\u001b[0m\u001b[0;34m)\u001b[0m \u001b[0;34m-\u001b[0m \u001b[0mself\u001b[0m\u001b[0;34m.\u001b[0m\u001b[0m_start_time\u001b[0m\u001b[0;34m\u001b[0m\u001b[0;34m\u001b[0m\u001b[0m\n",
      "\u001b[0;32m/data01/people/liwei/anaconda3/envs/python36/lib/python3.6/site-packages/joblib/parallel.py\u001b[0m in \u001b[0;36mretrieve\u001b[0;34m(self)\u001b[0m\n\u001b[1;32m    933\u001b[0m             \u001b[0;32mtry\u001b[0m\u001b[0;34m:\u001b[0m\u001b[0;34m\u001b[0m\u001b[0;34m\u001b[0m\u001b[0m\n\u001b[1;32m    934\u001b[0m                 \u001b[0;32mif\u001b[0m \u001b[0mgetattr\u001b[0m\u001b[0;34m(\u001b[0m\u001b[0mself\u001b[0m\u001b[0;34m.\u001b[0m\u001b[0m_backend\u001b[0m\u001b[0;34m,\u001b[0m \u001b[0;34m'supports_timeout'\u001b[0m\u001b[0;34m,\u001b[0m \u001b[0;32mFalse\u001b[0m\u001b[0;34m)\u001b[0m\u001b[0;34m:\u001b[0m\u001b[0;34m\u001b[0m\u001b[0;34m\u001b[0m\u001b[0m\n\u001b[0;32m--> 935\u001b[0;31m                     \u001b[0mself\u001b[0m\u001b[0;34m.\u001b[0m\u001b[0m_output\u001b[0m\u001b[0;34m.\u001b[0m\u001b[0mextend\u001b[0m\u001b[0;34m(\u001b[0m\u001b[0mjob\u001b[0m\u001b[0;34m.\u001b[0m\u001b[0mget\u001b[0m\u001b[0;34m(\u001b[0m\u001b[0mtimeout\u001b[0m\u001b[0;34m=\u001b[0m\u001b[0mself\u001b[0m\u001b[0;34m.\u001b[0m\u001b[0mtimeout\u001b[0m\u001b[0;34m)\u001b[0m\u001b[0;34m)\u001b[0m\u001b[0;34m\u001b[0m\u001b[0;34m\u001b[0m\u001b[0m\n\u001b[0m\u001b[1;32m    936\u001b[0m                 \u001b[0;32melse\u001b[0m\u001b[0;34m:\u001b[0m\u001b[0;34m\u001b[0m\u001b[0;34m\u001b[0m\u001b[0m\n\u001b[1;32m    937\u001b[0m                     \u001b[0mself\u001b[0m\u001b[0;34m.\u001b[0m\u001b[0m_output\u001b[0m\u001b[0;34m.\u001b[0m\u001b[0mextend\u001b[0m\u001b[0;34m(\u001b[0m\u001b[0mjob\u001b[0m\u001b[0;34m.\u001b[0m\u001b[0mget\u001b[0m\u001b[0;34m(\u001b[0m\u001b[0;34m)\u001b[0m\u001b[0;34m)\u001b[0m\u001b[0;34m\u001b[0m\u001b[0;34m\u001b[0m\u001b[0m\n",
      "\u001b[0;32m/data01/people/liwei/anaconda3/envs/python36/lib/python3.6/site-packages/joblib/_parallel_backends.py\u001b[0m in \u001b[0;36mwrap_future_result\u001b[0;34m(future, timeout)\u001b[0m\n\u001b[1;32m    540\u001b[0m         AsyncResults.get from multiprocessing.\"\"\"\n\u001b[1;32m    541\u001b[0m         \u001b[0;32mtry\u001b[0m\u001b[0;34m:\u001b[0m\u001b[0;34m\u001b[0m\u001b[0;34m\u001b[0m\u001b[0m\n\u001b[0;32m--> 542\u001b[0;31m             \u001b[0;32mreturn\u001b[0m \u001b[0mfuture\u001b[0m\u001b[0;34m.\u001b[0m\u001b[0mresult\u001b[0m\u001b[0;34m(\u001b[0m\u001b[0mtimeout\u001b[0m\u001b[0;34m=\u001b[0m\u001b[0mtimeout\u001b[0m\u001b[0;34m)\u001b[0m\u001b[0;34m\u001b[0m\u001b[0;34m\u001b[0m\u001b[0m\n\u001b[0m\u001b[1;32m    543\u001b[0m         \u001b[0;32mexcept\u001b[0m \u001b[0mCfTimeoutError\u001b[0m \u001b[0;32mas\u001b[0m \u001b[0me\u001b[0m\u001b[0;34m:\u001b[0m\u001b[0;34m\u001b[0m\u001b[0;34m\u001b[0m\u001b[0m\n\u001b[1;32m    544\u001b[0m             \u001b[0;32mraise\u001b[0m \u001b[0mTimeoutError\u001b[0m \u001b[0;32mfrom\u001b[0m \u001b[0me\u001b[0m\u001b[0;34m\u001b[0m\u001b[0;34m\u001b[0m\u001b[0m\n",
      "\u001b[0;32m/data01/people/liwei/anaconda3/envs/python36/lib/python3.6/concurrent/futures/_base.py\u001b[0m in \u001b[0;36mresult\u001b[0;34m(self, timeout)\u001b[0m\n\u001b[1;32m    425\u001b[0m                 \u001b[0;32mreturn\u001b[0m \u001b[0mself\u001b[0m\u001b[0;34m.\u001b[0m\u001b[0m__get_result\u001b[0m\u001b[0;34m(\u001b[0m\u001b[0;34m)\u001b[0m\u001b[0;34m\u001b[0m\u001b[0;34m\u001b[0m\u001b[0m\n\u001b[1;32m    426\u001b[0m \u001b[0;34m\u001b[0m\u001b[0m\n\u001b[0;32m--> 427\u001b[0;31m             \u001b[0mself\u001b[0m\u001b[0;34m.\u001b[0m\u001b[0m_condition\u001b[0m\u001b[0;34m.\u001b[0m\u001b[0mwait\u001b[0m\u001b[0;34m(\u001b[0m\u001b[0mtimeout\u001b[0m\u001b[0;34m)\u001b[0m\u001b[0;34m\u001b[0m\u001b[0;34m\u001b[0m\u001b[0m\n\u001b[0m\u001b[1;32m    428\u001b[0m \u001b[0;34m\u001b[0m\u001b[0m\n\u001b[1;32m    429\u001b[0m             \u001b[0;32mif\u001b[0m \u001b[0mself\u001b[0m\u001b[0;34m.\u001b[0m\u001b[0m_state\u001b[0m \u001b[0;32min\u001b[0m \u001b[0;34m[\u001b[0m\u001b[0mCANCELLED\u001b[0m\u001b[0;34m,\u001b[0m \u001b[0mCANCELLED_AND_NOTIFIED\u001b[0m\u001b[0;34m]\u001b[0m\u001b[0;34m:\u001b[0m\u001b[0;34m\u001b[0m\u001b[0;34m\u001b[0m\u001b[0m\n",
      "\u001b[0;32m/data01/people/liwei/anaconda3/envs/python36/lib/python3.6/threading.py\u001b[0m in \u001b[0;36mwait\u001b[0;34m(self, timeout)\u001b[0m\n\u001b[1;32m    293\u001b[0m         \u001b[0;32mtry\u001b[0m\u001b[0;34m:\u001b[0m    \u001b[0;31m# restore state no matter what (e.g., KeyboardInterrupt)\u001b[0m\u001b[0;34m\u001b[0m\u001b[0;34m\u001b[0m\u001b[0m\n\u001b[1;32m    294\u001b[0m             \u001b[0;32mif\u001b[0m \u001b[0mtimeout\u001b[0m \u001b[0;32mis\u001b[0m \u001b[0;32mNone\u001b[0m\u001b[0;34m:\u001b[0m\u001b[0;34m\u001b[0m\u001b[0;34m\u001b[0m\u001b[0m\n\u001b[0;32m--> 295\u001b[0;31m                 \u001b[0mwaiter\u001b[0m\u001b[0;34m.\u001b[0m\u001b[0macquire\u001b[0m\u001b[0;34m(\u001b[0m\u001b[0;34m)\u001b[0m\u001b[0;34m\u001b[0m\u001b[0;34m\u001b[0m\u001b[0m\n\u001b[0m\u001b[1;32m    296\u001b[0m                 \u001b[0mgotit\u001b[0m \u001b[0;34m=\u001b[0m \u001b[0;32mTrue\u001b[0m\u001b[0;34m\u001b[0m\u001b[0;34m\u001b[0m\u001b[0m\n\u001b[1;32m    297\u001b[0m             \u001b[0;32melse\u001b[0m\u001b[0;34m:\u001b[0m\u001b[0;34m\u001b[0m\u001b[0;34m\u001b[0m\u001b[0m\n",
      "\u001b[0;31mKeyboardInterrupt\u001b[0m: "
     ]
    }
   ],
   "source": [
    "Parallel(n_jobs=20)(delayed(SA_Save_u2)(date) for date in D)"
   ]
  }
 ],
 "metadata": {
  "kernelspec": {
   "display_name": "Python 3",
   "language": "python",
   "name": "python3"
  },
  "language_info": {
   "codemirror_mode": {
    "name": "ipython",
    "version": 3
   },
   "file_extension": ".py",
   "mimetype": "text/x-python",
   "name": "python",
   "nbconvert_exporter": "python",
   "pygments_lexer": "ipython3",
   "version": "3.6.13"
  }
 },
 "nbformat": 4,
 "nbformat_minor": 5
}
