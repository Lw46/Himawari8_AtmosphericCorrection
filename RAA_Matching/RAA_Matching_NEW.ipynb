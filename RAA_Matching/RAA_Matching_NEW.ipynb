{
 "cells": [
  {
   "cell_type": "code",
   "execution_count": 2,
   "metadata": {},
   "outputs": [],
   "source": [
    "import numpy as np\n",
    "import math\n",
    "import os\n",
    "import gdal\n",
    "import xarray as xr\n",
    "from skimage.measure import block_reduce\n",
    "from ftplib import FTP\n",
    "import subprocess\n",
    "import rioxarray\n",
    "import time as T\n",
    "import datetime\n",
    "import ephem\n",
    "import numpy.ma as ma\n",
    "import datetime as dt\n",
    "from joblib import Parallel, delayed\n",
    "\n",
    "def calc_sunpos(dtime,lat,lon):\n",
    "    sun = ephem.Sun()\n",
    "    obs = ephem.Observer()\n",
    "    obs.date = dtime\n",
    "    obs.lat = lat*math.pi/180.0\n",
    "    obs.long = lon*math.pi/180.0\n",
    "    sun.compute(obs)\n",
    "    return np.degrees(sun.az),90.0-np.degrees(sun.alt)\n",
    "\n",
    "\n",
    "class SGLI_L2_Downloader:\n",
    "    \n",
    "    def __init__ (self, User_ID , ProductName, Ver, Date , Tile , Obrit ,ParaVer, Target_path):\n",
    "        self.User_ID = User_ID\n",
    "        self.ProductName = ProductName\n",
    "        self.Ver = Ver\n",
    "        self.Date = Date\n",
    "        self.Tile = Tile\n",
    "        self.Obrit = Obrit\n",
    "        self.ParaVer = ParaVer\n",
    "        self.Target_path = Target_path\n",
    "        \n",
    "        \n",
    "    def path (self):\n",
    "        return '/standard/GCOM-C/GCOM-C.SGLI/L2.LAND.{}/{}/{}/{}/{}'.format(self.ProductName, self.Ver, self.Date[0:4], self.Date[4:6], self.Date[6:8])\n",
    "\n",
    "    def filename (self):\n",
    "        return 'GC1SG1_{}{}01D_T{}_L2SG_{}Q_{}00{}.h5'.format(self.Date, self.Obrit, self.Tile, self.ProductName, self.Ver, self.ParaVer)\n",
    "    \n",
    "    def login (self):\n",
    "        ftp_addr = 'ftp.gportal.jaxa.jp'\n",
    "        f = FTP(ftp_addr)\n",
    "        f.login(self.User_ID,'anonymous')\n",
    "        \n",
    "        return f\n",
    "    \n",
    "    def download (self, f):\n",
    "        remote_filepath = self.path()\n",
    "        f.cwd(remote_filepath)\n",
    "        list=f.nlst()\n",
    "        \n",
    "        bufsize=1024\n",
    "        if self.filename() in list:\n",
    "            data = open ('{}{}'.format(self.Target_path, self.filename()), 'wb')\n",
    "            filename = 'RETR ' + self.filename()\n",
    "            f.retrbinary(filename,data.write,bufsize)\n",
    "            return 'y'\n",
    "        else:\n",
    "            return 'n'\n",
    "    \n",
    "    def logout (self, f):\n",
    "        f.quit()\n",
    "    \n",
    "def reporjection_GEO(filename,Band,Target_path):\n",
    "    \n",
    "    #print(path)\n",
    "    p = subprocess.Popen('/data01/people/liwei/Data/GCOM-C_RSRF/SGLI_geo_map_linux.exe {} -d Geometry_data/{} -o {} -s 7.5'.format(filename,Band,Target_path[:-1]),shell=True)\n",
    "    p.communicate()\n",
    "    # subprocess.check_output('/data01/people/liwei/Data/GCOM-C_RSRF/SGLI_geo_map_linux.exe {} -d Geometry_data/{} -o {} -s 7.5'.format(filename,Band,Target_path[:-1]), shell=True) \n",
    "    \n",
    "def mkdir(path):\n",
    "    folder = os.path.exists(path) \n",
    "    if not folder:\n",
    "        os.makedirs(path)\n",
    "        \n",
    "    \n",
    "def SGLI_2_AHI_GEO(filepath,lat,lon):  \n",
    "    geotiff_da = rioxarray.open_rasterio(filepath)\n",
    "    data = geotiff_da.interp(x=lon,y=lat,method=\"nearest\")\n",
    "    if data != -32768:\n",
    "        data = data * 0.01\n",
    "        return data\n",
    "    else:\n",
    "        return np.nan\n",
    "def SGLI_2_AHI_TIME(filepath,lat,lon):\n",
    "    geotiff_da = rioxarray.open_rasterio(filepath)\n",
    "    data = geotiff_da.interp(x=lon,y=lat,method=\"nearest\")\n",
    "    if data != -32768.:\n",
    "        data = data * 0.001\n",
    "        return data\n",
    "    else:\n",
    "        return np.nan\n",
    "\n",
    "def download_tile(date,save_tile_path,tile):\n",
    "    g = SGLI_L2_Downloader(\n",
    "        'galiwei ' ,\n",
    "        'RSRF', \n",
    "        '3', \n",
    "         date , \n",
    "         tile, \n",
    "        'D' , \n",
    "        '1' ,\n",
    "         save_tile_path\n",
    "        )\n",
    "    f = g.login()\n",
    "    \n",
    "    if os.path.exists(save_tile_path + g.filename()):\n",
    "        return g.filename()\n",
    "    \n",
    "    else :\n",
    "        rc = g.download(f)\n",
    "        if rc == 'n':\n",
    "            g.logout(f)\n",
    "            return 'n'\n",
    "        else:\n",
    "            g.logout(f)\n",
    "            return g.filename()\n",
    "    \n",
    "def download_AHI(target_path , date, time, angle):\n",
    "    \n",
    "    date1 = date[0:6]\n",
    "    date2 = date\n",
    "    AHI_date = date2 + time\n",
    "    sza_file_name = '{}.sun.zth.fld.4km.bin.bz2'.format(AHI_date)\n",
    "    saa_file_name = '{}.sun.azm.fld.4km.bin.bz2'.format(AHI_date)\n",
    "    \n",
    "    \n",
    "    if angle == 'sza':\n",
    "        if os.path.exists(target_path + sza_file_name[:-4]):\n",
    "            return sza_file_name[:-4]\n",
    "    \n",
    "        else:\n",
    "            ftp = FTP()\n",
    "            ftp.connect('hmwr829gr.cr.chiba-u.ac.jp', 21)\n",
    "            ftp.login()\n",
    "            path = '/gridded/FD/V20190123/{}/4KM/{}/'.format(date1,date2)\n",
    "            ftp.cwd(path)\n",
    "            remote_list=ftp.nlst()\n",
    "            bufsize=1024*1024\n",
    "            if sza_file_name in remote_list:\n",
    "                data = open(target_path + sza_file_name,'wb')\n",
    "                filename='RETR '+ sza_file_name\n",
    "                ftp.retrbinary(filename,data.write,bufsize)\n",
    "                ftp.quit()\n",
    "\n",
    "                return sza_file_name[:-4]\n",
    "            else:\n",
    "#                 print('AHI NO DATA')\n",
    "                return None\n",
    "        \n",
    "    elif angle == 'saa':\n",
    "        if os.path.exists(target_path + saa_file_name[:-4]):\n",
    "            return saa_file_name[:-4]\n",
    "    \n",
    "        else:\n",
    "            ftp = FTP()\n",
    "            ftp.connect('hmwr829gr.cr.chiba-u.ac.jp', 21)\n",
    "            ftp.login()\n",
    "            path = '/gridded/FD/V20190123/{}/4KM/{}/'.format(date1,date2)\n",
    "            ftp.cwd(path)\n",
    "            remote_list=ftp.nlst()\n",
    "            bufsize=1024*1024\n",
    "            if saa_file_name in remote_list:\n",
    "                data = open(target_path + saa_file_name,'wb')\n",
    "                filename='RETR '+ saa_file_name\n",
    "                ftp.retrbinary(filename,data.write,bufsize)\n",
    "                ftp.quit()\n",
    "                return saa_file_name[:-4]\n",
    "            else:\n",
    "#                 print('AHI NO DATA')\n",
    "                return None\n",
    "    \n",
    "def Decompression(t,fn):\n",
    "    if os.path.exists('{}.bz2'.format(t + fn)):\n",
    "        p = subprocess.Popen('lbzip2 -d {}.bz2'.format(t + fn),shell=True)\n",
    "        p.communicate()\n",
    "        \n",
    "def ahi_lon_timeoffset(lon): \n",
    "    lon_interval = 15 \n",
    "    UTC_e_lon = lon_interval / 2 \n",
    "    timeoffset = math.ceil((lon - UTC_e_lon) / lon_interval) \n",
    "    return timeoffset \n",
    "        \n",
    "def Time_split(time):\n",
    "    YYYY = time.strftime('%Y')\n",
    "    MM = time.strftime('%m')\n",
    "    DD = time.strftime('%d')\n",
    "    HH = time.strftime('%H')\n",
    "    MIN = time.strftime('%M')\n",
    "    date = YYYY + MM + DD\n",
    "    return YYYY,MM,DD,HH,MIN,date\n",
    "\n",
    "# class AHI_angle:\n",
    "#     def __init__(self,date,lat,lon):\n",
    "#         self.date = date      \n",
    "#         self.lon = lon\n",
    "#         self.lat = lat\n",
    "        \n",
    "#     def read_angle_data(self):\n",
    "#         row_u_4KM = round((60 - self.lat)/0.04)\n",
    "#         col_l_4KM = round((self.lon - 85)/0.04)\n",
    "        \n",
    "        \n",
    "#         AHI_date = self.date[4:11]\n",
    "        \n",
    "#         sza_file_name = 'AHI_SZA_2020{}5.dat'.format(AHI_date)\n",
    "#         saa_file_name = 'AHI_SAA_2020{}5.dat'.format(AHI_date)\n",
    "        \n",
    "#         with open(SZA_PATH + sza_file_name,'rb') as fp:\n",
    "#             AHI_SZA = np.frombuffer(fp.read(),dtype='u2').reshape(3000,3000)[row_u_4KM , col_l_4KM] / 100\n",
    "        \n",
    "#         with open(SAA_PATH + saa_file_name,'rb') as fp:\n",
    "#             AHI_SAA = np.frombuffer(fp.read(),dtype='u2').reshape(3000,3000)[row_u_4KM , col_l_4KM] / 100\n",
    "        \n",
    "#         return AHI_SZA,AHI_SAA\n",
    "    \n",
    "    \n",
    "def lonlat2tileidx(latlon:tuple)->tuple:\n",
    "    # vertical pixel count in one tile, horizontal pixel count in one tile\n",
    "    lintile, coltile = 1200, 1200\n",
    "    # vertical tile count, horizontal tile count\n",
    "    vtilenum, htilenum = 18, 36\n",
    "    # [deg/pixel]\n",
    "    d = 180.0/lintile/vtilenum\n",
    "    # from S-pole to N-pole\n",
    "    NL = 180.0/d\n",
    "    NP0 = 2*np.round(180.0/d)\n",
    "    res1 = (90 - latlon[0])/d-0.5\n",
    "    V_idx = res1 // lintile\n",
    "    # Y_idx = res1 - V_idx * lintile\n",
    "    # GCOM-C use integer NPi\n",
    "    NPi = round(NP0*np.cos(np.deg2rad(latlon[0])))\n",
    "    res2 = latlon[1]*NPi/360 - 0.5 + NP0/2\n",
    "    H_idx = res2 // coltile\n",
    "    # X_idx = res2 - H_idx * coltile\n",
    "    return str(round(V_idx)).rjust(2,'0')  + str(round(H_idx)).rjust(2,'0') "
   ]
  },
  {
   "cell_type": "code",
   "execution_count": 3,
   "metadata": {},
   "outputs": [],
   "source": [
    "year = ['2020']\n",
    "\n",
    "\n",
    "MM = ['05','06']\n",
    "DD=['01','02','03','04','05','06','07','08','09','10',\\\n",
    "    '11','12','13','14','15','16','17','18','19','20',\\\n",
    "    '21','22','23','24','25','26','27','28','29','30',\\\n",
    "    '31']\n",
    "HH=['09','10','11']\n",
    "MIN=['00','10','20','30','40','50']\n",
    "\n",
    "band = ['Sensor_zenith_PL', 'Sensor_azimuth_PL','Obs_time_PL']\n",
    "\n",
    "\n",
    "MATCH_RESULT = []\n",
    "#Save path\n",
    "reporjection_file_path = '/data01/people/liwei/Data/GCOM-C_RSRF/reporjection/'\n",
    "tile_file_path = '/data01/people/liwei/Data/GCOM-C_RSRF/tile/'\n",
    "SZA_PATH = '/data01/GEO/INPUT/ANGLE/Solar_Zenith_Angle_u2/'\n",
    "SAA_PATH = '/data01/GEO/INPUT/ANGLE/Solar_Azimuth_Angle_u2/'\n",
    "\n",
    "VZA_PATH = '/data01/GEO/INPUT/ANGLE/Viewer_Zenith_Angle/AHI_VZA_10.dat'\n",
    "VAA_PATH = '/data01/GEO/INPUT/ANGLE/Viewer_Azimuth_Angle/AHI_VAA_10.dat'\n",
    "LAND_MASK_PATH = '/data01/GEO/INPUT/LAND_MASK/Landmask_10.dat'\n",
    "\n",
    "# AHI VZA/VAA Load\n",
    "with open(VZA_PATH,'rb') as fp:\n",
    "    AHI_VZA = np.frombuffer(fp.read(),dtype='u2').reshape(12000,12000) / 100\n",
    "with open(VAA_PATH,'rb') as fp:\n",
    "    AHI_VAA = np.frombuffer(fp.read(),dtype='u2').reshape(12000,12000) / 100\n",
    "\n",
    "with open(LAND_MASK_PATH,'rb') as fp:\n",
    "    LAND_MASK = np.frombuffer(fp.read(),dtype='u1').reshape(12000,12000).astype('bool')\n"
   ]
  },
  {
   "cell_type": "code",
   "execution_count": 4,
   "metadata": {},
   "outputs": [],
   "source": [
    "\n",
    "MASK_AHI = ma.array(data = AHI_VZA, mask = ~LAND_MASK, fill_value = np.nan).filled()\n",
    "PART1 = MASK_AHI[0:3000,:]\n",
    "PART2 = MASK_AHI[9000:,:]\n",
    "PART1_MASK_FULL = np.where(PART1>47,PART1,np.nan)\n",
    "PART1_MASK_FULL = np.where(PART1_MASK_FULL<68,PART1_MASK_FULL,np.nan)\n",
    "PART2_MASK_FULL = np.where(PART2>47,PART2,np.nan)\n",
    "PART2_MASK_FULL = np.where(PART2_MASK_FULL<68,PART2_MASK_FULL,np.nan)\n",
    "PART1_MASK_FULL = np.where(np.isnan(PART1_MASK_FULL),0,1)\n",
    "PART2_MASK_FULL = np.where(np.isnan(PART2_MASK_FULL),0,1)"
   ]
  },
  {
   "cell_type": "code",
   "execution_count": 4,
   "metadata": {
    "tags": []
   },
   "outputs": [
    {
     "ename": "NameError",
     "evalue": "name 'PART1_MASK' is not defined",
     "output_type": "error",
     "traceback": [
      "\u001b[0;31m---------------------------------------------------------------------------\u001b[0m",
      "\u001b[0;31mNameError\u001b[0m                                 Traceback (most recent call last)",
      "\u001b[0;32m<ipython-input-4-919d58dc69bd>\u001b[0m in \u001b[0;36m<module>\u001b[0;34m\u001b[0m\n\u001b[1;32m     11\u001b[0m \u001b[0mm\u001b[0m\u001b[0;34m.\u001b[0m\u001b[0mdrawmeridians\u001b[0m\u001b[0;34m(\u001b[0m\u001b[0mnp\u001b[0m\u001b[0;34m.\u001b[0m\u001b[0marange\u001b[0m\u001b[0;34m(\u001b[0m\u001b[0;36m85\u001b[0m\u001b[0;34m,\u001b[0m \u001b[0;36m206\u001b[0m\u001b[0;34m,\u001b[0m \u001b[0;36m30\u001b[0m\u001b[0;34m)\u001b[0m\u001b[0;34m,\u001b[0m \u001b[0mlabels\u001b[0m\u001b[0;34m=\u001b[0m\u001b[0;34m[\u001b[0m\u001b[0;36m0\u001b[0m\u001b[0;34m,\u001b[0m\u001b[0;36m0\u001b[0m\u001b[0;34m,\u001b[0m\u001b[0;36m0\u001b[0m\u001b[0;34m,\u001b[0m\u001b[0;36m1\u001b[0m\u001b[0;34m]\u001b[0m\u001b[0;34m,\u001b[0m \u001b[0mfontsize\u001b[0m\u001b[0;34m=\u001b[0m\u001b[0;36m30\u001b[0m\u001b[0;34m,\u001b[0m\u001b[0mlinewidth\u001b[0m\u001b[0;34m=\u001b[0m\u001b[0;36m0\u001b[0m\u001b[0;34m)\u001b[0m\u001b[0;34m\u001b[0m\u001b[0;34m\u001b[0m\u001b[0m\n\u001b[1;32m     12\u001b[0m \u001b[0;34m\u001b[0m\u001b[0m\n\u001b[0;32m---> 13\u001b[0;31m \u001b[0mm\u001b[0m\u001b[0;34m.\u001b[0m\u001b[0mimshow\u001b[0m\u001b[0;34m(\u001b[0m\u001b[0mPART1_MASK\u001b[0m\u001b[0;34m,\u001b[0m\u001b[0morigin\u001b[0m\u001b[0;34m=\u001b[0m\u001b[0;34m'upper'\u001b[0m\u001b[0;34m,\u001b[0m\u001b[0mcmap\u001b[0m \u001b[0;34m=\u001b[0m \u001b[0;34m'gray'\u001b[0m\u001b[0;34m,\u001b[0m\u001b[0minterpolation\u001b[0m \u001b[0;34m=\u001b[0m \u001b[0;32mNone\u001b[0m\u001b[0;34m)\u001b[0m\u001b[0;34m\u001b[0m\u001b[0;34m\u001b[0m\u001b[0m\n\u001b[0m\u001b[1;32m     14\u001b[0m \u001b[0mcb\u001b[0m \u001b[0;34m=\u001b[0m \u001b[0mm\u001b[0m\u001b[0;34m.\u001b[0m\u001b[0mcolorbar\u001b[0m\u001b[0;34m(\u001b[0m\u001b[0;34m)\u001b[0m\u001b[0;34m\u001b[0m\u001b[0;34m\u001b[0m\u001b[0m\n",
      "\u001b[0;31mNameError\u001b[0m: name 'PART1_MASK' is not defined"
     ]
    },
    {
     "data": {
      "image/png": "[encoded data removed]",
      "text/plain": [
       "<Figure size 1152x1152 with 1 Axes>"
      ]
     },
     "metadata": {},
     "output_type": "display_data"
    }
   ],
   "source": [
    "\n",
    "import matplotlib.pyplot as plt\n",
    "from mpl_toolkits.basemap import Basemap\n",
    "\n",
    "fig = plt.figure(figsize=(16,16))\n",
    "m = Basemap(projection='cyl', resolution='i',\n",
    "            llcrnrlat=30, urcrnrlat = 60,\n",
    "            llcrnrlon=85, urcrnrlon = 205)  \n",
    "\n",
    "m.drawcoastlines(linewidth=0.2,color='r')\n",
    "m.drawparallels(np.arange(30, 61, 30), labels=[1,0,0,0], fontsize=30,linewidth=0)\n",
    "m.drawmeridians(np.arange(85, 206, 30), labels=[0,0,0,1], fontsize=30,linewidth=0)\n",
    "\n",
    "m.imshow(PART1_MASK,origin='upper',cmap = 'gray',interpolation = None)\n",
    "cb = m.colorbar()"
   ]
  },
  {
   "cell_type": "code",
   "execution_count": 44,
   "metadata": {
    "collapsed": true,
    "jupyter": {
     "outputs_hidden": true,
     "source_hidden": true
    },
    "tags": []
   },
   "outputs": [
    {
     "data": {
      "image/png": "[encoded data removed]",
      "text/plain": [
       "<Figure size 1152x1152 with 2 Axes>"
      ]
     },
     "metadata": {
      "needs_background": "light"
     },
     "output_type": "display_data"
    }
   ],
   "source": [
    "fig = plt.figure(figsize=(16,16))\n",
    "m = Basemap(projection='cyl', resolution='i',\n",
    "            llcrnrlat=-60, urcrnrlat = -30,\n",
    "            llcrnrlon=85, urcrnrlon = 205)  \n",
    "\n",
    "m.drawcoastlines(linewidth=0.2)\n",
    "m.drawparallels(np.arange(-60, -29, 30), labels=[1,0,0,0], fontsize=30,linewidth=0)\n",
    "m.drawmeridians(np.arange(85, 206, 30), labels=[0,0,0,1], fontsize=30,linewidth=0)\n",
    "\n",
    "m.imshow(PART2_MASK,origin='upper',cmap = 'tab20c',interpolation = None)\n",
    "cb = m.colorbar()"
   ]
  },
  {
   "cell_type": "code",
   "execution_count": 5,
   "metadata": {},
   "outputs": [],
   "source": [
    "res = 0.01\n",
    "u_lat,d_lat = 60,30\n",
    "l_lon,r_lon = 85,205\n",
    "\n",
    "row_AHI = 3000\n",
    "col_AHI = 12000\n",
    "\n",
    "\n",
    "AHI_lat_FULL = np.linspace(60 - res/2 ,30 + res/2,row_AHI)\n",
    "AHI_lon_FULL = np.linspace(85 + res/2 ,205 - res/2,col_AHI)\n",
    "\n",
    "MATCH_RESULT = []\n",
    "TIME_MATCH = datetime.timedelta(minutes = 10)"
   ]
  },
  {
   "cell_type": "markdown",
   "metadata": {},
   "source": [
    "# TEST"
   ]
  },
  {
   "cell_type": "code",
   "execution_count": 23,
   "metadata": {},
   "outputs": [],
   "source": [
    "PART1_MASK = PART1_MASK_FULL[1600:1700,5800:6000]\n",
    "AHI_lat = AHI_lat_FULL[1400:1500]\n",
    "AHI_lon = AHI_lon_FULL[5800:6000]"
   ]
  },
  {
   "cell_type": "code",
   "execution_count": 25,
   "metadata": {},
   "outputs": [],
   "source": [
    "PART1_MASK = PART1_MASK_FULL\n",
    "AHI_lat = AHI_lat_FULL\n",
    "AHI_lon = AHI_lon_FULL"
   ]
  },
  {
   "cell_type": "code",
   "execution_count": 8,
   "metadata": {},
   "outputs": [],
   "source": [
    "class AHI_angle:\n",
    "    def __init__(self,date,lat,lon):\n",
    "        self.date = date      \n",
    "        self.lon = lon\n",
    "        self.lat = lat\n",
    "        \n",
    "    def read_angle_data(self):\n",
    "        row_u_4KM = round((60 - self.lat)/0.04)\n",
    "        col_l_4KM = round((self.lon - 85)/0.04)\n",
    "        \n",
    "        \n",
    "        AHI_date = self.date[4:11]\n",
    "        \n",
    "        sza_file_name = 'AHI_SZA_2020{}5.dat'.format(AHI_date)\n",
    "        saa_file_name = 'AHI_SAA_2020{}5.dat'.format(AHI_date)\n",
    "        \n",
    "        with open(SZA_PATH + sza_file_name,'rb') as fp:\n",
    "            AHI_SZA = np.frombuffer(fp.read(),dtype='u2').reshape(3000,3000)[row_u_4KM , col_l_4KM] / 100\n",
    "        \n",
    "        with open(SAA_PATH + saa_file_name,'rb') as fp:\n",
    "            AHI_SAA = np.frombuffer(fp.read(),dtype='u2').reshape(3000,3000)[row_u_4KM , col_l_4KM] / 100\n",
    "        \n",
    "        return AHI_SZA,AHI_SAA\n",
    "def SGLI_SA(h,_min,lat,lon):\n",
    "\n",
    "    d = datetime.datetime(int(YYYY),int(MM),int(DD),h,_min)\n",
    "    \n",
    "    SAA,SZA = calc_sunpos(d,lat,lon)\n",
    "    return SAA,SZA"
   ]
  },
  {
   "cell_type": "code",
   "execution_count": 9,
   "metadata": {},
   "outputs": [],
   "source": [
    "Tile_list = ['0324','0325','0326','0327','0328','0424','0425','0426','0427','0428','0525','0526','0527']\n",
    "def SGLI_Download_Reprojection(i):\n",
    "    \n",
    "    # SGLI 文件名\n",
    "    SGLI_tile_filename = 'GC1SG1_{}D01D_T{}_L2SG_RSRFQ_3001.h5'.format(date,Tile_list[i])\n",
    "    SGLI_VZA_filename = 'GC1SG1_{}D01D_T{}_L2SG_RSRFQ_3001_Sensor_zenith_PL.tif'.format(date,Tile_list[i])\n",
    "    SGLI_VAA_filename = 'GC1SG1_{}D01D_T{}_L2SG_RSRFQ_3001_Sensor_azimuth_PL.tif'.format(date,Tile_list[i])\n",
    "    SGLI_TIME_filename = 'GC1SG1_{}D01D_T{}_L2SG_RSRFQ_3001_Obs_time_PL.tif'.format(date,Tile_list[i])\n",
    "\n",
    "\n",
    "    # 下载SGLI并重投影\n",
    "\n",
    "    if not os.path.exists(tile_file_path + SGLI_tile_filename):\n",
    "        print('Start SGLI Download and Reporjection ' + SGLI_tile_filename)\n",
    "        fn = download_tile(date,tile_file_path,tile) \n",
    "        if fn == 'n':\n",
    "            return None\n",
    "    else:\n",
    "        if not os.path.exists(reporjection_file_path + SGLI_VZA_filename):\n",
    "            reporjection_GEO( tile_file_path+SGLI_tile_filename , 'Sensor_zenith_PL' , reporjection_file_path)\n",
    "        if not os.path.exists(reporjection_file_path + SGLI_VAA_filename):\n",
    "            reporjection_GEO( tile_file_path+SGLI_tile_filename , 'Sensor_azimuth_PL' , reporjection_file_path)\n",
    "        if not os.path.exists(reporjection_file_path + SGLI_TIME_filename):\n",
    "            reporjection_GEO( tile_file_path+SGLI_tile_filename , 'Obs_time_PL' , reporjection_file_path)\n",
    "                \n",
    "    # return SGLI_VZA_filename,SGLI_VAA_filename,SGLI_TIME_filename"
   ]
  },
  {
   "cell_type": "code",
   "execution_count": 10,
   "metadata": {},
   "outputs": [],
   "source": [
    "def Find_Matching(lat_idx,lon_idx):\n",
    "    if PART1_MASK[lat_idx,lon_idx] == 1:\n",
    "        # 获取该经纬度的Tile号\n",
    "        # print(lat_idx,lon_idx) \n",
    "        row_AHI = round((60 - AHI_lat[lat_idx])/0.01)\n",
    "        col_AHI = round((AHI_lon[lon_idx] - 85)/0.01)\n",
    "\n",
    "        AHI_VZA_PIXEL = AHI_VZA[row_AHI,col_AHI]\n",
    "        AHI_VAA_PIXEL = AHI_VAA[row_AHI,col_AHI]\n",
    "\n",
    "        tile = lonlat2tileidx([AHI_lat[lat_idx],AHI_lon[lon_idx]])\n",
    "        # print(tile) \n",
    "        # SGLI 文件名\n",
    "        SGLI_tile_filename = 'GC1SG1_{}D01D_T{}_L2SG_RSRFQ_3001.h5'.format(date,tile)\n",
    "        SGLI_VZA_filename = 'GC1SG1_{}D01D_T{}_L2SG_RSRFQ_3001_Sensor_zenith_PL.tif'.format(date,tile)\n",
    "        SGLI_VAA_filename = 'GC1SG1_{}D01D_T{}_L2SG_RSRFQ_3001_Sensor_azimuth_PL.tif'.format(date,tile)\n",
    "        SGLI_TIME_filename = 'GC1SG1_{}D01D_T{}_L2SG_RSRFQ_3001_Obs_time_PL.tif'.format(date,tile)\n",
    "\n",
    "        # 存在SGLI文件\n",
    "        if os.path.exists(tile_file_path + SGLI_tile_filename):\n",
    "\n",
    "            # 读取该像素经纬度SGLI的VZA和VAA\n",
    "            SGLI_VZA_PL = SGLI_2_AHI_GEO(reporjection_file_path + SGLI_VZA_filename,AHI_lat[lat_idx],AHI_lon[lon_idx])\n",
    "            SGLI_VAA_PL = SGLI_2_AHI_GEO(reporjection_file_path + SGLI_VAA_filename,AHI_lat[lat_idx],AHI_lon[lon_idx]) + 180\n",
    "            if not np.isnan(SGLI_VZA_PL) and not np.isnan(SGLI_VAA_PL):\n",
    "\n",
    "            # 计算该像素经纬度SGLI的SZA和SAA\n",
    "\n",
    "                SGLI_Obs_TIME = SGLI_2_AHI_TIME(reporjection_file_path + SGLI_TIME_filename,AHI_lat[lat_idx],AHI_lon[lon_idx])\n",
    "                SGLI_MIN = int(round(math.modf(SGLI_Obs_TIME)[0],3)*60)\n",
    "                SGLI_HH = int(math.modf(SGLI_Obs_TIME)[1])\n",
    "                SGLI_SAA_PL,SGLI_SZA_PL = SGLI_SA(SGLI_HH,SGLI_MIN,AHI_lat[lat_idx],AHI_lon[lon_idx])\n",
    "\n",
    "                # 读取SGLI观测时间 最接近的AHI观测时间\n",
    "                AHI_time = YYYY + MM + DD + str(SGLI_HH).rjust(2,'0')  + str(int(round(SGLI_MIN/10)))+'0'\n",
    "                # AHI_dtime = datetime.datetime.strptime('{}-{}-{} {}:{}'.format(YYYY,MM,DD,str(SGLI_HH),str(int(round(SGLI_MIN/10)))+'0'), '%Y-%m-%d %H:%M')\n",
    "                \n",
    "                # 读取AHI的SZA、SAA\n",
    "                AHI_SZA,AHI_SAA = AHI_angle(AHI_time,AHI_lat[lat_idx],AHI_lon[lon_idx]).read_angle_data()  \n",
    "\n",
    "                # print('AHI_VZA:{} SGLI_VZA:{}'.format(AHI_VZA_PIXEL,))\n",
    "                # print('AHI_VAA:{} SGLI_VAA:{}'.format(AHI_VAA_PIXEL,SGLI_VAA_PL.data[0]))\n",
    "                # print('AHI_SZA:{} SGLI_SZA:{}'.format(AHI_SZA,SGLI_SZA_PL))\n",
    "                # print('AHI_SAA:{} SGLI_SAA:{}'.format(AHI_SAA,SGLI_SAA_PL))\n",
    "                # print('AHI obs_time:{} SGLI obs_time:{}'.format(AHI_time[8:],str(SGLI_HH).rjust(2,'0') + str(SGLI_MIN)))\n",
    "                # print('\\n')\n",
    "                \n",
    "                \n",
    "                # Scattering_Angle = -cos(GEO_VZA) * cos(LEO_VZA) - cos(GEO_VAA - LEO_VAA) * sin(GEO_VZA) * sin(LEO_VZA)\n",
    "                Scattering_Angle = -math.cos(np.radians(AHI_VZA_PIXEL)) * math.cos(np.radians(SGLI_VZA_PL.data[0])) - math.cos(np.radians(AHI_VAA_PIXEL - SGLI_VAA_PL.data[0])) * math.sin(np.radians(AHI_VZA_PIXEL)) * math.sin(np.radians(SGLI_VZA_PL.data[0]))\n",
    "                \n",
    "                \n",
    "                \n",
    "                if Scattering_Angle != None :\n",
    "                    return np.degrees(np.arccos(Scattering_Angle)),[AHI_time[8:],str(SGLI_HH).rjust(2,'0') + str(SGLI_MIN)]\n",
    "                else :\n",
    "                    return np.nan,[]\n",
    "            else:\n",
    "                return np.nan,[]\n",
    "        else:\n",
    "            return np.nan,[]\n",
    "    else:        \n",
    "        return np.nan,[]\n"
   ]
  },
  {
   "cell_type": "code",
   "execution_count": null,
   "metadata": {
    "tags": []
   },
   "outputs": [
    {
     "name": "stdout",
     "output_type": "stream",
     "text": [
      "2020-01-12 00:00:00\n",
      "Download Finish\n",
      "Start Calculate Scattering Angle\n"
     ]
    }
   ],
   "source": [
    "date_start = '2020-01-12 00:00'\n",
    "date_end = '2020-01-12 23:50'\n",
    "date_t = dt.timedelta(days=1)\n",
    "date_s = dt.datetime.strptime(date_start, \"%Y-%m-%d %H:%M\")\n",
    "date_e = dt.datetime.strptime(date_end, \"%Y-%m-%d %H:%M\")\n",
    "date_time_now = date_s\n",
    "while date_time_now <= date_e:\n",
    "    start_time = T.time()\n",
    "    date_dl_str = date_time_now.strftime(\"%Y-%m-%d %H:%M\" )\n",
    "    YYYY,MM,DD,HH,MIN,date= Time_split(date_time_now)\n",
    "    print(date_time_now)\n",
    "    for t in range(len(Tile_list)):\n",
    "        SGLI_Download_Reprojection(t)\n",
    "    # Parallel(n_jobs=5)(delayed(SGLI_Download_Reprojection(i))(i) for i in range(len(Tile_list)))\n",
    "    print('Download Finish\\nStart Calculate Scattering Angle')       \n",
    "    RESULT = Parallel(n_jobs=60)(delayed(Find_Matching)(i,j) for i in range(3000) for j in range(12000))\n",
    "                \n",
    "\n",
    "    date_time_now = date_time_now + date_t"
   ]
  },
  {
   "cell_type": "code",
   "execution_count": null,
   "metadata": {},
   "outputs": [],
   "source": [
    "RESULT = np.array(RESULT)"
   ]
  },
  {
   "cell_type": "code",
   "execution_count": 137,
   "metadata": {},
   "outputs": [],
   "source": [
    "Scattering_Angle = RESULT[:,0].reshape(100,200)"
   ]
  },
  {
   "cell_type": "code",
   "execution_count": 142,
   "metadata": {},
   "outputs": [
    {
     "data": {
      "text/plain": [
       "array([[177.09024602, 177.04128375, 176.99644148, ..., 169.10735147,\n",
       "        169.05708057, 169.0146539 ],\n",
       "       [177.0652692 , 177.01636107, 176.97815166, ..., 169.0767924 ,\n",
       "        169.03629172, 168.99386589],\n",
       "       [177.03582799, 176.99804843, 176.95669799, ..., 169.05918045,\n",
       "        169.0154824 , 168.97305748],\n",
       "       ...,\n",
       "       [175.0683103 , 175.03527268, 174.98823102, ..., 167.17032041,\n",
       "        167.13236774, 167.08616259],\n",
       "       [175.05621941, 175.0162012 , 174.97422811, ..., 167.16273102,\n",
       "        167.12065351, 167.07097788],\n",
       "       [175.03301346, 174.99302093, 174.93902152, ..., 167.13457168,\n",
       "        167.09595061, 167.05387837]])"
      ]
     },
     "execution_count": 142,
     "metadata": {},
     "output_type": "execute_result"
    }
   ],
   "source": [
    "Scattering_Angle.astype(float)"
   ]
  },
  {
   "cell_type": "code",
   "execution_count": 147,
   "metadata": {},
   "outputs": [
    {
     "data": {
      "text/plain": [
       "<matplotlib.colorbar.Colorbar at 0x7fa7bd788320>"
      ]
     },
     "execution_count": 147,
     "metadata": {},
     "output_type": "execute_result"
    },
    {
     "data": {
      "image/png": "[encoded data removed]",
      "text/plain": [
       "<Figure size 432x288 with 2 Axes>"
      ]
     },
     "metadata": {
      "needs_background": "light"
     },
     "output_type": "display_data"
    }
   ],
   "source": [
    "plt.imshow(Scattering_Angle.astype(float),origin='upper',cmap = 'tab20c',interpolation = None)\n",
    "plt.colorbar()"
   ]
  },
  {
   "cell_type": "code",
   "execution_count": 145,
   "metadata": {},
   "outputs": [
    {
     "data": {
      "text/plain": [
       "<function matplotlib.pyplot.colorbar(mappable=None, cax=None, ax=None, **kw)>"
      ]
     },
     "execution_count": 145,
     "metadata": {},
     "output_type": "execute_result"
    },
    {
     "data": {
      "image/png": "[encoded data removed]",
      "text/plain": [
       "<Figure size 432x288 with 1 Axes>"
      ]
     },
     "metadata": {
      "needs_background": "light"
     },
     "output_type": "display_data"
    }
   ],
   "source": [
    "plt.imshow(PART1_MASK,origin='upper',cmap = 'gray',interpolation = None)\n",
    "plt.colorbar"
   ]
  },
  {
   "cell_type": "code",
   "execution_count": null,
   "metadata": {},
   "outputs": [],
   "source": [
    "PART1_MASK"
   ]
  },
  {
   "cell_type": "code",
   "execution_count": 23,
   "metadata": {},
   "outputs": [],
   "source": [
    "with open(\"{}_{}_PL.txt\".format(site_name,YYYY),\"w\") as f:\n",
    "    for line in MATCH_RESULT:\n",
    "        f.writelines('\\n'.join(line)) \n",
    "        f.writelines('\\n') "
   ]
  },
  {
   "cell_type": "code",
   "execution_count": 134,
   "metadata": {},
   "outputs": [
    {
     "data": {
      "text/plain": [
       "array([177.09024601689006, 177.04128374600694, 176.99644147606483, ...,\n",
       "       167.13457168232873, 167.09595060938975, 167.0538783746841],\n",
       "      dtype=object)"
      ]
     },
     "execution_count": 134,
     "metadata": {},
     "output_type": "execute_result"
    }
   ],
   "source": []
  },
  {
   "cell_type": "code",
   "execution_count": null,
   "metadata": {},
   "outputs": [],
   "source": []
  }
 ],
 "metadata": {
  "kernelspec": {
   "display_name": "Python 3",
   "language": "python",
   "name": "python3"
  },
  "language_info": {
   "codemirror_mode": {
    "name": "ipython",
    "version": 3
   },
   "file_extension": ".py",
   "mimetype": "text/x-python",
   "name": "python",
   "nbconvert_exporter": "python",
   "pygments_lexer": "ipython3",
   "version": "3.6.13"
  }
 },
 "nbformat": 4,
 "nbformat_minor": 4
}
