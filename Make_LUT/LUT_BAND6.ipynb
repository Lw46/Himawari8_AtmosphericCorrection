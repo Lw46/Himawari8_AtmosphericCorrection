{
 "cells": [
  {
   "cell_type": "code",
   "execution_count": 1,
   "metadata": {},
   "outputs": [],
   "source": [
    "import math as math\n",
    "import numpy as np\n",
    "from Py6S import *\n",
    "import time\n",
    "from numba import cuda\n",
    "from joblib import Parallel, delayed\n",
    "from scipy.interpolate import griddata,interpn\n",
    "\n",
    "sza = np.linspace(0,80,17)\n",
    "vza = np.linspace(0,80,17)\n",
    "water = np.linspace(0,7,8)\n",
    "ozone = np.linspace(0.2,0.4,5)\n",
    "#AL = np.linspace(0,4,5)\n",
    "AOT = np.array([0.01,0.05,0.1,0.15,0.2,0.3,0.4,0.6,0.8,1.0,1.5,2.0]) \n",
    "raa = np.linspace(0,180,19)\n",
    "#Aeropro = np.array([1,2,3,5,6])"
   ]
  },
  {
   "cell_type": "code",
   "execution_count": 2,
   "metadata": {},
   "outputs": [],
   "source": [
    "def ac_band6(In_water,In_AOT,In_sza,In_vza,In_raa):\n",
    "       \n",
    "    wl_band = \"/data/Projects/sixs_band6.csv\"\n",
    "    band = np.loadtxt(wl_band,delimiter=\",\")\n",
    "    \n",
    "    s = SixS()\n",
    "    s.atmos_profile = AtmosProfile.UserWaterAndOzone(water[In_water],0.3)\n",
    "    s.aero_profile = AeroProfile.PredefinedType(1)\n",
    "    s.aot550 = AOT[In_AOT]\n",
    "    s.wavelength = Wavelength(band[0,0],band[band.shape[0]-1,0],band[:,1])\n",
    "    s.altitudes.set_sensor_satellite_level()\n",
    "    s.altitudes.set_target_custom_altitude(0)\n",
    "    s.geometry = Geometry.User()\n",
    "    s.geometry.solar_z = sza[In_sza]\n",
    "    s.geometry.solar_a = raa[In_raa]\n",
    "    s.geometry.view_z = vza[In_vza]\n",
    "    s.geometry.view_a = 0\n",
    "    \n",
    "    s.atmos_corr = AtmosCorr.AtmosCorrLambertianFromReflectance(0.2)\n",
    "    s.run()\n",
    "    \n",
    "    \n",
    "    f1 = 1/(s.outputs.transmittance_total_scattering.total*s.outputs.transmittance_global_gas.total)\n",
    "    return(f1, s.outputs.coef_xb, s.outputs.coef_xc)\n",
    "    del s"
   ]
  },
  {
   "cell_type": "code",
   "execution_count": null,
   "metadata": {},
   "outputs": [],
   "source": [
    "start=time.time()\n",
    "AC_output = Parallel(n_jobs=32)(delayed(ac_band6)(In_water,In_AOT,In_sza,In_vza,In_raa) \\\n",
    "                                for In_water in range(len(water))\\\n",
    "                                for In_AOT in range (len(AOT))\\\n",
    "                                for In_sza in range (len(sza))\\\n",
    "                                for In_vza in range (len(vza))\\\n",
    "                                for In_raa in range (len(raa)))\n",
    "end=time.time()"
   ]
  },
  {
   "cell_type": "code",
   "execution_count": 5,
   "metadata": {},
   "outputs": [
    {
     "name": "stdout",
     "output_type": "stream",
     "text": [
      "time: 8532.0 secs, 142.2 mins,2.4 hours\n"
     ]
    }
   ],
   "source": [
    "T= end-start\n",
    "print('time: {:.1f} secs, {:.1f} mins,{:.1f} hours'.format(T,T/60,T/3600) )"
   ]
  },
  {
   "cell_type": "code",
   "execution_count": 6,
   "metadata": {},
   "outputs": [],
   "source": [
    "X=np.array(AC_output)\n",
    "X1=X[:,0]\n",
    "X2=X[:,1]\n",
    "X3=X[:,2]\n",
    "outfile1 = \"Continental_01_band6.csv\"\n",
    "outfile2 = \"Continental_02_band6.csv\"\n",
    "outfile3 = \"Continental_03_band6.csv\"\n",
    "np.savetxt(outfile1,X1,delimiter=',')\n",
    "np.savetxt(outfile2,X2,delimiter=',')\n",
    "np.savetxt(outfile3,X3,delimiter=',')"
   ]
  },
  {
   "cell_type": "code",
   "execution_count": null,
   "metadata": {},
   "outputs": [],
   "source": []
  }
 ],
 "metadata": {
  "kernelspec": {
   "display_name": "Python 3",
   "language": "python",
   "name": "python3"
  },
  "language_info": {
   "codemirror_mode": {
    "name": "ipython",
    "version": 3
   },
   "file_extension": ".py",
   "mimetype": "text/x-python",
   "name": "python",
   "nbconvert_exporter": "python",
   "pygments_lexer": "ipython3",
   "version": "3.8.3"
  }
 },
 "nbformat": 4,
 "nbformat_minor": 4
}
