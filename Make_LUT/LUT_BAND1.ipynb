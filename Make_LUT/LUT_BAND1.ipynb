{
 "cells": [
  {
   "cell_type": "code",
   "execution_count": 6,
   "metadata": {},
   "outputs": [],
   "source": [
    "import math as math\n",
    "import numpy as np\n",
    "from Py6S import *\n",
    "import time\n",
    "#from numba import cuda\n",
    "from joblib import Parallel, delayed\n",
    "from scipy.interpolate import griddata,interpn\n",
    "\n",
    "sza = np.linspace(0,80,17)\n",
    "vza = np.linspace(0,80,17)\n",
    "water = np.linspace(0,7,8)\n",
    "ozone = np.linspace(0.2,0.4,5)\n",
    "AL = np.linspace(0,8,5)\n",
    "AOT = np.array([0.01,0.05,0.1,0.15,0.2,0.3,0.4,0.6,0.8,1.0,1.5,2.0]) \n",
    "raa = np.linspace(0,180,19)\n",
    "Aeropro = np.array([1,2])\n",
    "\n",
    "def ac_band1(In_Aero,In_ozone,In_AOT,In_AL,In_sza,In_vza,In_raa):\n",
    "       \n",
    "    wl_band = \"/data/Projects/sixs_band1.csv\"\n",
    "    band = np.loadtxt(wl_band,delimiter=\",\")\n",
    "    \n",
    "    s = SixS()\n",
    "    s.atmos_profile = AtmosProfile.UserWaterAndOzone(3,ozone[In_ozone])\n",
    "    s.aero_profile = AeroProfile.PredefinedType(Aeropro[In_Aero])\n",
    "    s.aot550 = AOT[In_AOT]\n",
    "    s.wavelength = Wavelength(band[0,0],band[band.shape[0]-1,0],band[:,1])\n",
    "    s.altitudes.set_sensor_satellite_level()\n",
    "    s.altitudes.set_target_custom_altitude(AL[In_AL])\n",
    "    s.geometry = Geometry.User()\n",
    "    s.geometry.solar_z = sza[In_sza]\n",
    "    s.geometry.solar_a = raa[In_raa]\n",
    "    s.geometry.view_z = vza[In_vza]\n",
    "    s.geometry.view_a = 0\n",
    "    \n",
    "    s.atmos_corr = AtmosCorr.AtmosCorrLambertianFromReflectance(0.2)\n",
    "    s.run()\n",
    "    \n",
    "    \n",
    "    f1 = 1/(s.outputs.transmittance_total_scattering.total*s.outputs.transmittance_global_gas.total)\n",
    "    return(f1, s.outputs.coef_xb, s.outputs.coef_xc)\n",
    "    del s\n",
    "\n"
   ]
  },
  {
   "cell_type": "code",
   "execution_count": 7,
   "metadata": {},
   "outputs": [
    {
     "name": "stdout",
     "output_type": "stream",
     "text": [
      "time: 247928.1 secs, 4132.1 mins,68.9 hours\n"
     ]
    }
   ],
   "source": [
    "start=time.time()\n",
    "AC_output = Parallel(n_jobs=32)(delayed(ac_band1)(In_Aero,In_ozone,In_AOT,In_AL,In_sza,In_vza,In_raa) \\\n",
    "                                for In_Aero in range (len(Aeropro)) \\\n",
    "                                for In_ozone in range (len(ozone)) \\\n",
    "                                for In_AOT in range (len(AOT))\\\n",
    "                                for In_AL in range (len(AL))\\\n",
    "                                for In_sza in range (len(sza))\\\n",
    "                                for In_vza in range (len(vza))\\\n",
    "                                for In_raa in range (len(raa)))\n",
    "end=time.time()\n",
    "\n",
    "T= end-start\n",
    "print('time: {:.1f} secs, {:.1f} mins,{:.1f} hours'.format(T,T/60,T/3600) )\n",
    "\n"
   ]
  },
  {
   "cell_type": "code",
   "execution_count": 9,
   "metadata": {},
   "outputs": [],
   "source": [
    "X=np.array(AC_output)\n",
    "X1=X[:,0]\n",
    "X2=X[:,1]\n",
    "X3=X[:,2]\n",
    "outfile1 = \"01_band1.csv\"\n",
    "outfile2 = \"02_band1.csv\"\n",
    "outfile3 = \"03_band1.csv\"\n",
    "np.savetxt(outfile1,X1,delimiter=',')\n",
    "np.savetxt(outfile2,X2,delimiter=',')\n",
    "np.savetxt(outfile3,X3,delimiter=',')"
   ]
  },
  {
   "cell_type": "code",
   "execution_count": 7,
   "metadata": {},
   "outputs": [],
   "source": [
    "outfile1 = \"Continental_01_band3.csv\"\n",
    "outfile2 = \"Continental_02_band3.csv\"\n",
    "outfile3 = \"Continental_03_band3.csv\"\n",
    "X1 = np.loadtxt(outfile1,delimiter=\",\")\n",
    "X2 = np.loadtxt(outfile2,delimiter=\",\")\n",
    "X3 = np.loadtxt(outfile3,delimiter=\",\")"
   ]
  },
  {
   "cell_type": "code",
   "execution_count": 8,
   "metadata": {},
   "outputs": [],
   "source": [
    "X1_reshape=X1.reshape(8,5,12,17,17,19)\n",
    "X2_reshape=X2.reshape(8,5,12,17,17,19)\n",
    "X3_reshape=X3.reshape(8,5,12,17,17,19)"
   ]
  },
  {
   "cell_type": "code",
   "execution_count": 9,
   "metadata": {},
   "outputs": [],
   "source": [
    "xi,yi=np.ogrid[0:80:161j, 0:80:161j]"
   ]
  },
  {
   "cell_type": "code",
   "execution_count": 7,
   "metadata": {
    "jupyter": {
     "source_hidden": true
    }
   },
   "outputs": [],
   "source": [
    "def get_point():\n",
    "    A=[]\n",
    "    for i in range(len(vza)):\n",
    "        for j in range(len(sza)):\n",
    "            A.append(vza[i])\n",
    "            A.append(sza[j])\n",
    "    point=np.array(A).reshape(17*17,2)\n",
    "    return point"
   ]
  },
  {
   "cell_type": "code",
   "execution_count": 8,
   "metadata": {},
   "outputs": [],
   "source": [
    "def griddata_inter(X1,X2,X3,a,b,c,d):\n",
    "    X1_new_inter=[]\n",
    "    X2_new_inter=[]\n",
    "    X3_new_inter=[]\n",
    "    \n",
    "    X1_inter=X1[a,b,c,:,:,d].reshape(17*17,1)\n",
    "    X2_inter=X2[a,b,c,:,:,d].reshape(17*17,1)\n",
    "    X3_inter=X3[a,b,c,:,:,d].reshape(17*17,1)\n",
    "    \n",
    "    X1_new = griddata(point, X1_inter, (xi, yi), method='nearest')\n",
    "    X2_new = griddata(point, X2_inter, (xi, yi), method='nearest')\n",
    "    X3_new = griddata(point, X3_inter, (xi, yi), method='nearest')\n",
    "                \n",
    "    X1_new_inter.append(X1_new)\n",
    "    X2_new_inter.append(X2_new)\n",
    "    X3_new_inter.append(X3_new)\n",
    "    \n",
    "    return X1_new_inter,X2_new_inter,X3_new_inter"
   ]
  },
  {
   "cell_type": "code",
   "execution_count": 654,
   "metadata": {},
   "outputs": [],
   "source": [
    "point=get_point()"
   ]
  },
  {
   "cell_type": "code",
   "execution_count": 606,
   "metadata": {},
   "outputs": [],
   "source": [
    "output = Parallel(n_jobs=-1)(delayed(griddata_inter)(X1_reshape,X2_reshape,X3_reshape,a,b,c,d)\\\n",
    "                             for a in range(len(water)) \\\n",
    "                             for b in range(len(ozone)) \\\n",
    "                             for c in range(len(AOT)) \\\n",
    "                             for d in range(len(raa)))"
   ]
  },
  {
   "cell_type": "code",
   "execution_count": 607,
   "metadata": {},
   "outputs": [],
   "source": [
    "X1_new_inter_reshape=np.array(output)[:,0].reshape(8,5,12,19,161,161)\n",
    "X2_new_inter_reshape=np.array(output)[:,1].reshape(8,5,12,19,161,161)\n",
    "X3_new_inter_reshape=np.array(output)[:,2].reshape(8,5,12,19,161,161)"
   ]
  },
  {
   "cell_type": "code",
   "execution_count": 574,
   "metadata": {},
   "outputs": [],
   "source": [
    "sza_new = np.linspace(0,80,161)\n",
    "vza_new = np.linspace(0,80,161)"
   ]
  },
  {
   "cell_type": "code",
   "execution_count": 638,
   "metadata": {},
   "outputs": [],
   "source": [
    "points=(water,ozone,AOT,sza,vza,raa)"
   ]
  },
  {
   "cell_type": "code",
   "execution_count": 645,
   "metadata": {},
   "outputs": [],
   "source": [
    "x_v=np.array([0.35,0.245,1.5,67.9,41.4,17])"
   ]
  },
  {
   "cell_type": "code",
   "execution_count": 646,
   "metadata": {},
   "outputs": [],
   "source": [
    "res_1 = interpn(\n",
    "\tpoints,\n",
    "\tX1_reshape,x_v,\n",
    "\tfill_value=True,\n",
    "\tbounds_error=False,\n",
    "    method='linear')"
   ]
  },
  {
   "cell_type": "code",
   "execution_count": 647,
   "metadata": {},
   "outputs": [],
   "source": [
    "res_2 = interpn(\n",
    "\tpoints,\n",
    "\tX2_reshape,x_v,\n",
    "\tfill_value=True,\n",
    "\tbounds_error=False,\n",
    "    method='linear')"
   ]
  },
  {
   "cell_type": "code",
   "execution_count": 648,
   "metadata": {},
   "outputs": [],
   "source": [
    "res_3 = interpn(\n",
    "\tpoints,\n",
    "\tX3_reshape,x_v,\n",
    "\tfill_value=True,\n",
    "\tbounds_error=False,\n",
    "    method='linear')"
   ]
  },
  {
   "cell_type": "code",
   "execution_count": 649,
   "metadata": {},
   "outputs": [],
   "source": [
    "wl_band = \"/data/Projects/sixs_band3.csv\"\n",
    "band = np.loadtxt(wl_band,delimiter=\",\")\n",
    "    \n",
    "q = SixS()\n",
    "q.atmos_profile = AtmosProfile.UserWaterAndOzone(0.35,0.245)\n",
    "q.aero_profile = AeroProfile.PredefinedType(2)\n",
    "q.aot550 = 1.5\n",
    "q.wavelength = Wavelength(band[0,0],band[band.shape[0]-1,0],band[:,1])\n",
    "q.altitudes.set_sensor_satellite_level()\n",
    "q.altitudes.set_target_custom_altitude(0)\n",
    "q.geometry = Geometry.User()\n",
    "q.geometry.solar_z = 67.9\n",
    "q.geometry.solar_a = 17\n",
    "q.geometry.view_z = 41.4\n",
    "q.geometry.view_a = 0\n",
    "    \n",
    "q.atmos_corr = AtmosCorr.AtmosCorrLambertianFromReflectance(0.2)\n",
    "q.run()\n",
    "    \n",
    "    \n",
    "m1 = 1/(q.outputs.transmittance_total_scattering.total*q.outputs.transmittance_global_gas.total)\n"
   ]
  },
  {
   "cell_type": "code",
   "execution_count": 621,
   "metadata": {},
   "outputs": [],
   "source": []
  },
  {
   "cell_type": "code",
   "execution_count": 650,
   "metadata": {},
   "outputs": [],
   "source": [
    "Ref=0.4\n",
    "y = res_1*Ref-res_2\n",
    "TOC_inter=y/(1+res_3*y)\n",
    "y1 = m1*Ref-q.outputs.coef_xb\n",
    "TOC_6s=y1/(1+q.outputs.coef_xc*y1)"
   ]
  },
  {
   "cell_type": "code",
   "execution_count": 651,
   "metadata": {},
   "outputs": [
    {
     "data": {
      "text/plain": [
       "array([0.00529828])"
      ]
     },
     "execution_count": 651,
     "metadata": {},
     "output_type": "execute_result"
    }
   ],
   "source": [
    "TOC_inter-TOC_6s"
   ]
  },
  {
   "cell_type": "code",
   "execution_count": null,
   "metadata": {},
   "outputs": [],
   "source": []
  }
 ],
 "metadata": {
  "kernelspec": {
   "display_name": "Python 3",
   "language": "python",
   "name": "python3"
  },
  "language_info": {
   "codemirror_mode": {
    "name": "ipython",
    "version": 3
   },
   "file_extension": ".py",
   "mimetype": "text/x-python",
   "name": "python",
   "nbconvert_exporter": "python",
   "pygments_lexer": "ipython3",
   "version": "3.8.3"
  }
 },
 "nbformat": 4,
 "nbformat_minor": 4
}
